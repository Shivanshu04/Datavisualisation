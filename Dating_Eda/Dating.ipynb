{
 "cells": [
  {
   "cell_type": "code",
   "execution_count": 2,
   "metadata": {},
   "outputs": [],
   "source": [
    "import numpy as np\n",
    "import pandas as pd\n",
    "import seaborn as sns\n",
    "import os"
   ]
  },
  {
   "cell_type": "code",
   "execution_count": 3,
   "metadata": {},
   "outputs": [],
   "source": [
    "df=pd.read_csv(\"E:\\Datavisualisation\\Datavisualisation\\Dating_Eda\\Speed Dating Data.csv\")"
   ]
  },
  {
   "cell_type": "code",
   "execution_count": 4,
   "metadata": {},
   "outputs": [
    {
     "data": {
      "text/html": [
       "<div>\n",
       "<style scoped>\n",
       "    .dataframe tbody tr th:only-of-type {\n",
       "        vertical-align: middle;\n",
       "    }\n",
       "\n",
       "    .dataframe tbody tr th {\n",
       "        vertical-align: top;\n",
       "    }\n",
       "\n",
       "    .dataframe thead th {\n",
       "        text-align: right;\n",
       "    }\n",
       "</style>\n",
       "<table border=\"1\" class=\"dataframe\">\n",
       "  <thead>\n",
       "    <tr style=\"text-align: right;\">\n",
       "      <th></th>\n",
       "      <th>iid</th>\n",
       "      <th>id</th>\n",
       "      <th>gender</th>\n",
       "      <th>idg</th>\n",
       "      <th>condtn</th>\n",
       "      <th>wave</th>\n",
       "      <th>round</th>\n",
       "      <th>position</th>\n",
       "      <th>positin1</th>\n",
       "      <th>order</th>\n",
       "      <th>...</th>\n",
       "      <th>attr3_3</th>\n",
       "      <th>sinc3_3</th>\n",
       "      <th>intel3_3</th>\n",
       "      <th>fun3_3</th>\n",
       "      <th>amb3_3</th>\n",
       "      <th>attr5_3</th>\n",
       "      <th>sinc5_3</th>\n",
       "      <th>intel5_3</th>\n",
       "      <th>fun5_3</th>\n",
       "      <th>amb5_3</th>\n",
       "    </tr>\n",
       "  </thead>\n",
       "  <tbody>\n",
       "    <tr>\n",
       "      <th>0</th>\n",
       "      <td>1</td>\n",
       "      <td>1.0</td>\n",
       "      <td>0</td>\n",
       "      <td>1</td>\n",
       "      <td>1</td>\n",
       "      <td>1</td>\n",
       "      <td>10</td>\n",
       "      <td>7</td>\n",
       "      <td>NaN</td>\n",
       "      <td>4</td>\n",
       "      <td>...</td>\n",
       "      <td>5.0</td>\n",
       "      <td>7.0</td>\n",
       "      <td>7.0</td>\n",
       "      <td>7.0</td>\n",
       "      <td>7.0</td>\n",
       "      <td>NaN</td>\n",
       "      <td>NaN</td>\n",
       "      <td>NaN</td>\n",
       "      <td>NaN</td>\n",
       "      <td>NaN</td>\n",
       "    </tr>\n",
       "    <tr>\n",
       "      <th>1</th>\n",
       "      <td>1</td>\n",
       "      <td>1.0</td>\n",
       "      <td>0</td>\n",
       "      <td>1</td>\n",
       "      <td>1</td>\n",
       "      <td>1</td>\n",
       "      <td>10</td>\n",
       "      <td>7</td>\n",
       "      <td>NaN</td>\n",
       "      <td>3</td>\n",
       "      <td>...</td>\n",
       "      <td>5.0</td>\n",
       "      <td>7.0</td>\n",
       "      <td>7.0</td>\n",
       "      <td>7.0</td>\n",
       "      <td>7.0</td>\n",
       "      <td>NaN</td>\n",
       "      <td>NaN</td>\n",
       "      <td>NaN</td>\n",
       "      <td>NaN</td>\n",
       "      <td>NaN</td>\n",
       "    </tr>\n",
       "  </tbody>\n",
       "</table>\n",
       "<p>2 rows × 195 columns</p>\n",
       "</div>"
      ],
      "text/plain": [
       "   iid   id  gender  idg  condtn  wave  round  position  positin1  order  ...  \\\n",
       "0    1  1.0       0    1       1     1     10         7       NaN      4  ...   \n",
       "1    1  1.0       0    1       1     1     10         7       NaN      3  ...   \n",
       "\n",
       "   attr3_3  sinc3_3  intel3_3  fun3_3  amb3_3  attr5_3  sinc5_3  intel5_3  \\\n",
       "0      5.0      7.0       7.0     7.0     7.0      NaN      NaN       NaN   \n",
       "1      5.0      7.0       7.0     7.0     7.0      NaN      NaN       NaN   \n",
       "\n",
       "   fun5_3  amb5_3  \n",
       "0     NaN     NaN  \n",
       "1     NaN     NaN  \n",
       "\n",
       "[2 rows x 195 columns]"
      ]
     },
     "execution_count": 4,
     "metadata": {},
     "output_type": "execute_result"
    }
   ],
   "source": [
    "df.head(2)"
   ]
  },
  {
   "cell_type": "code",
   "execution_count": 5,
   "metadata": {},
   "outputs": [
    {
     "data": {
      "text/plain": [
       "(8378, 195)"
      ]
     },
     "execution_count": 5,
     "metadata": {},
     "output_type": "execute_result"
    }
   ],
   "source": [
    "df.shape"
   ]
  },
  {
   "cell_type": "code",
   "execution_count": 6,
   "metadata": {},
   "outputs": [
    {
     "name": "stdout",
     "output_type": "stream",
     "text": [
      "Requirement already satisfied: pandas-profiling in e:\\anaconda\\lib\\site-packages (3.6.6)\n",
      "Requirement already satisfied: ydata-profiling in e:\\anaconda\\lib\\site-packages (from pandas-profiling) (4.1.2)\n",
      "Requirement already satisfied: requests<2.29,>=2.24.0 in e:\\anaconda\\lib\\site-packages (from ydata-profiling->pandas-profiling) (2.25.1)\n",
      "Requirement already satisfied: pandas!=1.4.0,<1.6,>1.1 in e:\\anaconda\\lib\\site-packages (from ydata-profiling->pandas-profiling) (1.2.4)\n",
      "Requirement already satisfied: numpy<1.24,>=1.16.0 in e:\\anaconda\\lib\\site-packages (from ydata-profiling->pandas-profiling) (1.20.1)\n",
      "Requirement already satisfied: statsmodels<0.14,>=0.13.2 in e:\\anaconda\\lib\\site-packages (from ydata-profiling->pandas-profiling) (0.13.5)\n",
      "Requirement already satisfied: visions[type_image_path]==0.7.5 in e:\\anaconda\\lib\\site-packages (from ydata-profiling->pandas-profiling) (0.7.5)\n",
      "Requirement already satisfied: matplotlib<3.7,>=3.2 in e:\\anaconda\\lib\\site-packages (from ydata-profiling->pandas-profiling) (3.3.4)\n",
      "Requirement already satisfied: scipy<1.10,>=1.4.1 in e:\\anaconda\\lib\\site-packages (from ydata-profiling->pandas-profiling) (1.6.2)\n",
      "Requirement already satisfied: PyYAML<6.1,>=5.0.0 in e:\\anaconda\\lib\\site-packages (from ydata-profiling->pandas-profiling) (5.4.1)\n",
      "Requirement already satisfied: phik<0.13,>=0.11.1 in e:\\anaconda\\lib\\site-packages (from ydata-profiling->pandas-profiling) (0.12.3)\n",
      "Requirement already satisfied: jinja2<3.2,>=2.11.1 in e:\\anaconda\\lib\\site-packages (from ydata-profiling->pandas-profiling) (2.11.3)\n",
      "Requirement already satisfied: tqdm<4.65,>=4.48.2 in e:\\anaconda\\lib\\site-packages (from ydata-profiling->pandas-profiling) (4.59.0)\n",
      "Requirement already satisfied: htmlmin==0.1.12 in e:\\anaconda\\lib\\site-packages (from ydata-profiling->pandas-profiling) (0.1.12)\n",
      "Requirement already satisfied: seaborn<0.13,>=0.10.1 in e:\\anaconda\\lib\\site-packages (from ydata-profiling->pandas-profiling) (0.11.1)\n",
      "Requirement already satisfied: multimethod<1.10,>=1.4 in e:\\anaconda\\lib\\site-packages (from ydata-profiling->pandas-profiling) (1.9.1)\n",
      "Requirement already satisfied: imagehash==4.3.1 in e:\\anaconda\\lib\\site-packages (from ydata-profiling->pandas-profiling) (4.3.1)\n",
      "Requirement already satisfied: typeguard<2.14,>=2.13.2 in e:\\anaconda\\lib\\site-packages (from ydata-profiling->pandas-profiling) (2.13.3)\n",
      "Requirement already satisfied: pydantic<1.11,>=1.8.1 in e:\\anaconda\\lib\\site-packages (from ydata-profiling->pandas-profiling) (1.10.7)\n",
      "Requirement already satisfied: pillow in e:\\anaconda\\lib\\site-packages (from imagehash==4.3.1->ydata-profiling->pandas-profiling) (8.2.0)\n",
      "Requirement already satisfied: PyWavelets in e:\\anaconda\\lib\\site-packages (from imagehash==4.3.1->ydata-profiling->pandas-profiling) (1.1.1)\n",
      "Requirement already satisfied: attrs>=19.3.0 in e:\\anaconda\\lib\\site-packages (from visions[type_image_path]==0.7.5->ydata-profiling->pandas-profiling) (20.3.0)\n",
      "Requirement already satisfied: tangled-up-in-unicode>=0.0.4 in e:\\anaconda\\lib\\site-packages (from visions[type_image_path]==0.7.5->ydata-profiling->pandas-profiling) (0.2.0)\n",
      "Requirement already satisfied: networkx>=2.4 in e:\\anaconda\\lib\\site-packages (from visions[type_image_path]==0.7.5->ydata-profiling->pandas-profiling) (2.5)\n",
      "Requirement already satisfied: MarkupSafe>=0.23 in e:\\anaconda\\lib\\site-packages (from jinja2<3.2,>=2.11.1->ydata-profiling->pandas-profiling) (1.1.1)\n",
      "Requirement already satisfied: python-dateutil>=2.1 in e:\\anaconda\\lib\\site-packages (from matplotlib<3.7,>=3.2->ydata-profiling->pandas-profiling) (2.8.1)\n",
      "Requirement already satisfied: cycler>=0.10 in e:\\anaconda\\lib\\site-packages (from matplotlib<3.7,>=3.2->ydata-profiling->pandas-profiling) (0.10.0)\n",
      "Requirement already satisfied: kiwisolver>=1.0.1 in e:\\anaconda\\lib\\site-packages (from matplotlib<3.7,>=3.2->ydata-profiling->pandas-profiling) (1.3.1)\n",
      "Requirement already satisfied: pyparsing!=2.0.4,!=2.1.2,!=2.1.6,>=2.0.3 in e:\\anaconda\\lib\\site-packages (from matplotlib<3.7,>=3.2->ydata-profiling->pandas-profiling) (2.4.7)\n",
      "Requirement already satisfied: six in e:\\anaconda\\lib\\site-packages (from cycler>=0.10->matplotlib<3.7,>=3.2->ydata-profiling->pandas-profiling) (1.15.0)\n",
      "Requirement already satisfied: decorator>=4.3.0 in e:\\anaconda\\lib\\site-packages (from networkx>=2.4->visions[type_image_path]==0.7.5->ydata-profiling->pandas-profiling) (5.0.6)\n",
      "Requirement already satisfied: pytz>=2017.3 in e:\\anaconda\\lib\\site-packages (from pandas!=1.4.0,<1.6,>1.1->ydata-profiling->pandas-profiling) (2021.1)\n",
      "Requirement already satisfied: joblib>=0.14.1 in e:\\anaconda\\lib\\site-packages (from phik<0.13,>=0.11.1->ydata-profiling->pandas-profiling) (1.0.1)\n",
      "Requirement already satisfied: typing-extensions>=4.2.0 in e:\\anaconda\\lib\\site-packages (from pydantic<1.11,>=1.8.1->ydata-profiling->pandas-profiling) (4.5.0)\n",
      "Requirement already satisfied: idna<3,>=2.5 in e:\\anaconda\\lib\\site-packages (from requests<2.29,>=2.24.0->ydata-profiling->pandas-profiling) (2.10)\n",
      "Requirement already satisfied: urllib3<1.27,>=1.21.1 in e:\\anaconda\\lib\\site-packages (from requests<2.29,>=2.24.0->ydata-profiling->pandas-profiling) (1.26.4)\n",
      "Requirement already satisfied: certifi>=2017.4.17 in e:\\anaconda\\lib\\site-packages (from requests<2.29,>=2.24.0->ydata-profiling->pandas-profiling) (2020.12.5)\n",
      "Requirement already satisfied: chardet<5,>=3.0.2 in e:\\anaconda\\lib\\site-packages (from requests<2.29,>=2.24.0->ydata-profiling->pandas-profiling) (4.0.0)\n",
      "Requirement already satisfied: packaging>=21.3 in e:\\anaconda\\lib\\site-packages (from statsmodels<0.14,>=0.13.2->ydata-profiling->pandas-profiling) (23.1)\n",
      "Requirement already satisfied: patsy>=0.5.2 in e:\\anaconda\\lib\\site-packages (from statsmodels<0.14,>=0.13.2->ydata-profiling->pandas-profiling) (0.5.3)\n"
     ]
    }
   ],
   "source": [
    "!pip install pandas-profiling"
   ]
  },
  {
   "cell_type": "code",
   "execution_count": 7,
   "metadata": {},
   "outputs": [
    {
     "name": "stderr",
     "output_type": "stream",
     "text": [
      "<ipython-input-7-6a00893fb3e1>:1: DeprecationWarning: `import pandas_profiling` is going to be deprecated by April 1st. Please use `import ydata_profiling` instead.\n",
      "  import pandas_profiling\n"
     ]
    }
   ],
   "source": [
    "import pandas_profiling"
   ]
  },
  {
   "cell_type": "code",
   "execution_count": 8,
   "metadata": {},
   "outputs": [
    {
     "name": "stderr",
     "output_type": "stream",
     "text": [
      "Summarize dataset:  97%|█████████▋| 196/202 [00:20<00:00, 42.67it/s, Calculate auto correlation]"
     ]
    }
   ],
   "source": [
    "df.profile_report()\n"
   ]
  }
 ],
 "metadata": {
  "kernelspec": {
   "display_name": "Python 3",
   "language": "python",
   "name": "python3"
  },
  "language_info": {
   "codemirror_mode": {
    "name": "ipython",
    "version": 3
   },
   "file_extension": ".py",
   "mimetype": "text/x-python",
   "name": "python",
   "nbconvert_exporter": "python",
   "pygments_lexer": "ipython3",
   "version": "3.8.8"
  },
  "orig_nbformat": 4
 },
 "nbformat": 4,
 "nbformat_minor": 2
}
