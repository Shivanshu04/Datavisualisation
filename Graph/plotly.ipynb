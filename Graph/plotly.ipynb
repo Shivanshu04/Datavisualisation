{
 "cells": [
  {
   "cell_type": "code",
   "execution_count": 1,
   "metadata": {},
   "outputs": [
    {
     "data": {
      "text/html": [
       "        <script type=\"text/javascript\">\n",
       "        window.PlotlyConfig = {MathJaxConfig: 'local'};\n",
       "        if (window.MathJax && window.MathJax.Hub && window.MathJax.Hub.Config) {window.MathJax.Hub.Config({SVG: {font: \"STIX-Web\"}});}\n",
       "        if (typeof require !== 'undefined') {\n",
       "        require.undef(\"plotly\");\n",
       "        requirejs.config({\n",
       "            paths: {\n",
       "                'plotly': ['https://cdn.plot.ly/plotly-2.20.0.min']\n",
       "            }\n",
       "        });\n",
       "        require(['plotly'], function(Plotly) {\n",
       "            window._Plotly = Plotly;\n",
       "        });\n",
       "        }\n",
       "        </script>\n",
       "        "
      ]
     },
     "metadata": {},
     "output_type": "display_data"
    },
    {
     "data": {
      "text/html": [
       "        <script type=\"text/javascript\">\n",
       "        window.PlotlyConfig = {MathJaxConfig: 'local'};\n",
       "        if (window.MathJax && window.MathJax.Hub && window.MathJax.Hub.Config) {window.MathJax.Hub.Config({SVG: {font: \"STIX-Web\"}});}\n",
       "        if (typeof require !== 'undefined') {\n",
       "        require.undef(\"plotly\");\n",
       "        requirejs.config({\n",
       "            paths: {\n",
       "                'plotly': ['https://cdn.plot.ly/plotly-2.20.0.min']\n",
       "            }\n",
       "        });\n",
       "        require(['plotly'], function(Plotly) {\n",
       "            window._Plotly = Plotly;\n",
       "        });\n",
       "        }\n",
       "        </script>\n",
       "        "
      ]
     },
     "metadata": {},
     "output_type": "display_data"
    }
   ],
   "source": [
    "# Importing libraries\n",
    "import numpy as np\n",
    "import pandas as pd\n",
    "\n",
    "# plotly packages\n",
    "import plotly\n",
    "import cufflinks as cf\n",
    "from plotly.offline import download_plotlyjs, init_notebook_mode, plot, iplot\n",
    "\n",
    "init_notebook_mode(connected=True)\n",
    "cf.go_offline()"
   ]
  },
  {
   "cell_type": "code",
   "execution_count": 3,
   "metadata": {},
   "outputs": [
    {
     "data": {
      "text/html": [
       "<div>\n",
       "<style scoped>\n",
       "    .dataframe tbody tr th:only-of-type {\n",
       "        vertical-align: middle;\n",
       "    }\n",
       "\n",
       "    .dataframe tbody tr th {\n",
       "        vertical-align: top;\n",
       "    }\n",
       "\n",
       "    .dataframe thead th {\n",
       "        text-align: right;\n",
       "    }\n",
       "</style>\n",
       "<table border=\"1\" class=\"dataframe\">\n",
       "  <thead>\n",
       "    <tr style=\"text-align: right;\">\n",
       "      <th></th>\n",
       "      <th>A</th>\n",
       "      <th>B</th>\n",
       "      <th>C</th>\n",
       "      <th>D</th>\n",
       "    </tr>\n",
       "  </thead>\n",
       "  <tbody>\n",
       "    <tr>\n",
       "      <th>0</th>\n",
       "      <td>-1.487607</td>\n",
       "      <td>1.401875</td>\n",
       "      <td>-1.385599</td>\n",
       "      <td>-1.177224</td>\n",
       "    </tr>\n",
       "    <tr>\n",
       "      <th>1</th>\n",
       "      <td>-1.327097</td>\n",
       "      <td>0.123050</td>\n",
       "      <td>-1.719785</td>\n",
       "      <td>-0.291678</td>\n",
       "    </tr>\n",
       "    <tr>\n",
       "      <th>2</th>\n",
       "      <td>0.360438</td>\n",
       "      <td>-2.062160</td>\n",
       "      <td>1.574780</td>\n",
       "      <td>1.015850</td>\n",
       "    </tr>\n",
       "    <tr>\n",
       "      <th>3</th>\n",
       "      <td>-1.075506</td>\n",
       "      <td>0.631097</td>\n",
       "      <td>0.220877</td>\n",
       "      <td>-1.563270</td>\n",
       "    </tr>\n",
       "    <tr>\n",
       "      <th>4</th>\n",
       "      <td>0.381134</td>\n",
       "      <td>0.017478</td>\n",
       "      <td>1.404807</td>\n",
       "      <td>-1.188862</td>\n",
       "    </tr>\n",
       "  </tbody>\n",
       "</table>\n",
       "</div>"
      ],
      "text/plain": [
       "          A         B         C         D\n",
       "0 -1.487607  1.401875 -1.385599 -1.177224\n",
       "1 -1.327097  0.123050 -1.719785 -0.291678\n",
       "2  0.360438 -2.062160  1.574780  1.015850\n",
       "3 -1.075506  0.631097  0.220877 -1.563270\n",
       "4  0.381134  0.017478  1.404807 -1.188862"
      ]
     },
     "execution_count": 3,
     "metadata": {},
     "output_type": "execute_result"
    }
   ],
   "source": [
    "# Let's create a random data with numpy\n",
    "df = pd.DataFrame(np.random.randn(200, 4), columns='A B C D'.split())\n",
    "\n",
    "# check the data once\n",
    "df.head()"
   ]
  },
  {
   "cell_type": "code",
   "execution_count": 10,
   "metadata": {},
   "outputs": [],
   "source": [
    "# Let's create another data frame\n",
    "df2 = pd.DataFrame({'Category': ['A', 'B', 'C'], 'Values': [32, 50, 42]})"
   ]
  },
  {
   "cell_type": "code",
   "execution_count": 4,
   "metadata": {},
   "outputs": [
    {
     "data": {
      "text/plain": [
       "<AxesSubplot:>"
      ]
     },
     "execution_count": 4,
     "metadata": {},
     "output_type": "execute_result"
    },
    {
     "data": {
      "image/png": "[encoded data removed]",
      "text/plain": [
       "<Figure size 432x288 with 1 Axes>"
      ]
     },
     "metadata": {
      "needs_background": "light"
     },
     "output_type": "display_data"
    }
   ],
   "source": [
    "# Plotting randomly with matplotlib\n",
    "df.plot()"
   ]
  },
  {
   "cell_type": "code",
   "execution_count": 5,
   "metadata": {},
   "outputs": [
    {
     "data": {
      "application/vnd.plotly.v1+json": {
       "config": {
        "linkText": "Export to plot.ly",
        "plotlyServerURL": "https://plot.ly",
        "showLink": true
       },
       "data": [
        {
         "line": {
          "color": "rgba(255, 153, 51, 1.0)",
          "dash": "solid",
          "shape": "linear",
          "width": 1.3
         },
         "mode": "lines",
         "name": "A",
         "text": "",
         "type": "scatter",
         "x": [
          0,
          1,
          2,
          3,
          4,
          5,
          6,
          7,
          8,
          9,
          10,
          11,
          12,
          13,
          14,
          15,
          16,
          17,
          18,
          19,
          20,
          21,
          22,
          23,
          24,
          25,
          26,
          27,
          28,
          29,
          30,
          31,
          32,
          33,
          34,
          35,
          36,
          37,
          38,
          39,
          40,
          41,
          42,
          43,
          44,
          45,
          46,
          47,
          48,
          49,
          50,
          51,
          52,
          53,
          54,
          55,
          56,
          57,
          58,
          59,
          60,
          61,
          62,
          63,
          64,
          65,
          66,
          67,
          68,
          69,
          70,
          71,
          72,
          73,
          74,
          75,
          76,
          77,
          78,
          79,
          80,
          81,
          82,
          83,
          84,
          85,
          86,
          87,
          88,
          89,
          90,
          91,
          92,
          93,
          94,
          95,
          96,
          97,
          98,
          99,
          100,
          101,
          102,
          103,
          104,
          105,
          106,
          107,
          108,
          109,
          110,
          111,
          112,
          113,
          114,
          115,
          116,
          117,
          118,
          119,
          120,
          121,
          122,
          123,
          124,
          125,
          126,
          127,
          128,
          129,
          130,
          131,
          132,
          133,
          134,
          135,
          136,
          137,
          138,
          139,
          140,
          141,
          142,
          143,
          144,
          145,
          146,
          147,
          148,
          149,
          150,
          151,
          152,
          153,
          154,
          155,
          156,
          157,
          158,
          159,
          160,
          161,
          162,
          163,
          164,
          165,
          166,
          167,
          168,
          169,
          170,
          171,
          172,
          173,
          174,
          175,
          176,
          177,
          178,
          179,
          180,
          181,
          182,
          183,
          184,
          185,
          186,
          187,
          188,
          189,
          190,
          191,
          192,
          193,
          194,
          195,
          196,
          197,
          198,
          199
         ],
         "y": [
          -1.487606705268289,
          -1.3270966904104238,
          0.3604379283601886,
          -1.0755063445021371,
          0.3811337534773147,
          2.0641007329383485,
          -0.48203477848504866,
          -0.38832558174328935,
          1.7478672968117868,
          1.1158691106492418,
          0.2896935352623028,
          -0.3812217927690513,
          0.42123870859889845,
          1.8812870946781968,
          2.557404536964999,
          -0.7058476334484991,
          0.28569424203115323,
          0.24695939642219372,
          -0.6385715504663668,
          0.9026702831781179,
          2.298729565138558,
          0.11640944430966896,
          0.42767735280331637,
          0.33544870905998614,
          0.16811832161387877,
          -0.21121411331425205,
          0.5874308678366539,
          -1.1216357817595521,
          0.11255262014025855,
          1.1853522193052266,
          0.45797947718207993,
          0.06034425911595249,
          0.9711702720221174,
          -0.7824061933747677,
          0.6276524906327481,
          -1.0548261198142173,
          -1.0832514348502216,
          -0.36189322746518,
          0.643434169576394,
          0.4488595629144203,
          0.8061508090023473,
          -1.222979893598644,
          -0.6920946263116126,
          -1.2937441326912544,
          0.23876442953656232,
          -0.817684328749027,
          0.08369524837438268,
          0.13287413960379232,
          -0.2499943512909606,
          0.6636954943467446,
          -0.5280332499790815,
          -0.5398566815380538,
          -0.31918190307525746,
          2.254926925098105,
          -0.7632175571836918,
          -1.1048423421686462,
          1.1028289510008162,
          -1.2097544316232944,
          -1.1939998494256865,
          1.2253107286051743,
          0.031116092717685246,
          -0.7487543140223533,
          1.4274039877008702,
          -2.4152283125719656,
          0.8018374859983983,
          -0.652637162274179,
          -1.109773355409906,
          0.9421069223405514,
          0.9272547022786595,
          -2.0967011767857966,
          -0.9386686213866825,
          1.2712810659600504,
          0.6688989976815631,
          -1.538865098729885,
          0.7131115264494275,
          -0.6467904553989622,
          1.2822063664196233,
          -0.30066345972728864,
          0.5960304893962182,
          0.6082958314371802,
          -1.3267205129120214,
          0.8887344180865127,
          0.9487101456582948,
          1.208515049669603,
          -0.49564632045569046,
          -2.171379335945453,
          -0.5722068920663259,
          0.821728319864167,
          -0.4532924125120422,
          0.5176236846070436,
          1.074779233055591,
          -0.04980169881531574,
          -1.1325388535132843,
          -0.8340003699765887,
          0.4681608886840201,
          0.340074509311427,
          0.9532273672009145,
          -0.551300031728624,
          1.5019798360618883,
          2.0813328323766336,
          -1.8888588017436174,
          0.5527504926273384,
          -1.832394693910066,
          -0.1891939936596043,
          -0.1795525048751539,
          -0.41353587573206846,
          0.6119219622848441,
          0.3669411247956404,
          -1.656394643836909,
          0.6825827271960428,
          0.40978281154268725,
          -1.027348486216504,
          -0.8913232958653983,
          -2.176619637487184,
          1.6404497173622186,
          -1.1539800497331998,
          -2.6344933558902484,
          1.3269304883606206,
          -0.4686755309635699,
          0.15375555596251558,
          -0.003231518781125517,
          -2.5756810430242285,
          0.23191043239930428,
          -0.20325011510086552,
          -0.1262256677960052,
          -0.4306067892790383,
          2.223999933559132,
          -0.28481970484576097,
          0.041636347874112516,
          0.8363856899449069,
          -0.7190061049681735,
          -1.660586642755478,
          -0.8424461151634391,
          -1.3410654086417828,
          0.5173398539462267,
          -1.3712460727772473,
          -0.4467550562662734,
          0.9157433279770691,
          1.754416969372457,
          0.6747547564025815,
          0.6483259564379472,
          0.9589442722537845,
          -1.1404949913493048,
          -0.9607080724043362,
          -0.4758449423533752,
          -0.2995599393280748,
          -0.24888778174690462,
          0.15542907347123394,
          -1.2558919529016797,
          1.4884181758140078,
          -0.17569860858299177,
          1.225904563594473,
          1.1324490392969089,
          0.3835923409382287,
          1.9124939131151277,
          -0.47992141278970996,
          -0.17605511359007,
          0.2200553792256361,
          -0.45229522971198904,
          -1.8838923550993498,
          0.13315305673333974,
          -0.8266448326458588,
          1.2294707915972516,
          0.6778486167632689,
          -0.15856560330555253,
          1.0126681253705112,
          0.6806465776765602,
          -2.341158623582788,
          0.2755666236492162,
          -0.7172182469495813,
          0.7930105775209679,
          0.39568977405882394,
          1.528726412996672,
          0.24679536520261422,
          -0.46161608591743614,
          -0.41260788090652584,
          -0.9197333364273914,
          1.2672340572160545,
          -0.7680399463059111,
          0.20875650311460647,
          -0.8688520154587448,
          1.1871175195914496,
          0.4318475877039881,
          0.22291570222242593,
          1.912613011968483,
          -1.1895491534313078,
          -0.8601534520780754,
          -0.6884358071535207,
          1.6067100199942381,
          0.8869574010673043,
          2.2738448377759197,
          0.053238690773936066,
          -0.10165799243942343,
          -1.5322439587081917,
          1.4952390580885375,
          -0.3456678618511981,
          -0.09156509867611441,
          -1.7259238493479152,
          0.42627109535565494,
          0.13155584440661
         ]
        },
        {
         "line": {
          "color": "rgba(55, 128, 191, 1.0)",
          "dash": "solid",
          "shape": "linear",
          "width": 1.3
         },
         "mode": "lines",
         "name": "B",
         "text": "",
         "type": "scatter",
         "x": [
          0,
          1,
          2,
          3,
          4,
          5,
          6,
          7,
          8,
          9,
          10,
          11,
          12,
          13,
          14,
          15,
          16,
          17,
          18,
          19,
          20,
          21,
          22,
          23,
          24,
          25,
          26,
          27,
          28,
          29,
          30,
          31,
          32,
          33,
          34,
          35,
          36,
          37,
          38,
          39,
          40,
          41,
          42,
          43,
          44,
          45,
          46,
          47,
          48,
          49,
          50,
          51,
          52,
          53,
          54,
          55,
          56,
          57,
          58,
          59,
          60,
          61,
          62,
          63,
          64,
          65,
          66,
          67,
          68,
          69,
          70,
          71,
          72,
          73,
          74,
          75,
          76,
          77,
          78,
          79,
          80,
          81,
          82,
          83,
          84,
          85,
          86,
          87,
          88,
          89,
          90,
          91,
          92,
          93,
          94,
          95,
          96,
          97,
          98,
          99,
          100,
          101,
          102,
          103,
          104,
          105,
          106,
          107,
          108,
          109,
          110,
          111,
          112,
          113,
          114,
          115,
          116,
          117,
          118,
          119,
          120,
          121,
          122,
          123,
          124,
          125,
          126,
          127,
          128,
          129,
          130,
          131,
          132,
          133,
          134,
          135,
          136,
          137,
          138,
          139,
          140,
          141,
          142,
          143,
          144,
          145,
          146,
          147,
          148,
          149,
          150,
          151,
          152,
          153,
          154,
          155,
          156,
          157,
          158,
          159,
          160,
          161,
          162,
          163,
          164,
          165,
          166,
          167,
          168,
          169,
          170,
          171,
          172,
          173,
          174,
          175,
          176,
          177,
          178,
          179,
          180,
          181,
          182,
          183,
          184,
          185,
          186,
          187,
          188,
          189,
          190,
          191,
          192,
          193,
          194,
          195,
          196,
          197,
          198,
          199
         ],
         "y": [
          1.4018747311698432,
          0.12305038788003114,
          -2.0621604828169295,
          0.6310971788406574,
          0.017478005933253684,
          0.6964587848925091,
          0.6692142639756167,
          1.030659741046712,
          0.9596758077035872,
          -0.9164290079884374,
          -0.6446851483938009,
          -0.6116667373572493,
          1.7260305025206517,
          -0.2759506642155176,
          -0.3188067675342285,
          0.9549478759656118,
          0.4002068068348017,
          0.3618786329647358,
          -2.232852501779732,
          0.2634002979548043,
          -0.23434598180308425,
          0.44521962838237017,
          -1.8927127354319755,
          -1.3297540297781392,
          -0.07764797635478797,
          1.702839909849972,
          -1.0460649622342382,
          -0.23597238404268153,
          -1.3174204369042208,
          0.5712385004026206,
          -0.9397730609282275,
          1.244707443354532,
          -0.5536989612126252,
          0.6402166179463994,
          0.22426803921109695,
          -0.21264092848600558,
          -0.10993557287781922,
          -0.9819230417166805,
          0.6079360463127345,
          -0.6057679799690354,
          -1.1119745914173358,
          -1.560293807992332,
          -1.1987638460095538,
          0.4858277742131986,
          2.350569384291055,
          0.6151746971191706,
          0.3847879036524305,
          -0.40025360862732406,
          -0.2827464088764763,
          0.7732213376383255,
          -0.42574944193944025,
          -0.0977566524060275,
          -1.0460108459597866,
          -0.41906615486287035,
          -0.828081174470112,
          -1.5777766072475146,
          -1.751258971395327,
          -0.4577098650787121,
          -0.48384052874521427,
          0.6370632780928125,
          0.6135858592175875,
          -1.0524005004526487,
          -0.18939000452678795,
          1.4832097967972961,
          -1.4478718403622282,
          -1.175823620507187,
          -1.348720049032188,
          -0.840154268876634,
          0.16179821554044488,
          0.4215991235352048,
          -0.09304837280981533,
          1.0229402146371382,
          -0.6777075034485878,
          2.363547662269973,
          0.17517567510440044,
          -1.0142764458464555,
          0.769643017358293,
          -0.559782604130007,
          -0.09826200135677465,
          -2.19532344141647,
          -0.9028689610271179,
          -0.5641688540688159,
          0.0069344933942429516,
          1.771818416056886,
          -0.7042878205436063,
          -1.141511977610186,
          1.104695798124243,
          0.05504535578585138,
          -0.903445628111115,
          -1.0751312204194619,
          0.5433315622422493,
          -0.4816293656408814,
          0.4315047393038972,
          -0.13705156305918187,
          0.3792927120427439,
          -0.11521231565490844,
          -1.2704729596598132,
          -1.3483168965194472,
          -1.671616523024985,
          -0.1521424450157583,
          0.5440995446011344,
          -0.3718765369382678,
          -1.3965083041927662,
          2.526942966641223,
          2.239723475005572,
          -1.4859105355107327,
          1.9818013383576558,
          0.802989460671471,
          1.0303651079399383,
          2.3335949332225114,
          -2.2910087524718072,
          -1.1537515922644148,
          -1.3750319900867725,
          -1.6326060100061293,
          0.6645823180882093,
          1.4740851265119306,
          -0.7666063770492628,
          -0.5548089730982696,
          1.408417243841149,
          -0.4820681914552715,
          1.4701297681558765,
          0.27907719634906686,
          0.7102972508579796,
          -1.5217772011708037,
          0.010862325434475873,
          -0.016880069539919544,
          0.7993093349399368,
          1.015635996790291,
          -0.4474593226688298,
          0.7621086015075268,
          0.8856847020812305,
          1.2102974267836348,
          -1.5386477932819997,
          0.03834324809398329,
          -0.22576792002145568,
          1.0537342040776074,
          -1.3138277848469238,
          0.07049054804272177,
          0.4018169670712659,
          -0.2801832887276961,
          -0.5690121191476055,
          0.35598993442828114,
          -0.004734667011751212,
          0.33230256805073644,
          1.962345783467431,
          -0.2940856894796608,
          -0.1283389011930353,
          0.6168331074300294,
          0.7662626610879297,
          -1.7383020615197815,
          -1.2929174451479046,
          -2.096026957868482,
          0.42565821552001964,
          -0.5002591085547238,
          -0.919531712491247,
          -1.2964648092634155,
          -0.6962169438232568,
          0.03230857859249144,
          -0.529635964552918,
          2.0666298734833393,
          -0.17675252627642735,
          -1.0095191628490185,
          -0.5861082273681731,
          0.6937314493180352,
          0.9261375158887465,
          -1.1213803593314928,
          0.7213848051405207,
          0.3847080628723777,
          0.8894236002885328,
          1.6153335879826933,
          -1.0259748146661083,
          0.028568303126833148,
          0.2334580037219608,
          -2.1501354617090467,
          -0.9422006481662677,
          0.1444750455076689,
          1.0861237079967807,
          1.7201363417958033,
          2.0569115563677145,
          -1.381679208771417,
          -1.0351911302661752,
          1.5223278152050266,
          -0.23231343649555608,
          0.5412096716486152,
          -0.9721564299191358,
          -0.22792905301475427,
          -1.2773274724256982,
          0.8636612498925738,
          -1.2166122317481987,
          0.3507319275056264,
          -1.3101065387849253,
          1.037759945045999,
          1.9370197828161602,
          -2.516970783487686,
          0.10533441465097182,
          -1.9508940804635506,
          0.41530356237292915,
          0.17440382713054814,
          -2.0687853329702146,
          0.22323291262987086
         ]
        },
        {
         "line": {
          "color": "rgba(50, 171, 96, 1.0)",
          "dash": "solid",
          "shape": "linear",
          "width": 1.3
         },
         "mode": "lines",
         "name": "C",
         "text": "",
         "type": "scatter",
         "x": [
          0,
          1,
          2,
          3,
          4,
          5,
          6,
          7,
          8,
          9,
          10,
          11,
          12,
          13,
          14,
          15,
          16,
          17,
          18,
          19,
          20,
          21,
          22,
          23,
          24,
          25,
          26,
          27,
          28,
          29,
          30,
          31,
          32,
          33,
          34,
          35,
          36,
          37,
          38,
          39,
          40,
          41,
          42,
          43,
          44,
          45,
          46,
          47,
          48,
          49,
          50,
          51,
          52,
          53,
          54,
          55,
          56,
          57,
          58,
          59,
          60,
          61,
          62,
          63,
          64,
          65,
          66,
          67,
          68,
          69,
          70,
          71,
          72,
          73,
          74,
          75,
          76,
          77,
          78,
          79,
          80,
          81,
          82,
          83,
          84,
          85,
          86,
          87,
          88,
          89,
          90,
          91,
          92,
          93,
          94,
          95,
          96,
          97,
          98,
          99,
          100,
          101,
          102,
          103,
          104,
          105,
          106,
          107,
          108,
          109,
          110,
          111,
          112,
          113,
          114,
          115,
          116,
          117,
          118,
          119,
          120,
          121,
          122,
          123,
          124,
          125,
          126,
          127,
          128,
          129,
          130,
          131,
          132,
          133,
          134,
          135,
          136,
          137,
          138,
          139,
          140,
          141,
          142,
          143,
          144,
          145,
          146,
          147,
          148,
          149,
          150,
          151,
          152,
          153,
          154,
          155,
          156,
          157,
          158,
          159,
          160,
          161,
          162,
          163,
          164,
          165,
          166,
          167,
          168,
          169,
          170,
          171,
          172,
          173,
          174,
          175,
          176,
          177,
          178,
          179,
          180,
          181,
          182,
          183,
          184,
          185,
          186,
          187,
          188,
          189,
          190,
          191,
          192,
          193,
          194,
          195,
          196,
          197,
          198,
          199
         ],
         "y": [
          -1.385599006792901,
          -1.7197849763534634,
          1.5747803144791424,
          0.22087703915493273,
          1.4048072889623526,
          -0.17203220259412677,
          -0.5478221068929772,
          -0.2571036482455168,
          0.83526256911748,
          0.7295109671879325,
          -0.41892914647460383,
          0.5088431770608817,
          -0.545965724792688,
          -0.33100748483810266,
          0.5220780822294445,
          0.6690441411444692,
          0.1826733430427206,
          -0.877121920622054,
          1.4235543935292008,
          -0.4536467130462135,
          1.0891053014432,
          -1.2316562978392696,
          -0.45039797539149595,
          -0.0161623193476018,
          1.860653210388855,
          -1.1352232694440099,
          -0.35024596573976224,
          -0.4969335567373902,
          -0.9680259684720534,
          -2.0944192443697127,
          0.3281146356341243,
          1.1879230963728453,
          1.3133835432347751,
          -1.1331241858228536,
          -0.09964269383325358,
          -0.5670593921026623,
          0.8948329179593418,
          1.1473984299795974,
          1.2019927205435548,
          0.377575496595243,
          0.17651537132907977,
          -0.9499283412600837,
          0.3985873061898483,
          -0.2524510144042869,
          -0.7274605524449378,
          -0.6095669119492346,
          -0.3245202544534693,
          1.3148691761801465,
          2.3358141956226626,
          -2.4601472909133326,
          0.04654499723271527,
          -1.251597920803092,
          0.4749353557787959,
          -0.9206748732515008,
          0.5162827131466176,
          -0.11699896548752016,
          2.3022622170092335,
          -0.7012675941209484,
          -0.7283969714507058,
          -0.5794746944179315,
          1.3437176475788333,
          0.4982669792199907,
          1.6867823314492179,
          0.08172912875324927,
          -0.6006538105463247,
          -0.43966473077939855,
          -1.3508327599279302,
          -1.829926992179897,
          -1.380602559476269,
          0.48240676857510556,
          0.6149002921105139,
          -0.7388773475762256,
          -0.8841095457737844,
          -0.1751299312881325,
          1.9446554133871992,
          -1.3324126706554342,
          -0.7096742342791013,
          -0.7437240018932815,
          0.6602416333763232,
          1.0176727193067967,
          -0.5524680901737848,
          1.1434468620574527,
          -0.7734307039891627,
          0.8965056286011309,
          1.402017062407769,
          0.4359154222512774,
          -0.46816508376559096,
          0.756437547431865,
          -0.6164987704692465,
          1.6184273032708156,
          1.426303919872584,
          -0.04161209514211454,
          -1.2337965632148633,
          -0.4566251877811787,
          -0.46946123502120585,
          1.0609360887290722,
          1.2621015619841527,
          -2.608318114488203,
          -1.582361286280856,
          -0.19499682075667363,
          -1.1941369375655286,
          -0.16554845498734888,
          0.5808738594570794,
          -0.04912295224661493,
          -1.5715157223821186,
          -0.33908747985349375,
          0.8681334488613784,
          0.062217931439810636,
          1.6600980719595209,
          1.7562201370827581,
          -1.477554922665295,
          1.7784643352940093,
          -0.8766644487453403,
          0.4943916309762949,
          -1.1385149753495707,
          -1.464514833807233,
          0.7357726123676097,
          0.8914016028258562,
          -1.235418381474018,
          -1.4409955120477786,
          0.7398610992391563,
          -0.7271814181366715,
          -0.8838695184812071,
          -1.1023952000272523,
          -0.15720574930360842,
          1.4282908181988654,
          0.5904130272118258,
          -0.07924866949652917,
          0.0781557145444214,
          0.37445087591831755,
          0.4475896155422568,
          0.3960079883083532,
          1.6476893349703128,
          0.1888916760581893,
          -1.6642468434525177,
          0.09243685179805267,
          1.5836932100497305,
          0.5743594032105762,
          0.03655750426161463,
          -1.1562603100372923,
          -0.8192253115775014,
          1.4436569936532557,
          -0.5569729435030032,
          1.4885027933719073,
          -0.96239395711921,
          2.2128831421862385,
          0.8744271022669069,
          1.2847015649907108,
          0.8597138952645841,
          1.3882958689629683,
          0.6317076676641963,
          0.3269075353602081,
          1.5429071621257286,
          0.10130068377807228,
          1.1542432160598814,
          1.2531358402810988,
          0.26275494358920176,
          2.3852891071003444,
          -0.15953470284019589,
          0.03506333586369161,
          -2.0038030260199893,
          1.2204534600595491,
          1.6361359683276138,
          1.3906239181656421,
          -0.786111210670228,
          1.6100752036876445,
          0.03302995073857356,
          -0.8284028418337049,
          0.5948824971381954,
          -0.7608389414479757,
          -0.6195093333879186,
          -0.4068393830343923,
          -1.045332947511054,
          0.31599560693055906,
          0.5296629922202261,
          2.357279848791362,
          0.2951797311121355,
          1.32057871574306,
          1.5040484903494704,
          -0.1706849753486248,
          0.024985678840708552,
          -1.1421040299779,
          -1.2497631015024637,
          0.8571861420272623,
          -1.1899007184407737,
          -0.7591368609865685,
          0.24752714068101198,
          0.4181528153753166,
          -1.4676367453008217,
          -0.1199537913166694,
          0.6450542149457716,
          0.07065090370870525,
          -0.9288093514416575,
          -0.13150670679188203,
          -1.2885479320103321,
          0.4012364046547924,
          0.1977656121095965,
          0.06949039869264667,
          0.6564605469013881,
          -1.2731433898640176
         ]
        },
        {
         "line": {
          "color": "rgba(128, 0, 128, 1.0)",
          "dash": "solid",
          "shape": "linear",
          "width": 1.3
         },
         "mode": "lines",
         "name": "D",
         "text": "",
         "type": "scatter",
         "x": [
          0,
          1,
          2,
          3,
          4,
          5,
          6,
          7,
          8,
          9,
          10,
          11,
          12,
          13,
          14,
          15,
          16,
          17,
          18,
          19,
          20,
          21,
          22,
          23,
          24,
          25,
          26,
          27,
          28,
          29,
          30,
          31,
          32,
          33,
          34,
          35,
          36,
          37,
          38,
          39,
          40,
          41,
          42,
          43,
          44,
          45,
          46,
          47,
          48,
          49,
          50,
          51,
          52,
          53,
          54,
          55,
          56,
          57,
          58,
          59,
          60,
          61,
          62,
          63,
          64,
          65,
          66,
          67,
          68,
          69,
          70,
          71,
          72,
          73,
          74,
          75,
          76,
          77,
          78,
          79,
          80,
          81,
          82,
          83,
          84,
          85,
          86,
          87,
          88,
          89,
          90,
          91,
          92,
          93,
          94,
          95,
          96,
          97,
          98,
          99,
          100,
          101,
          102,
          103,
          104,
          105,
          106,
          107,
          108,
          109,
          110,
          111,
          112,
          113,
          114,
          115,
          116,
          117,
          118,
          119,
          120,
          121,
          122,
          123,
          124,
          125,
          126,
          127,
          128,
          129,
          130,
          131,
          132,
          133,
          134,
          135,
          136,
          137,
          138,
          139,
          140,
          141,
          142,
          143,
          144,
          145,
          146,
          147,
          148,
          149,
          150,
          151,
          152,
          153,
          154,
          155,
          156,
          157,
          158,
          159,
          160,
          161,
          162,
          163,
          164,
          165,
          166,
          167,
          168,
          169,
          170,
          171,
          172,
          173,
          174,
          175,
          176,
          177,
          178,
          179,
          180,
          181,
          182,
          183,
          184,
          185,
          186,
          187,
          188,
          189,
          190,
          191,
          192,
          193,
          194,
          195,
          196,
          197,
          198,
          199
         ],
         "y": [
          -1.177223911481873,
          -0.29167796775702576,
          1.015849711093481,
          -1.5632697221999952,
          -1.188862087198042,
          0.9118286507428603,
          0.12004560260873919,
          0.30615185664214467,
          0.4068585213345728,
          0.04788357105892197,
          -1.0730744655289608,
          1.3627181384613922,
          -1.429905874078411,
          0.005056987583926655,
          1.7093995505715804,
          -0.6547662540003706,
          0.975230348312139,
          1.2943210344228249,
          1.3860015048138674,
          0.26933783574740583,
          -1.6818354559214377,
          0.5699527191444935,
          -0.8085576249715936,
          -0.30855970637491215,
          1.0076428429125286,
          0.03258793879293975,
          -0.1975471792747596,
          0.7032660669527372,
          0.5550963921924533,
          -0.4073803611435891,
          -1.495035808332509,
          0.10189101243872417,
          1.326782882883116,
          0.8887114620766801,
          0.8506718335258759,
          0.37715963477045467,
          -0.09406536631961311,
          0.7672394649639005,
          0.12414422210757521,
          -0.07054576801104318,
          -0.7490828162425152,
          1.0054685383488922,
          -0.32622398977440087,
          -1.7293427744766128,
          -0.17893314214196054,
          -0.6445329057740592,
          -2.1296429270807975,
          -0.849517163538628,
          1.346157652658771,
          -1.760483167451817,
          -1.2043739899155788,
          0.012432714521647131,
          -0.5149239544670113,
          0.477902236056113,
          -0.0871448110503587,
          0.1111291108088189,
          0.7600152695109311,
          0.4339035143438705,
          -0.5098427020312968,
          0.05778112734588025,
          0.2592907264569348,
          -0.4210044625954527,
          2.088556853181352,
          0.9036632920259653,
          -0.2339117092894673,
          -0.3283329237014898,
          0.9504697375545578,
          0.30149118020264176,
          -1.2077984172690528,
          0.24562709321626397,
          -0.23104901421521776,
          0.12598659746766855,
          -0.9235899921737932,
          0.054668107938544215,
          -0.014656363906992367,
          0.32718710570218534,
          -1.1048488430705672,
          0.9472652945157712,
          0.9673888696845052,
          -0.6351085093895855,
          -0.32860774250628555,
          -0.3032229538724417,
          1.9316556397154276,
          0.3437554977162938,
          -0.44925077282208825,
          0.2071776605585226,
          -0.1384549643318921,
          -0.588761118349195,
          0.3835924129475016,
          1.0443082403299997,
          0.5646124203256961,
          -1.1669441299638657,
          1.471651864712656,
          0.5571573781873396,
          1.1806318077196802,
          -0.364457546178787,
          0.7942703611158273,
          -0.8766095764428595,
          -0.6739234543957282,
          0.7020962615139723,
          1.9466313970415234,
          1.4033181559817107,
          0.8817067103269239,
          -0.636142069992607,
          0.5096996225073084,
          -1.0449015238868775,
          -1.3516362391876686,
          1.072760938487999,
          0.04561623114174906,
          -2.197726838718576,
          0.5895180636953125,
          0.7666930968501002,
          0.573446272540947,
          -0.049570518667105885,
          -0.2450651358718775,
          1.4984801536243355,
          -0.08989543973475861,
          1.3256954118636977,
          -0.6787356172302887,
          -0.20663840349902926,
          -0.07463448099353537,
          0.43653254030779626,
          2.143472102908509,
          0.8336845443896479,
          0.4705105240557236,
          -2.4206897448854976,
          -0.19850309445539632,
          1.940226431162549,
          0.6669746583084654,
          -0.10340935468679296,
          0.8995897385012287,
          -0.1453724997837296,
          0.0013701891805882745,
          1.2021739796363846,
          0.7076958539621563,
          0.9301447513092584,
          0.489618944863697,
          -0.1871095092808642,
          -0.049199581972393394,
          -0.15116514687392069,
          -0.6669480483173831,
          0.04042967861504227,
          -0.44420919384158947,
          0.09154553007254254,
          0.21014133133904156,
          0.10870218345725416,
          2.230711246395308,
          0.32910321870848624,
          1.4584367024467773,
          0.24551339739498768,
          -1.1377108717141038,
          -0.25791244722761,
          0.5275870565785041,
          0.8607420449542655,
          -1.649911422842504,
          0.9773201324784074,
          0.06855977558782761,
          -0.39317571645592336,
          1.818787409656117,
          0.16000823783392648,
          -1.2434611238988615,
          0.511081134462931,
          1.587383860427019,
          0.3081870018514402,
          0.14567651154065986,
          -0.741600184777107,
          -0.21620988781502093,
          0.9098313234674152,
          0.9025932096658122,
          -0.5205059023524584,
          -0.07305715958546434,
          -0.15760821204976852,
          0.07037745154270833,
          -0.11504472818390368,
          0.0756585617735883,
          1.5536647405290667,
          0.23616705043470598,
          1.5820259289264258,
          3.273371398867746,
          -1.5075772265477676,
          0.26972986831556195,
          0.02721656626759725,
          0.10409688610774594,
          -1.023971521658838,
          0.22308365980777248,
          -1.0065375173423037,
          0.7714284121531372,
          -0.5531778649396925,
          1.3759535558272362,
          -1.0592605355498366,
          -1.0261547728518359,
          0.8240680302338254,
          1.347899630394395,
          -0.5324076283811398,
          -0.023191462426795078,
          -1.1087538888567978,
          0.16562106697546275,
          -0.7853546209802792,
          -1.8334126140374971,
          -0.1301925298518984
         ]
        }
       ],
       "layout": {
        "legend": {
         "bgcolor": "#F5F6F9",
         "font": {
          "color": "#4D5663"
         }
        },
        "paper_bgcolor": "#F5F6F9",
        "plot_bgcolor": "#F5F6F9",
        "template": {
         "data": {
          "bar": [
           {
            "error_x": {
             "color": "#2a3f5f"
            },
            "error_y": {
             "color": "#2a3f5f"
            },
            "marker": {
             "line": {
              "color": "#E5ECF6",
              "width": 0.5
             },
             "pattern": {
              "fillmode": "overlay",
              "size": 10,
              "solidity": 0.2
             }
            },
            "type": "bar"
           }
          ],
          "barpolar": [
           {
            "marker": {
             "line": {
              "color": "#E5ECF6",
              "width": 0.5
             },
             "pattern": {
              "fillmode": "overlay",
              "size": 10,
              "solidity": 0.2
             }
            },
            "type": "barpolar"
           }
          ],
          "carpet": [
           {
            "aaxis": {
             "endlinecolor": "#2a3f5f",
             "gridcolor": "white",
             "linecolor": "white",
             "minorgridcolor": "white",
             "startlinecolor": "#2a3f5f"
            },
            "baxis": {
             "endlinecolor": "#2a3f5f",
             "gridcolor": "white",
             "linecolor": "white",
             "minorgridcolor": "white",
             "startlinecolor": "#2a3f5f"
            },
            "type": "carpet"
           }
          ],
          "choropleth": [
           {
            "colorbar": {
             "outlinewidth": 0,
             "ticks": ""
            },
            "type": "choropleth"
           }
          ],
          "contour": [
           {
            "colorbar": {
             "outlinewidth": 0,
             "ticks": ""
            },
            "colorscale": [
             [
              0,
              "#0d0887"
             ],
             [
              0.1111111111111111,
              "#46039f"
             ],
             [
              0.2222222222222222,
              "#7201a8"
             ],
             [
              0.3333333333333333,
              "#9c179e"
             ],
             [
              0.4444444444444444,
              "#bd3786"
             ],
             [
              0.5555555555555556,
              "#d8576b"
             ],
             [
              0.6666666666666666,
              "#ed7953"
             ],
             [
              0.7777777777777778,
              "#fb9f3a"
             ],
             [
              0.8888888888888888,
              "#fdca26"
             ],
             [
              1,
              "#f0f921"
             ]
            ],
            "type": "contour"
           }
          ],
          "contourcarpet": [
           {
            "colorbar": {
             "outlinewidth": 0,
             "ticks": ""
            },
            "type": "contourcarpet"
           }
          ],
          "heatmap": [
           {
            "colorbar": {
             "outlinewidth": 0,
             "ticks": ""
            },
            "colorscale": [
             [
              0,
              "#0d0887"
             ],
             [
              0.1111111111111111,
              "#46039f"
             ],
             [
              0.2222222222222222,
              "#7201a8"
             ],
             [
              0.3333333333333333,
              "#9c179e"
             ],
             [
              0.4444444444444444,
              "#bd3786"
             ],
             [
              0.5555555555555556,
              "#d8576b"
             ],
             [
              0.6666666666666666,
              "#ed7953"
             ],
             [
              0.7777777777777778,
              "#fb9f3a"
             ],
             [
              0.8888888888888888,
              "#fdca26"
             ],
             [
              1,
              "#f0f921"
             ]
            ],
            "type": "heatmap"
           }
          ],
          "heatmapgl": [
           {
            "colorbar": {
             "outlinewidth": 0,
             "ticks": ""
            },
            "colorscale": [
             [
              0,
              "#0d0887"
             ],
             [
              0.1111111111111111,
              "#46039f"
             ],
             [
              0.2222222222222222,
              "#7201a8"
             ],
             [
              0.3333333333333333,
              "#9c179e"
             ],
             [
              0.4444444444444444,
              "#bd3786"
             ],
             [
              0.5555555555555556,
              "#d8576b"
             ],
             [
              0.6666666666666666,
              "#ed7953"
             ],
             [
              0.7777777777777778,
              "#fb9f3a"
             ],
             [
              0.8888888888888888,
              "#fdca26"
             ],
             [
              1,
              "#f0f921"
             ]
            ],
            "type": "heatmapgl"
           }
          ],
          "histogram": [
           {
            "marker": {
             "pattern": {
              "fillmode": "overlay",
              "size": 10,
              "solidity": 0.2
             }
            },
            "type": "histogram"
           }
          ],
          "histogram2d": [
           {
            "colorbar": {
             "outlinewidth": 0,
             "ticks": ""
            },
            "colorscale": [
             [
              0,
              "#0d0887"
             ],
             [
              0.1111111111111111,
              "#46039f"
             ],
             [
              0.2222222222222222,
              "#7201a8"
             ],
             [
              0.3333333333333333,
              "#9c179e"
             ],
             [
              0.4444444444444444,
              "#bd3786"
             ],
             [
              0.5555555555555556,
              "#d8576b"
             ],
             [
              0.6666666666666666,
              "#ed7953"
             ],
             [
              0.7777777777777778,
              "#fb9f3a"
             ],
             [
              0.8888888888888888,
              "#fdca26"
             ],
             [
              1,
              "#f0f921"
             ]
            ],
            "type": "histogram2d"
           }
          ],
          "histogram2dcontour": [
           {
            "colorbar": {
             "outlinewidth": 0,
             "ticks": ""
            },
            "colorscale": [
             [
              0,
              "#0d0887"
             ],
             [
              0.1111111111111111,
              "#46039f"
             ],
             [
              0.2222222222222222,
              "#7201a8"
             ],
             [
              0.3333333333333333,
              "#9c179e"
             ],
             [
              0.4444444444444444,
              "#bd3786"
             ],
             [
              0.5555555555555556,
              "#d8576b"
             ],
             [
              0.6666666666666666,
              "#ed7953"
             ],
             [
              0.7777777777777778,
              "#fb9f3a"
             ],
             [
              0.8888888888888888,
              "#fdca26"
             ],
             [
              1,
              "#f0f921"
             ]
            ],
            "type": "histogram2dcontour"
           }
          ],
          "mesh3d": [
           {
            "colorbar": {
             "outlinewidth": 0,
             "ticks": ""
            },
            "type": "mesh3d"
           }
          ],
          "parcoords": [
           {
            "line": {
             "colorbar": {
              "outlinewidth": 0,
              "ticks": ""
             }
            },
            "type": "parcoords"
           }
          ],
          "pie": [
           {
            "automargin": true,
            "type": "pie"
           }
          ],
          "scatter": [
           {
            "fillpattern": {
             "fillmode": "overlay",
             "size": 10,
             "solidity": 0.2
            },
            "type": "scatter"
           }
          ],
          "scatter3d": [
           {
            "line": {
             "colorbar": {
              "outlinewidth": 0,
              "ticks": ""
             }
            },
            "marker": {
             "colorbar": {
              "outlinewidth": 0,
              "ticks": ""
             }
            },
            "type": "scatter3d"
           }
          ],
          "scattercarpet": [
           {
            "marker": {
             "colorbar": {
              "outlinewidth": 0,
              "ticks": ""
             }
            },
            "type": "scattercarpet"
           }
          ],
          "scattergeo": [
           {
            "marker": {
             "colorbar": {
              "outlinewidth": 0,
              "ticks": ""
             }
            },
            "type": "scattergeo"
           }
          ],
          "scattergl": [
           {
            "marker": {
             "colorbar": {
              "outlinewidth": 0,
              "ticks": ""
             }
            },
            "type": "scattergl"
           }
          ],
          "scattermapbox": [
           {
            "marker": {
             "colorbar": {
              "outlinewidth": 0,
              "ticks": ""
             }
            },
            "type": "scattermapbox"
           }
          ],
          "scatterpolar": [
           {
            "marker": {
             "colorbar": {
              "outlinewidth": 0,
              "ticks": ""
             }
            },
            "type": "scatterpolar"
           }
          ],
          "scatterpolargl": [
           {
            "marker": {
             "colorbar": {
              "outlinewidth": 0,
              "ticks": ""
             }
            },
            "type": "scatterpolargl"
           }
          ],
          "scatterternary": [
           {
            "marker": {
             "colorbar": {
              "outlinewidth": 0,
              "ticks": ""
             }
            },
            "type": "scatterternary"
           }
          ],
          "surface": [
           {
            "colorbar": {
             "outlinewidth": 0,
             "ticks": ""
            },
            "colorscale": [
             [
              0,
              "#0d0887"
             ],
             [
              0.1111111111111111,
              "#46039f"
             ],
             [
              0.2222222222222222,
              "#7201a8"
             ],
             [
              0.3333333333333333,
              "#9c179e"
             ],
             [
              0.4444444444444444,
              "#bd3786"
             ],
             [
              0.5555555555555556,
              "#d8576b"
             ],
             [
              0.6666666666666666,
              "#ed7953"
             ],
             [
              0.7777777777777778,
              "#fb9f3a"
             ],
             [
              0.8888888888888888,
              "#fdca26"
             ],
             [
              1,
              "#f0f921"
             ]
            ],
            "type": "surface"
           }
          ],
          "table": [
           {
            "cells": {
             "fill": {
              "color": "#EBF0F8"
             },
             "line": {
              "color": "white"
             }
            },
            "header": {
             "fill": {
              "color": "#C8D4E3"
             },
             "line": {
              "color": "white"
             }
            },
            "type": "table"
           }
          ]
         },
         "layout": {
          "annotationdefaults": {
           "arrowcolor": "#2a3f5f",
           "arrowhead": 0,
           "arrowwidth": 1
          },
          "autotypenumbers": "strict",
          "coloraxis": {
           "colorbar": {
            "outlinewidth": 0,
            "ticks": ""
           }
          },
          "colorscale": {
           "diverging": [
            [
             0,
             "#8e0152"
            ],
            [
             0.1,
             "#c51b7d"
            ],
            [
             0.2,
             "#de77ae"
            ],
            [
             0.3,
             "#f1b6da"
            ],
            [
             0.4,
             "#fde0ef"
            ],
            [
             0.5,
             "#f7f7f7"
            ],
            [
             0.6,
             "#e6f5d0"
            ],
            [
             0.7,
             "#b8e186"
            ],
            [
             0.8,
             "#7fbc41"
            ],
            [
             0.9,
             "#4d9221"
            ],
            [
             1,
             "#276419"
            ]
           ],
           "sequential": [
            [
             0,
             "#0d0887"
            ],
            [
             0.1111111111111111,
             "#46039f"
            ],
            [
             0.2222222222222222,
             "#7201a8"
            ],
            [
             0.3333333333333333,
             "#9c179e"
            ],
            [
             0.4444444444444444,
             "#bd3786"
            ],
            [
             0.5555555555555556,
             "#d8576b"
            ],
            [
             0.6666666666666666,
             "#ed7953"
            ],
            [
             0.7777777777777778,
             "#fb9f3a"
            ],
            [
             0.8888888888888888,
             "#fdca26"
            ],
            [
             1,
             "#f0f921"
            ]
           ],
           "sequentialminus": [
            [
             0,
             "#0d0887"
            ],
            [
             0.1111111111111111,
             "#46039f"
            ],
            [
             0.2222222222222222,
             "#7201a8"
            ],
            [
             0.3333333333333333,
             "#9c179e"
            ],
            [
             0.4444444444444444,
             "#bd3786"
            ],
            [
             0.5555555555555556,
             "#d8576b"
            ],
            [
             0.6666666666666666,
             "#ed7953"
            ],
            [
             0.7777777777777778,
             "#fb9f3a"
            ],
            [
             0.8888888888888888,
             "#fdca26"
            ],
            [
             1,
             "#f0f921"
            ]
           ]
          },
          "colorway": [
           "#636efa",
           "#EF553B",
           "#00cc96",
           "#ab63fa",
           "#FFA15A",
           "#19d3f3",
           "#FF6692",
           "#B6E880",
           "#FF97FF",
           "#FECB52"
          ],
          "font": {
           "color": "#2a3f5f"
          },
          "geo": {
           "bgcolor": "white",
           "lakecolor": "white",
           "landcolor": "#E5ECF6",
           "showlakes": true,
           "showland": true,
           "subunitcolor": "white"
          },
          "hoverlabel": {
           "align": "left"
          },
          "hovermode": "closest",
          "mapbox": {
           "style": "light"
          },
          "paper_bgcolor": "white",
          "plot_bgcolor": "#E5ECF6",
          "polar": {
           "angularaxis": {
            "gridcolor": "white",
            "linecolor": "white",
            "ticks": ""
           },
           "bgcolor": "#E5ECF6",
           "radialaxis": {
            "gridcolor": "white",
            "linecolor": "white",
            "ticks": ""
           }
          },
          "scene": {
           "xaxis": {
            "backgroundcolor": "#E5ECF6",
            "gridcolor": "white",
            "gridwidth": 2,
            "linecolor": "white",
            "showbackground": true,
            "ticks": "",
            "zerolinecolor": "white"
           },
           "yaxis": {
            "backgroundcolor": "#E5ECF6",
            "gridcolor": "white",
            "gridwidth": 2,
            "linecolor": "white",
            "showbackground": true,
            "ticks": "",
            "zerolinecolor": "white"
           },
           "zaxis": {
            "backgroundcolor": "#E5ECF6",
            "gridcolor": "white",
            "gridwidth": 2,
            "linecolor": "white",
            "showbackground": true,
            "ticks": "",
            "zerolinecolor": "white"
           }
          },
          "shapedefaults": {
           "line": {
            "color": "#2a3f5f"
           }
          },
          "ternary": {
           "aaxis": {
            "gridcolor": "white",
            "linecolor": "white",
            "ticks": ""
           },
           "baxis": {
            "gridcolor": "white",
            "linecolor": "white",
            "ticks": ""
           },
           "bgcolor": "#E5ECF6",
           "caxis": {
            "gridcolor": "white",
            "linecolor": "white",
            "ticks": ""
           }
          },
          "title": {
           "x": 0.05
          },
          "xaxis": {
           "automargin": true,
           "gridcolor": "white",
           "linecolor": "white",
           "ticks": "",
           "title": {
            "standoff": 15
           },
           "zerolinecolor": "white",
           "zerolinewidth": 2
          },
          "yaxis": {
           "automargin": true,
           "gridcolor": "white",
           "linecolor": "white",
           "ticks": "",
           "title": {
            "standoff": 15
           },
           "zerolinecolor": "white",
           "zerolinewidth": 2
          }
         }
        },
        "title": {
         "font": {
          "color": "#4D5663"
         }
        },
        "xaxis": {
         "gridcolor": "#E1E5ED",
         "showgrid": true,
         "tickfont": {
          "color": "#4D5663"
         },
         "title": {
          "font": {
           "color": "#4D5663"
          },
          "text": ""
         },
         "zerolinecolor": "#E1E5ED"
        },
        "yaxis": {
         "gridcolor": "#E1E5ED",
         "showgrid": true,
         "tickfont": {
          "color": "#4D5663"
         },
         "title": {
          "font": {
           "color": "#4D5663"
          },
          "text": ""
         },
         "zerolinecolor": "#E1E5ED"
        }
       }
      },
      "text/html": [
       "<div>                            <div id=\"24c58e5f-265c-4b28-8598-2791499cb8fe\" class=\"plotly-graph-div\" style=\"height:525px; width:100%;\"></div>            <script type=\"text/javascript\">                require([\"plotly\"], function(Plotly) {                    window.PLOTLYENV=window.PLOTLYENV || {};\n",
       "                    window.PLOTLYENV.BASE_URL='https://plot.ly';                                    if (document.getElementById(\"24c58e5f-265c-4b28-8598-2791499cb8fe\")) {                    Plotly.newPlot(                        \"24c58e5f-265c-4b28-8598-2791499cb8fe\",                        [{\"line\":{\"color\":\"rgba(255, 153, 51, 1.0)\",\"dash\":\"solid\",\"shape\":\"linear\",\"width\":1.3},\"mode\":\"lines\",\"name\":\"A\",\"text\":\"\",\"x\":[0,1,2,3,4,5,6,7,8,9,10,11,12,13,14,15,16,17,18,19,20,21,22,23,24,25,26,27,28,29,30,31,32,33,34,35,36,37,38,39,40,41,42,43,44,45,46,47,48,49,50,51,52,53,54,55,56,57,58,59,60,61,62,63,64,65,66,67,68,69,70,71,72,73,74,75,76,77,78,79,80,81,82,83,84,85,86,87,88,89,90,91,92,93,94,95,96,97,98,99,100,101,102,103,104,105,106,107,108,109,110,111,112,113,114,115,116,117,118,119,120,121,122,123,124,125,126,127,128,129,130,131,132,133,134,135,136,137,138,139,140,141,142,143,144,145,146,147,148,149,150,151,152,153,154,155,156,157,158,159,160,161,162,163,164,165,166,167,168,169,170,171,172,173,174,175,176,177,178,179,180,181,182,183,184,185,186,187,188,189,190,191,192,193,194,195,196,197,198,199],\"y\":[-1.487606705268289,-1.3270966904104238,0.3604379283601886,-1.0755063445021371,0.3811337534773147,2.0641007329383485,-0.48203477848504866,-0.38832558174328935,1.7478672968117868,1.1158691106492418,0.2896935352623028,-0.3812217927690513,0.42123870859889845,1.8812870946781968,2.557404536964999,-0.7058476334484991,0.28569424203115323,0.24695939642219372,-0.6385715504663668,0.9026702831781179,2.298729565138558,0.11640944430966896,0.42767735280331637,0.33544870905998614,0.16811832161387877,-0.21121411331425205,0.5874308678366539,-1.1216357817595521,0.11255262014025855,1.1853522193052266,0.45797947718207993,0.06034425911595249,0.9711702720221174,-0.7824061933747677,0.6276524906327481,-1.0548261198142173,-1.0832514348502216,-0.36189322746518,0.643434169576394,0.4488595629144203,0.8061508090023473,-1.222979893598644,-0.6920946263116126,-1.2937441326912544,0.23876442953656232,-0.817684328749027,0.08369524837438268,0.13287413960379232,-0.2499943512909606,0.6636954943467446,-0.5280332499790815,-0.5398566815380538,-0.31918190307525746,2.254926925098105,-0.7632175571836918,-1.1048423421686462,1.1028289510008162,-1.2097544316232944,-1.1939998494256865,1.2253107286051743,0.031116092717685246,-0.7487543140223533,1.4274039877008702,-2.4152283125719656,0.8018374859983983,-0.652637162274179,-1.109773355409906,0.9421069223405514,0.9272547022786595,-2.0967011767857966,-0.9386686213866825,1.2712810659600504,0.6688989976815631,-1.538865098729885,0.7131115264494275,-0.6467904553989622,1.2822063664196233,-0.30066345972728864,0.5960304893962182,0.6082958314371802,-1.3267205129120214,0.8887344180865127,0.9487101456582948,1.208515049669603,-0.49564632045569046,-2.171379335945453,-0.5722068920663259,0.821728319864167,-0.4532924125120422,0.5176236846070436,1.074779233055591,-0.04980169881531574,-1.1325388535132843,-0.8340003699765887,0.4681608886840201,0.340074509311427,0.9532273672009145,-0.551300031728624,1.5019798360618883,2.0813328323766336,-1.8888588017436174,0.5527504926273384,-1.832394693910066,-0.1891939936596043,-0.1795525048751539,-0.41353587573206846,0.6119219622848441,0.3669411247956404,-1.656394643836909,0.6825827271960428,0.40978281154268725,-1.027348486216504,-0.8913232958653983,-2.176619637487184,1.6404497173622186,-1.1539800497331998,-2.6344933558902484,1.3269304883606206,-0.4686755309635699,0.15375555596251558,-0.003231518781125517,-2.5756810430242285,0.23191043239930428,-0.20325011510086552,-0.1262256677960052,-0.4306067892790383,2.223999933559132,-0.28481970484576097,0.041636347874112516,0.8363856899449069,-0.7190061049681735,-1.660586642755478,-0.8424461151634391,-1.3410654086417828,0.5173398539462267,-1.3712460727772473,-0.4467550562662734,0.9157433279770691,1.754416969372457,0.6747547564025815,0.6483259564379472,0.9589442722537845,-1.1404949913493048,-0.9607080724043362,-0.4758449423533752,-0.2995599393280748,-0.24888778174690462,0.15542907347123394,-1.2558919529016797,1.4884181758140078,-0.17569860858299177,1.225904563594473,1.1324490392969089,0.3835923409382287,1.9124939131151277,-0.47992141278970996,-0.17605511359007,0.2200553792256361,-0.45229522971198904,-1.8838923550993498,0.13315305673333974,-0.8266448326458588,1.2294707915972516,0.6778486167632689,-0.15856560330555253,1.0126681253705112,0.6806465776765602,-2.341158623582788,0.2755666236492162,-0.7172182469495813,0.7930105775209679,0.39568977405882394,1.528726412996672,0.24679536520261422,-0.46161608591743614,-0.41260788090652584,-0.9197333364273914,1.2672340572160545,-0.7680399463059111,0.20875650311460647,-0.8688520154587448,1.1871175195914496,0.4318475877039881,0.22291570222242593,1.912613011968483,-1.1895491534313078,-0.8601534520780754,-0.6884358071535207,1.6067100199942381,0.8869574010673043,2.2738448377759197,0.053238690773936066,-0.10165799243942343,-1.5322439587081917,1.4952390580885375,-0.3456678618511981,-0.09156509867611441,-1.7259238493479152,0.42627109535565494,0.13155584440661],\"type\":\"scatter\"},{\"line\":{\"color\":\"rgba(55, 128, 191, 1.0)\",\"dash\":\"solid\",\"shape\":\"linear\",\"width\":1.3},\"mode\":\"lines\",\"name\":\"B\",\"text\":\"\",\"x\":[0,1,2,3,4,5,6,7,8,9,10,11,12,13,14,15,16,17,18,19,20,21,22,23,24,25,26,27,28,29,30,31,32,33,34,35,36,37,38,39,40,41,42,43,44,45,46,47,48,49,50,51,52,53,54,55,56,57,58,59,60,61,62,63,64,65,66,67,68,69,70,71,72,73,74,75,76,77,78,79,80,81,82,83,84,85,86,87,88,89,90,91,92,93,94,95,96,97,98,99,100,101,102,103,104,105,106,107,108,109,110,111,112,113,114,115,116,117,118,119,120,121,122,123,124,125,126,127,128,129,130,131,132,133,134,135,136,137,138,139,140,141,142,143,144,145,146,147,148,149,150,151,152,153,154,155,156,157,158,159,160,161,162,163,164,165,166,167,168,169,170,171,172,173,174,175,176,177,178,179,180,181,182,183,184,185,186,187,188,189,190,191,192,193,194,195,196,197,198,199],\"y\":[1.4018747311698432,0.12305038788003114,-2.0621604828169295,0.6310971788406574,0.017478005933253684,0.6964587848925091,0.6692142639756167,1.030659741046712,0.9596758077035872,-0.9164290079884374,-0.6446851483938009,-0.6116667373572493,1.7260305025206517,-0.2759506642155176,-0.3188067675342285,0.9549478759656118,0.4002068068348017,0.3618786329647358,-2.232852501779732,0.2634002979548043,-0.23434598180308425,0.44521962838237017,-1.8927127354319755,-1.3297540297781392,-0.07764797635478797,1.702839909849972,-1.0460649622342382,-0.23597238404268153,-1.3174204369042208,0.5712385004026206,-0.9397730609282275,1.244707443354532,-0.5536989612126252,0.6402166179463994,0.22426803921109695,-0.21264092848600558,-0.10993557287781922,-0.9819230417166805,0.6079360463127345,-0.6057679799690354,-1.1119745914173358,-1.560293807992332,-1.1987638460095538,0.4858277742131986,2.350569384291055,0.6151746971191706,0.3847879036524305,-0.40025360862732406,-0.2827464088764763,0.7732213376383255,-0.42574944193944025,-0.0977566524060275,-1.0460108459597866,-0.41906615486287035,-0.828081174470112,-1.5777766072475146,-1.751258971395327,-0.4577098650787121,-0.48384052874521427,0.6370632780928125,0.6135858592175875,-1.0524005004526487,-0.18939000452678795,1.4832097967972961,-1.4478718403622282,-1.175823620507187,-1.348720049032188,-0.840154268876634,0.16179821554044488,0.4215991235352048,-0.09304837280981533,1.0229402146371382,-0.6777075034485878,2.363547662269973,0.17517567510440044,-1.0142764458464555,0.769643017358293,-0.559782604130007,-0.09826200135677465,-2.19532344141647,-0.9028689610271179,-0.5641688540688159,0.0069344933942429516,1.771818416056886,-0.7042878205436063,-1.141511977610186,1.104695798124243,0.05504535578585138,-0.903445628111115,-1.0751312204194619,0.5433315622422493,-0.4816293656408814,0.4315047393038972,-0.13705156305918187,0.3792927120427439,-0.11521231565490844,-1.2704729596598132,-1.3483168965194472,-1.671616523024985,-0.1521424450157583,0.5440995446011344,-0.3718765369382678,-1.3965083041927662,2.526942966641223,2.239723475005572,-1.4859105355107327,1.9818013383576558,0.802989460671471,1.0303651079399383,2.3335949332225114,-2.2910087524718072,-1.1537515922644148,-1.3750319900867725,-1.6326060100061293,0.6645823180882093,1.4740851265119306,-0.7666063770492628,-0.5548089730982696,1.408417243841149,-0.4820681914552715,1.4701297681558765,0.27907719634906686,0.7102972508579796,-1.5217772011708037,0.010862325434475873,-0.016880069539919544,0.7993093349399368,1.015635996790291,-0.4474593226688298,0.7621086015075268,0.8856847020812305,1.2102974267836348,-1.5386477932819997,0.03834324809398329,-0.22576792002145568,1.0537342040776074,-1.3138277848469238,0.07049054804272177,0.4018169670712659,-0.2801832887276961,-0.5690121191476055,0.35598993442828114,-0.004734667011751212,0.33230256805073644,1.962345783467431,-0.2940856894796608,-0.1283389011930353,0.6168331074300294,0.7662626610879297,-1.7383020615197815,-1.2929174451479046,-2.096026957868482,0.42565821552001964,-0.5002591085547238,-0.919531712491247,-1.2964648092634155,-0.6962169438232568,0.03230857859249144,-0.529635964552918,2.0666298734833393,-0.17675252627642735,-1.0095191628490185,-0.5861082273681731,0.6937314493180352,0.9261375158887465,-1.1213803593314928,0.7213848051405207,0.3847080628723777,0.8894236002885328,1.6153335879826933,-1.0259748146661083,0.028568303126833148,0.2334580037219608,-2.1501354617090467,-0.9422006481662677,0.1444750455076689,1.0861237079967807,1.7201363417958033,2.0569115563677145,-1.381679208771417,-1.0351911302661752,1.5223278152050266,-0.23231343649555608,0.5412096716486152,-0.9721564299191358,-0.22792905301475427,-1.2773274724256982,0.8636612498925738,-1.2166122317481987,0.3507319275056264,-1.3101065387849253,1.037759945045999,1.9370197828161602,-2.516970783487686,0.10533441465097182,-1.9508940804635506,0.41530356237292915,0.17440382713054814,-2.0687853329702146,0.22323291262987086],\"type\":\"scatter\"},{\"line\":{\"color\":\"rgba(50, 171, 96, 1.0)\",\"dash\":\"solid\",\"shape\":\"linear\",\"width\":1.3},\"mode\":\"lines\",\"name\":\"C\",\"text\":\"\",\"x\":[0,1,2,3,4,5,6,7,8,9,10,11,12,13,14,15,16,17,18,19,20,21,22,23,24,25,26,27,28,29,30,31,32,33,34,35,36,37,38,39,40,41,42,43,44,45,46,47,48,49,50,51,52,53,54,55,56,57,58,59,60,61,62,63,64,65,66,67,68,69,70,71,72,73,74,75,76,77,78,79,80,81,82,83,84,85,86,87,88,89,90,91,92,93,94,95,96,97,98,99,100,101,102,103,104,105,106,107,108,109,110,111,112,113,114,115,116,117,118,119,120,121,122,123,124,125,126,127,128,129,130,131,132,133,134,135,136,137,138,139,140,141,142,143,144,145,146,147,148,149,150,151,152,153,154,155,156,157,158,159,160,161,162,163,164,165,166,167,168,169,170,171,172,173,174,175,176,177,178,179,180,181,182,183,184,185,186,187,188,189,190,191,192,193,194,195,196,197,198,199],\"y\":[-1.385599006792901,-1.7197849763534634,1.5747803144791424,0.22087703915493273,1.4048072889623526,-0.17203220259412677,-0.5478221068929772,-0.2571036482455168,0.83526256911748,0.7295109671879325,-0.41892914647460383,0.5088431770608817,-0.545965724792688,-0.33100748483810266,0.5220780822294445,0.6690441411444692,0.1826733430427206,-0.877121920622054,1.4235543935292008,-0.4536467130462135,1.0891053014432,-1.2316562978392696,-0.45039797539149595,-0.0161623193476018,1.860653210388855,-1.1352232694440099,-0.35024596573976224,-0.4969335567373902,-0.9680259684720534,-2.0944192443697127,0.3281146356341243,1.1879230963728453,1.3133835432347751,-1.1331241858228536,-0.09964269383325358,-0.5670593921026623,0.8948329179593418,1.1473984299795974,1.2019927205435548,0.377575496595243,0.17651537132907977,-0.9499283412600837,0.3985873061898483,-0.2524510144042869,-0.7274605524449378,-0.6095669119492346,-0.3245202544534693,1.3148691761801465,2.3358141956226626,-2.4601472909133326,0.04654499723271527,-1.251597920803092,0.4749353557787959,-0.9206748732515008,0.5162827131466176,-0.11699896548752016,2.3022622170092335,-0.7012675941209484,-0.7283969714507058,-0.5794746944179315,1.3437176475788333,0.4982669792199907,1.6867823314492179,0.08172912875324927,-0.6006538105463247,-0.43966473077939855,-1.3508327599279302,-1.829926992179897,-1.380602559476269,0.48240676857510556,0.6149002921105139,-0.7388773475762256,-0.8841095457737844,-0.1751299312881325,1.9446554133871992,-1.3324126706554342,-0.7096742342791013,-0.7437240018932815,0.6602416333763232,1.0176727193067967,-0.5524680901737848,1.1434468620574527,-0.7734307039891627,0.8965056286011309,1.402017062407769,0.4359154222512774,-0.46816508376559096,0.756437547431865,-0.6164987704692465,1.6184273032708156,1.426303919872584,-0.04161209514211454,-1.2337965632148633,-0.4566251877811787,-0.46946123502120585,1.0609360887290722,1.2621015619841527,-2.608318114488203,-1.582361286280856,-0.19499682075667363,-1.1941369375655286,-0.16554845498734888,0.5808738594570794,-0.04912295224661493,-1.5715157223821186,-0.33908747985349375,0.8681334488613784,0.062217931439810636,1.6600980719595209,1.7562201370827581,-1.477554922665295,1.7784643352940093,-0.8766644487453403,0.4943916309762949,-1.1385149753495707,-1.464514833807233,0.7357726123676097,0.8914016028258562,-1.235418381474018,-1.4409955120477786,0.7398610992391563,-0.7271814181366715,-0.8838695184812071,-1.1023952000272523,-0.15720574930360842,1.4282908181988654,0.5904130272118258,-0.07924866949652917,0.0781557145444214,0.37445087591831755,0.4475896155422568,0.3960079883083532,1.6476893349703128,0.1888916760581893,-1.6642468434525177,0.09243685179805267,1.5836932100497305,0.5743594032105762,0.03655750426161463,-1.1562603100372923,-0.8192253115775014,1.4436569936532557,-0.5569729435030032,1.4885027933719073,-0.96239395711921,2.2128831421862385,0.8744271022669069,1.2847015649907108,0.8597138952645841,1.3882958689629683,0.6317076676641963,0.3269075353602081,1.5429071621257286,0.10130068377807228,1.1542432160598814,1.2531358402810988,0.26275494358920176,2.3852891071003444,-0.15953470284019589,0.03506333586369161,-2.0038030260199893,1.2204534600595491,1.6361359683276138,1.3906239181656421,-0.786111210670228,1.6100752036876445,0.03302995073857356,-0.8284028418337049,0.5948824971381954,-0.7608389414479757,-0.6195093333879186,-0.4068393830343923,-1.045332947511054,0.31599560693055906,0.5296629922202261,2.357279848791362,0.2951797311121355,1.32057871574306,1.5040484903494704,-0.1706849753486248,0.024985678840708552,-1.1421040299779,-1.2497631015024637,0.8571861420272623,-1.1899007184407737,-0.7591368609865685,0.24752714068101198,0.4181528153753166,-1.4676367453008217,-0.1199537913166694,0.6450542149457716,0.07065090370870525,-0.9288093514416575,-0.13150670679188203,-1.2885479320103321,0.4012364046547924,0.1977656121095965,0.06949039869264667,0.6564605469013881,-1.2731433898640176],\"type\":\"scatter\"},{\"line\":{\"color\":\"rgba(128, 0, 128, 1.0)\",\"dash\":\"solid\",\"shape\":\"linear\",\"width\":1.3},\"mode\":\"lines\",\"name\":\"D\",\"text\":\"\",\"x\":[0,1,2,3,4,5,6,7,8,9,10,11,12,13,14,15,16,17,18,19,20,21,22,23,24,25,26,27,28,29,30,31,32,33,34,35,36,37,38,39,40,41,42,43,44,45,46,47,48,49,50,51,52,53,54,55,56,57,58,59,60,61,62,63,64,65,66,67,68,69,70,71,72,73,74,75,76,77,78,79,80,81,82,83,84,85,86,87,88,89,90,91,92,93,94,95,96,97,98,99,100,101,102,103,104,105,106,107,108,109,110,111,112,113,114,115,116,117,118,119,120,121,122,123,124,125,126,127,128,129,130,131,132,133,134,135,136,137,138,139,140,141,142,143,144,145,146,147,148,149,150,151,152,153,154,155,156,157,158,159,160,161,162,163,164,165,166,167,168,169,170,171,172,173,174,175,176,177,178,179,180,181,182,183,184,185,186,187,188,189,190,191,192,193,194,195,196,197,198,199],\"y\":[-1.177223911481873,-0.29167796775702576,1.015849711093481,-1.5632697221999952,-1.188862087198042,0.9118286507428603,0.12004560260873919,0.30615185664214467,0.4068585213345728,0.04788357105892197,-1.0730744655289608,1.3627181384613922,-1.429905874078411,0.005056987583926655,1.7093995505715804,-0.6547662540003706,0.975230348312139,1.2943210344228249,1.3860015048138674,0.26933783574740583,-1.6818354559214377,0.5699527191444935,-0.8085576249715936,-0.30855970637491215,1.0076428429125286,0.03258793879293975,-0.1975471792747596,0.7032660669527372,0.5550963921924533,-0.4073803611435891,-1.495035808332509,0.10189101243872417,1.326782882883116,0.8887114620766801,0.8506718335258759,0.37715963477045467,-0.09406536631961311,0.7672394649639005,0.12414422210757521,-0.07054576801104318,-0.7490828162425152,1.0054685383488922,-0.32622398977440087,-1.7293427744766128,-0.17893314214196054,-0.6445329057740592,-2.1296429270807975,-0.849517163538628,1.346157652658771,-1.760483167451817,-1.2043739899155788,0.012432714521647131,-0.5149239544670113,0.477902236056113,-0.0871448110503587,0.1111291108088189,0.7600152695109311,0.4339035143438705,-0.5098427020312968,0.05778112734588025,0.2592907264569348,-0.4210044625954527,2.088556853181352,0.9036632920259653,-0.2339117092894673,-0.3283329237014898,0.9504697375545578,0.30149118020264176,-1.2077984172690528,0.24562709321626397,-0.23104901421521776,0.12598659746766855,-0.9235899921737932,0.054668107938544215,-0.014656363906992367,0.32718710570218534,-1.1048488430705672,0.9472652945157712,0.9673888696845052,-0.6351085093895855,-0.32860774250628555,-0.3032229538724417,1.9316556397154276,0.3437554977162938,-0.44925077282208825,0.2071776605585226,-0.1384549643318921,-0.588761118349195,0.3835924129475016,1.0443082403299997,0.5646124203256961,-1.1669441299638657,1.471651864712656,0.5571573781873396,1.1806318077196802,-0.364457546178787,0.7942703611158273,-0.8766095764428595,-0.6739234543957282,0.7020962615139723,1.9466313970415234,1.4033181559817107,0.8817067103269239,-0.636142069992607,0.5096996225073084,-1.0449015238868775,-1.3516362391876686,1.072760938487999,0.04561623114174906,-2.197726838718576,0.5895180636953125,0.7666930968501002,0.573446272540947,-0.049570518667105885,-0.2450651358718775,1.4984801536243355,-0.08989543973475861,1.3256954118636977,-0.6787356172302887,-0.20663840349902926,-0.07463448099353537,0.43653254030779626,2.143472102908509,0.8336845443896479,0.4705105240557236,-2.4206897448854976,-0.19850309445539632,1.940226431162549,0.6669746583084654,-0.10340935468679296,0.8995897385012287,-0.1453724997837296,0.0013701891805882745,1.2021739796363846,0.7076958539621563,0.9301447513092584,0.489618944863697,-0.1871095092808642,-0.049199581972393394,-0.15116514687392069,-0.6669480483173831,0.04042967861504227,-0.44420919384158947,0.09154553007254254,0.21014133133904156,0.10870218345725416,2.230711246395308,0.32910321870848624,1.4584367024467773,0.24551339739498768,-1.1377108717141038,-0.25791244722761,0.5275870565785041,0.8607420449542655,-1.649911422842504,0.9773201324784074,0.06855977558782761,-0.39317571645592336,1.818787409656117,0.16000823783392648,-1.2434611238988615,0.511081134462931,1.587383860427019,0.3081870018514402,0.14567651154065986,-0.741600184777107,-0.21620988781502093,0.9098313234674152,0.9025932096658122,-0.5205059023524584,-0.07305715958546434,-0.15760821204976852,0.07037745154270833,-0.11504472818390368,0.0756585617735883,1.5536647405290667,0.23616705043470598,1.5820259289264258,3.273371398867746,-1.5075772265477676,0.26972986831556195,0.02721656626759725,0.10409688610774594,-1.023971521658838,0.22308365980777248,-1.0065375173423037,0.7714284121531372,-0.5531778649396925,1.3759535558272362,-1.0592605355498366,-1.0261547728518359,0.8240680302338254,1.347899630394395,-0.5324076283811398,-0.023191462426795078,-1.1087538888567978,0.16562106697546275,-0.7853546209802792,-1.8334126140374971,-0.1301925298518984],\"type\":\"scatter\"}],                        {\"legend\":{\"bgcolor\":\"#F5F6F9\",\"font\":{\"color\":\"#4D5663\"}},\"paper_bgcolor\":\"#F5F6F9\",\"plot_bgcolor\":\"#F5F6F9\",\"template\":{\"data\":{\"barpolar\":[{\"marker\":{\"line\":{\"color\":\"#E5ECF6\",\"width\":0.5},\"pattern\":{\"fillmode\":\"overlay\",\"size\":10,\"solidity\":0.2}},\"type\":\"barpolar\"}],\"bar\":[{\"error_x\":{\"color\":\"#2a3f5f\"},\"error_y\":{\"color\":\"#2a3f5f\"},\"marker\":{\"line\":{\"color\":\"#E5ECF6\",\"width\":0.5},\"pattern\":{\"fillmode\":\"overlay\",\"size\":10,\"solidity\":0.2}},\"type\":\"bar\"}],\"carpet\":[{\"aaxis\":{\"endlinecolor\":\"#2a3f5f\",\"gridcolor\":\"white\",\"linecolor\":\"white\",\"minorgridcolor\":\"white\",\"startlinecolor\":\"#2a3f5f\"},\"baxis\":{\"endlinecolor\":\"#2a3f5f\",\"gridcolor\":\"white\",\"linecolor\":\"white\",\"minorgridcolor\":\"white\",\"startlinecolor\":\"#2a3f5f\"},\"type\":\"carpet\"}],\"choropleth\":[{\"colorbar\":{\"outlinewidth\":0,\"ticks\":\"\"},\"type\":\"choropleth\"}],\"contourcarpet\":[{\"colorbar\":{\"outlinewidth\":0,\"ticks\":\"\"},\"type\":\"contourcarpet\"}],\"contour\":[{\"colorbar\":{\"outlinewidth\":0,\"ticks\":\"\"},\"colorscale\":[[0.0,\"#0d0887\"],[0.1111111111111111,\"#46039f\"],[0.2222222222222222,\"#7201a8\"],[0.3333333333333333,\"#9c179e\"],[0.4444444444444444,\"#bd3786\"],[0.5555555555555556,\"#d8576b\"],[0.6666666666666666,\"#ed7953\"],[0.7777777777777778,\"#fb9f3a\"],[0.8888888888888888,\"#fdca26\"],[1.0,\"#f0f921\"]],\"type\":\"contour\"}],\"heatmapgl\":[{\"colorbar\":{\"outlinewidth\":0,\"ticks\":\"\"},\"colorscale\":[[0.0,\"#0d0887\"],[0.1111111111111111,\"#46039f\"],[0.2222222222222222,\"#7201a8\"],[0.3333333333333333,\"#9c179e\"],[0.4444444444444444,\"#bd3786\"],[0.5555555555555556,\"#d8576b\"],[0.6666666666666666,\"#ed7953\"],[0.7777777777777778,\"#fb9f3a\"],[0.8888888888888888,\"#fdca26\"],[1.0,\"#f0f921\"]],\"type\":\"heatmapgl\"}],\"heatmap\":[{\"colorbar\":{\"outlinewidth\":0,\"ticks\":\"\"},\"colorscale\":[[0.0,\"#0d0887\"],[0.1111111111111111,\"#46039f\"],[0.2222222222222222,\"#7201a8\"],[0.3333333333333333,\"#9c179e\"],[0.4444444444444444,\"#bd3786\"],[0.5555555555555556,\"#d8576b\"],[0.6666666666666666,\"#ed7953\"],[0.7777777777777778,\"#fb9f3a\"],[0.8888888888888888,\"#fdca26\"],[1.0,\"#f0f921\"]],\"type\":\"heatmap\"}],\"histogram2dcontour\":[{\"colorbar\":{\"outlinewidth\":0,\"ticks\":\"\"},\"colorscale\":[[0.0,\"#0d0887\"],[0.1111111111111111,\"#46039f\"],[0.2222222222222222,\"#7201a8\"],[0.3333333333333333,\"#9c179e\"],[0.4444444444444444,\"#bd3786\"],[0.5555555555555556,\"#d8576b\"],[0.6666666666666666,\"#ed7953\"],[0.7777777777777778,\"#fb9f3a\"],[0.8888888888888888,\"#fdca26\"],[1.0,\"#f0f921\"]],\"type\":\"histogram2dcontour\"}],\"histogram2d\":[{\"colorbar\":{\"outlinewidth\":0,\"ticks\":\"\"},\"colorscale\":[[0.0,\"#0d0887\"],[0.1111111111111111,\"#46039f\"],[0.2222222222222222,\"#7201a8\"],[0.3333333333333333,\"#9c179e\"],[0.4444444444444444,\"#bd3786\"],[0.5555555555555556,\"#d8576b\"],[0.6666666666666666,\"#ed7953\"],[0.7777777777777778,\"#fb9f3a\"],[0.8888888888888888,\"#fdca26\"],[1.0,\"#f0f921\"]],\"type\":\"histogram2d\"}],\"histogram\":[{\"marker\":{\"pattern\":{\"fillmode\":\"overlay\",\"size\":10,\"solidity\":0.2}},\"type\":\"histogram\"}],\"mesh3d\":[{\"colorbar\":{\"outlinewidth\":0,\"ticks\":\"\"},\"type\":\"mesh3d\"}],\"parcoords\":[{\"line\":{\"colorbar\":{\"outlinewidth\":0,\"ticks\":\"\"}},\"type\":\"parcoords\"}],\"pie\":[{\"automargin\":true,\"type\":\"pie\"}],\"scatter3d\":[{\"line\":{\"colorbar\":{\"outlinewidth\":0,\"ticks\":\"\"}},\"marker\":{\"colorbar\":{\"outlinewidth\":0,\"ticks\":\"\"}},\"type\":\"scatter3d\"}],\"scattercarpet\":[{\"marker\":{\"colorbar\":{\"outlinewidth\":0,\"ticks\":\"\"}},\"type\":\"scattercarpet\"}],\"scattergeo\":[{\"marker\":{\"colorbar\":{\"outlinewidth\":0,\"ticks\":\"\"}},\"type\":\"scattergeo\"}],\"scattergl\":[{\"marker\":{\"colorbar\":{\"outlinewidth\":0,\"ticks\":\"\"}},\"type\":\"scattergl\"}],\"scattermapbox\":[{\"marker\":{\"colorbar\":{\"outlinewidth\":0,\"ticks\":\"\"}},\"type\":\"scattermapbox\"}],\"scatterpolargl\":[{\"marker\":{\"colorbar\":{\"outlinewidth\":0,\"ticks\":\"\"}},\"type\":\"scatterpolargl\"}],\"scatterpolar\":[{\"marker\":{\"colorbar\":{\"outlinewidth\":0,\"ticks\":\"\"}},\"type\":\"scatterpolar\"}],\"scatter\":[{\"fillpattern\":{\"fillmode\":\"overlay\",\"size\":10,\"solidity\":0.2},\"type\":\"scatter\"}],\"scatterternary\":[{\"marker\":{\"colorbar\":{\"outlinewidth\":0,\"ticks\":\"\"}},\"type\":\"scatterternary\"}],\"surface\":[{\"colorbar\":{\"outlinewidth\":0,\"ticks\":\"\"},\"colorscale\":[[0.0,\"#0d0887\"],[0.1111111111111111,\"#46039f\"],[0.2222222222222222,\"#7201a8\"],[0.3333333333333333,\"#9c179e\"],[0.4444444444444444,\"#bd3786\"],[0.5555555555555556,\"#d8576b\"],[0.6666666666666666,\"#ed7953\"],[0.7777777777777778,\"#fb9f3a\"],[0.8888888888888888,\"#fdca26\"],[1.0,\"#f0f921\"]],\"type\":\"surface\"}],\"table\":[{\"cells\":{\"fill\":{\"color\":\"#EBF0F8\"},\"line\":{\"color\":\"white\"}},\"header\":{\"fill\":{\"color\":\"#C8D4E3\"},\"line\":{\"color\":\"white\"}},\"type\":\"table\"}]},\"layout\":{\"annotationdefaults\":{\"arrowcolor\":\"#2a3f5f\",\"arrowhead\":0,\"arrowwidth\":1},\"autotypenumbers\":\"strict\",\"coloraxis\":{\"colorbar\":{\"outlinewidth\":0,\"ticks\":\"\"}},\"colorscale\":{\"diverging\":[[0,\"#8e0152\"],[0.1,\"#c51b7d\"],[0.2,\"#de77ae\"],[0.3,\"#f1b6da\"],[0.4,\"#fde0ef\"],[0.5,\"#f7f7f7\"],[0.6,\"#e6f5d0\"],[0.7,\"#b8e186\"],[0.8,\"#7fbc41\"],[0.9,\"#4d9221\"],[1,\"#276419\"]],\"sequential\":[[0.0,\"#0d0887\"],[0.1111111111111111,\"#46039f\"],[0.2222222222222222,\"#7201a8\"],[0.3333333333333333,\"#9c179e\"],[0.4444444444444444,\"#bd3786\"],[0.5555555555555556,\"#d8576b\"],[0.6666666666666666,\"#ed7953\"],[0.7777777777777778,\"#fb9f3a\"],[0.8888888888888888,\"#fdca26\"],[1.0,\"#f0f921\"]],\"sequentialminus\":[[0.0,\"#0d0887\"],[0.1111111111111111,\"#46039f\"],[0.2222222222222222,\"#7201a8\"],[0.3333333333333333,\"#9c179e\"],[0.4444444444444444,\"#bd3786\"],[0.5555555555555556,\"#d8576b\"],[0.6666666666666666,\"#ed7953\"],[0.7777777777777778,\"#fb9f3a\"],[0.8888888888888888,\"#fdca26\"],[1.0,\"#f0f921\"]]},\"colorway\":[\"#636efa\",\"#EF553B\",\"#00cc96\",\"#ab63fa\",\"#FFA15A\",\"#19d3f3\",\"#FF6692\",\"#B6E880\",\"#FF97FF\",\"#FECB52\"],\"font\":{\"color\":\"#2a3f5f\"},\"geo\":{\"bgcolor\":\"white\",\"lakecolor\":\"white\",\"landcolor\":\"#E5ECF6\",\"showlakes\":true,\"showland\":true,\"subunitcolor\":\"white\"},\"hoverlabel\":{\"align\":\"left\"},\"hovermode\":\"closest\",\"mapbox\":{\"style\":\"light\"},\"paper_bgcolor\":\"white\",\"plot_bgcolor\":\"#E5ECF6\",\"polar\":{\"angularaxis\":{\"gridcolor\":\"white\",\"linecolor\":\"white\",\"ticks\":\"\"},\"bgcolor\":\"#E5ECF6\",\"radialaxis\":{\"gridcolor\":\"white\",\"linecolor\":\"white\",\"ticks\":\"\"}},\"scene\":{\"xaxis\":{\"backgroundcolor\":\"#E5ECF6\",\"gridcolor\":\"white\",\"gridwidth\":2,\"linecolor\":\"white\",\"showbackground\":true,\"ticks\":\"\",\"zerolinecolor\":\"white\"},\"yaxis\":{\"backgroundcolor\":\"#E5ECF6\",\"gridcolor\":\"white\",\"gridwidth\":2,\"linecolor\":\"white\",\"showbackground\":true,\"ticks\":\"\",\"zerolinecolor\":\"white\"},\"zaxis\":{\"backgroundcolor\":\"#E5ECF6\",\"gridcolor\":\"white\",\"gridwidth\":2,\"linecolor\":\"white\",\"showbackground\":true,\"ticks\":\"\",\"zerolinecolor\":\"white\"}},\"shapedefaults\":{\"line\":{\"color\":\"#2a3f5f\"}},\"ternary\":{\"aaxis\":{\"gridcolor\":\"white\",\"linecolor\":\"white\",\"ticks\":\"\"},\"baxis\":{\"gridcolor\":\"white\",\"linecolor\":\"white\",\"ticks\":\"\"},\"bgcolor\":\"#E5ECF6\",\"caxis\":{\"gridcolor\":\"white\",\"linecolor\":\"white\",\"ticks\":\"\"}},\"title\":{\"x\":0.05},\"xaxis\":{\"automargin\":true,\"gridcolor\":\"white\",\"linecolor\":\"white\",\"ticks\":\"\",\"title\":{\"standoff\":15},\"zerolinecolor\":\"white\",\"zerolinewidth\":2},\"yaxis\":{\"automargin\":true,\"gridcolor\":\"white\",\"linecolor\":\"white\",\"ticks\":\"\",\"title\":{\"standoff\":15},\"zerolinecolor\":\"white\",\"zerolinewidth\":2}}},\"title\":{\"font\":{\"color\":\"#4D5663\"}},\"xaxis\":{\"gridcolor\":\"#E1E5ED\",\"showgrid\":true,\"tickfont\":{\"color\":\"#4D5663\"},\"title\":{\"font\":{\"color\":\"#4D5663\"},\"text\":\"\"},\"zerolinecolor\":\"#E1E5ED\"},\"yaxis\":{\"gridcolor\":\"#E1E5ED\",\"showgrid\":true,\"tickfont\":{\"color\":\"#4D5663\"},\"title\":{\"font\":{\"color\":\"#4D5663\"},\"text\":\"\"},\"zerolinecolor\":\"#E1E5ED\"}},                        {\"showLink\": true, \"linkText\": \"Export to plot.ly\", \"plotlyServerURL\": \"https://plot.ly\", \"responsive\": true}                    ).then(function(){\n",
       "                            \n",
       "var gd = document.getElementById('24c58e5f-265c-4b28-8598-2791499cb8fe');\n",
       "var x = new MutationObserver(function (mutations, observer) {{\n",
       "        var display = window.getComputedStyle(gd).display;\n",
       "        if (!display || display === 'none') {{\n",
       "            console.log([gd, 'removed!']);\n",
       "            Plotly.purge(gd);\n",
       "            observer.disconnect();\n",
       "        }}\n",
       "}});\n",
       "\n",
       "// Listen for the removal of the full notebook cells\n",
       "var notebookContainer = gd.closest('#notebook-container');\n",
       "if (notebookContainer) {{\n",
       "    x.observe(notebookContainer, {childList: true});\n",
       "}}\n",
       "\n",
       "// Listen for the clearing of the current output cell\n",
       "var outputEl = gd.closest('.output');\n",
       "if (outputEl) {{\n",
       "    x.observe(outputEl, {childList: true});\n",
       "}}\n",
       "\n",
       "                        })                };                });            </script>        </div>"
      ]
     },
     "metadata": {},
     "output_type": "display_data"
    }
   ],
   "source": [
    "df.iplot()"
   ]
  },
  {
   "cell_type": "code",
   "execution_count": 6,
   "metadata": {},
   "outputs": [
    {
     "data": {
      "application/vnd.plotly.v1+json": {
       "config": {
        "linkText": "Export to plot.ly",
        "plotlyServerURL": "https://plot.ly",
        "showLink": true
       },
       "data": [
        {
         "line": {
          "color": "rgba(255, 153, 51, 1.0)",
          "dash": "solid",
          "shape": "linear",
          "width": 1.3
         },
         "mode": "lines",
         "name": "B",
         "text": "",
         "type": "scatter",
         "x": [
          -1.487606705268289,
          -1.3270966904104238,
          0.3604379283601886,
          -1.0755063445021371,
          0.3811337534773147,
          2.0641007329383485,
          -0.48203477848504866,
          -0.38832558174328935,
          1.7478672968117868,
          1.1158691106492418,
          0.2896935352623028,
          -0.3812217927690513,
          0.42123870859889845,
          1.8812870946781968,
          2.557404536964999,
          -0.7058476334484991,
          0.28569424203115323,
          0.24695939642219372,
          -0.6385715504663668,
          0.9026702831781179,
          2.298729565138558,
          0.11640944430966896,
          0.42767735280331637,
          0.33544870905998614,
          0.16811832161387877,
          -0.21121411331425205,
          0.5874308678366539,
          -1.1216357817595521,
          0.11255262014025855,
          1.1853522193052266,
          0.45797947718207993,
          0.06034425911595249,
          0.9711702720221174,
          -0.7824061933747677,
          0.6276524906327481,
          -1.0548261198142173,
          -1.0832514348502216,
          -0.36189322746518,
          0.643434169576394,
          0.4488595629144203,
          0.8061508090023473,
          -1.222979893598644,
          -0.6920946263116126,
          -1.2937441326912544,
          0.23876442953656232,
          -0.817684328749027,
          0.08369524837438268,
          0.13287413960379232,
          -0.2499943512909606,
          0.6636954943467446,
          -0.5280332499790815,
          -0.5398566815380538,
          -0.31918190307525746,
          2.254926925098105,
          -0.7632175571836918,
          -1.1048423421686462,
          1.1028289510008162,
          -1.2097544316232944,
          -1.1939998494256865,
          1.2253107286051743,
          0.031116092717685246,
          -0.7487543140223533,
          1.4274039877008702,
          -2.4152283125719656,
          0.8018374859983983,
          -0.652637162274179,
          -1.109773355409906,
          0.9421069223405514,
          0.9272547022786595,
          -2.0967011767857966,
          -0.9386686213866825,
          1.2712810659600504,
          0.6688989976815631,
          -1.538865098729885,
          0.7131115264494275,
          -0.6467904553989622,
          1.2822063664196233,
          -0.30066345972728864,
          0.5960304893962182,
          0.6082958314371802,
          -1.3267205129120214,
          0.8887344180865127,
          0.9487101456582948,
          1.208515049669603,
          -0.49564632045569046,
          -2.171379335945453,
          -0.5722068920663259,
          0.821728319864167,
          -0.4532924125120422,
          0.5176236846070436,
          1.074779233055591,
          -0.04980169881531574,
          -1.1325388535132843,
          -0.8340003699765887,
          0.4681608886840201,
          0.340074509311427,
          0.9532273672009145,
          -0.551300031728624,
          1.5019798360618883,
          2.0813328323766336,
          -1.8888588017436174,
          0.5527504926273384,
          -1.832394693910066,
          -0.1891939936596043,
          -0.1795525048751539,
          -0.41353587573206846,
          0.6119219622848441,
          0.3669411247956404,
          -1.656394643836909,
          0.6825827271960428,
          0.40978281154268725,
          -1.027348486216504,
          -0.8913232958653983,
          -2.176619637487184,
          1.6404497173622186,
          -1.1539800497331998,
          -2.6344933558902484,
          1.3269304883606206,
          -0.4686755309635699,
          0.15375555596251558,
          -0.003231518781125517,
          -2.5756810430242285,
          0.23191043239930428,
          -0.20325011510086552,
          -0.1262256677960052,
          -0.4306067892790383,
          2.223999933559132,
          -0.28481970484576097,
          0.041636347874112516,
          0.8363856899449069,
          -0.7190061049681735,
          -1.660586642755478,
          -0.8424461151634391,
          -1.3410654086417828,
          0.5173398539462267,
          -1.3712460727772473,
          -0.4467550562662734,
          0.9157433279770691,
          1.754416969372457,
          0.6747547564025815,
          0.6483259564379472,
          0.9589442722537845,
          -1.1404949913493048,
          -0.9607080724043362,
          -0.4758449423533752,
          -0.2995599393280748,
          -0.24888778174690462,
          0.15542907347123394,
          -1.2558919529016797,
          1.4884181758140078,
          -0.17569860858299177,
          1.225904563594473,
          1.1324490392969089,
          0.3835923409382287,
          1.9124939131151277,
          -0.47992141278970996,
          -0.17605511359007,
          0.2200553792256361,
          -0.45229522971198904,
          -1.8838923550993498,
          0.13315305673333974,
          -0.8266448326458588,
          1.2294707915972516,
          0.6778486167632689,
          -0.15856560330555253,
          1.0126681253705112,
          0.6806465776765602,
          -2.341158623582788,
          0.2755666236492162,
          -0.7172182469495813,
          0.7930105775209679,
          0.39568977405882394,
          1.528726412996672,
          0.24679536520261422,
          -0.46161608591743614,
          -0.41260788090652584,
          -0.9197333364273914,
          1.2672340572160545,
          -0.7680399463059111,
          0.20875650311460647,
          -0.8688520154587448,
          1.1871175195914496,
          0.4318475877039881,
          0.22291570222242593,
          1.912613011968483,
          -1.1895491534313078,
          -0.8601534520780754,
          -0.6884358071535207,
          1.6067100199942381,
          0.8869574010673043,
          2.2738448377759197,
          0.053238690773936066,
          -0.10165799243942343,
          -1.5322439587081917,
          1.4952390580885375,
          -0.3456678618511981,
          -0.09156509867611441,
          -1.7259238493479152,
          0.42627109535565494,
          0.13155584440661
         ],
         "y": [
          1.4018747311698432,
          0.12305038788003114,
          -2.0621604828169295,
          0.6310971788406574,
          0.017478005933253684,
          0.6964587848925091,
          0.6692142639756167,
          1.030659741046712,
          0.9596758077035872,
          -0.9164290079884374,
          -0.6446851483938009,
          -0.6116667373572493,
          1.7260305025206517,
          -0.2759506642155176,
          -0.3188067675342285,
          0.9549478759656118,
          0.4002068068348017,
          0.3618786329647358,
          -2.232852501779732,
          0.2634002979548043,
          -0.23434598180308425,
          0.44521962838237017,
          -1.8927127354319755,
          -1.3297540297781392,
          -0.07764797635478797,
          1.702839909849972,
          -1.0460649622342382,
          -0.23597238404268153,
          -1.3174204369042208,
          0.5712385004026206,
          -0.9397730609282275,
          1.244707443354532,
          -0.5536989612126252,
          0.6402166179463994,
          0.22426803921109695,
          -0.21264092848600558,
          -0.10993557287781922,
          -0.9819230417166805,
          0.6079360463127345,
          -0.6057679799690354,
          -1.1119745914173358,
          -1.560293807992332,
          -1.1987638460095538,
          0.4858277742131986,
          2.350569384291055,
          0.6151746971191706,
          0.3847879036524305,
          -0.40025360862732406,
          -0.2827464088764763,
          0.7732213376383255,
          -0.42574944193944025,
          -0.0977566524060275,
          -1.0460108459597866,
          -0.41906615486287035,
          -0.828081174470112,
          -1.5777766072475146,
          -1.751258971395327,
          -0.4577098650787121,
          -0.48384052874521427,
          0.6370632780928125,
          0.6135858592175875,
          -1.0524005004526487,
          -0.18939000452678795,
          1.4832097967972961,
          -1.4478718403622282,
          -1.175823620507187,
          -1.348720049032188,
          -0.840154268876634,
          0.16179821554044488,
          0.4215991235352048,
          -0.09304837280981533,
          1.0229402146371382,
          -0.6777075034485878,
          2.363547662269973,
          0.17517567510440044,
          -1.0142764458464555,
          0.769643017358293,
          -0.559782604130007,
          -0.09826200135677465,
          -2.19532344141647,
          -0.9028689610271179,
          -0.5641688540688159,
          0.0069344933942429516,
          1.771818416056886,
          -0.7042878205436063,
          -1.141511977610186,
          1.104695798124243,
          0.05504535578585138,
          -0.903445628111115,
          -1.0751312204194619,
          0.5433315622422493,
          -0.4816293656408814,
          0.4315047393038972,
          -0.13705156305918187,
          0.3792927120427439,
          -0.11521231565490844,
          -1.2704729596598132,
          -1.3483168965194472,
          -1.671616523024985,
          -0.1521424450157583,
          0.5440995446011344,
          -0.3718765369382678,
          -1.3965083041927662,
          2.526942966641223,
          2.239723475005572,
          -1.4859105355107327,
          1.9818013383576558,
          0.802989460671471,
          1.0303651079399383,
          2.3335949332225114,
          -2.2910087524718072,
          -1.1537515922644148,
          -1.3750319900867725,
          -1.6326060100061293,
          0.6645823180882093,
          1.4740851265119306,
          -0.7666063770492628,
          -0.5548089730982696,
          1.408417243841149,
          -0.4820681914552715,
          1.4701297681558765,
          0.27907719634906686,
          0.7102972508579796,
          -1.5217772011708037,
          0.010862325434475873,
          -0.016880069539919544,
          0.7993093349399368,
          1.015635996790291,
          -0.4474593226688298,
          0.7621086015075268,
          0.8856847020812305,
          1.2102974267836348,
          -1.5386477932819997,
          0.03834324809398329,
          -0.22576792002145568,
          1.0537342040776074,
          -1.3138277848469238,
          0.07049054804272177,
          0.4018169670712659,
          -0.2801832887276961,
          -0.5690121191476055,
          0.35598993442828114,
          -0.004734667011751212,
          0.33230256805073644,
          1.962345783467431,
          -0.2940856894796608,
          -0.1283389011930353,
          0.6168331074300294,
          0.7662626610879297,
          -1.7383020615197815,
          -1.2929174451479046,
          -2.096026957868482,
          0.42565821552001964,
          -0.5002591085547238,
          -0.919531712491247,
          -1.2964648092634155,
          -0.6962169438232568,
          0.03230857859249144,
          -0.529635964552918,
          2.0666298734833393,
          -0.17675252627642735,
          -1.0095191628490185,
          -0.5861082273681731,
          0.6937314493180352,
          0.9261375158887465,
          -1.1213803593314928,
          0.7213848051405207,
          0.3847080628723777,
          0.8894236002885328,
          1.6153335879826933,
          -1.0259748146661083,
          0.028568303126833148,
          0.2334580037219608,
          -2.1501354617090467,
          -0.9422006481662677,
          0.1444750455076689,
          1.0861237079967807,
          1.7201363417958033,
          2.0569115563677145,
          -1.381679208771417,
          -1.0351911302661752,
          1.5223278152050266,
          -0.23231343649555608,
          0.5412096716486152,
          -0.9721564299191358,
          -0.22792905301475427,
          -1.2773274724256982,
          0.8636612498925738,
          -1.2166122317481987,
          0.3507319275056264,
          -1.3101065387849253,
          1.037759945045999,
          1.9370197828161602,
          -2.516970783487686,
          0.10533441465097182,
          -1.9508940804635506,
          0.41530356237292915,
          0.17440382713054814,
          -2.0687853329702146,
          0.22323291262987086
         ]
        }
       ],
       "layout": {
        "legend": {
         "bgcolor": "#F5F6F9",
         "font": {
          "color": "#4D5663"
         }
        },
        "paper_bgcolor": "#F5F6F9",
        "plot_bgcolor": "#F5F6F9",
        "template": {
         "data": {
          "bar": [
           {
            "error_x": {
             "color": "#2a3f5f"
            },
            "error_y": {
             "color": "#2a3f5f"
            },
            "marker": {
             "line": {
              "color": "#E5ECF6",
              "width": 0.5
             },
             "pattern": {
              "fillmode": "overlay",
              "size": 10,
              "solidity": 0.2
             }
            },
            "type": "bar"
           }
          ],
          "barpolar": [
           {
            "marker": {
             "line": {
              "color": "#E5ECF6",
              "width": 0.5
             },
             "pattern": {
              "fillmode": "overlay",
              "size": 10,
              "solidity": 0.2
             }
            },
            "type": "barpolar"
           }
          ],
          "carpet": [
           {
            "aaxis": {
             "endlinecolor": "#2a3f5f",
             "gridcolor": "white",
             "linecolor": "white",
             "minorgridcolor": "white",
             "startlinecolor": "#2a3f5f"
            },
            "baxis": {
             "endlinecolor": "#2a3f5f",
             "gridcolor": "white",
             "linecolor": "white",
             "minorgridcolor": "white",
             "startlinecolor": "#2a3f5f"
            },
            "type": "carpet"
           }
          ],
          "choropleth": [
           {
            "colorbar": {
             "outlinewidth": 0,
             "ticks": ""
            },
            "type": "choropleth"
           }
          ],
          "contour": [
           {
            "colorbar": {
             "outlinewidth": 0,
             "ticks": ""
            },
            "colorscale": [
             [
              0,
              "#0d0887"
             ],
             [
              0.1111111111111111,
              "#46039f"
             ],
             [
              0.2222222222222222,
              "#7201a8"
             ],
             [
              0.3333333333333333,
              "#9c179e"
             ],
             [
              0.4444444444444444,
              "#bd3786"
             ],
             [
              0.5555555555555556,
              "#d8576b"
             ],
             [
              0.6666666666666666,
              "#ed7953"
             ],
             [
              0.7777777777777778,
              "#fb9f3a"
             ],
             [
              0.8888888888888888,
              "#fdca26"
             ],
             [
              1,
              "#f0f921"
             ]
            ],
            "type": "contour"
           }
          ],
          "contourcarpet": [
           {
            "colorbar": {
             "outlinewidth": 0,
             "ticks": ""
            },
            "type": "contourcarpet"
           }
          ],
          "heatmap": [
           {
            "colorbar": {
             "outlinewidth": 0,
             "ticks": ""
            },
            "colorscale": [
             [
              0,
              "#0d0887"
             ],
             [
              0.1111111111111111,
              "#46039f"
             ],
             [
              0.2222222222222222,
              "#7201a8"
             ],
             [
              0.3333333333333333,
              "#9c179e"
             ],
             [
              0.4444444444444444,
              "#bd3786"
             ],
             [
              0.5555555555555556,
              "#d8576b"
             ],
             [
              0.6666666666666666,
              "#ed7953"
             ],
             [
              0.7777777777777778,
              "#fb9f3a"
             ],
             [
              0.8888888888888888,
              "#fdca26"
             ],
             [
              1,
              "#f0f921"
             ]
            ],
            "type": "heatmap"
           }
          ],
          "heatmapgl": [
           {
            "colorbar": {
             "outlinewidth": 0,
             "ticks": ""
            },
            "colorscale": [
             [
              0,
              "#0d0887"
             ],
             [
              0.1111111111111111,
              "#46039f"
             ],
             [
              0.2222222222222222,
              "#7201a8"
             ],
             [
              0.3333333333333333,
              "#9c179e"
             ],
             [
              0.4444444444444444,
              "#bd3786"
             ],
             [
              0.5555555555555556,
              "#d8576b"
             ],
             [
              0.6666666666666666,
              "#ed7953"
             ],
             [
              0.7777777777777778,
              "#fb9f3a"
             ],
             [
              0.8888888888888888,
              "#fdca26"
             ],
             [
              1,
              "#f0f921"
             ]
            ],
            "type": "heatmapgl"
           }
          ],
          "histogram": [
           {
            "marker": {
             "pattern": {
              "fillmode": "overlay",
              "size": 10,
              "solidity": 0.2
             }
            },
            "type": "histogram"
           }
          ],
          "histogram2d": [
           {
            "colorbar": {
             "outlinewidth": 0,
             "ticks": ""
            },
            "colorscale": [
             [
              0,
              "#0d0887"
             ],
             [
              0.1111111111111111,
              "#46039f"
             ],
             [
              0.2222222222222222,
              "#7201a8"
             ],
             [
              0.3333333333333333,
              "#9c179e"
             ],
             [
              0.4444444444444444,
              "#bd3786"
             ],
             [
              0.5555555555555556,
              "#d8576b"
             ],
             [
              0.6666666666666666,
              "#ed7953"
             ],
             [
              0.7777777777777778,
              "#fb9f3a"
             ],
             [
              0.8888888888888888,
              "#fdca26"
             ],
             [
              1,
              "#f0f921"
             ]
            ],
            "type": "histogram2d"
           }
          ],
          "histogram2dcontour": [
           {
            "colorbar": {
             "outlinewidth": 0,
             "ticks": ""
            },
            "colorscale": [
             [
              0,
              "#0d0887"
             ],
             [
              0.1111111111111111,
              "#46039f"
             ],
             [
              0.2222222222222222,
              "#7201a8"
             ],
             [
              0.3333333333333333,
              "#9c179e"
             ],
             [
              0.4444444444444444,
              "#bd3786"
             ],
             [
              0.5555555555555556,
              "#d8576b"
             ],
             [
              0.6666666666666666,
              "#ed7953"
             ],
             [
              0.7777777777777778,
              "#fb9f3a"
             ],
             [
              0.8888888888888888,
              "#fdca26"
             ],
             [
              1,
              "#f0f921"
             ]
            ],
            "type": "histogram2dcontour"
           }
          ],
          "mesh3d": [
           {
            "colorbar": {
             "outlinewidth": 0,
             "ticks": ""
            },
            "type": "mesh3d"
           }
          ],
          "parcoords": [
           {
            "line": {
             "colorbar": {
              "outlinewidth": 0,
              "ticks": ""
             }
            },
            "type": "parcoords"
           }
          ],
          "pie": [
           {
            "automargin": true,
            "type": "pie"
           }
          ],
          "scatter": [
           {
            "fillpattern": {
             "fillmode": "overlay",
             "size": 10,
             "solidity": 0.2
            },
            "type": "scatter"
           }
          ],
          "scatter3d": [
           {
            "line": {
             "colorbar": {
              "outlinewidth": 0,
              "ticks": ""
             }
            },
            "marker": {
             "colorbar": {
              "outlinewidth": 0,
              "ticks": ""
             }
            },
            "type": "scatter3d"
           }
          ],
          "scattercarpet": [
           {
            "marker": {
             "colorbar": {
              "outlinewidth": 0,
              "ticks": ""
             }
            },
            "type": "scattercarpet"
           }
          ],
          "scattergeo": [
           {
            "marker": {
             "colorbar": {
              "outlinewidth": 0,
              "ticks": ""
             }
            },
            "type": "scattergeo"
           }
          ],
          "scattergl": [
           {
            "marker": {
             "colorbar": {
              "outlinewidth": 0,
              "ticks": ""
             }
            },
            "type": "scattergl"
           }
          ],
          "scattermapbox": [
           {
            "marker": {
             "colorbar": {
              "outlinewidth": 0,
              "ticks": ""
             }
            },
            "type": "scattermapbox"
           }
          ],
          "scatterpolar": [
           {
            "marker": {
             "colorbar": {
              "outlinewidth": 0,
              "ticks": ""
             }
            },
            "type": "scatterpolar"
           }
          ],
          "scatterpolargl": [
           {
            "marker": {
             "colorbar": {
              "outlinewidth": 0,
              "ticks": ""
             }
            },
            "type": "scatterpolargl"
           }
          ],
          "scatterternary": [
           {
            "marker": {
             "colorbar": {
              "outlinewidth": 0,
              "ticks": ""
             }
            },
            "type": "scatterternary"
           }
          ],
          "surface": [
           {
            "colorbar": {
             "outlinewidth": 0,
             "ticks": ""
            },
            "colorscale": [
             [
              0,
              "#0d0887"
             ],
             [
              0.1111111111111111,
              "#46039f"
             ],
             [
              0.2222222222222222,
              "#7201a8"
             ],
             [
              0.3333333333333333,
              "#9c179e"
             ],
             [
              0.4444444444444444,
              "#bd3786"
             ],
             [
              0.5555555555555556,
              "#d8576b"
             ],
             [
              0.6666666666666666,
              "#ed7953"
             ],
             [
              0.7777777777777778,
              "#fb9f3a"
             ],
             [
              0.8888888888888888,
              "#fdca26"
             ],
             [
              1,
              "#f0f921"
             ]
            ],
            "type": "surface"
           }
          ],
          "table": [
           {
            "cells": {
             "fill": {
              "color": "#EBF0F8"
             },
             "line": {
              "color": "white"
             }
            },
            "header": {
             "fill": {
              "color": "#C8D4E3"
             },
             "line": {
              "color": "white"
             }
            },
            "type": "table"
           }
          ]
         },
         "layout": {
          "annotationdefaults": {
           "arrowcolor": "#2a3f5f",
           "arrowhead": 0,
           "arrowwidth": 1
          },
          "autotypenumbers": "strict",
          "coloraxis": {
           "colorbar": {
            "outlinewidth": 0,
            "ticks": ""
           }
          },
          "colorscale": {
           "diverging": [
            [
             0,
             "#8e0152"
            ],
            [
             0.1,
             "#c51b7d"
            ],
            [
             0.2,
             "#de77ae"
            ],
            [
             0.3,
             "#f1b6da"
            ],
            [
             0.4,
             "#fde0ef"
            ],
            [
             0.5,
             "#f7f7f7"
            ],
            [
             0.6,
             "#e6f5d0"
            ],
            [
             0.7,
             "#b8e186"
            ],
            [
             0.8,
             "#7fbc41"
            ],
            [
             0.9,
             "#4d9221"
            ],
            [
             1,
             "#276419"
            ]
           ],
           "sequential": [
            [
             0,
             "#0d0887"
            ],
            [
             0.1111111111111111,
             "#46039f"
            ],
            [
             0.2222222222222222,
             "#7201a8"
            ],
            [
             0.3333333333333333,
             "#9c179e"
            ],
            [
             0.4444444444444444,
             "#bd3786"
            ],
            [
             0.5555555555555556,
             "#d8576b"
            ],
            [
             0.6666666666666666,
             "#ed7953"
            ],
            [
             0.7777777777777778,
             "#fb9f3a"
            ],
            [
             0.8888888888888888,
             "#fdca26"
            ],
            [
             1,
             "#f0f921"
            ]
           ],
           "sequentialminus": [
            [
             0,
             "#0d0887"
            ],
            [
             0.1111111111111111,
             "#46039f"
            ],
            [
             0.2222222222222222,
             "#7201a8"
            ],
            [
             0.3333333333333333,
             "#9c179e"
            ],
            [
             0.4444444444444444,
             "#bd3786"
            ],
            [
             0.5555555555555556,
             "#d8576b"
            ],
            [
             0.6666666666666666,
             "#ed7953"
            ],
            [
             0.7777777777777778,
             "#fb9f3a"
            ],
            [
             0.8888888888888888,
             "#fdca26"
            ],
            [
             1,
             "#f0f921"
            ]
           ]
          },
          "colorway": [
           "#636efa",
           "#EF553B",
           "#00cc96",
           "#ab63fa",
           "#FFA15A",
           "#19d3f3",
           "#FF6692",
           "#B6E880",
           "#FF97FF",
           "#FECB52"
          ],
          "font": {
           "color": "#2a3f5f"
          },
          "geo": {
           "bgcolor": "white",
           "lakecolor": "white",
           "landcolor": "#E5ECF6",
           "showlakes": true,
           "showland": true,
           "subunitcolor": "white"
          },
          "hoverlabel": {
           "align": "left"
          },
          "hovermode": "closest",
          "mapbox": {
           "style": "light"
          },
          "paper_bgcolor": "white",
          "plot_bgcolor": "#E5ECF6",
          "polar": {
           "angularaxis": {
            "gridcolor": "white",
            "linecolor": "white",
            "ticks": ""
           },
           "bgcolor": "#E5ECF6",
           "radialaxis": {
            "gridcolor": "white",
            "linecolor": "white",
            "ticks": ""
           }
          },
          "scene": {
           "xaxis": {
            "backgroundcolor": "#E5ECF6",
            "gridcolor": "white",
            "gridwidth": 2,
            "linecolor": "white",
            "showbackground": true,
            "ticks": "",
            "zerolinecolor": "white"
           },
           "yaxis": {
            "backgroundcolor": "#E5ECF6",
            "gridcolor": "white",
            "gridwidth": 2,
            "linecolor": "white",
            "showbackground": true,
            "ticks": "",
            "zerolinecolor": "white"
           },
           "zaxis": {
            "backgroundcolor": "#E5ECF6",
            "gridcolor": "white",
            "gridwidth": 2,
            "linecolor": "white",
            "showbackground": true,
            "ticks": "",
            "zerolinecolor": "white"
           }
          },
          "shapedefaults": {
           "line": {
            "color": "#2a3f5f"
           }
          },
          "ternary": {
           "aaxis": {
            "gridcolor": "white",
            "linecolor": "white",
            "ticks": ""
           },
           "baxis": {
            "gridcolor": "white",
            "linecolor": "white",
            "ticks": ""
           },
           "bgcolor": "#E5ECF6",
           "caxis": {
            "gridcolor": "white",
            "linecolor": "white",
            "ticks": ""
           }
          },
          "title": {
           "x": 0.05
          },
          "xaxis": {
           "automargin": true,
           "gridcolor": "white",
           "linecolor": "white",
           "ticks": "",
           "title": {
            "standoff": 15
           },
           "zerolinecolor": "white",
           "zerolinewidth": 2
          },
          "yaxis": {
           "automargin": true,
           "gridcolor": "white",
           "linecolor": "white",
           "ticks": "",
           "title": {
            "standoff": 15
           },
           "zerolinecolor": "white",
           "zerolinewidth": 2
          }
         }
        },
        "title": {
         "font": {
          "color": "#4D5663"
         }
        },
        "xaxis": {
         "gridcolor": "#E1E5ED",
         "showgrid": true,
         "tickfont": {
          "color": "#4D5663"
         },
         "title": {
          "font": {
           "color": "#4D5663"
          },
          "text": ""
         },
         "zerolinecolor": "#E1E5ED"
        },
        "yaxis": {
         "gridcolor": "#E1E5ED",
         "showgrid": true,
         "tickfont": {
          "color": "#4D5663"
         },
         "title": {
          "font": {
           "color": "#4D5663"
          },
          "text": ""
         },
         "zerolinecolor": "#E1E5ED"
        }
       }
      },
      "text/html": [
       "<div>                            <div id=\"37624e88-5e91-4241-9530-43932a10d6cd\" class=\"plotly-graph-div\" style=\"height:525px; width:100%;\"></div>            <script type=\"text/javascript\">                require([\"plotly\"], function(Plotly) {                    window.PLOTLYENV=window.PLOTLYENV || {};\n",
       "                    window.PLOTLYENV.BASE_URL='https://plot.ly';                                    if (document.getElementById(\"37624e88-5e91-4241-9530-43932a10d6cd\")) {                    Plotly.newPlot(                        \"37624e88-5e91-4241-9530-43932a10d6cd\",                        [{\"line\":{\"color\":\"rgba(255, 153, 51, 1.0)\",\"dash\":\"solid\",\"shape\":\"linear\",\"width\":1.3},\"mode\":\"lines\",\"name\":\"B\",\"text\":\"\",\"x\":[-1.487606705268289,-1.3270966904104238,0.3604379283601886,-1.0755063445021371,0.3811337534773147,2.0641007329383485,-0.48203477848504866,-0.38832558174328935,1.7478672968117868,1.1158691106492418,0.2896935352623028,-0.3812217927690513,0.42123870859889845,1.8812870946781968,2.557404536964999,-0.7058476334484991,0.28569424203115323,0.24695939642219372,-0.6385715504663668,0.9026702831781179,2.298729565138558,0.11640944430966896,0.42767735280331637,0.33544870905998614,0.16811832161387877,-0.21121411331425205,0.5874308678366539,-1.1216357817595521,0.11255262014025855,1.1853522193052266,0.45797947718207993,0.06034425911595249,0.9711702720221174,-0.7824061933747677,0.6276524906327481,-1.0548261198142173,-1.0832514348502216,-0.36189322746518,0.643434169576394,0.4488595629144203,0.8061508090023473,-1.222979893598644,-0.6920946263116126,-1.2937441326912544,0.23876442953656232,-0.817684328749027,0.08369524837438268,0.13287413960379232,-0.2499943512909606,0.6636954943467446,-0.5280332499790815,-0.5398566815380538,-0.31918190307525746,2.254926925098105,-0.7632175571836918,-1.1048423421686462,1.1028289510008162,-1.2097544316232944,-1.1939998494256865,1.2253107286051743,0.031116092717685246,-0.7487543140223533,1.4274039877008702,-2.4152283125719656,0.8018374859983983,-0.652637162274179,-1.109773355409906,0.9421069223405514,0.9272547022786595,-2.0967011767857966,-0.9386686213866825,1.2712810659600504,0.6688989976815631,-1.538865098729885,0.7131115264494275,-0.6467904553989622,1.2822063664196233,-0.30066345972728864,0.5960304893962182,0.6082958314371802,-1.3267205129120214,0.8887344180865127,0.9487101456582948,1.208515049669603,-0.49564632045569046,-2.171379335945453,-0.5722068920663259,0.821728319864167,-0.4532924125120422,0.5176236846070436,1.074779233055591,-0.04980169881531574,-1.1325388535132843,-0.8340003699765887,0.4681608886840201,0.340074509311427,0.9532273672009145,-0.551300031728624,1.5019798360618883,2.0813328323766336,-1.8888588017436174,0.5527504926273384,-1.832394693910066,-0.1891939936596043,-0.1795525048751539,-0.41353587573206846,0.6119219622848441,0.3669411247956404,-1.656394643836909,0.6825827271960428,0.40978281154268725,-1.027348486216504,-0.8913232958653983,-2.176619637487184,1.6404497173622186,-1.1539800497331998,-2.6344933558902484,1.3269304883606206,-0.4686755309635699,0.15375555596251558,-0.003231518781125517,-2.5756810430242285,0.23191043239930428,-0.20325011510086552,-0.1262256677960052,-0.4306067892790383,2.223999933559132,-0.28481970484576097,0.041636347874112516,0.8363856899449069,-0.7190061049681735,-1.660586642755478,-0.8424461151634391,-1.3410654086417828,0.5173398539462267,-1.3712460727772473,-0.4467550562662734,0.9157433279770691,1.754416969372457,0.6747547564025815,0.6483259564379472,0.9589442722537845,-1.1404949913493048,-0.9607080724043362,-0.4758449423533752,-0.2995599393280748,-0.24888778174690462,0.15542907347123394,-1.2558919529016797,1.4884181758140078,-0.17569860858299177,1.225904563594473,1.1324490392969089,0.3835923409382287,1.9124939131151277,-0.47992141278970996,-0.17605511359007,0.2200553792256361,-0.45229522971198904,-1.8838923550993498,0.13315305673333974,-0.8266448326458588,1.2294707915972516,0.6778486167632689,-0.15856560330555253,1.0126681253705112,0.6806465776765602,-2.341158623582788,0.2755666236492162,-0.7172182469495813,0.7930105775209679,0.39568977405882394,1.528726412996672,0.24679536520261422,-0.46161608591743614,-0.41260788090652584,-0.9197333364273914,1.2672340572160545,-0.7680399463059111,0.20875650311460647,-0.8688520154587448,1.1871175195914496,0.4318475877039881,0.22291570222242593,1.912613011968483,-1.1895491534313078,-0.8601534520780754,-0.6884358071535207,1.6067100199942381,0.8869574010673043,2.2738448377759197,0.053238690773936066,-0.10165799243942343,-1.5322439587081917,1.4952390580885375,-0.3456678618511981,-0.09156509867611441,-1.7259238493479152,0.42627109535565494,0.13155584440661],\"y\":[1.4018747311698432,0.12305038788003114,-2.0621604828169295,0.6310971788406574,0.017478005933253684,0.6964587848925091,0.6692142639756167,1.030659741046712,0.9596758077035872,-0.9164290079884374,-0.6446851483938009,-0.6116667373572493,1.7260305025206517,-0.2759506642155176,-0.3188067675342285,0.9549478759656118,0.4002068068348017,0.3618786329647358,-2.232852501779732,0.2634002979548043,-0.23434598180308425,0.44521962838237017,-1.8927127354319755,-1.3297540297781392,-0.07764797635478797,1.702839909849972,-1.0460649622342382,-0.23597238404268153,-1.3174204369042208,0.5712385004026206,-0.9397730609282275,1.244707443354532,-0.5536989612126252,0.6402166179463994,0.22426803921109695,-0.21264092848600558,-0.10993557287781922,-0.9819230417166805,0.6079360463127345,-0.6057679799690354,-1.1119745914173358,-1.560293807992332,-1.1987638460095538,0.4858277742131986,2.350569384291055,0.6151746971191706,0.3847879036524305,-0.40025360862732406,-0.2827464088764763,0.7732213376383255,-0.42574944193944025,-0.0977566524060275,-1.0460108459597866,-0.41906615486287035,-0.828081174470112,-1.5777766072475146,-1.751258971395327,-0.4577098650787121,-0.48384052874521427,0.6370632780928125,0.6135858592175875,-1.0524005004526487,-0.18939000452678795,1.4832097967972961,-1.4478718403622282,-1.175823620507187,-1.348720049032188,-0.840154268876634,0.16179821554044488,0.4215991235352048,-0.09304837280981533,1.0229402146371382,-0.6777075034485878,2.363547662269973,0.17517567510440044,-1.0142764458464555,0.769643017358293,-0.559782604130007,-0.09826200135677465,-2.19532344141647,-0.9028689610271179,-0.5641688540688159,0.0069344933942429516,1.771818416056886,-0.7042878205436063,-1.141511977610186,1.104695798124243,0.05504535578585138,-0.903445628111115,-1.0751312204194619,0.5433315622422493,-0.4816293656408814,0.4315047393038972,-0.13705156305918187,0.3792927120427439,-0.11521231565490844,-1.2704729596598132,-1.3483168965194472,-1.671616523024985,-0.1521424450157583,0.5440995446011344,-0.3718765369382678,-1.3965083041927662,2.526942966641223,2.239723475005572,-1.4859105355107327,1.9818013383576558,0.802989460671471,1.0303651079399383,2.3335949332225114,-2.2910087524718072,-1.1537515922644148,-1.3750319900867725,-1.6326060100061293,0.6645823180882093,1.4740851265119306,-0.7666063770492628,-0.5548089730982696,1.408417243841149,-0.4820681914552715,1.4701297681558765,0.27907719634906686,0.7102972508579796,-1.5217772011708037,0.010862325434475873,-0.016880069539919544,0.7993093349399368,1.015635996790291,-0.4474593226688298,0.7621086015075268,0.8856847020812305,1.2102974267836348,-1.5386477932819997,0.03834324809398329,-0.22576792002145568,1.0537342040776074,-1.3138277848469238,0.07049054804272177,0.4018169670712659,-0.2801832887276961,-0.5690121191476055,0.35598993442828114,-0.004734667011751212,0.33230256805073644,1.962345783467431,-0.2940856894796608,-0.1283389011930353,0.6168331074300294,0.7662626610879297,-1.7383020615197815,-1.2929174451479046,-2.096026957868482,0.42565821552001964,-0.5002591085547238,-0.919531712491247,-1.2964648092634155,-0.6962169438232568,0.03230857859249144,-0.529635964552918,2.0666298734833393,-0.17675252627642735,-1.0095191628490185,-0.5861082273681731,0.6937314493180352,0.9261375158887465,-1.1213803593314928,0.7213848051405207,0.3847080628723777,0.8894236002885328,1.6153335879826933,-1.0259748146661083,0.028568303126833148,0.2334580037219608,-2.1501354617090467,-0.9422006481662677,0.1444750455076689,1.0861237079967807,1.7201363417958033,2.0569115563677145,-1.381679208771417,-1.0351911302661752,1.5223278152050266,-0.23231343649555608,0.5412096716486152,-0.9721564299191358,-0.22792905301475427,-1.2773274724256982,0.8636612498925738,-1.2166122317481987,0.3507319275056264,-1.3101065387849253,1.037759945045999,1.9370197828161602,-2.516970783487686,0.10533441465097182,-1.9508940804635506,0.41530356237292915,0.17440382713054814,-2.0687853329702146,0.22323291262987086],\"type\":\"scatter\"}],                        {\"legend\":{\"bgcolor\":\"#F5F6F9\",\"font\":{\"color\":\"#4D5663\"}},\"paper_bgcolor\":\"#F5F6F9\",\"plot_bgcolor\":\"#F5F6F9\",\"template\":{\"data\":{\"barpolar\":[{\"marker\":{\"line\":{\"color\":\"#E5ECF6\",\"width\":0.5},\"pattern\":{\"fillmode\":\"overlay\",\"size\":10,\"solidity\":0.2}},\"type\":\"barpolar\"}],\"bar\":[{\"error_x\":{\"color\":\"#2a3f5f\"},\"error_y\":{\"color\":\"#2a3f5f\"},\"marker\":{\"line\":{\"color\":\"#E5ECF6\",\"width\":0.5},\"pattern\":{\"fillmode\":\"overlay\",\"size\":10,\"solidity\":0.2}},\"type\":\"bar\"}],\"carpet\":[{\"aaxis\":{\"endlinecolor\":\"#2a3f5f\",\"gridcolor\":\"white\",\"linecolor\":\"white\",\"minorgridcolor\":\"white\",\"startlinecolor\":\"#2a3f5f\"},\"baxis\":{\"endlinecolor\":\"#2a3f5f\",\"gridcolor\":\"white\",\"linecolor\":\"white\",\"minorgridcolor\":\"white\",\"startlinecolor\":\"#2a3f5f\"},\"type\":\"carpet\"}],\"choropleth\":[{\"colorbar\":{\"outlinewidth\":0,\"ticks\":\"\"},\"type\":\"choropleth\"}],\"contourcarpet\":[{\"colorbar\":{\"outlinewidth\":0,\"ticks\":\"\"},\"type\":\"contourcarpet\"}],\"contour\":[{\"colorbar\":{\"outlinewidth\":0,\"ticks\":\"\"},\"colorscale\":[[0.0,\"#0d0887\"],[0.1111111111111111,\"#46039f\"],[0.2222222222222222,\"#7201a8\"],[0.3333333333333333,\"#9c179e\"],[0.4444444444444444,\"#bd3786\"],[0.5555555555555556,\"#d8576b\"],[0.6666666666666666,\"#ed7953\"],[0.7777777777777778,\"#fb9f3a\"],[0.8888888888888888,\"#fdca26\"],[1.0,\"#f0f921\"]],\"type\":\"contour\"}],\"heatmapgl\":[{\"colorbar\":{\"outlinewidth\":0,\"ticks\":\"\"},\"colorscale\":[[0.0,\"#0d0887\"],[0.1111111111111111,\"#46039f\"],[0.2222222222222222,\"#7201a8\"],[0.3333333333333333,\"#9c179e\"],[0.4444444444444444,\"#bd3786\"],[0.5555555555555556,\"#d8576b\"],[0.6666666666666666,\"#ed7953\"],[0.7777777777777778,\"#fb9f3a\"],[0.8888888888888888,\"#fdca26\"],[1.0,\"#f0f921\"]],\"type\":\"heatmapgl\"}],\"heatmap\":[{\"colorbar\":{\"outlinewidth\":0,\"ticks\":\"\"},\"colorscale\":[[0.0,\"#0d0887\"],[0.1111111111111111,\"#46039f\"],[0.2222222222222222,\"#7201a8\"],[0.3333333333333333,\"#9c179e\"],[0.4444444444444444,\"#bd3786\"],[0.5555555555555556,\"#d8576b\"],[0.6666666666666666,\"#ed7953\"],[0.7777777777777778,\"#fb9f3a\"],[0.8888888888888888,\"#fdca26\"],[1.0,\"#f0f921\"]],\"type\":\"heatmap\"}],\"histogram2dcontour\":[{\"colorbar\":{\"outlinewidth\":0,\"ticks\":\"\"},\"colorscale\":[[0.0,\"#0d0887\"],[0.1111111111111111,\"#46039f\"],[0.2222222222222222,\"#7201a8\"],[0.3333333333333333,\"#9c179e\"],[0.4444444444444444,\"#bd3786\"],[0.5555555555555556,\"#d8576b\"],[0.6666666666666666,\"#ed7953\"],[0.7777777777777778,\"#fb9f3a\"],[0.8888888888888888,\"#fdca26\"],[1.0,\"#f0f921\"]],\"type\":\"histogram2dcontour\"}],\"histogram2d\":[{\"colorbar\":{\"outlinewidth\":0,\"ticks\":\"\"},\"colorscale\":[[0.0,\"#0d0887\"],[0.1111111111111111,\"#46039f\"],[0.2222222222222222,\"#7201a8\"],[0.3333333333333333,\"#9c179e\"],[0.4444444444444444,\"#bd3786\"],[0.5555555555555556,\"#d8576b\"],[0.6666666666666666,\"#ed7953\"],[0.7777777777777778,\"#fb9f3a\"],[0.8888888888888888,\"#fdca26\"],[1.0,\"#f0f921\"]],\"type\":\"histogram2d\"}],\"histogram\":[{\"marker\":{\"pattern\":{\"fillmode\":\"overlay\",\"size\":10,\"solidity\":0.2}},\"type\":\"histogram\"}],\"mesh3d\":[{\"colorbar\":{\"outlinewidth\":0,\"ticks\":\"\"},\"type\":\"mesh3d\"}],\"parcoords\":[{\"line\":{\"colorbar\":{\"outlinewidth\":0,\"ticks\":\"\"}},\"type\":\"parcoords\"}],\"pie\":[{\"automargin\":true,\"type\":\"pie\"}],\"scatter3d\":[{\"line\":{\"colorbar\":{\"outlinewidth\":0,\"ticks\":\"\"}},\"marker\":{\"colorbar\":{\"outlinewidth\":0,\"ticks\":\"\"}},\"type\":\"scatter3d\"}],\"scattercarpet\":[{\"marker\":{\"colorbar\":{\"outlinewidth\":0,\"ticks\":\"\"}},\"type\":\"scattercarpet\"}],\"scattergeo\":[{\"marker\":{\"colorbar\":{\"outlinewidth\":0,\"ticks\":\"\"}},\"type\":\"scattergeo\"}],\"scattergl\":[{\"marker\":{\"colorbar\":{\"outlinewidth\":0,\"ticks\":\"\"}},\"type\":\"scattergl\"}],\"scattermapbox\":[{\"marker\":{\"colorbar\":{\"outlinewidth\":0,\"ticks\":\"\"}},\"type\":\"scattermapbox\"}],\"scatterpolargl\":[{\"marker\":{\"colorbar\":{\"outlinewidth\":0,\"ticks\":\"\"}},\"type\":\"scatterpolargl\"}],\"scatterpolar\":[{\"marker\":{\"colorbar\":{\"outlinewidth\":0,\"ticks\":\"\"}},\"type\":\"scatterpolar\"}],\"scatter\":[{\"fillpattern\":{\"fillmode\":\"overlay\",\"size\":10,\"solidity\":0.2},\"type\":\"scatter\"}],\"scatterternary\":[{\"marker\":{\"colorbar\":{\"outlinewidth\":0,\"ticks\":\"\"}},\"type\":\"scatterternary\"}],\"surface\":[{\"colorbar\":{\"outlinewidth\":0,\"ticks\":\"\"},\"colorscale\":[[0.0,\"#0d0887\"],[0.1111111111111111,\"#46039f\"],[0.2222222222222222,\"#7201a8\"],[0.3333333333333333,\"#9c179e\"],[0.4444444444444444,\"#bd3786\"],[0.5555555555555556,\"#d8576b\"],[0.6666666666666666,\"#ed7953\"],[0.7777777777777778,\"#fb9f3a\"],[0.8888888888888888,\"#fdca26\"],[1.0,\"#f0f921\"]],\"type\":\"surface\"}],\"table\":[{\"cells\":{\"fill\":{\"color\":\"#EBF0F8\"},\"line\":{\"color\":\"white\"}},\"header\":{\"fill\":{\"color\":\"#C8D4E3\"},\"line\":{\"color\":\"white\"}},\"type\":\"table\"}]},\"layout\":{\"annotationdefaults\":{\"arrowcolor\":\"#2a3f5f\",\"arrowhead\":0,\"arrowwidth\":1},\"autotypenumbers\":\"strict\",\"coloraxis\":{\"colorbar\":{\"outlinewidth\":0,\"ticks\":\"\"}},\"colorscale\":{\"diverging\":[[0,\"#8e0152\"],[0.1,\"#c51b7d\"],[0.2,\"#de77ae\"],[0.3,\"#f1b6da\"],[0.4,\"#fde0ef\"],[0.5,\"#f7f7f7\"],[0.6,\"#e6f5d0\"],[0.7,\"#b8e186\"],[0.8,\"#7fbc41\"],[0.9,\"#4d9221\"],[1,\"#276419\"]],\"sequential\":[[0.0,\"#0d0887\"],[0.1111111111111111,\"#46039f\"],[0.2222222222222222,\"#7201a8\"],[0.3333333333333333,\"#9c179e\"],[0.4444444444444444,\"#bd3786\"],[0.5555555555555556,\"#d8576b\"],[0.6666666666666666,\"#ed7953\"],[0.7777777777777778,\"#fb9f3a\"],[0.8888888888888888,\"#fdca26\"],[1.0,\"#f0f921\"]],\"sequentialminus\":[[0.0,\"#0d0887\"],[0.1111111111111111,\"#46039f\"],[0.2222222222222222,\"#7201a8\"],[0.3333333333333333,\"#9c179e\"],[0.4444444444444444,\"#bd3786\"],[0.5555555555555556,\"#d8576b\"],[0.6666666666666666,\"#ed7953\"],[0.7777777777777778,\"#fb9f3a\"],[0.8888888888888888,\"#fdca26\"],[1.0,\"#f0f921\"]]},\"colorway\":[\"#636efa\",\"#EF553B\",\"#00cc96\",\"#ab63fa\",\"#FFA15A\",\"#19d3f3\",\"#FF6692\",\"#B6E880\",\"#FF97FF\",\"#FECB52\"],\"font\":{\"color\":\"#2a3f5f\"},\"geo\":{\"bgcolor\":\"white\",\"lakecolor\":\"white\",\"landcolor\":\"#E5ECF6\",\"showlakes\":true,\"showland\":true,\"subunitcolor\":\"white\"},\"hoverlabel\":{\"align\":\"left\"},\"hovermode\":\"closest\",\"mapbox\":{\"style\":\"light\"},\"paper_bgcolor\":\"white\",\"plot_bgcolor\":\"#E5ECF6\",\"polar\":{\"angularaxis\":{\"gridcolor\":\"white\",\"linecolor\":\"white\",\"ticks\":\"\"},\"bgcolor\":\"#E5ECF6\",\"radialaxis\":{\"gridcolor\":\"white\",\"linecolor\":\"white\",\"ticks\":\"\"}},\"scene\":{\"xaxis\":{\"backgroundcolor\":\"#E5ECF6\",\"gridcolor\":\"white\",\"gridwidth\":2,\"linecolor\":\"white\",\"showbackground\":true,\"ticks\":\"\",\"zerolinecolor\":\"white\"},\"yaxis\":{\"backgroundcolor\":\"#E5ECF6\",\"gridcolor\":\"white\",\"gridwidth\":2,\"linecolor\":\"white\",\"showbackground\":true,\"ticks\":\"\",\"zerolinecolor\":\"white\"},\"zaxis\":{\"backgroundcolor\":\"#E5ECF6\",\"gridcolor\":\"white\",\"gridwidth\":2,\"linecolor\":\"white\",\"showbackground\":true,\"ticks\":\"\",\"zerolinecolor\":\"white\"}},\"shapedefaults\":{\"line\":{\"color\":\"#2a3f5f\"}},\"ternary\":{\"aaxis\":{\"gridcolor\":\"white\",\"linecolor\":\"white\",\"ticks\":\"\"},\"baxis\":{\"gridcolor\":\"white\",\"linecolor\":\"white\",\"ticks\":\"\"},\"bgcolor\":\"#E5ECF6\",\"caxis\":{\"gridcolor\":\"white\",\"linecolor\":\"white\",\"ticks\":\"\"}},\"title\":{\"x\":0.05},\"xaxis\":{\"automargin\":true,\"gridcolor\":\"white\",\"linecolor\":\"white\",\"ticks\":\"\",\"title\":{\"standoff\":15},\"zerolinecolor\":\"white\",\"zerolinewidth\":2},\"yaxis\":{\"automargin\":true,\"gridcolor\":\"white\",\"linecolor\":\"white\",\"ticks\":\"\",\"title\":{\"standoff\":15},\"zerolinecolor\":\"white\",\"zerolinewidth\":2}}},\"title\":{\"font\":{\"color\":\"#4D5663\"}},\"xaxis\":{\"gridcolor\":\"#E1E5ED\",\"showgrid\":true,\"tickfont\":{\"color\":\"#4D5663\"},\"title\":{\"font\":{\"color\":\"#4D5663\"},\"text\":\"\"},\"zerolinecolor\":\"#E1E5ED\"},\"yaxis\":{\"gridcolor\":\"#E1E5ED\",\"showgrid\":true,\"tickfont\":{\"color\":\"#4D5663\"},\"title\":{\"font\":{\"color\":\"#4D5663\"},\"text\":\"\"},\"zerolinecolor\":\"#E1E5ED\"}},                        {\"showLink\": true, \"linkText\": \"Export to plot.ly\", \"plotlyServerURL\": \"https://plot.ly\", \"responsive\": true}                    ).then(function(){\n",
       "                            \n",
       "var gd = document.getElementById('37624e88-5e91-4241-9530-43932a10d6cd');\n",
       "var x = new MutationObserver(function (mutations, observer) {{\n",
       "        var display = window.getComputedStyle(gd).display;\n",
       "        if (!display || display === 'none') {{\n",
       "            console.log([gd, 'removed!']);\n",
       "            Plotly.purge(gd);\n",
       "            observer.disconnect();\n",
       "        }}\n",
       "}});\n",
       "\n",
       "// Listen for the removal of the full notebook cells\n",
       "var notebookContainer = gd.closest('#notebook-container');\n",
       "if (notebookContainer) {{\n",
       "    x.observe(notebookContainer, {childList: true});\n",
       "}}\n",
       "\n",
       "// Listen for the clearing of the current output cell\n",
       "var outputEl = gd.closest('.output');\n",
       "if (outputEl) {{\n",
       "    x.observe(outputEl, {childList: true});\n",
       "}}\n",
       "\n",
       "                        })                };                });            </script>        </div>"
      ]
     },
     "metadata": {},
     "output_type": "display_data"
    }
   ],
   "source": [
    "# Scatter plot\n",
    "df.iplot(kind='scatter', x='A', y='B')"
   ]
  },
  {
   "cell_type": "code",
   "execution_count": 7,
   "metadata": {},
   "outputs": [
    {
     "data": {
      "application/vnd.plotly.v1+json": {
       "config": {
        "linkText": "Export to plot.ly",
        "plotlyServerURL": "https://plot.ly",
        "showLink": true
       },
       "data": [
        {
         "line": {
          "color": "rgba(255, 153, 51, 1.0)",
          "dash": "solid",
          "shape": "linear",
          "width": 1.3
         },
         "marker": {
          "size": 12,
          "symbol": "circle"
         },
         "mode": "markers",
         "name": "B",
         "text": "",
         "type": "scatter",
         "x": [
          -1.487606705268289,
          -1.3270966904104238,
          0.3604379283601886,
          -1.0755063445021371,
          0.3811337534773147,
          2.0641007329383485,
          -0.48203477848504866,
          -0.38832558174328935,
          1.7478672968117868,
          1.1158691106492418,
          0.2896935352623028,
          -0.3812217927690513,
          0.42123870859889845,
          1.8812870946781968,
          2.557404536964999,
          -0.7058476334484991,
          0.28569424203115323,
          0.24695939642219372,
          -0.6385715504663668,
          0.9026702831781179,
          2.298729565138558,
          0.11640944430966896,
          0.42767735280331637,
          0.33544870905998614,
          0.16811832161387877,
          -0.21121411331425205,
          0.5874308678366539,
          -1.1216357817595521,
          0.11255262014025855,
          1.1853522193052266,
          0.45797947718207993,
          0.06034425911595249,
          0.9711702720221174,
          -0.7824061933747677,
          0.6276524906327481,
          -1.0548261198142173,
          -1.0832514348502216,
          -0.36189322746518,
          0.643434169576394,
          0.4488595629144203,
          0.8061508090023473,
          -1.222979893598644,
          -0.6920946263116126,
          -1.2937441326912544,
          0.23876442953656232,
          -0.817684328749027,
          0.08369524837438268,
          0.13287413960379232,
          -0.2499943512909606,
          0.6636954943467446,
          -0.5280332499790815,
          -0.5398566815380538,
          -0.31918190307525746,
          2.254926925098105,
          -0.7632175571836918,
          -1.1048423421686462,
          1.1028289510008162,
          -1.2097544316232944,
          -1.1939998494256865,
          1.2253107286051743,
          0.031116092717685246,
          -0.7487543140223533,
          1.4274039877008702,
          -2.4152283125719656,
          0.8018374859983983,
          -0.652637162274179,
          -1.109773355409906,
          0.9421069223405514,
          0.9272547022786595,
          -2.0967011767857966,
          -0.9386686213866825,
          1.2712810659600504,
          0.6688989976815631,
          -1.538865098729885,
          0.7131115264494275,
          -0.6467904553989622,
          1.2822063664196233,
          -0.30066345972728864,
          0.5960304893962182,
          0.6082958314371802,
          -1.3267205129120214,
          0.8887344180865127,
          0.9487101456582948,
          1.208515049669603,
          -0.49564632045569046,
          -2.171379335945453,
          -0.5722068920663259,
          0.821728319864167,
          -0.4532924125120422,
          0.5176236846070436,
          1.074779233055591,
          -0.04980169881531574,
          -1.1325388535132843,
          -0.8340003699765887,
          0.4681608886840201,
          0.340074509311427,
          0.9532273672009145,
          -0.551300031728624,
          1.5019798360618883,
          2.0813328323766336,
          -1.8888588017436174,
          0.5527504926273384,
          -1.832394693910066,
          -0.1891939936596043,
          -0.1795525048751539,
          -0.41353587573206846,
          0.6119219622848441,
          0.3669411247956404,
          -1.656394643836909,
          0.6825827271960428,
          0.40978281154268725,
          -1.027348486216504,
          -0.8913232958653983,
          -2.176619637487184,
          1.6404497173622186,
          -1.1539800497331998,
          -2.6344933558902484,
          1.3269304883606206,
          -0.4686755309635699,
          0.15375555596251558,
          -0.003231518781125517,
          -2.5756810430242285,
          0.23191043239930428,
          -0.20325011510086552,
          -0.1262256677960052,
          -0.4306067892790383,
          2.223999933559132,
          -0.28481970484576097,
          0.041636347874112516,
          0.8363856899449069,
          -0.7190061049681735,
          -1.660586642755478,
          -0.8424461151634391,
          -1.3410654086417828,
          0.5173398539462267,
          -1.3712460727772473,
          -0.4467550562662734,
          0.9157433279770691,
          1.754416969372457,
          0.6747547564025815,
          0.6483259564379472,
          0.9589442722537845,
          -1.1404949913493048,
          -0.9607080724043362,
          -0.4758449423533752,
          -0.2995599393280748,
          -0.24888778174690462,
          0.15542907347123394,
          -1.2558919529016797,
          1.4884181758140078,
          -0.17569860858299177,
          1.225904563594473,
          1.1324490392969089,
          0.3835923409382287,
          1.9124939131151277,
          -0.47992141278970996,
          -0.17605511359007,
          0.2200553792256361,
          -0.45229522971198904,
          -1.8838923550993498,
          0.13315305673333974,
          -0.8266448326458588,
          1.2294707915972516,
          0.6778486167632689,
          -0.15856560330555253,
          1.0126681253705112,
          0.6806465776765602,
          -2.341158623582788,
          0.2755666236492162,
          -0.7172182469495813,
          0.7930105775209679,
          0.39568977405882394,
          1.528726412996672,
          0.24679536520261422,
          -0.46161608591743614,
          -0.41260788090652584,
          -0.9197333364273914,
          1.2672340572160545,
          -0.7680399463059111,
          0.20875650311460647,
          -0.8688520154587448,
          1.1871175195914496,
          0.4318475877039881,
          0.22291570222242593,
          1.912613011968483,
          -1.1895491534313078,
          -0.8601534520780754,
          -0.6884358071535207,
          1.6067100199942381,
          0.8869574010673043,
          2.2738448377759197,
          0.053238690773936066,
          -0.10165799243942343,
          -1.5322439587081917,
          1.4952390580885375,
          -0.3456678618511981,
          -0.09156509867611441,
          -1.7259238493479152,
          0.42627109535565494,
          0.13155584440661
         ],
         "y": [
          1.4018747311698432,
          0.12305038788003114,
          -2.0621604828169295,
          0.6310971788406574,
          0.017478005933253684,
          0.6964587848925091,
          0.6692142639756167,
          1.030659741046712,
          0.9596758077035872,
          -0.9164290079884374,
          -0.6446851483938009,
          -0.6116667373572493,
          1.7260305025206517,
          -0.2759506642155176,
          -0.3188067675342285,
          0.9549478759656118,
          0.4002068068348017,
          0.3618786329647358,
          -2.232852501779732,
          0.2634002979548043,
          -0.23434598180308425,
          0.44521962838237017,
          -1.8927127354319755,
          -1.3297540297781392,
          -0.07764797635478797,
          1.702839909849972,
          -1.0460649622342382,
          -0.23597238404268153,
          -1.3174204369042208,
          0.5712385004026206,
          -0.9397730609282275,
          1.244707443354532,
          -0.5536989612126252,
          0.6402166179463994,
          0.22426803921109695,
          -0.21264092848600558,
          -0.10993557287781922,
          -0.9819230417166805,
          0.6079360463127345,
          -0.6057679799690354,
          -1.1119745914173358,
          -1.560293807992332,
          -1.1987638460095538,
          0.4858277742131986,
          2.350569384291055,
          0.6151746971191706,
          0.3847879036524305,
          -0.40025360862732406,
          -0.2827464088764763,
          0.7732213376383255,
          -0.42574944193944025,
          -0.0977566524060275,
          -1.0460108459597866,
          -0.41906615486287035,
          -0.828081174470112,
          -1.5777766072475146,
          -1.751258971395327,
          -0.4577098650787121,
          -0.48384052874521427,
          0.6370632780928125,
          0.6135858592175875,
          -1.0524005004526487,
          -0.18939000452678795,
          1.4832097967972961,
          -1.4478718403622282,
          -1.175823620507187,
          -1.348720049032188,
          -0.840154268876634,
          0.16179821554044488,
          0.4215991235352048,
          -0.09304837280981533,
          1.0229402146371382,
          -0.6777075034485878,
          2.363547662269973,
          0.17517567510440044,
          -1.0142764458464555,
          0.769643017358293,
          -0.559782604130007,
          -0.09826200135677465,
          -2.19532344141647,
          -0.9028689610271179,
          -0.5641688540688159,
          0.0069344933942429516,
          1.771818416056886,
          -0.7042878205436063,
          -1.141511977610186,
          1.104695798124243,
          0.05504535578585138,
          -0.903445628111115,
          -1.0751312204194619,
          0.5433315622422493,
          -0.4816293656408814,
          0.4315047393038972,
          -0.13705156305918187,
          0.3792927120427439,
          -0.11521231565490844,
          -1.2704729596598132,
          -1.3483168965194472,
          -1.671616523024985,
          -0.1521424450157583,
          0.5440995446011344,
          -0.3718765369382678,
          -1.3965083041927662,
          2.526942966641223,
          2.239723475005572,
          -1.4859105355107327,
          1.9818013383576558,
          0.802989460671471,
          1.0303651079399383,
          2.3335949332225114,
          -2.2910087524718072,
          -1.1537515922644148,
          -1.3750319900867725,
          -1.6326060100061293,
          0.6645823180882093,
          1.4740851265119306,
          -0.7666063770492628,
          -0.5548089730982696,
          1.408417243841149,
          -0.4820681914552715,
          1.4701297681558765,
          0.27907719634906686,
          0.7102972508579796,
          -1.5217772011708037,
          0.010862325434475873,
          -0.016880069539919544,
          0.7993093349399368,
          1.015635996790291,
          -0.4474593226688298,
          0.7621086015075268,
          0.8856847020812305,
          1.2102974267836348,
          -1.5386477932819997,
          0.03834324809398329,
          -0.22576792002145568,
          1.0537342040776074,
          -1.3138277848469238,
          0.07049054804272177,
          0.4018169670712659,
          -0.2801832887276961,
          -0.5690121191476055,
          0.35598993442828114,
          -0.004734667011751212,
          0.33230256805073644,
          1.962345783467431,
          -0.2940856894796608,
          -0.1283389011930353,
          0.6168331074300294,
          0.7662626610879297,
          -1.7383020615197815,
          -1.2929174451479046,
          -2.096026957868482,
          0.42565821552001964,
          -0.5002591085547238,
          -0.919531712491247,
          -1.2964648092634155,
          -0.6962169438232568,
          0.03230857859249144,
          -0.529635964552918,
          2.0666298734833393,
          -0.17675252627642735,
          -1.0095191628490185,
          -0.5861082273681731,
          0.6937314493180352,
          0.9261375158887465,
          -1.1213803593314928,
          0.7213848051405207,
          0.3847080628723777,
          0.8894236002885328,
          1.6153335879826933,
          -1.0259748146661083,
          0.028568303126833148,
          0.2334580037219608,
          -2.1501354617090467,
          -0.9422006481662677,
          0.1444750455076689,
          1.0861237079967807,
          1.7201363417958033,
          2.0569115563677145,
          -1.381679208771417,
          -1.0351911302661752,
          1.5223278152050266,
          -0.23231343649555608,
          0.5412096716486152,
          -0.9721564299191358,
          -0.22792905301475427,
          -1.2773274724256982,
          0.8636612498925738,
          -1.2166122317481987,
          0.3507319275056264,
          -1.3101065387849253,
          1.037759945045999,
          1.9370197828161602,
          -2.516970783487686,
          0.10533441465097182,
          -1.9508940804635506,
          0.41530356237292915,
          0.17440382713054814,
          -2.0687853329702146,
          0.22323291262987086
         ]
        }
       ],
       "layout": {
        "legend": {
         "bgcolor": "#F5F6F9",
         "font": {
          "color": "#4D5663"
         }
        },
        "paper_bgcolor": "#F5F6F9",
        "plot_bgcolor": "#F5F6F9",
        "template": {
         "data": {
          "bar": [
           {
            "error_x": {
             "color": "#2a3f5f"
            },
            "error_y": {
             "color": "#2a3f5f"
            },
            "marker": {
             "line": {
              "color": "#E5ECF6",
              "width": 0.5
             },
             "pattern": {
              "fillmode": "overlay",
              "size": 10,
              "solidity": 0.2
             }
            },
            "type": "bar"
           }
          ],
          "barpolar": [
           {
            "marker": {
             "line": {
              "color": "#E5ECF6",
              "width": 0.5
             },
             "pattern": {
              "fillmode": "overlay",
              "size": 10,
              "solidity": 0.2
             }
            },
            "type": "barpolar"
           }
          ],
          "carpet": [
           {
            "aaxis": {
             "endlinecolor": "#2a3f5f",
             "gridcolor": "white",
             "linecolor": "white",
             "minorgridcolor": "white",
             "startlinecolor": "#2a3f5f"
            },
            "baxis": {
             "endlinecolor": "#2a3f5f",
             "gridcolor": "white",
             "linecolor": "white",
             "minorgridcolor": "white",
             "startlinecolor": "#2a3f5f"
            },
            "type": "carpet"
           }
          ],
          "choropleth": [
           {
            "colorbar": {
             "outlinewidth": 0,
             "ticks": ""
            },
            "type": "choropleth"
           }
          ],
          "contour": [
           {
            "colorbar": {
             "outlinewidth": 0,
             "ticks": ""
            },
            "colorscale": [
             [
              0,
              "#0d0887"
             ],
             [
              0.1111111111111111,
              "#46039f"
             ],
             [
              0.2222222222222222,
              "#7201a8"
             ],
             [
              0.3333333333333333,
              "#9c179e"
             ],
             [
              0.4444444444444444,
              "#bd3786"
             ],
             [
              0.5555555555555556,
              "#d8576b"
             ],
             [
              0.6666666666666666,
              "#ed7953"
             ],
             [
              0.7777777777777778,
              "#fb9f3a"
             ],
             [
              0.8888888888888888,
              "#fdca26"
             ],
             [
              1,
              "#f0f921"
             ]
            ],
            "type": "contour"
           }
          ],
          "contourcarpet": [
           {
            "colorbar": {
             "outlinewidth": 0,
             "ticks": ""
            },
            "type": "contourcarpet"
           }
          ],
          "heatmap": [
           {
            "colorbar": {
             "outlinewidth": 0,
             "ticks": ""
            },
            "colorscale": [
             [
              0,
              "#0d0887"
             ],
             [
              0.1111111111111111,
              "#46039f"
             ],
             [
              0.2222222222222222,
              "#7201a8"
             ],
             [
              0.3333333333333333,
              "#9c179e"
             ],
             [
              0.4444444444444444,
              "#bd3786"
             ],
             [
              0.5555555555555556,
              "#d8576b"
             ],
             [
              0.6666666666666666,
              "#ed7953"
             ],
             [
              0.7777777777777778,
              "#fb9f3a"
             ],
             [
              0.8888888888888888,
              "#fdca26"
             ],
             [
              1,
              "#f0f921"
             ]
            ],
            "type": "heatmap"
           }
          ],
          "heatmapgl": [
           {
            "colorbar": {
             "outlinewidth": 0,
             "ticks": ""
            },
            "colorscale": [
             [
              0,
              "#0d0887"
             ],
             [
              0.1111111111111111,
              "#46039f"
             ],
             [
              0.2222222222222222,
              "#7201a8"
             ],
             [
              0.3333333333333333,
              "#9c179e"
             ],
             [
              0.4444444444444444,
              "#bd3786"
             ],
             [
              0.5555555555555556,
              "#d8576b"
             ],
             [
              0.6666666666666666,
              "#ed7953"
             ],
             [
              0.7777777777777778,
              "#fb9f3a"
             ],
             [
              0.8888888888888888,
              "#fdca26"
             ],
             [
              1,
              "#f0f921"
             ]
            ],
            "type": "heatmapgl"
           }
          ],
          "histogram": [
           {
            "marker": {
             "pattern": {
              "fillmode": "overlay",
              "size": 10,
              "solidity": 0.2
             }
            },
            "type": "histogram"
           }
          ],
          "histogram2d": [
           {
            "colorbar": {
             "outlinewidth": 0,
             "ticks": ""
            },
            "colorscale": [
             [
              0,
              "#0d0887"
             ],
             [
              0.1111111111111111,
              "#46039f"
             ],
             [
              0.2222222222222222,
              "#7201a8"
             ],
             [
              0.3333333333333333,
              "#9c179e"
             ],
             [
              0.4444444444444444,
              "#bd3786"
             ],
             [
              0.5555555555555556,
              "#d8576b"
             ],
             [
              0.6666666666666666,
              "#ed7953"
             ],
             [
              0.7777777777777778,
              "#fb9f3a"
             ],
             [
              0.8888888888888888,
              "#fdca26"
             ],
             [
              1,
              "#f0f921"
             ]
            ],
            "type": "histogram2d"
           }
          ],
          "histogram2dcontour": [
           {
            "colorbar": {
             "outlinewidth": 0,
             "ticks": ""
            },
            "colorscale": [
             [
              0,
              "#0d0887"
             ],
             [
              0.1111111111111111,
              "#46039f"
             ],
             [
              0.2222222222222222,
              "#7201a8"
             ],
             [
              0.3333333333333333,
              "#9c179e"
             ],
             [
              0.4444444444444444,
              "#bd3786"
             ],
             [
              0.5555555555555556,
              "#d8576b"
             ],
             [
              0.6666666666666666,
              "#ed7953"
             ],
             [
              0.7777777777777778,
              "#fb9f3a"
             ],
             [
              0.8888888888888888,
              "#fdca26"
             ],
             [
              1,
              "#f0f921"
             ]
            ],
            "type": "histogram2dcontour"
           }
          ],
          "mesh3d": [
           {
            "colorbar": {
             "outlinewidth": 0,
             "ticks": ""
            },
            "type": "mesh3d"
           }
          ],
          "parcoords": [
           {
            "line": {
             "colorbar": {
              "outlinewidth": 0,
              "ticks": ""
             }
            },
            "type": "parcoords"
           }
          ],
          "pie": [
           {
            "automargin": true,
            "type": "pie"
           }
          ],
          "scatter": [
           {
            "fillpattern": {
             "fillmode": "overlay",
             "size": 10,
             "solidity": 0.2
            },
            "type": "scatter"
           }
          ],
          "scatter3d": [
           {
            "line": {
             "colorbar": {
              "outlinewidth": 0,
              "ticks": ""
             }
            },
            "marker": {
             "colorbar": {
              "outlinewidth": 0,
              "ticks": ""
             }
            },
            "type": "scatter3d"
           }
          ],
          "scattercarpet": [
           {
            "marker": {
             "colorbar": {
              "outlinewidth": 0,
              "ticks": ""
             }
            },
            "type": "scattercarpet"
           }
          ],
          "scattergeo": [
           {
            "marker": {
             "colorbar": {
              "outlinewidth": 0,
              "ticks": ""
             }
            },
            "type": "scattergeo"
           }
          ],
          "scattergl": [
           {
            "marker": {
             "colorbar": {
              "outlinewidth": 0,
              "ticks": ""
             }
            },
            "type": "scattergl"
           }
          ],
          "scattermapbox": [
           {
            "marker": {
             "colorbar": {
              "outlinewidth": 0,
              "ticks": ""
             }
            },
            "type": "scattermapbox"
           }
          ],
          "scatterpolar": [
           {
            "marker": {
             "colorbar": {
              "outlinewidth": 0,
              "ticks": ""
             }
            },
            "type": "scatterpolar"
           }
          ],
          "scatterpolargl": [
           {
            "marker": {
             "colorbar": {
              "outlinewidth": 0,
              "ticks": ""
             }
            },
            "type": "scatterpolargl"
           }
          ],
          "scatterternary": [
           {
            "marker": {
             "colorbar": {
              "outlinewidth": 0,
              "ticks": ""
             }
            },
            "type": "scatterternary"
           }
          ],
          "surface": [
           {
            "colorbar": {
             "outlinewidth": 0,
             "ticks": ""
            },
            "colorscale": [
             [
              0,
              "#0d0887"
             ],
             [
              0.1111111111111111,
              "#46039f"
             ],
             [
              0.2222222222222222,
              "#7201a8"
             ],
             [
              0.3333333333333333,
              "#9c179e"
             ],
             [
              0.4444444444444444,
              "#bd3786"
             ],
             [
              0.5555555555555556,
              "#d8576b"
             ],
             [
              0.6666666666666666,
              "#ed7953"
             ],
             [
              0.7777777777777778,
              "#fb9f3a"
             ],
             [
              0.8888888888888888,
              "#fdca26"
             ],
             [
              1,
              "#f0f921"
             ]
            ],
            "type": "surface"
           }
          ],
          "table": [
           {
            "cells": {
             "fill": {
              "color": "#EBF0F8"
             },
             "line": {
              "color": "white"
             }
            },
            "header": {
             "fill": {
              "color": "#C8D4E3"
             },
             "line": {
              "color": "white"
             }
            },
            "type": "table"
           }
          ]
         },
         "layout": {
          "annotationdefaults": {
           "arrowcolor": "#2a3f5f",
           "arrowhead": 0,
           "arrowwidth": 1
          },
          "autotypenumbers": "strict",
          "coloraxis": {
           "colorbar": {
            "outlinewidth": 0,
            "ticks": ""
           }
          },
          "colorscale": {
           "diverging": [
            [
             0,
             "#8e0152"
            ],
            [
             0.1,
             "#c51b7d"
            ],
            [
             0.2,
             "#de77ae"
            ],
            [
             0.3,
             "#f1b6da"
            ],
            [
             0.4,
             "#fde0ef"
            ],
            [
             0.5,
             "#f7f7f7"
            ],
            [
             0.6,
             "#e6f5d0"
            ],
            [
             0.7,
             "#b8e186"
            ],
            [
             0.8,
             "#7fbc41"
            ],
            [
             0.9,
             "#4d9221"
            ],
            [
             1,
             "#276419"
            ]
           ],
           "sequential": [
            [
             0,
             "#0d0887"
            ],
            [
             0.1111111111111111,
             "#46039f"
            ],
            [
             0.2222222222222222,
             "#7201a8"
            ],
            [
             0.3333333333333333,
             "#9c179e"
            ],
            [
             0.4444444444444444,
             "#bd3786"
            ],
            [
             0.5555555555555556,
             "#d8576b"
            ],
            [
             0.6666666666666666,
             "#ed7953"
            ],
            [
             0.7777777777777778,
             "#fb9f3a"
            ],
            [
             0.8888888888888888,
             "#fdca26"
            ],
            [
             1,
             "#f0f921"
            ]
           ],
           "sequentialminus": [
            [
             0,
             "#0d0887"
            ],
            [
             0.1111111111111111,
             "#46039f"
            ],
            [
             0.2222222222222222,
             "#7201a8"
            ],
            [
             0.3333333333333333,
             "#9c179e"
            ],
            [
             0.4444444444444444,
             "#bd3786"
            ],
            [
             0.5555555555555556,
             "#d8576b"
            ],
            [
             0.6666666666666666,
             "#ed7953"
            ],
            [
             0.7777777777777778,
             "#fb9f3a"
            ],
            [
             0.8888888888888888,
             "#fdca26"
            ],
            [
             1,
             "#f0f921"
            ]
           ]
          },
          "colorway": [
           "#636efa",
           "#EF553B",
           "#00cc96",
           "#ab63fa",
           "#FFA15A",
           "#19d3f3",
           "#FF6692",
           "#B6E880",
           "#FF97FF",
           "#FECB52"
          ],
          "font": {
           "color": "#2a3f5f"
          },
          "geo": {
           "bgcolor": "white",
           "lakecolor": "white",
           "landcolor": "#E5ECF6",
           "showlakes": true,
           "showland": true,
           "subunitcolor": "white"
          },
          "hoverlabel": {
           "align": "left"
          },
          "hovermode": "closest",
          "mapbox": {
           "style": "light"
          },
          "paper_bgcolor": "white",
          "plot_bgcolor": "#E5ECF6",
          "polar": {
           "angularaxis": {
            "gridcolor": "white",
            "linecolor": "white",
            "ticks": ""
           },
           "bgcolor": "#E5ECF6",
           "radialaxis": {
            "gridcolor": "white",
            "linecolor": "white",
            "ticks": ""
           }
          },
          "scene": {
           "xaxis": {
            "backgroundcolor": "#E5ECF6",
            "gridcolor": "white",
            "gridwidth": 2,
            "linecolor": "white",
            "showbackground": true,
            "ticks": "",
            "zerolinecolor": "white"
           },
           "yaxis": {
            "backgroundcolor": "#E5ECF6",
            "gridcolor": "white",
            "gridwidth": 2,
            "linecolor": "white",
            "showbackground": true,
            "ticks": "",
            "zerolinecolor": "white"
           },
           "zaxis": {
            "backgroundcolor": "#E5ECF6",
            "gridcolor": "white",
            "gridwidth": 2,
            "linecolor": "white",
            "showbackground": true,
            "ticks": "",
            "zerolinecolor": "white"
           }
          },
          "shapedefaults": {
           "line": {
            "color": "#2a3f5f"
           }
          },
          "ternary": {
           "aaxis": {
            "gridcolor": "white",
            "linecolor": "white",
            "ticks": ""
           },
           "baxis": {
            "gridcolor": "white",
            "linecolor": "white",
            "ticks": ""
           },
           "bgcolor": "#E5ECF6",
           "caxis": {
            "gridcolor": "white",
            "linecolor": "white",
            "ticks": ""
           }
          },
          "title": {
           "x": 0.05
          },
          "xaxis": {
           "automargin": true,
           "gridcolor": "white",
           "linecolor": "white",
           "ticks": "",
           "title": {
            "standoff": 15
           },
           "zerolinecolor": "white",
           "zerolinewidth": 2
          },
          "yaxis": {
           "automargin": true,
           "gridcolor": "white",
           "linecolor": "white",
           "ticks": "",
           "title": {
            "standoff": 15
           },
           "zerolinecolor": "white",
           "zerolinewidth": 2
          }
         }
        },
        "title": {
         "font": {
          "color": "#4D5663"
         }
        },
        "xaxis": {
         "gridcolor": "#E1E5ED",
         "showgrid": true,
         "tickfont": {
          "color": "#4D5663"
         },
         "title": {
          "font": {
           "color": "#4D5663"
          },
          "text": ""
         },
         "zerolinecolor": "#E1E5ED"
        },
        "yaxis": {
         "gridcolor": "#E1E5ED",
         "showgrid": true,
         "tickfont": {
          "color": "#4D5663"
         },
         "title": {
          "font": {
           "color": "#4D5663"
          },
          "text": ""
         },
         "zerolinecolor": "#E1E5ED"
        }
       }
      },
      "text/html": [
       "<div>                            <div id=\"66d5db9c-8c50-4a12-b4be-2fdb247a9b42\" class=\"plotly-graph-div\" style=\"height:525px; width:100%;\"></div>            <script type=\"text/javascript\">                require([\"plotly\"], function(Plotly) {                    window.PLOTLYENV=window.PLOTLYENV || {};\n",
       "                    window.PLOTLYENV.BASE_URL='https://plot.ly';                                    if (document.getElementById(\"66d5db9c-8c50-4a12-b4be-2fdb247a9b42\")) {                    Plotly.newPlot(                        \"66d5db9c-8c50-4a12-b4be-2fdb247a9b42\",                        [{\"line\":{\"color\":\"rgba(255, 153, 51, 1.0)\",\"dash\":\"solid\",\"shape\":\"linear\",\"width\":1.3},\"marker\":{\"size\":12,\"symbol\":\"circle\"},\"mode\":\"markers\",\"name\":\"B\",\"text\":\"\",\"x\":[-1.487606705268289,-1.3270966904104238,0.3604379283601886,-1.0755063445021371,0.3811337534773147,2.0641007329383485,-0.48203477848504866,-0.38832558174328935,1.7478672968117868,1.1158691106492418,0.2896935352623028,-0.3812217927690513,0.42123870859889845,1.8812870946781968,2.557404536964999,-0.7058476334484991,0.28569424203115323,0.24695939642219372,-0.6385715504663668,0.9026702831781179,2.298729565138558,0.11640944430966896,0.42767735280331637,0.33544870905998614,0.16811832161387877,-0.21121411331425205,0.5874308678366539,-1.1216357817595521,0.11255262014025855,1.1853522193052266,0.45797947718207993,0.06034425911595249,0.9711702720221174,-0.7824061933747677,0.6276524906327481,-1.0548261198142173,-1.0832514348502216,-0.36189322746518,0.643434169576394,0.4488595629144203,0.8061508090023473,-1.222979893598644,-0.6920946263116126,-1.2937441326912544,0.23876442953656232,-0.817684328749027,0.08369524837438268,0.13287413960379232,-0.2499943512909606,0.6636954943467446,-0.5280332499790815,-0.5398566815380538,-0.31918190307525746,2.254926925098105,-0.7632175571836918,-1.1048423421686462,1.1028289510008162,-1.2097544316232944,-1.1939998494256865,1.2253107286051743,0.031116092717685246,-0.7487543140223533,1.4274039877008702,-2.4152283125719656,0.8018374859983983,-0.652637162274179,-1.109773355409906,0.9421069223405514,0.9272547022786595,-2.0967011767857966,-0.9386686213866825,1.2712810659600504,0.6688989976815631,-1.538865098729885,0.7131115264494275,-0.6467904553989622,1.2822063664196233,-0.30066345972728864,0.5960304893962182,0.6082958314371802,-1.3267205129120214,0.8887344180865127,0.9487101456582948,1.208515049669603,-0.49564632045569046,-2.171379335945453,-0.5722068920663259,0.821728319864167,-0.4532924125120422,0.5176236846070436,1.074779233055591,-0.04980169881531574,-1.1325388535132843,-0.8340003699765887,0.4681608886840201,0.340074509311427,0.9532273672009145,-0.551300031728624,1.5019798360618883,2.0813328323766336,-1.8888588017436174,0.5527504926273384,-1.832394693910066,-0.1891939936596043,-0.1795525048751539,-0.41353587573206846,0.6119219622848441,0.3669411247956404,-1.656394643836909,0.6825827271960428,0.40978281154268725,-1.027348486216504,-0.8913232958653983,-2.176619637487184,1.6404497173622186,-1.1539800497331998,-2.6344933558902484,1.3269304883606206,-0.4686755309635699,0.15375555596251558,-0.003231518781125517,-2.5756810430242285,0.23191043239930428,-0.20325011510086552,-0.1262256677960052,-0.4306067892790383,2.223999933559132,-0.28481970484576097,0.041636347874112516,0.8363856899449069,-0.7190061049681735,-1.660586642755478,-0.8424461151634391,-1.3410654086417828,0.5173398539462267,-1.3712460727772473,-0.4467550562662734,0.9157433279770691,1.754416969372457,0.6747547564025815,0.6483259564379472,0.9589442722537845,-1.1404949913493048,-0.9607080724043362,-0.4758449423533752,-0.2995599393280748,-0.24888778174690462,0.15542907347123394,-1.2558919529016797,1.4884181758140078,-0.17569860858299177,1.225904563594473,1.1324490392969089,0.3835923409382287,1.9124939131151277,-0.47992141278970996,-0.17605511359007,0.2200553792256361,-0.45229522971198904,-1.8838923550993498,0.13315305673333974,-0.8266448326458588,1.2294707915972516,0.6778486167632689,-0.15856560330555253,1.0126681253705112,0.6806465776765602,-2.341158623582788,0.2755666236492162,-0.7172182469495813,0.7930105775209679,0.39568977405882394,1.528726412996672,0.24679536520261422,-0.46161608591743614,-0.41260788090652584,-0.9197333364273914,1.2672340572160545,-0.7680399463059111,0.20875650311460647,-0.8688520154587448,1.1871175195914496,0.4318475877039881,0.22291570222242593,1.912613011968483,-1.1895491534313078,-0.8601534520780754,-0.6884358071535207,1.6067100199942381,0.8869574010673043,2.2738448377759197,0.053238690773936066,-0.10165799243942343,-1.5322439587081917,1.4952390580885375,-0.3456678618511981,-0.09156509867611441,-1.7259238493479152,0.42627109535565494,0.13155584440661],\"y\":[1.4018747311698432,0.12305038788003114,-2.0621604828169295,0.6310971788406574,0.017478005933253684,0.6964587848925091,0.6692142639756167,1.030659741046712,0.9596758077035872,-0.9164290079884374,-0.6446851483938009,-0.6116667373572493,1.7260305025206517,-0.2759506642155176,-0.3188067675342285,0.9549478759656118,0.4002068068348017,0.3618786329647358,-2.232852501779732,0.2634002979548043,-0.23434598180308425,0.44521962838237017,-1.8927127354319755,-1.3297540297781392,-0.07764797635478797,1.702839909849972,-1.0460649622342382,-0.23597238404268153,-1.3174204369042208,0.5712385004026206,-0.9397730609282275,1.244707443354532,-0.5536989612126252,0.6402166179463994,0.22426803921109695,-0.21264092848600558,-0.10993557287781922,-0.9819230417166805,0.6079360463127345,-0.6057679799690354,-1.1119745914173358,-1.560293807992332,-1.1987638460095538,0.4858277742131986,2.350569384291055,0.6151746971191706,0.3847879036524305,-0.40025360862732406,-0.2827464088764763,0.7732213376383255,-0.42574944193944025,-0.0977566524060275,-1.0460108459597866,-0.41906615486287035,-0.828081174470112,-1.5777766072475146,-1.751258971395327,-0.4577098650787121,-0.48384052874521427,0.6370632780928125,0.6135858592175875,-1.0524005004526487,-0.18939000452678795,1.4832097967972961,-1.4478718403622282,-1.175823620507187,-1.348720049032188,-0.840154268876634,0.16179821554044488,0.4215991235352048,-0.09304837280981533,1.0229402146371382,-0.6777075034485878,2.363547662269973,0.17517567510440044,-1.0142764458464555,0.769643017358293,-0.559782604130007,-0.09826200135677465,-2.19532344141647,-0.9028689610271179,-0.5641688540688159,0.0069344933942429516,1.771818416056886,-0.7042878205436063,-1.141511977610186,1.104695798124243,0.05504535578585138,-0.903445628111115,-1.0751312204194619,0.5433315622422493,-0.4816293656408814,0.4315047393038972,-0.13705156305918187,0.3792927120427439,-0.11521231565490844,-1.2704729596598132,-1.3483168965194472,-1.671616523024985,-0.1521424450157583,0.5440995446011344,-0.3718765369382678,-1.3965083041927662,2.526942966641223,2.239723475005572,-1.4859105355107327,1.9818013383576558,0.802989460671471,1.0303651079399383,2.3335949332225114,-2.2910087524718072,-1.1537515922644148,-1.3750319900867725,-1.6326060100061293,0.6645823180882093,1.4740851265119306,-0.7666063770492628,-0.5548089730982696,1.408417243841149,-0.4820681914552715,1.4701297681558765,0.27907719634906686,0.7102972508579796,-1.5217772011708037,0.010862325434475873,-0.016880069539919544,0.7993093349399368,1.015635996790291,-0.4474593226688298,0.7621086015075268,0.8856847020812305,1.2102974267836348,-1.5386477932819997,0.03834324809398329,-0.22576792002145568,1.0537342040776074,-1.3138277848469238,0.07049054804272177,0.4018169670712659,-0.2801832887276961,-0.5690121191476055,0.35598993442828114,-0.004734667011751212,0.33230256805073644,1.962345783467431,-0.2940856894796608,-0.1283389011930353,0.6168331074300294,0.7662626610879297,-1.7383020615197815,-1.2929174451479046,-2.096026957868482,0.42565821552001964,-0.5002591085547238,-0.919531712491247,-1.2964648092634155,-0.6962169438232568,0.03230857859249144,-0.529635964552918,2.0666298734833393,-0.17675252627642735,-1.0095191628490185,-0.5861082273681731,0.6937314493180352,0.9261375158887465,-1.1213803593314928,0.7213848051405207,0.3847080628723777,0.8894236002885328,1.6153335879826933,-1.0259748146661083,0.028568303126833148,0.2334580037219608,-2.1501354617090467,-0.9422006481662677,0.1444750455076689,1.0861237079967807,1.7201363417958033,2.0569115563677145,-1.381679208771417,-1.0351911302661752,1.5223278152050266,-0.23231343649555608,0.5412096716486152,-0.9721564299191358,-0.22792905301475427,-1.2773274724256982,0.8636612498925738,-1.2166122317481987,0.3507319275056264,-1.3101065387849253,1.037759945045999,1.9370197828161602,-2.516970783487686,0.10533441465097182,-1.9508940804635506,0.41530356237292915,0.17440382713054814,-2.0687853329702146,0.22323291262987086],\"type\":\"scatter\"}],                        {\"legend\":{\"bgcolor\":\"#F5F6F9\",\"font\":{\"color\":\"#4D5663\"}},\"paper_bgcolor\":\"#F5F6F9\",\"plot_bgcolor\":\"#F5F6F9\",\"template\":{\"data\":{\"barpolar\":[{\"marker\":{\"line\":{\"color\":\"#E5ECF6\",\"width\":0.5},\"pattern\":{\"fillmode\":\"overlay\",\"size\":10,\"solidity\":0.2}},\"type\":\"barpolar\"}],\"bar\":[{\"error_x\":{\"color\":\"#2a3f5f\"},\"error_y\":{\"color\":\"#2a3f5f\"},\"marker\":{\"line\":{\"color\":\"#E5ECF6\",\"width\":0.5},\"pattern\":{\"fillmode\":\"overlay\",\"size\":10,\"solidity\":0.2}},\"type\":\"bar\"}],\"carpet\":[{\"aaxis\":{\"endlinecolor\":\"#2a3f5f\",\"gridcolor\":\"white\",\"linecolor\":\"white\",\"minorgridcolor\":\"white\",\"startlinecolor\":\"#2a3f5f\"},\"baxis\":{\"endlinecolor\":\"#2a3f5f\",\"gridcolor\":\"white\",\"linecolor\":\"white\",\"minorgridcolor\":\"white\",\"startlinecolor\":\"#2a3f5f\"},\"type\":\"carpet\"}],\"choropleth\":[{\"colorbar\":{\"outlinewidth\":0,\"ticks\":\"\"},\"type\":\"choropleth\"}],\"contourcarpet\":[{\"colorbar\":{\"outlinewidth\":0,\"ticks\":\"\"},\"type\":\"contourcarpet\"}],\"contour\":[{\"colorbar\":{\"outlinewidth\":0,\"ticks\":\"\"},\"colorscale\":[[0.0,\"#0d0887\"],[0.1111111111111111,\"#46039f\"],[0.2222222222222222,\"#7201a8\"],[0.3333333333333333,\"#9c179e\"],[0.4444444444444444,\"#bd3786\"],[0.5555555555555556,\"#d8576b\"],[0.6666666666666666,\"#ed7953\"],[0.7777777777777778,\"#fb9f3a\"],[0.8888888888888888,\"#fdca26\"],[1.0,\"#f0f921\"]],\"type\":\"contour\"}],\"heatmapgl\":[{\"colorbar\":{\"outlinewidth\":0,\"ticks\":\"\"},\"colorscale\":[[0.0,\"#0d0887\"],[0.1111111111111111,\"#46039f\"],[0.2222222222222222,\"#7201a8\"],[0.3333333333333333,\"#9c179e\"],[0.4444444444444444,\"#bd3786\"],[0.5555555555555556,\"#d8576b\"],[0.6666666666666666,\"#ed7953\"],[0.7777777777777778,\"#fb9f3a\"],[0.8888888888888888,\"#fdca26\"],[1.0,\"#f0f921\"]],\"type\":\"heatmapgl\"}],\"heatmap\":[{\"colorbar\":{\"outlinewidth\":0,\"ticks\":\"\"},\"colorscale\":[[0.0,\"#0d0887\"],[0.1111111111111111,\"#46039f\"],[0.2222222222222222,\"#7201a8\"],[0.3333333333333333,\"#9c179e\"],[0.4444444444444444,\"#bd3786\"],[0.5555555555555556,\"#d8576b\"],[0.6666666666666666,\"#ed7953\"],[0.7777777777777778,\"#fb9f3a\"],[0.8888888888888888,\"#fdca26\"],[1.0,\"#f0f921\"]],\"type\":\"heatmap\"}],\"histogram2dcontour\":[{\"colorbar\":{\"outlinewidth\":0,\"ticks\":\"\"},\"colorscale\":[[0.0,\"#0d0887\"],[0.1111111111111111,\"#46039f\"],[0.2222222222222222,\"#7201a8\"],[0.3333333333333333,\"#9c179e\"],[0.4444444444444444,\"#bd3786\"],[0.5555555555555556,\"#d8576b\"],[0.6666666666666666,\"#ed7953\"],[0.7777777777777778,\"#fb9f3a\"],[0.8888888888888888,\"#fdca26\"],[1.0,\"#f0f921\"]],\"type\":\"histogram2dcontour\"}],\"histogram2d\":[{\"colorbar\":{\"outlinewidth\":0,\"ticks\":\"\"},\"colorscale\":[[0.0,\"#0d0887\"],[0.1111111111111111,\"#46039f\"],[0.2222222222222222,\"#7201a8\"],[0.3333333333333333,\"#9c179e\"],[0.4444444444444444,\"#bd3786\"],[0.5555555555555556,\"#d8576b\"],[0.6666666666666666,\"#ed7953\"],[0.7777777777777778,\"#fb9f3a\"],[0.8888888888888888,\"#fdca26\"],[1.0,\"#f0f921\"]],\"type\":\"histogram2d\"}],\"histogram\":[{\"marker\":{\"pattern\":{\"fillmode\":\"overlay\",\"size\":10,\"solidity\":0.2}},\"type\":\"histogram\"}],\"mesh3d\":[{\"colorbar\":{\"outlinewidth\":0,\"ticks\":\"\"},\"type\":\"mesh3d\"}],\"parcoords\":[{\"line\":{\"colorbar\":{\"outlinewidth\":0,\"ticks\":\"\"}},\"type\":\"parcoords\"}],\"pie\":[{\"automargin\":true,\"type\":\"pie\"}],\"scatter3d\":[{\"line\":{\"colorbar\":{\"outlinewidth\":0,\"ticks\":\"\"}},\"marker\":{\"colorbar\":{\"outlinewidth\":0,\"ticks\":\"\"}},\"type\":\"scatter3d\"}],\"scattercarpet\":[{\"marker\":{\"colorbar\":{\"outlinewidth\":0,\"ticks\":\"\"}},\"type\":\"scattercarpet\"}],\"scattergeo\":[{\"marker\":{\"colorbar\":{\"outlinewidth\":0,\"ticks\":\"\"}},\"type\":\"scattergeo\"}],\"scattergl\":[{\"marker\":{\"colorbar\":{\"outlinewidth\":0,\"ticks\":\"\"}},\"type\":\"scattergl\"}],\"scattermapbox\":[{\"marker\":{\"colorbar\":{\"outlinewidth\":0,\"ticks\":\"\"}},\"type\":\"scattermapbox\"}],\"scatterpolargl\":[{\"marker\":{\"colorbar\":{\"outlinewidth\":0,\"ticks\":\"\"}},\"type\":\"scatterpolargl\"}],\"scatterpolar\":[{\"marker\":{\"colorbar\":{\"outlinewidth\":0,\"ticks\":\"\"}},\"type\":\"scatterpolar\"}],\"scatter\":[{\"fillpattern\":{\"fillmode\":\"overlay\",\"size\":10,\"solidity\":0.2},\"type\":\"scatter\"}],\"scatterternary\":[{\"marker\":{\"colorbar\":{\"outlinewidth\":0,\"ticks\":\"\"}},\"type\":\"scatterternary\"}],\"surface\":[{\"colorbar\":{\"outlinewidth\":0,\"ticks\":\"\"},\"colorscale\":[[0.0,\"#0d0887\"],[0.1111111111111111,\"#46039f\"],[0.2222222222222222,\"#7201a8\"],[0.3333333333333333,\"#9c179e\"],[0.4444444444444444,\"#bd3786\"],[0.5555555555555556,\"#d8576b\"],[0.6666666666666666,\"#ed7953\"],[0.7777777777777778,\"#fb9f3a\"],[0.8888888888888888,\"#fdca26\"],[1.0,\"#f0f921\"]],\"type\":\"surface\"}],\"table\":[{\"cells\":{\"fill\":{\"color\":\"#EBF0F8\"},\"line\":{\"color\":\"white\"}},\"header\":{\"fill\":{\"color\":\"#C8D4E3\"},\"line\":{\"color\":\"white\"}},\"type\":\"table\"}]},\"layout\":{\"annotationdefaults\":{\"arrowcolor\":\"#2a3f5f\",\"arrowhead\":0,\"arrowwidth\":1},\"autotypenumbers\":\"strict\",\"coloraxis\":{\"colorbar\":{\"outlinewidth\":0,\"ticks\":\"\"}},\"colorscale\":{\"diverging\":[[0,\"#8e0152\"],[0.1,\"#c51b7d\"],[0.2,\"#de77ae\"],[0.3,\"#f1b6da\"],[0.4,\"#fde0ef\"],[0.5,\"#f7f7f7\"],[0.6,\"#e6f5d0\"],[0.7,\"#b8e186\"],[0.8,\"#7fbc41\"],[0.9,\"#4d9221\"],[1,\"#276419\"]],\"sequential\":[[0.0,\"#0d0887\"],[0.1111111111111111,\"#46039f\"],[0.2222222222222222,\"#7201a8\"],[0.3333333333333333,\"#9c179e\"],[0.4444444444444444,\"#bd3786\"],[0.5555555555555556,\"#d8576b\"],[0.6666666666666666,\"#ed7953\"],[0.7777777777777778,\"#fb9f3a\"],[0.8888888888888888,\"#fdca26\"],[1.0,\"#f0f921\"]],\"sequentialminus\":[[0.0,\"#0d0887\"],[0.1111111111111111,\"#46039f\"],[0.2222222222222222,\"#7201a8\"],[0.3333333333333333,\"#9c179e\"],[0.4444444444444444,\"#bd3786\"],[0.5555555555555556,\"#d8576b\"],[0.6666666666666666,\"#ed7953\"],[0.7777777777777778,\"#fb9f3a\"],[0.8888888888888888,\"#fdca26\"],[1.0,\"#f0f921\"]]},\"colorway\":[\"#636efa\",\"#EF553B\",\"#00cc96\",\"#ab63fa\",\"#FFA15A\",\"#19d3f3\",\"#FF6692\",\"#B6E880\",\"#FF97FF\",\"#FECB52\"],\"font\":{\"color\":\"#2a3f5f\"},\"geo\":{\"bgcolor\":\"white\",\"lakecolor\":\"white\",\"landcolor\":\"#E5ECF6\",\"showlakes\":true,\"showland\":true,\"subunitcolor\":\"white\"},\"hoverlabel\":{\"align\":\"left\"},\"hovermode\":\"closest\",\"mapbox\":{\"style\":\"light\"},\"paper_bgcolor\":\"white\",\"plot_bgcolor\":\"#E5ECF6\",\"polar\":{\"angularaxis\":{\"gridcolor\":\"white\",\"linecolor\":\"white\",\"ticks\":\"\"},\"bgcolor\":\"#E5ECF6\",\"radialaxis\":{\"gridcolor\":\"white\",\"linecolor\":\"white\",\"ticks\":\"\"}},\"scene\":{\"xaxis\":{\"backgroundcolor\":\"#E5ECF6\",\"gridcolor\":\"white\",\"gridwidth\":2,\"linecolor\":\"white\",\"showbackground\":true,\"ticks\":\"\",\"zerolinecolor\":\"white\"},\"yaxis\":{\"backgroundcolor\":\"#E5ECF6\",\"gridcolor\":\"white\",\"gridwidth\":2,\"linecolor\":\"white\",\"showbackground\":true,\"ticks\":\"\",\"zerolinecolor\":\"white\"},\"zaxis\":{\"backgroundcolor\":\"#E5ECF6\",\"gridcolor\":\"white\",\"gridwidth\":2,\"linecolor\":\"white\",\"showbackground\":true,\"ticks\":\"\",\"zerolinecolor\":\"white\"}},\"shapedefaults\":{\"line\":{\"color\":\"#2a3f5f\"}},\"ternary\":{\"aaxis\":{\"gridcolor\":\"white\",\"linecolor\":\"white\",\"ticks\":\"\"},\"baxis\":{\"gridcolor\":\"white\",\"linecolor\":\"white\",\"ticks\":\"\"},\"bgcolor\":\"#E5ECF6\",\"caxis\":{\"gridcolor\":\"white\",\"linecolor\":\"white\",\"ticks\":\"\"}},\"title\":{\"x\":0.05},\"xaxis\":{\"automargin\":true,\"gridcolor\":\"white\",\"linecolor\":\"white\",\"ticks\":\"\",\"title\":{\"standoff\":15},\"zerolinecolor\":\"white\",\"zerolinewidth\":2},\"yaxis\":{\"automargin\":true,\"gridcolor\":\"white\",\"linecolor\":\"white\",\"ticks\":\"\",\"title\":{\"standoff\":15},\"zerolinecolor\":\"white\",\"zerolinewidth\":2}}},\"title\":{\"font\":{\"color\":\"#4D5663\"}},\"xaxis\":{\"gridcolor\":\"#E1E5ED\",\"showgrid\":true,\"tickfont\":{\"color\":\"#4D5663\"},\"title\":{\"font\":{\"color\":\"#4D5663\"},\"text\":\"\"},\"zerolinecolor\":\"#E1E5ED\"},\"yaxis\":{\"gridcolor\":\"#E1E5ED\",\"showgrid\":true,\"tickfont\":{\"color\":\"#4D5663\"},\"title\":{\"font\":{\"color\":\"#4D5663\"},\"text\":\"\"},\"zerolinecolor\":\"#E1E5ED\"}},                        {\"showLink\": true, \"linkText\": \"Export to plot.ly\", \"plotlyServerURL\": \"https://plot.ly\", \"responsive\": true}                    ).then(function(){\n",
       "                            \n",
       "var gd = document.getElementById('66d5db9c-8c50-4a12-b4be-2fdb247a9b42');\n",
       "var x = new MutationObserver(function (mutations, observer) {{\n",
       "        var display = window.getComputedStyle(gd).display;\n",
       "        if (!display || display === 'none') {{\n",
       "            console.log([gd, 'removed!']);\n",
       "            Plotly.purge(gd);\n",
       "            observer.disconnect();\n",
       "        }}\n",
       "}});\n",
       "\n",
       "// Listen for the removal of the full notebook cells\n",
       "var notebookContainer = gd.closest('#notebook-container');\n",
       "if (notebookContainer) {{\n",
       "    x.observe(notebookContainer, {childList: true});\n",
       "}}\n",
       "\n",
       "// Listen for the clearing of the current output cell\n",
       "var outputEl = gd.closest('.output');\n",
       "if (outputEl) {{\n",
       "    x.observe(outputEl, {childList: true});\n",
       "}}\n",
       "\n",
       "                        })                };                });            </script>        </div>"
      ]
     },
     "metadata": {},
     "output_type": "display_data"
    }
   ],
   "source": [
    "df.iplot(kind = 'scatter', x='A', y='B', mode='markers')"
   ]
  },
  {
   "cell_type": "code",
   "execution_count": 11,
   "metadata": {},
   "outputs": [
    {
     "data": {
      "application/vnd.plotly.v1+json": {
       "config": {
        "linkText": "Export to plot.ly",
        "plotlyServerURL": "https://plot.ly",
        "showLink": true
       },
       "data": [
        {
         "marker": {
          "color": "rgba(255, 153, 51, 0.6)",
          "line": {
           "color": "rgba(255, 153, 51, 1.0)",
           "width": 1
          }
         },
         "name": "Values",
         "orientation": "v",
         "text": "",
         "type": "bar",
         "x": [
          "A",
          "B",
          "C"
         ],
         "y": [
          32,
          50,
          42
         ]
        }
       ],
       "layout": {
        "legend": {
         "bgcolor": "#F5F6F9",
         "font": {
          "color": "#4D5663"
         }
        },
        "paper_bgcolor": "#F5F6F9",
        "plot_bgcolor": "#F5F6F9",
        "template": {
         "data": {
          "bar": [
           {
            "error_x": {
             "color": "#2a3f5f"
            },
            "error_y": {
             "color": "#2a3f5f"
            },
            "marker": {
             "line": {
              "color": "#E5ECF6",
              "width": 0.5
             },
             "pattern": {
              "fillmode": "overlay",
              "size": 10,
              "solidity": 0.2
             }
            },
            "type": "bar"
           }
          ],
          "barpolar": [
           {
            "marker": {
             "line": {
              "color": "#E5ECF6",
              "width": 0.5
             },
             "pattern": {
              "fillmode": "overlay",
              "size": 10,
              "solidity": 0.2
             }
            },
            "type": "barpolar"
           }
          ],
          "carpet": [
           {
            "aaxis": {
             "endlinecolor": "#2a3f5f",
             "gridcolor": "white",
             "linecolor": "white",
             "minorgridcolor": "white",
             "startlinecolor": "#2a3f5f"
            },
            "baxis": {
             "endlinecolor": "#2a3f5f",
             "gridcolor": "white",
             "linecolor": "white",
             "minorgridcolor": "white",
             "startlinecolor": "#2a3f5f"
            },
            "type": "carpet"
           }
          ],
          "choropleth": [
           {
            "colorbar": {
             "outlinewidth": 0,
             "ticks": ""
            },
            "type": "choropleth"
           }
          ],
          "contour": [
           {
            "colorbar": {
             "outlinewidth": 0,
             "ticks": ""
            },
            "colorscale": [
             [
              0,
              "#0d0887"
             ],
             [
              0.1111111111111111,
              "#46039f"
             ],
             [
              0.2222222222222222,
              "#7201a8"
             ],
             [
              0.3333333333333333,
              "#9c179e"
             ],
             [
              0.4444444444444444,
              "#bd3786"
             ],
             [
              0.5555555555555556,
              "#d8576b"
             ],
             [
              0.6666666666666666,
              "#ed7953"
             ],
             [
              0.7777777777777778,
              "#fb9f3a"
             ],
             [
              0.8888888888888888,
              "#fdca26"
             ],
             [
              1,
              "#f0f921"
             ]
            ],
            "type": "contour"
           }
          ],
          "contourcarpet": [
           {
            "colorbar": {
             "outlinewidth": 0,
             "ticks": ""
            },
            "type": "contourcarpet"
           }
          ],
          "heatmap": [
           {
            "colorbar": {
             "outlinewidth": 0,
             "ticks": ""
            },
            "colorscale": [
             [
              0,
              "#0d0887"
             ],
             [
              0.1111111111111111,
              "#46039f"
             ],
             [
              0.2222222222222222,
              "#7201a8"
             ],
             [
              0.3333333333333333,
              "#9c179e"
             ],
             [
              0.4444444444444444,
              "#bd3786"
             ],
             [
              0.5555555555555556,
              "#d8576b"
             ],
             [
              0.6666666666666666,
              "#ed7953"
             ],
             [
              0.7777777777777778,
              "#fb9f3a"
             ],
             [
              0.8888888888888888,
              "#fdca26"
             ],
             [
              1,
              "#f0f921"
             ]
            ],
            "type": "heatmap"
           }
          ],
          "heatmapgl": [
           {
            "colorbar": {
             "outlinewidth": 0,
             "ticks": ""
            },
            "colorscale": [
             [
              0,
              "#0d0887"
             ],
             [
              0.1111111111111111,
              "#46039f"
             ],
             [
              0.2222222222222222,
              "#7201a8"
             ],
             [
              0.3333333333333333,
              "#9c179e"
             ],
             [
              0.4444444444444444,
              "#bd3786"
             ],
             [
              0.5555555555555556,
              "#d8576b"
             ],
             [
              0.6666666666666666,
              "#ed7953"
             ],
             [
              0.7777777777777778,
              "#fb9f3a"
             ],
             [
              0.8888888888888888,
              "#fdca26"
             ],
             [
              1,
              "#f0f921"
             ]
            ],
            "type": "heatmapgl"
           }
          ],
          "histogram": [
           {
            "marker": {
             "pattern": {
              "fillmode": "overlay",
              "size": 10,
              "solidity": 0.2
             }
            },
            "type": "histogram"
           }
          ],
          "histogram2d": [
           {
            "colorbar": {
             "outlinewidth": 0,
             "ticks": ""
            },
            "colorscale": [
             [
              0,
              "#0d0887"
             ],
             [
              0.1111111111111111,
              "#46039f"
             ],
             [
              0.2222222222222222,
              "#7201a8"
             ],
             [
              0.3333333333333333,
              "#9c179e"
             ],
             [
              0.4444444444444444,
              "#bd3786"
             ],
             [
              0.5555555555555556,
              "#d8576b"
             ],
             [
              0.6666666666666666,
              "#ed7953"
             ],
             [
              0.7777777777777778,
              "#fb9f3a"
             ],
             [
              0.8888888888888888,
              "#fdca26"
             ],
             [
              1,
              "#f0f921"
             ]
            ],
            "type": "histogram2d"
           }
          ],
          "histogram2dcontour": [
           {
            "colorbar": {
             "outlinewidth": 0,
             "ticks": ""
            },
            "colorscale": [
             [
              0,
              "#0d0887"
             ],
             [
              0.1111111111111111,
              "#46039f"
             ],
             [
              0.2222222222222222,
              "#7201a8"
             ],
             [
              0.3333333333333333,
              "#9c179e"
             ],
             [
              0.4444444444444444,
              "#bd3786"
             ],
             [
              0.5555555555555556,
              "#d8576b"
             ],
             [
              0.6666666666666666,
              "#ed7953"
             ],
             [
              0.7777777777777778,
              "#fb9f3a"
             ],
             [
              0.8888888888888888,
              "#fdca26"
             ],
             [
              1,
              "#f0f921"
             ]
            ],
            "type": "histogram2dcontour"
           }
          ],
          "mesh3d": [
           {
            "colorbar": {
             "outlinewidth": 0,
             "ticks": ""
            },
            "type": "mesh3d"
           }
          ],
          "parcoords": [
           {
            "line": {
             "colorbar": {
              "outlinewidth": 0,
              "ticks": ""
             }
            },
            "type": "parcoords"
           }
          ],
          "pie": [
           {
            "automargin": true,
            "type": "pie"
           }
          ],
          "scatter": [
           {
            "fillpattern": {
             "fillmode": "overlay",
             "size": 10,
             "solidity": 0.2
            },
            "type": "scatter"
           }
          ],
          "scatter3d": [
           {
            "line": {
             "colorbar": {
              "outlinewidth": 0,
              "ticks": ""
             }
            },
            "marker": {
             "colorbar": {
              "outlinewidth": 0,
              "ticks": ""
             }
            },
            "type": "scatter3d"
           }
          ],
          "scattercarpet": [
           {
            "marker": {
             "colorbar": {
              "outlinewidth": 0,
              "ticks": ""
             }
            },
            "type": "scattercarpet"
           }
          ],
          "scattergeo": [
           {
            "marker": {
             "colorbar": {
              "outlinewidth": 0,
              "ticks": ""
             }
            },
            "type": "scattergeo"
           }
          ],
          "scattergl": [
           {
            "marker": {
             "colorbar": {
              "outlinewidth": 0,
              "ticks": ""
             }
            },
            "type": "scattergl"
           }
          ],
          "scattermapbox": [
           {
            "marker": {
             "colorbar": {
              "outlinewidth": 0,
              "ticks": ""
             }
            },
            "type": "scattermapbox"
           }
          ],
          "scatterpolar": [
           {
            "marker": {
             "colorbar": {
              "outlinewidth": 0,
              "ticks": ""
             }
            },
            "type": "scatterpolar"
           }
          ],
          "scatterpolargl": [
           {
            "marker": {
             "colorbar": {
              "outlinewidth": 0,
              "ticks": ""
             }
            },
            "type": "scatterpolargl"
           }
          ],
          "scatterternary": [
           {
            "marker": {
             "colorbar": {
              "outlinewidth": 0,
              "ticks": ""
             }
            },
            "type": "scatterternary"
           }
          ],
          "surface": [
           {
            "colorbar": {
             "outlinewidth": 0,
             "ticks": ""
            },
            "colorscale": [
             [
              0,
              "#0d0887"
             ],
             [
              0.1111111111111111,
              "#46039f"
             ],
             [
              0.2222222222222222,
              "#7201a8"
             ],
             [
              0.3333333333333333,
              "#9c179e"
             ],
             [
              0.4444444444444444,
              "#bd3786"
             ],
             [
              0.5555555555555556,
              "#d8576b"
             ],
             [
              0.6666666666666666,
              "#ed7953"
             ],
             [
              0.7777777777777778,
              "#fb9f3a"
             ],
             [
              0.8888888888888888,
              "#fdca26"
             ],
             [
              1,
              "#f0f921"
             ]
            ],
            "type": "surface"
           }
          ],
          "table": [
           {
            "cells": {
             "fill": {
              "color": "#EBF0F8"
             },
             "line": {
              "color": "white"
             }
            },
            "header": {
             "fill": {
              "color": "#C8D4E3"
             },
             "line": {
              "color": "white"
             }
            },
            "type": "table"
           }
          ]
         },
         "layout": {
          "annotationdefaults": {
           "arrowcolor": "#2a3f5f",
           "arrowhead": 0,
           "arrowwidth": 1
          },
          "autotypenumbers": "strict",
          "coloraxis": {
           "colorbar": {
            "outlinewidth": 0,
            "ticks": ""
           }
          },
          "colorscale": {
           "diverging": [
            [
             0,
             "#8e0152"
            ],
            [
             0.1,
             "#c51b7d"
            ],
            [
             0.2,
             "#de77ae"
            ],
            [
             0.3,
             "#f1b6da"
            ],
            [
             0.4,
             "#fde0ef"
            ],
            [
             0.5,
             "#f7f7f7"
            ],
            [
             0.6,
             "#e6f5d0"
            ],
            [
             0.7,
             "#b8e186"
            ],
            [
             0.8,
             "#7fbc41"
            ],
            [
             0.9,
             "#4d9221"
            ],
            [
             1,
             "#276419"
            ]
           ],
           "sequential": [
            [
             0,
             "#0d0887"
            ],
            [
             0.1111111111111111,
             "#46039f"
            ],
            [
             0.2222222222222222,
             "#7201a8"
            ],
            [
             0.3333333333333333,
             "#9c179e"
            ],
            [
             0.4444444444444444,
             "#bd3786"
            ],
            [
             0.5555555555555556,
             "#d8576b"
            ],
            [
             0.6666666666666666,
             "#ed7953"
            ],
            [
             0.7777777777777778,
             "#fb9f3a"
            ],
            [
             0.8888888888888888,
             "#fdca26"
            ],
            [
             1,
             "#f0f921"
            ]
           ],
           "sequentialminus": [
            [
             0,
             "#0d0887"
            ],
            [
             0.1111111111111111,
             "#46039f"
            ],
            [
             0.2222222222222222,
             "#7201a8"
            ],
            [
             0.3333333333333333,
             "#9c179e"
            ],
            [
             0.4444444444444444,
             "#bd3786"
            ],
            [
             0.5555555555555556,
             "#d8576b"
            ],
            [
             0.6666666666666666,
             "#ed7953"
            ],
            [
             0.7777777777777778,
             "#fb9f3a"
            ],
            [
             0.8888888888888888,
             "#fdca26"
            ],
            [
             1,
             "#f0f921"
            ]
           ]
          },
          "colorway": [
           "#636efa",
           "#EF553B",
           "#00cc96",
           "#ab63fa",
           "#FFA15A",
           "#19d3f3",
           "#FF6692",
           "#B6E880",
           "#FF97FF",
           "#FECB52"
          ],
          "font": {
           "color": "#2a3f5f"
          },
          "geo": {
           "bgcolor": "white",
           "lakecolor": "white",
           "landcolor": "#E5ECF6",
           "showlakes": true,
           "showland": true,
           "subunitcolor": "white"
          },
          "hoverlabel": {
           "align": "left"
          },
          "hovermode": "closest",
          "mapbox": {
           "style": "light"
          },
          "paper_bgcolor": "white",
          "plot_bgcolor": "#E5ECF6",
          "polar": {
           "angularaxis": {
            "gridcolor": "white",
            "linecolor": "white",
            "ticks": ""
           },
           "bgcolor": "#E5ECF6",
           "radialaxis": {
            "gridcolor": "white",
            "linecolor": "white",
            "ticks": ""
           }
          },
          "scene": {
           "xaxis": {
            "backgroundcolor": "#E5ECF6",
            "gridcolor": "white",
            "gridwidth": 2,
            "linecolor": "white",
            "showbackground": true,
            "ticks": "",
            "zerolinecolor": "white"
           },
           "yaxis": {
            "backgroundcolor": "#E5ECF6",
            "gridcolor": "white",
            "gridwidth": 2,
            "linecolor": "white",
            "showbackground": true,
            "ticks": "",
            "zerolinecolor": "white"
           },
           "zaxis": {
            "backgroundcolor": "#E5ECF6",
            "gridcolor": "white",
            "gridwidth": 2,
            "linecolor": "white",
            "showbackground": true,
            "ticks": "",
            "zerolinecolor": "white"
           }
          },
          "shapedefaults": {
           "line": {
            "color": "#2a3f5f"
           }
          },
          "ternary": {
           "aaxis": {
            "gridcolor": "white",
            "linecolor": "white",
            "ticks": ""
           },
           "baxis": {
            "gridcolor": "white",
            "linecolor": "white",
            "ticks": ""
           },
           "bgcolor": "#E5ECF6",
           "caxis": {
            "gridcolor": "white",
            "linecolor": "white",
            "ticks": ""
           }
          },
          "title": {
           "x": 0.05
          },
          "xaxis": {
           "automargin": true,
           "gridcolor": "white",
           "linecolor": "white",
           "ticks": "",
           "title": {
            "standoff": 15
           },
           "zerolinecolor": "white",
           "zerolinewidth": 2
          },
          "yaxis": {
           "automargin": true,
           "gridcolor": "white",
           "linecolor": "white",
           "ticks": "",
           "title": {
            "standoff": 15
           },
           "zerolinecolor": "white",
           "zerolinewidth": 2
          }
         }
        },
        "title": {
         "font": {
          "color": "#4D5663"
         }
        },
        "xaxis": {
         "gridcolor": "#E1E5ED",
         "showgrid": true,
         "tickfont": {
          "color": "#4D5663"
         },
         "title": {
          "font": {
           "color": "#4D5663"
          },
          "text": ""
         },
         "zerolinecolor": "#E1E5ED"
        },
        "yaxis": {
         "gridcolor": "#E1E5ED",
         "showgrid": true,
         "tickfont": {
          "color": "#4D5663"
         },
         "title": {
          "font": {
           "color": "#4D5663"
          },
          "text": ""
         },
         "zerolinecolor": "#E1E5ED"
        }
       }
      },
      "text/html": [
       "<div>                            <div id=\"f6d5aa3e-8ac9-4ab5-b084-04471773f335\" class=\"plotly-graph-div\" style=\"height:525px; width:100%;\"></div>            <script type=\"text/javascript\">                require([\"plotly\"], function(Plotly) {                    window.PLOTLYENV=window.PLOTLYENV || {};\n",
       "                    window.PLOTLYENV.BASE_URL='https://plot.ly';                                    if (document.getElementById(\"f6d5aa3e-8ac9-4ab5-b084-04471773f335\")) {                    Plotly.newPlot(                        \"f6d5aa3e-8ac9-4ab5-b084-04471773f335\",                        [{\"marker\":{\"color\":\"rgba(255, 153, 51, 0.6)\",\"line\":{\"color\":\"rgba(255, 153, 51, 1.0)\",\"width\":1}},\"name\":\"Values\",\"orientation\":\"v\",\"text\":\"\",\"x\":[\"A\",\"B\",\"C\"],\"y\":[32,50,42],\"type\":\"bar\"}],                        {\"legend\":{\"bgcolor\":\"#F5F6F9\",\"font\":{\"color\":\"#4D5663\"}},\"paper_bgcolor\":\"#F5F6F9\",\"plot_bgcolor\":\"#F5F6F9\",\"template\":{\"data\":{\"barpolar\":[{\"marker\":{\"line\":{\"color\":\"#E5ECF6\",\"width\":0.5},\"pattern\":{\"fillmode\":\"overlay\",\"size\":10,\"solidity\":0.2}},\"type\":\"barpolar\"}],\"bar\":[{\"error_x\":{\"color\":\"#2a3f5f\"},\"error_y\":{\"color\":\"#2a3f5f\"},\"marker\":{\"line\":{\"color\":\"#E5ECF6\",\"width\":0.5},\"pattern\":{\"fillmode\":\"overlay\",\"size\":10,\"solidity\":0.2}},\"type\":\"bar\"}],\"carpet\":[{\"aaxis\":{\"endlinecolor\":\"#2a3f5f\",\"gridcolor\":\"white\",\"linecolor\":\"white\",\"minorgridcolor\":\"white\",\"startlinecolor\":\"#2a3f5f\"},\"baxis\":{\"endlinecolor\":\"#2a3f5f\",\"gridcolor\":\"white\",\"linecolor\":\"white\",\"minorgridcolor\":\"white\",\"startlinecolor\":\"#2a3f5f\"},\"type\":\"carpet\"}],\"choropleth\":[{\"colorbar\":{\"outlinewidth\":0,\"ticks\":\"\"},\"type\":\"choropleth\"}],\"contourcarpet\":[{\"colorbar\":{\"outlinewidth\":0,\"ticks\":\"\"},\"type\":\"contourcarpet\"}],\"contour\":[{\"colorbar\":{\"outlinewidth\":0,\"ticks\":\"\"},\"colorscale\":[[0.0,\"#0d0887\"],[0.1111111111111111,\"#46039f\"],[0.2222222222222222,\"#7201a8\"],[0.3333333333333333,\"#9c179e\"],[0.4444444444444444,\"#bd3786\"],[0.5555555555555556,\"#d8576b\"],[0.6666666666666666,\"#ed7953\"],[0.7777777777777778,\"#fb9f3a\"],[0.8888888888888888,\"#fdca26\"],[1.0,\"#f0f921\"]],\"type\":\"contour\"}],\"heatmapgl\":[{\"colorbar\":{\"outlinewidth\":0,\"ticks\":\"\"},\"colorscale\":[[0.0,\"#0d0887\"],[0.1111111111111111,\"#46039f\"],[0.2222222222222222,\"#7201a8\"],[0.3333333333333333,\"#9c179e\"],[0.4444444444444444,\"#bd3786\"],[0.5555555555555556,\"#d8576b\"],[0.6666666666666666,\"#ed7953\"],[0.7777777777777778,\"#fb9f3a\"],[0.8888888888888888,\"#fdca26\"],[1.0,\"#f0f921\"]],\"type\":\"heatmapgl\"}],\"heatmap\":[{\"colorbar\":{\"outlinewidth\":0,\"ticks\":\"\"},\"colorscale\":[[0.0,\"#0d0887\"],[0.1111111111111111,\"#46039f\"],[0.2222222222222222,\"#7201a8\"],[0.3333333333333333,\"#9c179e\"],[0.4444444444444444,\"#bd3786\"],[0.5555555555555556,\"#d8576b\"],[0.6666666666666666,\"#ed7953\"],[0.7777777777777778,\"#fb9f3a\"],[0.8888888888888888,\"#fdca26\"],[1.0,\"#f0f921\"]],\"type\":\"heatmap\"}],\"histogram2dcontour\":[{\"colorbar\":{\"outlinewidth\":0,\"ticks\":\"\"},\"colorscale\":[[0.0,\"#0d0887\"],[0.1111111111111111,\"#46039f\"],[0.2222222222222222,\"#7201a8\"],[0.3333333333333333,\"#9c179e\"],[0.4444444444444444,\"#bd3786\"],[0.5555555555555556,\"#d8576b\"],[0.6666666666666666,\"#ed7953\"],[0.7777777777777778,\"#fb9f3a\"],[0.8888888888888888,\"#fdca26\"],[1.0,\"#f0f921\"]],\"type\":\"histogram2dcontour\"}],\"histogram2d\":[{\"colorbar\":{\"outlinewidth\":0,\"ticks\":\"\"},\"colorscale\":[[0.0,\"#0d0887\"],[0.1111111111111111,\"#46039f\"],[0.2222222222222222,\"#7201a8\"],[0.3333333333333333,\"#9c179e\"],[0.4444444444444444,\"#bd3786\"],[0.5555555555555556,\"#d8576b\"],[0.6666666666666666,\"#ed7953\"],[0.7777777777777778,\"#fb9f3a\"],[0.8888888888888888,\"#fdca26\"],[1.0,\"#f0f921\"]],\"type\":\"histogram2d\"}],\"histogram\":[{\"marker\":{\"pattern\":{\"fillmode\":\"overlay\",\"size\":10,\"solidity\":0.2}},\"type\":\"histogram\"}],\"mesh3d\":[{\"colorbar\":{\"outlinewidth\":0,\"ticks\":\"\"},\"type\":\"mesh3d\"}],\"parcoords\":[{\"line\":{\"colorbar\":{\"outlinewidth\":0,\"ticks\":\"\"}},\"type\":\"parcoords\"}],\"pie\":[{\"automargin\":true,\"type\":\"pie\"}],\"scatter3d\":[{\"line\":{\"colorbar\":{\"outlinewidth\":0,\"ticks\":\"\"}},\"marker\":{\"colorbar\":{\"outlinewidth\":0,\"ticks\":\"\"}},\"type\":\"scatter3d\"}],\"scattercarpet\":[{\"marker\":{\"colorbar\":{\"outlinewidth\":0,\"ticks\":\"\"}},\"type\":\"scattercarpet\"}],\"scattergeo\":[{\"marker\":{\"colorbar\":{\"outlinewidth\":0,\"ticks\":\"\"}},\"type\":\"scattergeo\"}],\"scattergl\":[{\"marker\":{\"colorbar\":{\"outlinewidth\":0,\"ticks\":\"\"}},\"type\":\"scattergl\"}],\"scattermapbox\":[{\"marker\":{\"colorbar\":{\"outlinewidth\":0,\"ticks\":\"\"}},\"type\":\"scattermapbox\"}],\"scatterpolargl\":[{\"marker\":{\"colorbar\":{\"outlinewidth\":0,\"ticks\":\"\"}},\"type\":\"scatterpolargl\"}],\"scatterpolar\":[{\"marker\":{\"colorbar\":{\"outlinewidth\":0,\"ticks\":\"\"}},\"type\":\"scatterpolar\"}],\"scatter\":[{\"fillpattern\":{\"fillmode\":\"overlay\",\"size\":10,\"solidity\":0.2},\"type\":\"scatter\"}],\"scatterternary\":[{\"marker\":{\"colorbar\":{\"outlinewidth\":0,\"ticks\":\"\"}},\"type\":\"scatterternary\"}],\"surface\":[{\"colorbar\":{\"outlinewidth\":0,\"ticks\":\"\"},\"colorscale\":[[0.0,\"#0d0887\"],[0.1111111111111111,\"#46039f\"],[0.2222222222222222,\"#7201a8\"],[0.3333333333333333,\"#9c179e\"],[0.4444444444444444,\"#bd3786\"],[0.5555555555555556,\"#d8576b\"],[0.6666666666666666,\"#ed7953\"],[0.7777777777777778,\"#fb9f3a\"],[0.8888888888888888,\"#fdca26\"],[1.0,\"#f0f921\"]],\"type\":\"surface\"}],\"table\":[{\"cells\":{\"fill\":{\"color\":\"#EBF0F8\"},\"line\":{\"color\":\"white\"}},\"header\":{\"fill\":{\"color\":\"#C8D4E3\"},\"line\":{\"color\":\"white\"}},\"type\":\"table\"}]},\"layout\":{\"annotationdefaults\":{\"arrowcolor\":\"#2a3f5f\",\"arrowhead\":0,\"arrowwidth\":1},\"autotypenumbers\":\"strict\",\"coloraxis\":{\"colorbar\":{\"outlinewidth\":0,\"ticks\":\"\"}},\"colorscale\":{\"diverging\":[[0,\"#8e0152\"],[0.1,\"#c51b7d\"],[0.2,\"#de77ae\"],[0.3,\"#f1b6da\"],[0.4,\"#fde0ef\"],[0.5,\"#f7f7f7\"],[0.6,\"#e6f5d0\"],[0.7,\"#b8e186\"],[0.8,\"#7fbc41\"],[0.9,\"#4d9221\"],[1,\"#276419\"]],\"sequential\":[[0.0,\"#0d0887\"],[0.1111111111111111,\"#46039f\"],[0.2222222222222222,\"#7201a8\"],[0.3333333333333333,\"#9c179e\"],[0.4444444444444444,\"#bd3786\"],[0.5555555555555556,\"#d8576b\"],[0.6666666666666666,\"#ed7953\"],[0.7777777777777778,\"#fb9f3a\"],[0.8888888888888888,\"#fdca26\"],[1.0,\"#f0f921\"]],\"sequentialminus\":[[0.0,\"#0d0887\"],[0.1111111111111111,\"#46039f\"],[0.2222222222222222,\"#7201a8\"],[0.3333333333333333,\"#9c179e\"],[0.4444444444444444,\"#bd3786\"],[0.5555555555555556,\"#d8576b\"],[0.6666666666666666,\"#ed7953\"],[0.7777777777777778,\"#fb9f3a\"],[0.8888888888888888,\"#fdca26\"],[1.0,\"#f0f921\"]]},\"colorway\":[\"#636efa\",\"#EF553B\",\"#00cc96\",\"#ab63fa\",\"#FFA15A\",\"#19d3f3\",\"#FF6692\",\"#B6E880\",\"#FF97FF\",\"#FECB52\"],\"font\":{\"color\":\"#2a3f5f\"},\"geo\":{\"bgcolor\":\"white\",\"lakecolor\":\"white\",\"landcolor\":\"#E5ECF6\",\"showlakes\":true,\"showland\":true,\"subunitcolor\":\"white\"},\"hoverlabel\":{\"align\":\"left\"},\"hovermode\":\"closest\",\"mapbox\":{\"style\":\"light\"},\"paper_bgcolor\":\"white\",\"plot_bgcolor\":\"#E5ECF6\",\"polar\":{\"angularaxis\":{\"gridcolor\":\"white\",\"linecolor\":\"white\",\"ticks\":\"\"},\"bgcolor\":\"#E5ECF6\",\"radialaxis\":{\"gridcolor\":\"white\",\"linecolor\":\"white\",\"ticks\":\"\"}},\"scene\":{\"xaxis\":{\"backgroundcolor\":\"#E5ECF6\",\"gridcolor\":\"white\",\"gridwidth\":2,\"linecolor\":\"white\",\"showbackground\":true,\"ticks\":\"\",\"zerolinecolor\":\"white\"},\"yaxis\":{\"backgroundcolor\":\"#E5ECF6\",\"gridcolor\":\"white\",\"gridwidth\":2,\"linecolor\":\"white\",\"showbackground\":true,\"ticks\":\"\",\"zerolinecolor\":\"white\"},\"zaxis\":{\"backgroundcolor\":\"#E5ECF6\",\"gridcolor\":\"white\",\"gridwidth\":2,\"linecolor\":\"white\",\"showbackground\":true,\"ticks\":\"\",\"zerolinecolor\":\"white\"}},\"shapedefaults\":{\"line\":{\"color\":\"#2a3f5f\"}},\"ternary\":{\"aaxis\":{\"gridcolor\":\"white\",\"linecolor\":\"white\",\"ticks\":\"\"},\"baxis\":{\"gridcolor\":\"white\",\"linecolor\":\"white\",\"ticks\":\"\"},\"bgcolor\":\"#E5ECF6\",\"caxis\":{\"gridcolor\":\"white\",\"linecolor\":\"white\",\"ticks\":\"\"}},\"title\":{\"x\":0.05},\"xaxis\":{\"automargin\":true,\"gridcolor\":\"white\",\"linecolor\":\"white\",\"ticks\":\"\",\"title\":{\"standoff\":15},\"zerolinecolor\":\"white\",\"zerolinewidth\":2},\"yaxis\":{\"automargin\":true,\"gridcolor\":\"white\",\"linecolor\":\"white\",\"ticks\":\"\",\"title\":{\"standoff\":15},\"zerolinecolor\":\"white\",\"zerolinewidth\":2}}},\"title\":{\"font\":{\"color\":\"#4D5663\"}},\"xaxis\":{\"gridcolor\":\"#E1E5ED\",\"showgrid\":true,\"tickfont\":{\"color\":\"#4D5663\"},\"title\":{\"font\":{\"color\":\"#4D5663\"},\"text\":\"\"},\"zerolinecolor\":\"#E1E5ED\"},\"yaxis\":{\"gridcolor\":\"#E1E5ED\",\"showgrid\":true,\"tickfont\":{\"color\":\"#4D5663\"},\"title\":{\"font\":{\"color\":\"#4D5663\"},\"text\":\"\"},\"zerolinecolor\":\"#E1E5ED\"}},                        {\"showLink\": true, \"linkText\": \"Export to plot.ly\", \"plotlyServerURL\": \"https://plot.ly\", \"responsive\": true}                    ).then(function(){\n",
       "                            \n",
       "var gd = document.getElementById('f6d5aa3e-8ac9-4ab5-b084-04471773f335');\n",
       "var x = new MutationObserver(function (mutations, observer) {{\n",
       "        var display = window.getComputedStyle(gd).display;\n",
       "        if (!display || display === 'none') {{\n",
       "            console.log([gd, 'removed!']);\n",
       "            Plotly.purge(gd);\n",
       "            observer.disconnect();\n",
       "        }}\n",
       "}});\n",
       "\n",
       "// Listen for the removal of the full notebook cells\n",
       "var notebookContainer = gd.closest('#notebook-container');\n",
       "if (notebookContainer) {{\n",
       "    x.observe(notebookContainer, {childList: true});\n",
       "}}\n",
       "\n",
       "// Listen for the clearing of the current output cell\n",
       "var outputEl = gd.closest('.output');\n",
       "if (outputEl) {{\n",
       "    x.observe(outputEl, {childList: true});\n",
       "}}\n",
       "\n",
       "                        })                };                });            </script>        </div>"
      ]
     },
     "metadata": {},
     "output_type": "display_data"
    }
   ],
   "source": [
    "# Bar plots\n",
    "# for a bar plots the data should be bivariant(categorical, numeerical)\n",
    "df2.iplot(kind='bar', x='Category', y='Values')"
   ]
  },
  {
   "cell_type": "code",
   "execution_count": 12,
   "metadata": {},
   "outputs": [
    {
     "data": {
      "application/vnd.plotly.v1+json": {
       "config": {
        "linkText": "Export to plot.ly",
        "plotlyServerURL": "https://plot.ly",
        "showLink": true
       },
       "data": [
        {
         "marker": {
          "color": "rgba(255, 153, 51, 0.6)",
          "line": {
           "color": "rgba(255, 153, 51, 1.0)",
           "width": 1
          }
         },
         "name": "A",
         "orientation": "v",
         "text": "",
         "type": "bar",
         "x": [
          0,
          1,
          2,
          3,
          4,
          5,
          6,
          7,
          8,
          9,
          10,
          11,
          12,
          13,
          14,
          15,
          16,
          17,
          18,
          19,
          20,
          21,
          22,
          23,
          24,
          25,
          26,
          27,
          28,
          29,
          30,
          31,
          32,
          33,
          34,
          35,
          36,
          37,
          38,
          39,
          40,
          41,
          42,
          43,
          44,
          45,
          46,
          47,
          48,
          49,
          50,
          51,
          52,
          53,
          54,
          55,
          56,
          57,
          58,
          59,
          60,
          61,
          62,
          63,
          64,
          65,
          66,
          67,
          68,
          69,
          70,
          71,
          72,
          73,
          74,
          75,
          76,
          77,
          78,
          79,
          80,
          81,
          82,
          83,
          84,
          85,
          86,
          87,
          88,
          89,
          90,
          91,
          92,
          93,
          94,
          95,
          96,
          97,
          98,
          99,
          100,
          101,
          102,
          103,
          104,
          105,
          106,
          107,
          108,
          109,
          110,
          111,
          112,
          113,
          114,
          115,
          116,
          117,
          118,
          119,
          120,
          121,
          122,
          123,
          124,
          125,
          126,
          127,
          128,
          129,
          130,
          131,
          132,
          133,
          134,
          135,
          136,
          137,
          138,
          139,
          140,
          141,
          142,
          143,
          144,
          145,
          146,
          147,
          148,
          149,
          150,
          151,
          152,
          153,
          154,
          155,
          156,
          157,
          158,
          159,
          160,
          161,
          162,
          163,
          164,
          165,
          166,
          167,
          168,
          169,
          170,
          171,
          172,
          173,
          174,
          175,
          176,
          177,
          178,
          179,
          180,
          181,
          182,
          183,
          184,
          185,
          186,
          187,
          188,
          189,
          190,
          191,
          192,
          193,
          194,
          195,
          196,
          197,
          198,
          199
         ],
         "y": [
          -1.487606705268289,
          -1.3270966904104238,
          0.3604379283601886,
          -1.0755063445021371,
          0.3811337534773147,
          2.0641007329383485,
          -0.48203477848504866,
          -0.38832558174328935,
          1.7478672968117868,
          1.1158691106492418,
          0.2896935352623028,
          -0.3812217927690513,
          0.42123870859889845,
          1.8812870946781968,
          2.557404536964999,
          -0.7058476334484991,
          0.28569424203115323,
          0.24695939642219372,
          -0.6385715504663668,
          0.9026702831781179,
          2.298729565138558,
          0.11640944430966896,
          0.42767735280331637,
          0.33544870905998614,
          0.16811832161387877,
          -0.21121411331425205,
          0.5874308678366539,
          -1.1216357817595521,
          0.11255262014025855,
          1.1853522193052266,
          0.45797947718207993,
          0.06034425911595249,
          0.9711702720221174,
          -0.7824061933747677,
          0.6276524906327481,
          -1.0548261198142173,
          -1.0832514348502216,
          -0.36189322746518,
          0.643434169576394,
          0.4488595629144203,
          0.8061508090023473,
          -1.222979893598644,
          -0.6920946263116126,
          -1.2937441326912544,
          0.23876442953656232,
          -0.817684328749027,
          0.08369524837438268,
          0.13287413960379232,
          -0.2499943512909606,
          0.6636954943467446,
          -0.5280332499790815,
          -0.5398566815380538,
          -0.31918190307525746,
          2.254926925098105,
          -0.7632175571836918,
          -1.1048423421686462,
          1.1028289510008162,
          -1.2097544316232944,
          -1.1939998494256865,
          1.2253107286051743,
          0.031116092717685246,
          -0.7487543140223533,
          1.4274039877008702,
          -2.4152283125719656,
          0.8018374859983983,
          -0.652637162274179,
          -1.109773355409906,
          0.9421069223405514,
          0.9272547022786595,
          -2.0967011767857966,
          -0.9386686213866825,
          1.2712810659600504,
          0.6688989976815631,
          -1.538865098729885,
          0.7131115264494275,
          -0.6467904553989622,
          1.2822063664196233,
          -0.30066345972728864,
          0.5960304893962182,
          0.6082958314371802,
          -1.3267205129120214,
          0.8887344180865127,
          0.9487101456582948,
          1.208515049669603,
          -0.49564632045569046,
          -2.171379335945453,
          -0.5722068920663259,
          0.821728319864167,
          -0.4532924125120422,
          0.5176236846070436,
          1.074779233055591,
          -0.04980169881531574,
          -1.1325388535132843,
          -0.8340003699765887,
          0.4681608886840201,
          0.340074509311427,
          0.9532273672009145,
          -0.551300031728624,
          1.5019798360618883,
          2.0813328323766336,
          -1.8888588017436174,
          0.5527504926273384,
          -1.832394693910066,
          -0.1891939936596043,
          -0.1795525048751539,
          -0.41353587573206846,
          0.6119219622848441,
          0.3669411247956404,
          -1.656394643836909,
          0.6825827271960428,
          0.40978281154268725,
          -1.027348486216504,
          -0.8913232958653983,
          -2.176619637487184,
          1.6404497173622186,
          -1.1539800497331998,
          -2.6344933558902484,
          1.3269304883606206,
          -0.4686755309635699,
          0.15375555596251558,
          -0.003231518781125517,
          -2.5756810430242285,
          0.23191043239930428,
          -0.20325011510086552,
          -0.1262256677960052,
          -0.4306067892790383,
          2.223999933559132,
          -0.28481970484576097,
          0.041636347874112516,
          0.8363856899449069,
          -0.7190061049681735,
          -1.660586642755478,
          -0.8424461151634391,
          -1.3410654086417828,
          0.5173398539462267,
          -1.3712460727772473,
          -0.4467550562662734,
          0.9157433279770691,
          1.754416969372457,
          0.6747547564025815,
          0.6483259564379472,
          0.9589442722537845,
          -1.1404949913493048,
          -0.9607080724043362,
          -0.4758449423533752,
          -0.2995599393280748,
          -0.24888778174690462,
          0.15542907347123394,
          -1.2558919529016797,
          1.4884181758140078,
          -0.17569860858299177,
          1.225904563594473,
          1.1324490392969089,
          0.3835923409382287,
          1.9124939131151277,
          -0.47992141278970996,
          -0.17605511359007,
          0.2200553792256361,
          -0.45229522971198904,
          -1.8838923550993498,
          0.13315305673333974,
          -0.8266448326458588,
          1.2294707915972516,
          0.6778486167632689,
          -0.15856560330555253,
          1.0126681253705112,
          0.6806465776765602,
          -2.341158623582788,
          0.2755666236492162,
          -0.7172182469495813,
          0.7930105775209679,
          0.39568977405882394,
          1.528726412996672,
          0.24679536520261422,
          -0.46161608591743614,
          -0.41260788090652584,
          -0.9197333364273914,
          1.2672340572160545,
          -0.7680399463059111,
          0.20875650311460647,
          -0.8688520154587448,
          1.1871175195914496,
          0.4318475877039881,
          0.22291570222242593,
          1.912613011968483,
          -1.1895491534313078,
          -0.8601534520780754,
          -0.6884358071535207,
          1.6067100199942381,
          0.8869574010673043,
          2.2738448377759197,
          0.053238690773936066,
          -0.10165799243942343,
          -1.5322439587081917,
          1.4952390580885375,
          -0.3456678618511981,
          -0.09156509867611441,
          -1.7259238493479152,
          0.42627109535565494,
          0.13155584440661
         ]
        },
        {
         "marker": {
          "color": "rgba(55, 128, 191, 0.6)",
          "line": {
           "color": "rgba(55, 128, 191, 1.0)",
           "width": 1
          }
         },
         "name": "B",
         "orientation": "v",
         "text": "",
         "type": "bar",
         "x": [
          0,
          1,
          2,
          3,
          4,
          5,
          6,
          7,
          8,
          9,
          10,
          11,
          12,
          13,
          14,
          15,
          16,
          17,
          18,
          19,
          20,
          21,
          22,
          23,
          24,
          25,
          26,
          27,
          28,
          29,
          30,
          31,
          32,
          33,
          34,
          35,
          36,
          37,
          38,
          39,
          40,
          41,
          42,
          43,
          44,
          45,
          46,
          47,
          48,
          49,
          50,
          51,
          52,
          53,
          54,
          55,
          56,
          57,
          58,
          59,
          60,
          61,
          62,
          63,
          64,
          65,
          66,
          67,
          68,
          69,
          70,
          71,
          72,
          73,
          74,
          75,
          76,
          77,
          78,
          79,
          80,
          81,
          82,
          83,
          84,
          85,
          86,
          87,
          88,
          89,
          90,
          91,
          92,
          93,
          94,
          95,
          96,
          97,
          98,
          99,
          100,
          101,
          102,
          103,
          104,
          105,
          106,
          107,
          108,
          109,
          110,
          111,
          112,
          113,
          114,
          115,
          116,
          117,
          118,
          119,
          120,
          121,
          122,
          123,
          124,
          125,
          126,
          127,
          128,
          129,
          130,
          131,
          132,
          133,
          134,
          135,
          136,
          137,
          138,
          139,
          140,
          141,
          142,
          143,
          144,
          145,
          146,
          147,
          148,
          149,
          150,
          151,
          152,
          153,
          154,
          155,
          156,
          157,
          158,
          159,
          160,
          161,
          162,
          163,
          164,
          165,
          166,
          167,
          168,
          169,
          170,
          171,
          172,
          173,
          174,
          175,
          176,
          177,
          178,
          179,
          180,
          181,
          182,
          183,
          184,
          185,
          186,
          187,
          188,
          189,
          190,
          191,
          192,
          193,
          194,
          195,
          196,
          197,
          198,
          199
         ],
         "y": [
          1.4018747311698432,
          0.12305038788003114,
          -2.0621604828169295,
          0.6310971788406574,
          0.017478005933253684,
          0.6964587848925091,
          0.6692142639756167,
          1.030659741046712,
          0.9596758077035872,
          -0.9164290079884374,
          -0.6446851483938009,
          -0.6116667373572493,
          1.7260305025206517,
          -0.2759506642155176,
          -0.3188067675342285,
          0.9549478759656118,
          0.4002068068348017,
          0.3618786329647358,
          -2.232852501779732,
          0.2634002979548043,
          -0.23434598180308425,
          0.44521962838237017,
          -1.8927127354319755,
          -1.3297540297781392,
          -0.07764797635478797,
          1.702839909849972,
          -1.0460649622342382,
          -0.23597238404268153,
          -1.3174204369042208,
          0.5712385004026206,
          -0.9397730609282275,
          1.244707443354532,
          -0.5536989612126252,
          0.6402166179463994,
          0.22426803921109695,
          -0.21264092848600558,
          -0.10993557287781922,
          -0.9819230417166805,
          0.6079360463127345,
          -0.6057679799690354,
          -1.1119745914173358,
          -1.560293807992332,
          -1.1987638460095538,
          0.4858277742131986,
          2.350569384291055,
          0.6151746971191706,
          0.3847879036524305,
          -0.40025360862732406,
          -0.2827464088764763,
          0.7732213376383255,
          -0.42574944193944025,
          -0.0977566524060275,
          -1.0460108459597866,
          -0.41906615486287035,
          -0.828081174470112,
          -1.5777766072475146,
          -1.751258971395327,
          -0.4577098650787121,
          -0.48384052874521427,
          0.6370632780928125,
          0.6135858592175875,
          -1.0524005004526487,
          -0.18939000452678795,
          1.4832097967972961,
          -1.4478718403622282,
          -1.175823620507187,
          -1.348720049032188,
          -0.840154268876634,
          0.16179821554044488,
          0.4215991235352048,
          -0.09304837280981533,
          1.0229402146371382,
          -0.6777075034485878,
          2.363547662269973,
          0.17517567510440044,
          -1.0142764458464555,
          0.769643017358293,
          -0.559782604130007,
          -0.09826200135677465,
          -2.19532344141647,
          -0.9028689610271179,
          -0.5641688540688159,
          0.0069344933942429516,
          1.771818416056886,
          -0.7042878205436063,
          -1.141511977610186,
          1.104695798124243,
          0.05504535578585138,
          -0.903445628111115,
          -1.0751312204194619,
          0.5433315622422493,
          -0.4816293656408814,
          0.4315047393038972,
          -0.13705156305918187,
          0.3792927120427439,
          -0.11521231565490844,
          -1.2704729596598132,
          -1.3483168965194472,
          -1.671616523024985,
          -0.1521424450157583,
          0.5440995446011344,
          -0.3718765369382678,
          -1.3965083041927662,
          2.526942966641223,
          2.239723475005572,
          -1.4859105355107327,
          1.9818013383576558,
          0.802989460671471,
          1.0303651079399383,
          2.3335949332225114,
          -2.2910087524718072,
          -1.1537515922644148,
          -1.3750319900867725,
          -1.6326060100061293,
          0.6645823180882093,
          1.4740851265119306,
          -0.7666063770492628,
          -0.5548089730982696,
          1.408417243841149,
          -0.4820681914552715,
          1.4701297681558765,
          0.27907719634906686,
          0.7102972508579796,
          -1.5217772011708037,
          0.010862325434475873,
          -0.016880069539919544,
          0.7993093349399368,
          1.015635996790291,
          -0.4474593226688298,
          0.7621086015075268,
          0.8856847020812305,
          1.2102974267836348,
          -1.5386477932819997,
          0.03834324809398329,
          -0.22576792002145568,
          1.0537342040776074,
          -1.3138277848469238,
          0.07049054804272177,
          0.4018169670712659,
          -0.2801832887276961,
          -0.5690121191476055,
          0.35598993442828114,
          -0.004734667011751212,
          0.33230256805073644,
          1.962345783467431,
          -0.2940856894796608,
          -0.1283389011930353,
          0.6168331074300294,
          0.7662626610879297,
          -1.7383020615197815,
          -1.2929174451479046,
          -2.096026957868482,
          0.42565821552001964,
          -0.5002591085547238,
          -0.919531712491247,
          -1.2964648092634155,
          -0.6962169438232568,
          0.03230857859249144,
          -0.529635964552918,
          2.0666298734833393,
          -0.17675252627642735,
          -1.0095191628490185,
          -0.5861082273681731,
          0.6937314493180352,
          0.9261375158887465,
          -1.1213803593314928,
          0.7213848051405207,
          0.3847080628723777,
          0.8894236002885328,
          1.6153335879826933,
          -1.0259748146661083,
          0.028568303126833148,
          0.2334580037219608,
          -2.1501354617090467,
          -0.9422006481662677,
          0.1444750455076689,
          1.0861237079967807,
          1.7201363417958033,
          2.0569115563677145,
          -1.381679208771417,
          -1.0351911302661752,
          1.5223278152050266,
          -0.23231343649555608,
          0.5412096716486152,
          -0.9721564299191358,
          -0.22792905301475427,
          -1.2773274724256982,
          0.8636612498925738,
          -1.2166122317481987,
          0.3507319275056264,
          -1.3101065387849253,
          1.037759945045999,
          1.9370197828161602,
          -2.516970783487686,
          0.10533441465097182,
          -1.9508940804635506,
          0.41530356237292915,
          0.17440382713054814,
          -2.0687853329702146,
          0.22323291262987086
         ]
        },
        {
         "marker": {
          "color": "rgba(50, 171, 96, 0.6)",
          "line": {
           "color": "rgba(50, 171, 96, 1.0)",
           "width": 1
          }
         },
         "name": "C",
         "orientation": "v",
         "text": "",
         "type": "bar",
         "x": [
          0,
          1,
          2,
          3,
          4,
          5,
          6,
          7,
          8,
          9,
          10,
          11,
          12,
          13,
          14,
          15,
          16,
          17,
          18,
          19,
          20,
          21,
          22,
          23,
          24,
          25,
          26,
          27,
          28,
          29,
          30,
          31,
          32,
          33,
          34,
          35,
          36,
          37,
          38,
          39,
          40,
          41,
          42,
          43,
          44,
          45,
          46,
          47,
          48,
          49,
          50,
          51,
          52,
          53,
          54,
          55,
          56,
          57,
          58,
          59,
          60,
          61,
          62,
          63,
          64,
          65,
          66,
          67,
          68,
          69,
          70,
          71,
          72,
          73,
          74,
          75,
          76,
          77,
          78,
          79,
          80,
          81,
          82,
          83,
          84,
          85,
          86,
          87,
          88,
          89,
          90,
          91,
          92,
          93,
          94,
          95,
          96,
          97,
          98,
          99,
          100,
          101,
          102,
          103,
          104,
          105,
          106,
          107,
          108,
          109,
          110,
          111,
          112,
          113,
          114,
          115,
          116,
          117,
          118,
          119,
          120,
          121,
          122,
          123,
          124,
          125,
          126,
          127,
          128,
          129,
          130,
          131,
          132,
          133,
          134,
          135,
          136,
          137,
          138,
          139,
          140,
          141,
          142,
          143,
          144,
          145,
          146,
          147,
          148,
          149,
          150,
          151,
          152,
          153,
          154,
          155,
          156,
          157,
          158,
          159,
          160,
          161,
          162,
          163,
          164,
          165,
          166,
          167,
          168,
          169,
          170,
          171,
          172,
          173,
          174,
          175,
          176,
          177,
          178,
          179,
          180,
          181,
          182,
          183,
          184,
          185,
          186,
          187,
          188,
          189,
          190,
          191,
          192,
          193,
          194,
          195,
          196,
          197,
          198,
          199
         ],
         "y": [
          -1.385599006792901,
          -1.7197849763534634,
          1.5747803144791424,
          0.22087703915493273,
          1.4048072889623526,
          -0.17203220259412677,
          -0.5478221068929772,
          -0.2571036482455168,
          0.83526256911748,
          0.7295109671879325,
          -0.41892914647460383,
          0.5088431770608817,
          -0.545965724792688,
          -0.33100748483810266,
          0.5220780822294445,
          0.6690441411444692,
          0.1826733430427206,
          -0.877121920622054,
          1.4235543935292008,
          -0.4536467130462135,
          1.0891053014432,
          -1.2316562978392696,
          -0.45039797539149595,
          -0.0161623193476018,
          1.860653210388855,
          -1.1352232694440099,
          -0.35024596573976224,
          -0.4969335567373902,
          -0.9680259684720534,
          -2.0944192443697127,
          0.3281146356341243,
          1.1879230963728453,
          1.3133835432347751,
          -1.1331241858228536,
          -0.09964269383325358,
          -0.5670593921026623,
          0.8948329179593418,
          1.1473984299795974,
          1.2019927205435548,
          0.377575496595243,
          0.17651537132907977,
          -0.9499283412600837,
          0.3985873061898483,
          -0.2524510144042869,
          -0.7274605524449378,
          -0.6095669119492346,
          -0.3245202544534693,
          1.3148691761801465,
          2.3358141956226626,
          -2.4601472909133326,
          0.04654499723271527,
          -1.251597920803092,
          0.4749353557787959,
          -0.9206748732515008,
          0.5162827131466176,
          -0.11699896548752016,
          2.3022622170092335,
          -0.7012675941209484,
          -0.7283969714507058,
          -0.5794746944179315,
          1.3437176475788333,
          0.4982669792199907,
          1.6867823314492179,
          0.08172912875324927,
          -0.6006538105463247,
          -0.43966473077939855,
          -1.3508327599279302,
          -1.829926992179897,
          -1.380602559476269,
          0.48240676857510556,
          0.6149002921105139,
          -0.7388773475762256,
          -0.8841095457737844,
          -0.1751299312881325,
          1.9446554133871992,
          -1.3324126706554342,
          -0.7096742342791013,
          -0.7437240018932815,
          0.6602416333763232,
          1.0176727193067967,
          -0.5524680901737848,
          1.1434468620574527,
          -0.7734307039891627,
          0.8965056286011309,
          1.402017062407769,
          0.4359154222512774,
          -0.46816508376559096,
          0.756437547431865,
          -0.6164987704692465,
          1.6184273032708156,
          1.426303919872584,
          -0.04161209514211454,
          -1.2337965632148633,
          -0.4566251877811787,
          -0.46946123502120585,
          1.0609360887290722,
          1.2621015619841527,
          -2.608318114488203,
          -1.582361286280856,
          -0.19499682075667363,
          -1.1941369375655286,
          -0.16554845498734888,
          0.5808738594570794,
          -0.04912295224661493,
          -1.5715157223821186,
          -0.33908747985349375,
          0.8681334488613784,
          0.062217931439810636,
          1.6600980719595209,
          1.7562201370827581,
          -1.477554922665295,
          1.7784643352940093,
          -0.8766644487453403,
          0.4943916309762949,
          -1.1385149753495707,
          -1.464514833807233,
          0.7357726123676097,
          0.8914016028258562,
          -1.235418381474018,
          -1.4409955120477786,
          0.7398610992391563,
          -0.7271814181366715,
          -0.8838695184812071,
          -1.1023952000272523,
          -0.15720574930360842,
          1.4282908181988654,
          0.5904130272118258,
          -0.07924866949652917,
          0.0781557145444214,
          0.37445087591831755,
          0.4475896155422568,
          0.3960079883083532,
          1.6476893349703128,
          0.1888916760581893,
          -1.6642468434525177,
          0.09243685179805267,
          1.5836932100497305,
          0.5743594032105762,
          0.03655750426161463,
          -1.1562603100372923,
          -0.8192253115775014,
          1.4436569936532557,
          -0.5569729435030032,
          1.4885027933719073,
          -0.96239395711921,
          2.2128831421862385,
          0.8744271022669069,
          1.2847015649907108,
          0.8597138952645841,
          1.3882958689629683,
          0.6317076676641963,
          0.3269075353602081,
          1.5429071621257286,
          0.10130068377807228,
          1.1542432160598814,
          1.2531358402810988,
          0.26275494358920176,
          2.3852891071003444,
          -0.15953470284019589,
          0.03506333586369161,
          -2.0038030260199893,
          1.2204534600595491,
          1.6361359683276138,
          1.3906239181656421,
          -0.786111210670228,
          1.6100752036876445,
          0.03302995073857356,
          -0.8284028418337049,
          0.5948824971381954,
          -0.7608389414479757,
          -0.6195093333879186,
          -0.4068393830343923,
          -1.045332947511054,
          0.31599560693055906,
          0.5296629922202261,
          2.357279848791362,
          0.2951797311121355,
          1.32057871574306,
          1.5040484903494704,
          -0.1706849753486248,
          0.024985678840708552,
          -1.1421040299779,
          -1.2497631015024637,
          0.8571861420272623,
          -1.1899007184407737,
          -0.7591368609865685,
          0.24752714068101198,
          0.4181528153753166,
          -1.4676367453008217,
          -0.1199537913166694,
          0.6450542149457716,
          0.07065090370870525,
          -0.9288093514416575,
          -0.13150670679188203,
          -1.2885479320103321,
          0.4012364046547924,
          0.1977656121095965,
          0.06949039869264667,
          0.6564605469013881,
          -1.2731433898640176
         ]
        },
        {
         "marker": {
          "color": "rgba(128, 0, 128, 0.6)",
          "line": {
           "color": "rgba(128, 0, 128, 1.0)",
           "width": 1
          }
         },
         "name": "D",
         "orientation": "v",
         "text": "",
         "type": "bar",
         "x": [
          0,
          1,
          2,
          3,
          4,
          5,
          6,
          7,
          8,
          9,
          10,
          11,
          12,
          13,
          14,
          15,
          16,
          17,
          18,
          19,
          20,
          21,
          22,
          23,
          24,
          25,
          26,
          27,
          28,
          29,
          30,
          31,
          32,
          33,
          34,
          35,
          36,
          37,
          38,
          39,
          40,
          41,
          42,
          43,
          44,
          45,
          46,
          47,
          48,
          49,
          50,
          51,
          52,
          53,
          54,
          55,
          56,
          57,
          58,
          59,
          60,
          61,
          62,
          63,
          64,
          65,
          66,
          67,
          68,
          69,
          70,
          71,
          72,
          73,
          74,
          75,
          76,
          77,
          78,
          79,
          80,
          81,
          82,
          83,
          84,
          85,
          86,
          87,
          88,
          89,
          90,
          91,
          92,
          93,
          94,
          95,
          96,
          97,
          98,
          99,
          100,
          101,
          102,
          103,
          104,
          105,
          106,
          107,
          108,
          109,
          110,
          111,
          112,
          113,
          114,
          115,
          116,
          117,
          118,
          119,
          120,
          121,
          122,
          123,
          124,
          125,
          126,
          127,
          128,
          129,
          130,
          131,
          132,
          133,
          134,
          135,
          136,
          137,
          138,
          139,
          140,
          141,
          142,
          143,
          144,
          145,
          146,
          147,
          148,
          149,
          150,
          151,
          152,
          153,
          154,
          155,
          156,
          157,
          158,
          159,
          160,
          161,
          162,
          163,
          164,
          165,
          166,
          167,
          168,
          169,
          170,
          171,
          172,
          173,
          174,
          175,
          176,
          177,
          178,
          179,
          180,
          181,
          182,
          183,
          184,
          185,
          186,
          187,
          188,
          189,
          190,
          191,
          192,
          193,
          194,
          195,
          196,
          197,
          198,
          199
         ],
         "y": [
          -1.177223911481873,
          -0.29167796775702576,
          1.015849711093481,
          -1.5632697221999952,
          -1.188862087198042,
          0.9118286507428603,
          0.12004560260873919,
          0.30615185664214467,
          0.4068585213345728,
          0.04788357105892197,
          -1.0730744655289608,
          1.3627181384613922,
          -1.429905874078411,
          0.005056987583926655,
          1.7093995505715804,
          -0.6547662540003706,
          0.975230348312139,
          1.2943210344228249,
          1.3860015048138674,
          0.26933783574740583,
          -1.6818354559214377,
          0.5699527191444935,
          -0.8085576249715936,
          -0.30855970637491215,
          1.0076428429125286,
          0.03258793879293975,
          -0.1975471792747596,
          0.7032660669527372,
          0.5550963921924533,
          -0.4073803611435891,
          -1.495035808332509,
          0.10189101243872417,
          1.326782882883116,
          0.8887114620766801,
          0.8506718335258759,
          0.37715963477045467,
          -0.09406536631961311,
          0.7672394649639005,
          0.12414422210757521,
          -0.07054576801104318,
          -0.7490828162425152,
          1.0054685383488922,
          -0.32622398977440087,
          -1.7293427744766128,
          -0.17893314214196054,
          -0.6445329057740592,
          -2.1296429270807975,
          -0.849517163538628,
          1.346157652658771,
          -1.760483167451817,
          -1.2043739899155788,
          0.012432714521647131,
          -0.5149239544670113,
          0.477902236056113,
          -0.0871448110503587,
          0.1111291108088189,
          0.7600152695109311,
          0.4339035143438705,
          -0.5098427020312968,
          0.05778112734588025,
          0.2592907264569348,
          -0.4210044625954527,
          2.088556853181352,
          0.9036632920259653,
          -0.2339117092894673,
          -0.3283329237014898,
          0.9504697375545578,
          0.30149118020264176,
          -1.2077984172690528,
          0.24562709321626397,
          -0.23104901421521776,
          0.12598659746766855,
          -0.9235899921737932,
          0.054668107938544215,
          -0.014656363906992367,
          0.32718710570218534,
          -1.1048488430705672,
          0.9472652945157712,
          0.9673888696845052,
          -0.6351085093895855,
          -0.32860774250628555,
          -0.3032229538724417,
          1.9316556397154276,
          0.3437554977162938,
          -0.44925077282208825,
          0.2071776605585226,
          -0.1384549643318921,
          -0.588761118349195,
          0.3835924129475016,
          1.0443082403299997,
          0.5646124203256961,
          -1.1669441299638657,
          1.471651864712656,
          0.5571573781873396,
          1.1806318077196802,
          -0.364457546178787,
          0.7942703611158273,
          -0.8766095764428595,
          -0.6739234543957282,
          0.7020962615139723,
          1.9466313970415234,
          1.4033181559817107,
          0.8817067103269239,
          -0.636142069992607,
          0.5096996225073084,
          -1.0449015238868775,
          -1.3516362391876686,
          1.072760938487999,
          0.04561623114174906,
          -2.197726838718576,
          0.5895180636953125,
          0.7666930968501002,
          0.573446272540947,
          -0.049570518667105885,
          -0.2450651358718775,
          1.4984801536243355,
          -0.08989543973475861,
          1.3256954118636977,
          -0.6787356172302887,
          -0.20663840349902926,
          -0.07463448099353537,
          0.43653254030779626,
          2.143472102908509,
          0.8336845443896479,
          0.4705105240557236,
          -2.4206897448854976,
          -0.19850309445539632,
          1.940226431162549,
          0.6669746583084654,
          -0.10340935468679296,
          0.8995897385012287,
          -0.1453724997837296,
          0.0013701891805882745,
          1.2021739796363846,
          0.7076958539621563,
          0.9301447513092584,
          0.489618944863697,
          -0.1871095092808642,
          -0.049199581972393394,
          -0.15116514687392069,
          -0.6669480483173831,
          0.04042967861504227,
          -0.44420919384158947,
          0.09154553007254254,
          0.21014133133904156,
          0.10870218345725416,
          2.230711246395308,
          0.32910321870848624,
          1.4584367024467773,
          0.24551339739498768,
          -1.1377108717141038,
          -0.25791244722761,
          0.5275870565785041,
          0.8607420449542655,
          -1.649911422842504,
          0.9773201324784074,
          0.06855977558782761,
          -0.39317571645592336,
          1.818787409656117,
          0.16000823783392648,
          -1.2434611238988615,
          0.511081134462931,
          1.587383860427019,
          0.3081870018514402,
          0.14567651154065986,
          -0.741600184777107,
          -0.21620988781502093,
          0.9098313234674152,
          0.9025932096658122,
          -0.5205059023524584,
          -0.07305715958546434,
          -0.15760821204976852,
          0.07037745154270833,
          -0.11504472818390368,
          0.0756585617735883,
          1.5536647405290667,
          0.23616705043470598,
          1.5820259289264258,
          3.273371398867746,
          -1.5075772265477676,
          0.26972986831556195,
          0.02721656626759725,
          0.10409688610774594,
          -1.023971521658838,
          0.22308365980777248,
          -1.0065375173423037,
          0.7714284121531372,
          -0.5531778649396925,
          1.3759535558272362,
          -1.0592605355498366,
          -1.0261547728518359,
          0.8240680302338254,
          1.347899630394395,
          -0.5324076283811398,
          -0.023191462426795078,
          -1.1087538888567978,
          0.16562106697546275,
          -0.7853546209802792,
          -1.8334126140374971,
          -0.1301925298518984
         ]
        }
       ],
       "layout": {
        "legend": {
         "bgcolor": "#F5F6F9",
         "font": {
          "color": "#4D5663"
         }
        },
        "paper_bgcolor": "#F5F6F9",
        "plot_bgcolor": "#F5F6F9",
        "template": {
         "data": {
          "bar": [
           {
            "error_x": {
             "color": "#2a3f5f"
            },
            "error_y": {
             "color": "#2a3f5f"
            },
            "marker": {
             "line": {
              "color": "#E5ECF6",
              "width": 0.5
             },
             "pattern": {
              "fillmode": "overlay",
              "size": 10,
              "solidity": 0.2
             }
            },
            "type": "bar"
           }
          ],
          "barpolar": [
           {
            "marker": {
             "line": {
              "color": "#E5ECF6",
              "width": 0.5
             },
             "pattern": {
              "fillmode": "overlay",
              "size": 10,
              "solidity": 0.2
             }
            },
            "type": "barpolar"
           }
          ],
          "carpet": [
           {
            "aaxis": {
             "endlinecolor": "#2a3f5f",
             "gridcolor": "white",
             "linecolor": "white",
             "minorgridcolor": "white",
             "startlinecolor": "#2a3f5f"
            },
            "baxis": {
             "endlinecolor": "#2a3f5f",
             "gridcolor": "white",
             "linecolor": "white",
             "minorgridcolor": "white",
             "startlinecolor": "#2a3f5f"
            },
            "type": "carpet"
           }
          ],
          "choropleth": [
           {
            "colorbar": {
             "outlinewidth": 0,
             "ticks": ""
            },
            "type": "choropleth"
           }
          ],
          "contour": [
           {
            "colorbar": {
             "outlinewidth": 0,
             "ticks": ""
            },
            "colorscale": [
             [
              0,
              "#0d0887"
             ],
             [
              0.1111111111111111,
              "#46039f"
             ],
             [
              0.2222222222222222,
              "#7201a8"
             ],
             [
              0.3333333333333333,
              "#9c179e"
             ],
             [
              0.4444444444444444,
              "#bd3786"
             ],
             [
              0.5555555555555556,
              "#d8576b"
             ],
             [
              0.6666666666666666,
              "#ed7953"
             ],
             [
              0.7777777777777778,
              "#fb9f3a"
             ],
             [
              0.8888888888888888,
              "#fdca26"
             ],
             [
              1,
              "#f0f921"
             ]
            ],
            "type": "contour"
           }
          ],
          "contourcarpet": [
           {
            "colorbar": {
             "outlinewidth": 0,
             "ticks": ""
            },
            "type": "contourcarpet"
           }
          ],
          "heatmap": [
           {
            "colorbar": {
             "outlinewidth": 0,
             "ticks": ""
            },
            "colorscale": [
             [
              0,
              "#0d0887"
             ],
             [
              0.1111111111111111,
              "#46039f"
             ],
             [
              0.2222222222222222,
              "#7201a8"
             ],
             [
              0.3333333333333333,
              "#9c179e"
             ],
             [
              0.4444444444444444,
              "#bd3786"
             ],
             [
              0.5555555555555556,
              "#d8576b"
             ],
             [
              0.6666666666666666,
              "#ed7953"
             ],
             [
              0.7777777777777778,
              "#fb9f3a"
             ],
             [
              0.8888888888888888,
              "#fdca26"
             ],
             [
              1,
              "#f0f921"
             ]
            ],
            "type": "heatmap"
           }
          ],
          "heatmapgl": [
           {
            "colorbar": {
             "outlinewidth": 0,
             "ticks": ""
            },
            "colorscale": [
             [
              0,
              "#0d0887"
             ],
             [
              0.1111111111111111,
              "#46039f"
             ],
             [
              0.2222222222222222,
              "#7201a8"
             ],
             [
              0.3333333333333333,
              "#9c179e"
             ],
             [
              0.4444444444444444,
              "#bd3786"
             ],
             [
              0.5555555555555556,
              "#d8576b"
             ],
             [
              0.6666666666666666,
              "#ed7953"
             ],
             [
              0.7777777777777778,
              "#fb9f3a"
             ],
             [
              0.8888888888888888,
              "#fdca26"
             ],
             [
              1,
              "#f0f921"
             ]
            ],
            "type": "heatmapgl"
           }
          ],
          "histogram": [
           {
            "marker": {
             "pattern": {
              "fillmode": "overlay",
              "size": 10,
              "solidity": 0.2
             }
            },
            "type": "histogram"
           }
          ],
          "histogram2d": [
           {
            "colorbar": {
             "outlinewidth": 0,
             "ticks": ""
            },
            "colorscale": [
             [
              0,
              "#0d0887"
             ],
             [
              0.1111111111111111,
              "#46039f"
             ],
             [
              0.2222222222222222,
              "#7201a8"
             ],
             [
              0.3333333333333333,
              "#9c179e"
             ],
             [
              0.4444444444444444,
              "#bd3786"
             ],
             [
              0.5555555555555556,
              "#d8576b"
             ],
             [
              0.6666666666666666,
              "#ed7953"
             ],
             [
              0.7777777777777778,
              "#fb9f3a"
             ],
             [
              0.8888888888888888,
              "#fdca26"
             ],
             [
              1,
              "#f0f921"
             ]
            ],
            "type": "histogram2d"
           }
          ],
          "histogram2dcontour": [
           {
            "colorbar": {
             "outlinewidth": 0,
             "ticks": ""
            },
            "colorscale": [
             [
              0,
              "#0d0887"
             ],
             [
              0.1111111111111111,
              "#46039f"
             ],
             [
              0.2222222222222222,
              "#7201a8"
             ],
             [
              0.3333333333333333,
              "#9c179e"
             ],
             [
              0.4444444444444444,
              "#bd3786"
             ],
             [
              0.5555555555555556,
              "#d8576b"
             ],
             [
              0.6666666666666666,
              "#ed7953"
             ],
             [
              0.7777777777777778,
              "#fb9f3a"
             ],
             [
              0.8888888888888888,
              "#fdca26"
             ],
             [
              1,
              "#f0f921"
             ]
            ],
            "type": "histogram2dcontour"
           }
          ],
          "mesh3d": [
           {
            "colorbar": {
             "outlinewidth": 0,
             "ticks": ""
            },
            "type": "mesh3d"
           }
          ],
          "parcoords": [
           {
            "line": {
             "colorbar": {
              "outlinewidth": 0,
              "ticks": ""
             }
            },
            "type": "parcoords"
           }
          ],
          "pie": [
           {
            "automargin": true,
            "type": "pie"
           }
          ],
          "scatter": [
           {
            "fillpattern": {
             "fillmode": "overlay",
             "size": 10,
             "solidity": 0.2
            },
            "type": "scatter"
           }
          ],
          "scatter3d": [
           {
            "line": {
             "colorbar": {
              "outlinewidth": 0,
              "ticks": ""
             }
            },
            "marker": {
             "colorbar": {
              "outlinewidth": 0,
              "ticks": ""
             }
            },
            "type": "scatter3d"
           }
          ],
          "scattercarpet": [
           {
            "marker": {
             "colorbar": {
              "outlinewidth": 0,
              "ticks": ""
             }
            },
            "type": "scattercarpet"
           }
          ],
          "scattergeo": [
           {
            "marker": {
             "colorbar": {
              "outlinewidth": 0,
              "ticks": ""
             }
            },
            "type": "scattergeo"
           }
          ],
          "scattergl": [
           {
            "marker": {
             "colorbar": {
              "outlinewidth": 0,
              "ticks": ""
             }
            },
            "type": "scattergl"
           }
          ],
          "scattermapbox": [
           {
            "marker": {
             "colorbar": {
              "outlinewidth": 0,
              "ticks": ""
             }
            },
            "type": "scattermapbox"
           }
          ],
          "scatterpolar": [
           {
            "marker": {
             "colorbar": {
              "outlinewidth": 0,
              "ticks": ""
             }
            },
            "type": "scatterpolar"
           }
          ],
          "scatterpolargl": [
           {
            "marker": {
             "colorbar": {
              "outlinewidth": 0,
              "ticks": ""
             }
            },
            "type": "scatterpolargl"
           }
          ],
          "scatterternary": [
           {
            "marker": {
             "colorbar": {
              "outlinewidth": 0,
              "ticks": ""
             }
            },
            "type": "scatterternary"
           }
          ],
          "surface": [
           {
            "colorbar": {
             "outlinewidth": 0,
             "ticks": ""
            },
            "colorscale": [
             [
              0,
              "#0d0887"
             ],
             [
              0.1111111111111111,
              "#46039f"
             ],
             [
              0.2222222222222222,
              "#7201a8"
             ],
             [
              0.3333333333333333,
              "#9c179e"
             ],
             [
              0.4444444444444444,
              "#bd3786"
             ],
             [
              0.5555555555555556,
              "#d8576b"
             ],
             [
              0.6666666666666666,
              "#ed7953"
             ],
             [
              0.7777777777777778,
              "#fb9f3a"
             ],
             [
              0.8888888888888888,
              "#fdca26"
             ],
             [
              1,
              "#f0f921"
             ]
            ],
            "type": "surface"
           }
          ],
          "table": [
           {
            "cells": {
             "fill": {
              "color": "#EBF0F8"
             },
             "line": {
              "color": "white"
             }
            },
            "header": {
             "fill": {
              "color": "#C8D4E3"
             },
             "line": {
              "color": "white"
             }
            },
            "type": "table"
           }
          ]
         },
         "layout": {
          "annotationdefaults": {
           "arrowcolor": "#2a3f5f",
           "arrowhead": 0,
           "arrowwidth": 1
          },
          "autotypenumbers": "strict",
          "coloraxis": {
           "colorbar": {
            "outlinewidth": 0,
            "ticks": ""
           }
          },
          "colorscale": {
           "diverging": [
            [
             0,
             "#8e0152"
            ],
            [
             0.1,
             "#c51b7d"
            ],
            [
             0.2,
             "#de77ae"
            ],
            [
             0.3,
             "#f1b6da"
            ],
            [
             0.4,
             "#fde0ef"
            ],
            [
             0.5,
             "#f7f7f7"
            ],
            [
             0.6,
             "#e6f5d0"
            ],
            [
             0.7,
             "#b8e186"
            ],
            [
             0.8,
             "#7fbc41"
            ],
            [
             0.9,
             "#4d9221"
            ],
            [
             1,
             "#276419"
            ]
           ],
           "sequential": [
            [
             0,
             "#0d0887"
            ],
            [
             0.1111111111111111,
             "#46039f"
            ],
            [
             0.2222222222222222,
             "#7201a8"
            ],
            [
             0.3333333333333333,
             "#9c179e"
            ],
            [
             0.4444444444444444,
             "#bd3786"
            ],
            [
             0.5555555555555556,
             "#d8576b"
            ],
            [
             0.6666666666666666,
             "#ed7953"
            ],
            [
             0.7777777777777778,
             "#fb9f3a"
            ],
            [
             0.8888888888888888,
             "#fdca26"
            ],
            [
             1,
             "#f0f921"
            ]
           ],
           "sequentialminus": [
            [
             0,
             "#0d0887"
            ],
            [
             0.1111111111111111,
             "#46039f"
            ],
            [
             0.2222222222222222,
             "#7201a8"
            ],
            [
             0.3333333333333333,
             "#9c179e"
            ],
            [
             0.4444444444444444,
             "#bd3786"
            ],
            [
             0.5555555555555556,
             "#d8576b"
            ],
            [
             0.6666666666666666,
             "#ed7953"
            ],
            [
             0.7777777777777778,
             "#fb9f3a"
            ],
            [
             0.8888888888888888,
             "#fdca26"
            ],
            [
             1,
             "#f0f921"
            ]
           ]
          },
          "colorway": [
           "#636efa",
           "#EF553B",
           "#00cc96",
           "#ab63fa",
           "#FFA15A",
           "#19d3f3",
           "#FF6692",
           "#B6E880",
           "#FF97FF",
           "#FECB52"
          ],
          "font": {
           "color": "#2a3f5f"
          },
          "geo": {
           "bgcolor": "white",
           "lakecolor": "white",
           "landcolor": "#E5ECF6",
           "showlakes": true,
           "showland": true,
           "subunitcolor": "white"
          },
          "hoverlabel": {
           "align": "left"
          },
          "hovermode": "closest",
          "mapbox": {
           "style": "light"
          },
          "paper_bgcolor": "white",
          "plot_bgcolor": "#E5ECF6",
          "polar": {
           "angularaxis": {
            "gridcolor": "white",
            "linecolor": "white",
            "ticks": ""
           },
           "bgcolor": "#E5ECF6",
           "radialaxis": {
            "gridcolor": "white",
            "linecolor": "white",
            "ticks": ""
           }
          },
          "scene": {
           "xaxis": {
            "backgroundcolor": "#E5ECF6",
            "gridcolor": "white",
            "gridwidth": 2,
            "linecolor": "white",
            "showbackground": true,
            "ticks": "",
            "zerolinecolor": "white"
           },
           "yaxis": {
            "backgroundcolor": "#E5ECF6",
            "gridcolor": "white",
            "gridwidth": 2,
            "linecolor": "white",
            "showbackground": true,
            "ticks": "",
            "zerolinecolor": "white"
           },
           "zaxis": {
            "backgroundcolor": "#E5ECF6",
            "gridcolor": "white",
            "gridwidth": 2,
            "linecolor": "white",
            "showbackground": true,
            "ticks": "",
            "zerolinecolor": "white"
           }
          },
          "shapedefaults": {
           "line": {
            "color": "#2a3f5f"
           }
          },
          "ternary": {
           "aaxis": {
            "gridcolor": "white",
            "linecolor": "white",
            "ticks": ""
           },
           "baxis": {
            "gridcolor": "white",
            "linecolor": "white",
            "ticks": ""
           },
           "bgcolor": "#E5ECF6",
           "caxis": {
            "gridcolor": "white",
            "linecolor": "white",
            "ticks": ""
           }
          },
          "title": {
           "x": 0.05
          },
          "xaxis": {
           "automargin": true,
           "gridcolor": "white",
           "linecolor": "white",
           "ticks": "",
           "title": {
            "standoff": 15
           },
           "zerolinecolor": "white",
           "zerolinewidth": 2
          },
          "yaxis": {
           "automargin": true,
           "gridcolor": "white",
           "linecolor": "white",
           "ticks": "",
           "title": {
            "standoff": 15
           },
           "zerolinecolor": "white",
           "zerolinewidth": 2
          }
         }
        },
        "title": {
         "font": {
          "color": "#4D5663"
         }
        },
        "xaxis": {
         "gridcolor": "#E1E5ED",
         "showgrid": true,
         "tickfont": {
          "color": "#4D5663"
         },
         "title": {
          "font": {
           "color": "#4D5663"
          },
          "text": ""
         },
         "zerolinecolor": "#E1E5ED"
        },
        "yaxis": {
         "gridcolor": "#E1E5ED",
         "showgrid": true,
         "tickfont": {
          "color": "#4D5663"
         },
         "title": {
          "font": {
           "color": "#4D5663"
          },
          "text": ""
         },
         "zerolinecolor": "#E1E5ED"
        }
       }
      },
      "text/html": [
       "<div>                            <div id=\"37777efa-37dd-4adf-8322-aa0fadd43865\" class=\"plotly-graph-div\" style=\"height:525px; width:100%;\"></div>            <script type=\"text/javascript\">                require([\"plotly\"], function(Plotly) {                    window.PLOTLYENV=window.PLOTLYENV || {};\n",
       "                    window.PLOTLYENV.BASE_URL='https://plot.ly';                                    if (document.getElementById(\"37777efa-37dd-4adf-8322-aa0fadd43865\")) {                    Plotly.newPlot(                        \"37777efa-37dd-4adf-8322-aa0fadd43865\",                        [{\"marker\":{\"color\":\"rgba(255, 153, 51, 0.6)\",\"line\":{\"color\":\"rgba(255, 153, 51, 1.0)\",\"width\":1}},\"name\":\"A\",\"orientation\":\"v\",\"text\":\"\",\"x\":[0,1,2,3,4,5,6,7,8,9,10,11,12,13,14,15,16,17,18,19,20,21,22,23,24,25,26,27,28,29,30,31,32,33,34,35,36,37,38,39,40,41,42,43,44,45,46,47,48,49,50,51,52,53,54,55,56,57,58,59,60,61,62,63,64,65,66,67,68,69,70,71,72,73,74,75,76,77,78,79,80,81,82,83,84,85,86,87,88,89,90,91,92,93,94,95,96,97,98,99,100,101,102,103,104,105,106,107,108,109,110,111,112,113,114,115,116,117,118,119,120,121,122,123,124,125,126,127,128,129,130,131,132,133,134,135,136,137,138,139,140,141,142,143,144,145,146,147,148,149,150,151,152,153,154,155,156,157,158,159,160,161,162,163,164,165,166,167,168,169,170,171,172,173,174,175,176,177,178,179,180,181,182,183,184,185,186,187,188,189,190,191,192,193,194,195,196,197,198,199],\"y\":[-1.487606705268289,-1.3270966904104238,0.3604379283601886,-1.0755063445021371,0.3811337534773147,2.0641007329383485,-0.48203477848504866,-0.38832558174328935,1.7478672968117868,1.1158691106492418,0.2896935352623028,-0.3812217927690513,0.42123870859889845,1.8812870946781968,2.557404536964999,-0.7058476334484991,0.28569424203115323,0.24695939642219372,-0.6385715504663668,0.9026702831781179,2.298729565138558,0.11640944430966896,0.42767735280331637,0.33544870905998614,0.16811832161387877,-0.21121411331425205,0.5874308678366539,-1.1216357817595521,0.11255262014025855,1.1853522193052266,0.45797947718207993,0.06034425911595249,0.9711702720221174,-0.7824061933747677,0.6276524906327481,-1.0548261198142173,-1.0832514348502216,-0.36189322746518,0.643434169576394,0.4488595629144203,0.8061508090023473,-1.222979893598644,-0.6920946263116126,-1.2937441326912544,0.23876442953656232,-0.817684328749027,0.08369524837438268,0.13287413960379232,-0.2499943512909606,0.6636954943467446,-0.5280332499790815,-0.5398566815380538,-0.31918190307525746,2.254926925098105,-0.7632175571836918,-1.1048423421686462,1.1028289510008162,-1.2097544316232944,-1.1939998494256865,1.2253107286051743,0.031116092717685246,-0.7487543140223533,1.4274039877008702,-2.4152283125719656,0.8018374859983983,-0.652637162274179,-1.109773355409906,0.9421069223405514,0.9272547022786595,-2.0967011767857966,-0.9386686213866825,1.2712810659600504,0.6688989976815631,-1.538865098729885,0.7131115264494275,-0.6467904553989622,1.2822063664196233,-0.30066345972728864,0.5960304893962182,0.6082958314371802,-1.3267205129120214,0.8887344180865127,0.9487101456582948,1.208515049669603,-0.49564632045569046,-2.171379335945453,-0.5722068920663259,0.821728319864167,-0.4532924125120422,0.5176236846070436,1.074779233055591,-0.04980169881531574,-1.1325388535132843,-0.8340003699765887,0.4681608886840201,0.340074509311427,0.9532273672009145,-0.551300031728624,1.5019798360618883,2.0813328323766336,-1.8888588017436174,0.5527504926273384,-1.832394693910066,-0.1891939936596043,-0.1795525048751539,-0.41353587573206846,0.6119219622848441,0.3669411247956404,-1.656394643836909,0.6825827271960428,0.40978281154268725,-1.027348486216504,-0.8913232958653983,-2.176619637487184,1.6404497173622186,-1.1539800497331998,-2.6344933558902484,1.3269304883606206,-0.4686755309635699,0.15375555596251558,-0.003231518781125517,-2.5756810430242285,0.23191043239930428,-0.20325011510086552,-0.1262256677960052,-0.4306067892790383,2.223999933559132,-0.28481970484576097,0.041636347874112516,0.8363856899449069,-0.7190061049681735,-1.660586642755478,-0.8424461151634391,-1.3410654086417828,0.5173398539462267,-1.3712460727772473,-0.4467550562662734,0.9157433279770691,1.754416969372457,0.6747547564025815,0.6483259564379472,0.9589442722537845,-1.1404949913493048,-0.9607080724043362,-0.4758449423533752,-0.2995599393280748,-0.24888778174690462,0.15542907347123394,-1.2558919529016797,1.4884181758140078,-0.17569860858299177,1.225904563594473,1.1324490392969089,0.3835923409382287,1.9124939131151277,-0.47992141278970996,-0.17605511359007,0.2200553792256361,-0.45229522971198904,-1.8838923550993498,0.13315305673333974,-0.8266448326458588,1.2294707915972516,0.6778486167632689,-0.15856560330555253,1.0126681253705112,0.6806465776765602,-2.341158623582788,0.2755666236492162,-0.7172182469495813,0.7930105775209679,0.39568977405882394,1.528726412996672,0.24679536520261422,-0.46161608591743614,-0.41260788090652584,-0.9197333364273914,1.2672340572160545,-0.7680399463059111,0.20875650311460647,-0.8688520154587448,1.1871175195914496,0.4318475877039881,0.22291570222242593,1.912613011968483,-1.1895491534313078,-0.8601534520780754,-0.6884358071535207,1.6067100199942381,0.8869574010673043,2.2738448377759197,0.053238690773936066,-0.10165799243942343,-1.5322439587081917,1.4952390580885375,-0.3456678618511981,-0.09156509867611441,-1.7259238493479152,0.42627109535565494,0.13155584440661],\"type\":\"bar\"},{\"marker\":{\"color\":\"rgba(55, 128, 191, 0.6)\",\"line\":{\"color\":\"rgba(55, 128, 191, 1.0)\",\"width\":1}},\"name\":\"B\",\"orientation\":\"v\",\"text\":\"\",\"x\":[0,1,2,3,4,5,6,7,8,9,10,11,12,13,14,15,16,17,18,19,20,21,22,23,24,25,26,27,28,29,30,31,32,33,34,35,36,37,38,39,40,41,42,43,44,45,46,47,48,49,50,51,52,53,54,55,56,57,58,59,60,61,62,63,64,65,66,67,68,69,70,71,72,73,74,75,76,77,78,79,80,81,82,83,84,85,86,87,88,89,90,91,92,93,94,95,96,97,98,99,100,101,102,103,104,105,106,107,108,109,110,111,112,113,114,115,116,117,118,119,120,121,122,123,124,125,126,127,128,129,130,131,132,133,134,135,136,137,138,139,140,141,142,143,144,145,146,147,148,149,150,151,152,153,154,155,156,157,158,159,160,161,162,163,164,165,166,167,168,169,170,171,172,173,174,175,176,177,178,179,180,181,182,183,184,185,186,187,188,189,190,191,192,193,194,195,196,197,198,199],\"y\":[1.4018747311698432,0.12305038788003114,-2.0621604828169295,0.6310971788406574,0.017478005933253684,0.6964587848925091,0.6692142639756167,1.030659741046712,0.9596758077035872,-0.9164290079884374,-0.6446851483938009,-0.6116667373572493,1.7260305025206517,-0.2759506642155176,-0.3188067675342285,0.9549478759656118,0.4002068068348017,0.3618786329647358,-2.232852501779732,0.2634002979548043,-0.23434598180308425,0.44521962838237017,-1.8927127354319755,-1.3297540297781392,-0.07764797635478797,1.702839909849972,-1.0460649622342382,-0.23597238404268153,-1.3174204369042208,0.5712385004026206,-0.9397730609282275,1.244707443354532,-0.5536989612126252,0.6402166179463994,0.22426803921109695,-0.21264092848600558,-0.10993557287781922,-0.9819230417166805,0.6079360463127345,-0.6057679799690354,-1.1119745914173358,-1.560293807992332,-1.1987638460095538,0.4858277742131986,2.350569384291055,0.6151746971191706,0.3847879036524305,-0.40025360862732406,-0.2827464088764763,0.7732213376383255,-0.42574944193944025,-0.0977566524060275,-1.0460108459597866,-0.41906615486287035,-0.828081174470112,-1.5777766072475146,-1.751258971395327,-0.4577098650787121,-0.48384052874521427,0.6370632780928125,0.6135858592175875,-1.0524005004526487,-0.18939000452678795,1.4832097967972961,-1.4478718403622282,-1.175823620507187,-1.348720049032188,-0.840154268876634,0.16179821554044488,0.4215991235352048,-0.09304837280981533,1.0229402146371382,-0.6777075034485878,2.363547662269973,0.17517567510440044,-1.0142764458464555,0.769643017358293,-0.559782604130007,-0.09826200135677465,-2.19532344141647,-0.9028689610271179,-0.5641688540688159,0.0069344933942429516,1.771818416056886,-0.7042878205436063,-1.141511977610186,1.104695798124243,0.05504535578585138,-0.903445628111115,-1.0751312204194619,0.5433315622422493,-0.4816293656408814,0.4315047393038972,-0.13705156305918187,0.3792927120427439,-0.11521231565490844,-1.2704729596598132,-1.3483168965194472,-1.671616523024985,-0.1521424450157583,0.5440995446011344,-0.3718765369382678,-1.3965083041927662,2.526942966641223,2.239723475005572,-1.4859105355107327,1.9818013383576558,0.802989460671471,1.0303651079399383,2.3335949332225114,-2.2910087524718072,-1.1537515922644148,-1.3750319900867725,-1.6326060100061293,0.6645823180882093,1.4740851265119306,-0.7666063770492628,-0.5548089730982696,1.408417243841149,-0.4820681914552715,1.4701297681558765,0.27907719634906686,0.7102972508579796,-1.5217772011708037,0.010862325434475873,-0.016880069539919544,0.7993093349399368,1.015635996790291,-0.4474593226688298,0.7621086015075268,0.8856847020812305,1.2102974267836348,-1.5386477932819997,0.03834324809398329,-0.22576792002145568,1.0537342040776074,-1.3138277848469238,0.07049054804272177,0.4018169670712659,-0.2801832887276961,-0.5690121191476055,0.35598993442828114,-0.004734667011751212,0.33230256805073644,1.962345783467431,-0.2940856894796608,-0.1283389011930353,0.6168331074300294,0.7662626610879297,-1.7383020615197815,-1.2929174451479046,-2.096026957868482,0.42565821552001964,-0.5002591085547238,-0.919531712491247,-1.2964648092634155,-0.6962169438232568,0.03230857859249144,-0.529635964552918,2.0666298734833393,-0.17675252627642735,-1.0095191628490185,-0.5861082273681731,0.6937314493180352,0.9261375158887465,-1.1213803593314928,0.7213848051405207,0.3847080628723777,0.8894236002885328,1.6153335879826933,-1.0259748146661083,0.028568303126833148,0.2334580037219608,-2.1501354617090467,-0.9422006481662677,0.1444750455076689,1.0861237079967807,1.7201363417958033,2.0569115563677145,-1.381679208771417,-1.0351911302661752,1.5223278152050266,-0.23231343649555608,0.5412096716486152,-0.9721564299191358,-0.22792905301475427,-1.2773274724256982,0.8636612498925738,-1.2166122317481987,0.3507319275056264,-1.3101065387849253,1.037759945045999,1.9370197828161602,-2.516970783487686,0.10533441465097182,-1.9508940804635506,0.41530356237292915,0.17440382713054814,-2.0687853329702146,0.22323291262987086],\"type\":\"bar\"},{\"marker\":{\"color\":\"rgba(50, 171, 96, 0.6)\",\"line\":{\"color\":\"rgba(50, 171, 96, 1.0)\",\"width\":1}},\"name\":\"C\",\"orientation\":\"v\",\"text\":\"\",\"x\":[0,1,2,3,4,5,6,7,8,9,10,11,12,13,14,15,16,17,18,19,20,21,22,23,24,25,26,27,28,29,30,31,32,33,34,35,36,37,38,39,40,41,42,43,44,45,46,47,48,49,50,51,52,53,54,55,56,57,58,59,60,61,62,63,64,65,66,67,68,69,70,71,72,73,74,75,76,77,78,79,80,81,82,83,84,85,86,87,88,89,90,91,92,93,94,95,96,97,98,99,100,101,102,103,104,105,106,107,108,109,110,111,112,113,114,115,116,117,118,119,120,121,122,123,124,125,126,127,128,129,130,131,132,133,134,135,136,137,138,139,140,141,142,143,144,145,146,147,148,149,150,151,152,153,154,155,156,157,158,159,160,161,162,163,164,165,166,167,168,169,170,171,172,173,174,175,176,177,178,179,180,181,182,183,184,185,186,187,188,189,190,191,192,193,194,195,196,197,198,199],\"y\":[-1.385599006792901,-1.7197849763534634,1.5747803144791424,0.22087703915493273,1.4048072889623526,-0.17203220259412677,-0.5478221068929772,-0.2571036482455168,0.83526256911748,0.7295109671879325,-0.41892914647460383,0.5088431770608817,-0.545965724792688,-0.33100748483810266,0.5220780822294445,0.6690441411444692,0.1826733430427206,-0.877121920622054,1.4235543935292008,-0.4536467130462135,1.0891053014432,-1.2316562978392696,-0.45039797539149595,-0.0161623193476018,1.860653210388855,-1.1352232694440099,-0.35024596573976224,-0.4969335567373902,-0.9680259684720534,-2.0944192443697127,0.3281146356341243,1.1879230963728453,1.3133835432347751,-1.1331241858228536,-0.09964269383325358,-0.5670593921026623,0.8948329179593418,1.1473984299795974,1.2019927205435548,0.377575496595243,0.17651537132907977,-0.9499283412600837,0.3985873061898483,-0.2524510144042869,-0.7274605524449378,-0.6095669119492346,-0.3245202544534693,1.3148691761801465,2.3358141956226626,-2.4601472909133326,0.04654499723271527,-1.251597920803092,0.4749353557787959,-0.9206748732515008,0.5162827131466176,-0.11699896548752016,2.3022622170092335,-0.7012675941209484,-0.7283969714507058,-0.5794746944179315,1.3437176475788333,0.4982669792199907,1.6867823314492179,0.08172912875324927,-0.6006538105463247,-0.43966473077939855,-1.3508327599279302,-1.829926992179897,-1.380602559476269,0.48240676857510556,0.6149002921105139,-0.7388773475762256,-0.8841095457737844,-0.1751299312881325,1.9446554133871992,-1.3324126706554342,-0.7096742342791013,-0.7437240018932815,0.6602416333763232,1.0176727193067967,-0.5524680901737848,1.1434468620574527,-0.7734307039891627,0.8965056286011309,1.402017062407769,0.4359154222512774,-0.46816508376559096,0.756437547431865,-0.6164987704692465,1.6184273032708156,1.426303919872584,-0.04161209514211454,-1.2337965632148633,-0.4566251877811787,-0.46946123502120585,1.0609360887290722,1.2621015619841527,-2.608318114488203,-1.582361286280856,-0.19499682075667363,-1.1941369375655286,-0.16554845498734888,0.5808738594570794,-0.04912295224661493,-1.5715157223821186,-0.33908747985349375,0.8681334488613784,0.062217931439810636,1.6600980719595209,1.7562201370827581,-1.477554922665295,1.7784643352940093,-0.8766644487453403,0.4943916309762949,-1.1385149753495707,-1.464514833807233,0.7357726123676097,0.8914016028258562,-1.235418381474018,-1.4409955120477786,0.7398610992391563,-0.7271814181366715,-0.8838695184812071,-1.1023952000272523,-0.15720574930360842,1.4282908181988654,0.5904130272118258,-0.07924866949652917,0.0781557145444214,0.37445087591831755,0.4475896155422568,0.3960079883083532,1.6476893349703128,0.1888916760581893,-1.6642468434525177,0.09243685179805267,1.5836932100497305,0.5743594032105762,0.03655750426161463,-1.1562603100372923,-0.8192253115775014,1.4436569936532557,-0.5569729435030032,1.4885027933719073,-0.96239395711921,2.2128831421862385,0.8744271022669069,1.2847015649907108,0.8597138952645841,1.3882958689629683,0.6317076676641963,0.3269075353602081,1.5429071621257286,0.10130068377807228,1.1542432160598814,1.2531358402810988,0.26275494358920176,2.3852891071003444,-0.15953470284019589,0.03506333586369161,-2.0038030260199893,1.2204534600595491,1.6361359683276138,1.3906239181656421,-0.786111210670228,1.6100752036876445,0.03302995073857356,-0.8284028418337049,0.5948824971381954,-0.7608389414479757,-0.6195093333879186,-0.4068393830343923,-1.045332947511054,0.31599560693055906,0.5296629922202261,2.357279848791362,0.2951797311121355,1.32057871574306,1.5040484903494704,-0.1706849753486248,0.024985678840708552,-1.1421040299779,-1.2497631015024637,0.8571861420272623,-1.1899007184407737,-0.7591368609865685,0.24752714068101198,0.4181528153753166,-1.4676367453008217,-0.1199537913166694,0.6450542149457716,0.07065090370870525,-0.9288093514416575,-0.13150670679188203,-1.2885479320103321,0.4012364046547924,0.1977656121095965,0.06949039869264667,0.6564605469013881,-1.2731433898640176],\"type\":\"bar\"},{\"marker\":{\"color\":\"rgba(128, 0, 128, 0.6)\",\"line\":{\"color\":\"rgba(128, 0, 128, 1.0)\",\"width\":1}},\"name\":\"D\",\"orientation\":\"v\",\"text\":\"\",\"x\":[0,1,2,3,4,5,6,7,8,9,10,11,12,13,14,15,16,17,18,19,20,21,22,23,24,25,26,27,28,29,30,31,32,33,34,35,36,37,38,39,40,41,42,43,44,45,46,47,48,49,50,51,52,53,54,55,56,57,58,59,60,61,62,63,64,65,66,67,68,69,70,71,72,73,74,75,76,77,78,79,80,81,82,83,84,85,86,87,88,89,90,91,92,93,94,95,96,97,98,99,100,101,102,103,104,105,106,107,108,109,110,111,112,113,114,115,116,117,118,119,120,121,122,123,124,125,126,127,128,129,130,131,132,133,134,135,136,137,138,139,140,141,142,143,144,145,146,147,148,149,150,151,152,153,154,155,156,157,158,159,160,161,162,163,164,165,166,167,168,169,170,171,172,173,174,175,176,177,178,179,180,181,182,183,184,185,186,187,188,189,190,191,192,193,194,195,196,197,198,199],\"y\":[-1.177223911481873,-0.29167796775702576,1.015849711093481,-1.5632697221999952,-1.188862087198042,0.9118286507428603,0.12004560260873919,0.30615185664214467,0.4068585213345728,0.04788357105892197,-1.0730744655289608,1.3627181384613922,-1.429905874078411,0.005056987583926655,1.7093995505715804,-0.6547662540003706,0.975230348312139,1.2943210344228249,1.3860015048138674,0.26933783574740583,-1.6818354559214377,0.5699527191444935,-0.8085576249715936,-0.30855970637491215,1.0076428429125286,0.03258793879293975,-0.1975471792747596,0.7032660669527372,0.5550963921924533,-0.4073803611435891,-1.495035808332509,0.10189101243872417,1.326782882883116,0.8887114620766801,0.8506718335258759,0.37715963477045467,-0.09406536631961311,0.7672394649639005,0.12414422210757521,-0.07054576801104318,-0.7490828162425152,1.0054685383488922,-0.32622398977440087,-1.7293427744766128,-0.17893314214196054,-0.6445329057740592,-2.1296429270807975,-0.849517163538628,1.346157652658771,-1.760483167451817,-1.2043739899155788,0.012432714521647131,-0.5149239544670113,0.477902236056113,-0.0871448110503587,0.1111291108088189,0.7600152695109311,0.4339035143438705,-0.5098427020312968,0.05778112734588025,0.2592907264569348,-0.4210044625954527,2.088556853181352,0.9036632920259653,-0.2339117092894673,-0.3283329237014898,0.9504697375545578,0.30149118020264176,-1.2077984172690528,0.24562709321626397,-0.23104901421521776,0.12598659746766855,-0.9235899921737932,0.054668107938544215,-0.014656363906992367,0.32718710570218534,-1.1048488430705672,0.9472652945157712,0.9673888696845052,-0.6351085093895855,-0.32860774250628555,-0.3032229538724417,1.9316556397154276,0.3437554977162938,-0.44925077282208825,0.2071776605585226,-0.1384549643318921,-0.588761118349195,0.3835924129475016,1.0443082403299997,0.5646124203256961,-1.1669441299638657,1.471651864712656,0.5571573781873396,1.1806318077196802,-0.364457546178787,0.7942703611158273,-0.8766095764428595,-0.6739234543957282,0.7020962615139723,1.9466313970415234,1.4033181559817107,0.8817067103269239,-0.636142069992607,0.5096996225073084,-1.0449015238868775,-1.3516362391876686,1.072760938487999,0.04561623114174906,-2.197726838718576,0.5895180636953125,0.7666930968501002,0.573446272540947,-0.049570518667105885,-0.2450651358718775,1.4984801536243355,-0.08989543973475861,1.3256954118636977,-0.6787356172302887,-0.20663840349902926,-0.07463448099353537,0.43653254030779626,2.143472102908509,0.8336845443896479,0.4705105240557236,-2.4206897448854976,-0.19850309445539632,1.940226431162549,0.6669746583084654,-0.10340935468679296,0.8995897385012287,-0.1453724997837296,0.0013701891805882745,1.2021739796363846,0.7076958539621563,0.9301447513092584,0.489618944863697,-0.1871095092808642,-0.049199581972393394,-0.15116514687392069,-0.6669480483173831,0.04042967861504227,-0.44420919384158947,0.09154553007254254,0.21014133133904156,0.10870218345725416,2.230711246395308,0.32910321870848624,1.4584367024467773,0.24551339739498768,-1.1377108717141038,-0.25791244722761,0.5275870565785041,0.8607420449542655,-1.649911422842504,0.9773201324784074,0.06855977558782761,-0.39317571645592336,1.818787409656117,0.16000823783392648,-1.2434611238988615,0.511081134462931,1.587383860427019,0.3081870018514402,0.14567651154065986,-0.741600184777107,-0.21620988781502093,0.9098313234674152,0.9025932096658122,-0.5205059023524584,-0.07305715958546434,-0.15760821204976852,0.07037745154270833,-0.11504472818390368,0.0756585617735883,1.5536647405290667,0.23616705043470598,1.5820259289264258,3.273371398867746,-1.5075772265477676,0.26972986831556195,0.02721656626759725,0.10409688610774594,-1.023971521658838,0.22308365980777248,-1.0065375173423037,0.7714284121531372,-0.5531778649396925,1.3759535558272362,-1.0592605355498366,-1.0261547728518359,0.8240680302338254,1.347899630394395,-0.5324076283811398,-0.023191462426795078,-1.1087538888567978,0.16562106697546275,-0.7853546209802792,-1.8334126140374971,-0.1301925298518984],\"type\":\"bar\"}],                        {\"legend\":{\"bgcolor\":\"#F5F6F9\",\"font\":{\"color\":\"#4D5663\"}},\"paper_bgcolor\":\"#F5F6F9\",\"plot_bgcolor\":\"#F5F6F9\",\"template\":{\"data\":{\"barpolar\":[{\"marker\":{\"line\":{\"color\":\"#E5ECF6\",\"width\":0.5},\"pattern\":{\"fillmode\":\"overlay\",\"size\":10,\"solidity\":0.2}},\"type\":\"barpolar\"}],\"bar\":[{\"error_x\":{\"color\":\"#2a3f5f\"},\"error_y\":{\"color\":\"#2a3f5f\"},\"marker\":{\"line\":{\"color\":\"#E5ECF6\",\"width\":0.5},\"pattern\":{\"fillmode\":\"overlay\",\"size\":10,\"solidity\":0.2}},\"type\":\"bar\"}],\"carpet\":[{\"aaxis\":{\"endlinecolor\":\"#2a3f5f\",\"gridcolor\":\"white\",\"linecolor\":\"white\",\"minorgridcolor\":\"white\",\"startlinecolor\":\"#2a3f5f\"},\"baxis\":{\"endlinecolor\":\"#2a3f5f\",\"gridcolor\":\"white\",\"linecolor\":\"white\",\"minorgridcolor\":\"white\",\"startlinecolor\":\"#2a3f5f\"},\"type\":\"carpet\"}],\"choropleth\":[{\"colorbar\":{\"outlinewidth\":0,\"ticks\":\"\"},\"type\":\"choropleth\"}],\"contourcarpet\":[{\"colorbar\":{\"outlinewidth\":0,\"ticks\":\"\"},\"type\":\"contourcarpet\"}],\"contour\":[{\"colorbar\":{\"outlinewidth\":0,\"ticks\":\"\"},\"colorscale\":[[0.0,\"#0d0887\"],[0.1111111111111111,\"#46039f\"],[0.2222222222222222,\"#7201a8\"],[0.3333333333333333,\"#9c179e\"],[0.4444444444444444,\"#bd3786\"],[0.5555555555555556,\"#d8576b\"],[0.6666666666666666,\"#ed7953\"],[0.7777777777777778,\"#fb9f3a\"],[0.8888888888888888,\"#fdca26\"],[1.0,\"#f0f921\"]],\"type\":\"contour\"}],\"heatmapgl\":[{\"colorbar\":{\"outlinewidth\":0,\"ticks\":\"\"},\"colorscale\":[[0.0,\"#0d0887\"],[0.1111111111111111,\"#46039f\"],[0.2222222222222222,\"#7201a8\"],[0.3333333333333333,\"#9c179e\"],[0.4444444444444444,\"#bd3786\"],[0.5555555555555556,\"#d8576b\"],[0.6666666666666666,\"#ed7953\"],[0.7777777777777778,\"#fb9f3a\"],[0.8888888888888888,\"#fdca26\"],[1.0,\"#f0f921\"]],\"type\":\"heatmapgl\"}],\"heatmap\":[{\"colorbar\":{\"outlinewidth\":0,\"ticks\":\"\"},\"colorscale\":[[0.0,\"#0d0887\"],[0.1111111111111111,\"#46039f\"],[0.2222222222222222,\"#7201a8\"],[0.3333333333333333,\"#9c179e\"],[0.4444444444444444,\"#bd3786\"],[0.5555555555555556,\"#d8576b\"],[0.6666666666666666,\"#ed7953\"],[0.7777777777777778,\"#fb9f3a\"],[0.8888888888888888,\"#fdca26\"],[1.0,\"#f0f921\"]],\"type\":\"heatmap\"}],\"histogram2dcontour\":[{\"colorbar\":{\"outlinewidth\":0,\"ticks\":\"\"},\"colorscale\":[[0.0,\"#0d0887\"],[0.1111111111111111,\"#46039f\"],[0.2222222222222222,\"#7201a8\"],[0.3333333333333333,\"#9c179e\"],[0.4444444444444444,\"#bd3786\"],[0.5555555555555556,\"#d8576b\"],[0.6666666666666666,\"#ed7953\"],[0.7777777777777778,\"#fb9f3a\"],[0.8888888888888888,\"#fdca26\"],[1.0,\"#f0f921\"]],\"type\":\"histogram2dcontour\"}],\"histogram2d\":[{\"colorbar\":{\"outlinewidth\":0,\"ticks\":\"\"},\"colorscale\":[[0.0,\"#0d0887\"],[0.1111111111111111,\"#46039f\"],[0.2222222222222222,\"#7201a8\"],[0.3333333333333333,\"#9c179e\"],[0.4444444444444444,\"#bd3786\"],[0.5555555555555556,\"#d8576b\"],[0.6666666666666666,\"#ed7953\"],[0.7777777777777778,\"#fb9f3a\"],[0.8888888888888888,\"#fdca26\"],[1.0,\"#f0f921\"]],\"type\":\"histogram2d\"}],\"histogram\":[{\"marker\":{\"pattern\":{\"fillmode\":\"overlay\",\"size\":10,\"solidity\":0.2}},\"type\":\"histogram\"}],\"mesh3d\":[{\"colorbar\":{\"outlinewidth\":0,\"ticks\":\"\"},\"type\":\"mesh3d\"}],\"parcoords\":[{\"line\":{\"colorbar\":{\"outlinewidth\":0,\"ticks\":\"\"}},\"type\":\"parcoords\"}],\"pie\":[{\"automargin\":true,\"type\":\"pie\"}],\"scatter3d\":[{\"line\":{\"colorbar\":{\"outlinewidth\":0,\"ticks\":\"\"}},\"marker\":{\"colorbar\":{\"outlinewidth\":0,\"ticks\":\"\"}},\"type\":\"scatter3d\"}],\"scattercarpet\":[{\"marker\":{\"colorbar\":{\"outlinewidth\":0,\"ticks\":\"\"}},\"type\":\"scattercarpet\"}],\"scattergeo\":[{\"marker\":{\"colorbar\":{\"outlinewidth\":0,\"ticks\":\"\"}},\"type\":\"scattergeo\"}],\"scattergl\":[{\"marker\":{\"colorbar\":{\"outlinewidth\":0,\"ticks\":\"\"}},\"type\":\"scattergl\"}],\"scattermapbox\":[{\"marker\":{\"colorbar\":{\"outlinewidth\":0,\"ticks\":\"\"}},\"type\":\"scattermapbox\"}],\"scatterpolargl\":[{\"marker\":{\"colorbar\":{\"outlinewidth\":0,\"ticks\":\"\"}},\"type\":\"scatterpolargl\"}],\"scatterpolar\":[{\"marker\":{\"colorbar\":{\"outlinewidth\":0,\"ticks\":\"\"}},\"type\":\"scatterpolar\"}],\"scatter\":[{\"fillpattern\":{\"fillmode\":\"overlay\",\"size\":10,\"solidity\":0.2},\"type\":\"scatter\"}],\"scatterternary\":[{\"marker\":{\"colorbar\":{\"outlinewidth\":0,\"ticks\":\"\"}},\"type\":\"scatterternary\"}],\"surface\":[{\"colorbar\":{\"outlinewidth\":0,\"ticks\":\"\"},\"colorscale\":[[0.0,\"#0d0887\"],[0.1111111111111111,\"#46039f\"],[0.2222222222222222,\"#7201a8\"],[0.3333333333333333,\"#9c179e\"],[0.4444444444444444,\"#bd3786\"],[0.5555555555555556,\"#d8576b\"],[0.6666666666666666,\"#ed7953\"],[0.7777777777777778,\"#fb9f3a\"],[0.8888888888888888,\"#fdca26\"],[1.0,\"#f0f921\"]],\"type\":\"surface\"}],\"table\":[{\"cells\":{\"fill\":{\"color\":\"#EBF0F8\"},\"line\":{\"color\":\"white\"}},\"header\":{\"fill\":{\"color\":\"#C8D4E3\"},\"line\":{\"color\":\"white\"}},\"type\":\"table\"}]},\"layout\":{\"annotationdefaults\":{\"arrowcolor\":\"#2a3f5f\",\"arrowhead\":0,\"arrowwidth\":1},\"autotypenumbers\":\"strict\",\"coloraxis\":{\"colorbar\":{\"outlinewidth\":0,\"ticks\":\"\"}},\"colorscale\":{\"diverging\":[[0,\"#8e0152\"],[0.1,\"#c51b7d\"],[0.2,\"#de77ae\"],[0.3,\"#f1b6da\"],[0.4,\"#fde0ef\"],[0.5,\"#f7f7f7\"],[0.6,\"#e6f5d0\"],[0.7,\"#b8e186\"],[0.8,\"#7fbc41\"],[0.9,\"#4d9221\"],[1,\"#276419\"]],\"sequential\":[[0.0,\"#0d0887\"],[0.1111111111111111,\"#46039f\"],[0.2222222222222222,\"#7201a8\"],[0.3333333333333333,\"#9c179e\"],[0.4444444444444444,\"#bd3786\"],[0.5555555555555556,\"#d8576b\"],[0.6666666666666666,\"#ed7953\"],[0.7777777777777778,\"#fb9f3a\"],[0.8888888888888888,\"#fdca26\"],[1.0,\"#f0f921\"]],\"sequentialminus\":[[0.0,\"#0d0887\"],[0.1111111111111111,\"#46039f\"],[0.2222222222222222,\"#7201a8\"],[0.3333333333333333,\"#9c179e\"],[0.4444444444444444,\"#bd3786\"],[0.5555555555555556,\"#d8576b\"],[0.6666666666666666,\"#ed7953\"],[0.7777777777777778,\"#fb9f3a\"],[0.8888888888888888,\"#fdca26\"],[1.0,\"#f0f921\"]]},\"colorway\":[\"#636efa\",\"#EF553B\",\"#00cc96\",\"#ab63fa\",\"#FFA15A\",\"#19d3f3\",\"#FF6692\",\"#B6E880\",\"#FF97FF\",\"#FECB52\"],\"font\":{\"color\":\"#2a3f5f\"},\"geo\":{\"bgcolor\":\"white\",\"lakecolor\":\"white\",\"landcolor\":\"#E5ECF6\",\"showlakes\":true,\"showland\":true,\"subunitcolor\":\"white\"},\"hoverlabel\":{\"align\":\"left\"},\"hovermode\":\"closest\",\"mapbox\":{\"style\":\"light\"},\"paper_bgcolor\":\"white\",\"plot_bgcolor\":\"#E5ECF6\",\"polar\":{\"angularaxis\":{\"gridcolor\":\"white\",\"linecolor\":\"white\",\"ticks\":\"\"},\"bgcolor\":\"#E5ECF6\",\"radialaxis\":{\"gridcolor\":\"white\",\"linecolor\":\"white\",\"ticks\":\"\"}},\"scene\":{\"xaxis\":{\"backgroundcolor\":\"#E5ECF6\",\"gridcolor\":\"white\",\"gridwidth\":2,\"linecolor\":\"white\",\"showbackground\":true,\"ticks\":\"\",\"zerolinecolor\":\"white\"},\"yaxis\":{\"backgroundcolor\":\"#E5ECF6\",\"gridcolor\":\"white\",\"gridwidth\":2,\"linecolor\":\"white\",\"showbackground\":true,\"ticks\":\"\",\"zerolinecolor\":\"white\"},\"zaxis\":{\"backgroundcolor\":\"#E5ECF6\",\"gridcolor\":\"white\",\"gridwidth\":2,\"linecolor\":\"white\",\"showbackground\":true,\"ticks\":\"\",\"zerolinecolor\":\"white\"}},\"shapedefaults\":{\"line\":{\"color\":\"#2a3f5f\"}},\"ternary\":{\"aaxis\":{\"gridcolor\":\"white\",\"linecolor\":\"white\",\"ticks\":\"\"},\"baxis\":{\"gridcolor\":\"white\",\"linecolor\":\"white\",\"ticks\":\"\"},\"bgcolor\":\"#E5ECF6\",\"caxis\":{\"gridcolor\":\"white\",\"linecolor\":\"white\",\"ticks\":\"\"}},\"title\":{\"x\":0.05},\"xaxis\":{\"automargin\":true,\"gridcolor\":\"white\",\"linecolor\":\"white\",\"ticks\":\"\",\"title\":{\"standoff\":15},\"zerolinecolor\":\"white\",\"zerolinewidth\":2},\"yaxis\":{\"automargin\":true,\"gridcolor\":\"white\",\"linecolor\":\"white\",\"ticks\":\"\",\"title\":{\"standoff\":15},\"zerolinecolor\":\"white\",\"zerolinewidth\":2}}},\"title\":{\"font\":{\"color\":\"#4D5663\"}},\"xaxis\":{\"gridcolor\":\"#E1E5ED\",\"showgrid\":true,\"tickfont\":{\"color\":\"#4D5663\"},\"title\":{\"font\":{\"color\":\"#4D5663\"},\"text\":\"\"},\"zerolinecolor\":\"#E1E5ED\"},\"yaxis\":{\"gridcolor\":\"#E1E5ED\",\"showgrid\":true,\"tickfont\":{\"color\":\"#4D5663\"},\"title\":{\"font\":{\"color\":\"#4D5663\"},\"text\":\"\"},\"zerolinecolor\":\"#E1E5ED\"}},                        {\"showLink\": true, \"linkText\": \"Export to plot.ly\", \"plotlyServerURL\": \"https://plot.ly\", \"responsive\": true}                    ).then(function(){\n",
       "                            \n",
       "var gd = document.getElementById('37777efa-37dd-4adf-8322-aa0fadd43865');\n",
       "var x = new MutationObserver(function (mutations, observer) {{\n",
       "        var display = window.getComputedStyle(gd).display;\n",
       "        if (!display || display === 'none') {{\n",
       "            console.log([gd, 'removed!']);\n",
       "            Plotly.purge(gd);\n",
       "            observer.disconnect();\n",
       "        }}\n",
       "}});\n",
       "\n",
       "// Listen for the removal of the full notebook cells\n",
       "var notebookContainer = gd.closest('#notebook-container');\n",
       "if (notebookContainer) {{\n",
       "    x.observe(notebookContainer, {childList: true});\n",
       "}}\n",
       "\n",
       "// Listen for the clearing of the current output cell\n",
       "var outputEl = gd.closest('.output');\n",
       "if (outputEl) {{\n",
       "    x.observe(outputEl, {childList: true});\n",
       "}}\n",
       "\n",
       "                        })                };                });            </script>        </div>"
      ]
     },
     "metadata": {},
     "output_type": "display_data"
    },
    {
     "name": "stdout",
     "output_type": "stream",
     "text": [
      "None\n"
     ]
    }
   ],
   "source": [
    "# we can also do some interesting things with plotlt\n",
    "# let's see\n",
    "print(df.iplot(kind='bar'))"
   ]
  },
  {
   "cell_type": "code",
   "execution_count": 13,
   "metadata": {},
   "outputs": [
    {
     "data": {
      "application/vnd.plotly.v1+json": {
       "config": {
        "linkText": "Export to plot.ly",
        "plotlyServerURL": "https://plot.ly",
        "showLink": true
       },
       "data": [
        {
         "marker": {
          "color": "rgba(255, 153, 51, 0.6)",
          "line": {
           "color": "rgba(255, 153, 51, 1.0)",
           "width": 1
          }
         },
         "name": "None",
         "orientation": "v",
         "text": "",
         "type": "bar",
         "x": [
          "A",
          "B",
          "C",
          "D"
         ],
         "y": [
          200,
          200,
          200,
          200
         ]
        }
       ],
       "layout": {
        "legend": {
         "bgcolor": "#F5F6F9",
         "font": {
          "color": "#4D5663"
         }
        },
        "paper_bgcolor": "#F5F6F9",
        "plot_bgcolor": "#F5F6F9",
        "template": {
         "data": {
          "bar": [
           {
            "error_x": {
             "color": "#2a3f5f"
            },
            "error_y": {
             "color": "#2a3f5f"
            },
            "marker": {
             "line": {
              "color": "#E5ECF6",
              "width": 0.5
             },
             "pattern": {
              "fillmode": "overlay",
              "size": 10,
              "solidity": 0.2
             }
            },
            "type": "bar"
           }
          ],
          "barpolar": [
           {
            "marker": {
             "line": {
              "color": "#E5ECF6",
              "width": 0.5
             },
             "pattern": {
              "fillmode": "overlay",
              "size": 10,
              "solidity": 0.2
             }
            },
            "type": "barpolar"
           }
          ],
          "carpet": [
           {
            "aaxis": {
             "endlinecolor": "#2a3f5f",
             "gridcolor": "white",
             "linecolor": "white",
             "minorgridcolor": "white",
             "startlinecolor": "#2a3f5f"
            },
            "baxis": {
             "endlinecolor": "#2a3f5f",
             "gridcolor": "white",
             "linecolor": "white",
             "minorgridcolor": "white",
             "startlinecolor": "#2a3f5f"
            },
            "type": "carpet"
           }
          ],
          "choropleth": [
           {
            "colorbar": {
             "outlinewidth": 0,
             "ticks": ""
            },
            "type": "choropleth"
           }
          ],
          "contour": [
           {
            "colorbar": {
             "outlinewidth": 0,
             "ticks": ""
            },
            "colorscale": [
             [
              0,
              "#0d0887"
             ],
             [
              0.1111111111111111,
              "#46039f"
             ],
             [
              0.2222222222222222,
              "#7201a8"
             ],
             [
              0.3333333333333333,
              "#9c179e"
             ],
             [
              0.4444444444444444,
              "#bd3786"
             ],
             [
              0.5555555555555556,
              "#d8576b"
             ],
             [
              0.6666666666666666,
              "#ed7953"
             ],
             [
              0.7777777777777778,
              "#fb9f3a"
             ],
             [
              0.8888888888888888,
              "#fdca26"
             ],
             [
              1,
              "#f0f921"
             ]
            ],
            "type": "contour"
           }
          ],
          "contourcarpet": [
           {
            "colorbar": {
             "outlinewidth": 0,
             "ticks": ""
            },
            "type": "contourcarpet"
           }
          ],
          "heatmap": [
           {
            "colorbar": {
             "outlinewidth": 0,
             "ticks": ""
            },
            "colorscale": [
             [
              0,
              "#0d0887"
             ],
             [
              0.1111111111111111,
              "#46039f"
             ],
             [
              0.2222222222222222,
              "#7201a8"
             ],
             [
              0.3333333333333333,
              "#9c179e"
             ],
             [
              0.4444444444444444,
              "#bd3786"
             ],
             [
              0.5555555555555556,
              "#d8576b"
             ],
             [
              0.6666666666666666,
              "#ed7953"
             ],
             [
              0.7777777777777778,
              "#fb9f3a"
             ],
             [
              0.8888888888888888,
              "#fdca26"
             ],
             [
              1,
              "#f0f921"
             ]
            ],
            "type": "heatmap"
           }
          ],
          "heatmapgl": [
           {
            "colorbar": {
             "outlinewidth": 0,
             "ticks": ""
            },
            "colorscale": [
             [
              0,
              "#0d0887"
             ],
             [
              0.1111111111111111,
              "#46039f"
             ],
             [
              0.2222222222222222,
              "#7201a8"
             ],
             [
              0.3333333333333333,
              "#9c179e"
             ],
             [
              0.4444444444444444,
              "#bd3786"
             ],
             [
              0.5555555555555556,
              "#d8576b"
             ],
             [
              0.6666666666666666,
              "#ed7953"
             ],
             [
              0.7777777777777778,
              "#fb9f3a"
             ],
             [
              0.8888888888888888,
              "#fdca26"
             ],
             [
              1,
              "#f0f921"
             ]
            ],
            "type": "heatmapgl"
           }
          ],
          "histogram": [
           {
            "marker": {
             "pattern": {
              "fillmode": "overlay",
              "size": 10,
              "solidity": 0.2
             }
            },
            "type": "histogram"
           }
          ],
          "histogram2d": [
           {
            "colorbar": {
             "outlinewidth": 0,
             "ticks": ""
            },
            "colorscale": [
             [
              0,
              "#0d0887"
             ],
             [
              0.1111111111111111,
              "#46039f"
             ],
             [
              0.2222222222222222,
              "#7201a8"
             ],
             [
              0.3333333333333333,
              "#9c179e"
             ],
             [
              0.4444444444444444,
              "#bd3786"
             ],
             [
              0.5555555555555556,
              "#d8576b"
             ],
             [
              0.6666666666666666,
              "#ed7953"
             ],
             [
              0.7777777777777778,
              "#fb9f3a"
             ],
             [
              0.8888888888888888,
              "#fdca26"
             ],
             [
              1,
              "#f0f921"
             ]
            ],
            "type": "histogram2d"
           }
          ],
          "histogram2dcontour": [
           {
            "colorbar": {
             "outlinewidth": 0,
             "ticks": ""
            },
            "colorscale": [
             [
              0,
              "#0d0887"
             ],
             [
              0.1111111111111111,
              "#46039f"
             ],
             [
              0.2222222222222222,
              "#7201a8"
             ],
             [
              0.3333333333333333,
              "#9c179e"
             ],
             [
              0.4444444444444444,
              "#bd3786"
             ],
             [
              0.5555555555555556,
              "#d8576b"
             ],
             [
              0.6666666666666666,
              "#ed7953"
             ],
             [
              0.7777777777777778,
              "#fb9f3a"
             ],
             [
              0.8888888888888888,
              "#fdca26"
             ],
             [
              1,
              "#f0f921"
             ]
            ],
            "type": "histogram2dcontour"
           }
          ],
          "mesh3d": [
           {
            "colorbar": {
             "outlinewidth": 0,
             "ticks": ""
            },
            "type": "mesh3d"
           }
          ],
          "parcoords": [
           {
            "line": {
             "colorbar": {
              "outlinewidth": 0,
              "ticks": ""
             }
            },
            "type": "parcoords"
           }
          ],
          "pie": [
           {
            "automargin": true,
            "type": "pie"
           }
          ],
          "scatter": [
           {
            "fillpattern": {
             "fillmode": "overlay",
             "size": 10,
             "solidity": 0.2
            },
            "type": "scatter"
           }
          ],
          "scatter3d": [
           {
            "line": {
             "colorbar": {
              "outlinewidth": 0,
              "ticks": ""
             }
            },
            "marker": {
             "colorbar": {
              "outlinewidth": 0,
              "ticks": ""
             }
            },
            "type": "scatter3d"
           }
          ],
          "scattercarpet": [
           {
            "marker": {
             "colorbar": {
              "outlinewidth": 0,
              "ticks": ""
             }
            },
            "type": "scattercarpet"
           }
          ],
          "scattergeo": [
           {
            "marker": {
             "colorbar": {
              "outlinewidth": 0,
              "ticks": ""
             }
            },
            "type": "scattergeo"
           }
          ],
          "scattergl": [
           {
            "marker": {
             "colorbar": {
              "outlinewidth": 0,
              "ticks": ""
             }
            },
            "type": "scattergl"
           }
          ],
          "scattermapbox": [
           {
            "marker": {
             "colorbar": {
              "outlinewidth": 0,
              "ticks": ""
             }
            },
            "type": "scattermapbox"
           }
          ],
          "scatterpolar": [
           {
            "marker": {
             "colorbar": {
              "outlinewidth": 0,
              "ticks": ""
             }
            },
            "type": "scatterpolar"
           }
          ],
          "scatterpolargl": [
           {
            "marker": {
             "colorbar": {
              "outlinewidth": 0,
              "ticks": ""
             }
            },
            "type": "scatterpolargl"
           }
          ],
          "scatterternary": [
           {
            "marker": {
             "colorbar": {
              "outlinewidth": 0,
              "ticks": ""
             }
            },
            "type": "scatterternary"
           }
          ],
          "surface": [
           {
            "colorbar": {
             "outlinewidth": 0,
             "ticks": ""
            },
            "colorscale": [
             [
              0,
              "#0d0887"
             ],
             [
              0.1111111111111111,
              "#46039f"
             ],
             [
              0.2222222222222222,
              "#7201a8"
             ],
             [
              0.3333333333333333,
              "#9c179e"
             ],
             [
              0.4444444444444444,
              "#bd3786"
             ],
             [
              0.5555555555555556,
              "#d8576b"
             ],
             [
              0.6666666666666666,
              "#ed7953"
             ],
             [
              0.7777777777777778,
              "#fb9f3a"
             ],
             [
              0.8888888888888888,
              "#fdca26"
             ],
             [
              1,
              "#f0f921"
             ]
            ],
            "type": "surface"
           }
          ],
          "table": [
           {
            "cells": {
             "fill": {
              "color": "#EBF0F8"
             },
             "line": {
              "color": "white"
             }
            },
            "header": {
             "fill": {
              "color": "#C8D4E3"
             },
             "line": {
              "color": "white"
             }
            },
            "type": "table"
           }
          ]
         },
         "layout": {
          "annotationdefaults": {
           "arrowcolor": "#2a3f5f",
           "arrowhead": 0,
           "arrowwidth": 1
          },
          "autotypenumbers": "strict",
          "coloraxis": {
           "colorbar": {
            "outlinewidth": 0,
            "ticks": ""
           }
          },
          "colorscale": {
           "diverging": [
            [
             0,
             "#8e0152"
            ],
            [
             0.1,
             "#c51b7d"
            ],
            [
             0.2,
             "#de77ae"
            ],
            [
             0.3,
             "#f1b6da"
            ],
            [
             0.4,
             "#fde0ef"
            ],
            [
             0.5,
             "#f7f7f7"
            ],
            [
             0.6,
             "#e6f5d0"
            ],
            [
             0.7,
             "#b8e186"
            ],
            [
             0.8,
             "#7fbc41"
            ],
            [
             0.9,
             "#4d9221"
            ],
            [
             1,
             "#276419"
            ]
           ],
           "sequential": [
            [
             0,
             "#0d0887"
            ],
            [
             0.1111111111111111,
             "#46039f"
            ],
            [
             0.2222222222222222,
             "#7201a8"
            ],
            [
             0.3333333333333333,
             "#9c179e"
            ],
            [
             0.4444444444444444,
             "#bd3786"
            ],
            [
             0.5555555555555556,
             "#d8576b"
            ],
            [
             0.6666666666666666,
             "#ed7953"
            ],
            [
             0.7777777777777778,
             "#fb9f3a"
            ],
            [
             0.8888888888888888,
             "#fdca26"
            ],
            [
             1,
             "#f0f921"
            ]
           ],
           "sequentialminus": [
            [
             0,
             "#0d0887"
            ],
            [
             0.1111111111111111,
             "#46039f"
            ],
            [
             0.2222222222222222,
             "#7201a8"
            ],
            [
             0.3333333333333333,
             "#9c179e"
            ],
            [
             0.4444444444444444,
             "#bd3786"
            ],
            [
             0.5555555555555556,
             "#d8576b"
            ],
            [
             0.6666666666666666,
             "#ed7953"
            ],
            [
             0.7777777777777778,
             "#fb9f3a"
            ],
            [
             0.8888888888888888,
             "#fdca26"
            ],
            [
             1,
             "#f0f921"
            ]
           ]
          },
          "colorway": [
           "#636efa",
           "#EF553B",
           "#00cc96",
           "#ab63fa",
           "#FFA15A",
           "#19d3f3",
           "#FF6692",
           "#B6E880",
           "#FF97FF",
           "#FECB52"
          ],
          "font": {
           "color": "#2a3f5f"
          },
          "geo": {
           "bgcolor": "white",
           "lakecolor": "white",
           "landcolor": "#E5ECF6",
           "showlakes": true,
           "showland": true,
           "subunitcolor": "white"
          },
          "hoverlabel": {
           "align": "left"
          },
          "hovermode": "closest",
          "mapbox": {
           "style": "light"
          },
          "paper_bgcolor": "white",
          "plot_bgcolor": "#E5ECF6",
          "polar": {
           "angularaxis": {
            "gridcolor": "white",
            "linecolor": "white",
            "ticks": ""
           },
           "bgcolor": "#E5ECF6",
           "radialaxis": {
            "gridcolor": "white",
            "linecolor": "white",
            "ticks": ""
           }
          },
          "scene": {
           "xaxis": {
            "backgroundcolor": "#E5ECF6",
            "gridcolor": "white",
            "gridwidth": 2,
            "linecolor": "white",
            "showbackground": true,
            "ticks": "",
            "zerolinecolor": "white"
           },
           "yaxis": {
            "backgroundcolor": "#E5ECF6",
            "gridcolor": "white",
            "gridwidth": 2,
            "linecolor": "white",
            "showbackground": true,
            "ticks": "",
            "zerolinecolor": "white"
           },
           "zaxis": {
            "backgroundcolor": "#E5ECF6",
            "gridcolor": "white",
            "gridwidth": 2,
            "linecolor": "white",
            "showbackground": true,
            "ticks": "",
            "zerolinecolor": "white"
           }
          },
          "shapedefaults": {
           "line": {
            "color": "#2a3f5f"
           }
          },
          "ternary": {
           "aaxis": {
            "gridcolor": "white",
            "linecolor": "white",
            "ticks": ""
           },
           "baxis": {
            "gridcolor": "white",
            "linecolor": "white",
            "ticks": ""
           },
           "bgcolor": "#E5ECF6",
           "caxis": {
            "gridcolor": "white",
            "linecolor": "white",
            "ticks": ""
           }
          },
          "title": {
           "x": 0.05
          },
          "xaxis": {
           "automargin": true,
           "gridcolor": "white",
           "linecolor": "white",
           "ticks": "",
           "title": {
            "standoff": 15
           },
           "zerolinecolor": "white",
           "zerolinewidth": 2
          },
          "yaxis": {
           "automargin": true,
           "gridcolor": "white",
           "linecolor": "white",
           "ticks": "",
           "title": {
            "standoff": 15
           },
           "zerolinecolor": "white",
           "zerolinewidth": 2
          }
         }
        },
        "title": {
         "font": {
          "color": "#4D5663"
         }
        },
        "xaxis": {
         "gridcolor": "#E1E5ED",
         "showgrid": true,
         "tickfont": {
          "color": "#4D5663"
         },
         "title": {
          "font": {
           "color": "#4D5663"
          },
          "text": ""
         },
         "zerolinecolor": "#E1E5ED"
        },
        "yaxis": {
         "gridcolor": "#E1E5ED",
         "showgrid": true,
         "tickfont": {
          "color": "#4D5663"
         },
         "title": {
          "font": {
           "color": "#4D5663"
          },
          "text": ""
         },
         "zerolinecolor": "#E1E5ED"
        }
       }
      },
      "text/html": [
       "<div>                            <div id=\"394aa275-b6c1-480d-8d53-8cb0efc90e5c\" class=\"plotly-graph-div\" style=\"height:525px; width:100%;\"></div>            <script type=\"text/javascript\">                require([\"plotly\"], function(Plotly) {                    window.PLOTLYENV=window.PLOTLYENV || {};\n",
       "                    window.PLOTLYENV.BASE_URL='https://plot.ly';                                    if (document.getElementById(\"394aa275-b6c1-480d-8d53-8cb0efc90e5c\")) {                    Plotly.newPlot(                        \"394aa275-b6c1-480d-8d53-8cb0efc90e5c\",                        [{\"marker\":{\"color\":\"rgba(255, 153, 51, 0.6)\",\"line\":{\"color\":\"rgba(255, 153, 51, 1.0)\",\"width\":1}},\"name\":\"None\",\"orientation\":\"v\",\"text\":\"\",\"x\":[\"A\",\"B\",\"C\",\"D\"],\"y\":[200,200,200,200],\"type\":\"bar\"}],                        {\"legend\":{\"bgcolor\":\"#F5F6F9\",\"font\":{\"color\":\"#4D5663\"}},\"paper_bgcolor\":\"#F5F6F9\",\"plot_bgcolor\":\"#F5F6F9\",\"template\":{\"data\":{\"barpolar\":[{\"marker\":{\"line\":{\"color\":\"#E5ECF6\",\"width\":0.5},\"pattern\":{\"fillmode\":\"overlay\",\"size\":10,\"solidity\":0.2}},\"type\":\"barpolar\"}],\"bar\":[{\"error_x\":{\"color\":\"#2a3f5f\"},\"error_y\":{\"color\":\"#2a3f5f\"},\"marker\":{\"line\":{\"color\":\"#E5ECF6\",\"width\":0.5},\"pattern\":{\"fillmode\":\"overlay\",\"size\":10,\"solidity\":0.2}},\"type\":\"bar\"}],\"carpet\":[{\"aaxis\":{\"endlinecolor\":\"#2a3f5f\",\"gridcolor\":\"white\",\"linecolor\":\"white\",\"minorgridcolor\":\"white\",\"startlinecolor\":\"#2a3f5f\"},\"baxis\":{\"endlinecolor\":\"#2a3f5f\",\"gridcolor\":\"white\",\"linecolor\":\"white\",\"minorgridcolor\":\"white\",\"startlinecolor\":\"#2a3f5f\"},\"type\":\"carpet\"}],\"choropleth\":[{\"colorbar\":{\"outlinewidth\":0,\"ticks\":\"\"},\"type\":\"choropleth\"}],\"contourcarpet\":[{\"colorbar\":{\"outlinewidth\":0,\"ticks\":\"\"},\"type\":\"contourcarpet\"}],\"contour\":[{\"colorbar\":{\"outlinewidth\":0,\"ticks\":\"\"},\"colorscale\":[[0.0,\"#0d0887\"],[0.1111111111111111,\"#46039f\"],[0.2222222222222222,\"#7201a8\"],[0.3333333333333333,\"#9c179e\"],[0.4444444444444444,\"#bd3786\"],[0.5555555555555556,\"#d8576b\"],[0.6666666666666666,\"#ed7953\"],[0.7777777777777778,\"#fb9f3a\"],[0.8888888888888888,\"#fdca26\"],[1.0,\"#f0f921\"]],\"type\":\"contour\"}],\"heatmapgl\":[{\"colorbar\":{\"outlinewidth\":0,\"ticks\":\"\"},\"colorscale\":[[0.0,\"#0d0887\"],[0.1111111111111111,\"#46039f\"],[0.2222222222222222,\"#7201a8\"],[0.3333333333333333,\"#9c179e\"],[0.4444444444444444,\"#bd3786\"],[0.5555555555555556,\"#d8576b\"],[0.6666666666666666,\"#ed7953\"],[0.7777777777777778,\"#fb9f3a\"],[0.8888888888888888,\"#fdca26\"],[1.0,\"#f0f921\"]],\"type\":\"heatmapgl\"}],\"heatmap\":[{\"colorbar\":{\"outlinewidth\":0,\"ticks\":\"\"},\"colorscale\":[[0.0,\"#0d0887\"],[0.1111111111111111,\"#46039f\"],[0.2222222222222222,\"#7201a8\"],[0.3333333333333333,\"#9c179e\"],[0.4444444444444444,\"#bd3786\"],[0.5555555555555556,\"#d8576b\"],[0.6666666666666666,\"#ed7953\"],[0.7777777777777778,\"#fb9f3a\"],[0.8888888888888888,\"#fdca26\"],[1.0,\"#f0f921\"]],\"type\":\"heatmap\"}],\"histogram2dcontour\":[{\"colorbar\":{\"outlinewidth\":0,\"ticks\":\"\"},\"colorscale\":[[0.0,\"#0d0887\"],[0.1111111111111111,\"#46039f\"],[0.2222222222222222,\"#7201a8\"],[0.3333333333333333,\"#9c179e\"],[0.4444444444444444,\"#bd3786\"],[0.5555555555555556,\"#d8576b\"],[0.6666666666666666,\"#ed7953\"],[0.7777777777777778,\"#fb9f3a\"],[0.8888888888888888,\"#fdca26\"],[1.0,\"#f0f921\"]],\"type\":\"histogram2dcontour\"}],\"histogram2d\":[{\"colorbar\":{\"outlinewidth\":0,\"ticks\":\"\"},\"colorscale\":[[0.0,\"#0d0887\"],[0.1111111111111111,\"#46039f\"],[0.2222222222222222,\"#7201a8\"],[0.3333333333333333,\"#9c179e\"],[0.4444444444444444,\"#bd3786\"],[0.5555555555555556,\"#d8576b\"],[0.6666666666666666,\"#ed7953\"],[0.7777777777777778,\"#fb9f3a\"],[0.8888888888888888,\"#fdca26\"],[1.0,\"#f0f921\"]],\"type\":\"histogram2d\"}],\"histogram\":[{\"marker\":{\"pattern\":{\"fillmode\":\"overlay\",\"size\":10,\"solidity\":0.2}},\"type\":\"histogram\"}],\"mesh3d\":[{\"colorbar\":{\"outlinewidth\":0,\"ticks\":\"\"},\"type\":\"mesh3d\"}],\"parcoords\":[{\"line\":{\"colorbar\":{\"outlinewidth\":0,\"ticks\":\"\"}},\"type\":\"parcoords\"}],\"pie\":[{\"automargin\":true,\"type\":\"pie\"}],\"scatter3d\":[{\"line\":{\"colorbar\":{\"outlinewidth\":0,\"ticks\":\"\"}},\"marker\":{\"colorbar\":{\"outlinewidth\":0,\"ticks\":\"\"}},\"type\":\"scatter3d\"}],\"scattercarpet\":[{\"marker\":{\"colorbar\":{\"outlinewidth\":0,\"ticks\":\"\"}},\"type\":\"scattercarpet\"}],\"scattergeo\":[{\"marker\":{\"colorbar\":{\"outlinewidth\":0,\"ticks\":\"\"}},\"type\":\"scattergeo\"}],\"scattergl\":[{\"marker\":{\"colorbar\":{\"outlinewidth\":0,\"ticks\":\"\"}},\"type\":\"scattergl\"}],\"scattermapbox\":[{\"marker\":{\"colorbar\":{\"outlinewidth\":0,\"ticks\":\"\"}},\"type\":\"scattermapbox\"}],\"scatterpolargl\":[{\"marker\":{\"colorbar\":{\"outlinewidth\":0,\"ticks\":\"\"}},\"type\":\"scatterpolargl\"}],\"scatterpolar\":[{\"marker\":{\"colorbar\":{\"outlinewidth\":0,\"ticks\":\"\"}},\"type\":\"scatterpolar\"}],\"scatter\":[{\"fillpattern\":{\"fillmode\":\"overlay\",\"size\":10,\"solidity\":0.2},\"type\":\"scatter\"}],\"scatterternary\":[{\"marker\":{\"colorbar\":{\"outlinewidth\":0,\"ticks\":\"\"}},\"type\":\"scatterternary\"}],\"surface\":[{\"colorbar\":{\"outlinewidth\":0,\"ticks\":\"\"},\"colorscale\":[[0.0,\"#0d0887\"],[0.1111111111111111,\"#46039f\"],[0.2222222222222222,\"#7201a8\"],[0.3333333333333333,\"#9c179e\"],[0.4444444444444444,\"#bd3786\"],[0.5555555555555556,\"#d8576b\"],[0.6666666666666666,\"#ed7953\"],[0.7777777777777778,\"#fb9f3a\"],[0.8888888888888888,\"#fdca26\"],[1.0,\"#f0f921\"]],\"type\":\"surface\"}],\"table\":[{\"cells\":{\"fill\":{\"color\":\"#EBF0F8\"},\"line\":{\"color\":\"white\"}},\"header\":{\"fill\":{\"color\":\"#C8D4E3\"},\"line\":{\"color\":\"white\"}},\"type\":\"table\"}]},\"layout\":{\"annotationdefaults\":{\"arrowcolor\":\"#2a3f5f\",\"arrowhead\":0,\"arrowwidth\":1},\"autotypenumbers\":\"strict\",\"coloraxis\":{\"colorbar\":{\"outlinewidth\":0,\"ticks\":\"\"}},\"colorscale\":{\"diverging\":[[0,\"#8e0152\"],[0.1,\"#c51b7d\"],[0.2,\"#de77ae\"],[0.3,\"#f1b6da\"],[0.4,\"#fde0ef\"],[0.5,\"#f7f7f7\"],[0.6,\"#e6f5d0\"],[0.7,\"#b8e186\"],[0.8,\"#7fbc41\"],[0.9,\"#4d9221\"],[1,\"#276419\"]],\"sequential\":[[0.0,\"#0d0887\"],[0.1111111111111111,\"#46039f\"],[0.2222222222222222,\"#7201a8\"],[0.3333333333333333,\"#9c179e\"],[0.4444444444444444,\"#bd3786\"],[0.5555555555555556,\"#d8576b\"],[0.6666666666666666,\"#ed7953\"],[0.7777777777777778,\"#fb9f3a\"],[0.8888888888888888,\"#fdca26\"],[1.0,\"#f0f921\"]],\"sequentialminus\":[[0.0,\"#0d0887\"],[0.1111111111111111,\"#46039f\"],[0.2222222222222222,\"#7201a8\"],[0.3333333333333333,\"#9c179e\"],[0.4444444444444444,\"#bd3786\"],[0.5555555555555556,\"#d8576b\"],[0.6666666666666666,\"#ed7953\"],[0.7777777777777778,\"#fb9f3a\"],[0.8888888888888888,\"#fdca26\"],[1.0,\"#f0f921\"]]},\"colorway\":[\"#636efa\",\"#EF553B\",\"#00cc96\",\"#ab63fa\",\"#FFA15A\",\"#19d3f3\",\"#FF6692\",\"#B6E880\",\"#FF97FF\",\"#FECB52\"],\"font\":{\"color\":\"#2a3f5f\"},\"geo\":{\"bgcolor\":\"white\",\"lakecolor\":\"white\",\"landcolor\":\"#E5ECF6\",\"showlakes\":true,\"showland\":true,\"subunitcolor\":\"white\"},\"hoverlabel\":{\"align\":\"left\"},\"hovermode\":\"closest\",\"mapbox\":{\"style\":\"light\"},\"paper_bgcolor\":\"white\",\"plot_bgcolor\":\"#E5ECF6\",\"polar\":{\"angularaxis\":{\"gridcolor\":\"white\",\"linecolor\":\"white\",\"ticks\":\"\"},\"bgcolor\":\"#E5ECF6\",\"radialaxis\":{\"gridcolor\":\"white\",\"linecolor\":\"white\",\"ticks\":\"\"}},\"scene\":{\"xaxis\":{\"backgroundcolor\":\"#E5ECF6\",\"gridcolor\":\"white\",\"gridwidth\":2,\"linecolor\":\"white\",\"showbackground\":true,\"ticks\":\"\",\"zerolinecolor\":\"white\"},\"yaxis\":{\"backgroundcolor\":\"#E5ECF6\",\"gridcolor\":\"white\",\"gridwidth\":2,\"linecolor\":\"white\",\"showbackground\":true,\"ticks\":\"\",\"zerolinecolor\":\"white\"},\"zaxis\":{\"backgroundcolor\":\"#E5ECF6\",\"gridcolor\":\"white\",\"gridwidth\":2,\"linecolor\":\"white\",\"showbackground\":true,\"ticks\":\"\",\"zerolinecolor\":\"white\"}},\"shapedefaults\":{\"line\":{\"color\":\"#2a3f5f\"}},\"ternary\":{\"aaxis\":{\"gridcolor\":\"white\",\"linecolor\":\"white\",\"ticks\":\"\"},\"baxis\":{\"gridcolor\":\"white\",\"linecolor\":\"white\",\"ticks\":\"\"},\"bgcolor\":\"#E5ECF6\",\"caxis\":{\"gridcolor\":\"white\",\"linecolor\":\"white\",\"ticks\":\"\"}},\"title\":{\"x\":0.05},\"xaxis\":{\"automargin\":true,\"gridcolor\":\"white\",\"linecolor\":\"white\",\"ticks\":\"\",\"title\":{\"standoff\":15},\"zerolinecolor\":\"white\",\"zerolinewidth\":2},\"yaxis\":{\"automargin\":true,\"gridcolor\":\"white\",\"linecolor\":\"white\",\"ticks\":\"\",\"title\":{\"standoff\":15},\"zerolinecolor\":\"white\",\"zerolinewidth\":2}}},\"title\":{\"font\":{\"color\":\"#4D5663\"}},\"xaxis\":{\"gridcolor\":\"#E1E5ED\",\"showgrid\":true,\"tickfont\":{\"color\":\"#4D5663\"},\"title\":{\"font\":{\"color\":\"#4D5663\"},\"text\":\"\"},\"zerolinecolor\":\"#E1E5ED\"},\"yaxis\":{\"gridcolor\":\"#E1E5ED\",\"showgrid\":true,\"tickfont\":{\"color\":\"#4D5663\"},\"title\":{\"font\":{\"color\":\"#4D5663\"},\"text\":\"\"},\"zerolinecolor\":\"#E1E5ED\"}},                        {\"showLink\": true, \"linkText\": \"Export to plot.ly\", \"plotlyServerURL\": \"https://plot.ly\", \"responsive\": true}                    ).then(function(){\n",
       "                            \n",
       "var gd = document.getElementById('394aa275-b6c1-480d-8d53-8cb0efc90e5c');\n",
       "var x = new MutationObserver(function (mutations, observer) {{\n",
       "        var display = window.getComputedStyle(gd).display;\n",
       "        if (!display || display === 'none') {{\n",
       "            console.log([gd, 'removed!']);\n",
       "            Plotly.purge(gd);\n",
       "            observer.disconnect();\n",
       "        }}\n",
       "}});\n",
       "\n",
       "// Listen for the removal of the full notebook cells\n",
       "var notebookContainer = gd.closest('#notebook-container');\n",
       "if (notebookContainer) {{\n",
       "    x.observe(notebookContainer, {childList: true});\n",
       "}}\n",
       "\n",
       "// Listen for the clearing of the current output cell\n",
       "var outputEl = gd.closest('.output');\n",
       "if (outputEl) {{\n",
       "    x.observe(outputEl, {childList: true});\n",
       "}}\n",
       "\n",
       "                        })                };                });            </script>        </div>"
      ]
     },
     "metadata": {},
     "output_type": "display_data"
    },
    {
     "name": "stdout",
     "output_type": "stream",
     "text": [
      "None\n"
     ]
    }
   ],
   "source": [
    "# count each column in df dataframe and plot bar graphs\n",
    "print(df.count().iplot(kind='bar'))"
   ]
  },
  {
   "cell_type": "code",
   "execution_count": 14,
   "metadata": {},
   "outputs": [
    {
     "data": {
      "application/vnd.plotly.v1+json": {
       "config": {
        "linkText": "Export to plot.ly",
        "plotlyServerURL": "https://plot.ly",
        "showLink": true
       },
       "data": [
        {
         "marker": {
          "color": "rgba(255, 153, 51, 0.6)",
          "line": {
           "color": "rgba(255, 153, 51, 1.0)",
           "width": 1
          }
         },
         "name": "None",
         "orientation": "v",
         "text": "",
         "type": "bar",
         "x": [
          "A",
          "B",
          "C",
          "D"
         ],
         "y": [
          2.2749996522565934,
          -18.357129856480828,
          14.567237902054039,
          23.2467617870567
         ]
        }
       ],
       "layout": {
        "legend": {
         "bgcolor": "#F5F6F9",
         "font": {
          "color": "#4D5663"
         }
        },
        "paper_bgcolor": "#F5F6F9",
        "plot_bgcolor": "#F5F6F9",
        "template": {
         "data": {
          "bar": [
           {
            "error_x": {
             "color": "#2a3f5f"
            },
            "error_y": {
             "color": "#2a3f5f"
            },
            "marker": {
             "line": {
              "color": "#E5ECF6",
              "width": 0.5
             },
             "pattern": {
              "fillmode": "overlay",
              "size": 10,
              "solidity": 0.2
             }
            },
            "type": "bar"
           }
          ],
          "barpolar": [
           {
            "marker": {
             "line": {
              "color": "#E5ECF6",
              "width": 0.5
             },
             "pattern": {
              "fillmode": "overlay",
              "size": 10,
              "solidity": 0.2
             }
            },
            "type": "barpolar"
           }
          ],
          "carpet": [
           {
            "aaxis": {
             "endlinecolor": "#2a3f5f",
             "gridcolor": "white",
             "linecolor": "white",
             "minorgridcolor": "white",
             "startlinecolor": "#2a3f5f"
            },
            "baxis": {
             "endlinecolor": "#2a3f5f",
             "gridcolor": "white",
             "linecolor": "white",
             "minorgridcolor": "white",
             "startlinecolor": "#2a3f5f"
            },
            "type": "carpet"
           }
          ],
          "choropleth": [
           {
            "colorbar": {
             "outlinewidth": 0,
             "ticks": ""
            },
            "type": "choropleth"
           }
          ],
          "contour": [
           {
            "colorbar": {
             "outlinewidth": 0,
             "ticks": ""
            },
            "colorscale": [
             [
              0,
              "#0d0887"
             ],
             [
              0.1111111111111111,
              "#46039f"
             ],
             [
              0.2222222222222222,
              "#7201a8"
             ],
             [
              0.3333333333333333,
              "#9c179e"
             ],
             [
              0.4444444444444444,
              "#bd3786"
             ],
             [
              0.5555555555555556,
              "#d8576b"
             ],
             [
              0.6666666666666666,
              "#ed7953"
             ],
             [
              0.7777777777777778,
              "#fb9f3a"
             ],
             [
              0.8888888888888888,
              "#fdca26"
             ],
             [
              1,
              "#f0f921"
             ]
            ],
            "type": "contour"
           }
          ],
          "contourcarpet": [
           {
            "colorbar": {
             "outlinewidth": 0,
             "ticks": ""
            },
            "type": "contourcarpet"
           }
          ],
          "heatmap": [
           {
            "colorbar": {
             "outlinewidth": 0,
             "ticks": ""
            },
            "colorscale": [
             [
              0,
              "#0d0887"
             ],
             [
              0.1111111111111111,
              "#46039f"
             ],
             [
              0.2222222222222222,
              "#7201a8"
             ],
             [
              0.3333333333333333,
              "#9c179e"
             ],
             [
              0.4444444444444444,
              "#bd3786"
             ],
             [
              0.5555555555555556,
              "#d8576b"
             ],
             [
              0.6666666666666666,
              "#ed7953"
             ],
             [
              0.7777777777777778,
              "#fb9f3a"
             ],
             [
              0.8888888888888888,
              "#fdca26"
             ],
             [
              1,
              "#f0f921"
             ]
            ],
            "type": "heatmap"
           }
          ],
          "heatmapgl": [
           {
            "colorbar": {
             "outlinewidth": 0,
             "ticks": ""
            },
            "colorscale": [
             [
              0,
              "#0d0887"
             ],
             [
              0.1111111111111111,
              "#46039f"
             ],
             [
              0.2222222222222222,
              "#7201a8"
             ],
             [
              0.3333333333333333,
              "#9c179e"
             ],
             [
              0.4444444444444444,
              "#bd3786"
             ],
             [
              0.5555555555555556,
              "#d8576b"
             ],
             [
              0.6666666666666666,
              "#ed7953"
             ],
             [
              0.7777777777777778,
              "#fb9f3a"
             ],
             [
              0.8888888888888888,
              "#fdca26"
             ],
             [
              1,
              "#f0f921"
             ]
            ],
            "type": "heatmapgl"
           }
          ],
          "histogram": [
           {
            "marker": {
             "pattern": {
              "fillmode": "overlay",
              "size": 10,
              "solidity": 0.2
             }
            },
            "type": "histogram"
           }
          ],
          "histogram2d": [
           {
            "colorbar": {
             "outlinewidth": 0,
             "ticks": ""
            },
            "colorscale": [
             [
              0,
              "#0d0887"
             ],
             [
              0.1111111111111111,
              "#46039f"
             ],
             [
              0.2222222222222222,
              "#7201a8"
             ],
             [
              0.3333333333333333,
              "#9c179e"
             ],
             [
              0.4444444444444444,
              "#bd3786"
             ],
             [
              0.5555555555555556,
              "#d8576b"
             ],
             [
              0.6666666666666666,
              "#ed7953"
             ],
             [
              0.7777777777777778,
              "#fb9f3a"
             ],
             [
              0.8888888888888888,
              "#fdca26"
             ],
             [
              1,
              "#f0f921"
             ]
            ],
            "type": "histogram2d"
           }
          ],
          "histogram2dcontour": [
           {
            "colorbar": {
             "outlinewidth": 0,
             "ticks": ""
            },
            "colorscale": [
             [
              0,
              "#0d0887"
             ],
             [
              0.1111111111111111,
              "#46039f"
             ],
             [
              0.2222222222222222,
              "#7201a8"
             ],
             [
              0.3333333333333333,
              "#9c179e"
             ],
             [
              0.4444444444444444,
              "#bd3786"
             ],
             [
              0.5555555555555556,
              "#d8576b"
             ],
             [
              0.6666666666666666,
              "#ed7953"
             ],
             [
              0.7777777777777778,
              "#fb9f3a"
             ],
             [
              0.8888888888888888,
              "#fdca26"
             ],
             [
              1,
              "#f0f921"
             ]
            ],
            "type": "histogram2dcontour"
           }
          ],
          "mesh3d": [
           {
            "colorbar": {
             "outlinewidth": 0,
             "ticks": ""
            },
            "type": "mesh3d"
           }
          ],
          "parcoords": [
           {
            "line": {
             "colorbar": {
              "outlinewidth": 0,
              "ticks": ""
             }
            },
            "type": "parcoords"
           }
          ],
          "pie": [
           {
            "automargin": true,
            "type": "pie"
           }
          ],
          "scatter": [
           {
            "fillpattern": {
             "fillmode": "overlay",
             "size": 10,
             "solidity": 0.2
            },
            "type": "scatter"
           }
          ],
          "scatter3d": [
           {
            "line": {
             "colorbar": {
              "outlinewidth": 0,
              "ticks": ""
             }
            },
            "marker": {
             "colorbar": {
              "outlinewidth": 0,
              "ticks": ""
             }
            },
            "type": "scatter3d"
           }
          ],
          "scattercarpet": [
           {
            "marker": {
             "colorbar": {
              "outlinewidth": 0,
              "ticks": ""
             }
            },
            "type": "scattercarpet"
           }
          ],
          "scattergeo": [
           {
            "marker": {
             "colorbar": {
              "outlinewidth": 0,
              "ticks": ""
             }
            },
            "type": "scattergeo"
           }
          ],
          "scattergl": [
           {
            "marker": {
             "colorbar": {
              "outlinewidth": 0,
              "ticks": ""
             }
            },
            "type": "scattergl"
           }
          ],
          "scattermapbox": [
           {
            "marker": {
             "colorbar": {
              "outlinewidth": 0,
              "ticks": ""
             }
            },
            "type": "scattermapbox"
           }
          ],
          "scatterpolar": [
           {
            "marker": {
             "colorbar": {
              "outlinewidth": 0,
              "ticks": ""
             }
            },
            "type": "scatterpolar"
           }
          ],
          "scatterpolargl": [
           {
            "marker": {
             "colorbar": {
              "outlinewidth": 0,
              "ticks": ""
             }
            },
            "type": "scatterpolargl"
           }
          ],
          "scatterternary": [
           {
            "marker": {
             "colorbar": {
              "outlinewidth": 0,
              "ticks": ""
             }
            },
            "type": "scatterternary"
           }
          ],
          "surface": [
           {
            "colorbar": {
             "outlinewidth": 0,
             "ticks": ""
            },
            "colorscale": [
             [
              0,
              "#0d0887"
             ],
             [
              0.1111111111111111,
              "#46039f"
             ],
             [
              0.2222222222222222,
              "#7201a8"
             ],
             [
              0.3333333333333333,
              "#9c179e"
             ],
             [
              0.4444444444444444,
              "#bd3786"
             ],
             [
              0.5555555555555556,
              "#d8576b"
             ],
             [
              0.6666666666666666,
              "#ed7953"
             ],
             [
              0.7777777777777778,
              "#fb9f3a"
             ],
             [
              0.8888888888888888,
              "#fdca26"
             ],
             [
              1,
              "#f0f921"
             ]
            ],
            "type": "surface"
           }
          ],
          "table": [
           {
            "cells": {
             "fill": {
              "color": "#EBF0F8"
             },
             "line": {
              "color": "white"
             }
            },
            "header": {
             "fill": {
              "color": "#C8D4E3"
             },
             "line": {
              "color": "white"
             }
            },
            "type": "table"
           }
          ]
         },
         "layout": {
          "annotationdefaults": {
           "arrowcolor": "#2a3f5f",
           "arrowhead": 0,
           "arrowwidth": 1
          },
          "autotypenumbers": "strict",
          "coloraxis": {
           "colorbar": {
            "outlinewidth": 0,
            "ticks": ""
           }
          },
          "colorscale": {
           "diverging": [
            [
             0,
             "#8e0152"
            ],
            [
             0.1,
             "#c51b7d"
            ],
            [
             0.2,
             "#de77ae"
            ],
            [
             0.3,
             "#f1b6da"
            ],
            [
             0.4,
             "#fde0ef"
            ],
            [
             0.5,
             "#f7f7f7"
            ],
            [
             0.6,
             "#e6f5d0"
            ],
            [
             0.7,
             "#b8e186"
            ],
            [
             0.8,
             "#7fbc41"
            ],
            [
             0.9,
             "#4d9221"
            ],
            [
             1,
             "#276419"
            ]
           ],
           "sequential": [
            [
             0,
             "#0d0887"
            ],
            [
             0.1111111111111111,
             "#46039f"
            ],
            [
             0.2222222222222222,
             "#7201a8"
            ],
            [
             0.3333333333333333,
             "#9c179e"
            ],
            [
             0.4444444444444444,
             "#bd3786"
            ],
            [
             0.5555555555555556,
             "#d8576b"
            ],
            [
             0.6666666666666666,
             "#ed7953"
            ],
            [
             0.7777777777777778,
             "#fb9f3a"
            ],
            [
             0.8888888888888888,
             "#fdca26"
            ],
            [
             1,
             "#f0f921"
            ]
           ],
           "sequentialminus": [
            [
             0,
             "#0d0887"
            ],
            [
             0.1111111111111111,
             "#46039f"
            ],
            [
             0.2222222222222222,
             "#7201a8"
            ],
            [
             0.3333333333333333,
             "#9c179e"
            ],
            [
             0.4444444444444444,
             "#bd3786"
            ],
            [
             0.5555555555555556,
             "#d8576b"
            ],
            [
             0.6666666666666666,
             "#ed7953"
            ],
            [
             0.7777777777777778,
             "#fb9f3a"
            ],
            [
             0.8888888888888888,
             "#fdca26"
            ],
            [
             1,
             "#f0f921"
            ]
           ]
          },
          "colorway": [
           "#636efa",
           "#EF553B",
           "#00cc96",
           "#ab63fa",
           "#FFA15A",
           "#19d3f3",
           "#FF6692",
           "#B6E880",
           "#FF97FF",
           "#FECB52"
          ],
          "font": {
           "color": "#2a3f5f"
          },
          "geo": {
           "bgcolor": "white",
           "lakecolor": "white",
           "landcolor": "#E5ECF6",
           "showlakes": true,
           "showland": true,
           "subunitcolor": "white"
          },
          "hoverlabel": {
           "align": "left"
          },
          "hovermode": "closest",
          "mapbox": {
           "style": "light"
          },
          "paper_bgcolor": "white",
          "plot_bgcolor": "#E5ECF6",
          "polar": {
           "angularaxis": {
            "gridcolor": "white",
            "linecolor": "white",
            "ticks": ""
           },
           "bgcolor": "#E5ECF6",
           "radialaxis": {
            "gridcolor": "white",
            "linecolor": "white",
            "ticks": ""
           }
          },
          "scene": {
           "xaxis": {
            "backgroundcolor": "#E5ECF6",
            "gridcolor": "white",
            "gridwidth": 2,
            "linecolor": "white",
            "showbackground": true,
            "ticks": "",
            "zerolinecolor": "white"
           },
           "yaxis": {
            "backgroundcolor": "#E5ECF6",
            "gridcolor": "white",
            "gridwidth": 2,
            "linecolor": "white",
            "showbackground": true,
            "ticks": "",
            "zerolinecolor": "white"
           },
           "zaxis": {
            "backgroundcolor": "#E5ECF6",
            "gridcolor": "white",
            "gridwidth": 2,
            "linecolor": "white",
            "showbackground": true,
            "ticks": "",
            "zerolinecolor": "white"
           }
          },
          "shapedefaults": {
           "line": {
            "color": "#2a3f5f"
           }
          },
          "ternary": {
           "aaxis": {
            "gridcolor": "white",
            "linecolor": "white",
            "ticks": ""
           },
           "baxis": {
            "gridcolor": "white",
            "linecolor": "white",
            "ticks": ""
           },
           "bgcolor": "#E5ECF6",
           "caxis": {
            "gridcolor": "white",
            "linecolor": "white",
            "ticks": ""
           }
          },
          "title": {
           "x": 0.05
          },
          "xaxis": {
           "automargin": true,
           "gridcolor": "white",
           "linecolor": "white",
           "ticks": "",
           "title": {
            "standoff": 15
           },
           "zerolinecolor": "white",
           "zerolinewidth": 2
          },
          "yaxis": {
           "automargin": true,
           "gridcolor": "white",
           "linecolor": "white",
           "ticks": "",
           "title": {
            "standoff": 15
           },
           "zerolinecolor": "white",
           "zerolinewidth": 2
          }
         }
        },
        "title": {
         "font": {
          "color": "#4D5663"
         }
        },
        "xaxis": {
         "gridcolor": "#E1E5ED",
         "showgrid": true,
         "tickfont": {
          "color": "#4D5663"
         },
         "title": {
          "font": {
           "color": "#4D5663"
          },
          "text": ""
         },
         "zerolinecolor": "#E1E5ED"
        },
        "yaxis": {
         "gridcolor": "#E1E5ED",
         "showgrid": true,
         "tickfont": {
          "color": "#4D5663"
         },
         "title": {
          "font": {
           "color": "#4D5663"
          },
          "text": ""
         },
         "zerolinecolor": "#E1E5ED"
        }
       }
      },
      "text/html": [
       "<div>                            <div id=\"cca84f9b-6401-4e9e-b320-14d988a27a05\" class=\"plotly-graph-div\" style=\"height:525px; width:100%;\"></div>            <script type=\"text/javascript\">                require([\"plotly\"], function(Plotly) {                    window.PLOTLYENV=window.PLOTLYENV || {};\n",
       "                    window.PLOTLYENV.BASE_URL='https://plot.ly';                                    if (document.getElementById(\"cca84f9b-6401-4e9e-b320-14d988a27a05\")) {                    Plotly.newPlot(                        \"cca84f9b-6401-4e9e-b320-14d988a27a05\",                        [{\"marker\":{\"color\":\"rgba(255, 153, 51, 0.6)\",\"line\":{\"color\":\"rgba(255, 153, 51, 1.0)\",\"width\":1}},\"name\":\"None\",\"orientation\":\"v\",\"text\":\"\",\"x\":[\"A\",\"B\",\"C\",\"D\"],\"y\":[2.2749996522565934,-18.357129856480828,14.567237902054039,23.2467617870567],\"type\":\"bar\"}],                        {\"legend\":{\"bgcolor\":\"#F5F6F9\",\"font\":{\"color\":\"#4D5663\"}},\"paper_bgcolor\":\"#F5F6F9\",\"plot_bgcolor\":\"#F5F6F9\",\"template\":{\"data\":{\"barpolar\":[{\"marker\":{\"line\":{\"color\":\"#E5ECF6\",\"width\":0.5},\"pattern\":{\"fillmode\":\"overlay\",\"size\":10,\"solidity\":0.2}},\"type\":\"barpolar\"}],\"bar\":[{\"error_x\":{\"color\":\"#2a3f5f\"},\"error_y\":{\"color\":\"#2a3f5f\"},\"marker\":{\"line\":{\"color\":\"#E5ECF6\",\"width\":0.5},\"pattern\":{\"fillmode\":\"overlay\",\"size\":10,\"solidity\":0.2}},\"type\":\"bar\"}],\"carpet\":[{\"aaxis\":{\"endlinecolor\":\"#2a3f5f\",\"gridcolor\":\"white\",\"linecolor\":\"white\",\"minorgridcolor\":\"white\",\"startlinecolor\":\"#2a3f5f\"},\"baxis\":{\"endlinecolor\":\"#2a3f5f\",\"gridcolor\":\"white\",\"linecolor\":\"white\",\"minorgridcolor\":\"white\",\"startlinecolor\":\"#2a3f5f\"},\"type\":\"carpet\"}],\"choropleth\":[{\"colorbar\":{\"outlinewidth\":0,\"ticks\":\"\"},\"type\":\"choropleth\"}],\"contourcarpet\":[{\"colorbar\":{\"outlinewidth\":0,\"ticks\":\"\"},\"type\":\"contourcarpet\"}],\"contour\":[{\"colorbar\":{\"outlinewidth\":0,\"ticks\":\"\"},\"colorscale\":[[0.0,\"#0d0887\"],[0.1111111111111111,\"#46039f\"],[0.2222222222222222,\"#7201a8\"],[0.3333333333333333,\"#9c179e\"],[0.4444444444444444,\"#bd3786\"],[0.5555555555555556,\"#d8576b\"],[0.6666666666666666,\"#ed7953\"],[0.7777777777777778,\"#fb9f3a\"],[0.8888888888888888,\"#fdca26\"],[1.0,\"#f0f921\"]],\"type\":\"contour\"}],\"heatmapgl\":[{\"colorbar\":{\"outlinewidth\":0,\"ticks\":\"\"},\"colorscale\":[[0.0,\"#0d0887\"],[0.1111111111111111,\"#46039f\"],[0.2222222222222222,\"#7201a8\"],[0.3333333333333333,\"#9c179e\"],[0.4444444444444444,\"#bd3786\"],[0.5555555555555556,\"#d8576b\"],[0.6666666666666666,\"#ed7953\"],[0.7777777777777778,\"#fb9f3a\"],[0.8888888888888888,\"#fdca26\"],[1.0,\"#f0f921\"]],\"type\":\"heatmapgl\"}],\"heatmap\":[{\"colorbar\":{\"outlinewidth\":0,\"ticks\":\"\"},\"colorscale\":[[0.0,\"#0d0887\"],[0.1111111111111111,\"#46039f\"],[0.2222222222222222,\"#7201a8\"],[0.3333333333333333,\"#9c179e\"],[0.4444444444444444,\"#bd3786\"],[0.5555555555555556,\"#d8576b\"],[0.6666666666666666,\"#ed7953\"],[0.7777777777777778,\"#fb9f3a\"],[0.8888888888888888,\"#fdca26\"],[1.0,\"#f0f921\"]],\"type\":\"heatmap\"}],\"histogram2dcontour\":[{\"colorbar\":{\"outlinewidth\":0,\"ticks\":\"\"},\"colorscale\":[[0.0,\"#0d0887\"],[0.1111111111111111,\"#46039f\"],[0.2222222222222222,\"#7201a8\"],[0.3333333333333333,\"#9c179e\"],[0.4444444444444444,\"#bd3786\"],[0.5555555555555556,\"#d8576b\"],[0.6666666666666666,\"#ed7953\"],[0.7777777777777778,\"#fb9f3a\"],[0.8888888888888888,\"#fdca26\"],[1.0,\"#f0f921\"]],\"type\":\"histogram2dcontour\"}],\"histogram2d\":[{\"colorbar\":{\"outlinewidth\":0,\"ticks\":\"\"},\"colorscale\":[[0.0,\"#0d0887\"],[0.1111111111111111,\"#46039f\"],[0.2222222222222222,\"#7201a8\"],[0.3333333333333333,\"#9c179e\"],[0.4444444444444444,\"#bd3786\"],[0.5555555555555556,\"#d8576b\"],[0.6666666666666666,\"#ed7953\"],[0.7777777777777778,\"#fb9f3a\"],[0.8888888888888888,\"#fdca26\"],[1.0,\"#f0f921\"]],\"type\":\"histogram2d\"}],\"histogram\":[{\"marker\":{\"pattern\":{\"fillmode\":\"overlay\",\"size\":10,\"solidity\":0.2}},\"type\":\"histogram\"}],\"mesh3d\":[{\"colorbar\":{\"outlinewidth\":0,\"ticks\":\"\"},\"type\":\"mesh3d\"}],\"parcoords\":[{\"line\":{\"colorbar\":{\"outlinewidth\":0,\"ticks\":\"\"}},\"type\":\"parcoords\"}],\"pie\":[{\"automargin\":true,\"type\":\"pie\"}],\"scatter3d\":[{\"line\":{\"colorbar\":{\"outlinewidth\":0,\"ticks\":\"\"}},\"marker\":{\"colorbar\":{\"outlinewidth\":0,\"ticks\":\"\"}},\"type\":\"scatter3d\"}],\"scattercarpet\":[{\"marker\":{\"colorbar\":{\"outlinewidth\":0,\"ticks\":\"\"}},\"type\":\"scattercarpet\"}],\"scattergeo\":[{\"marker\":{\"colorbar\":{\"outlinewidth\":0,\"ticks\":\"\"}},\"type\":\"scattergeo\"}],\"scattergl\":[{\"marker\":{\"colorbar\":{\"outlinewidth\":0,\"ticks\":\"\"}},\"type\":\"scattergl\"}],\"scattermapbox\":[{\"marker\":{\"colorbar\":{\"outlinewidth\":0,\"ticks\":\"\"}},\"type\":\"scattermapbox\"}],\"scatterpolargl\":[{\"marker\":{\"colorbar\":{\"outlinewidth\":0,\"ticks\":\"\"}},\"type\":\"scatterpolargl\"}],\"scatterpolar\":[{\"marker\":{\"colorbar\":{\"outlinewidth\":0,\"ticks\":\"\"}},\"type\":\"scatterpolar\"}],\"scatter\":[{\"fillpattern\":{\"fillmode\":\"overlay\",\"size\":10,\"solidity\":0.2},\"type\":\"scatter\"}],\"scatterternary\":[{\"marker\":{\"colorbar\":{\"outlinewidth\":0,\"ticks\":\"\"}},\"type\":\"scatterternary\"}],\"surface\":[{\"colorbar\":{\"outlinewidth\":0,\"ticks\":\"\"},\"colorscale\":[[0.0,\"#0d0887\"],[0.1111111111111111,\"#46039f\"],[0.2222222222222222,\"#7201a8\"],[0.3333333333333333,\"#9c179e\"],[0.4444444444444444,\"#bd3786\"],[0.5555555555555556,\"#d8576b\"],[0.6666666666666666,\"#ed7953\"],[0.7777777777777778,\"#fb9f3a\"],[0.8888888888888888,\"#fdca26\"],[1.0,\"#f0f921\"]],\"type\":\"surface\"}],\"table\":[{\"cells\":{\"fill\":{\"color\":\"#EBF0F8\"},\"line\":{\"color\":\"white\"}},\"header\":{\"fill\":{\"color\":\"#C8D4E3\"},\"line\":{\"color\":\"white\"}},\"type\":\"table\"}]},\"layout\":{\"annotationdefaults\":{\"arrowcolor\":\"#2a3f5f\",\"arrowhead\":0,\"arrowwidth\":1},\"autotypenumbers\":\"strict\",\"coloraxis\":{\"colorbar\":{\"outlinewidth\":0,\"ticks\":\"\"}},\"colorscale\":{\"diverging\":[[0,\"#8e0152\"],[0.1,\"#c51b7d\"],[0.2,\"#de77ae\"],[0.3,\"#f1b6da\"],[0.4,\"#fde0ef\"],[0.5,\"#f7f7f7\"],[0.6,\"#e6f5d0\"],[0.7,\"#b8e186\"],[0.8,\"#7fbc41\"],[0.9,\"#4d9221\"],[1,\"#276419\"]],\"sequential\":[[0.0,\"#0d0887\"],[0.1111111111111111,\"#46039f\"],[0.2222222222222222,\"#7201a8\"],[0.3333333333333333,\"#9c179e\"],[0.4444444444444444,\"#bd3786\"],[0.5555555555555556,\"#d8576b\"],[0.6666666666666666,\"#ed7953\"],[0.7777777777777778,\"#fb9f3a\"],[0.8888888888888888,\"#fdca26\"],[1.0,\"#f0f921\"]],\"sequentialminus\":[[0.0,\"#0d0887\"],[0.1111111111111111,\"#46039f\"],[0.2222222222222222,\"#7201a8\"],[0.3333333333333333,\"#9c179e\"],[0.4444444444444444,\"#bd3786\"],[0.5555555555555556,\"#d8576b\"],[0.6666666666666666,\"#ed7953\"],[0.7777777777777778,\"#fb9f3a\"],[0.8888888888888888,\"#fdca26\"],[1.0,\"#f0f921\"]]},\"colorway\":[\"#636efa\",\"#EF553B\",\"#00cc96\",\"#ab63fa\",\"#FFA15A\",\"#19d3f3\",\"#FF6692\",\"#B6E880\",\"#FF97FF\",\"#FECB52\"],\"font\":{\"color\":\"#2a3f5f\"},\"geo\":{\"bgcolor\":\"white\",\"lakecolor\":\"white\",\"landcolor\":\"#E5ECF6\",\"showlakes\":true,\"showland\":true,\"subunitcolor\":\"white\"},\"hoverlabel\":{\"align\":\"left\"},\"hovermode\":\"closest\",\"mapbox\":{\"style\":\"light\"},\"paper_bgcolor\":\"white\",\"plot_bgcolor\":\"#E5ECF6\",\"polar\":{\"angularaxis\":{\"gridcolor\":\"white\",\"linecolor\":\"white\",\"ticks\":\"\"},\"bgcolor\":\"#E5ECF6\",\"radialaxis\":{\"gridcolor\":\"white\",\"linecolor\":\"white\",\"ticks\":\"\"}},\"scene\":{\"xaxis\":{\"backgroundcolor\":\"#E5ECF6\",\"gridcolor\":\"white\",\"gridwidth\":2,\"linecolor\":\"white\",\"showbackground\":true,\"ticks\":\"\",\"zerolinecolor\":\"white\"},\"yaxis\":{\"backgroundcolor\":\"#E5ECF6\",\"gridcolor\":\"white\",\"gridwidth\":2,\"linecolor\":\"white\",\"showbackground\":true,\"ticks\":\"\",\"zerolinecolor\":\"white\"},\"zaxis\":{\"backgroundcolor\":\"#E5ECF6\",\"gridcolor\":\"white\",\"gridwidth\":2,\"linecolor\":\"white\",\"showbackground\":true,\"ticks\":\"\",\"zerolinecolor\":\"white\"}},\"shapedefaults\":{\"line\":{\"color\":\"#2a3f5f\"}},\"ternary\":{\"aaxis\":{\"gridcolor\":\"white\",\"linecolor\":\"white\",\"ticks\":\"\"},\"baxis\":{\"gridcolor\":\"white\",\"linecolor\":\"white\",\"ticks\":\"\"},\"bgcolor\":\"#E5ECF6\",\"caxis\":{\"gridcolor\":\"white\",\"linecolor\":\"white\",\"ticks\":\"\"}},\"title\":{\"x\":0.05},\"xaxis\":{\"automargin\":true,\"gridcolor\":\"white\",\"linecolor\":\"white\",\"ticks\":\"\",\"title\":{\"standoff\":15},\"zerolinecolor\":\"white\",\"zerolinewidth\":2},\"yaxis\":{\"automargin\":true,\"gridcolor\":\"white\",\"linecolor\":\"white\",\"ticks\":\"\",\"title\":{\"standoff\":15},\"zerolinecolor\":\"white\",\"zerolinewidth\":2}}},\"title\":{\"font\":{\"color\":\"#4D5663\"}},\"xaxis\":{\"gridcolor\":\"#E1E5ED\",\"showgrid\":true,\"tickfont\":{\"color\":\"#4D5663\"},\"title\":{\"font\":{\"color\":\"#4D5663\"},\"text\":\"\"},\"zerolinecolor\":\"#E1E5ED\"},\"yaxis\":{\"gridcolor\":\"#E1E5ED\",\"showgrid\":true,\"tickfont\":{\"color\":\"#4D5663\"},\"title\":{\"font\":{\"color\":\"#4D5663\"},\"text\":\"\"},\"zerolinecolor\":\"#E1E5ED\"}},                        {\"showLink\": true, \"linkText\": \"Export to plot.ly\", \"plotlyServerURL\": \"https://plot.ly\", \"responsive\": true}                    ).then(function(){\n",
       "                            \n",
       "var gd = document.getElementById('cca84f9b-6401-4e9e-b320-14d988a27a05');\n",
       "var x = new MutationObserver(function (mutations, observer) {{\n",
       "        var display = window.getComputedStyle(gd).display;\n",
       "        if (!display || display === 'none') {{\n",
       "            console.log([gd, 'removed!']);\n",
       "            Plotly.purge(gd);\n",
       "            observer.disconnect();\n",
       "        }}\n",
       "}});\n",
       "\n",
       "// Listen for the removal of the full notebook cells\n",
       "var notebookContainer = gd.closest('#notebook-container');\n",
       "if (notebookContainer) {{\n",
       "    x.observe(notebookContainer, {childList: true});\n",
       "}}\n",
       "\n",
       "// Listen for the clearing of the current output cell\n",
       "var outputEl = gd.closest('.output');\n",
       "if (outputEl) {{\n",
       "    x.observe(outputEl, {childList: true});\n",
       "}}\n",
       "\n",
       "                        })                };                });            </script>        </div>"
      ]
     },
     "metadata": {},
     "output_type": "display_data"
    },
    {
     "name": "stdout",
     "output_type": "stream",
     "text": [
      "None\n"
     ]
    }
   ],
   "source": [
    "# Now take sum of each column in df and plot bar graph\n",
    "print(df.sum().iplot(kind='bar'))"
   ]
  },
  {
   "cell_type": "code",
   "execution_count": 15,
   "metadata": {},
   "outputs": [
    {
     "data": {
      "application/vnd.plotly.v1+json": {
       "config": {
        "linkText": "Export to plot.ly",
        "plotlyServerURL": "https://plot.ly",
        "showLink": true
       },
       "data": [
        {
         "boxpoints": false,
         "line": {
          "width": 1.3
         },
         "marker": {
          "color": "rgba(255, 153, 51, 1.0)"
         },
         "name": "A",
         "orientation": "v",
         "type": "box",
         "y": [
          -1.487606705268289,
          -1.3270966904104238,
          0.3604379283601886,
          -1.0755063445021371,
          0.3811337534773147,
          2.0641007329383485,
          -0.48203477848504866,
          -0.38832558174328935,
          1.7478672968117868,
          1.1158691106492418,
          0.2896935352623028,
          -0.3812217927690513,
          0.42123870859889845,
          1.8812870946781968,
          2.557404536964999,
          -0.7058476334484991,
          0.28569424203115323,
          0.24695939642219372,
          -0.6385715504663668,
          0.9026702831781179,
          2.298729565138558,
          0.11640944430966896,
          0.42767735280331637,
          0.33544870905998614,
          0.16811832161387877,
          -0.21121411331425205,
          0.5874308678366539,
          -1.1216357817595521,
          0.11255262014025855,
          1.1853522193052266,
          0.45797947718207993,
          0.06034425911595249,
          0.9711702720221174,
          -0.7824061933747677,
          0.6276524906327481,
          -1.0548261198142173,
          -1.0832514348502216,
          -0.36189322746518,
          0.643434169576394,
          0.4488595629144203,
          0.8061508090023473,
          -1.222979893598644,
          -0.6920946263116126,
          -1.2937441326912544,
          0.23876442953656232,
          -0.817684328749027,
          0.08369524837438268,
          0.13287413960379232,
          -0.2499943512909606,
          0.6636954943467446,
          -0.5280332499790815,
          -0.5398566815380538,
          -0.31918190307525746,
          2.254926925098105,
          -0.7632175571836918,
          -1.1048423421686462,
          1.1028289510008162,
          -1.2097544316232944,
          -1.1939998494256865,
          1.2253107286051743,
          0.031116092717685246,
          -0.7487543140223533,
          1.4274039877008702,
          -2.4152283125719656,
          0.8018374859983983,
          -0.652637162274179,
          -1.109773355409906,
          0.9421069223405514,
          0.9272547022786595,
          -2.0967011767857966,
          -0.9386686213866825,
          1.2712810659600504,
          0.6688989976815631,
          -1.538865098729885,
          0.7131115264494275,
          -0.6467904553989622,
          1.2822063664196233,
          -0.30066345972728864,
          0.5960304893962182,
          0.6082958314371802,
          -1.3267205129120214,
          0.8887344180865127,
          0.9487101456582948,
          1.208515049669603,
          -0.49564632045569046,
          -2.171379335945453,
          -0.5722068920663259,
          0.821728319864167,
          -0.4532924125120422,
          0.5176236846070436,
          1.074779233055591,
          -0.04980169881531574,
          -1.1325388535132843,
          -0.8340003699765887,
          0.4681608886840201,
          0.340074509311427,
          0.9532273672009145,
          -0.551300031728624,
          1.5019798360618883,
          2.0813328323766336,
          -1.8888588017436174,
          0.5527504926273384,
          -1.832394693910066,
          -0.1891939936596043,
          -0.1795525048751539,
          -0.41353587573206846,
          0.6119219622848441,
          0.3669411247956404,
          -1.656394643836909,
          0.6825827271960428,
          0.40978281154268725,
          -1.027348486216504,
          -0.8913232958653983,
          -2.176619637487184,
          1.6404497173622186,
          -1.1539800497331998,
          -2.6344933558902484,
          1.3269304883606206,
          -0.4686755309635699,
          0.15375555596251558,
          -0.003231518781125517,
          -2.5756810430242285,
          0.23191043239930428,
          -0.20325011510086552,
          -0.1262256677960052,
          -0.4306067892790383,
          2.223999933559132,
          -0.28481970484576097,
          0.041636347874112516,
          0.8363856899449069,
          -0.7190061049681735,
          -1.660586642755478,
          -0.8424461151634391,
          -1.3410654086417828,
          0.5173398539462267,
          -1.3712460727772473,
          -0.4467550562662734,
          0.9157433279770691,
          1.754416969372457,
          0.6747547564025815,
          0.6483259564379472,
          0.9589442722537845,
          -1.1404949913493048,
          -0.9607080724043362,
          -0.4758449423533752,
          -0.2995599393280748,
          -0.24888778174690462,
          0.15542907347123394,
          -1.2558919529016797,
          1.4884181758140078,
          -0.17569860858299177,
          1.225904563594473,
          1.1324490392969089,
          0.3835923409382287,
          1.9124939131151277,
          -0.47992141278970996,
          -0.17605511359007,
          0.2200553792256361,
          -0.45229522971198904,
          -1.8838923550993498,
          0.13315305673333974,
          -0.8266448326458588,
          1.2294707915972516,
          0.6778486167632689,
          -0.15856560330555253,
          1.0126681253705112,
          0.6806465776765602,
          -2.341158623582788,
          0.2755666236492162,
          -0.7172182469495813,
          0.7930105775209679,
          0.39568977405882394,
          1.528726412996672,
          0.24679536520261422,
          -0.46161608591743614,
          -0.41260788090652584,
          -0.9197333364273914,
          1.2672340572160545,
          -0.7680399463059111,
          0.20875650311460647,
          -0.8688520154587448,
          1.1871175195914496,
          0.4318475877039881,
          0.22291570222242593,
          1.912613011968483,
          -1.1895491534313078,
          -0.8601534520780754,
          -0.6884358071535207,
          1.6067100199942381,
          0.8869574010673043,
          2.2738448377759197,
          0.053238690773936066,
          -0.10165799243942343,
          -1.5322439587081917,
          1.4952390580885375,
          -0.3456678618511981,
          -0.09156509867611441,
          -1.7259238493479152,
          0.42627109535565494,
          0.13155584440661
         ]
        },
        {
         "boxpoints": false,
         "line": {
          "width": 1.3
         },
         "marker": {
          "color": "rgba(55, 128, 191, 1.0)"
         },
         "name": "B",
         "orientation": "v",
         "type": "box",
         "y": [
          1.4018747311698432,
          0.12305038788003114,
          -2.0621604828169295,
          0.6310971788406574,
          0.017478005933253684,
          0.6964587848925091,
          0.6692142639756167,
          1.030659741046712,
          0.9596758077035872,
          -0.9164290079884374,
          -0.6446851483938009,
          -0.6116667373572493,
          1.7260305025206517,
          -0.2759506642155176,
          -0.3188067675342285,
          0.9549478759656118,
          0.4002068068348017,
          0.3618786329647358,
          -2.232852501779732,
          0.2634002979548043,
          -0.23434598180308425,
          0.44521962838237017,
          -1.8927127354319755,
          -1.3297540297781392,
          -0.07764797635478797,
          1.702839909849972,
          -1.0460649622342382,
          -0.23597238404268153,
          -1.3174204369042208,
          0.5712385004026206,
          -0.9397730609282275,
          1.244707443354532,
          -0.5536989612126252,
          0.6402166179463994,
          0.22426803921109695,
          -0.21264092848600558,
          -0.10993557287781922,
          -0.9819230417166805,
          0.6079360463127345,
          -0.6057679799690354,
          -1.1119745914173358,
          -1.560293807992332,
          -1.1987638460095538,
          0.4858277742131986,
          2.350569384291055,
          0.6151746971191706,
          0.3847879036524305,
          -0.40025360862732406,
          -0.2827464088764763,
          0.7732213376383255,
          -0.42574944193944025,
          -0.0977566524060275,
          -1.0460108459597866,
          -0.41906615486287035,
          -0.828081174470112,
          -1.5777766072475146,
          -1.751258971395327,
          -0.4577098650787121,
          -0.48384052874521427,
          0.6370632780928125,
          0.6135858592175875,
          -1.0524005004526487,
          -0.18939000452678795,
          1.4832097967972961,
          -1.4478718403622282,
          -1.175823620507187,
          -1.348720049032188,
          -0.840154268876634,
          0.16179821554044488,
          0.4215991235352048,
          -0.09304837280981533,
          1.0229402146371382,
          -0.6777075034485878,
          2.363547662269973,
          0.17517567510440044,
          -1.0142764458464555,
          0.769643017358293,
          -0.559782604130007,
          -0.09826200135677465,
          -2.19532344141647,
          -0.9028689610271179,
          -0.5641688540688159,
          0.0069344933942429516,
          1.771818416056886,
          -0.7042878205436063,
          -1.141511977610186,
          1.104695798124243,
          0.05504535578585138,
          -0.903445628111115,
          -1.0751312204194619,
          0.5433315622422493,
          -0.4816293656408814,
          0.4315047393038972,
          -0.13705156305918187,
          0.3792927120427439,
          -0.11521231565490844,
          -1.2704729596598132,
          -1.3483168965194472,
          -1.671616523024985,
          -0.1521424450157583,
          0.5440995446011344,
          -0.3718765369382678,
          -1.3965083041927662,
          2.526942966641223,
          2.239723475005572,
          -1.4859105355107327,
          1.9818013383576558,
          0.802989460671471,
          1.0303651079399383,
          2.3335949332225114,
          -2.2910087524718072,
          -1.1537515922644148,
          -1.3750319900867725,
          -1.6326060100061293,
          0.6645823180882093,
          1.4740851265119306,
          -0.7666063770492628,
          -0.5548089730982696,
          1.408417243841149,
          -0.4820681914552715,
          1.4701297681558765,
          0.27907719634906686,
          0.7102972508579796,
          -1.5217772011708037,
          0.010862325434475873,
          -0.016880069539919544,
          0.7993093349399368,
          1.015635996790291,
          -0.4474593226688298,
          0.7621086015075268,
          0.8856847020812305,
          1.2102974267836348,
          -1.5386477932819997,
          0.03834324809398329,
          -0.22576792002145568,
          1.0537342040776074,
          -1.3138277848469238,
          0.07049054804272177,
          0.4018169670712659,
          -0.2801832887276961,
          -0.5690121191476055,
          0.35598993442828114,
          -0.004734667011751212,
          0.33230256805073644,
          1.962345783467431,
          -0.2940856894796608,
          -0.1283389011930353,
          0.6168331074300294,
          0.7662626610879297,
          -1.7383020615197815,
          -1.2929174451479046,
          -2.096026957868482,
          0.42565821552001964,
          -0.5002591085547238,
          -0.919531712491247,
          -1.2964648092634155,
          -0.6962169438232568,
          0.03230857859249144,
          -0.529635964552918,
          2.0666298734833393,
          -0.17675252627642735,
          -1.0095191628490185,
          -0.5861082273681731,
          0.6937314493180352,
          0.9261375158887465,
          -1.1213803593314928,
          0.7213848051405207,
          0.3847080628723777,
          0.8894236002885328,
          1.6153335879826933,
          -1.0259748146661083,
          0.028568303126833148,
          0.2334580037219608,
          -2.1501354617090467,
          -0.9422006481662677,
          0.1444750455076689,
          1.0861237079967807,
          1.7201363417958033,
          2.0569115563677145,
          -1.381679208771417,
          -1.0351911302661752,
          1.5223278152050266,
          -0.23231343649555608,
          0.5412096716486152,
          -0.9721564299191358,
          -0.22792905301475427,
          -1.2773274724256982,
          0.8636612498925738,
          -1.2166122317481987,
          0.3507319275056264,
          -1.3101065387849253,
          1.037759945045999,
          1.9370197828161602,
          -2.516970783487686,
          0.10533441465097182,
          -1.9508940804635506,
          0.41530356237292915,
          0.17440382713054814,
          -2.0687853329702146,
          0.22323291262987086
         ]
        },
        {
         "boxpoints": false,
         "line": {
          "width": 1.3
         },
         "marker": {
          "color": "rgba(50, 171, 96, 1.0)"
         },
         "name": "C",
         "orientation": "v",
         "type": "box",
         "y": [
          -1.385599006792901,
          -1.7197849763534634,
          1.5747803144791424,
          0.22087703915493273,
          1.4048072889623526,
          -0.17203220259412677,
          -0.5478221068929772,
          -0.2571036482455168,
          0.83526256911748,
          0.7295109671879325,
          -0.41892914647460383,
          0.5088431770608817,
          -0.545965724792688,
          -0.33100748483810266,
          0.5220780822294445,
          0.6690441411444692,
          0.1826733430427206,
          -0.877121920622054,
          1.4235543935292008,
          -0.4536467130462135,
          1.0891053014432,
          -1.2316562978392696,
          -0.45039797539149595,
          -0.0161623193476018,
          1.860653210388855,
          -1.1352232694440099,
          -0.35024596573976224,
          -0.4969335567373902,
          -0.9680259684720534,
          -2.0944192443697127,
          0.3281146356341243,
          1.1879230963728453,
          1.3133835432347751,
          -1.1331241858228536,
          -0.09964269383325358,
          -0.5670593921026623,
          0.8948329179593418,
          1.1473984299795974,
          1.2019927205435548,
          0.377575496595243,
          0.17651537132907977,
          -0.9499283412600837,
          0.3985873061898483,
          -0.2524510144042869,
          -0.7274605524449378,
          -0.6095669119492346,
          -0.3245202544534693,
          1.3148691761801465,
          2.3358141956226626,
          -2.4601472909133326,
          0.04654499723271527,
          -1.251597920803092,
          0.4749353557787959,
          -0.9206748732515008,
          0.5162827131466176,
          -0.11699896548752016,
          2.3022622170092335,
          -0.7012675941209484,
          -0.7283969714507058,
          -0.5794746944179315,
          1.3437176475788333,
          0.4982669792199907,
          1.6867823314492179,
          0.08172912875324927,
          -0.6006538105463247,
          -0.43966473077939855,
          -1.3508327599279302,
          -1.829926992179897,
          -1.380602559476269,
          0.48240676857510556,
          0.6149002921105139,
          -0.7388773475762256,
          -0.8841095457737844,
          -0.1751299312881325,
          1.9446554133871992,
          -1.3324126706554342,
          -0.7096742342791013,
          -0.7437240018932815,
          0.6602416333763232,
          1.0176727193067967,
          -0.5524680901737848,
          1.1434468620574527,
          -0.7734307039891627,
          0.8965056286011309,
          1.402017062407769,
          0.4359154222512774,
          -0.46816508376559096,
          0.756437547431865,
          -0.6164987704692465,
          1.6184273032708156,
          1.426303919872584,
          -0.04161209514211454,
          -1.2337965632148633,
          -0.4566251877811787,
          -0.46946123502120585,
          1.0609360887290722,
          1.2621015619841527,
          -2.608318114488203,
          -1.582361286280856,
          -0.19499682075667363,
          -1.1941369375655286,
          -0.16554845498734888,
          0.5808738594570794,
          -0.04912295224661493,
          -1.5715157223821186,
          -0.33908747985349375,
          0.8681334488613784,
          0.062217931439810636,
          1.6600980719595209,
          1.7562201370827581,
          -1.477554922665295,
          1.7784643352940093,
          -0.8766644487453403,
          0.4943916309762949,
          -1.1385149753495707,
          -1.464514833807233,
          0.7357726123676097,
          0.8914016028258562,
          -1.235418381474018,
          -1.4409955120477786,
          0.7398610992391563,
          -0.7271814181366715,
          -0.8838695184812071,
          -1.1023952000272523,
          -0.15720574930360842,
          1.4282908181988654,
          0.5904130272118258,
          -0.07924866949652917,
          0.0781557145444214,
          0.37445087591831755,
          0.4475896155422568,
          0.3960079883083532,
          1.6476893349703128,
          0.1888916760581893,
          -1.6642468434525177,
          0.09243685179805267,
          1.5836932100497305,
          0.5743594032105762,
          0.03655750426161463,
          -1.1562603100372923,
          -0.8192253115775014,
          1.4436569936532557,
          -0.5569729435030032,
          1.4885027933719073,
          -0.96239395711921,
          2.2128831421862385,
          0.8744271022669069,
          1.2847015649907108,
          0.8597138952645841,
          1.3882958689629683,
          0.6317076676641963,
          0.3269075353602081,
          1.5429071621257286,
          0.10130068377807228,
          1.1542432160598814,
          1.2531358402810988,
          0.26275494358920176,
          2.3852891071003444,
          -0.15953470284019589,
          0.03506333586369161,
          -2.0038030260199893,
          1.2204534600595491,
          1.6361359683276138,
          1.3906239181656421,
          -0.786111210670228,
          1.6100752036876445,
          0.03302995073857356,
          -0.8284028418337049,
          0.5948824971381954,
          -0.7608389414479757,
          -0.6195093333879186,
          -0.4068393830343923,
          -1.045332947511054,
          0.31599560693055906,
          0.5296629922202261,
          2.357279848791362,
          0.2951797311121355,
          1.32057871574306,
          1.5040484903494704,
          -0.1706849753486248,
          0.024985678840708552,
          -1.1421040299779,
          -1.2497631015024637,
          0.8571861420272623,
          -1.1899007184407737,
          -0.7591368609865685,
          0.24752714068101198,
          0.4181528153753166,
          -1.4676367453008217,
          -0.1199537913166694,
          0.6450542149457716,
          0.07065090370870525,
          -0.9288093514416575,
          -0.13150670679188203,
          -1.2885479320103321,
          0.4012364046547924,
          0.1977656121095965,
          0.06949039869264667,
          0.6564605469013881,
          -1.2731433898640176
         ]
        },
        {
         "boxpoints": false,
         "line": {
          "width": 1.3
         },
         "marker": {
          "color": "rgba(128, 0, 128, 1.0)"
         },
         "name": "D",
         "orientation": "v",
         "type": "box",
         "y": [
          -1.177223911481873,
          -0.29167796775702576,
          1.015849711093481,
          -1.5632697221999952,
          -1.188862087198042,
          0.9118286507428603,
          0.12004560260873919,
          0.30615185664214467,
          0.4068585213345728,
          0.04788357105892197,
          -1.0730744655289608,
          1.3627181384613922,
          -1.429905874078411,
          0.005056987583926655,
          1.7093995505715804,
          -0.6547662540003706,
          0.975230348312139,
          1.2943210344228249,
          1.3860015048138674,
          0.26933783574740583,
          -1.6818354559214377,
          0.5699527191444935,
          -0.8085576249715936,
          -0.30855970637491215,
          1.0076428429125286,
          0.03258793879293975,
          -0.1975471792747596,
          0.7032660669527372,
          0.5550963921924533,
          -0.4073803611435891,
          -1.495035808332509,
          0.10189101243872417,
          1.326782882883116,
          0.8887114620766801,
          0.8506718335258759,
          0.37715963477045467,
          -0.09406536631961311,
          0.7672394649639005,
          0.12414422210757521,
          -0.07054576801104318,
          -0.7490828162425152,
          1.0054685383488922,
          -0.32622398977440087,
          -1.7293427744766128,
          -0.17893314214196054,
          -0.6445329057740592,
          -2.1296429270807975,
          -0.849517163538628,
          1.346157652658771,
          -1.760483167451817,
          -1.2043739899155788,
          0.012432714521647131,
          -0.5149239544670113,
          0.477902236056113,
          -0.0871448110503587,
          0.1111291108088189,
          0.7600152695109311,
          0.4339035143438705,
          -0.5098427020312968,
          0.05778112734588025,
          0.2592907264569348,
          -0.4210044625954527,
          2.088556853181352,
          0.9036632920259653,
          -0.2339117092894673,
          -0.3283329237014898,
          0.9504697375545578,
          0.30149118020264176,
          -1.2077984172690528,
          0.24562709321626397,
          -0.23104901421521776,
          0.12598659746766855,
          -0.9235899921737932,
          0.054668107938544215,
          -0.014656363906992367,
          0.32718710570218534,
          -1.1048488430705672,
          0.9472652945157712,
          0.9673888696845052,
          -0.6351085093895855,
          -0.32860774250628555,
          -0.3032229538724417,
          1.9316556397154276,
          0.3437554977162938,
          -0.44925077282208825,
          0.2071776605585226,
          -0.1384549643318921,
          -0.588761118349195,
          0.3835924129475016,
          1.0443082403299997,
          0.5646124203256961,
          -1.1669441299638657,
          1.471651864712656,
          0.5571573781873396,
          1.1806318077196802,
          -0.364457546178787,
          0.7942703611158273,
          -0.8766095764428595,
          -0.6739234543957282,
          0.7020962615139723,
          1.9466313970415234,
          1.4033181559817107,
          0.8817067103269239,
          -0.636142069992607,
          0.5096996225073084,
          -1.0449015238868775,
          -1.3516362391876686,
          1.072760938487999,
          0.04561623114174906,
          -2.197726838718576,
          0.5895180636953125,
          0.7666930968501002,
          0.573446272540947,
          -0.049570518667105885,
          -0.2450651358718775,
          1.4984801536243355,
          -0.08989543973475861,
          1.3256954118636977,
          -0.6787356172302887,
          -0.20663840349902926,
          -0.07463448099353537,
          0.43653254030779626,
          2.143472102908509,
          0.8336845443896479,
          0.4705105240557236,
          -2.4206897448854976,
          -0.19850309445539632,
          1.940226431162549,
          0.6669746583084654,
          -0.10340935468679296,
          0.8995897385012287,
          -0.1453724997837296,
          0.0013701891805882745,
          1.2021739796363846,
          0.7076958539621563,
          0.9301447513092584,
          0.489618944863697,
          -0.1871095092808642,
          -0.049199581972393394,
          -0.15116514687392069,
          -0.6669480483173831,
          0.04042967861504227,
          -0.44420919384158947,
          0.09154553007254254,
          0.21014133133904156,
          0.10870218345725416,
          2.230711246395308,
          0.32910321870848624,
          1.4584367024467773,
          0.24551339739498768,
          -1.1377108717141038,
          -0.25791244722761,
          0.5275870565785041,
          0.8607420449542655,
          -1.649911422842504,
          0.9773201324784074,
          0.06855977558782761,
          -0.39317571645592336,
          1.818787409656117,
          0.16000823783392648,
          -1.2434611238988615,
          0.511081134462931,
          1.587383860427019,
          0.3081870018514402,
          0.14567651154065986,
          -0.741600184777107,
          -0.21620988781502093,
          0.9098313234674152,
          0.9025932096658122,
          -0.5205059023524584,
          -0.07305715958546434,
          -0.15760821204976852,
          0.07037745154270833,
          -0.11504472818390368,
          0.0756585617735883,
          1.5536647405290667,
          0.23616705043470598,
          1.5820259289264258,
          3.273371398867746,
          -1.5075772265477676,
          0.26972986831556195,
          0.02721656626759725,
          0.10409688610774594,
          -1.023971521658838,
          0.22308365980777248,
          -1.0065375173423037,
          0.7714284121531372,
          -0.5531778649396925,
          1.3759535558272362,
          -1.0592605355498366,
          -1.0261547728518359,
          0.8240680302338254,
          1.347899630394395,
          -0.5324076283811398,
          -0.023191462426795078,
          -1.1087538888567978,
          0.16562106697546275,
          -0.7853546209802792,
          -1.8334126140374971,
          -0.1301925298518984
         ]
        }
       ],
       "layout": {
        "legend": {
         "bgcolor": "#F5F6F9",
         "font": {
          "color": "#4D5663"
         }
        },
        "paper_bgcolor": "#F5F6F9",
        "plot_bgcolor": "#F5F6F9",
        "template": {
         "data": {
          "bar": [
           {
            "error_x": {
             "color": "#2a3f5f"
            },
            "error_y": {
             "color": "#2a3f5f"
            },
            "marker": {
             "line": {
              "color": "#E5ECF6",
              "width": 0.5
             },
             "pattern": {
              "fillmode": "overlay",
              "size": 10,
              "solidity": 0.2
             }
            },
            "type": "bar"
           }
          ],
          "barpolar": [
           {
            "marker": {
             "line": {
              "color": "#E5ECF6",
              "width": 0.5
             },
             "pattern": {
              "fillmode": "overlay",
              "size": 10,
              "solidity": 0.2
             }
            },
            "type": "barpolar"
           }
          ],
          "carpet": [
           {
            "aaxis": {
             "endlinecolor": "#2a3f5f",
             "gridcolor": "white",
             "linecolor": "white",
             "minorgridcolor": "white",
             "startlinecolor": "#2a3f5f"
            },
            "baxis": {
             "endlinecolor": "#2a3f5f",
             "gridcolor": "white",
             "linecolor": "white",
             "minorgridcolor": "white",
             "startlinecolor": "#2a3f5f"
            },
            "type": "carpet"
           }
          ],
          "choropleth": [
           {
            "colorbar": {
             "outlinewidth": 0,
             "ticks": ""
            },
            "type": "choropleth"
           }
          ],
          "contour": [
           {
            "colorbar": {
             "outlinewidth": 0,
             "ticks": ""
            },
            "colorscale": [
             [
              0,
              "#0d0887"
             ],
             [
              0.1111111111111111,
              "#46039f"
             ],
             [
              0.2222222222222222,
              "#7201a8"
             ],
             [
              0.3333333333333333,
              "#9c179e"
             ],
             [
              0.4444444444444444,
              "#bd3786"
             ],
             [
              0.5555555555555556,
              "#d8576b"
             ],
             [
              0.6666666666666666,
              "#ed7953"
             ],
             [
              0.7777777777777778,
              "#fb9f3a"
             ],
             [
              0.8888888888888888,
              "#fdca26"
             ],
             [
              1,
              "#f0f921"
             ]
            ],
            "type": "contour"
           }
          ],
          "contourcarpet": [
           {
            "colorbar": {
             "outlinewidth": 0,
             "ticks": ""
            },
            "type": "contourcarpet"
           }
          ],
          "heatmap": [
           {
            "colorbar": {
             "outlinewidth": 0,
             "ticks": ""
            },
            "colorscale": [
             [
              0,
              "#0d0887"
             ],
             [
              0.1111111111111111,
              "#46039f"
             ],
             [
              0.2222222222222222,
              "#7201a8"
             ],
             [
              0.3333333333333333,
              "#9c179e"
             ],
             [
              0.4444444444444444,
              "#bd3786"
             ],
             [
              0.5555555555555556,
              "#d8576b"
             ],
             [
              0.6666666666666666,
              "#ed7953"
             ],
             [
              0.7777777777777778,
              "#fb9f3a"
             ],
             [
              0.8888888888888888,
              "#fdca26"
             ],
             [
              1,
              "#f0f921"
             ]
            ],
            "type": "heatmap"
           }
          ],
          "heatmapgl": [
           {
            "colorbar": {
             "outlinewidth": 0,
             "ticks": ""
            },
            "colorscale": [
             [
              0,
              "#0d0887"
             ],
             [
              0.1111111111111111,
              "#46039f"
             ],
             [
              0.2222222222222222,
              "#7201a8"
             ],
             [
              0.3333333333333333,
              "#9c179e"
             ],
             [
              0.4444444444444444,
              "#bd3786"
             ],
             [
              0.5555555555555556,
              "#d8576b"
             ],
             [
              0.6666666666666666,
              "#ed7953"
             ],
             [
              0.7777777777777778,
              "#fb9f3a"
             ],
             [
              0.8888888888888888,
              "#fdca26"
             ],
             [
              1,
              "#f0f921"
             ]
            ],
            "type": "heatmapgl"
           }
          ],
          "histogram": [
           {
            "marker": {
             "pattern": {
              "fillmode": "overlay",
              "size": 10,
              "solidity": 0.2
             }
            },
            "type": "histogram"
           }
          ],
          "histogram2d": [
           {
            "colorbar": {
             "outlinewidth": 0,
             "ticks": ""
            },
            "colorscale": [
             [
              0,
              "#0d0887"
             ],
             [
              0.1111111111111111,
              "#46039f"
             ],
             [
              0.2222222222222222,
              "#7201a8"
             ],
             [
              0.3333333333333333,
              "#9c179e"
             ],
             [
              0.4444444444444444,
              "#bd3786"
             ],
             [
              0.5555555555555556,
              "#d8576b"
             ],
             [
              0.6666666666666666,
              "#ed7953"
             ],
             [
              0.7777777777777778,
              "#fb9f3a"
             ],
             [
              0.8888888888888888,
              "#fdca26"
             ],
             [
              1,
              "#f0f921"
             ]
            ],
            "type": "histogram2d"
           }
          ],
          "histogram2dcontour": [
           {
            "colorbar": {
             "outlinewidth": 0,
             "ticks": ""
            },
            "colorscale": [
             [
              0,
              "#0d0887"
             ],
             [
              0.1111111111111111,
              "#46039f"
             ],
             [
              0.2222222222222222,
              "#7201a8"
             ],
             [
              0.3333333333333333,
              "#9c179e"
             ],
             [
              0.4444444444444444,
              "#bd3786"
             ],
             [
              0.5555555555555556,
              "#d8576b"
             ],
             [
              0.6666666666666666,
              "#ed7953"
             ],
             [
              0.7777777777777778,
              "#fb9f3a"
             ],
             [
              0.8888888888888888,
              "#fdca26"
             ],
             [
              1,
              "#f0f921"
             ]
            ],
            "type": "histogram2dcontour"
           }
          ],
          "mesh3d": [
           {
            "colorbar": {
             "outlinewidth": 0,
             "ticks": ""
            },
            "type": "mesh3d"
           }
          ],
          "parcoords": [
           {
            "line": {
             "colorbar": {
              "outlinewidth": 0,
              "ticks": ""
             }
            },
            "type": "parcoords"
           }
          ],
          "pie": [
           {
            "automargin": true,
            "type": "pie"
           }
          ],
          "scatter": [
           {
            "fillpattern": {
             "fillmode": "overlay",
             "size": 10,
             "solidity": 0.2
            },
            "type": "scatter"
           }
          ],
          "scatter3d": [
           {
            "line": {
             "colorbar": {
              "outlinewidth": 0,
              "ticks": ""
             }
            },
            "marker": {
             "colorbar": {
              "outlinewidth": 0,
              "ticks": ""
             }
            },
            "type": "scatter3d"
           }
          ],
          "scattercarpet": [
           {
            "marker": {
             "colorbar": {
              "outlinewidth": 0,
              "ticks": ""
             }
            },
            "type": "scattercarpet"
           }
          ],
          "scattergeo": [
           {
            "marker": {
             "colorbar": {
              "outlinewidth": 0,
              "ticks": ""
             }
            },
            "type": "scattergeo"
           }
          ],
          "scattergl": [
           {
            "marker": {
             "colorbar": {
              "outlinewidth": 0,
              "ticks": ""
             }
            },
            "type": "scattergl"
           }
          ],
          "scattermapbox": [
           {
            "marker": {
             "colorbar": {
              "outlinewidth": 0,
              "ticks": ""
             }
            },
            "type": "scattermapbox"
           }
          ],
          "scatterpolar": [
           {
            "marker": {
             "colorbar": {
              "outlinewidth": 0,
              "ticks": ""
             }
            },
            "type": "scatterpolar"
           }
          ],
          "scatterpolargl": [
           {
            "marker": {
             "colorbar": {
              "outlinewidth": 0,
              "ticks": ""
             }
            },
            "type": "scatterpolargl"
           }
          ],
          "scatterternary": [
           {
            "marker": {
             "colorbar": {
              "outlinewidth": 0,
              "ticks": ""
             }
            },
            "type": "scatterternary"
           }
          ],
          "surface": [
           {
            "colorbar": {
             "outlinewidth": 0,
             "ticks": ""
            },
            "colorscale": [
             [
              0,
              "#0d0887"
             ],
             [
              0.1111111111111111,
              "#46039f"
             ],
             [
              0.2222222222222222,
              "#7201a8"
             ],
             [
              0.3333333333333333,
              "#9c179e"
             ],
             [
              0.4444444444444444,
              "#bd3786"
             ],
             [
              0.5555555555555556,
              "#d8576b"
             ],
             [
              0.6666666666666666,
              "#ed7953"
             ],
             [
              0.7777777777777778,
              "#fb9f3a"
             ],
             [
              0.8888888888888888,
              "#fdca26"
             ],
             [
              1,
              "#f0f921"
             ]
            ],
            "type": "surface"
           }
          ],
          "table": [
           {
            "cells": {
             "fill": {
              "color": "#EBF0F8"
             },
             "line": {
              "color": "white"
             }
            },
            "header": {
             "fill": {
              "color": "#C8D4E3"
             },
             "line": {
              "color": "white"
             }
            },
            "type": "table"
           }
          ]
         },
         "layout": {
          "annotationdefaults": {
           "arrowcolor": "#2a3f5f",
           "arrowhead": 0,
           "arrowwidth": 1
          },
          "autotypenumbers": "strict",
          "coloraxis": {
           "colorbar": {
            "outlinewidth": 0,
            "ticks": ""
           }
          },
          "colorscale": {
           "diverging": [
            [
             0,
             "#8e0152"
            ],
            [
             0.1,
             "#c51b7d"
            ],
            [
             0.2,
             "#de77ae"
            ],
            [
             0.3,
             "#f1b6da"
            ],
            [
             0.4,
             "#fde0ef"
            ],
            [
             0.5,
             "#f7f7f7"
            ],
            [
             0.6,
             "#e6f5d0"
            ],
            [
             0.7,
             "#b8e186"
            ],
            [
             0.8,
             "#7fbc41"
            ],
            [
             0.9,
             "#4d9221"
            ],
            [
             1,
             "#276419"
            ]
           ],
           "sequential": [
            [
             0,
             "#0d0887"
            ],
            [
             0.1111111111111111,
             "#46039f"
            ],
            [
             0.2222222222222222,
             "#7201a8"
            ],
            [
             0.3333333333333333,
             "#9c179e"
            ],
            [
             0.4444444444444444,
             "#bd3786"
            ],
            [
             0.5555555555555556,
             "#d8576b"
            ],
            [
             0.6666666666666666,
             "#ed7953"
            ],
            [
             0.7777777777777778,
             "#fb9f3a"
            ],
            [
             0.8888888888888888,
             "#fdca26"
            ],
            [
             1,
             "#f0f921"
            ]
           ],
           "sequentialminus": [
            [
             0,
             "#0d0887"
            ],
            [
             0.1111111111111111,
             "#46039f"
            ],
            [
             0.2222222222222222,
             "#7201a8"
            ],
            [
             0.3333333333333333,
             "#9c179e"
            ],
            [
             0.4444444444444444,
             "#bd3786"
            ],
            [
             0.5555555555555556,
             "#d8576b"
            ],
            [
             0.6666666666666666,
             "#ed7953"
            ],
            [
             0.7777777777777778,
             "#fb9f3a"
            ],
            [
             0.8888888888888888,
             "#fdca26"
            ],
            [
             1,
             "#f0f921"
            ]
           ]
          },
          "colorway": [
           "#636efa",
           "#EF553B",
           "#00cc96",
           "#ab63fa",
           "#FFA15A",
           "#19d3f3",
           "#FF6692",
           "#B6E880",
           "#FF97FF",
           "#FECB52"
          ],
          "font": {
           "color": "#2a3f5f"
          },
          "geo": {
           "bgcolor": "white",
           "lakecolor": "white",
           "landcolor": "#E5ECF6",
           "showlakes": true,
           "showland": true,
           "subunitcolor": "white"
          },
          "hoverlabel": {
           "align": "left"
          },
          "hovermode": "closest",
          "mapbox": {
           "style": "light"
          },
          "paper_bgcolor": "white",
          "plot_bgcolor": "#E5ECF6",
          "polar": {
           "angularaxis": {
            "gridcolor": "white",
            "linecolor": "white",
            "ticks": ""
           },
           "bgcolor": "#E5ECF6",
           "radialaxis": {
            "gridcolor": "white",
            "linecolor": "white",
            "ticks": ""
           }
          },
          "scene": {
           "xaxis": {
            "backgroundcolor": "#E5ECF6",
            "gridcolor": "white",
            "gridwidth": 2,
            "linecolor": "white",
            "showbackground": true,
            "ticks": "",
            "zerolinecolor": "white"
           },
           "yaxis": {
            "backgroundcolor": "#E5ECF6",
            "gridcolor": "white",
            "gridwidth": 2,
            "linecolor": "white",
            "showbackground": true,
            "ticks": "",
            "zerolinecolor": "white"
           },
           "zaxis": {
            "backgroundcolor": "#E5ECF6",
            "gridcolor": "white",
            "gridwidth": 2,
            "linecolor": "white",
            "showbackground": true,
            "ticks": "",
            "zerolinecolor": "white"
           }
          },
          "shapedefaults": {
           "line": {
            "color": "#2a3f5f"
           }
          },
          "ternary": {
           "aaxis": {
            "gridcolor": "white",
            "linecolor": "white",
            "ticks": ""
           },
           "baxis": {
            "gridcolor": "white",
            "linecolor": "white",
            "ticks": ""
           },
           "bgcolor": "#E5ECF6",
           "caxis": {
            "gridcolor": "white",
            "linecolor": "white",
            "ticks": ""
           }
          },
          "title": {
           "x": 0.05
          },
          "xaxis": {
           "automargin": true,
           "gridcolor": "white",
           "linecolor": "white",
           "ticks": "",
           "title": {
            "standoff": 15
           },
           "zerolinecolor": "white",
           "zerolinewidth": 2
          },
          "yaxis": {
           "automargin": true,
           "gridcolor": "white",
           "linecolor": "white",
           "ticks": "",
           "title": {
            "standoff": 15
           },
           "zerolinecolor": "white",
           "zerolinewidth": 2
          }
         }
        },
        "title": {
         "font": {
          "color": "#4D5663"
         }
        },
        "xaxis": {
         "gridcolor": "#E1E5ED",
         "showgrid": true,
         "tickfont": {
          "color": "#4D5663"
         },
         "title": {
          "font": {
           "color": "#4D5663"
          },
          "text": ""
         },
         "zerolinecolor": "#E1E5ED"
        },
        "yaxis": {
         "gridcolor": "#E1E5ED",
         "showgrid": true,
         "tickfont": {
          "color": "#4D5663"
         },
         "title": {
          "font": {
           "color": "#4D5663"
          },
          "text": ""
         },
         "zerolinecolor": "#E1E5ED"
        }
       }
      },
      "text/html": [
       "<div>                            <div id=\"c544df4f-b4bf-4be4-a81e-ea07ba673a15\" class=\"plotly-graph-div\" style=\"height:525px; width:100%;\"></div>            <script type=\"text/javascript\">                require([\"plotly\"], function(Plotly) {                    window.PLOTLYENV=window.PLOTLYENV || {};\n",
       "                    window.PLOTLYENV.BASE_URL='https://plot.ly';                                    if (document.getElementById(\"c544df4f-b4bf-4be4-a81e-ea07ba673a15\")) {                    Plotly.newPlot(                        \"c544df4f-b4bf-4be4-a81e-ea07ba673a15\",                        [{\"boxpoints\":false,\"line\":{\"width\":1.3},\"marker\":{\"color\":\"rgba(255, 153, 51, 1.0)\"},\"name\":\"A\",\"orientation\":\"v\",\"y\":[-1.487606705268289,-1.3270966904104238,0.3604379283601886,-1.0755063445021371,0.3811337534773147,2.0641007329383485,-0.48203477848504866,-0.38832558174328935,1.7478672968117868,1.1158691106492418,0.2896935352623028,-0.3812217927690513,0.42123870859889845,1.8812870946781968,2.557404536964999,-0.7058476334484991,0.28569424203115323,0.24695939642219372,-0.6385715504663668,0.9026702831781179,2.298729565138558,0.11640944430966896,0.42767735280331637,0.33544870905998614,0.16811832161387877,-0.21121411331425205,0.5874308678366539,-1.1216357817595521,0.11255262014025855,1.1853522193052266,0.45797947718207993,0.06034425911595249,0.9711702720221174,-0.7824061933747677,0.6276524906327481,-1.0548261198142173,-1.0832514348502216,-0.36189322746518,0.643434169576394,0.4488595629144203,0.8061508090023473,-1.222979893598644,-0.6920946263116126,-1.2937441326912544,0.23876442953656232,-0.817684328749027,0.08369524837438268,0.13287413960379232,-0.2499943512909606,0.6636954943467446,-0.5280332499790815,-0.5398566815380538,-0.31918190307525746,2.254926925098105,-0.7632175571836918,-1.1048423421686462,1.1028289510008162,-1.2097544316232944,-1.1939998494256865,1.2253107286051743,0.031116092717685246,-0.7487543140223533,1.4274039877008702,-2.4152283125719656,0.8018374859983983,-0.652637162274179,-1.109773355409906,0.9421069223405514,0.9272547022786595,-2.0967011767857966,-0.9386686213866825,1.2712810659600504,0.6688989976815631,-1.538865098729885,0.7131115264494275,-0.6467904553989622,1.2822063664196233,-0.30066345972728864,0.5960304893962182,0.6082958314371802,-1.3267205129120214,0.8887344180865127,0.9487101456582948,1.208515049669603,-0.49564632045569046,-2.171379335945453,-0.5722068920663259,0.821728319864167,-0.4532924125120422,0.5176236846070436,1.074779233055591,-0.04980169881531574,-1.1325388535132843,-0.8340003699765887,0.4681608886840201,0.340074509311427,0.9532273672009145,-0.551300031728624,1.5019798360618883,2.0813328323766336,-1.8888588017436174,0.5527504926273384,-1.832394693910066,-0.1891939936596043,-0.1795525048751539,-0.41353587573206846,0.6119219622848441,0.3669411247956404,-1.656394643836909,0.6825827271960428,0.40978281154268725,-1.027348486216504,-0.8913232958653983,-2.176619637487184,1.6404497173622186,-1.1539800497331998,-2.6344933558902484,1.3269304883606206,-0.4686755309635699,0.15375555596251558,-0.003231518781125517,-2.5756810430242285,0.23191043239930428,-0.20325011510086552,-0.1262256677960052,-0.4306067892790383,2.223999933559132,-0.28481970484576097,0.041636347874112516,0.8363856899449069,-0.7190061049681735,-1.660586642755478,-0.8424461151634391,-1.3410654086417828,0.5173398539462267,-1.3712460727772473,-0.4467550562662734,0.9157433279770691,1.754416969372457,0.6747547564025815,0.6483259564379472,0.9589442722537845,-1.1404949913493048,-0.9607080724043362,-0.4758449423533752,-0.2995599393280748,-0.24888778174690462,0.15542907347123394,-1.2558919529016797,1.4884181758140078,-0.17569860858299177,1.225904563594473,1.1324490392969089,0.3835923409382287,1.9124939131151277,-0.47992141278970996,-0.17605511359007,0.2200553792256361,-0.45229522971198904,-1.8838923550993498,0.13315305673333974,-0.8266448326458588,1.2294707915972516,0.6778486167632689,-0.15856560330555253,1.0126681253705112,0.6806465776765602,-2.341158623582788,0.2755666236492162,-0.7172182469495813,0.7930105775209679,0.39568977405882394,1.528726412996672,0.24679536520261422,-0.46161608591743614,-0.41260788090652584,-0.9197333364273914,1.2672340572160545,-0.7680399463059111,0.20875650311460647,-0.8688520154587448,1.1871175195914496,0.4318475877039881,0.22291570222242593,1.912613011968483,-1.1895491534313078,-0.8601534520780754,-0.6884358071535207,1.6067100199942381,0.8869574010673043,2.2738448377759197,0.053238690773936066,-0.10165799243942343,-1.5322439587081917,1.4952390580885375,-0.3456678618511981,-0.09156509867611441,-1.7259238493479152,0.42627109535565494,0.13155584440661],\"type\":\"box\"},{\"boxpoints\":false,\"line\":{\"width\":1.3},\"marker\":{\"color\":\"rgba(55, 128, 191, 1.0)\"},\"name\":\"B\",\"orientation\":\"v\",\"y\":[1.4018747311698432,0.12305038788003114,-2.0621604828169295,0.6310971788406574,0.017478005933253684,0.6964587848925091,0.6692142639756167,1.030659741046712,0.9596758077035872,-0.9164290079884374,-0.6446851483938009,-0.6116667373572493,1.7260305025206517,-0.2759506642155176,-0.3188067675342285,0.9549478759656118,0.4002068068348017,0.3618786329647358,-2.232852501779732,0.2634002979548043,-0.23434598180308425,0.44521962838237017,-1.8927127354319755,-1.3297540297781392,-0.07764797635478797,1.702839909849972,-1.0460649622342382,-0.23597238404268153,-1.3174204369042208,0.5712385004026206,-0.9397730609282275,1.244707443354532,-0.5536989612126252,0.6402166179463994,0.22426803921109695,-0.21264092848600558,-0.10993557287781922,-0.9819230417166805,0.6079360463127345,-0.6057679799690354,-1.1119745914173358,-1.560293807992332,-1.1987638460095538,0.4858277742131986,2.350569384291055,0.6151746971191706,0.3847879036524305,-0.40025360862732406,-0.2827464088764763,0.7732213376383255,-0.42574944193944025,-0.0977566524060275,-1.0460108459597866,-0.41906615486287035,-0.828081174470112,-1.5777766072475146,-1.751258971395327,-0.4577098650787121,-0.48384052874521427,0.6370632780928125,0.6135858592175875,-1.0524005004526487,-0.18939000452678795,1.4832097967972961,-1.4478718403622282,-1.175823620507187,-1.348720049032188,-0.840154268876634,0.16179821554044488,0.4215991235352048,-0.09304837280981533,1.0229402146371382,-0.6777075034485878,2.363547662269973,0.17517567510440044,-1.0142764458464555,0.769643017358293,-0.559782604130007,-0.09826200135677465,-2.19532344141647,-0.9028689610271179,-0.5641688540688159,0.0069344933942429516,1.771818416056886,-0.7042878205436063,-1.141511977610186,1.104695798124243,0.05504535578585138,-0.903445628111115,-1.0751312204194619,0.5433315622422493,-0.4816293656408814,0.4315047393038972,-0.13705156305918187,0.3792927120427439,-0.11521231565490844,-1.2704729596598132,-1.3483168965194472,-1.671616523024985,-0.1521424450157583,0.5440995446011344,-0.3718765369382678,-1.3965083041927662,2.526942966641223,2.239723475005572,-1.4859105355107327,1.9818013383576558,0.802989460671471,1.0303651079399383,2.3335949332225114,-2.2910087524718072,-1.1537515922644148,-1.3750319900867725,-1.6326060100061293,0.6645823180882093,1.4740851265119306,-0.7666063770492628,-0.5548089730982696,1.408417243841149,-0.4820681914552715,1.4701297681558765,0.27907719634906686,0.7102972508579796,-1.5217772011708037,0.010862325434475873,-0.016880069539919544,0.7993093349399368,1.015635996790291,-0.4474593226688298,0.7621086015075268,0.8856847020812305,1.2102974267836348,-1.5386477932819997,0.03834324809398329,-0.22576792002145568,1.0537342040776074,-1.3138277848469238,0.07049054804272177,0.4018169670712659,-0.2801832887276961,-0.5690121191476055,0.35598993442828114,-0.004734667011751212,0.33230256805073644,1.962345783467431,-0.2940856894796608,-0.1283389011930353,0.6168331074300294,0.7662626610879297,-1.7383020615197815,-1.2929174451479046,-2.096026957868482,0.42565821552001964,-0.5002591085547238,-0.919531712491247,-1.2964648092634155,-0.6962169438232568,0.03230857859249144,-0.529635964552918,2.0666298734833393,-0.17675252627642735,-1.0095191628490185,-0.5861082273681731,0.6937314493180352,0.9261375158887465,-1.1213803593314928,0.7213848051405207,0.3847080628723777,0.8894236002885328,1.6153335879826933,-1.0259748146661083,0.028568303126833148,0.2334580037219608,-2.1501354617090467,-0.9422006481662677,0.1444750455076689,1.0861237079967807,1.7201363417958033,2.0569115563677145,-1.381679208771417,-1.0351911302661752,1.5223278152050266,-0.23231343649555608,0.5412096716486152,-0.9721564299191358,-0.22792905301475427,-1.2773274724256982,0.8636612498925738,-1.2166122317481987,0.3507319275056264,-1.3101065387849253,1.037759945045999,1.9370197828161602,-2.516970783487686,0.10533441465097182,-1.9508940804635506,0.41530356237292915,0.17440382713054814,-2.0687853329702146,0.22323291262987086],\"type\":\"box\"},{\"boxpoints\":false,\"line\":{\"width\":1.3},\"marker\":{\"color\":\"rgba(50, 171, 96, 1.0)\"},\"name\":\"C\",\"orientation\":\"v\",\"y\":[-1.385599006792901,-1.7197849763534634,1.5747803144791424,0.22087703915493273,1.4048072889623526,-0.17203220259412677,-0.5478221068929772,-0.2571036482455168,0.83526256911748,0.7295109671879325,-0.41892914647460383,0.5088431770608817,-0.545965724792688,-0.33100748483810266,0.5220780822294445,0.6690441411444692,0.1826733430427206,-0.877121920622054,1.4235543935292008,-0.4536467130462135,1.0891053014432,-1.2316562978392696,-0.45039797539149595,-0.0161623193476018,1.860653210388855,-1.1352232694440099,-0.35024596573976224,-0.4969335567373902,-0.9680259684720534,-2.0944192443697127,0.3281146356341243,1.1879230963728453,1.3133835432347751,-1.1331241858228536,-0.09964269383325358,-0.5670593921026623,0.8948329179593418,1.1473984299795974,1.2019927205435548,0.377575496595243,0.17651537132907977,-0.9499283412600837,0.3985873061898483,-0.2524510144042869,-0.7274605524449378,-0.6095669119492346,-0.3245202544534693,1.3148691761801465,2.3358141956226626,-2.4601472909133326,0.04654499723271527,-1.251597920803092,0.4749353557787959,-0.9206748732515008,0.5162827131466176,-0.11699896548752016,2.3022622170092335,-0.7012675941209484,-0.7283969714507058,-0.5794746944179315,1.3437176475788333,0.4982669792199907,1.6867823314492179,0.08172912875324927,-0.6006538105463247,-0.43966473077939855,-1.3508327599279302,-1.829926992179897,-1.380602559476269,0.48240676857510556,0.6149002921105139,-0.7388773475762256,-0.8841095457737844,-0.1751299312881325,1.9446554133871992,-1.3324126706554342,-0.7096742342791013,-0.7437240018932815,0.6602416333763232,1.0176727193067967,-0.5524680901737848,1.1434468620574527,-0.7734307039891627,0.8965056286011309,1.402017062407769,0.4359154222512774,-0.46816508376559096,0.756437547431865,-0.6164987704692465,1.6184273032708156,1.426303919872584,-0.04161209514211454,-1.2337965632148633,-0.4566251877811787,-0.46946123502120585,1.0609360887290722,1.2621015619841527,-2.608318114488203,-1.582361286280856,-0.19499682075667363,-1.1941369375655286,-0.16554845498734888,0.5808738594570794,-0.04912295224661493,-1.5715157223821186,-0.33908747985349375,0.8681334488613784,0.062217931439810636,1.6600980719595209,1.7562201370827581,-1.477554922665295,1.7784643352940093,-0.8766644487453403,0.4943916309762949,-1.1385149753495707,-1.464514833807233,0.7357726123676097,0.8914016028258562,-1.235418381474018,-1.4409955120477786,0.7398610992391563,-0.7271814181366715,-0.8838695184812071,-1.1023952000272523,-0.15720574930360842,1.4282908181988654,0.5904130272118258,-0.07924866949652917,0.0781557145444214,0.37445087591831755,0.4475896155422568,0.3960079883083532,1.6476893349703128,0.1888916760581893,-1.6642468434525177,0.09243685179805267,1.5836932100497305,0.5743594032105762,0.03655750426161463,-1.1562603100372923,-0.8192253115775014,1.4436569936532557,-0.5569729435030032,1.4885027933719073,-0.96239395711921,2.2128831421862385,0.8744271022669069,1.2847015649907108,0.8597138952645841,1.3882958689629683,0.6317076676641963,0.3269075353602081,1.5429071621257286,0.10130068377807228,1.1542432160598814,1.2531358402810988,0.26275494358920176,2.3852891071003444,-0.15953470284019589,0.03506333586369161,-2.0038030260199893,1.2204534600595491,1.6361359683276138,1.3906239181656421,-0.786111210670228,1.6100752036876445,0.03302995073857356,-0.8284028418337049,0.5948824971381954,-0.7608389414479757,-0.6195093333879186,-0.4068393830343923,-1.045332947511054,0.31599560693055906,0.5296629922202261,2.357279848791362,0.2951797311121355,1.32057871574306,1.5040484903494704,-0.1706849753486248,0.024985678840708552,-1.1421040299779,-1.2497631015024637,0.8571861420272623,-1.1899007184407737,-0.7591368609865685,0.24752714068101198,0.4181528153753166,-1.4676367453008217,-0.1199537913166694,0.6450542149457716,0.07065090370870525,-0.9288093514416575,-0.13150670679188203,-1.2885479320103321,0.4012364046547924,0.1977656121095965,0.06949039869264667,0.6564605469013881,-1.2731433898640176],\"type\":\"box\"},{\"boxpoints\":false,\"line\":{\"width\":1.3},\"marker\":{\"color\":\"rgba(128, 0, 128, 1.0)\"},\"name\":\"D\",\"orientation\":\"v\",\"y\":[-1.177223911481873,-0.29167796775702576,1.015849711093481,-1.5632697221999952,-1.188862087198042,0.9118286507428603,0.12004560260873919,0.30615185664214467,0.4068585213345728,0.04788357105892197,-1.0730744655289608,1.3627181384613922,-1.429905874078411,0.005056987583926655,1.7093995505715804,-0.6547662540003706,0.975230348312139,1.2943210344228249,1.3860015048138674,0.26933783574740583,-1.6818354559214377,0.5699527191444935,-0.8085576249715936,-0.30855970637491215,1.0076428429125286,0.03258793879293975,-0.1975471792747596,0.7032660669527372,0.5550963921924533,-0.4073803611435891,-1.495035808332509,0.10189101243872417,1.326782882883116,0.8887114620766801,0.8506718335258759,0.37715963477045467,-0.09406536631961311,0.7672394649639005,0.12414422210757521,-0.07054576801104318,-0.7490828162425152,1.0054685383488922,-0.32622398977440087,-1.7293427744766128,-0.17893314214196054,-0.6445329057740592,-2.1296429270807975,-0.849517163538628,1.346157652658771,-1.760483167451817,-1.2043739899155788,0.012432714521647131,-0.5149239544670113,0.477902236056113,-0.0871448110503587,0.1111291108088189,0.7600152695109311,0.4339035143438705,-0.5098427020312968,0.05778112734588025,0.2592907264569348,-0.4210044625954527,2.088556853181352,0.9036632920259653,-0.2339117092894673,-0.3283329237014898,0.9504697375545578,0.30149118020264176,-1.2077984172690528,0.24562709321626397,-0.23104901421521776,0.12598659746766855,-0.9235899921737932,0.054668107938544215,-0.014656363906992367,0.32718710570218534,-1.1048488430705672,0.9472652945157712,0.9673888696845052,-0.6351085093895855,-0.32860774250628555,-0.3032229538724417,1.9316556397154276,0.3437554977162938,-0.44925077282208825,0.2071776605585226,-0.1384549643318921,-0.588761118349195,0.3835924129475016,1.0443082403299997,0.5646124203256961,-1.1669441299638657,1.471651864712656,0.5571573781873396,1.1806318077196802,-0.364457546178787,0.7942703611158273,-0.8766095764428595,-0.6739234543957282,0.7020962615139723,1.9466313970415234,1.4033181559817107,0.8817067103269239,-0.636142069992607,0.5096996225073084,-1.0449015238868775,-1.3516362391876686,1.072760938487999,0.04561623114174906,-2.197726838718576,0.5895180636953125,0.7666930968501002,0.573446272540947,-0.049570518667105885,-0.2450651358718775,1.4984801536243355,-0.08989543973475861,1.3256954118636977,-0.6787356172302887,-0.20663840349902926,-0.07463448099353537,0.43653254030779626,2.143472102908509,0.8336845443896479,0.4705105240557236,-2.4206897448854976,-0.19850309445539632,1.940226431162549,0.6669746583084654,-0.10340935468679296,0.8995897385012287,-0.1453724997837296,0.0013701891805882745,1.2021739796363846,0.7076958539621563,0.9301447513092584,0.489618944863697,-0.1871095092808642,-0.049199581972393394,-0.15116514687392069,-0.6669480483173831,0.04042967861504227,-0.44420919384158947,0.09154553007254254,0.21014133133904156,0.10870218345725416,2.230711246395308,0.32910321870848624,1.4584367024467773,0.24551339739498768,-1.1377108717141038,-0.25791244722761,0.5275870565785041,0.8607420449542655,-1.649911422842504,0.9773201324784074,0.06855977558782761,-0.39317571645592336,1.818787409656117,0.16000823783392648,-1.2434611238988615,0.511081134462931,1.587383860427019,0.3081870018514402,0.14567651154065986,-0.741600184777107,-0.21620988781502093,0.9098313234674152,0.9025932096658122,-0.5205059023524584,-0.07305715958546434,-0.15760821204976852,0.07037745154270833,-0.11504472818390368,0.0756585617735883,1.5536647405290667,0.23616705043470598,1.5820259289264258,3.273371398867746,-1.5075772265477676,0.26972986831556195,0.02721656626759725,0.10409688610774594,-1.023971521658838,0.22308365980777248,-1.0065375173423037,0.7714284121531372,-0.5531778649396925,1.3759535558272362,-1.0592605355498366,-1.0261547728518359,0.8240680302338254,1.347899630394395,-0.5324076283811398,-0.023191462426795078,-1.1087538888567978,0.16562106697546275,-0.7853546209802792,-1.8334126140374971,-0.1301925298518984],\"type\":\"box\"}],                        {\"legend\":{\"bgcolor\":\"#F5F6F9\",\"font\":{\"color\":\"#4D5663\"}},\"paper_bgcolor\":\"#F5F6F9\",\"plot_bgcolor\":\"#F5F6F9\",\"template\":{\"data\":{\"barpolar\":[{\"marker\":{\"line\":{\"color\":\"#E5ECF6\",\"width\":0.5},\"pattern\":{\"fillmode\":\"overlay\",\"size\":10,\"solidity\":0.2}},\"type\":\"barpolar\"}],\"bar\":[{\"error_x\":{\"color\":\"#2a3f5f\"},\"error_y\":{\"color\":\"#2a3f5f\"},\"marker\":{\"line\":{\"color\":\"#E5ECF6\",\"width\":0.5},\"pattern\":{\"fillmode\":\"overlay\",\"size\":10,\"solidity\":0.2}},\"type\":\"bar\"}],\"carpet\":[{\"aaxis\":{\"endlinecolor\":\"#2a3f5f\",\"gridcolor\":\"white\",\"linecolor\":\"white\",\"minorgridcolor\":\"white\",\"startlinecolor\":\"#2a3f5f\"},\"baxis\":{\"endlinecolor\":\"#2a3f5f\",\"gridcolor\":\"white\",\"linecolor\":\"white\",\"minorgridcolor\":\"white\",\"startlinecolor\":\"#2a3f5f\"},\"type\":\"carpet\"}],\"choropleth\":[{\"colorbar\":{\"outlinewidth\":0,\"ticks\":\"\"},\"type\":\"choropleth\"}],\"contourcarpet\":[{\"colorbar\":{\"outlinewidth\":0,\"ticks\":\"\"},\"type\":\"contourcarpet\"}],\"contour\":[{\"colorbar\":{\"outlinewidth\":0,\"ticks\":\"\"},\"colorscale\":[[0.0,\"#0d0887\"],[0.1111111111111111,\"#46039f\"],[0.2222222222222222,\"#7201a8\"],[0.3333333333333333,\"#9c179e\"],[0.4444444444444444,\"#bd3786\"],[0.5555555555555556,\"#d8576b\"],[0.6666666666666666,\"#ed7953\"],[0.7777777777777778,\"#fb9f3a\"],[0.8888888888888888,\"#fdca26\"],[1.0,\"#f0f921\"]],\"type\":\"contour\"}],\"heatmapgl\":[{\"colorbar\":{\"outlinewidth\":0,\"ticks\":\"\"},\"colorscale\":[[0.0,\"#0d0887\"],[0.1111111111111111,\"#46039f\"],[0.2222222222222222,\"#7201a8\"],[0.3333333333333333,\"#9c179e\"],[0.4444444444444444,\"#bd3786\"],[0.5555555555555556,\"#d8576b\"],[0.6666666666666666,\"#ed7953\"],[0.7777777777777778,\"#fb9f3a\"],[0.8888888888888888,\"#fdca26\"],[1.0,\"#f0f921\"]],\"type\":\"heatmapgl\"}],\"heatmap\":[{\"colorbar\":{\"outlinewidth\":0,\"ticks\":\"\"},\"colorscale\":[[0.0,\"#0d0887\"],[0.1111111111111111,\"#46039f\"],[0.2222222222222222,\"#7201a8\"],[0.3333333333333333,\"#9c179e\"],[0.4444444444444444,\"#bd3786\"],[0.5555555555555556,\"#d8576b\"],[0.6666666666666666,\"#ed7953\"],[0.7777777777777778,\"#fb9f3a\"],[0.8888888888888888,\"#fdca26\"],[1.0,\"#f0f921\"]],\"type\":\"heatmap\"}],\"histogram2dcontour\":[{\"colorbar\":{\"outlinewidth\":0,\"ticks\":\"\"},\"colorscale\":[[0.0,\"#0d0887\"],[0.1111111111111111,\"#46039f\"],[0.2222222222222222,\"#7201a8\"],[0.3333333333333333,\"#9c179e\"],[0.4444444444444444,\"#bd3786\"],[0.5555555555555556,\"#d8576b\"],[0.6666666666666666,\"#ed7953\"],[0.7777777777777778,\"#fb9f3a\"],[0.8888888888888888,\"#fdca26\"],[1.0,\"#f0f921\"]],\"type\":\"histogram2dcontour\"}],\"histogram2d\":[{\"colorbar\":{\"outlinewidth\":0,\"ticks\":\"\"},\"colorscale\":[[0.0,\"#0d0887\"],[0.1111111111111111,\"#46039f\"],[0.2222222222222222,\"#7201a8\"],[0.3333333333333333,\"#9c179e\"],[0.4444444444444444,\"#bd3786\"],[0.5555555555555556,\"#d8576b\"],[0.6666666666666666,\"#ed7953\"],[0.7777777777777778,\"#fb9f3a\"],[0.8888888888888888,\"#fdca26\"],[1.0,\"#f0f921\"]],\"type\":\"histogram2d\"}],\"histogram\":[{\"marker\":{\"pattern\":{\"fillmode\":\"overlay\",\"size\":10,\"solidity\":0.2}},\"type\":\"histogram\"}],\"mesh3d\":[{\"colorbar\":{\"outlinewidth\":0,\"ticks\":\"\"},\"type\":\"mesh3d\"}],\"parcoords\":[{\"line\":{\"colorbar\":{\"outlinewidth\":0,\"ticks\":\"\"}},\"type\":\"parcoords\"}],\"pie\":[{\"automargin\":true,\"type\":\"pie\"}],\"scatter3d\":[{\"line\":{\"colorbar\":{\"outlinewidth\":0,\"ticks\":\"\"}},\"marker\":{\"colorbar\":{\"outlinewidth\":0,\"ticks\":\"\"}},\"type\":\"scatter3d\"}],\"scattercarpet\":[{\"marker\":{\"colorbar\":{\"outlinewidth\":0,\"ticks\":\"\"}},\"type\":\"scattercarpet\"}],\"scattergeo\":[{\"marker\":{\"colorbar\":{\"outlinewidth\":0,\"ticks\":\"\"}},\"type\":\"scattergeo\"}],\"scattergl\":[{\"marker\":{\"colorbar\":{\"outlinewidth\":0,\"ticks\":\"\"}},\"type\":\"scattergl\"}],\"scattermapbox\":[{\"marker\":{\"colorbar\":{\"outlinewidth\":0,\"ticks\":\"\"}},\"type\":\"scattermapbox\"}],\"scatterpolargl\":[{\"marker\":{\"colorbar\":{\"outlinewidth\":0,\"ticks\":\"\"}},\"type\":\"scatterpolargl\"}],\"scatterpolar\":[{\"marker\":{\"colorbar\":{\"outlinewidth\":0,\"ticks\":\"\"}},\"type\":\"scatterpolar\"}],\"scatter\":[{\"fillpattern\":{\"fillmode\":\"overlay\",\"size\":10,\"solidity\":0.2},\"type\":\"scatter\"}],\"scatterternary\":[{\"marker\":{\"colorbar\":{\"outlinewidth\":0,\"ticks\":\"\"}},\"type\":\"scatterternary\"}],\"surface\":[{\"colorbar\":{\"outlinewidth\":0,\"ticks\":\"\"},\"colorscale\":[[0.0,\"#0d0887\"],[0.1111111111111111,\"#46039f\"],[0.2222222222222222,\"#7201a8\"],[0.3333333333333333,\"#9c179e\"],[0.4444444444444444,\"#bd3786\"],[0.5555555555555556,\"#d8576b\"],[0.6666666666666666,\"#ed7953\"],[0.7777777777777778,\"#fb9f3a\"],[0.8888888888888888,\"#fdca26\"],[1.0,\"#f0f921\"]],\"type\":\"surface\"}],\"table\":[{\"cells\":{\"fill\":{\"color\":\"#EBF0F8\"},\"line\":{\"color\":\"white\"}},\"header\":{\"fill\":{\"color\":\"#C8D4E3\"},\"line\":{\"color\":\"white\"}},\"type\":\"table\"}]},\"layout\":{\"annotationdefaults\":{\"arrowcolor\":\"#2a3f5f\",\"arrowhead\":0,\"arrowwidth\":1},\"autotypenumbers\":\"strict\",\"coloraxis\":{\"colorbar\":{\"outlinewidth\":0,\"ticks\":\"\"}},\"colorscale\":{\"diverging\":[[0,\"#8e0152\"],[0.1,\"#c51b7d\"],[0.2,\"#de77ae\"],[0.3,\"#f1b6da\"],[0.4,\"#fde0ef\"],[0.5,\"#f7f7f7\"],[0.6,\"#e6f5d0\"],[0.7,\"#b8e186\"],[0.8,\"#7fbc41\"],[0.9,\"#4d9221\"],[1,\"#276419\"]],\"sequential\":[[0.0,\"#0d0887\"],[0.1111111111111111,\"#46039f\"],[0.2222222222222222,\"#7201a8\"],[0.3333333333333333,\"#9c179e\"],[0.4444444444444444,\"#bd3786\"],[0.5555555555555556,\"#d8576b\"],[0.6666666666666666,\"#ed7953\"],[0.7777777777777778,\"#fb9f3a\"],[0.8888888888888888,\"#fdca26\"],[1.0,\"#f0f921\"]],\"sequentialminus\":[[0.0,\"#0d0887\"],[0.1111111111111111,\"#46039f\"],[0.2222222222222222,\"#7201a8\"],[0.3333333333333333,\"#9c179e\"],[0.4444444444444444,\"#bd3786\"],[0.5555555555555556,\"#d8576b\"],[0.6666666666666666,\"#ed7953\"],[0.7777777777777778,\"#fb9f3a\"],[0.8888888888888888,\"#fdca26\"],[1.0,\"#f0f921\"]]},\"colorway\":[\"#636efa\",\"#EF553B\",\"#00cc96\",\"#ab63fa\",\"#FFA15A\",\"#19d3f3\",\"#FF6692\",\"#B6E880\",\"#FF97FF\",\"#FECB52\"],\"font\":{\"color\":\"#2a3f5f\"},\"geo\":{\"bgcolor\":\"white\",\"lakecolor\":\"white\",\"landcolor\":\"#E5ECF6\",\"showlakes\":true,\"showland\":true,\"subunitcolor\":\"white\"},\"hoverlabel\":{\"align\":\"left\"},\"hovermode\":\"closest\",\"mapbox\":{\"style\":\"light\"},\"paper_bgcolor\":\"white\",\"plot_bgcolor\":\"#E5ECF6\",\"polar\":{\"angularaxis\":{\"gridcolor\":\"white\",\"linecolor\":\"white\",\"ticks\":\"\"},\"bgcolor\":\"#E5ECF6\",\"radialaxis\":{\"gridcolor\":\"white\",\"linecolor\":\"white\",\"ticks\":\"\"}},\"scene\":{\"xaxis\":{\"backgroundcolor\":\"#E5ECF6\",\"gridcolor\":\"white\",\"gridwidth\":2,\"linecolor\":\"white\",\"showbackground\":true,\"ticks\":\"\",\"zerolinecolor\":\"white\"},\"yaxis\":{\"backgroundcolor\":\"#E5ECF6\",\"gridcolor\":\"white\",\"gridwidth\":2,\"linecolor\":\"white\",\"showbackground\":true,\"ticks\":\"\",\"zerolinecolor\":\"white\"},\"zaxis\":{\"backgroundcolor\":\"#E5ECF6\",\"gridcolor\":\"white\",\"gridwidth\":2,\"linecolor\":\"white\",\"showbackground\":true,\"ticks\":\"\",\"zerolinecolor\":\"white\"}},\"shapedefaults\":{\"line\":{\"color\":\"#2a3f5f\"}},\"ternary\":{\"aaxis\":{\"gridcolor\":\"white\",\"linecolor\":\"white\",\"ticks\":\"\"},\"baxis\":{\"gridcolor\":\"white\",\"linecolor\":\"white\",\"ticks\":\"\"},\"bgcolor\":\"#E5ECF6\",\"caxis\":{\"gridcolor\":\"white\",\"linecolor\":\"white\",\"ticks\":\"\"}},\"title\":{\"x\":0.05},\"xaxis\":{\"automargin\":true,\"gridcolor\":\"white\",\"linecolor\":\"white\",\"ticks\":\"\",\"title\":{\"standoff\":15},\"zerolinecolor\":\"white\",\"zerolinewidth\":2},\"yaxis\":{\"automargin\":true,\"gridcolor\":\"white\",\"linecolor\":\"white\",\"ticks\":\"\",\"title\":{\"standoff\":15},\"zerolinecolor\":\"white\",\"zerolinewidth\":2}}},\"title\":{\"font\":{\"color\":\"#4D5663\"}},\"xaxis\":{\"gridcolor\":\"#E1E5ED\",\"showgrid\":true,\"tickfont\":{\"color\":\"#4D5663\"},\"title\":{\"font\":{\"color\":\"#4D5663\"},\"text\":\"\"},\"zerolinecolor\":\"#E1E5ED\"},\"yaxis\":{\"gridcolor\":\"#E1E5ED\",\"showgrid\":true,\"tickfont\":{\"color\":\"#4D5663\"},\"title\":{\"font\":{\"color\":\"#4D5663\"},\"text\":\"\"},\"zerolinecolor\":\"#E1E5ED\"}},                        {\"showLink\": true, \"linkText\": \"Export to plot.ly\", \"plotlyServerURL\": \"https://plot.ly\", \"responsive\": true}                    ).then(function(){\n",
       "                            \n",
       "var gd = document.getElementById('c544df4f-b4bf-4be4-a81e-ea07ba673a15');\n",
       "var x = new MutationObserver(function (mutations, observer) {{\n",
       "        var display = window.getComputedStyle(gd).display;\n",
       "        if (!display || display === 'none') {{\n",
       "            console.log([gd, 'removed!']);\n",
       "            Plotly.purge(gd);\n",
       "            observer.disconnect();\n",
       "        }}\n",
       "}});\n",
       "\n",
       "// Listen for the removal of the full notebook cells\n",
       "var notebookContainer = gd.closest('#notebook-container');\n",
       "if (notebookContainer) {{\n",
       "    x.observe(notebookContainer, {childList: true});\n",
       "}}\n",
       "\n",
       "// Listen for the clearing of the current output cell\n",
       "var outputEl = gd.closest('.output');\n",
       "if (outputEl) {{\n",
       "    x.observe(outputEl, {childList: true});\n",
       "}}\n",
       "\n",
       "                        })                };                });            </script>        </div>"
      ]
     },
     "metadata": {},
     "output_type": "display_data"
    }
   ],
   "source": [
    "# Box plots\n",
    "df.iplot(kind='box')"
   ]
  },
  {
   "cell_type": "code",
   "execution_count": 16,
   "metadata": {},
   "outputs": [],
   "source": [
    "# 3D surface plot\n",
    "# Let's create a another random datframe\n",
    "df3 = pd.DataFrame({'x':[1,2,3,4,5], 'y':[10,20,30,20,10], 'z':[500,400,300,200,100]})\n",
    "df4 = pd.DataFrame({'x':[1,2,3,4,5], 'y':[10,20,30,20,10], 'z':[1,2,3,4,5]})"
   ]
  },
  {
   "cell_type": "code",
   "execution_count": 17,
   "metadata": {},
   "outputs": [
    {
     "data": {
      "text/html": [
       "<div>\n",
       "<style scoped>\n",
       "    .dataframe tbody tr th:only-of-type {\n",
       "        vertical-align: middle;\n",
       "    }\n",
       "\n",
       "    .dataframe tbody tr th {\n",
       "        vertical-align: top;\n",
       "    }\n",
       "\n",
       "    .dataframe thead th {\n",
       "        text-align: right;\n",
       "    }\n",
       "</style>\n",
       "<table border=\"1\" class=\"dataframe\">\n",
       "  <thead>\n",
       "    <tr style=\"text-align: right;\">\n",
       "      <th></th>\n",
       "      <th>x</th>\n",
       "      <th>y</th>\n",
       "      <th>z</th>\n",
       "    </tr>\n",
       "  </thead>\n",
       "  <tbody>\n",
       "    <tr>\n",
       "      <th>0</th>\n",
       "      <td>1</td>\n",
       "      <td>10</td>\n",
       "      <td>500</td>\n",
       "    </tr>\n",
       "    <tr>\n",
       "      <th>1</th>\n",
       "      <td>2</td>\n",
       "      <td>20</td>\n",
       "      <td>400</td>\n",
       "    </tr>\n",
       "    <tr>\n",
       "      <th>2</th>\n",
       "      <td>3</td>\n",
       "      <td>30</td>\n",
       "      <td>300</td>\n",
       "    </tr>\n",
       "    <tr>\n",
       "      <th>3</th>\n",
       "      <td>4</td>\n",
       "      <td>20</td>\n",
       "      <td>200</td>\n",
       "    </tr>\n",
       "    <tr>\n",
       "      <th>4</th>\n",
       "      <td>5</td>\n",
       "      <td>10</td>\n",
       "      <td>100</td>\n",
       "    </tr>\n",
       "  </tbody>\n",
       "</table>\n",
       "</div>"
      ],
      "text/plain": [
       "   x   y    z\n",
       "0  1  10  500\n",
       "1  2  20  400\n",
       "2  3  30  300\n",
       "3  4  20  200\n",
       "4  5  10  100"
      ]
     },
     "execution_count": 17,
     "metadata": {},
     "output_type": "execute_result"
    }
   ],
   "source": [
    "df3"
   ]
  },
  {
   "cell_type": "code",
   "execution_count": 18,
   "metadata": {},
   "outputs": [
    {
     "data": {
      "application/vnd.plotly.v1+json": {
       "config": {
        "linkText": "Export to plot.ly",
        "plotlyServerURL": "https://plot.ly",
        "showLink": true
       },
       "data": [
        {
         "colorscale": [
          [
           0,
           "rgb(255, 153, 51)"
          ],
          [
           0.1111111111111111,
           "rgb(55, 128, 191)"
          ],
          [
           0.2222222222222222,
           "rgb(50, 171, 96)"
          ],
          [
           0.3333333333333333,
           "rgb(128, 0, 128)"
          ],
          [
           0.4444444444444444,
           "rgb(219, 64, 82)"
          ],
          [
           0.5555555555555556,
           "rgb(0, 128, 128)"
          ],
          [
           0.6666666666666666,
           "rgb(255, 255, 51)"
          ],
          [
           0.7777777777777778,
           "rgb(128, 128, 0)"
          ],
          [
           0.8888888888888888,
           "rgb(251, 128, 114)"
          ],
          [
           1,
           "rgb(128, 177, 211)"
          ]
         ],
         "type": "surface",
         "x": [
          0,
          1,
          2,
          3,
          4
         ],
         "y": [
          "x",
          "y",
          "z"
         ],
         "z": [
          [
           1,
           2,
           3,
           4,
           5
          ],
          [
           10,
           20,
           30,
           20,
           10
          ],
          [
           500,
           400,
           300,
           200,
           100
          ]
         ]
        }
       ],
       "layout": {
        "legend": {
         "bgcolor": "#F5F6F9",
         "font": {
          "color": "#4D5663"
         }
        },
        "paper_bgcolor": "#F5F6F9",
        "plot_bgcolor": "#F5F6F9",
        "template": {
         "data": {
          "bar": [
           {
            "error_x": {
             "color": "#2a3f5f"
            },
            "error_y": {
             "color": "#2a3f5f"
            },
            "marker": {
             "line": {
              "color": "#E5ECF6",
              "width": 0.5
             },
             "pattern": {
              "fillmode": "overlay",
              "size": 10,
              "solidity": 0.2
             }
            },
            "type": "bar"
           }
          ],
          "barpolar": [
           {
            "marker": {
             "line": {
              "color": "#E5ECF6",
              "width": 0.5
             },
             "pattern": {
              "fillmode": "overlay",
              "size": 10,
              "solidity": 0.2
             }
            },
            "type": "barpolar"
           }
          ],
          "carpet": [
           {
            "aaxis": {
             "endlinecolor": "#2a3f5f",
             "gridcolor": "white",
             "linecolor": "white",
             "minorgridcolor": "white",
             "startlinecolor": "#2a3f5f"
            },
            "baxis": {
             "endlinecolor": "#2a3f5f",
             "gridcolor": "white",
             "linecolor": "white",
             "minorgridcolor": "white",
             "startlinecolor": "#2a3f5f"
            },
            "type": "carpet"
           }
          ],
          "choropleth": [
           {
            "colorbar": {
             "outlinewidth": 0,
             "ticks": ""
            },
            "type": "choropleth"
           }
          ],
          "contour": [
           {
            "colorbar": {
             "outlinewidth": 0,
             "ticks": ""
            },
            "colorscale": [
             [
              0,
              "#0d0887"
             ],
             [
              0.1111111111111111,
              "#46039f"
             ],
             [
              0.2222222222222222,
              "#7201a8"
             ],
             [
              0.3333333333333333,
              "#9c179e"
             ],
             [
              0.4444444444444444,
              "#bd3786"
             ],
             [
              0.5555555555555556,
              "#d8576b"
             ],
             [
              0.6666666666666666,
              "#ed7953"
             ],
             [
              0.7777777777777778,
              "#fb9f3a"
             ],
             [
              0.8888888888888888,
              "#fdca26"
             ],
             [
              1,
              "#f0f921"
             ]
            ],
            "type": "contour"
           }
          ],
          "contourcarpet": [
           {
            "colorbar": {
             "outlinewidth": 0,
             "ticks": ""
            },
            "type": "contourcarpet"
           }
          ],
          "heatmap": [
           {
            "colorbar": {
             "outlinewidth": 0,
             "ticks": ""
            },
            "colorscale": [
             [
              0,
              "#0d0887"
             ],
             [
              0.1111111111111111,
              "#46039f"
             ],
             [
              0.2222222222222222,
              "#7201a8"
             ],
             [
              0.3333333333333333,
              "#9c179e"
             ],
             [
              0.4444444444444444,
              "#bd3786"
             ],
             [
              0.5555555555555556,
              "#d8576b"
             ],
             [
              0.6666666666666666,
              "#ed7953"
             ],
             [
              0.7777777777777778,
              "#fb9f3a"
             ],
             [
              0.8888888888888888,
              "#fdca26"
             ],
             [
              1,
              "#f0f921"
             ]
            ],
            "type": "heatmap"
           }
          ],
          "heatmapgl": [
           {
            "colorbar": {
             "outlinewidth": 0,
             "ticks": ""
            },
            "colorscale": [
             [
              0,
              "#0d0887"
             ],
             [
              0.1111111111111111,
              "#46039f"
             ],
             [
              0.2222222222222222,
              "#7201a8"
             ],
             [
              0.3333333333333333,
              "#9c179e"
             ],
             [
              0.4444444444444444,
              "#bd3786"
             ],
             [
              0.5555555555555556,
              "#d8576b"
             ],
             [
              0.6666666666666666,
              "#ed7953"
             ],
             [
              0.7777777777777778,
              "#fb9f3a"
             ],
             [
              0.8888888888888888,
              "#fdca26"
             ],
             [
              1,
              "#f0f921"
             ]
            ],
            "type": "heatmapgl"
           }
          ],
          "histogram": [
           {
            "marker": {
             "pattern": {
              "fillmode": "overlay",
              "size": 10,
              "solidity": 0.2
             }
            },
            "type": "histogram"
           }
          ],
          "histogram2d": [
           {
            "colorbar": {
             "outlinewidth": 0,
             "ticks": ""
            },
            "colorscale": [
             [
              0,
              "#0d0887"
             ],
             [
              0.1111111111111111,
              "#46039f"
             ],
             [
              0.2222222222222222,
              "#7201a8"
             ],
             [
              0.3333333333333333,
              "#9c179e"
             ],
             [
              0.4444444444444444,
              "#bd3786"
             ],
             [
              0.5555555555555556,
              "#d8576b"
             ],
             [
              0.6666666666666666,
              "#ed7953"
             ],
             [
              0.7777777777777778,
              "#fb9f3a"
             ],
             [
              0.8888888888888888,
              "#fdca26"
             ],
             [
              1,
              "#f0f921"
             ]
            ],
            "type": "histogram2d"
           }
          ],
          "histogram2dcontour": [
           {
            "colorbar": {
             "outlinewidth": 0,
             "ticks": ""
            },
            "colorscale": [
             [
              0,
              "#0d0887"
             ],
             [
              0.1111111111111111,
              "#46039f"
             ],
             [
              0.2222222222222222,
              "#7201a8"
             ],
             [
              0.3333333333333333,
              "#9c179e"
             ],
             [
              0.4444444444444444,
              "#bd3786"
             ],
             [
              0.5555555555555556,
              "#d8576b"
             ],
             [
              0.6666666666666666,
              "#ed7953"
             ],
             [
              0.7777777777777778,
              "#fb9f3a"
             ],
             [
              0.8888888888888888,
              "#fdca26"
             ],
             [
              1,
              "#f0f921"
             ]
            ],
            "type": "histogram2dcontour"
           }
          ],
          "mesh3d": [
           {
            "colorbar": {
             "outlinewidth": 0,
             "ticks": ""
            },
            "type": "mesh3d"
           }
          ],
          "parcoords": [
           {
            "line": {
             "colorbar": {
              "outlinewidth": 0,
              "ticks": ""
             }
            },
            "type": "parcoords"
           }
          ],
          "pie": [
           {
            "automargin": true,
            "type": "pie"
           }
          ],
          "scatter": [
           {
            "fillpattern": {
             "fillmode": "overlay",
             "size": 10,
             "solidity": 0.2
            },
            "type": "scatter"
           }
          ],
          "scatter3d": [
           {
            "line": {
             "colorbar": {
              "outlinewidth": 0,
              "ticks": ""
             }
            },
            "marker": {
             "colorbar": {
              "outlinewidth": 0,
              "ticks": ""
             }
            },
            "type": "scatter3d"
           }
          ],
          "scattercarpet": [
           {
            "marker": {
             "colorbar": {
              "outlinewidth": 0,
              "ticks": ""
             }
            },
            "type": "scattercarpet"
           }
          ],
          "scattergeo": [
           {
            "marker": {
             "colorbar": {
              "outlinewidth": 0,
              "ticks": ""
             }
            },
            "type": "scattergeo"
           }
          ],
          "scattergl": [
           {
            "marker": {
             "colorbar": {
              "outlinewidth": 0,
              "ticks": ""
             }
            },
            "type": "scattergl"
           }
          ],
          "scattermapbox": [
           {
            "marker": {
             "colorbar": {
              "outlinewidth": 0,
              "ticks": ""
             }
            },
            "type": "scattermapbox"
           }
          ],
          "scatterpolar": [
           {
            "marker": {
             "colorbar": {
              "outlinewidth": 0,
              "ticks": ""
             }
            },
            "type": "scatterpolar"
           }
          ],
          "scatterpolargl": [
           {
            "marker": {
             "colorbar": {
              "outlinewidth": 0,
              "ticks": ""
             }
            },
            "type": "scatterpolargl"
           }
          ],
          "scatterternary": [
           {
            "marker": {
             "colorbar": {
              "outlinewidth": 0,
              "ticks": ""
             }
            },
            "type": "scatterternary"
           }
          ],
          "surface": [
           {
            "colorbar": {
             "outlinewidth": 0,
             "ticks": ""
            },
            "colorscale": [
             [
              0,
              "#0d0887"
             ],
             [
              0.1111111111111111,
              "#46039f"
             ],
             [
              0.2222222222222222,
              "#7201a8"
             ],
             [
              0.3333333333333333,
              "#9c179e"
             ],
             [
              0.4444444444444444,
              "#bd3786"
             ],
             [
              0.5555555555555556,
              "#d8576b"
             ],
             [
              0.6666666666666666,
              "#ed7953"
             ],
             [
              0.7777777777777778,
              "#fb9f3a"
             ],
             [
              0.8888888888888888,
              "#fdca26"
             ],
             [
              1,
              "#f0f921"
             ]
            ],
            "type": "surface"
           }
          ],
          "table": [
           {
            "cells": {
             "fill": {
              "color": "#EBF0F8"
             },
             "line": {
              "color": "white"
             }
            },
            "header": {
             "fill": {
              "color": "#C8D4E3"
             },
             "line": {
              "color": "white"
             }
            },
            "type": "table"
           }
          ]
         },
         "layout": {
          "annotationdefaults": {
           "arrowcolor": "#2a3f5f",
           "arrowhead": 0,
           "arrowwidth": 1
          },
          "autotypenumbers": "strict",
          "coloraxis": {
           "colorbar": {
            "outlinewidth": 0,
            "ticks": ""
           }
          },
          "colorscale": {
           "diverging": [
            [
             0,
             "#8e0152"
            ],
            [
             0.1,
             "#c51b7d"
            ],
            [
             0.2,
             "#de77ae"
            ],
            [
             0.3,
             "#f1b6da"
            ],
            [
             0.4,
             "#fde0ef"
            ],
            [
             0.5,
             "#f7f7f7"
            ],
            [
             0.6,
             "#e6f5d0"
            ],
            [
             0.7,
             "#b8e186"
            ],
            [
             0.8,
             "#7fbc41"
            ],
            [
             0.9,
             "#4d9221"
            ],
            [
             1,
             "#276419"
            ]
           ],
           "sequential": [
            [
             0,
             "#0d0887"
            ],
            [
             0.1111111111111111,
             "#46039f"
            ],
            [
             0.2222222222222222,
             "#7201a8"
            ],
            [
             0.3333333333333333,
             "#9c179e"
            ],
            [
             0.4444444444444444,
             "#bd3786"
            ],
            [
             0.5555555555555556,
             "#d8576b"
            ],
            [
             0.6666666666666666,
             "#ed7953"
            ],
            [
             0.7777777777777778,
             "#fb9f3a"
            ],
            [
             0.8888888888888888,
             "#fdca26"
            ],
            [
             1,
             "#f0f921"
            ]
           ],
           "sequentialminus": [
            [
             0,
             "#0d0887"
            ],
            [
             0.1111111111111111,
             "#46039f"
            ],
            [
             0.2222222222222222,
             "#7201a8"
            ],
            [
             0.3333333333333333,
             "#9c179e"
            ],
            [
             0.4444444444444444,
             "#bd3786"
            ],
            [
             0.5555555555555556,
             "#d8576b"
            ],
            [
             0.6666666666666666,
             "#ed7953"
            ],
            [
             0.7777777777777778,
             "#fb9f3a"
            ],
            [
             0.8888888888888888,
             "#fdca26"
            ],
            [
             1,
             "#f0f921"
            ]
           ]
          },
          "colorway": [
           "#636efa",
           "#EF553B",
           "#00cc96",
           "#ab63fa",
           "#FFA15A",
           "#19d3f3",
           "#FF6692",
           "#B6E880",
           "#FF97FF",
           "#FECB52"
          ],
          "font": {
           "color": "#2a3f5f"
          },
          "geo": {
           "bgcolor": "white",
           "lakecolor": "white",
           "landcolor": "#E5ECF6",
           "showlakes": true,
           "showland": true,
           "subunitcolor": "white"
          },
          "hoverlabel": {
           "align": "left"
          },
          "hovermode": "closest",
          "mapbox": {
           "style": "light"
          },
          "paper_bgcolor": "white",
          "plot_bgcolor": "#E5ECF6",
          "polar": {
           "angularaxis": {
            "gridcolor": "white",
            "linecolor": "white",
            "ticks": ""
           },
           "bgcolor": "#E5ECF6",
           "radialaxis": {
            "gridcolor": "white",
            "linecolor": "white",
            "ticks": ""
           }
          },
          "scene": {
           "xaxis": {
            "backgroundcolor": "#E5ECF6",
            "gridcolor": "white",
            "gridwidth": 2,
            "linecolor": "white",
            "showbackground": true,
            "ticks": "",
            "zerolinecolor": "white"
           },
           "yaxis": {
            "backgroundcolor": "#E5ECF6",
            "gridcolor": "white",
            "gridwidth": 2,
            "linecolor": "white",
            "showbackground": true,
            "ticks": "",
            "zerolinecolor": "white"
           },
           "zaxis": {
            "backgroundcolor": "#E5ECF6",
            "gridcolor": "white",
            "gridwidth": 2,
            "linecolor": "white",
            "showbackground": true,
            "ticks": "",
            "zerolinecolor": "white"
           }
          },
          "shapedefaults": {
           "line": {
            "color": "#2a3f5f"
           }
          },
          "ternary": {
           "aaxis": {
            "gridcolor": "white",
            "linecolor": "white",
            "ticks": ""
           },
           "baxis": {
            "gridcolor": "white",
            "linecolor": "white",
            "ticks": ""
           },
           "bgcolor": "#E5ECF6",
           "caxis": {
            "gridcolor": "white",
            "linecolor": "white",
            "ticks": ""
           }
          },
          "title": {
           "x": 0.05
          },
          "xaxis": {
           "automargin": true,
           "gridcolor": "white",
           "linecolor": "white",
           "ticks": "",
           "title": {
            "standoff": 15
           },
           "zerolinecolor": "white",
           "zerolinewidth": 2
          },
          "yaxis": {
           "automargin": true,
           "gridcolor": "white",
           "linecolor": "white",
           "ticks": "",
           "title": {
            "standoff": 15
           },
           "zerolinecolor": "white",
           "zerolinewidth": 2
          }
         }
        },
        "title": {
         "font": {
          "color": "#4D5663"
         }
        },
        "xaxis": {
         "gridcolor": "#E1E5ED",
         "showgrid": true,
         "tickfont": {
          "color": "#4D5663"
         },
         "title": {
          "font": {
           "color": "#4D5663"
          },
          "text": ""
         },
         "zerolinecolor": "#E1E5ED"
        },
        "yaxis": {
         "gridcolor": "#E1E5ED",
         "showgrid": true,
         "tickfont": {
          "color": "#4D5663"
         },
         "title": {
          "font": {
           "color": "#4D5663"
          },
          "text": ""
         },
         "zerolinecolor": "#E1E5ED"
        }
       }
      },
      "text/html": [
       "<div>                            <div id=\"bfdf3307-e43c-4020-9222-79c1f73c6b2d\" class=\"plotly-graph-div\" style=\"height:525px; width:100%;\"></div>            <script type=\"text/javascript\">                require([\"plotly\"], function(Plotly) {                    window.PLOTLYENV=window.PLOTLYENV || {};\n",
       "                    window.PLOTLYENV.BASE_URL='https://plot.ly';                                    if (document.getElementById(\"bfdf3307-e43c-4020-9222-79c1f73c6b2d\")) {                    Plotly.newPlot(                        \"bfdf3307-e43c-4020-9222-79c1f73c6b2d\",                        [{\"colorscale\":[[0.0,\"rgb(255, 153, 51)\"],[0.1111111111111111,\"rgb(55, 128, 191)\"],[0.2222222222222222,\"rgb(50, 171, 96)\"],[0.3333333333333333,\"rgb(128, 0, 128)\"],[0.4444444444444444,\"rgb(219, 64, 82)\"],[0.5555555555555556,\"rgb(0, 128, 128)\"],[0.6666666666666666,\"rgb(255, 255, 51)\"],[0.7777777777777778,\"rgb(128, 128, 0)\"],[0.8888888888888888,\"rgb(251, 128, 114)\"],[1.0,\"rgb(128, 177, 211)\"]],\"x\":[0,1,2,3,4],\"y\":[\"x\",\"y\",\"z\"],\"z\":[[1,2,3,4,5],[10,20,30,20,10],[500,400,300,200,100]],\"type\":\"surface\"}],                        {\"legend\":{\"bgcolor\":\"#F5F6F9\",\"font\":{\"color\":\"#4D5663\"}},\"paper_bgcolor\":\"#F5F6F9\",\"plot_bgcolor\":\"#F5F6F9\",\"template\":{\"data\":{\"barpolar\":[{\"marker\":{\"line\":{\"color\":\"#E5ECF6\",\"width\":0.5},\"pattern\":{\"fillmode\":\"overlay\",\"size\":10,\"solidity\":0.2}},\"type\":\"barpolar\"}],\"bar\":[{\"error_x\":{\"color\":\"#2a3f5f\"},\"error_y\":{\"color\":\"#2a3f5f\"},\"marker\":{\"line\":{\"color\":\"#E5ECF6\",\"width\":0.5},\"pattern\":{\"fillmode\":\"overlay\",\"size\":10,\"solidity\":0.2}},\"type\":\"bar\"}],\"carpet\":[{\"aaxis\":{\"endlinecolor\":\"#2a3f5f\",\"gridcolor\":\"white\",\"linecolor\":\"white\",\"minorgridcolor\":\"white\",\"startlinecolor\":\"#2a3f5f\"},\"baxis\":{\"endlinecolor\":\"#2a3f5f\",\"gridcolor\":\"white\",\"linecolor\":\"white\",\"minorgridcolor\":\"white\",\"startlinecolor\":\"#2a3f5f\"},\"type\":\"carpet\"}],\"choropleth\":[{\"colorbar\":{\"outlinewidth\":0,\"ticks\":\"\"},\"type\":\"choropleth\"}],\"contourcarpet\":[{\"colorbar\":{\"outlinewidth\":0,\"ticks\":\"\"},\"type\":\"contourcarpet\"}],\"contour\":[{\"colorbar\":{\"outlinewidth\":0,\"ticks\":\"\"},\"colorscale\":[[0.0,\"#0d0887\"],[0.1111111111111111,\"#46039f\"],[0.2222222222222222,\"#7201a8\"],[0.3333333333333333,\"#9c179e\"],[0.4444444444444444,\"#bd3786\"],[0.5555555555555556,\"#d8576b\"],[0.6666666666666666,\"#ed7953\"],[0.7777777777777778,\"#fb9f3a\"],[0.8888888888888888,\"#fdca26\"],[1.0,\"#f0f921\"]],\"type\":\"contour\"}],\"heatmapgl\":[{\"colorbar\":{\"outlinewidth\":0,\"ticks\":\"\"},\"colorscale\":[[0.0,\"#0d0887\"],[0.1111111111111111,\"#46039f\"],[0.2222222222222222,\"#7201a8\"],[0.3333333333333333,\"#9c179e\"],[0.4444444444444444,\"#bd3786\"],[0.5555555555555556,\"#d8576b\"],[0.6666666666666666,\"#ed7953\"],[0.7777777777777778,\"#fb9f3a\"],[0.8888888888888888,\"#fdca26\"],[1.0,\"#f0f921\"]],\"type\":\"heatmapgl\"}],\"heatmap\":[{\"colorbar\":{\"outlinewidth\":0,\"ticks\":\"\"},\"colorscale\":[[0.0,\"#0d0887\"],[0.1111111111111111,\"#46039f\"],[0.2222222222222222,\"#7201a8\"],[0.3333333333333333,\"#9c179e\"],[0.4444444444444444,\"#bd3786\"],[0.5555555555555556,\"#d8576b\"],[0.6666666666666666,\"#ed7953\"],[0.7777777777777778,\"#fb9f3a\"],[0.8888888888888888,\"#fdca26\"],[1.0,\"#f0f921\"]],\"type\":\"heatmap\"}],\"histogram2dcontour\":[{\"colorbar\":{\"outlinewidth\":0,\"ticks\":\"\"},\"colorscale\":[[0.0,\"#0d0887\"],[0.1111111111111111,\"#46039f\"],[0.2222222222222222,\"#7201a8\"],[0.3333333333333333,\"#9c179e\"],[0.4444444444444444,\"#bd3786\"],[0.5555555555555556,\"#d8576b\"],[0.6666666666666666,\"#ed7953\"],[0.7777777777777778,\"#fb9f3a\"],[0.8888888888888888,\"#fdca26\"],[1.0,\"#f0f921\"]],\"type\":\"histogram2dcontour\"}],\"histogram2d\":[{\"colorbar\":{\"outlinewidth\":0,\"ticks\":\"\"},\"colorscale\":[[0.0,\"#0d0887\"],[0.1111111111111111,\"#46039f\"],[0.2222222222222222,\"#7201a8\"],[0.3333333333333333,\"#9c179e\"],[0.4444444444444444,\"#bd3786\"],[0.5555555555555556,\"#d8576b\"],[0.6666666666666666,\"#ed7953\"],[0.7777777777777778,\"#fb9f3a\"],[0.8888888888888888,\"#fdca26\"],[1.0,\"#f0f921\"]],\"type\":\"histogram2d\"}],\"histogram\":[{\"marker\":{\"pattern\":{\"fillmode\":\"overlay\",\"size\":10,\"solidity\":0.2}},\"type\":\"histogram\"}],\"mesh3d\":[{\"colorbar\":{\"outlinewidth\":0,\"ticks\":\"\"},\"type\":\"mesh3d\"}],\"parcoords\":[{\"line\":{\"colorbar\":{\"outlinewidth\":0,\"ticks\":\"\"}},\"type\":\"parcoords\"}],\"pie\":[{\"automargin\":true,\"type\":\"pie\"}],\"scatter3d\":[{\"line\":{\"colorbar\":{\"outlinewidth\":0,\"ticks\":\"\"}},\"marker\":{\"colorbar\":{\"outlinewidth\":0,\"ticks\":\"\"}},\"type\":\"scatter3d\"}],\"scattercarpet\":[{\"marker\":{\"colorbar\":{\"outlinewidth\":0,\"ticks\":\"\"}},\"type\":\"scattercarpet\"}],\"scattergeo\":[{\"marker\":{\"colorbar\":{\"outlinewidth\":0,\"ticks\":\"\"}},\"type\":\"scattergeo\"}],\"scattergl\":[{\"marker\":{\"colorbar\":{\"outlinewidth\":0,\"ticks\":\"\"}},\"type\":\"scattergl\"}],\"scattermapbox\":[{\"marker\":{\"colorbar\":{\"outlinewidth\":0,\"ticks\":\"\"}},\"type\":\"scattermapbox\"}],\"scatterpolargl\":[{\"marker\":{\"colorbar\":{\"outlinewidth\":0,\"ticks\":\"\"}},\"type\":\"scatterpolargl\"}],\"scatterpolar\":[{\"marker\":{\"colorbar\":{\"outlinewidth\":0,\"ticks\":\"\"}},\"type\":\"scatterpolar\"}],\"scatter\":[{\"fillpattern\":{\"fillmode\":\"overlay\",\"size\":10,\"solidity\":0.2},\"type\":\"scatter\"}],\"scatterternary\":[{\"marker\":{\"colorbar\":{\"outlinewidth\":0,\"ticks\":\"\"}},\"type\":\"scatterternary\"}],\"surface\":[{\"colorbar\":{\"outlinewidth\":0,\"ticks\":\"\"},\"colorscale\":[[0.0,\"#0d0887\"],[0.1111111111111111,\"#46039f\"],[0.2222222222222222,\"#7201a8\"],[0.3333333333333333,\"#9c179e\"],[0.4444444444444444,\"#bd3786\"],[0.5555555555555556,\"#d8576b\"],[0.6666666666666666,\"#ed7953\"],[0.7777777777777778,\"#fb9f3a\"],[0.8888888888888888,\"#fdca26\"],[1.0,\"#f0f921\"]],\"type\":\"surface\"}],\"table\":[{\"cells\":{\"fill\":{\"color\":\"#EBF0F8\"},\"line\":{\"color\":\"white\"}},\"header\":{\"fill\":{\"color\":\"#C8D4E3\"},\"line\":{\"color\":\"white\"}},\"type\":\"table\"}]},\"layout\":{\"annotationdefaults\":{\"arrowcolor\":\"#2a3f5f\",\"arrowhead\":0,\"arrowwidth\":1},\"autotypenumbers\":\"strict\",\"coloraxis\":{\"colorbar\":{\"outlinewidth\":0,\"ticks\":\"\"}},\"colorscale\":{\"diverging\":[[0,\"#8e0152\"],[0.1,\"#c51b7d\"],[0.2,\"#de77ae\"],[0.3,\"#f1b6da\"],[0.4,\"#fde0ef\"],[0.5,\"#f7f7f7\"],[0.6,\"#e6f5d0\"],[0.7,\"#b8e186\"],[0.8,\"#7fbc41\"],[0.9,\"#4d9221\"],[1,\"#276419\"]],\"sequential\":[[0.0,\"#0d0887\"],[0.1111111111111111,\"#46039f\"],[0.2222222222222222,\"#7201a8\"],[0.3333333333333333,\"#9c179e\"],[0.4444444444444444,\"#bd3786\"],[0.5555555555555556,\"#d8576b\"],[0.6666666666666666,\"#ed7953\"],[0.7777777777777778,\"#fb9f3a\"],[0.8888888888888888,\"#fdca26\"],[1.0,\"#f0f921\"]],\"sequentialminus\":[[0.0,\"#0d0887\"],[0.1111111111111111,\"#46039f\"],[0.2222222222222222,\"#7201a8\"],[0.3333333333333333,\"#9c179e\"],[0.4444444444444444,\"#bd3786\"],[0.5555555555555556,\"#d8576b\"],[0.6666666666666666,\"#ed7953\"],[0.7777777777777778,\"#fb9f3a\"],[0.8888888888888888,\"#fdca26\"],[1.0,\"#f0f921\"]]},\"colorway\":[\"#636efa\",\"#EF553B\",\"#00cc96\",\"#ab63fa\",\"#FFA15A\",\"#19d3f3\",\"#FF6692\",\"#B6E880\",\"#FF97FF\",\"#FECB52\"],\"font\":{\"color\":\"#2a3f5f\"},\"geo\":{\"bgcolor\":\"white\",\"lakecolor\":\"white\",\"landcolor\":\"#E5ECF6\",\"showlakes\":true,\"showland\":true,\"subunitcolor\":\"white\"},\"hoverlabel\":{\"align\":\"left\"},\"hovermode\":\"closest\",\"mapbox\":{\"style\":\"light\"},\"paper_bgcolor\":\"white\",\"plot_bgcolor\":\"#E5ECF6\",\"polar\":{\"angularaxis\":{\"gridcolor\":\"white\",\"linecolor\":\"white\",\"ticks\":\"\"},\"bgcolor\":\"#E5ECF6\",\"radialaxis\":{\"gridcolor\":\"white\",\"linecolor\":\"white\",\"ticks\":\"\"}},\"scene\":{\"xaxis\":{\"backgroundcolor\":\"#E5ECF6\",\"gridcolor\":\"white\",\"gridwidth\":2,\"linecolor\":\"white\",\"showbackground\":true,\"ticks\":\"\",\"zerolinecolor\":\"white\"},\"yaxis\":{\"backgroundcolor\":\"#E5ECF6\",\"gridcolor\":\"white\",\"gridwidth\":2,\"linecolor\":\"white\",\"showbackground\":true,\"ticks\":\"\",\"zerolinecolor\":\"white\"},\"zaxis\":{\"backgroundcolor\":\"#E5ECF6\",\"gridcolor\":\"white\",\"gridwidth\":2,\"linecolor\":\"white\",\"showbackground\":true,\"ticks\":\"\",\"zerolinecolor\":\"white\"}},\"shapedefaults\":{\"line\":{\"color\":\"#2a3f5f\"}},\"ternary\":{\"aaxis\":{\"gridcolor\":\"white\",\"linecolor\":\"white\",\"ticks\":\"\"},\"baxis\":{\"gridcolor\":\"white\",\"linecolor\":\"white\",\"ticks\":\"\"},\"bgcolor\":\"#E5ECF6\",\"caxis\":{\"gridcolor\":\"white\",\"linecolor\":\"white\",\"ticks\":\"\"}},\"title\":{\"x\":0.05},\"xaxis\":{\"automargin\":true,\"gridcolor\":\"white\",\"linecolor\":\"white\",\"ticks\":\"\",\"title\":{\"standoff\":15},\"zerolinecolor\":\"white\",\"zerolinewidth\":2},\"yaxis\":{\"automargin\":true,\"gridcolor\":\"white\",\"linecolor\":\"white\",\"ticks\":\"\",\"title\":{\"standoff\":15},\"zerolinecolor\":\"white\",\"zerolinewidth\":2}}},\"title\":{\"font\":{\"color\":\"#4D5663\"}},\"xaxis\":{\"gridcolor\":\"#E1E5ED\",\"showgrid\":true,\"tickfont\":{\"color\":\"#4D5663\"},\"title\":{\"font\":{\"color\":\"#4D5663\"},\"text\":\"\"},\"zerolinecolor\":\"#E1E5ED\"},\"yaxis\":{\"gridcolor\":\"#E1E5ED\",\"showgrid\":true,\"tickfont\":{\"color\":\"#4D5663\"},\"title\":{\"font\":{\"color\":\"#4D5663\"},\"text\":\"\"},\"zerolinecolor\":\"#E1E5ED\"}},                        {\"showLink\": true, \"linkText\": \"Export to plot.ly\", \"plotlyServerURL\": \"https://plot.ly\", \"responsive\": true}                    ).then(function(){\n",
       "                            \n",
       "var gd = document.getElementById('bfdf3307-e43c-4020-9222-79c1f73c6b2d');\n",
       "var x = new MutationObserver(function (mutations, observer) {{\n",
       "        var display = window.getComputedStyle(gd).display;\n",
       "        if (!display || display === 'none') {{\n",
       "            console.log([gd, 'removed!']);\n",
       "            Plotly.purge(gd);\n",
       "            observer.disconnect();\n",
       "        }}\n",
       "}});\n",
       "\n",
       "// Listen for the removal of the full notebook cells\n",
       "var notebookContainer = gd.closest('#notebook-container');\n",
       "if (notebookContainer) {{\n",
       "    x.observe(notebookContainer, {childList: true});\n",
       "}}\n",
       "\n",
       "// Listen for the clearing of the current output cell\n",
       "var outputEl = gd.closest('.output');\n",
       "if (outputEl) {{\n",
       "    x.observe(outputEl, {childList: true});\n",
       "}}\n",
       "\n",
       "                        })                };                });            </script>        </div>"
      ]
     },
     "metadata": {},
     "output_type": "display_data"
    }
   ],
   "source": [
    "df3.iplot(kind='surface')"
   ]
  },
  {
   "cell_type": "code",
   "execution_count": 19,
   "metadata": {},
   "outputs": [
    {
     "data": {
      "application/vnd.plotly.v1+json": {
       "config": {
        "linkText": "Export to plot.ly",
        "plotlyServerURL": "https://plot.ly",
        "showLink": true
       },
       "data": [
        {
         "colorscale": [
          [
           0,
           "rgb(165,0,38)"
          ],
          [
           0.1,
           "rgb(215,48,39)"
          ],
          [
           0.2,
           "rgb(244,109,67)"
          ],
          [
           0.3,
           "rgb(253,174,97)"
          ],
          [
           0.4,
           "rgb(254,224,144)"
          ],
          [
           0.5,
           "rgb(255,255,191)"
          ],
          [
           0.6,
           "rgb(224,243,248)"
          ],
          [
           0.7,
           "rgb(171,217,233)"
          ],
          [
           0.8,
           "rgb(116,173,209)"
          ],
          [
           0.9,
           "rgb(69,117,180)"
          ],
          [
           1,
           "rgb(49,54,149)"
          ]
         ],
         "type": "surface",
         "x": [
          0,
          1,
          2,
          3,
          4
         ],
         "y": [
          "x",
          "y",
          "z"
         ],
         "z": [
          [
           1,
           2,
           3,
           4,
           5
          ],
          [
           10,
           20,
           30,
           20,
           10
          ],
          [
           1,
           2,
           3,
           4,
           5
          ]
         ]
        }
       ],
       "layout": {
        "legend": {
         "bgcolor": "#F5F6F9",
         "font": {
          "color": "#4D5663"
         }
        },
        "paper_bgcolor": "#F5F6F9",
        "plot_bgcolor": "#F5F6F9",
        "template": {
         "data": {
          "bar": [
           {
            "error_x": {
             "color": "#2a3f5f"
            },
            "error_y": {
             "color": "#2a3f5f"
            },
            "marker": {
             "line": {
              "color": "#E5ECF6",
              "width": 0.5
             },
             "pattern": {
              "fillmode": "overlay",
              "size": 10,
              "solidity": 0.2
             }
            },
            "type": "bar"
           }
          ],
          "barpolar": [
           {
            "marker": {
             "line": {
              "color": "#E5ECF6",
              "width": 0.5
             },
             "pattern": {
              "fillmode": "overlay",
              "size": 10,
              "solidity": 0.2
             }
            },
            "type": "barpolar"
           }
          ],
          "carpet": [
           {
            "aaxis": {
             "endlinecolor": "#2a3f5f",
             "gridcolor": "white",
             "linecolor": "white",
             "minorgridcolor": "white",
             "startlinecolor": "#2a3f5f"
            },
            "baxis": {
             "endlinecolor": "#2a3f5f",
             "gridcolor": "white",
             "linecolor": "white",
             "minorgridcolor": "white",
             "startlinecolor": "#2a3f5f"
            },
            "type": "carpet"
           }
          ],
          "choropleth": [
           {
            "colorbar": {
             "outlinewidth": 0,
             "ticks": ""
            },
            "type": "choropleth"
           }
          ],
          "contour": [
           {
            "colorbar": {
             "outlinewidth": 0,
             "ticks": ""
            },
            "colorscale": [
             [
              0,
              "#0d0887"
             ],
             [
              0.1111111111111111,
              "#46039f"
             ],
             [
              0.2222222222222222,
              "#7201a8"
             ],
             [
              0.3333333333333333,
              "#9c179e"
             ],
             [
              0.4444444444444444,
              "#bd3786"
             ],
             [
              0.5555555555555556,
              "#d8576b"
             ],
             [
              0.6666666666666666,
              "#ed7953"
             ],
             [
              0.7777777777777778,
              "#fb9f3a"
             ],
             [
              0.8888888888888888,
              "#fdca26"
             ],
             [
              1,
              "#f0f921"
             ]
            ],
            "type": "contour"
           }
          ],
          "contourcarpet": [
           {
            "colorbar": {
             "outlinewidth": 0,
             "ticks": ""
            },
            "type": "contourcarpet"
           }
          ],
          "heatmap": [
           {
            "colorbar": {
             "outlinewidth": 0,
             "ticks": ""
            },
            "colorscale": [
             [
              0,
              "#0d0887"
             ],
             [
              0.1111111111111111,
              "#46039f"
             ],
             [
              0.2222222222222222,
              "#7201a8"
             ],
             [
              0.3333333333333333,
              "#9c179e"
             ],
             [
              0.4444444444444444,
              "#bd3786"
             ],
             [
              0.5555555555555556,
              "#d8576b"
             ],
             [
              0.6666666666666666,
              "#ed7953"
             ],
             [
              0.7777777777777778,
              "#fb9f3a"
             ],
             [
              0.8888888888888888,
              "#fdca26"
             ],
             [
              1,
              "#f0f921"
             ]
            ],
            "type": "heatmap"
           }
          ],
          "heatmapgl": [
           {
            "colorbar": {
             "outlinewidth": 0,
             "ticks": ""
            },
            "colorscale": [
             [
              0,
              "#0d0887"
             ],
             [
              0.1111111111111111,
              "#46039f"
             ],
             [
              0.2222222222222222,
              "#7201a8"
             ],
             [
              0.3333333333333333,
              "#9c179e"
             ],
             [
              0.4444444444444444,
              "#bd3786"
             ],
             [
              0.5555555555555556,
              "#d8576b"
             ],
             [
              0.6666666666666666,
              "#ed7953"
             ],
             [
              0.7777777777777778,
              "#fb9f3a"
             ],
             [
              0.8888888888888888,
              "#fdca26"
             ],
             [
              1,
              "#f0f921"
             ]
            ],
            "type": "heatmapgl"
           }
          ],
          "histogram": [
           {
            "marker": {
             "pattern": {
              "fillmode": "overlay",
              "size": 10,
              "solidity": 0.2
             }
            },
            "type": "histogram"
           }
          ],
          "histogram2d": [
           {
            "colorbar": {
             "outlinewidth": 0,
             "ticks": ""
            },
            "colorscale": [
             [
              0,
              "#0d0887"
             ],
             [
              0.1111111111111111,
              "#46039f"
             ],
             [
              0.2222222222222222,
              "#7201a8"
             ],
             [
              0.3333333333333333,
              "#9c179e"
             ],
             [
              0.4444444444444444,
              "#bd3786"
             ],
             [
              0.5555555555555556,
              "#d8576b"
             ],
             [
              0.6666666666666666,
              "#ed7953"
             ],
             [
              0.7777777777777778,
              "#fb9f3a"
             ],
             [
              0.8888888888888888,
              "#fdca26"
             ],
             [
              1,
              "#f0f921"
             ]
            ],
            "type": "histogram2d"
           }
          ],
          "histogram2dcontour": [
           {
            "colorbar": {
             "outlinewidth": 0,
             "ticks": ""
            },
            "colorscale": [
             [
              0,
              "#0d0887"
             ],
             [
              0.1111111111111111,
              "#46039f"
             ],
             [
              0.2222222222222222,
              "#7201a8"
             ],
             [
              0.3333333333333333,
              "#9c179e"
             ],
             [
              0.4444444444444444,
              "#bd3786"
             ],
             [
              0.5555555555555556,
              "#d8576b"
             ],
             [
              0.6666666666666666,
              "#ed7953"
             ],
             [
              0.7777777777777778,
              "#fb9f3a"
             ],
             [
              0.8888888888888888,
              "#fdca26"
             ],
             [
              1,
              "#f0f921"
             ]
            ],
            "type": "histogram2dcontour"
           }
          ],
          "mesh3d": [
           {
            "colorbar": {
             "outlinewidth": 0,
             "ticks": ""
            },
            "type": "mesh3d"
           }
          ],
          "parcoords": [
           {
            "line": {
             "colorbar": {
              "outlinewidth": 0,
              "ticks": ""
             }
            },
            "type": "parcoords"
           }
          ],
          "pie": [
           {
            "automargin": true,
            "type": "pie"
           }
          ],
          "scatter": [
           {
            "fillpattern": {
             "fillmode": "overlay",
             "size": 10,
             "solidity": 0.2
            },
            "type": "scatter"
           }
          ],
          "scatter3d": [
           {
            "line": {
             "colorbar": {
              "outlinewidth": 0,
              "ticks": ""
             }
            },
            "marker": {
             "colorbar": {
              "outlinewidth": 0,
              "ticks": ""
             }
            },
            "type": "scatter3d"
           }
          ],
          "scattercarpet": [
           {
            "marker": {
             "colorbar": {
              "outlinewidth": 0,
              "ticks": ""
             }
            },
            "type": "scattercarpet"
           }
          ],
          "scattergeo": [
           {
            "marker": {
             "colorbar": {
              "outlinewidth": 0,
              "ticks": ""
             }
            },
            "type": "scattergeo"
           }
          ],
          "scattergl": [
           {
            "marker": {
             "colorbar": {
              "outlinewidth": 0,
              "ticks": ""
             }
            },
            "type": "scattergl"
           }
          ],
          "scattermapbox": [
           {
            "marker": {
             "colorbar": {
              "outlinewidth": 0,
              "ticks": ""
             }
            },
            "type": "scattermapbox"
           }
          ],
          "scatterpolar": [
           {
            "marker": {
             "colorbar": {
              "outlinewidth": 0,
              "ticks": ""
             }
            },
            "type": "scatterpolar"
           }
          ],
          "scatterpolargl": [
           {
            "marker": {
             "colorbar": {
              "outlinewidth": 0,
              "ticks": ""
             }
            },
            "type": "scatterpolargl"
           }
          ],
          "scatterternary": [
           {
            "marker": {
             "colorbar": {
              "outlinewidth": 0,
              "ticks": ""
             }
            },
            "type": "scatterternary"
           }
          ],
          "surface": [
           {
            "colorbar": {
             "outlinewidth": 0,
             "ticks": ""
            },
            "colorscale": [
             [
              0,
              "#0d0887"
             ],
             [
              0.1111111111111111,
              "#46039f"
             ],
             [
              0.2222222222222222,
              "#7201a8"
             ],
             [
              0.3333333333333333,
              "#9c179e"
             ],
             [
              0.4444444444444444,
              "#bd3786"
             ],
             [
              0.5555555555555556,
              "#d8576b"
             ],
             [
              0.6666666666666666,
              "#ed7953"
             ],
             [
              0.7777777777777778,
              "#fb9f3a"
             ],
             [
              0.8888888888888888,
              "#fdca26"
             ],
             [
              1,
              "#f0f921"
             ]
            ],
            "type": "surface"
           }
          ],
          "table": [
           {
            "cells": {
             "fill": {
              "color": "#EBF0F8"
             },
             "line": {
              "color": "white"
             }
            },
            "header": {
             "fill": {
              "color": "#C8D4E3"
             },
             "line": {
              "color": "white"
             }
            },
            "type": "table"
           }
          ]
         },
         "layout": {
          "annotationdefaults": {
           "arrowcolor": "#2a3f5f",
           "arrowhead": 0,
           "arrowwidth": 1
          },
          "autotypenumbers": "strict",
          "coloraxis": {
           "colorbar": {
            "outlinewidth": 0,
            "ticks": ""
           }
          },
          "colorscale": {
           "diverging": [
            [
             0,
             "#8e0152"
            ],
            [
             0.1,
             "#c51b7d"
            ],
            [
             0.2,
             "#de77ae"
            ],
            [
             0.3,
             "#f1b6da"
            ],
            [
             0.4,
             "#fde0ef"
            ],
            [
             0.5,
             "#f7f7f7"
            ],
            [
             0.6,
             "#e6f5d0"
            ],
            [
             0.7,
             "#b8e186"
            ],
            [
             0.8,
             "#7fbc41"
            ],
            [
             0.9,
             "#4d9221"
            ],
            [
             1,
             "#276419"
            ]
           ],
           "sequential": [
            [
             0,
             "#0d0887"
            ],
            [
             0.1111111111111111,
             "#46039f"
            ],
            [
             0.2222222222222222,
             "#7201a8"
            ],
            [
             0.3333333333333333,
             "#9c179e"
            ],
            [
             0.4444444444444444,
             "#bd3786"
            ],
            [
             0.5555555555555556,
             "#d8576b"
            ],
            [
             0.6666666666666666,
             "#ed7953"
            ],
            [
             0.7777777777777778,
             "#fb9f3a"
            ],
            [
             0.8888888888888888,
             "#fdca26"
            ],
            [
             1,
             "#f0f921"
            ]
           ],
           "sequentialminus": [
            [
             0,
             "#0d0887"
            ],
            [
             0.1111111111111111,
             "#46039f"
            ],
            [
             0.2222222222222222,
             "#7201a8"
            ],
            [
             0.3333333333333333,
             "#9c179e"
            ],
            [
             0.4444444444444444,
             "#bd3786"
            ],
            [
             0.5555555555555556,
             "#d8576b"
            ],
            [
             0.6666666666666666,
             "#ed7953"
            ],
            [
             0.7777777777777778,
             "#fb9f3a"
            ],
            [
             0.8888888888888888,
             "#fdca26"
            ],
            [
             1,
             "#f0f921"
            ]
           ]
          },
          "colorway": [
           "#636efa",
           "#EF553B",
           "#00cc96",
           "#ab63fa",
           "#FFA15A",
           "#19d3f3",
           "#FF6692",
           "#B6E880",
           "#FF97FF",
           "#FECB52"
          ],
          "font": {
           "color": "#2a3f5f"
          },
          "geo": {
           "bgcolor": "white",
           "lakecolor": "white",
           "landcolor": "#E5ECF6",
           "showlakes": true,
           "showland": true,
           "subunitcolor": "white"
          },
          "hoverlabel": {
           "align": "left"
          },
          "hovermode": "closest",
          "mapbox": {
           "style": "light"
          },
          "paper_bgcolor": "white",
          "plot_bgcolor": "#E5ECF6",
          "polar": {
           "angularaxis": {
            "gridcolor": "white",
            "linecolor": "white",
            "ticks": ""
           },
           "bgcolor": "#E5ECF6",
           "radialaxis": {
            "gridcolor": "white",
            "linecolor": "white",
            "ticks": ""
           }
          },
          "scene": {
           "xaxis": {
            "backgroundcolor": "#E5ECF6",
            "gridcolor": "white",
            "gridwidth": 2,
            "linecolor": "white",
            "showbackground": true,
            "ticks": "",
            "zerolinecolor": "white"
           },
           "yaxis": {
            "backgroundcolor": "#E5ECF6",
            "gridcolor": "white",
            "gridwidth": 2,
            "linecolor": "white",
            "showbackground": true,
            "ticks": "",
            "zerolinecolor": "white"
           },
           "zaxis": {
            "backgroundcolor": "#E5ECF6",
            "gridcolor": "white",
            "gridwidth": 2,
            "linecolor": "white",
            "showbackground": true,
            "ticks": "",
            "zerolinecolor": "white"
           }
          },
          "shapedefaults": {
           "line": {
            "color": "#2a3f5f"
           }
          },
          "ternary": {
           "aaxis": {
            "gridcolor": "white",
            "linecolor": "white",
            "ticks": ""
           },
           "baxis": {
            "gridcolor": "white",
            "linecolor": "white",
            "ticks": ""
           },
           "bgcolor": "#E5ECF6",
           "caxis": {
            "gridcolor": "white",
            "linecolor": "white",
            "ticks": ""
           }
          },
          "title": {
           "x": 0.05
          },
          "xaxis": {
           "automargin": true,
           "gridcolor": "white",
           "linecolor": "white",
           "ticks": "",
           "title": {
            "standoff": 15
           },
           "zerolinecolor": "white",
           "zerolinewidth": 2
          },
          "yaxis": {
           "automargin": true,
           "gridcolor": "white",
           "linecolor": "white",
           "ticks": "",
           "title": {
            "standoff": 15
           },
           "zerolinecolor": "white",
           "zerolinewidth": 2
          }
         }
        },
        "title": {
         "font": {
          "color": "#4D5663"
         }
        },
        "xaxis": {
         "gridcolor": "#E1E5ED",
         "showgrid": true,
         "tickfont": {
          "color": "#4D5663"
         },
         "title": {
          "font": {
           "color": "#4D5663"
          },
          "text": ""
         },
         "zerolinecolor": "#E1E5ED"
        },
        "yaxis": {
         "gridcolor": "#E1E5ED",
         "showgrid": true,
         "tickfont": {
          "color": "#4D5663"
         },
         "title": {
          "font": {
           "color": "#4D5663"
          },
          "text": ""
         },
         "zerolinecolor": "#E1E5ED"
        }
       }
      },
      "text/html": [
       "<div>                            <div id=\"51f76386-02a7-4fce-a70c-4f9858af3faf\" class=\"plotly-graph-div\" style=\"height:525px; width:100%;\"></div>            <script type=\"text/javascript\">                require([\"plotly\"], function(Plotly) {                    window.PLOTLYENV=window.PLOTLYENV || {};\n",
       "                    window.PLOTLYENV.BASE_URL='https://plot.ly';                                    if (document.getElementById(\"51f76386-02a7-4fce-a70c-4f9858af3faf\")) {                    Plotly.newPlot(                        \"51f76386-02a7-4fce-a70c-4f9858af3faf\",                        [{\"colorscale\":[[0.0,\"rgb(165,0,38)\"],[0.1,\"rgb(215,48,39)\"],[0.2,\"rgb(244,109,67)\"],[0.3,\"rgb(253,174,97)\"],[0.4,\"rgb(254,224,144)\"],[0.5,\"rgb(255,255,191)\"],[0.6,\"rgb(224,243,248)\"],[0.7,\"rgb(171,217,233)\"],[0.8,\"rgb(116,173,209)\"],[0.9,\"rgb(69,117,180)\"],[1.0,\"rgb(49,54,149)\"]],\"x\":[0,1,2,3,4],\"y\":[\"x\",\"y\",\"z\"],\"z\":[[1,2,3,4,5],[10,20,30,20,10],[1,2,3,4,5]],\"type\":\"surface\"}],                        {\"legend\":{\"bgcolor\":\"#F5F6F9\",\"font\":{\"color\":\"#4D5663\"}},\"paper_bgcolor\":\"#F5F6F9\",\"plot_bgcolor\":\"#F5F6F9\",\"template\":{\"data\":{\"barpolar\":[{\"marker\":{\"line\":{\"color\":\"#E5ECF6\",\"width\":0.5},\"pattern\":{\"fillmode\":\"overlay\",\"size\":10,\"solidity\":0.2}},\"type\":\"barpolar\"}],\"bar\":[{\"error_x\":{\"color\":\"#2a3f5f\"},\"error_y\":{\"color\":\"#2a3f5f\"},\"marker\":{\"line\":{\"color\":\"#E5ECF6\",\"width\":0.5},\"pattern\":{\"fillmode\":\"overlay\",\"size\":10,\"solidity\":0.2}},\"type\":\"bar\"}],\"carpet\":[{\"aaxis\":{\"endlinecolor\":\"#2a3f5f\",\"gridcolor\":\"white\",\"linecolor\":\"white\",\"minorgridcolor\":\"white\",\"startlinecolor\":\"#2a3f5f\"},\"baxis\":{\"endlinecolor\":\"#2a3f5f\",\"gridcolor\":\"white\",\"linecolor\":\"white\",\"minorgridcolor\":\"white\",\"startlinecolor\":\"#2a3f5f\"},\"type\":\"carpet\"}],\"choropleth\":[{\"colorbar\":{\"outlinewidth\":0,\"ticks\":\"\"},\"type\":\"choropleth\"}],\"contourcarpet\":[{\"colorbar\":{\"outlinewidth\":0,\"ticks\":\"\"},\"type\":\"contourcarpet\"}],\"contour\":[{\"colorbar\":{\"outlinewidth\":0,\"ticks\":\"\"},\"colorscale\":[[0.0,\"#0d0887\"],[0.1111111111111111,\"#46039f\"],[0.2222222222222222,\"#7201a8\"],[0.3333333333333333,\"#9c179e\"],[0.4444444444444444,\"#bd3786\"],[0.5555555555555556,\"#d8576b\"],[0.6666666666666666,\"#ed7953\"],[0.7777777777777778,\"#fb9f3a\"],[0.8888888888888888,\"#fdca26\"],[1.0,\"#f0f921\"]],\"type\":\"contour\"}],\"heatmapgl\":[{\"colorbar\":{\"outlinewidth\":0,\"ticks\":\"\"},\"colorscale\":[[0.0,\"#0d0887\"],[0.1111111111111111,\"#46039f\"],[0.2222222222222222,\"#7201a8\"],[0.3333333333333333,\"#9c179e\"],[0.4444444444444444,\"#bd3786\"],[0.5555555555555556,\"#d8576b\"],[0.6666666666666666,\"#ed7953\"],[0.7777777777777778,\"#fb9f3a\"],[0.8888888888888888,\"#fdca26\"],[1.0,\"#f0f921\"]],\"type\":\"heatmapgl\"}],\"heatmap\":[{\"colorbar\":{\"outlinewidth\":0,\"ticks\":\"\"},\"colorscale\":[[0.0,\"#0d0887\"],[0.1111111111111111,\"#46039f\"],[0.2222222222222222,\"#7201a8\"],[0.3333333333333333,\"#9c179e\"],[0.4444444444444444,\"#bd3786\"],[0.5555555555555556,\"#d8576b\"],[0.6666666666666666,\"#ed7953\"],[0.7777777777777778,\"#fb9f3a\"],[0.8888888888888888,\"#fdca26\"],[1.0,\"#f0f921\"]],\"type\":\"heatmap\"}],\"histogram2dcontour\":[{\"colorbar\":{\"outlinewidth\":0,\"ticks\":\"\"},\"colorscale\":[[0.0,\"#0d0887\"],[0.1111111111111111,\"#46039f\"],[0.2222222222222222,\"#7201a8\"],[0.3333333333333333,\"#9c179e\"],[0.4444444444444444,\"#bd3786\"],[0.5555555555555556,\"#d8576b\"],[0.6666666666666666,\"#ed7953\"],[0.7777777777777778,\"#fb9f3a\"],[0.8888888888888888,\"#fdca26\"],[1.0,\"#f0f921\"]],\"type\":\"histogram2dcontour\"}],\"histogram2d\":[{\"colorbar\":{\"outlinewidth\":0,\"ticks\":\"\"},\"colorscale\":[[0.0,\"#0d0887\"],[0.1111111111111111,\"#46039f\"],[0.2222222222222222,\"#7201a8\"],[0.3333333333333333,\"#9c179e\"],[0.4444444444444444,\"#bd3786\"],[0.5555555555555556,\"#d8576b\"],[0.6666666666666666,\"#ed7953\"],[0.7777777777777778,\"#fb9f3a\"],[0.8888888888888888,\"#fdca26\"],[1.0,\"#f0f921\"]],\"type\":\"histogram2d\"}],\"histogram\":[{\"marker\":{\"pattern\":{\"fillmode\":\"overlay\",\"size\":10,\"solidity\":0.2}},\"type\":\"histogram\"}],\"mesh3d\":[{\"colorbar\":{\"outlinewidth\":0,\"ticks\":\"\"},\"type\":\"mesh3d\"}],\"parcoords\":[{\"line\":{\"colorbar\":{\"outlinewidth\":0,\"ticks\":\"\"}},\"type\":\"parcoords\"}],\"pie\":[{\"automargin\":true,\"type\":\"pie\"}],\"scatter3d\":[{\"line\":{\"colorbar\":{\"outlinewidth\":0,\"ticks\":\"\"}},\"marker\":{\"colorbar\":{\"outlinewidth\":0,\"ticks\":\"\"}},\"type\":\"scatter3d\"}],\"scattercarpet\":[{\"marker\":{\"colorbar\":{\"outlinewidth\":0,\"ticks\":\"\"}},\"type\":\"scattercarpet\"}],\"scattergeo\":[{\"marker\":{\"colorbar\":{\"outlinewidth\":0,\"ticks\":\"\"}},\"type\":\"scattergeo\"}],\"scattergl\":[{\"marker\":{\"colorbar\":{\"outlinewidth\":0,\"ticks\":\"\"}},\"type\":\"scattergl\"}],\"scattermapbox\":[{\"marker\":{\"colorbar\":{\"outlinewidth\":0,\"ticks\":\"\"}},\"type\":\"scattermapbox\"}],\"scatterpolargl\":[{\"marker\":{\"colorbar\":{\"outlinewidth\":0,\"ticks\":\"\"}},\"type\":\"scatterpolargl\"}],\"scatterpolar\":[{\"marker\":{\"colorbar\":{\"outlinewidth\":0,\"ticks\":\"\"}},\"type\":\"scatterpolar\"}],\"scatter\":[{\"fillpattern\":{\"fillmode\":\"overlay\",\"size\":10,\"solidity\":0.2},\"type\":\"scatter\"}],\"scatterternary\":[{\"marker\":{\"colorbar\":{\"outlinewidth\":0,\"ticks\":\"\"}},\"type\":\"scatterternary\"}],\"surface\":[{\"colorbar\":{\"outlinewidth\":0,\"ticks\":\"\"},\"colorscale\":[[0.0,\"#0d0887\"],[0.1111111111111111,\"#46039f\"],[0.2222222222222222,\"#7201a8\"],[0.3333333333333333,\"#9c179e\"],[0.4444444444444444,\"#bd3786\"],[0.5555555555555556,\"#d8576b\"],[0.6666666666666666,\"#ed7953\"],[0.7777777777777778,\"#fb9f3a\"],[0.8888888888888888,\"#fdca26\"],[1.0,\"#f0f921\"]],\"type\":\"surface\"}],\"table\":[{\"cells\":{\"fill\":{\"color\":\"#EBF0F8\"},\"line\":{\"color\":\"white\"}},\"header\":{\"fill\":{\"color\":\"#C8D4E3\"},\"line\":{\"color\":\"white\"}},\"type\":\"table\"}]},\"layout\":{\"annotationdefaults\":{\"arrowcolor\":\"#2a3f5f\",\"arrowhead\":0,\"arrowwidth\":1},\"autotypenumbers\":\"strict\",\"coloraxis\":{\"colorbar\":{\"outlinewidth\":0,\"ticks\":\"\"}},\"colorscale\":{\"diverging\":[[0,\"#8e0152\"],[0.1,\"#c51b7d\"],[0.2,\"#de77ae\"],[0.3,\"#f1b6da\"],[0.4,\"#fde0ef\"],[0.5,\"#f7f7f7\"],[0.6,\"#e6f5d0\"],[0.7,\"#b8e186\"],[0.8,\"#7fbc41\"],[0.9,\"#4d9221\"],[1,\"#276419\"]],\"sequential\":[[0.0,\"#0d0887\"],[0.1111111111111111,\"#46039f\"],[0.2222222222222222,\"#7201a8\"],[0.3333333333333333,\"#9c179e\"],[0.4444444444444444,\"#bd3786\"],[0.5555555555555556,\"#d8576b\"],[0.6666666666666666,\"#ed7953\"],[0.7777777777777778,\"#fb9f3a\"],[0.8888888888888888,\"#fdca26\"],[1.0,\"#f0f921\"]],\"sequentialminus\":[[0.0,\"#0d0887\"],[0.1111111111111111,\"#46039f\"],[0.2222222222222222,\"#7201a8\"],[0.3333333333333333,\"#9c179e\"],[0.4444444444444444,\"#bd3786\"],[0.5555555555555556,\"#d8576b\"],[0.6666666666666666,\"#ed7953\"],[0.7777777777777778,\"#fb9f3a\"],[0.8888888888888888,\"#fdca26\"],[1.0,\"#f0f921\"]]},\"colorway\":[\"#636efa\",\"#EF553B\",\"#00cc96\",\"#ab63fa\",\"#FFA15A\",\"#19d3f3\",\"#FF6692\",\"#B6E880\",\"#FF97FF\",\"#FECB52\"],\"font\":{\"color\":\"#2a3f5f\"},\"geo\":{\"bgcolor\":\"white\",\"lakecolor\":\"white\",\"landcolor\":\"#E5ECF6\",\"showlakes\":true,\"showland\":true,\"subunitcolor\":\"white\"},\"hoverlabel\":{\"align\":\"left\"},\"hovermode\":\"closest\",\"mapbox\":{\"style\":\"light\"},\"paper_bgcolor\":\"white\",\"plot_bgcolor\":\"#E5ECF6\",\"polar\":{\"angularaxis\":{\"gridcolor\":\"white\",\"linecolor\":\"white\",\"ticks\":\"\"},\"bgcolor\":\"#E5ECF6\",\"radialaxis\":{\"gridcolor\":\"white\",\"linecolor\":\"white\",\"ticks\":\"\"}},\"scene\":{\"xaxis\":{\"backgroundcolor\":\"#E5ECF6\",\"gridcolor\":\"white\",\"gridwidth\":2,\"linecolor\":\"white\",\"showbackground\":true,\"ticks\":\"\",\"zerolinecolor\":\"white\"},\"yaxis\":{\"backgroundcolor\":\"#E5ECF6\",\"gridcolor\":\"white\",\"gridwidth\":2,\"linecolor\":\"white\",\"showbackground\":true,\"ticks\":\"\",\"zerolinecolor\":\"white\"},\"zaxis\":{\"backgroundcolor\":\"#E5ECF6\",\"gridcolor\":\"white\",\"gridwidth\":2,\"linecolor\":\"white\",\"showbackground\":true,\"ticks\":\"\",\"zerolinecolor\":\"white\"}},\"shapedefaults\":{\"line\":{\"color\":\"#2a3f5f\"}},\"ternary\":{\"aaxis\":{\"gridcolor\":\"white\",\"linecolor\":\"white\",\"ticks\":\"\"},\"baxis\":{\"gridcolor\":\"white\",\"linecolor\":\"white\",\"ticks\":\"\"},\"bgcolor\":\"#E5ECF6\",\"caxis\":{\"gridcolor\":\"white\",\"linecolor\":\"white\",\"ticks\":\"\"}},\"title\":{\"x\":0.05},\"xaxis\":{\"automargin\":true,\"gridcolor\":\"white\",\"linecolor\":\"white\",\"ticks\":\"\",\"title\":{\"standoff\":15},\"zerolinecolor\":\"white\",\"zerolinewidth\":2},\"yaxis\":{\"automargin\":true,\"gridcolor\":\"white\",\"linecolor\":\"white\",\"ticks\":\"\",\"title\":{\"standoff\":15},\"zerolinecolor\":\"white\",\"zerolinewidth\":2}}},\"title\":{\"font\":{\"color\":\"#4D5663\"}},\"xaxis\":{\"gridcolor\":\"#E1E5ED\",\"showgrid\":true,\"tickfont\":{\"color\":\"#4D5663\"},\"title\":{\"font\":{\"color\":\"#4D5663\"},\"text\":\"\"},\"zerolinecolor\":\"#E1E5ED\"},\"yaxis\":{\"gridcolor\":\"#E1E5ED\",\"showgrid\":true,\"tickfont\":{\"color\":\"#4D5663\"},\"title\":{\"font\":{\"color\":\"#4D5663\"},\"text\":\"\"},\"zerolinecolor\":\"#E1E5ED\"}},                        {\"showLink\": true, \"linkText\": \"Export to plot.ly\", \"plotlyServerURL\": \"https://plot.ly\", \"responsive\": true}                    ).then(function(){\n",
       "                            \n",
       "var gd = document.getElementById('51f76386-02a7-4fce-a70c-4f9858af3faf');\n",
       "var x = new MutationObserver(function (mutations, observer) {{\n",
       "        var display = window.getComputedStyle(gd).display;\n",
       "        if (!display || display === 'none') {{\n",
       "            console.log([gd, 'removed!']);\n",
       "            Plotly.purge(gd);\n",
       "            observer.disconnect();\n",
       "        }}\n",
       "}});\n",
       "\n",
       "// Listen for the removal of the full notebook cells\n",
       "var notebookContainer = gd.closest('#notebook-container');\n",
       "if (notebookContainer) {{\n",
       "    x.observe(notebookContainer, {childList: true});\n",
       "}}\n",
       "\n",
       "// Listen for the clearing of the current output cell\n",
       "var outputEl = gd.closest('.output');\n",
       "if (outputEl) {{\n",
       "    x.observe(outputEl, {childList: true});\n",
       "}}\n",
       "\n",
       "                        })                };                });            </script>        </div>"
      ]
     },
     "metadata": {},
     "output_type": "display_data"
    }
   ],
   "source": [
    "df4.iplot(kind='surface', colorscale='rdylbu') #rd- red, yl-yellow, bu-blue"
   ]
  },
  {
   "cell_type": "code",
   "execution_count": 20,
   "metadata": {},
   "outputs": [
    {
     "data": {
      "application/vnd.plotly.v1+json": {
       "config": {
        "linkText": "Export to plot.ly",
        "plotlyServerURL": "https://plot.ly",
        "showLink": true
       },
       "data": [
        {
         "histfunc": "count",
         "histnorm": "",
         "marker": {
          "color": "rgba(255, 153, 51, 1.0)",
          "line": {
           "color": "#4D5663",
           "width": 1.3
          }
         },
         "name": "A",
         "nbinsx": 25,
         "opacity": 0.8,
         "orientation": "v",
         "type": "histogram",
         "x": [
          -1.487606705268289,
          -1.3270966904104238,
          0.3604379283601886,
          -1.0755063445021371,
          0.3811337534773147,
          2.0641007329383485,
          -0.48203477848504866,
          -0.38832558174328935,
          1.7478672968117868,
          1.1158691106492418,
          0.2896935352623028,
          -0.3812217927690513,
          0.42123870859889845,
          1.8812870946781968,
          2.557404536964999,
          -0.7058476334484991,
          0.28569424203115323,
          0.24695939642219372,
          -0.6385715504663668,
          0.9026702831781179,
          2.298729565138558,
          0.11640944430966896,
          0.42767735280331637,
          0.33544870905998614,
          0.16811832161387877,
          -0.21121411331425205,
          0.5874308678366539,
          -1.1216357817595521,
          0.11255262014025855,
          1.1853522193052266,
          0.45797947718207993,
          0.06034425911595249,
          0.9711702720221174,
          -0.7824061933747677,
          0.6276524906327481,
          -1.0548261198142173,
          -1.0832514348502216,
          -0.36189322746518,
          0.643434169576394,
          0.4488595629144203,
          0.8061508090023473,
          -1.222979893598644,
          -0.6920946263116126,
          -1.2937441326912544,
          0.23876442953656232,
          -0.817684328749027,
          0.08369524837438268,
          0.13287413960379232,
          -0.2499943512909606,
          0.6636954943467446,
          -0.5280332499790815,
          -0.5398566815380538,
          -0.31918190307525746,
          2.254926925098105,
          -0.7632175571836918,
          -1.1048423421686462,
          1.1028289510008162,
          -1.2097544316232944,
          -1.1939998494256865,
          1.2253107286051743,
          0.031116092717685246,
          -0.7487543140223533,
          1.4274039877008702,
          -2.4152283125719656,
          0.8018374859983983,
          -0.652637162274179,
          -1.109773355409906,
          0.9421069223405514,
          0.9272547022786595,
          -2.0967011767857966,
          -0.9386686213866825,
          1.2712810659600504,
          0.6688989976815631,
          -1.538865098729885,
          0.7131115264494275,
          -0.6467904553989622,
          1.2822063664196233,
          -0.30066345972728864,
          0.5960304893962182,
          0.6082958314371802,
          -1.3267205129120214,
          0.8887344180865127,
          0.9487101456582948,
          1.208515049669603,
          -0.49564632045569046,
          -2.171379335945453,
          -0.5722068920663259,
          0.821728319864167,
          -0.4532924125120422,
          0.5176236846070436,
          1.074779233055591,
          -0.04980169881531574,
          -1.1325388535132843,
          -0.8340003699765887,
          0.4681608886840201,
          0.340074509311427,
          0.9532273672009145,
          -0.551300031728624,
          1.5019798360618883,
          2.0813328323766336,
          -1.8888588017436174,
          0.5527504926273384,
          -1.832394693910066,
          -0.1891939936596043,
          -0.1795525048751539,
          -0.41353587573206846,
          0.6119219622848441,
          0.3669411247956404,
          -1.656394643836909,
          0.6825827271960428,
          0.40978281154268725,
          -1.027348486216504,
          -0.8913232958653983,
          -2.176619637487184,
          1.6404497173622186,
          -1.1539800497331998,
          -2.6344933558902484,
          1.3269304883606206,
          -0.4686755309635699,
          0.15375555596251558,
          -0.003231518781125517,
          -2.5756810430242285,
          0.23191043239930428,
          -0.20325011510086552,
          -0.1262256677960052,
          -0.4306067892790383,
          2.223999933559132,
          -0.28481970484576097,
          0.041636347874112516,
          0.8363856899449069,
          -0.7190061049681735,
          -1.660586642755478,
          -0.8424461151634391,
          -1.3410654086417828,
          0.5173398539462267,
          -1.3712460727772473,
          -0.4467550562662734,
          0.9157433279770691,
          1.754416969372457,
          0.6747547564025815,
          0.6483259564379472,
          0.9589442722537845,
          -1.1404949913493048,
          -0.9607080724043362,
          -0.4758449423533752,
          -0.2995599393280748,
          -0.24888778174690462,
          0.15542907347123394,
          -1.2558919529016797,
          1.4884181758140078,
          -0.17569860858299177,
          1.225904563594473,
          1.1324490392969089,
          0.3835923409382287,
          1.9124939131151277,
          -0.47992141278970996,
          -0.17605511359007,
          0.2200553792256361,
          -0.45229522971198904,
          -1.8838923550993498,
          0.13315305673333974,
          -0.8266448326458588,
          1.2294707915972516,
          0.6778486167632689,
          -0.15856560330555253,
          1.0126681253705112,
          0.6806465776765602,
          -2.341158623582788,
          0.2755666236492162,
          -0.7172182469495813,
          0.7930105775209679,
          0.39568977405882394,
          1.528726412996672,
          0.24679536520261422,
          -0.46161608591743614,
          -0.41260788090652584,
          -0.9197333364273914,
          1.2672340572160545,
          -0.7680399463059111,
          0.20875650311460647,
          -0.8688520154587448,
          1.1871175195914496,
          0.4318475877039881,
          0.22291570222242593,
          1.912613011968483,
          -1.1895491534313078,
          -0.8601534520780754,
          -0.6884358071535207,
          1.6067100199942381,
          0.8869574010673043,
          2.2738448377759197,
          0.053238690773936066,
          -0.10165799243942343,
          -1.5322439587081917,
          1.4952390580885375,
          -0.3456678618511981,
          -0.09156509867611441,
          -1.7259238493479152,
          0.42627109535565494,
          0.13155584440661
         ]
        }
       ],
       "layout": {
        "barmode": "overlay",
        "legend": {
         "bgcolor": "#F5F6F9",
         "font": {
          "color": "#4D5663"
         }
        },
        "paper_bgcolor": "#F5F6F9",
        "plot_bgcolor": "#F5F6F9",
        "template": {
         "data": {
          "bar": [
           {
            "error_x": {
             "color": "#2a3f5f"
            },
            "error_y": {
             "color": "#2a3f5f"
            },
            "marker": {
             "line": {
              "color": "#E5ECF6",
              "width": 0.5
             },
             "pattern": {
              "fillmode": "overlay",
              "size": 10,
              "solidity": 0.2
             }
            },
            "type": "bar"
           }
          ],
          "barpolar": [
           {
            "marker": {
             "line": {
              "color": "#E5ECF6",
              "width": 0.5
             },
             "pattern": {
              "fillmode": "overlay",
              "size": 10,
              "solidity": 0.2
             }
            },
            "type": "barpolar"
           }
          ],
          "carpet": [
           {
            "aaxis": {
             "endlinecolor": "#2a3f5f",
             "gridcolor": "white",
             "linecolor": "white",
             "minorgridcolor": "white",
             "startlinecolor": "#2a3f5f"
            },
            "baxis": {
             "endlinecolor": "#2a3f5f",
             "gridcolor": "white",
             "linecolor": "white",
             "minorgridcolor": "white",
             "startlinecolor": "#2a3f5f"
            },
            "type": "carpet"
           }
          ],
          "choropleth": [
           {
            "colorbar": {
             "outlinewidth": 0,
             "ticks": ""
            },
            "type": "choropleth"
           }
          ],
          "contour": [
           {
            "colorbar": {
             "outlinewidth": 0,
             "ticks": ""
            },
            "colorscale": [
             [
              0,
              "#0d0887"
             ],
             [
              0.1111111111111111,
              "#46039f"
             ],
             [
              0.2222222222222222,
              "#7201a8"
             ],
             [
              0.3333333333333333,
              "#9c179e"
             ],
             [
              0.4444444444444444,
              "#bd3786"
             ],
             [
              0.5555555555555556,
              "#d8576b"
             ],
             [
              0.6666666666666666,
              "#ed7953"
             ],
             [
              0.7777777777777778,
              "#fb9f3a"
             ],
             [
              0.8888888888888888,
              "#fdca26"
             ],
             [
              1,
              "#f0f921"
             ]
            ],
            "type": "contour"
           }
          ],
          "contourcarpet": [
           {
            "colorbar": {
             "outlinewidth": 0,
             "ticks": ""
            },
            "type": "contourcarpet"
           }
          ],
          "heatmap": [
           {
            "colorbar": {
             "outlinewidth": 0,
             "ticks": ""
            },
            "colorscale": [
             [
              0,
              "#0d0887"
             ],
             [
              0.1111111111111111,
              "#46039f"
             ],
             [
              0.2222222222222222,
              "#7201a8"
             ],
             [
              0.3333333333333333,
              "#9c179e"
             ],
             [
              0.4444444444444444,
              "#bd3786"
             ],
             [
              0.5555555555555556,
              "#d8576b"
             ],
             [
              0.6666666666666666,
              "#ed7953"
             ],
             [
              0.7777777777777778,
              "#fb9f3a"
             ],
             [
              0.8888888888888888,
              "#fdca26"
             ],
             [
              1,
              "#f0f921"
             ]
            ],
            "type": "heatmap"
           }
          ],
          "heatmapgl": [
           {
            "colorbar": {
             "outlinewidth": 0,
             "ticks": ""
            },
            "colorscale": [
             [
              0,
              "#0d0887"
             ],
             [
              0.1111111111111111,
              "#46039f"
             ],
             [
              0.2222222222222222,
              "#7201a8"
             ],
             [
              0.3333333333333333,
              "#9c179e"
             ],
             [
              0.4444444444444444,
              "#bd3786"
             ],
             [
              0.5555555555555556,
              "#d8576b"
             ],
             [
              0.6666666666666666,
              "#ed7953"
             ],
             [
              0.7777777777777778,
              "#fb9f3a"
             ],
             [
              0.8888888888888888,
              "#fdca26"
             ],
             [
              1,
              "#f0f921"
             ]
            ],
            "type": "heatmapgl"
           }
          ],
          "histogram": [
           {
            "marker": {
             "pattern": {
              "fillmode": "overlay",
              "size": 10,
              "solidity": 0.2
             }
            },
            "type": "histogram"
           }
          ],
          "histogram2d": [
           {
            "colorbar": {
             "outlinewidth": 0,
             "ticks": ""
            },
            "colorscale": [
             [
              0,
              "#0d0887"
             ],
             [
              0.1111111111111111,
              "#46039f"
             ],
             [
              0.2222222222222222,
              "#7201a8"
             ],
             [
              0.3333333333333333,
              "#9c179e"
             ],
             [
              0.4444444444444444,
              "#bd3786"
             ],
             [
              0.5555555555555556,
              "#d8576b"
             ],
             [
              0.6666666666666666,
              "#ed7953"
             ],
             [
              0.7777777777777778,
              "#fb9f3a"
             ],
             [
              0.8888888888888888,
              "#fdca26"
             ],
             [
              1,
              "#f0f921"
             ]
            ],
            "type": "histogram2d"
           }
          ],
          "histogram2dcontour": [
           {
            "colorbar": {
             "outlinewidth": 0,
             "ticks": ""
            },
            "colorscale": [
             [
              0,
              "#0d0887"
             ],
             [
              0.1111111111111111,
              "#46039f"
             ],
             [
              0.2222222222222222,
              "#7201a8"
             ],
             [
              0.3333333333333333,
              "#9c179e"
             ],
             [
              0.4444444444444444,
              "#bd3786"
             ],
             [
              0.5555555555555556,
              "#d8576b"
             ],
             [
              0.6666666666666666,
              "#ed7953"
             ],
             [
              0.7777777777777778,
              "#fb9f3a"
             ],
             [
              0.8888888888888888,
              "#fdca26"
             ],
             [
              1,
              "#f0f921"
             ]
            ],
            "type": "histogram2dcontour"
           }
          ],
          "mesh3d": [
           {
            "colorbar": {
             "outlinewidth": 0,
             "ticks": ""
            },
            "type": "mesh3d"
           }
          ],
          "parcoords": [
           {
            "line": {
             "colorbar": {
              "outlinewidth": 0,
              "ticks": ""
             }
            },
            "type": "parcoords"
           }
          ],
          "pie": [
           {
            "automargin": true,
            "type": "pie"
           }
          ],
          "scatter": [
           {
            "fillpattern": {
             "fillmode": "overlay",
             "size": 10,
             "solidity": 0.2
            },
            "type": "scatter"
           }
          ],
          "scatter3d": [
           {
            "line": {
             "colorbar": {
              "outlinewidth": 0,
              "ticks": ""
             }
            },
            "marker": {
             "colorbar": {
              "outlinewidth": 0,
              "ticks": ""
             }
            },
            "type": "scatter3d"
           }
          ],
          "scattercarpet": [
           {
            "marker": {
             "colorbar": {
              "outlinewidth": 0,
              "ticks": ""
             }
            },
            "type": "scattercarpet"
           }
          ],
          "scattergeo": [
           {
            "marker": {
             "colorbar": {
              "outlinewidth": 0,
              "ticks": ""
             }
            },
            "type": "scattergeo"
           }
          ],
          "scattergl": [
           {
            "marker": {
             "colorbar": {
              "outlinewidth": 0,
              "ticks": ""
             }
            },
            "type": "scattergl"
           }
          ],
          "scattermapbox": [
           {
            "marker": {
             "colorbar": {
              "outlinewidth": 0,
              "ticks": ""
             }
            },
            "type": "scattermapbox"
           }
          ],
          "scatterpolar": [
           {
            "marker": {
             "colorbar": {
              "outlinewidth": 0,
              "ticks": ""
             }
            },
            "type": "scatterpolar"
           }
          ],
          "scatterpolargl": [
           {
            "marker": {
             "colorbar": {
              "outlinewidth": 0,
              "ticks": ""
             }
            },
            "type": "scatterpolargl"
           }
          ],
          "scatterternary": [
           {
            "marker": {
             "colorbar": {
              "outlinewidth": 0,
              "ticks": ""
             }
            },
            "type": "scatterternary"
           }
          ],
          "surface": [
           {
            "colorbar": {
             "outlinewidth": 0,
             "ticks": ""
            },
            "colorscale": [
             [
              0,
              "#0d0887"
             ],
             [
              0.1111111111111111,
              "#46039f"
             ],
             [
              0.2222222222222222,
              "#7201a8"
             ],
             [
              0.3333333333333333,
              "#9c179e"
             ],
             [
              0.4444444444444444,
              "#bd3786"
             ],
             [
              0.5555555555555556,
              "#d8576b"
             ],
             [
              0.6666666666666666,
              "#ed7953"
             ],
             [
              0.7777777777777778,
              "#fb9f3a"
             ],
             [
              0.8888888888888888,
              "#fdca26"
             ],
             [
              1,
              "#f0f921"
             ]
            ],
            "type": "surface"
           }
          ],
          "table": [
           {
            "cells": {
             "fill": {
              "color": "#EBF0F8"
             },
             "line": {
              "color": "white"
             }
            },
            "header": {
             "fill": {
              "color": "#C8D4E3"
             },
             "line": {
              "color": "white"
             }
            },
            "type": "table"
           }
          ]
         },
         "layout": {
          "annotationdefaults": {
           "arrowcolor": "#2a3f5f",
           "arrowhead": 0,
           "arrowwidth": 1
          },
          "autotypenumbers": "strict",
          "coloraxis": {
           "colorbar": {
            "outlinewidth": 0,
            "ticks": ""
           }
          },
          "colorscale": {
           "diverging": [
            [
             0,
             "#8e0152"
            ],
            [
             0.1,
             "#c51b7d"
            ],
            [
             0.2,
             "#de77ae"
            ],
            [
             0.3,
             "#f1b6da"
            ],
            [
             0.4,
             "#fde0ef"
            ],
            [
             0.5,
             "#f7f7f7"
            ],
            [
             0.6,
             "#e6f5d0"
            ],
            [
             0.7,
             "#b8e186"
            ],
            [
             0.8,
             "#7fbc41"
            ],
            [
             0.9,
             "#4d9221"
            ],
            [
             1,
             "#276419"
            ]
           ],
           "sequential": [
            [
             0,
             "#0d0887"
            ],
            [
             0.1111111111111111,
             "#46039f"
            ],
            [
             0.2222222222222222,
             "#7201a8"
            ],
            [
             0.3333333333333333,
             "#9c179e"
            ],
            [
             0.4444444444444444,
             "#bd3786"
            ],
            [
             0.5555555555555556,
             "#d8576b"
            ],
            [
             0.6666666666666666,
             "#ed7953"
            ],
            [
             0.7777777777777778,
             "#fb9f3a"
            ],
            [
             0.8888888888888888,
             "#fdca26"
            ],
            [
             1,
             "#f0f921"
            ]
           ],
           "sequentialminus": [
            [
             0,
             "#0d0887"
            ],
            [
             0.1111111111111111,
             "#46039f"
            ],
            [
             0.2222222222222222,
             "#7201a8"
            ],
            [
             0.3333333333333333,
             "#9c179e"
            ],
            [
             0.4444444444444444,
             "#bd3786"
            ],
            [
             0.5555555555555556,
             "#d8576b"
            ],
            [
             0.6666666666666666,
             "#ed7953"
            ],
            [
             0.7777777777777778,
             "#fb9f3a"
            ],
            [
             0.8888888888888888,
             "#fdca26"
            ],
            [
             1,
             "#f0f921"
            ]
           ]
          },
          "colorway": [
           "#636efa",
           "#EF553B",
           "#00cc96",
           "#ab63fa",
           "#FFA15A",
           "#19d3f3",
           "#FF6692",
           "#B6E880",
           "#FF97FF",
           "#FECB52"
          ],
          "font": {
           "color": "#2a3f5f"
          },
          "geo": {
           "bgcolor": "white",
           "lakecolor": "white",
           "landcolor": "#E5ECF6",
           "showlakes": true,
           "showland": true,
           "subunitcolor": "white"
          },
          "hoverlabel": {
           "align": "left"
          },
          "hovermode": "closest",
          "mapbox": {
           "style": "light"
          },
          "paper_bgcolor": "white",
          "plot_bgcolor": "#E5ECF6",
          "polar": {
           "angularaxis": {
            "gridcolor": "white",
            "linecolor": "white",
            "ticks": ""
           },
           "bgcolor": "#E5ECF6",
           "radialaxis": {
            "gridcolor": "white",
            "linecolor": "white",
            "ticks": ""
           }
          },
          "scene": {
           "xaxis": {
            "backgroundcolor": "#E5ECF6",
            "gridcolor": "white",
            "gridwidth": 2,
            "linecolor": "white",
            "showbackground": true,
            "ticks": "",
            "zerolinecolor": "white"
           },
           "yaxis": {
            "backgroundcolor": "#E5ECF6",
            "gridcolor": "white",
            "gridwidth": 2,
            "linecolor": "white",
            "showbackground": true,
            "ticks": "",
            "zerolinecolor": "white"
           },
           "zaxis": {
            "backgroundcolor": "#E5ECF6",
            "gridcolor": "white",
            "gridwidth": 2,
            "linecolor": "white",
            "showbackground": true,
            "ticks": "",
            "zerolinecolor": "white"
           }
          },
          "shapedefaults": {
           "line": {
            "color": "#2a3f5f"
           }
          },
          "ternary": {
           "aaxis": {
            "gridcolor": "white",
            "linecolor": "white",
            "ticks": ""
           },
           "baxis": {
            "gridcolor": "white",
            "linecolor": "white",
            "ticks": ""
           },
           "bgcolor": "#E5ECF6",
           "caxis": {
            "gridcolor": "white",
            "linecolor": "white",
            "ticks": ""
           }
          },
          "title": {
           "x": 0.05
          },
          "xaxis": {
           "automargin": true,
           "gridcolor": "white",
           "linecolor": "white",
           "ticks": "",
           "title": {
            "standoff": 15
           },
           "zerolinecolor": "white",
           "zerolinewidth": 2
          },
          "yaxis": {
           "automargin": true,
           "gridcolor": "white",
           "linecolor": "white",
           "ticks": "",
           "title": {
            "standoff": 15
           },
           "zerolinecolor": "white",
           "zerolinewidth": 2
          }
         }
        },
        "title": {
         "font": {
          "color": "#4D5663"
         }
        },
        "xaxis": {
         "gridcolor": "#E1E5ED",
         "showgrid": true,
         "tickfont": {
          "color": "#4D5663"
         },
         "title": {
          "font": {
           "color": "#4D5663"
          },
          "text": ""
         },
         "zerolinecolor": "#E1E5ED"
        },
        "yaxis": {
         "gridcolor": "#E1E5ED",
         "showgrid": true,
         "tickfont": {
          "color": "#4D5663"
         },
         "title": {
          "font": {
           "color": "#4D5663"
          },
          "text": ""
         },
         "zerolinecolor": "#E1E5ED"
        }
       }
      },
      "text/html": [
       "<div>                            <div id=\"3cf39185-ac5c-4888-af35-0699197234d3\" class=\"plotly-graph-div\" style=\"height:525px; width:100%;\"></div>            <script type=\"text/javascript\">                require([\"plotly\"], function(Plotly) {                    window.PLOTLYENV=window.PLOTLYENV || {};\n",
       "                    window.PLOTLYENV.BASE_URL='https://plot.ly';                                    if (document.getElementById(\"3cf39185-ac5c-4888-af35-0699197234d3\")) {                    Plotly.newPlot(                        \"3cf39185-ac5c-4888-af35-0699197234d3\",                        [{\"histfunc\":\"count\",\"histnorm\":\"\",\"marker\":{\"color\":\"rgba(255, 153, 51, 1.0)\",\"line\":{\"color\":\"#4D5663\",\"width\":1.3}},\"name\":\"A\",\"nbinsx\":25,\"opacity\":0.8,\"orientation\":\"v\",\"x\":[-1.487606705268289,-1.3270966904104238,0.3604379283601886,-1.0755063445021371,0.3811337534773147,2.0641007329383485,-0.48203477848504866,-0.38832558174328935,1.7478672968117868,1.1158691106492418,0.2896935352623028,-0.3812217927690513,0.42123870859889845,1.8812870946781968,2.557404536964999,-0.7058476334484991,0.28569424203115323,0.24695939642219372,-0.6385715504663668,0.9026702831781179,2.298729565138558,0.11640944430966896,0.42767735280331637,0.33544870905998614,0.16811832161387877,-0.21121411331425205,0.5874308678366539,-1.1216357817595521,0.11255262014025855,1.1853522193052266,0.45797947718207993,0.06034425911595249,0.9711702720221174,-0.7824061933747677,0.6276524906327481,-1.0548261198142173,-1.0832514348502216,-0.36189322746518,0.643434169576394,0.4488595629144203,0.8061508090023473,-1.222979893598644,-0.6920946263116126,-1.2937441326912544,0.23876442953656232,-0.817684328749027,0.08369524837438268,0.13287413960379232,-0.2499943512909606,0.6636954943467446,-0.5280332499790815,-0.5398566815380538,-0.31918190307525746,2.254926925098105,-0.7632175571836918,-1.1048423421686462,1.1028289510008162,-1.2097544316232944,-1.1939998494256865,1.2253107286051743,0.031116092717685246,-0.7487543140223533,1.4274039877008702,-2.4152283125719656,0.8018374859983983,-0.652637162274179,-1.109773355409906,0.9421069223405514,0.9272547022786595,-2.0967011767857966,-0.9386686213866825,1.2712810659600504,0.6688989976815631,-1.538865098729885,0.7131115264494275,-0.6467904553989622,1.2822063664196233,-0.30066345972728864,0.5960304893962182,0.6082958314371802,-1.3267205129120214,0.8887344180865127,0.9487101456582948,1.208515049669603,-0.49564632045569046,-2.171379335945453,-0.5722068920663259,0.821728319864167,-0.4532924125120422,0.5176236846070436,1.074779233055591,-0.04980169881531574,-1.1325388535132843,-0.8340003699765887,0.4681608886840201,0.340074509311427,0.9532273672009145,-0.551300031728624,1.5019798360618883,2.0813328323766336,-1.8888588017436174,0.5527504926273384,-1.832394693910066,-0.1891939936596043,-0.1795525048751539,-0.41353587573206846,0.6119219622848441,0.3669411247956404,-1.656394643836909,0.6825827271960428,0.40978281154268725,-1.027348486216504,-0.8913232958653983,-2.176619637487184,1.6404497173622186,-1.1539800497331998,-2.6344933558902484,1.3269304883606206,-0.4686755309635699,0.15375555596251558,-0.003231518781125517,-2.5756810430242285,0.23191043239930428,-0.20325011510086552,-0.1262256677960052,-0.4306067892790383,2.223999933559132,-0.28481970484576097,0.041636347874112516,0.8363856899449069,-0.7190061049681735,-1.660586642755478,-0.8424461151634391,-1.3410654086417828,0.5173398539462267,-1.3712460727772473,-0.4467550562662734,0.9157433279770691,1.754416969372457,0.6747547564025815,0.6483259564379472,0.9589442722537845,-1.1404949913493048,-0.9607080724043362,-0.4758449423533752,-0.2995599393280748,-0.24888778174690462,0.15542907347123394,-1.2558919529016797,1.4884181758140078,-0.17569860858299177,1.225904563594473,1.1324490392969089,0.3835923409382287,1.9124939131151277,-0.47992141278970996,-0.17605511359007,0.2200553792256361,-0.45229522971198904,-1.8838923550993498,0.13315305673333974,-0.8266448326458588,1.2294707915972516,0.6778486167632689,-0.15856560330555253,1.0126681253705112,0.6806465776765602,-2.341158623582788,0.2755666236492162,-0.7172182469495813,0.7930105775209679,0.39568977405882394,1.528726412996672,0.24679536520261422,-0.46161608591743614,-0.41260788090652584,-0.9197333364273914,1.2672340572160545,-0.7680399463059111,0.20875650311460647,-0.8688520154587448,1.1871175195914496,0.4318475877039881,0.22291570222242593,1.912613011968483,-1.1895491534313078,-0.8601534520780754,-0.6884358071535207,1.6067100199942381,0.8869574010673043,2.2738448377759197,0.053238690773936066,-0.10165799243942343,-1.5322439587081917,1.4952390580885375,-0.3456678618511981,-0.09156509867611441,-1.7259238493479152,0.42627109535565494,0.13155584440661],\"type\":\"histogram\"}],                        {\"barmode\":\"overlay\",\"legend\":{\"bgcolor\":\"#F5F6F9\",\"font\":{\"color\":\"#4D5663\"}},\"paper_bgcolor\":\"#F5F6F9\",\"plot_bgcolor\":\"#F5F6F9\",\"template\":{\"data\":{\"barpolar\":[{\"marker\":{\"line\":{\"color\":\"#E5ECF6\",\"width\":0.5},\"pattern\":{\"fillmode\":\"overlay\",\"size\":10,\"solidity\":0.2}},\"type\":\"barpolar\"}],\"bar\":[{\"error_x\":{\"color\":\"#2a3f5f\"},\"error_y\":{\"color\":\"#2a3f5f\"},\"marker\":{\"line\":{\"color\":\"#E5ECF6\",\"width\":0.5},\"pattern\":{\"fillmode\":\"overlay\",\"size\":10,\"solidity\":0.2}},\"type\":\"bar\"}],\"carpet\":[{\"aaxis\":{\"endlinecolor\":\"#2a3f5f\",\"gridcolor\":\"white\",\"linecolor\":\"white\",\"minorgridcolor\":\"white\",\"startlinecolor\":\"#2a3f5f\"},\"baxis\":{\"endlinecolor\":\"#2a3f5f\",\"gridcolor\":\"white\",\"linecolor\":\"white\",\"minorgridcolor\":\"white\",\"startlinecolor\":\"#2a3f5f\"},\"type\":\"carpet\"}],\"choropleth\":[{\"colorbar\":{\"outlinewidth\":0,\"ticks\":\"\"},\"type\":\"choropleth\"}],\"contourcarpet\":[{\"colorbar\":{\"outlinewidth\":0,\"ticks\":\"\"},\"type\":\"contourcarpet\"}],\"contour\":[{\"colorbar\":{\"outlinewidth\":0,\"ticks\":\"\"},\"colorscale\":[[0.0,\"#0d0887\"],[0.1111111111111111,\"#46039f\"],[0.2222222222222222,\"#7201a8\"],[0.3333333333333333,\"#9c179e\"],[0.4444444444444444,\"#bd3786\"],[0.5555555555555556,\"#d8576b\"],[0.6666666666666666,\"#ed7953\"],[0.7777777777777778,\"#fb9f3a\"],[0.8888888888888888,\"#fdca26\"],[1.0,\"#f0f921\"]],\"type\":\"contour\"}],\"heatmapgl\":[{\"colorbar\":{\"outlinewidth\":0,\"ticks\":\"\"},\"colorscale\":[[0.0,\"#0d0887\"],[0.1111111111111111,\"#46039f\"],[0.2222222222222222,\"#7201a8\"],[0.3333333333333333,\"#9c179e\"],[0.4444444444444444,\"#bd3786\"],[0.5555555555555556,\"#d8576b\"],[0.6666666666666666,\"#ed7953\"],[0.7777777777777778,\"#fb9f3a\"],[0.8888888888888888,\"#fdca26\"],[1.0,\"#f0f921\"]],\"type\":\"heatmapgl\"}],\"heatmap\":[{\"colorbar\":{\"outlinewidth\":0,\"ticks\":\"\"},\"colorscale\":[[0.0,\"#0d0887\"],[0.1111111111111111,\"#46039f\"],[0.2222222222222222,\"#7201a8\"],[0.3333333333333333,\"#9c179e\"],[0.4444444444444444,\"#bd3786\"],[0.5555555555555556,\"#d8576b\"],[0.6666666666666666,\"#ed7953\"],[0.7777777777777778,\"#fb9f3a\"],[0.8888888888888888,\"#fdca26\"],[1.0,\"#f0f921\"]],\"type\":\"heatmap\"}],\"histogram2dcontour\":[{\"colorbar\":{\"outlinewidth\":0,\"ticks\":\"\"},\"colorscale\":[[0.0,\"#0d0887\"],[0.1111111111111111,\"#46039f\"],[0.2222222222222222,\"#7201a8\"],[0.3333333333333333,\"#9c179e\"],[0.4444444444444444,\"#bd3786\"],[0.5555555555555556,\"#d8576b\"],[0.6666666666666666,\"#ed7953\"],[0.7777777777777778,\"#fb9f3a\"],[0.8888888888888888,\"#fdca26\"],[1.0,\"#f0f921\"]],\"type\":\"histogram2dcontour\"}],\"histogram2d\":[{\"colorbar\":{\"outlinewidth\":0,\"ticks\":\"\"},\"colorscale\":[[0.0,\"#0d0887\"],[0.1111111111111111,\"#46039f\"],[0.2222222222222222,\"#7201a8\"],[0.3333333333333333,\"#9c179e\"],[0.4444444444444444,\"#bd3786\"],[0.5555555555555556,\"#d8576b\"],[0.6666666666666666,\"#ed7953\"],[0.7777777777777778,\"#fb9f3a\"],[0.8888888888888888,\"#fdca26\"],[1.0,\"#f0f921\"]],\"type\":\"histogram2d\"}],\"histogram\":[{\"marker\":{\"pattern\":{\"fillmode\":\"overlay\",\"size\":10,\"solidity\":0.2}},\"type\":\"histogram\"}],\"mesh3d\":[{\"colorbar\":{\"outlinewidth\":0,\"ticks\":\"\"},\"type\":\"mesh3d\"}],\"parcoords\":[{\"line\":{\"colorbar\":{\"outlinewidth\":0,\"ticks\":\"\"}},\"type\":\"parcoords\"}],\"pie\":[{\"automargin\":true,\"type\":\"pie\"}],\"scatter3d\":[{\"line\":{\"colorbar\":{\"outlinewidth\":0,\"ticks\":\"\"}},\"marker\":{\"colorbar\":{\"outlinewidth\":0,\"ticks\":\"\"}},\"type\":\"scatter3d\"}],\"scattercarpet\":[{\"marker\":{\"colorbar\":{\"outlinewidth\":0,\"ticks\":\"\"}},\"type\":\"scattercarpet\"}],\"scattergeo\":[{\"marker\":{\"colorbar\":{\"outlinewidth\":0,\"ticks\":\"\"}},\"type\":\"scattergeo\"}],\"scattergl\":[{\"marker\":{\"colorbar\":{\"outlinewidth\":0,\"ticks\":\"\"}},\"type\":\"scattergl\"}],\"scattermapbox\":[{\"marker\":{\"colorbar\":{\"outlinewidth\":0,\"ticks\":\"\"}},\"type\":\"scattermapbox\"}],\"scatterpolargl\":[{\"marker\":{\"colorbar\":{\"outlinewidth\":0,\"ticks\":\"\"}},\"type\":\"scatterpolargl\"}],\"scatterpolar\":[{\"marker\":{\"colorbar\":{\"outlinewidth\":0,\"ticks\":\"\"}},\"type\":\"scatterpolar\"}],\"scatter\":[{\"fillpattern\":{\"fillmode\":\"overlay\",\"size\":10,\"solidity\":0.2},\"type\":\"scatter\"}],\"scatterternary\":[{\"marker\":{\"colorbar\":{\"outlinewidth\":0,\"ticks\":\"\"}},\"type\":\"scatterternary\"}],\"surface\":[{\"colorbar\":{\"outlinewidth\":0,\"ticks\":\"\"},\"colorscale\":[[0.0,\"#0d0887\"],[0.1111111111111111,\"#46039f\"],[0.2222222222222222,\"#7201a8\"],[0.3333333333333333,\"#9c179e\"],[0.4444444444444444,\"#bd3786\"],[0.5555555555555556,\"#d8576b\"],[0.6666666666666666,\"#ed7953\"],[0.7777777777777778,\"#fb9f3a\"],[0.8888888888888888,\"#fdca26\"],[1.0,\"#f0f921\"]],\"type\":\"surface\"}],\"table\":[{\"cells\":{\"fill\":{\"color\":\"#EBF0F8\"},\"line\":{\"color\":\"white\"}},\"header\":{\"fill\":{\"color\":\"#C8D4E3\"},\"line\":{\"color\":\"white\"}},\"type\":\"table\"}]},\"layout\":{\"annotationdefaults\":{\"arrowcolor\":\"#2a3f5f\",\"arrowhead\":0,\"arrowwidth\":1},\"autotypenumbers\":\"strict\",\"coloraxis\":{\"colorbar\":{\"outlinewidth\":0,\"ticks\":\"\"}},\"colorscale\":{\"diverging\":[[0,\"#8e0152\"],[0.1,\"#c51b7d\"],[0.2,\"#de77ae\"],[0.3,\"#f1b6da\"],[0.4,\"#fde0ef\"],[0.5,\"#f7f7f7\"],[0.6,\"#e6f5d0\"],[0.7,\"#b8e186\"],[0.8,\"#7fbc41\"],[0.9,\"#4d9221\"],[1,\"#276419\"]],\"sequential\":[[0.0,\"#0d0887\"],[0.1111111111111111,\"#46039f\"],[0.2222222222222222,\"#7201a8\"],[0.3333333333333333,\"#9c179e\"],[0.4444444444444444,\"#bd3786\"],[0.5555555555555556,\"#d8576b\"],[0.6666666666666666,\"#ed7953\"],[0.7777777777777778,\"#fb9f3a\"],[0.8888888888888888,\"#fdca26\"],[1.0,\"#f0f921\"]],\"sequentialminus\":[[0.0,\"#0d0887\"],[0.1111111111111111,\"#46039f\"],[0.2222222222222222,\"#7201a8\"],[0.3333333333333333,\"#9c179e\"],[0.4444444444444444,\"#bd3786\"],[0.5555555555555556,\"#d8576b\"],[0.6666666666666666,\"#ed7953\"],[0.7777777777777778,\"#fb9f3a\"],[0.8888888888888888,\"#fdca26\"],[1.0,\"#f0f921\"]]},\"colorway\":[\"#636efa\",\"#EF553B\",\"#00cc96\",\"#ab63fa\",\"#FFA15A\",\"#19d3f3\",\"#FF6692\",\"#B6E880\",\"#FF97FF\",\"#FECB52\"],\"font\":{\"color\":\"#2a3f5f\"},\"geo\":{\"bgcolor\":\"white\",\"lakecolor\":\"white\",\"landcolor\":\"#E5ECF6\",\"showlakes\":true,\"showland\":true,\"subunitcolor\":\"white\"},\"hoverlabel\":{\"align\":\"left\"},\"hovermode\":\"closest\",\"mapbox\":{\"style\":\"light\"},\"paper_bgcolor\":\"white\",\"plot_bgcolor\":\"#E5ECF6\",\"polar\":{\"angularaxis\":{\"gridcolor\":\"white\",\"linecolor\":\"white\",\"ticks\":\"\"},\"bgcolor\":\"#E5ECF6\",\"radialaxis\":{\"gridcolor\":\"white\",\"linecolor\":\"white\",\"ticks\":\"\"}},\"scene\":{\"xaxis\":{\"backgroundcolor\":\"#E5ECF6\",\"gridcolor\":\"white\",\"gridwidth\":2,\"linecolor\":\"white\",\"showbackground\":true,\"ticks\":\"\",\"zerolinecolor\":\"white\"},\"yaxis\":{\"backgroundcolor\":\"#E5ECF6\",\"gridcolor\":\"white\",\"gridwidth\":2,\"linecolor\":\"white\",\"showbackground\":true,\"ticks\":\"\",\"zerolinecolor\":\"white\"},\"zaxis\":{\"backgroundcolor\":\"#E5ECF6\",\"gridcolor\":\"white\",\"gridwidth\":2,\"linecolor\":\"white\",\"showbackground\":true,\"ticks\":\"\",\"zerolinecolor\":\"white\"}},\"shapedefaults\":{\"line\":{\"color\":\"#2a3f5f\"}},\"ternary\":{\"aaxis\":{\"gridcolor\":\"white\",\"linecolor\":\"white\",\"ticks\":\"\"},\"baxis\":{\"gridcolor\":\"white\",\"linecolor\":\"white\",\"ticks\":\"\"},\"bgcolor\":\"#E5ECF6\",\"caxis\":{\"gridcolor\":\"white\",\"linecolor\":\"white\",\"ticks\":\"\"}},\"title\":{\"x\":0.05},\"xaxis\":{\"automargin\":true,\"gridcolor\":\"white\",\"linecolor\":\"white\",\"ticks\":\"\",\"title\":{\"standoff\":15},\"zerolinecolor\":\"white\",\"zerolinewidth\":2},\"yaxis\":{\"automargin\":true,\"gridcolor\":\"white\",\"linecolor\":\"white\",\"ticks\":\"\",\"title\":{\"standoff\":15},\"zerolinecolor\":\"white\",\"zerolinewidth\":2}}},\"title\":{\"font\":{\"color\":\"#4D5663\"}},\"xaxis\":{\"gridcolor\":\"#E1E5ED\",\"showgrid\":true,\"tickfont\":{\"color\":\"#4D5663\"},\"title\":{\"font\":{\"color\":\"#4D5663\"},\"text\":\"\"},\"zerolinecolor\":\"#E1E5ED\"},\"yaxis\":{\"gridcolor\":\"#E1E5ED\",\"showgrid\":true,\"tickfont\":{\"color\":\"#4D5663\"},\"title\":{\"font\":{\"color\":\"#4D5663\"},\"text\":\"\"},\"zerolinecolor\":\"#E1E5ED\"}},                        {\"showLink\": true, \"linkText\": \"Export to plot.ly\", \"plotlyServerURL\": \"https://plot.ly\", \"responsive\": true}                    ).then(function(){\n",
       "                            \n",
       "var gd = document.getElementById('3cf39185-ac5c-4888-af35-0699197234d3');\n",
       "var x = new MutationObserver(function (mutations, observer) {{\n",
       "        var display = window.getComputedStyle(gd).display;\n",
       "        if (!display || display === 'none') {{\n",
       "            console.log([gd, 'removed!']);\n",
       "            Plotly.purge(gd);\n",
       "            observer.disconnect();\n",
       "        }}\n",
       "}});\n",
       "\n",
       "// Listen for the removal of the full notebook cells\n",
       "var notebookContainer = gd.closest('#notebook-container');\n",
       "if (notebookContainer) {{\n",
       "    x.observe(notebookContainer, {childList: true});\n",
       "}}\n",
       "\n",
       "// Listen for the clearing of the current output cell\n",
       "var outputEl = gd.closest('.output');\n",
       "if (outputEl) {{\n",
       "    x.observe(outputEl, {childList: true});\n",
       "}}\n",
       "\n",
       "                        })                };                });            </script>        </div>"
      ]
     },
     "metadata": {},
     "output_type": "display_data"
    }
   ],
   "source": [
    "# Histogram plot\n",
    "df['A'].iplot(kind='hist', bins=25)"
   ]
  },
  {
   "cell_type": "code",
   "execution_count": 21,
   "metadata": {},
   "outputs": [
    {
     "data": {
      "application/vnd.plotly.v1+json": {
       "config": {
        "linkText": "Export to plot.ly",
        "plotlyServerURL": "https://plot.ly",
        "showLink": true
       },
       "data": [
        {
         "histfunc": "count",
         "histnorm": "",
         "marker": {
          "color": "rgba(255, 153, 51, 1.0)",
          "line": {
           "color": "#4D5663",
           "width": 1.3
          }
         },
         "name": "A",
         "opacity": 0.8,
         "orientation": "v",
         "type": "histogram",
         "x": [
          -1.487606705268289,
          -1.3270966904104238,
          0.3604379283601886,
          -1.0755063445021371,
          0.3811337534773147,
          2.0641007329383485,
          -0.48203477848504866,
          -0.38832558174328935,
          1.7478672968117868,
          1.1158691106492418,
          0.2896935352623028,
          -0.3812217927690513,
          0.42123870859889845,
          1.8812870946781968,
          2.557404536964999,
          -0.7058476334484991,
          0.28569424203115323,
          0.24695939642219372,
          -0.6385715504663668,
          0.9026702831781179,
          2.298729565138558,
          0.11640944430966896,
          0.42767735280331637,
          0.33544870905998614,
          0.16811832161387877,
          -0.21121411331425205,
          0.5874308678366539,
          -1.1216357817595521,
          0.11255262014025855,
          1.1853522193052266,
          0.45797947718207993,
          0.06034425911595249,
          0.9711702720221174,
          -0.7824061933747677,
          0.6276524906327481,
          -1.0548261198142173,
          -1.0832514348502216,
          -0.36189322746518,
          0.643434169576394,
          0.4488595629144203,
          0.8061508090023473,
          -1.222979893598644,
          -0.6920946263116126,
          -1.2937441326912544,
          0.23876442953656232,
          -0.817684328749027,
          0.08369524837438268,
          0.13287413960379232,
          -0.2499943512909606,
          0.6636954943467446,
          -0.5280332499790815,
          -0.5398566815380538,
          -0.31918190307525746,
          2.254926925098105,
          -0.7632175571836918,
          -1.1048423421686462,
          1.1028289510008162,
          -1.2097544316232944,
          -1.1939998494256865,
          1.2253107286051743,
          0.031116092717685246,
          -0.7487543140223533,
          1.4274039877008702,
          -2.4152283125719656,
          0.8018374859983983,
          -0.652637162274179,
          -1.109773355409906,
          0.9421069223405514,
          0.9272547022786595,
          -2.0967011767857966,
          -0.9386686213866825,
          1.2712810659600504,
          0.6688989976815631,
          -1.538865098729885,
          0.7131115264494275,
          -0.6467904553989622,
          1.2822063664196233,
          -0.30066345972728864,
          0.5960304893962182,
          0.6082958314371802,
          -1.3267205129120214,
          0.8887344180865127,
          0.9487101456582948,
          1.208515049669603,
          -0.49564632045569046,
          -2.171379335945453,
          -0.5722068920663259,
          0.821728319864167,
          -0.4532924125120422,
          0.5176236846070436,
          1.074779233055591,
          -0.04980169881531574,
          -1.1325388535132843,
          -0.8340003699765887,
          0.4681608886840201,
          0.340074509311427,
          0.9532273672009145,
          -0.551300031728624,
          1.5019798360618883,
          2.0813328323766336,
          -1.8888588017436174,
          0.5527504926273384,
          -1.832394693910066,
          -0.1891939936596043,
          -0.1795525048751539,
          -0.41353587573206846,
          0.6119219622848441,
          0.3669411247956404,
          -1.656394643836909,
          0.6825827271960428,
          0.40978281154268725,
          -1.027348486216504,
          -0.8913232958653983,
          -2.176619637487184,
          1.6404497173622186,
          -1.1539800497331998,
          -2.6344933558902484,
          1.3269304883606206,
          -0.4686755309635699,
          0.15375555596251558,
          -0.003231518781125517,
          -2.5756810430242285,
          0.23191043239930428,
          -0.20325011510086552,
          -0.1262256677960052,
          -0.4306067892790383,
          2.223999933559132,
          -0.28481970484576097,
          0.041636347874112516,
          0.8363856899449069,
          -0.7190061049681735,
          -1.660586642755478,
          -0.8424461151634391,
          -1.3410654086417828,
          0.5173398539462267,
          -1.3712460727772473,
          -0.4467550562662734,
          0.9157433279770691,
          1.754416969372457,
          0.6747547564025815,
          0.6483259564379472,
          0.9589442722537845,
          -1.1404949913493048,
          -0.9607080724043362,
          -0.4758449423533752,
          -0.2995599393280748,
          -0.24888778174690462,
          0.15542907347123394,
          -1.2558919529016797,
          1.4884181758140078,
          -0.17569860858299177,
          1.225904563594473,
          1.1324490392969089,
          0.3835923409382287,
          1.9124939131151277,
          -0.47992141278970996,
          -0.17605511359007,
          0.2200553792256361,
          -0.45229522971198904,
          -1.8838923550993498,
          0.13315305673333974,
          -0.8266448326458588,
          1.2294707915972516,
          0.6778486167632689,
          -0.15856560330555253,
          1.0126681253705112,
          0.6806465776765602,
          -2.341158623582788,
          0.2755666236492162,
          -0.7172182469495813,
          0.7930105775209679,
          0.39568977405882394,
          1.528726412996672,
          0.24679536520261422,
          -0.46161608591743614,
          -0.41260788090652584,
          -0.9197333364273914,
          1.2672340572160545,
          -0.7680399463059111,
          0.20875650311460647,
          -0.8688520154587448,
          1.1871175195914496,
          0.4318475877039881,
          0.22291570222242593,
          1.912613011968483,
          -1.1895491534313078,
          -0.8601534520780754,
          -0.6884358071535207,
          1.6067100199942381,
          0.8869574010673043,
          2.2738448377759197,
          0.053238690773936066,
          -0.10165799243942343,
          -1.5322439587081917,
          1.4952390580885375,
          -0.3456678618511981,
          -0.09156509867611441,
          -1.7259238493479152,
          0.42627109535565494,
          0.13155584440661
         ]
        },
        {
         "histfunc": "count",
         "histnorm": "",
         "marker": {
          "color": "rgba(55, 128, 191, 1.0)",
          "line": {
           "color": "#4D5663",
           "width": 1.3
          }
         },
         "name": "B",
         "opacity": 0.8,
         "orientation": "v",
         "type": "histogram",
         "x": [
          1.4018747311698432,
          0.12305038788003114,
          -2.0621604828169295,
          0.6310971788406574,
          0.017478005933253684,
          0.6964587848925091,
          0.6692142639756167,
          1.030659741046712,
          0.9596758077035872,
          -0.9164290079884374,
          -0.6446851483938009,
          -0.6116667373572493,
          1.7260305025206517,
          -0.2759506642155176,
          -0.3188067675342285,
          0.9549478759656118,
          0.4002068068348017,
          0.3618786329647358,
          -2.232852501779732,
          0.2634002979548043,
          -0.23434598180308425,
          0.44521962838237017,
          -1.8927127354319755,
          -1.3297540297781392,
          -0.07764797635478797,
          1.702839909849972,
          -1.0460649622342382,
          -0.23597238404268153,
          -1.3174204369042208,
          0.5712385004026206,
          -0.9397730609282275,
          1.244707443354532,
          -0.5536989612126252,
          0.6402166179463994,
          0.22426803921109695,
          -0.21264092848600558,
          -0.10993557287781922,
          -0.9819230417166805,
          0.6079360463127345,
          -0.6057679799690354,
          -1.1119745914173358,
          -1.560293807992332,
          -1.1987638460095538,
          0.4858277742131986,
          2.350569384291055,
          0.6151746971191706,
          0.3847879036524305,
          -0.40025360862732406,
          -0.2827464088764763,
          0.7732213376383255,
          -0.42574944193944025,
          -0.0977566524060275,
          -1.0460108459597866,
          -0.41906615486287035,
          -0.828081174470112,
          -1.5777766072475146,
          -1.751258971395327,
          -0.4577098650787121,
          -0.48384052874521427,
          0.6370632780928125,
          0.6135858592175875,
          -1.0524005004526487,
          -0.18939000452678795,
          1.4832097967972961,
          -1.4478718403622282,
          -1.175823620507187,
          -1.348720049032188,
          -0.840154268876634,
          0.16179821554044488,
          0.4215991235352048,
          -0.09304837280981533,
          1.0229402146371382,
          -0.6777075034485878,
          2.363547662269973,
          0.17517567510440044,
          -1.0142764458464555,
          0.769643017358293,
          -0.559782604130007,
          -0.09826200135677465,
          -2.19532344141647,
          -0.9028689610271179,
          -0.5641688540688159,
          0.0069344933942429516,
          1.771818416056886,
          -0.7042878205436063,
          -1.141511977610186,
          1.104695798124243,
          0.05504535578585138,
          -0.903445628111115,
          -1.0751312204194619,
          0.5433315622422493,
          -0.4816293656408814,
          0.4315047393038972,
          -0.13705156305918187,
          0.3792927120427439,
          -0.11521231565490844,
          -1.2704729596598132,
          -1.3483168965194472,
          -1.671616523024985,
          -0.1521424450157583,
          0.5440995446011344,
          -0.3718765369382678,
          -1.3965083041927662,
          2.526942966641223,
          2.239723475005572,
          -1.4859105355107327,
          1.9818013383576558,
          0.802989460671471,
          1.0303651079399383,
          2.3335949332225114,
          -2.2910087524718072,
          -1.1537515922644148,
          -1.3750319900867725,
          -1.6326060100061293,
          0.6645823180882093,
          1.4740851265119306,
          -0.7666063770492628,
          -0.5548089730982696,
          1.408417243841149,
          -0.4820681914552715,
          1.4701297681558765,
          0.27907719634906686,
          0.7102972508579796,
          -1.5217772011708037,
          0.010862325434475873,
          -0.016880069539919544,
          0.7993093349399368,
          1.015635996790291,
          -0.4474593226688298,
          0.7621086015075268,
          0.8856847020812305,
          1.2102974267836348,
          -1.5386477932819997,
          0.03834324809398329,
          -0.22576792002145568,
          1.0537342040776074,
          -1.3138277848469238,
          0.07049054804272177,
          0.4018169670712659,
          -0.2801832887276961,
          -0.5690121191476055,
          0.35598993442828114,
          -0.004734667011751212,
          0.33230256805073644,
          1.962345783467431,
          -0.2940856894796608,
          -0.1283389011930353,
          0.6168331074300294,
          0.7662626610879297,
          -1.7383020615197815,
          -1.2929174451479046,
          -2.096026957868482,
          0.42565821552001964,
          -0.5002591085547238,
          -0.919531712491247,
          -1.2964648092634155,
          -0.6962169438232568,
          0.03230857859249144,
          -0.529635964552918,
          2.0666298734833393,
          -0.17675252627642735,
          -1.0095191628490185,
          -0.5861082273681731,
          0.6937314493180352,
          0.9261375158887465,
          -1.1213803593314928,
          0.7213848051405207,
          0.3847080628723777,
          0.8894236002885328,
          1.6153335879826933,
          -1.0259748146661083,
          0.028568303126833148,
          0.2334580037219608,
          -2.1501354617090467,
          -0.9422006481662677,
          0.1444750455076689,
          1.0861237079967807,
          1.7201363417958033,
          2.0569115563677145,
          -1.381679208771417,
          -1.0351911302661752,
          1.5223278152050266,
          -0.23231343649555608,
          0.5412096716486152,
          -0.9721564299191358,
          -0.22792905301475427,
          -1.2773274724256982,
          0.8636612498925738,
          -1.2166122317481987,
          0.3507319275056264,
          -1.3101065387849253,
          1.037759945045999,
          1.9370197828161602,
          -2.516970783487686,
          0.10533441465097182,
          -1.9508940804635506,
          0.41530356237292915,
          0.17440382713054814,
          -2.0687853329702146,
          0.22323291262987086
         ]
        },
        {
         "histfunc": "count",
         "histnorm": "",
         "marker": {
          "color": "rgba(50, 171, 96, 1.0)",
          "line": {
           "color": "#4D5663",
           "width": 1.3
          }
         },
         "name": "C",
         "opacity": 0.8,
         "orientation": "v",
         "type": "histogram",
         "x": [
          -1.385599006792901,
          -1.7197849763534634,
          1.5747803144791424,
          0.22087703915493273,
          1.4048072889623526,
          -0.17203220259412677,
          -0.5478221068929772,
          -0.2571036482455168,
          0.83526256911748,
          0.7295109671879325,
          -0.41892914647460383,
          0.5088431770608817,
          -0.545965724792688,
          -0.33100748483810266,
          0.5220780822294445,
          0.6690441411444692,
          0.1826733430427206,
          -0.877121920622054,
          1.4235543935292008,
          -0.4536467130462135,
          1.0891053014432,
          -1.2316562978392696,
          -0.45039797539149595,
          -0.0161623193476018,
          1.860653210388855,
          -1.1352232694440099,
          -0.35024596573976224,
          -0.4969335567373902,
          -0.9680259684720534,
          -2.0944192443697127,
          0.3281146356341243,
          1.1879230963728453,
          1.3133835432347751,
          -1.1331241858228536,
          -0.09964269383325358,
          -0.5670593921026623,
          0.8948329179593418,
          1.1473984299795974,
          1.2019927205435548,
          0.377575496595243,
          0.17651537132907977,
          -0.9499283412600837,
          0.3985873061898483,
          -0.2524510144042869,
          -0.7274605524449378,
          -0.6095669119492346,
          -0.3245202544534693,
          1.3148691761801465,
          2.3358141956226626,
          -2.4601472909133326,
          0.04654499723271527,
          -1.251597920803092,
          0.4749353557787959,
          -0.9206748732515008,
          0.5162827131466176,
          -0.11699896548752016,
          2.3022622170092335,
          -0.7012675941209484,
          -0.7283969714507058,
          -0.5794746944179315,
          1.3437176475788333,
          0.4982669792199907,
          1.6867823314492179,
          0.08172912875324927,
          -0.6006538105463247,
          -0.43966473077939855,
          -1.3508327599279302,
          -1.829926992179897,
          -1.380602559476269,
          0.48240676857510556,
          0.6149002921105139,
          -0.7388773475762256,
          -0.8841095457737844,
          -0.1751299312881325,
          1.9446554133871992,
          -1.3324126706554342,
          -0.7096742342791013,
          -0.7437240018932815,
          0.6602416333763232,
          1.0176727193067967,
          -0.5524680901737848,
          1.1434468620574527,
          -0.7734307039891627,
          0.8965056286011309,
          1.402017062407769,
          0.4359154222512774,
          -0.46816508376559096,
          0.756437547431865,
          -0.6164987704692465,
          1.6184273032708156,
          1.426303919872584,
          -0.04161209514211454,
          -1.2337965632148633,
          -0.4566251877811787,
          -0.46946123502120585,
          1.0609360887290722,
          1.2621015619841527,
          -2.608318114488203,
          -1.582361286280856,
          -0.19499682075667363,
          -1.1941369375655286,
          -0.16554845498734888,
          0.5808738594570794,
          -0.04912295224661493,
          -1.5715157223821186,
          -0.33908747985349375,
          0.8681334488613784,
          0.062217931439810636,
          1.6600980719595209,
          1.7562201370827581,
          -1.477554922665295,
          1.7784643352940093,
          -0.8766644487453403,
          0.4943916309762949,
          -1.1385149753495707,
          -1.464514833807233,
          0.7357726123676097,
          0.8914016028258562,
          -1.235418381474018,
          -1.4409955120477786,
          0.7398610992391563,
          -0.7271814181366715,
          -0.8838695184812071,
          -1.1023952000272523,
          -0.15720574930360842,
          1.4282908181988654,
          0.5904130272118258,
          -0.07924866949652917,
          0.0781557145444214,
          0.37445087591831755,
          0.4475896155422568,
          0.3960079883083532,
          1.6476893349703128,
          0.1888916760581893,
          -1.6642468434525177,
          0.09243685179805267,
          1.5836932100497305,
          0.5743594032105762,
          0.03655750426161463,
          -1.1562603100372923,
          -0.8192253115775014,
          1.4436569936532557,
          -0.5569729435030032,
          1.4885027933719073,
          -0.96239395711921,
          2.2128831421862385,
          0.8744271022669069,
          1.2847015649907108,
          0.8597138952645841,
          1.3882958689629683,
          0.6317076676641963,
          0.3269075353602081,
          1.5429071621257286,
          0.10130068377807228,
          1.1542432160598814,
          1.2531358402810988,
          0.26275494358920176,
          2.3852891071003444,
          -0.15953470284019589,
          0.03506333586369161,
          -2.0038030260199893,
          1.2204534600595491,
          1.6361359683276138,
          1.3906239181656421,
          -0.786111210670228,
          1.6100752036876445,
          0.03302995073857356,
          -0.8284028418337049,
          0.5948824971381954,
          -0.7608389414479757,
          -0.6195093333879186,
          -0.4068393830343923,
          -1.045332947511054,
          0.31599560693055906,
          0.5296629922202261,
          2.357279848791362,
          0.2951797311121355,
          1.32057871574306,
          1.5040484903494704,
          -0.1706849753486248,
          0.024985678840708552,
          -1.1421040299779,
          -1.2497631015024637,
          0.8571861420272623,
          -1.1899007184407737,
          -0.7591368609865685,
          0.24752714068101198,
          0.4181528153753166,
          -1.4676367453008217,
          -0.1199537913166694,
          0.6450542149457716,
          0.07065090370870525,
          -0.9288093514416575,
          -0.13150670679188203,
          -1.2885479320103321,
          0.4012364046547924,
          0.1977656121095965,
          0.06949039869264667,
          0.6564605469013881,
          -1.2731433898640176
         ]
        },
        {
         "histfunc": "count",
         "histnorm": "",
         "marker": {
          "color": "rgba(128, 0, 128, 1.0)",
          "line": {
           "color": "#4D5663",
           "width": 1.3
          }
         },
         "name": "D",
         "opacity": 0.8,
         "orientation": "v",
         "type": "histogram",
         "x": [
          -1.177223911481873,
          -0.29167796775702576,
          1.015849711093481,
          -1.5632697221999952,
          -1.188862087198042,
          0.9118286507428603,
          0.12004560260873919,
          0.30615185664214467,
          0.4068585213345728,
          0.04788357105892197,
          -1.0730744655289608,
          1.3627181384613922,
          -1.429905874078411,
          0.005056987583926655,
          1.7093995505715804,
          -0.6547662540003706,
          0.975230348312139,
          1.2943210344228249,
          1.3860015048138674,
          0.26933783574740583,
          -1.6818354559214377,
          0.5699527191444935,
          -0.8085576249715936,
          -0.30855970637491215,
          1.0076428429125286,
          0.03258793879293975,
          -0.1975471792747596,
          0.7032660669527372,
          0.5550963921924533,
          -0.4073803611435891,
          -1.495035808332509,
          0.10189101243872417,
          1.326782882883116,
          0.8887114620766801,
          0.8506718335258759,
          0.37715963477045467,
          -0.09406536631961311,
          0.7672394649639005,
          0.12414422210757521,
          -0.07054576801104318,
          -0.7490828162425152,
          1.0054685383488922,
          -0.32622398977440087,
          -1.7293427744766128,
          -0.17893314214196054,
          -0.6445329057740592,
          -2.1296429270807975,
          -0.849517163538628,
          1.346157652658771,
          -1.760483167451817,
          -1.2043739899155788,
          0.012432714521647131,
          -0.5149239544670113,
          0.477902236056113,
          -0.0871448110503587,
          0.1111291108088189,
          0.7600152695109311,
          0.4339035143438705,
          -0.5098427020312968,
          0.05778112734588025,
          0.2592907264569348,
          -0.4210044625954527,
          2.088556853181352,
          0.9036632920259653,
          -0.2339117092894673,
          -0.3283329237014898,
          0.9504697375545578,
          0.30149118020264176,
          -1.2077984172690528,
          0.24562709321626397,
          -0.23104901421521776,
          0.12598659746766855,
          -0.9235899921737932,
          0.054668107938544215,
          -0.014656363906992367,
          0.32718710570218534,
          -1.1048488430705672,
          0.9472652945157712,
          0.9673888696845052,
          -0.6351085093895855,
          -0.32860774250628555,
          -0.3032229538724417,
          1.9316556397154276,
          0.3437554977162938,
          -0.44925077282208825,
          0.2071776605585226,
          -0.1384549643318921,
          -0.588761118349195,
          0.3835924129475016,
          1.0443082403299997,
          0.5646124203256961,
          -1.1669441299638657,
          1.471651864712656,
          0.5571573781873396,
          1.1806318077196802,
          -0.364457546178787,
          0.7942703611158273,
          -0.8766095764428595,
          -0.6739234543957282,
          0.7020962615139723,
          1.9466313970415234,
          1.4033181559817107,
          0.8817067103269239,
          -0.636142069992607,
          0.5096996225073084,
          -1.0449015238868775,
          -1.3516362391876686,
          1.072760938487999,
          0.04561623114174906,
          -2.197726838718576,
          0.5895180636953125,
          0.7666930968501002,
          0.573446272540947,
          -0.049570518667105885,
          -0.2450651358718775,
          1.4984801536243355,
          -0.08989543973475861,
          1.3256954118636977,
          -0.6787356172302887,
          -0.20663840349902926,
          -0.07463448099353537,
          0.43653254030779626,
          2.143472102908509,
          0.8336845443896479,
          0.4705105240557236,
          -2.4206897448854976,
          -0.19850309445539632,
          1.940226431162549,
          0.6669746583084654,
          -0.10340935468679296,
          0.8995897385012287,
          -0.1453724997837296,
          0.0013701891805882745,
          1.2021739796363846,
          0.7076958539621563,
          0.9301447513092584,
          0.489618944863697,
          -0.1871095092808642,
          -0.049199581972393394,
          -0.15116514687392069,
          -0.6669480483173831,
          0.04042967861504227,
          -0.44420919384158947,
          0.09154553007254254,
          0.21014133133904156,
          0.10870218345725416,
          2.230711246395308,
          0.32910321870848624,
          1.4584367024467773,
          0.24551339739498768,
          -1.1377108717141038,
          -0.25791244722761,
          0.5275870565785041,
          0.8607420449542655,
          -1.649911422842504,
          0.9773201324784074,
          0.06855977558782761,
          -0.39317571645592336,
          1.818787409656117,
          0.16000823783392648,
          -1.2434611238988615,
          0.511081134462931,
          1.587383860427019,
          0.3081870018514402,
          0.14567651154065986,
          -0.741600184777107,
          -0.21620988781502093,
          0.9098313234674152,
          0.9025932096658122,
          -0.5205059023524584,
          -0.07305715958546434,
          -0.15760821204976852,
          0.07037745154270833,
          -0.11504472818390368,
          0.0756585617735883,
          1.5536647405290667,
          0.23616705043470598,
          1.5820259289264258,
          3.273371398867746,
          -1.5075772265477676,
          0.26972986831556195,
          0.02721656626759725,
          0.10409688610774594,
          -1.023971521658838,
          0.22308365980777248,
          -1.0065375173423037,
          0.7714284121531372,
          -0.5531778649396925,
          1.3759535558272362,
          -1.0592605355498366,
          -1.0261547728518359,
          0.8240680302338254,
          1.347899630394395,
          -0.5324076283811398,
          -0.023191462426795078,
          -1.1087538888567978,
          0.16562106697546275,
          -0.7853546209802792,
          -1.8334126140374971,
          -0.1301925298518984
         ]
        }
       ],
       "layout": {
        "barmode": "overlay",
        "legend": {
         "bgcolor": "#F5F6F9",
         "font": {
          "color": "#4D5663"
         }
        },
        "paper_bgcolor": "#F5F6F9",
        "plot_bgcolor": "#F5F6F9",
        "template": {
         "data": {
          "bar": [
           {
            "error_x": {
             "color": "#2a3f5f"
            },
            "error_y": {
             "color": "#2a3f5f"
            },
            "marker": {
             "line": {
              "color": "#E5ECF6",
              "width": 0.5
             },
             "pattern": {
              "fillmode": "overlay",
              "size": 10,
              "solidity": 0.2
             }
            },
            "type": "bar"
           }
          ],
          "barpolar": [
           {
            "marker": {
             "line": {
              "color": "#E5ECF6",
              "width": 0.5
             },
             "pattern": {
              "fillmode": "overlay",
              "size": 10,
              "solidity": 0.2
             }
            },
            "type": "barpolar"
           }
          ],
          "carpet": [
           {
            "aaxis": {
             "endlinecolor": "#2a3f5f",
             "gridcolor": "white",
             "linecolor": "white",
             "minorgridcolor": "white",
             "startlinecolor": "#2a3f5f"
            },
            "baxis": {
             "endlinecolor": "#2a3f5f",
             "gridcolor": "white",
             "linecolor": "white",
             "minorgridcolor": "white",
             "startlinecolor": "#2a3f5f"
            },
            "type": "carpet"
           }
          ],
          "choropleth": [
           {
            "colorbar": {
             "outlinewidth": 0,
             "ticks": ""
            },
            "type": "choropleth"
           }
          ],
          "contour": [
           {
            "colorbar": {
             "outlinewidth": 0,
             "ticks": ""
            },
            "colorscale": [
             [
              0,
              "#0d0887"
             ],
             [
              0.1111111111111111,
              "#46039f"
             ],
             [
              0.2222222222222222,
              "#7201a8"
             ],
             [
              0.3333333333333333,
              "#9c179e"
             ],
             [
              0.4444444444444444,
              "#bd3786"
             ],
             [
              0.5555555555555556,
              "#d8576b"
             ],
             [
              0.6666666666666666,
              "#ed7953"
             ],
             [
              0.7777777777777778,
              "#fb9f3a"
             ],
             [
              0.8888888888888888,
              "#fdca26"
             ],
             [
              1,
              "#f0f921"
             ]
            ],
            "type": "contour"
           }
          ],
          "contourcarpet": [
           {
            "colorbar": {
             "outlinewidth": 0,
             "ticks": ""
            },
            "type": "contourcarpet"
           }
          ],
          "heatmap": [
           {
            "colorbar": {
             "outlinewidth": 0,
             "ticks": ""
            },
            "colorscale": [
             [
              0,
              "#0d0887"
             ],
             [
              0.1111111111111111,
              "#46039f"
             ],
             [
              0.2222222222222222,
              "#7201a8"
             ],
             [
              0.3333333333333333,
              "#9c179e"
             ],
             [
              0.4444444444444444,
              "#bd3786"
             ],
             [
              0.5555555555555556,
              "#d8576b"
             ],
             [
              0.6666666666666666,
              "#ed7953"
             ],
             [
              0.7777777777777778,
              "#fb9f3a"
             ],
             [
              0.8888888888888888,
              "#fdca26"
             ],
             [
              1,
              "#f0f921"
             ]
            ],
            "type": "heatmap"
           }
          ],
          "heatmapgl": [
           {
            "colorbar": {
             "outlinewidth": 0,
             "ticks": ""
            },
            "colorscale": [
             [
              0,
              "#0d0887"
             ],
             [
              0.1111111111111111,
              "#46039f"
             ],
             [
              0.2222222222222222,
              "#7201a8"
             ],
             [
              0.3333333333333333,
              "#9c179e"
             ],
             [
              0.4444444444444444,
              "#bd3786"
             ],
             [
              0.5555555555555556,
              "#d8576b"
             ],
             [
              0.6666666666666666,
              "#ed7953"
             ],
             [
              0.7777777777777778,
              "#fb9f3a"
             ],
             [
              0.8888888888888888,
              "#fdca26"
             ],
             [
              1,
              "#f0f921"
             ]
            ],
            "type": "heatmapgl"
           }
          ],
          "histogram": [
           {
            "marker": {
             "pattern": {
              "fillmode": "overlay",
              "size": 10,
              "solidity": 0.2
             }
            },
            "type": "histogram"
           }
          ],
          "histogram2d": [
           {
            "colorbar": {
             "outlinewidth": 0,
             "ticks": ""
            },
            "colorscale": [
             [
              0,
              "#0d0887"
             ],
             [
              0.1111111111111111,
              "#46039f"
             ],
             [
              0.2222222222222222,
              "#7201a8"
             ],
             [
              0.3333333333333333,
              "#9c179e"
             ],
             [
              0.4444444444444444,
              "#bd3786"
             ],
             [
              0.5555555555555556,
              "#d8576b"
             ],
             [
              0.6666666666666666,
              "#ed7953"
             ],
             [
              0.7777777777777778,
              "#fb9f3a"
             ],
             [
              0.8888888888888888,
              "#fdca26"
             ],
             [
              1,
              "#f0f921"
             ]
            ],
            "type": "histogram2d"
           }
          ],
          "histogram2dcontour": [
           {
            "colorbar": {
             "outlinewidth": 0,
             "ticks": ""
            },
            "colorscale": [
             [
              0,
              "#0d0887"
             ],
             [
              0.1111111111111111,
              "#46039f"
             ],
             [
              0.2222222222222222,
              "#7201a8"
             ],
             [
              0.3333333333333333,
              "#9c179e"
             ],
             [
              0.4444444444444444,
              "#bd3786"
             ],
             [
              0.5555555555555556,
              "#d8576b"
             ],
             [
              0.6666666666666666,
              "#ed7953"
             ],
             [
              0.7777777777777778,
              "#fb9f3a"
             ],
             [
              0.8888888888888888,
              "#fdca26"
             ],
             [
              1,
              "#f0f921"
             ]
            ],
            "type": "histogram2dcontour"
           }
          ],
          "mesh3d": [
           {
            "colorbar": {
             "outlinewidth": 0,
             "ticks": ""
            },
            "type": "mesh3d"
           }
          ],
          "parcoords": [
           {
            "line": {
             "colorbar": {
              "outlinewidth": 0,
              "ticks": ""
             }
            },
            "type": "parcoords"
           }
          ],
          "pie": [
           {
            "automargin": true,
            "type": "pie"
           }
          ],
          "scatter": [
           {
            "fillpattern": {
             "fillmode": "overlay",
             "size": 10,
             "solidity": 0.2
            },
            "type": "scatter"
           }
          ],
          "scatter3d": [
           {
            "line": {
             "colorbar": {
              "outlinewidth": 0,
              "ticks": ""
             }
            },
            "marker": {
             "colorbar": {
              "outlinewidth": 0,
              "ticks": ""
             }
            },
            "type": "scatter3d"
           }
          ],
          "scattercarpet": [
           {
            "marker": {
             "colorbar": {
              "outlinewidth": 0,
              "ticks": ""
             }
            },
            "type": "scattercarpet"
           }
          ],
          "scattergeo": [
           {
            "marker": {
             "colorbar": {
              "outlinewidth": 0,
              "ticks": ""
             }
            },
            "type": "scattergeo"
           }
          ],
          "scattergl": [
           {
            "marker": {
             "colorbar": {
              "outlinewidth": 0,
              "ticks": ""
             }
            },
            "type": "scattergl"
           }
          ],
          "scattermapbox": [
           {
            "marker": {
             "colorbar": {
              "outlinewidth": 0,
              "ticks": ""
             }
            },
            "type": "scattermapbox"
           }
          ],
          "scatterpolar": [
           {
            "marker": {
             "colorbar": {
              "outlinewidth": 0,
              "ticks": ""
             }
            },
            "type": "scatterpolar"
           }
          ],
          "scatterpolargl": [
           {
            "marker": {
             "colorbar": {
              "outlinewidth": 0,
              "ticks": ""
             }
            },
            "type": "scatterpolargl"
           }
          ],
          "scatterternary": [
           {
            "marker": {
             "colorbar": {
              "outlinewidth": 0,
              "ticks": ""
             }
            },
            "type": "scatterternary"
           }
          ],
          "surface": [
           {
            "colorbar": {
             "outlinewidth": 0,
             "ticks": ""
            },
            "colorscale": [
             [
              0,
              "#0d0887"
             ],
             [
              0.1111111111111111,
              "#46039f"
             ],
             [
              0.2222222222222222,
              "#7201a8"
             ],
             [
              0.3333333333333333,
              "#9c179e"
             ],
             [
              0.4444444444444444,
              "#bd3786"
             ],
             [
              0.5555555555555556,
              "#d8576b"
             ],
             [
              0.6666666666666666,
              "#ed7953"
             ],
             [
              0.7777777777777778,
              "#fb9f3a"
             ],
             [
              0.8888888888888888,
              "#fdca26"
             ],
             [
              1,
              "#f0f921"
             ]
            ],
            "type": "surface"
           }
          ],
          "table": [
           {
            "cells": {
             "fill": {
              "color": "#EBF0F8"
             },
             "line": {
              "color": "white"
             }
            },
            "header": {
             "fill": {
              "color": "#C8D4E3"
             },
             "line": {
              "color": "white"
             }
            },
            "type": "table"
           }
          ]
         },
         "layout": {
          "annotationdefaults": {
           "arrowcolor": "#2a3f5f",
           "arrowhead": 0,
           "arrowwidth": 1
          },
          "autotypenumbers": "strict",
          "coloraxis": {
           "colorbar": {
            "outlinewidth": 0,
            "ticks": ""
           }
          },
          "colorscale": {
           "diverging": [
            [
             0,
             "#8e0152"
            ],
            [
             0.1,
             "#c51b7d"
            ],
            [
             0.2,
             "#de77ae"
            ],
            [
             0.3,
             "#f1b6da"
            ],
            [
             0.4,
             "#fde0ef"
            ],
            [
             0.5,
             "#f7f7f7"
            ],
            [
             0.6,
             "#e6f5d0"
            ],
            [
             0.7,
             "#b8e186"
            ],
            [
             0.8,
             "#7fbc41"
            ],
            [
             0.9,
             "#4d9221"
            ],
            [
             1,
             "#276419"
            ]
           ],
           "sequential": [
            [
             0,
             "#0d0887"
            ],
            [
             0.1111111111111111,
             "#46039f"
            ],
            [
             0.2222222222222222,
             "#7201a8"
            ],
            [
             0.3333333333333333,
             "#9c179e"
            ],
            [
             0.4444444444444444,
             "#bd3786"
            ],
            [
             0.5555555555555556,
             "#d8576b"
            ],
            [
             0.6666666666666666,
             "#ed7953"
            ],
            [
             0.7777777777777778,
             "#fb9f3a"
            ],
            [
             0.8888888888888888,
             "#fdca26"
            ],
            [
             1,
             "#f0f921"
            ]
           ],
           "sequentialminus": [
            [
             0,
             "#0d0887"
            ],
            [
             0.1111111111111111,
             "#46039f"
            ],
            [
             0.2222222222222222,
             "#7201a8"
            ],
            [
             0.3333333333333333,
             "#9c179e"
            ],
            [
             0.4444444444444444,
             "#bd3786"
            ],
            [
             0.5555555555555556,
             "#d8576b"
            ],
            [
             0.6666666666666666,
             "#ed7953"
            ],
            [
             0.7777777777777778,
             "#fb9f3a"
            ],
            [
             0.8888888888888888,
             "#fdca26"
            ],
            [
             1,
             "#f0f921"
            ]
           ]
          },
          "colorway": [
           "#636efa",
           "#EF553B",
           "#00cc96",
           "#ab63fa",
           "#FFA15A",
           "#19d3f3",
           "#FF6692",
           "#B6E880",
           "#FF97FF",
           "#FECB52"
          ],
          "font": {
           "color": "#2a3f5f"
          },
          "geo": {
           "bgcolor": "white",
           "lakecolor": "white",
           "landcolor": "#E5ECF6",
           "showlakes": true,
           "showland": true,
           "subunitcolor": "white"
          },
          "hoverlabel": {
           "align": "left"
          },
          "hovermode": "closest",
          "mapbox": {
           "style": "light"
          },
          "paper_bgcolor": "white",
          "plot_bgcolor": "#E5ECF6",
          "polar": {
           "angularaxis": {
            "gridcolor": "white",
            "linecolor": "white",
            "ticks": ""
           },
           "bgcolor": "#E5ECF6",
           "radialaxis": {
            "gridcolor": "white",
            "linecolor": "white",
            "ticks": ""
           }
          },
          "scene": {
           "xaxis": {
            "backgroundcolor": "#E5ECF6",
            "gridcolor": "white",
            "gridwidth": 2,
            "linecolor": "white",
            "showbackground": true,
            "ticks": "",
            "zerolinecolor": "white"
           },
           "yaxis": {
            "backgroundcolor": "#E5ECF6",
            "gridcolor": "white",
            "gridwidth": 2,
            "linecolor": "white",
            "showbackground": true,
            "ticks": "",
            "zerolinecolor": "white"
           },
           "zaxis": {
            "backgroundcolor": "#E5ECF6",
            "gridcolor": "white",
            "gridwidth": 2,
            "linecolor": "white",
            "showbackground": true,
            "ticks": "",
            "zerolinecolor": "white"
           }
          },
          "shapedefaults": {
           "line": {
            "color": "#2a3f5f"
           }
          },
          "ternary": {
           "aaxis": {
            "gridcolor": "white",
            "linecolor": "white",
            "ticks": ""
           },
           "baxis": {
            "gridcolor": "white",
            "linecolor": "white",
            "ticks": ""
           },
           "bgcolor": "#E5ECF6",
           "caxis": {
            "gridcolor": "white",
            "linecolor": "white",
            "ticks": ""
           }
          },
          "title": {
           "x": 0.05
          },
          "xaxis": {
           "automargin": true,
           "gridcolor": "white",
           "linecolor": "white",
           "ticks": "",
           "title": {
            "standoff": 15
           },
           "zerolinecolor": "white",
           "zerolinewidth": 2
          },
          "yaxis": {
           "automargin": true,
           "gridcolor": "white",
           "linecolor": "white",
           "ticks": "",
           "title": {
            "standoff": 15
           },
           "zerolinecolor": "white",
           "zerolinewidth": 2
          }
         }
        },
        "title": {
         "font": {
          "color": "#4D5663"
         }
        },
        "xaxis": {
         "gridcolor": "#E1E5ED",
         "showgrid": true,
         "tickfont": {
          "color": "#4D5663"
         },
         "title": {
          "font": {
           "color": "#4D5663"
          },
          "text": ""
         },
         "zerolinecolor": "#E1E5ED"
        },
        "yaxis": {
         "gridcolor": "#E1E5ED",
         "showgrid": true,
         "tickfont": {
          "color": "#4D5663"
         },
         "title": {
          "font": {
           "color": "#4D5663"
          },
          "text": ""
         },
         "zerolinecolor": "#E1E5ED"
        }
       }
      },
      "text/html": [
       "<div>                            <div id=\"07697651-0d7f-48d6-be83-f61db9041fc4\" class=\"plotly-graph-div\" style=\"height:525px; width:100%;\"></div>            <script type=\"text/javascript\">                require([\"plotly\"], function(Plotly) {                    window.PLOTLYENV=window.PLOTLYENV || {};\n",
       "                    window.PLOTLYENV.BASE_URL='https://plot.ly';                                    if (document.getElementById(\"07697651-0d7f-48d6-be83-f61db9041fc4\")) {                    Plotly.newPlot(                        \"07697651-0d7f-48d6-be83-f61db9041fc4\",                        [{\"histfunc\":\"count\",\"histnorm\":\"\",\"marker\":{\"color\":\"rgba(255, 153, 51, 1.0)\",\"line\":{\"color\":\"#4D5663\",\"width\":1.3}},\"name\":\"A\",\"opacity\":0.8,\"orientation\":\"v\",\"x\":[-1.487606705268289,-1.3270966904104238,0.3604379283601886,-1.0755063445021371,0.3811337534773147,2.0641007329383485,-0.48203477848504866,-0.38832558174328935,1.7478672968117868,1.1158691106492418,0.2896935352623028,-0.3812217927690513,0.42123870859889845,1.8812870946781968,2.557404536964999,-0.7058476334484991,0.28569424203115323,0.24695939642219372,-0.6385715504663668,0.9026702831781179,2.298729565138558,0.11640944430966896,0.42767735280331637,0.33544870905998614,0.16811832161387877,-0.21121411331425205,0.5874308678366539,-1.1216357817595521,0.11255262014025855,1.1853522193052266,0.45797947718207993,0.06034425911595249,0.9711702720221174,-0.7824061933747677,0.6276524906327481,-1.0548261198142173,-1.0832514348502216,-0.36189322746518,0.643434169576394,0.4488595629144203,0.8061508090023473,-1.222979893598644,-0.6920946263116126,-1.2937441326912544,0.23876442953656232,-0.817684328749027,0.08369524837438268,0.13287413960379232,-0.2499943512909606,0.6636954943467446,-0.5280332499790815,-0.5398566815380538,-0.31918190307525746,2.254926925098105,-0.7632175571836918,-1.1048423421686462,1.1028289510008162,-1.2097544316232944,-1.1939998494256865,1.2253107286051743,0.031116092717685246,-0.7487543140223533,1.4274039877008702,-2.4152283125719656,0.8018374859983983,-0.652637162274179,-1.109773355409906,0.9421069223405514,0.9272547022786595,-2.0967011767857966,-0.9386686213866825,1.2712810659600504,0.6688989976815631,-1.538865098729885,0.7131115264494275,-0.6467904553989622,1.2822063664196233,-0.30066345972728864,0.5960304893962182,0.6082958314371802,-1.3267205129120214,0.8887344180865127,0.9487101456582948,1.208515049669603,-0.49564632045569046,-2.171379335945453,-0.5722068920663259,0.821728319864167,-0.4532924125120422,0.5176236846070436,1.074779233055591,-0.04980169881531574,-1.1325388535132843,-0.8340003699765887,0.4681608886840201,0.340074509311427,0.9532273672009145,-0.551300031728624,1.5019798360618883,2.0813328323766336,-1.8888588017436174,0.5527504926273384,-1.832394693910066,-0.1891939936596043,-0.1795525048751539,-0.41353587573206846,0.6119219622848441,0.3669411247956404,-1.656394643836909,0.6825827271960428,0.40978281154268725,-1.027348486216504,-0.8913232958653983,-2.176619637487184,1.6404497173622186,-1.1539800497331998,-2.6344933558902484,1.3269304883606206,-0.4686755309635699,0.15375555596251558,-0.003231518781125517,-2.5756810430242285,0.23191043239930428,-0.20325011510086552,-0.1262256677960052,-0.4306067892790383,2.223999933559132,-0.28481970484576097,0.041636347874112516,0.8363856899449069,-0.7190061049681735,-1.660586642755478,-0.8424461151634391,-1.3410654086417828,0.5173398539462267,-1.3712460727772473,-0.4467550562662734,0.9157433279770691,1.754416969372457,0.6747547564025815,0.6483259564379472,0.9589442722537845,-1.1404949913493048,-0.9607080724043362,-0.4758449423533752,-0.2995599393280748,-0.24888778174690462,0.15542907347123394,-1.2558919529016797,1.4884181758140078,-0.17569860858299177,1.225904563594473,1.1324490392969089,0.3835923409382287,1.9124939131151277,-0.47992141278970996,-0.17605511359007,0.2200553792256361,-0.45229522971198904,-1.8838923550993498,0.13315305673333974,-0.8266448326458588,1.2294707915972516,0.6778486167632689,-0.15856560330555253,1.0126681253705112,0.6806465776765602,-2.341158623582788,0.2755666236492162,-0.7172182469495813,0.7930105775209679,0.39568977405882394,1.528726412996672,0.24679536520261422,-0.46161608591743614,-0.41260788090652584,-0.9197333364273914,1.2672340572160545,-0.7680399463059111,0.20875650311460647,-0.8688520154587448,1.1871175195914496,0.4318475877039881,0.22291570222242593,1.912613011968483,-1.1895491534313078,-0.8601534520780754,-0.6884358071535207,1.6067100199942381,0.8869574010673043,2.2738448377759197,0.053238690773936066,-0.10165799243942343,-1.5322439587081917,1.4952390580885375,-0.3456678618511981,-0.09156509867611441,-1.7259238493479152,0.42627109535565494,0.13155584440661],\"type\":\"histogram\"},{\"histfunc\":\"count\",\"histnorm\":\"\",\"marker\":{\"color\":\"rgba(55, 128, 191, 1.0)\",\"line\":{\"color\":\"#4D5663\",\"width\":1.3}},\"name\":\"B\",\"opacity\":0.8,\"orientation\":\"v\",\"x\":[1.4018747311698432,0.12305038788003114,-2.0621604828169295,0.6310971788406574,0.017478005933253684,0.6964587848925091,0.6692142639756167,1.030659741046712,0.9596758077035872,-0.9164290079884374,-0.6446851483938009,-0.6116667373572493,1.7260305025206517,-0.2759506642155176,-0.3188067675342285,0.9549478759656118,0.4002068068348017,0.3618786329647358,-2.232852501779732,0.2634002979548043,-0.23434598180308425,0.44521962838237017,-1.8927127354319755,-1.3297540297781392,-0.07764797635478797,1.702839909849972,-1.0460649622342382,-0.23597238404268153,-1.3174204369042208,0.5712385004026206,-0.9397730609282275,1.244707443354532,-0.5536989612126252,0.6402166179463994,0.22426803921109695,-0.21264092848600558,-0.10993557287781922,-0.9819230417166805,0.6079360463127345,-0.6057679799690354,-1.1119745914173358,-1.560293807992332,-1.1987638460095538,0.4858277742131986,2.350569384291055,0.6151746971191706,0.3847879036524305,-0.40025360862732406,-0.2827464088764763,0.7732213376383255,-0.42574944193944025,-0.0977566524060275,-1.0460108459597866,-0.41906615486287035,-0.828081174470112,-1.5777766072475146,-1.751258971395327,-0.4577098650787121,-0.48384052874521427,0.6370632780928125,0.6135858592175875,-1.0524005004526487,-0.18939000452678795,1.4832097967972961,-1.4478718403622282,-1.175823620507187,-1.348720049032188,-0.840154268876634,0.16179821554044488,0.4215991235352048,-0.09304837280981533,1.0229402146371382,-0.6777075034485878,2.363547662269973,0.17517567510440044,-1.0142764458464555,0.769643017358293,-0.559782604130007,-0.09826200135677465,-2.19532344141647,-0.9028689610271179,-0.5641688540688159,0.0069344933942429516,1.771818416056886,-0.7042878205436063,-1.141511977610186,1.104695798124243,0.05504535578585138,-0.903445628111115,-1.0751312204194619,0.5433315622422493,-0.4816293656408814,0.4315047393038972,-0.13705156305918187,0.3792927120427439,-0.11521231565490844,-1.2704729596598132,-1.3483168965194472,-1.671616523024985,-0.1521424450157583,0.5440995446011344,-0.3718765369382678,-1.3965083041927662,2.526942966641223,2.239723475005572,-1.4859105355107327,1.9818013383576558,0.802989460671471,1.0303651079399383,2.3335949332225114,-2.2910087524718072,-1.1537515922644148,-1.3750319900867725,-1.6326060100061293,0.6645823180882093,1.4740851265119306,-0.7666063770492628,-0.5548089730982696,1.408417243841149,-0.4820681914552715,1.4701297681558765,0.27907719634906686,0.7102972508579796,-1.5217772011708037,0.010862325434475873,-0.016880069539919544,0.7993093349399368,1.015635996790291,-0.4474593226688298,0.7621086015075268,0.8856847020812305,1.2102974267836348,-1.5386477932819997,0.03834324809398329,-0.22576792002145568,1.0537342040776074,-1.3138277848469238,0.07049054804272177,0.4018169670712659,-0.2801832887276961,-0.5690121191476055,0.35598993442828114,-0.004734667011751212,0.33230256805073644,1.962345783467431,-0.2940856894796608,-0.1283389011930353,0.6168331074300294,0.7662626610879297,-1.7383020615197815,-1.2929174451479046,-2.096026957868482,0.42565821552001964,-0.5002591085547238,-0.919531712491247,-1.2964648092634155,-0.6962169438232568,0.03230857859249144,-0.529635964552918,2.0666298734833393,-0.17675252627642735,-1.0095191628490185,-0.5861082273681731,0.6937314493180352,0.9261375158887465,-1.1213803593314928,0.7213848051405207,0.3847080628723777,0.8894236002885328,1.6153335879826933,-1.0259748146661083,0.028568303126833148,0.2334580037219608,-2.1501354617090467,-0.9422006481662677,0.1444750455076689,1.0861237079967807,1.7201363417958033,2.0569115563677145,-1.381679208771417,-1.0351911302661752,1.5223278152050266,-0.23231343649555608,0.5412096716486152,-0.9721564299191358,-0.22792905301475427,-1.2773274724256982,0.8636612498925738,-1.2166122317481987,0.3507319275056264,-1.3101065387849253,1.037759945045999,1.9370197828161602,-2.516970783487686,0.10533441465097182,-1.9508940804635506,0.41530356237292915,0.17440382713054814,-2.0687853329702146,0.22323291262987086],\"type\":\"histogram\"},{\"histfunc\":\"count\",\"histnorm\":\"\",\"marker\":{\"color\":\"rgba(50, 171, 96, 1.0)\",\"line\":{\"color\":\"#4D5663\",\"width\":1.3}},\"name\":\"C\",\"opacity\":0.8,\"orientation\":\"v\",\"x\":[-1.385599006792901,-1.7197849763534634,1.5747803144791424,0.22087703915493273,1.4048072889623526,-0.17203220259412677,-0.5478221068929772,-0.2571036482455168,0.83526256911748,0.7295109671879325,-0.41892914647460383,0.5088431770608817,-0.545965724792688,-0.33100748483810266,0.5220780822294445,0.6690441411444692,0.1826733430427206,-0.877121920622054,1.4235543935292008,-0.4536467130462135,1.0891053014432,-1.2316562978392696,-0.45039797539149595,-0.0161623193476018,1.860653210388855,-1.1352232694440099,-0.35024596573976224,-0.4969335567373902,-0.9680259684720534,-2.0944192443697127,0.3281146356341243,1.1879230963728453,1.3133835432347751,-1.1331241858228536,-0.09964269383325358,-0.5670593921026623,0.8948329179593418,1.1473984299795974,1.2019927205435548,0.377575496595243,0.17651537132907977,-0.9499283412600837,0.3985873061898483,-0.2524510144042869,-0.7274605524449378,-0.6095669119492346,-0.3245202544534693,1.3148691761801465,2.3358141956226626,-2.4601472909133326,0.04654499723271527,-1.251597920803092,0.4749353557787959,-0.9206748732515008,0.5162827131466176,-0.11699896548752016,2.3022622170092335,-0.7012675941209484,-0.7283969714507058,-0.5794746944179315,1.3437176475788333,0.4982669792199907,1.6867823314492179,0.08172912875324927,-0.6006538105463247,-0.43966473077939855,-1.3508327599279302,-1.829926992179897,-1.380602559476269,0.48240676857510556,0.6149002921105139,-0.7388773475762256,-0.8841095457737844,-0.1751299312881325,1.9446554133871992,-1.3324126706554342,-0.7096742342791013,-0.7437240018932815,0.6602416333763232,1.0176727193067967,-0.5524680901737848,1.1434468620574527,-0.7734307039891627,0.8965056286011309,1.402017062407769,0.4359154222512774,-0.46816508376559096,0.756437547431865,-0.6164987704692465,1.6184273032708156,1.426303919872584,-0.04161209514211454,-1.2337965632148633,-0.4566251877811787,-0.46946123502120585,1.0609360887290722,1.2621015619841527,-2.608318114488203,-1.582361286280856,-0.19499682075667363,-1.1941369375655286,-0.16554845498734888,0.5808738594570794,-0.04912295224661493,-1.5715157223821186,-0.33908747985349375,0.8681334488613784,0.062217931439810636,1.6600980719595209,1.7562201370827581,-1.477554922665295,1.7784643352940093,-0.8766644487453403,0.4943916309762949,-1.1385149753495707,-1.464514833807233,0.7357726123676097,0.8914016028258562,-1.235418381474018,-1.4409955120477786,0.7398610992391563,-0.7271814181366715,-0.8838695184812071,-1.1023952000272523,-0.15720574930360842,1.4282908181988654,0.5904130272118258,-0.07924866949652917,0.0781557145444214,0.37445087591831755,0.4475896155422568,0.3960079883083532,1.6476893349703128,0.1888916760581893,-1.6642468434525177,0.09243685179805267,1.5836932100497305,0.5743594032105762,0.03655750426161463,-1.1562603100372923,-0.8192253115775014,1.4436569936532557,-0.5569729435030032,1.4885027933719073,-0.96239395711921,2.2128831421862385,0.8744271022669069,1.2847015649907108,0.8597138952645841,1.3882958689629683,0.6317076676641963,0.3269075353602081,1.5429071621257286,0.10130068377807228,1.1542432160598814,1.2531358402810988,0.26275494358920176,2.3852891071003444,-0.15953470284019589,0.03506333586369161,-2.0038030260199893,1.2204534600595491,1.6361359683276138,1.3906239181656421,-0.786111210670228,1.6100752036876445,0.03302995073857356,-0.8284028418337049,0.5948824971381954,-0.7608389414479757,-0.6195093333879186,-0.4068393830343923,-1.045332947511054,0.31599560693055906,0.5296629922202261,2.357279848791362,0.2951797311121355,1.32057871574306,1.5040484903494704,-0.1706849753486248,0.024985678840708552,-1.1421040299779,-1.2497631015024637,0.8571861420272623,-1.1899007184407737,-0.7591368609865685,0.24752714068101198,0.4181528153753166,-1.4676367453008217,-0.1199537913166694,0.6450542149457716,0.07065090370870525,-0.9288093514416575,-0.13150670679188203,-1.2885479320103321,0.4012364046547924,0.1977656121095965,0.06949039869264667,0.6564605469013881,-1.2731433898640176],\"type\":\"histogram\"},{\"histfunc\":\"count\",\"histnorm\":\"\",\"marker\":{\"color\":\"rgba(128, 0, 128, 1.0)\",\"line\":{\"color\":\"#4D5663\",\"width\":1.3}},\"name\":\"D\",\"opacity\":0.8,\"orientation\":\"v\",\"x\":[-1.177223911481873,-0.29167796775702576,1.015849711093481,-1.5632697221999952,-1.188862087198042,0.9118286507428603,0.12004560260873919,0.30615185664214467,0.4068585213345728,0.04788357105892197,-1.0730744655289608,1.3627181384613922,-1.429905874078411,0.005056987583926655,1.7093995505715804,-0.6547662540003706,0.975230348312139,1.2943210344228249,1.3860015048138674,0.26933783574740583,-1.6818354559214377,0.5699527191444935,-0.8085576249715936,-0.30855970637491215,1.0076428429125286,0.03258793879293975,-0.1975471792747596,0.7032660669527372,0.5550963921924533,-0.4073803611435891,-1.495035808332509,0.10189101243872417,1.326782882883116,0.8887114620766801,0.8506718335258759,0.37715963477045467,-0.09406536631961311,0.7672394649639005,0.12414422210757521,-0.07054576801104318,-0.7490828162425152,1.0054685383488922,-0.32622398977440087,-1.7293427744766128,-0.17893314214196054,-0.6445329057740592,-2.1296429270807975,-0.849517163538628,1.346157652658771,-1.760483167451817,-1.2043739899155788,0.012432714521647131,-0.5149239544670113,0.477902236056113,-0.0871448110503587,0.1111291108088189,0.7600152695109311,0.4339035143438705,-0.5098427020312968,0.05778112734588025,0.2592907264569348,-0.4210044625954527,2.088556853181352,0.9036632920259653,-0.2339117092894673,-0.3283329237014898,0.9504697375545578,0.30149118020264176,-1.2077984172690528,0.24562709321626397,-0.23104901421521776,0.12598659746766855,-0.9235899921737932,0.054668107938544215,-0.014656363906992367,0.32718710570218534,-1.1048488430705672,0.9472652945157712,0.9673888696845052,-0.6351085093895855,-0.32860774250628555,-0.3032229538724417,1.9316556397154276,0.3437554977162938,-0.44925077282208825,0.2071776605585226,-0.1384549643318921,-0.588761118349195,0.3835924129475016,1.0443082403299997,0.5646124203256961,-1.1669441299638657,1.471651864712656,0.5571573781873396,1.1806318077196802,-0.364457546178787,0.7942703611158273,-0.8766095764428595,-0.6739234543957282,0.7020962615139723,1.9466313970415234,1.4033181559817107,0.8817067103269239,-0.636142069992607,0.5096996225073084,-1.0449015238868775,-1.3516362391876686,1.072760938487999,0.04561623114174906,-2.197726838718576,0.5895180636953125,0.7666930968501002,0.573446272540947,-0.049570518667105885,-0.2450651358718775,1.4984801536243355,-0.08989543973475861,1.3256954118636977,-0.6787356172302887,-0.20663840349902926,-0.07463448099353537,0.43653254030779626,2.143472102908509,0.8336845443896479,0.4705105240557236,-2.4206897448854976,-0.19850309445539632,1.940226431162549,0.6669746583084654,-0.10340935468679296,0.8995897385012287,-0.1453724997837296,0.0013701891805882745,1.2021739796363846,0.7076958539621563,0.9301447513092584,0.489618944863697,-0.1871095092808642,-0.049199581972393394,-0.15116514687392069,-0.6669480483173831,0.04042967861504227,-0.44420919384158947,0.09154553007254254,0.21014133133904156,0.10870218345725416,2.230711246395308,0.32910321870848624,1.4584367024467773,0.24551339739498768,-1.1377108717141038,-0.25791244722761,0.5275870565785041,0.8607420449542655,-1.649911422842504,0.9773201324784074,0.06855977558782761,-0.39317571645592336,1.818787409656117,0.16000823783392648,-1.2434611238988615,0.511081134462931,1.587383860427019,0.3081870018514402,0.14567651154065986,-0.741600184777107,-0.21620988781502093,0.9098313234674152,0.9025932096658122,-0.5205059023524584,-0.07305715958546434,-0.15760821204976852,0.07037745154270833,-0.11504472818390368,0.0756585617735883,1.5536647405290667,0.23616705043470598,1.5820259289264258,3.273371398867746,-1.5075772265477676,0.26972986831556195,0.02721656626759725,0.10409688610774594,-1.023971521658838,0.22308365980777248,-1.0065375173423037,0.7714284121531372,-0.5531778649396925,1.3759535558272362,-1.0592605355498366,-1.0261547728518359,0.8240680302338254,1.347899630394395,-0.5324076283811398,-0.023191462426795078,-1.1087538888567978,0.16562106697546275,-0.7853546209802792,-1.8334126140374971,-0.1301925298518984],\"type\":\"histogram\"}],                        {\"barmode\":\"overlay\",\"legend\":{\"bgcolor\":\"#F5F6F9\",\"font\":{\"color\":\"#4D5663\"}},\"paper_bgcolor\":\"#F5F6F9\",\"plot_bgcolor\":\"#F5F6F9\",\"template\":{\"data\":{\"barpolar\":[{\"marker\":{\"line\":{\"color\":\"#E5ECF6\",\"width\":0.5},\"pattern\":{\"fillmode\":\"overlay\",\"size\":10,\"solidity\":0.2}},\"type\":\"barpolar\"}],\"bar\":[{\"error_x\":{\"color\":\"#2a3f5f\"},\"error_y\":{\"color\":\"#2a3f5f\"},\"marker\":{\"line\":{\"color\":\"#E5ECF6\",\"width\":0.5},\"pattern\":{\"fillmode\":\"overlay\",\"size\":10,\"solidity\":0.2}},\"type\":\"bar\"}],\"carpet\":[{\"aaxis\":{\"endlinecolor\":\"#2a3f5f\",\"gridcolor\":\"white\",\"linecolor\":\"white\",\"minorgridcolor\":\"white\",\"startlinecolor\":\"#2a3f5f\"},\"baxis\":{\"endlinecolor\":\"#2a3f5f\",\"gridcolor\":\"white\",\"linecolor\":\"white\",\"minorgridcolor\":\"white\",\"startlinecolor\":\"#2a3f5f\"},\"type\":\"carpet\"}],\"choropleth\":[{\"colorbar\":{\"outlinewidth\":0,\"ticks\":\"\"},\"type\":\"choropleth\"}],\"contourcarpet\":[{\"colorbar\":{\"outlinewidth\":0,\"ticks\":\"\"},\"type\":\"contourcarpet\"}],\"contour\":[{\"colorbar\":{\"outlinewidth\":0,\"ticks\":\"\"},\"colorscale\":[[0.0,\"#0d0887\"],[0.1111111111111111,\"#46039f\"],[0.2222222222222222,\"#7201a8\"],[0.3333333333333333,\"#9c179e\"],[0.4444444444444444,\"#bd3786\"],[0.5555555555555556,\"#d8576b\"],[0.6666666666666666,\"#ed7953\"],[0.7777777777777778,\"#fb9f3a\"],[0.8888888888888888,\"#fdca26\"],[1.0,\"#f0f921\"]],\"type\":\"contour\"}],\"heatmapgl\":[{\"colorbar\":{\"outlinewidth\":0,\"ticks\":\"\"},\"colorscale\":[[0.0,\"#0d0887\"],[0.1111111111111111,\"#46039f\"],[0.2222222222222222,\"#7201a8\"],[0.3333333333333333,\"#9c179e\"],[0.4444444444444444,\"#bd3786\"],[0.5555555555555556,\"#d8576b\"],[0.6666666666666666,\"#ed7953\"],[0.7777777777777778,\"#fb9f3a\"],[0.8888888888888888,\"#fdca26\"],[1.0,\"#f0f921\"]],\"type\":\"heatmapgl\"}],\"heatmap\":[{\"colorbar\":{\"outlinewidth\":0,\"ticks\":\"\"},\"colorscale\":[[0.0,\"#0d0887\"],[0.1111111111111111,\"#46039f\"],[0.2222222222222222,\"#7201a8\"],[0.3333333333333333,\"#9c179e\"],[0.4444444444444444,\"#bd3786\"],[0.5555555555555556,\"#d8576b\"],[0.6666666666666666,\"#ed7953\"],[0.7777777777777778,\"#fb9f3a\"],[0.8888888888888888,\"#fdca26\"],[1.0,\"#f0f921\"]],\"type\":\"heatmap\"}],\"histogram2dcontour\":[{\"colorbar\":{\"outlinewidth\":0,\"ticks\":\"\"},\"colorscale\":[[0.0,\"#0d0887\"],[0.1111111111111111,\"#46039f\"],[0.2222222222222222,\"#7201a8\"],[0.3333333333333333,\"#9c179e\"],[0.4444444444444444,\"#bd3786\"],[0.5555555555555556,\"#d8576b\"],[0.6666666666666666,\"#ed7953\"],[0.7777777777777778,\"#fb9f3a\"],[0.8888888888888888,\"#fdca26\"],[1.0,\"#f0f921\"]],\"type\":\"histogram2dcontour\"}],\"histogram2d\":[{\"colorbar\":{\"outlinewidth\":0,\"ticks\":\"\"},\"colorscale\":[[0.0,\"#0d0887\"],[0.1111111111111111,\"#46039f\"],[0.2222222222222222,\"#7201a8\"],[0.3333333333333333,\"#9c179e\"],[0.4444444444444444,\"#bd3786\"],[0.5555555555555556,\"#d8576b\"],[0.6666666666666666,\"#ed7953\"],[0.7777777777777778,\"#fb9f3a\"],[0.8888888888888888,\"#fdca26\"],[1.0,\"#f0f921\"]],\"type\":\"histogram2d\"}],\"histogram\":[{\"marker\":{\"pattern\":{\"fillmode\":\"overlay\",\"size\":10,\"solidity\":0.2}},\"type\":\"histogram\"}],\"mesh3d\":[{\"colorbar\":{\"outlinewidth\":0,\"ticks\":\"\"},\"type\":\"mesh3d\"}],\"parcoords\":[{\"line\":{\"colorbar\":{\"outlinewidth\":0,\"ticks\":\"\"}},\"type\":\"parcoords\"}],\"pie\":[{\"automargin\":true,\"type\":\"pie\"}],\"scatter3d\":[{\"line\":{\"colorbar\":{\"outlinewidth\":0,\"ticks\":\"\"}},\"marker\":{\"colorbar\":{\"outlinewidth\":0,\"ticks\":\"\"}},\"type\":\"scatter3d\"}],\"scattercarpet\":[{\"marker\":{\"colorbar\":{\"outlinewidth\":0,\"ticks\":\"\"}},\"type\":\"scattercarpet\"}],\"scattergeo\":[{\"marker\":{\"colorbar\":{\"outlinewidth\":0,\"ticks\":\"\"}},\"type\":\"scattergeo\"}],\"scattergl\":[{\"marker\":{\"colorbar\":{\"outlinewidth\":0,\"ticks\":\"\"}},\"type\":\"scattergl\"}],\"scattermapbox\":[{\"marker\":{\"colorbar\":{\"outlinewidth\":0,\"ticks\":\"\"}},\"type\":\"scattermapbox\"}],\"scatterpolargl\":[{\"marker\":{\"colorbar\":{\"outlinewidth\":0,\"ticks\":\"\"}},\"type\":\"scatterpolargl\"}],\"scatterpolar\":[{\"marker\":{\"colorbar\":{\"outlinewidth\":0,\"ticks\":\"\"}},\"type\":\"scatterpolar\"}],\"scatter\":[{\"fillpattern\":{\"fillmode\":\"overlay\",\"size\":10,\"solidity\":0.2},\"type\":\"scatter\"}],\"scatterternary\":[{\"marker\":{\"colorbar\":{\"outlinewidth\":0,\"ticks\":\"\"}},\"type\":\"scatterternary\"}],\"surface\":[{\"colorbar\":{\"outlinewidth\":0,\"ticks\":\"\"},\"colorscale\":[[0.0,\"#0d0887\"],[0.1111111111111111,\"#46039f\"],[0.2222222222222222,\"#7201a8\"],[0.3333333333333333,\"#9c179e\"],[0.4444444444444444,\"#bd3786\"],[0.5555555555555556,\"#d8576b\"],[0.6666666666666666,\"#ed7953\"],[0.7777777777777778,\"#fb9f3a\"],[0.8888888888888888,\"#fdca26\"],[1.0,\"#f0f921\"]],\"type\":\"surface\"}],\"table\":[{\"cells\":{\"fill\":{\"color\":\"#EBF0F8\"},\"line\":{\"color\":\"white\"}},\"header\":{\"fill\":{\"color\":\"#C8D4E3\"},\"line\":{\"color\":\"white\"}},\"type\":\"table\"}]},\"layout\":{\"annotationdefaults\":{\"arrowcolor\":\"#2a3f5f\",\"arrowhead\":0,\"arrowwidth\":1},\"autotypenumbers\":\"strict\",\"coloraxis\":{\"colorbar\":{\"outlinewidth\":0,\"ticks\":\"\"}},\"colorscale\":{\"diverging\":[[0,\"#8e0152\"],[0.1,\"#c51b7d\"],[0.2,\"#de77ae\"],[0.3,\"#f1b6da\"],[0.4,\"#fde0ef\"],[0.5,\"#f7f7f7\"],[0.6,\"#e6f5d0\"],[0.7,\"#b8e186\"],[0.8,\"#7fbc41\"],[0.9,\"#4d9221\"],[1,\"#276419\"]],\"sequential\":[[0.0,\"#0d0887\"],[0.1111111111111111,\"#46039f\"],[0.2222222222222222,\"#7201a8\"],[0.3333333333333333,\"#9c179e\"],[0.4444444444444444,\"#bd3786\"],[0.5555555555555556,\"#d8576b\"],[0.6666666666666666,\"#ed7953\"],[0.7777777777777778,\"#fb9f3a\"],[0.8888888888888888,\"#fdca26\"],[1.0,\"#f0f921\"]],\"sequentialminus\":[[0.0,\"#0d0887\"],[0.1111111111111111,\"#46039f\"],[0.2222222222222222,\"#7201a8\"],[0.3333333333333333,\"#9c179e\"],[0.4444444444444444,\"#bd3786\"],[0.5555555555555556,\"#d8576b\"],[0.6666666666666666,\"#ed7953\"],[0.7777777777777778,\"#fb9f3a\"],[0.8888888888888888,\"#fdca26\"],[1.0,\"#f0f921\"]]},\"colorway\":[\"#636efa\",\"#EF553B\",\"#00cc96\",\"#ab63fa\",\"#FFA15A\",\"#19d3f3\",\"#FF6692\",\"#B6E880\",\"#FF97FF\",\"#FECB52\"],\"font\":{\"color\":\"#2a3f5f\"},\"geo\":{\"bgcolor\":\"white\",\"lakecolor\":\"white\",\"landcolor\":\"#E5ECF6\",\"showlakes\":true,\"showland\":true,\"subunitcolor\":\"white\"},\"hoverlabel\":{\"align\":\"left\"},\"hovermode\":\"closest\",\"mapbox\":{\"style\":\"light\"},\"paper_bgcolor\":\"white\",\"plot_bgcolor\":\"#E5ECF6\",\"polar\":{\"angularaxis\":{\"gridcolor\":\"white\",\"linecolor\":\"white\",\"ticks\":\"\"},\"bgcolor\":\"#E5ECF6\",\"radialaxis\":{\"gridcolor\":\"white\",\"linecolor\":\"white\",\"ticks\":\"\"}},\"scene\":{\"xaxis\":{\"backgroundcolor\":\"#E5ECF6\",\"gridcolor\":\"white\",\"gridwidth\":2,\"linecolor\":\"white\",\"showbackground\":true,\"ticks\":\"\",\"zerolinecolor\":\"white\"},\"yaxis\":{\"backgroundcolor\":\"#E5ECF6\",\"gridcolor\":\"white\",\"gridwidth\":2,\"linecolor\":\"white\",\"showbackground\":true,\"ticks\":\"\",\"zerolinecolor\":\"white\"},\"zaxis\":{\"backgroundcolor\":\"#E5ECF6\",\"gridcolor\":\"white\",\"gridwidth\":2,\"linecolor\":\"white\",\"showbackground\":true,\"ticks\":\"\",\"zerolinecolor\":\"white\"}},\"shapedefaults\":{\"line\":{\"color\":\"#2a3f5f\"}},\"ternary\":{\"aaxis\":{\"gridcolor\":\"white\",\"linecolor\":\"white\",\"ticks\":\"\"},\"baxis\":{\"gridcolor\":\"white\",\"linecolor\":\"white\",\"ticks\":\"\"},\"bgcolor\":\"#E5ECF6\",\"caxis\":{\"gridcolor\":\"white\",\"linecolor\":\"white\",\"ticks\":\"\"}},\"title\":{\"x\":0.05},\"xaxis\":{\"automargin\":true,\"gridcolor\":\"white\",\"linecolor\":\"white\",\"ticks\":\"\",\"title\":{\"standoff\":15},\"zerolinecolor\":\"white\",\"zerolinewidth\":2},\"yaxis\":{\"automargin\":true,\"gridcolor\":\"white\",\"linecolor\":\"white\",\"ticks\":\"\",\"title\":{\"standoff\":15},\"zerolinecolor\":\"white\",\"zerolinewidth\":2}}},\"title\":{\"font\":{\"color\":\"#4D5663\"}},\"xaxis\":{\"gridcolor\":\"#E1E5ED\",\"showgrid\":true,\"tickfont\":{\"color\":\"#4D5663\"},\"title\":{\"font\":{\"color\":\"#4D5663\"},\"text\":\"\"},\"zerolinecolor\":\"#E1E5ED\"},\"yaxis\":{\"gridcolor\":\"#E1E5ED\",\"showgrid\":true,\"tickfont\":{\"color\":\"#4D5663\"},\"title\":{\"font\":{\"color\":\"#4D5663\"},\"text\":\"\"},\"zerolinecolor\":\"#E1E5ED\"}},                        {\"showLink\": true, \"linkText\": \"Export to plot.ly\", \"plotlyServerURL\": \"https://plot.ly\", \"responsive\": true}                    ).then(function(){\n",
       "                            \n",
       "var gd = document.getElementById('07697651-0d7f-48d6-be83-f61db9041fc4');\n",
       "var x = new MutationObserver(function (mutations, observer) {{\n",
       "        var display = window.getComputedStyle(gd).display;\n",
       "        if (!display || display === 'none') {{\n",
       "            console.log([gd, 'removed!']);\n",
       "            Plotly.purge(gd);\n",
       "            observer.disconnect();\n",
       "        }}\n",
       "}});\n",
       "\n",
       "// Listen for the removal of the full notebook cells\n",
       "var notebookContainer = gd.closest('#notebook-container');\n",
       "if (notebookContainer) {{\n",
       "    x.observe(notebookContainer, {childList: true});\n",
       "}}\n",
       "\n",
       "// Listen for the clearing of the current output cell\n",
       "var outputEl = gd.closest('.output');\n",
       "if (outputEl) {{\n",
       "    x.observe(outputEl, {childList: true});\n",
       "}}\n",
       "\n",
       "                        })                };                });            </script>        </div>"
      ]
     },
     "metadata": {},
     "output_type": "display_data"
    }
   ],
   "source": [
    "# We can plot all the columns in df in hist\n",
    "# On the right side labels, we can on and off any partiucal column\n",
    "df.iplot(kind='hist')"
   ]
  },
  {
   "cell_type": "code",
   "execution_count": 22,
   "metadata": {},
   "outputs": [
    {
     "name": "stderr",
     "output_type": "stream",
     "text": [
      "e:\\Anaconda\\lib\\site-packages\\cufflinks\\plotlytools.py:849: FutureWarning:\n",
      "\n",
      "The pandas.np module is deprecated and will be removed from pandas in a future version. Import numpy directly instead\n",
      "\n",
      "e:\\Anaconda\\lib\\site-packages\\cufflinks\\plotlytools.py:850: FutureWarning:\n",
      "\n",
      "The pandas.np module is deprecated and will be removed from pandas in a future version. Import numpy directly instead\n",
      "\n"
     ]
    },
    {
     "data": {
      "application/vnd.plotly.v1+json": {
       "config": {
        "linkText": "Export to plot.ly",
        "plotlyServerURL": "https://plot.ly",
        "showLink": true
       },
       "data": [
        {
         "line": {
          "color": "rgba(255, 153, 51, 1.0)",
          "dash": "solid",
          "shape": "linear",
          "width": 1.3
         },
         "mode": "lines",
         "name": "A",
         "text": "",
         "type": "scatter",
         "x": [
          0,
          1,
          2,
          3,
          4,
          5,
          6,
          7,
          8,
          9,
          10,
          11,
          12,
          13,
          14,
          15,
          16,
          17,
          18,
          19,
          20,
          21,
          22,
          23,
          24,
          25,
          26,
          27,
          28,
          29,
          30,
          31,
          32,
          33,
          34,
          35,
          36,
          37,
          38,
          39,
          40,
          41,
          42,
          43,
          44,
          45,
          46,
          47,
          48,
          49,
          50,
          51,
          52,
          53,
          54,
          55,
          56,
          57,
          58,
          59,
          60,
          61,
          62,
          63,
          64,
          65,
          66,
          67,
          68,
          69,
          70,
          71,
          72,
          73,
          74,
          75,
          76,
          77,
          78,
          79,
          80,
          81,
          82,
          83,
          84,
          85,
          86,
          87,
          88,
          89,
          90,
          91,
          92,
          93,
          94,
          95,
          96,
          97,
          98,
          99,
          100,
          101,
          102,
          103,
          104,
          105,
          106,
          107,
          108,
          109,
          110,
          111,
          112,
          113,
          114,
          115,
          116,
          117,
          118,
          119,
          120,
          121,
          122,
          123,
          124,
          125,
          126,
          127,
          128,
          129,
          130,
          131,
          132,
          133,
          134,
          135,
          136,
          137,
          138,
          139,
          140,
          141,
          142,
          143,
          144,
          145,
          146,
          147,
          148,
          149,
          150,
          151,
          152,
          153,
          154,
          155,
          156,
          157,
          158,
          159,
          160,
          161,
          162,
          163,
          164,
          165,
          166,
          167,
          168,
          169,
          170,
          171,
          172,
          173,
          174,
          175,
          176,
          177,
          178,
          179,
          180,
          181,
          182,
          183,
          184,
          185,
          186,
          187,
          188,
          189,
          190,
          191,
          192,
          193,
          194,
          195,
          196,
          197,
          198,
          199
         ],
         "y": [
          -1.487606705268289,
          -1.3270966904104238,
          0.3604379283601886,
          -1.0755063445021371,
          0.3811337534773147,
          2.0641007329383485,
          -0.48203477848504866,
          -0.38832558174328935,
          1.7478672968117868,
          1.1158691106492418,
          0.2896935352623028,
          -0.3812217927690513,
          0.42123870859889845,
          1.8812870946781968,
          2.557404536964999,
          -0.7058476334484991,
          0.28569424203115323,
          0.24695939642219372,
          -0.6385715504663668,
          0.9026702831781179,
          2.298729565138558,
          0.11640944430966896,
          0.42767735280331637,
          0.33544870905998614,
          0.16811832161387877,
          -0.21121411331425205,
          0.5874308678366539,
          -1.1216357817595521,
          0.11255262014025855,
          1.1853522193052266,
          0.45797947718207993,
          0.06034425911595249,
          0.9711702720221174,
          -0.7824061933747677,
          0.6276524906327481,
          -1.0548261198142173,
          -1.0832514348502216,
          -0.36189322746518,
          0.643434169576394,
          0.4488595629144203,
          0.8061508090023473,
          -1.222979893598644,
          -0.6920946263116126,
          -1.2937441326912544,
          0.23876442953656232,
          -0.817684328749027,
          0.08369524837438268,
          0.13287413960379232,
          -0.2499943512909606,
          0.6636954943467446,
          -0.5280332499790815,
          -0.5398566815380538,
          -0.31918190307525746,
          2.254926925098105,
          -0.7632175571836918,
          -1.1048423421686462,
          1.1028289510008162,
          -1.2097544316232944,
          -1.1939998494256865,
          1.2253107286051743,
          0.031116092717685246,
          -0.7487543140223533,
          1.4274039877008702,
          -2.4152283125719656,
          0.8018374859983983,
          -0.652637162274179,
          -1.109773355409906,
          0.9421069223405514,
          0.9272547022786595,
          -2.0967011767857966,
          -0.9386686213866825,
          1.2712810659600504,
          0.6688989976815631,
          -1.538865098729885,
          0.7131115264494275,
          -0.6467904553989622,
          1.2822063664196233,
          -0.30066345972728864,
          0.5960304893962182,
          0.6082958314371802,
          -1.3267205129120214,
          0.8887344180865127,
          0.9487101456582948,
          1.208515049669603,
          -0.49564632045569046,
          -2.171379335945453,
          -0.5722068920663259,
          0.821728319864167,
          -0.4532924125120422,
          0.5176236846070436,
          1.074779233055591,
          -0.04980169881531574,
          -1.1325388535132843,
          -0.8340003699765887,
          0.4681608886840201,
          0.340074509311427,
          0.9532273672009145,
          -0.551300031728624,
          1.5019798360618883,
          2.0813328323766336,
          -1.8888588017436174,
          0.5527504926273384,
          -1.832394693910066,
          -0.1891939936596043,
          -0.1795525048751539,
          -0.41353587573206846,
          0.6119219622848441,
          0.3669411247956404,
          -1.656394643836909,
          0.6825827271960428,
          0.40978281154268725,
          -1.027348486216504,
          -0.8913232958653983,
          -2.176619637487184,
          1.6404497173622186,
          -1.1539800497331998,
          -2.6344933558902484,
          1.3269304883606206,
          -0.4686755309635699,
          0.15375555596251558,
          -0.003231518781125517,
          -2.5756810430242285,
          0.23191043239930428,
          -0.20325011510086552,
          -0.1262256677960052,
          -0.4306067892790383,
          2.223999933559132,
          -0.28481970484576097,
          0.041636347874112516,
          0.8363856899449069,
          -0.7190061049681735,
          -1.660586642755478,
          -0.8424461151634391,
          -1.3410654086417828,
          0.5173398539462267,
          -1.3712460727772473,
          -0.4467550562662734,
          0.9157433279770691,
          1.754416969372457,
          0.6747547564025815,
          0.6483259564379472,
          0.9589442722537845,
          -1.1404949913493048,
          -0.9607080724043362,
          -0.4758449423533752,
          -0.2995599393280748,
          -0.24888778174690462,
          0.15542907347123394,
          -1.2558919529016797,
          1.4884181758140078,
          -0.17569860858299177,
          1.225904563594473,
          1.1324490392969089,
          0.3835923409382287,
          1.9124939131151277,
          -0.47992141278970996,
          -0.17605511359007,
          0.2200553792256361,
          -0.45229522971198904,
          -1.8838923550993498,
          0.13315305673333974,
          -0.8266448326458588,
          1.2294707915972516,
          0.6778486167632689,
          -0.15856560330555253,
          1.0126681253705112,
          0.6806465776765602,
          -2.341158623582788,
          0.2755666236492162,
          -0.7172182469495813,
          0.7930105775209679,
          0.39568977405882394,
          1.528726412996672,
          0.24679536520261422,
          -0.46161608591743614,
          -0.41260788090652584,
          -0.9197333364273914,
          1.2672340572160545,
          -0.7680399463059111,
          0.20875650311460647,
          -0.8688520154587448,
          1.1871175195914496,
          0.4318475877039881,
          0.22291570222242593,
          1.912613011968483,
          -1.1895491534313078,
          -0.8601534520780754,
          -0.6884358071535207,
          1.6067100199942381,
          0.8869574010673043,
          2.2738448377759197,
          0.053238690773936066,
          -0.10165799243942343,
          -1.5322439587081917,
          1.4952390580885375,
          -0.3456678618511981,
          -0.09156509867611441,
          -1.7259238493479152,
          0.42627109535565494,
          0.13155584440661
         ]
        },
        {
         "line": {
          "color": "rgba(55, 128, 191, 1.0)",
          "dash": "solid",
          "shape": "linear",
          "width": 1.3
         },
         "mode": "lines",
         "name": "B",
         "text": "",
         "type": "scatter",
         "x": [
          0,
          1,
          2,
          3,
          4,
          5,
          6,
          7,
          8,
          9,
          10,
          11,
          12,
          13,
          14,
          15,
          16,
          17,
          18,
          19,
          20,
          21,
          22,
          23,
          24,
          25,
          26,
          27,
          28,
          29,
          30,
          31,
          32,
          33,
          34,
          35,
          36,
          37,
          38,
          39,
          40,
          41,
          42,
          43,
          44,
          45,
          46,
          47,
          48,
          49,
          50,
          51,
          52,
          53,
          54,
          55,
          56,
          57,
          58,
          59,
          60,
          61,
          62,
          63,
          64,
          65,
          66,
          67,
          68,
          69,
          70,
          71,
          72,
          73,
          74,
          75,
          76,
          77,
          78,
          79,
          80,
          81,
          82,
          83,
          84,
          85,
          86,
          87,
          88,
          89,
          90,
          91,
          92,
          93,
          94,
          95,
          96,
          97,
          98,
          99,
          100,
          101,
          102,
          103,
          104,
          105,
          106,
          107,
          108,
          109,
          110,
          111,
          112,
          113,
          114,
          115,
          116,
          117,
          118,
          119,
          120,
          121,
          122,
          123,
          124,
          125,
          126,
          127,
          128,
          129,
          130,
          131,
          132,
          133,
          134,
          135,
          136,
          137,
          138,
          139,
          140,
          141,
          142,
          143,
          144,
          145,
          146,
          147,
          148,
          149,
          150,
          151,
          152,
          153,
          154,
          155,
          156,
          157,
          158,
          159,
          160,
          161,
          162,
          163,
          164,
          165,
          166,
          167,
          168,
          169,
          170,
          171,
          172,
          173,
          174,
          175,
          176,
          177,
          178,
          179,
          180,
          181,
          182,
          183,
          184,
          185,
          186,
          187,
          188,
          189,
          190,
          191,
          192,
          193,
          194,
          195,
          196,
          197,
          198,
          199
         ],
         "y": [
          1.4018747311698432,
          0.12305038788003114,
          -2.0621604828169295,
          0.6310971788406574,
          0.017478005933253684,
          0.6964587848925091,
          0.6692142639756167,
          1.030659741046712,
          0.9596758077035872,
          -0.9164290079884374,
          -0.6446851483938009,
          -0.6116667373572493,
          1.7260305025206517,
          -0.2759506642155176,
          -0.3188067675342285,
          0.9549478759656118,
          0.4002068068348017,
          0.3618786329647358,
          -2.232852501779732,
          0.2634002979548043,
          -0.23434598180308425,
          0.44521962838237017,
          -1.8927127354319755,
          -1.3297540297781392,
          -0.07764797635478797,
          1.702839909849972,
          -1.0460649622342382,
          -0.23597238404268153,
          -1.3174204369042208,
          0.5712385004026206,
          -0.9397730609282275,
          1.244707443354532,
          -0.5536989612126252,
          0.6402166179463994,
          0.22426803921109695,
          -0.21264092848600558,
          -0.10993557287781922,
          -0.9819230417166805,
          0.6079360463127345,
          -0.6057679799690354,
          -1.1119745914173358,
          -1.560293807992332,
          -1.1987638460095538,
          0.4858277742131986,
          2.350569384291055,
          0.6151746971191706,
          0.3847879036524305,
          -0.40025360862732406,
          -0.2827464088764763,
          0.7732213376383255,
          -0.42574944193944025,
          -0.0977566524060275,
          -1.0460108459597866,
          -0.41906615486287035,
          -0.828081174470112,
          -1.5777766072475146,
          -1.751258971395327,
          -0.4577098650787121,
          -0.48384052874521427,
          0.6370632780928125,
          0.6135858592175875,
          -1.0524005004526487,
          -0.18939000452678795,
          1.4832097967972961,
          -1.4478718403622282,
          -1.175823620507187,
          -1.348720049032188,
          -0.840154268876634,
          0.16179821554044488,
          0.4215991235352048,
          -0.09304837280981533,
          1.0229402146371382,
          -0.6777075034485878,
          2.363547662269973,
          0.17517567510440044,
          -1.0142764458464555,
          0.769643017358293,
          -0.559782604130007,
          -0.09826200135677465,
          -2.19532344141647,
          -0.9028689610271179,
          -0.5641688540688159,
          0.0069344933942429516,
          1.771818416056886,
          -0.7042878205436063,
          -1.141511977610186,
          1.104695798124243,
          0.05504535578585138,
          -0.903445628111115,
          -1.0751312204194619,
          0.5433315622422493,
          -0.4816293656408814,
          0.4315047393038972,
          -0.13705156305918187,
          0.3792927120427439,
          -0.11521231565490844,
          -1.2704729596598132,
          -1.3483168965194472,
          -1.671616523024985,
          -0.1521424450157583,
          0.5440995446011344,
          -0.3718765369382678,
          -1.3965083041927662,
          2.526942966641223,
          2.239723475005572,
          -1.4859105355107327,
          1.9818013383576558,
          0.802989460671471,
          1.0303651079399383,
          2.3335949332225114,
          -2.2910087524718072,
          -1.1537515922644148,
          -1.3750319900867725,
          -1.6326060100061293,
          0.6645823180882093,
          1.4740851265119306,
          -0.7666063770492628,
          -0.5548089730982696,
          1.408417243841149,
          -0.4820681914552715,
          1.4701297681558765,
          0.27907719634906686,
          0.7102972508579796,
          -1.5217772011708037,
          0.010862325434475873,
          -0.016880069539919544,
          0.7993093349399368,
          1.015635996790291,
          -0.4474593226688298,
          0.7621086015075268,
          0.8856847020812305,
          1.2102974267836348,
          -1.5386477932819997,
          0.03834324809398329,
          -0.22576792002145568,
          1.0537342040776074,
          -1.3138277848469238,
          0.07049054804272177,
          0.4018169670712659,
          -0.2801832887276961,
          -0.5690121191476055,
          0.35598993442828114,
          -0.004734667011751212,
          0.33230256805073644,
          1.962345783467431,
          -0.2940856894796608,
          -0.1283389011930353,
          0.6168331074300294,
          0.7662626610879297,
          -1.7383020615197815,
          -1.2929174451479046,
          -2.096026957868482,
          0.42565821552001964,
          -0.5002591085547238,
          -0.919531712491247,
          -1.2964648092634155,
          -0.6962169438232568,
          0.03230857859249144,
          -0.529635964552918,
          2.0666298734833393,
          -0.17675252627642735,
          -1.0095191628490185,
          -0.5861082273681731,
          0.6937314493180352,
          0.9261375158887465,
          -1.1213803593314928,
          0.7213848051405207,
          0.3847080628723777,
          0.8894236002885328,
          1.6153335879826933,
          -1.0259748146661083,
          0.028568303126833148,
          0.2334580037219608,
          -2.1501354617090467,
          -0.9422006481662677,
          0.1444750455076689,
          1.0861237079967807,
          1.7201363417958033,
          2.0569115563677145,
          -1.381679208771417,
          -1.0351911302661752,
          1.5223278152050266,
          -0.23231343649555608,
          0.5412096716486152,
          -0.9721564299191358,
          -0.22792905301475427,
          -1.2773274724256982,
          0.8636612498925738,
          -1.2166122317481987,
          0.3507319275056264,
          -1.3101065387849253,
          1.037759945045999,
          1.9370197828161602,
          -2.516970783487686,
          0.10533441465097182,
          -1.9508940804635506,
          0.41530356237292915,
          0.17440382713054814,
          -2.0687853329702146,
          0.22323291262987086
         ]
        },
        {
         "connectgaps": false,
         "fill": "tozeroy",
         "line": {
          "color": "green",
          "dash": "solid",
          "shape": "linear",
          "width": 0.5
         },
         "mode": "lines",
         "name": "Spread",
         "showlegend": false,
         "type": "scatter",
         "x": [
          0,
          1,
          2,
          3,
          4,
          5,
          6,
          7,
          8,
          9,
          10,
          11,
          12,
          13,
          14,
          15,
          16,
          17,
          18,
          19,
          20,
          21,
          22,
          23,
          24,
          25,
          26,
          27,
          28,
          29,
          30,
          31,
          32,
          33,
          34,
          35,
          36,
          37,
          38,
          39,
          40,
          41,
          42,
          43,
          44,
          45,
          46,
          47,
          48,
          49,
          50,
          51,
          52,
          53,
          54,
          55,
          56,
          57,
          58,
          59,
          60,
          61,
          62,
          63,
          64,
          65,
          66,
          67,
          68,
          69,
          70,
          71,
          72,
          73,
          74,
          75,
          76,
          77,
          78,
          79,
          80,
          81,
          82,
          83,
          84,
          85,
          86,
          87,
          88,
          89,
          90,
          91,
          92,
          93,
          94,
          95,
          96,
          97,
          98,
          99,
          100,
          101,
          102,
          103,
          104,
          105,
          106,
          107,
          108,
          109,
          110,
          111,
          112,
          113,
          114,
          115,
          116,
          117,
          118,
          119,
          120,
          121,
          122,
          123,
          124,
          125,
          126,
          127,
          128,
          129,
          130,
          131,
          132,
          133,
          134,
          135,
          136,
          137,
          138,
          139,
          140,
          141,
          142,
          143,
          144,
          145,
          146,
          147,
          148,
          149,
          150,
          151,
          152,
          153,
          154,
          155,
          156,
          157,
          158,
          159,
          160,
          161,
          162,
          163,
          164,
          165,
          166,
          167,
          168,
          169,
          170,
          171,
          172,
          173,
          174,
          175,
          176,
          177,
          178,
          179,
          180,
          181,
          182,
          183,
          184,
          185,
          186,
          187,
          188,
          189,
          190,
          191,
          192,
          193,
          194,
          195,
          196,
          197,
          198,
          199
         ],
         "xaxis": "x2",
         "y": [
          "",
          "",
          2.422598411177118,
          "",
          0.36365574754406105,
          1.3676419480458395,
          "",
          "",
          0.7881914891081996,
          2.032298118637679,
          0.9343786836561037,
          0.23044494458819798,
          "",
          2.1572377588937144,
          2.8762113044992277,
          "",
          "",
          "",
          1.594280951313365,
          0.6392699852233137,
          2.5330755469416424,
          "",
          2.3203900882352917,
          1.6652027388381252,
          0.24576629796866672,
          "",
          1.633495830070892,
          "",
          1.4299730570444793,
          0.614113718902606,
          1.3977525381103075,
          "",
          1.5248692332347424,
          "",
          0.40338445142165114,
          "",
          "",
          0.6200298142515006,
          0.03549812326365953,
          1.0546275428834557,
          1.918125400419683,
          0.3373139143936881,
          0.5066692196979412,
          "",
          "",
          "",
          "",
          0.5331277482311164,
          0.03275205758551569,
          "",
          "",
          "",
          0.7268289428845291,
          2.6739930799609755,
          0.0648636172864202,
          0.4729342650788684,
          2.8540879223961433,
          "",
          "",
          0.5882474505123618,
          "",
          0.3036461864302954,
          1.6167939922276582,
          "",
          2.2497093263606267,
          0.523186458233008,
          0.23894669362228194,
          1.7822611912171853,
          0.7654564867382145,
          "",
          "",
          0.24834085132291217,
          1.346606501130151,
          "",
          0.5379358513450271,
          0.3674859904474933,
          0.5125633490613303,
          0.2591191444027184,
          0.6942924907529928,
          2.80361927285365,
          "",
          1.4529032721553286,
          0.9417756522640519,
          "",
          0.20864150008791582,
          "",
          "",
          0.7666829640783156,
          0.45015321559907273,
          1.5927549050265055,
          0.5314476708133417,
          0.4318276668255656,
          "",
          "",
          0.08886817664127622,
          0.45528682496633543,
          2.223700326860728,
          0.7970168647908232,
          3.1735963590868734,
          2.233475277392392,
          "",
          0.9246270295656063,
          "",
          "",
          "",
          1.0723746597786643,
          "",
          "",
          "",
          "",
          2.7007915640144944,
          0.12640310604791072,
          0.4837086942213742,
          "",
          0.9758673992740092,
          "",
          "",
          1.8817394614588903,
          "",
          0.6358237474177871,
          "",
          "",
          "",
          1.3185270860699383,
          "",
          "",
          1.4246905986191951,
          "",
          0.48909567054294234,
          0.07427708843738012,
          "",
          "",
          0.6962016781185606,
          "",
          0.7431077739676824,
          "",
          0.8670727285806503,
          0.8452527799343473,
          1.352600002301191,
          0.9549380451302776,
          1.2173380755855527,
          0.6029543378255033,
          "",
          "",
          "",
          "",
          "",
          "",
          "",
          3.2267202373337893,
          1.117218836564913,
          3.321931521462955,
          0.7067908237768892,
          0.8838514494929525,
          2.8320256256063745,
          0.8165433964737054,
          0.5201618302331869,
          0.18774680063314464,
          0.0773407348409289,
          "",
          0.3099055830097671,
          0.1828743302031598,
          1.8155790189654248,
          "",
          "",
          2.134048484702004,
          "",
          "",
          "",
          "",
          1.8189853921870762,
          0.36712147093199077,
          1.295268409274711,
          2.3969308269116607,
          0.48058456224883156,
          "",
          "",
          "",
          "",
          1.5904357118860233,
          0.16633911480743035,
          "",
          0.6641610241995441,
          "",
          2.884769441887619,
          "",
          0.41717402034762285,
          "",
          2.823322251742437,
          0.5362254735616778,
          3.583951376560845,
          "",
          "",
          0.9847268247794942,
          1.3899046434375657,
          1.6052262186123525,
          "",
          "",
          2.4950564283258694,
          ""
         ],
         "yaxis": "y2"
        },
        {
         "connectgaps": false,
         "fill": "tozeroy",
         "line": {
          "color": "red",
          "dash": "solid",
          "shape": "linear",
          "width": 0.5
         },
         "mode": "lines",
         "name": "Spread",
         "showlegend": false,
         "type": "scatter",
         "x": [
          0,
          1,
          2,
          3,
          4,
          5,
          6,
          7,
          8,
          9,
          10,
          11,
          12,
          13,
          14,
          15,
          16,
          17,
          18,
          19,
          20,
          21,
          22,
          23,
          24,
          25,
          26,
          27,
          28,
          29,
          30,
          31,
          32,
          33,
          34,
          35,
          36,
          37,
          38,
          39,
          40,
          41,
          42,
          43,
          44,
          45,
          46,
          47,
          48,
          49,
          50,
          51,
          52,
          53,
          54,
          55,
          56,
          57,
          58,
          59,
          60,
          61,
          62,
          63,
          64,
          65,
          66,
          67,
          68,
          69,
          70,
          71,
          72,
          73,
          74,
          75,
          76,
          77,
          78,
          79,
          80,
          81,
          82,
          83,
          84,
          85,
          86,
          87,
          88,
          89,
          90,
          91,
          92,
          93,
          94,
          95,
          96,
          97,
          98,
          99,
          100,
          101,
          102,
          103,
          104,
          105,
          106,
          107,
          108,
          109,
          110,
          111,
          112,
          113,
          114,
          115,
          116,
          117,
          118,
          119,
          120,
          121,
          122,
          123,
          124,
          125,
          126,
          127,
          128,
          129,
          130,
          131,
          132,
          133,
          134,
          135,
          136,
          137,
          138,
          139,
          140,
          141,
          142,
          143,
          144,
          145,
          146,
          147,
          148,
          149,
          150,
          151,
          152,
          153,
          154,
          155,
          156,
          157,
          158,
          159,
          160,
          161,
          162,
          163,
          164,
          165,
          166,
          167,
          168,
          169,
          170,
          171,
          172,
          173,
          174,
          175,
          176,
          177,
          178,
          179,
          180,
          181,
          182,
          183,
          184,
          185,
          186,
          187,
          188,
          189,
          190,
          191,
          192,
          193,
          194,
          195,
          196,
          197,
          198,
          199
         ],
         "xaxis": "x2",
         "y": [
          -2.8894814364381323,
          -1.4501470782904549,
          "",
          -1.7066035233427945,
          "",
          "",
          -1.1512490424606654,
          -1.4189853227900013,
          "",
          "",
          "",
          "",
          -1.3047917939217533,
          "",
          "",
          -1.660795509414111,
          -0.11451256480364846,
          -0.1149192365425421,
          "",
          "",
          "",
          -0.32881018407270124,
          "",
          "",
          "",
          -1.914054023164224,
          "",
          -0.8856633977168706,
          "",
          "",
          "",
          -1.1843631842385796,
          "",
          -1.4226228113211672,
          "",
          -0.8421851913282117,
          -0.9733158619724024,
          "",
          "",
          "",
          "",
          "",
          "",
          -1.779571906904453,
          -2.1118049547544926,
          -1.4328590258681975,
          -0.3010926552780478,
          "",
          "",
          -0.10952584329158088,
          -0.10228380803964127,
          -0.4421000291320263,
          "",
          "",
          "",
          "",
          "",
          -0.7520445665445823,
          -0.7101593206804722,
          "",
          -0.5824697664999022,
          "",
          "",
          -3.8984381093692617,
          "",
          "",
          "",
          "",
          "",
          -2.5183003003210014,
          -0.8456202485768671,
          "",
          "",
          -3.9024127609998582,
          "",
          "",
          "",
          "",
          "",
          "",
          -0.42385155188490353,
          "",
          "",
          -0.5633033663872828,
          "",
          -1.029867358335267,
          -1.6769026901905688,
          "",
          "",
          "",
          "",
          "",
          -1.5640435928171814,
          -0.6969488069174068,
          "",
          "",
          "",
          "",
          "",
          "",
          -2.4329583463447517,
          "",
          -0.43588638971729976,
          -2.7161369603008274,
          -2.4192759798807257,
          "",
          -1.3698793760728116,
          -0.43604833587583064,
          -2.6867597517768473,
          -1.6510122060264685,
          "",
          "",
          "",
          -0.5440136274810548,
          "",
          -2.6280651762451304,
          -1.8678869788409855,
          "",
          -1.877092774804719,
          "",
          -1.473361286937002,
          -2.8547582393732953,
          -0.47838681845867526,
          "",
          -0.13708799323048107,
          -0.41372671973911873,
          "",
          -1.300455701636052,
          "",
          "",
          -1.604690807049404,
          -2.870884069539113,
          "",
          -1.3794086567357662,
          "",
          -2.4249802768548547,
          "",
          "",
          "",
          "",
          "",
          "",
          -1.1357603243375536,
          -1.2930106404550727,
          -2.438190725820806,
          -0.005474249848413992,
          -0.12054888055386934,
          -0.4614040339587955,
          -2.0221546139896094,
          "",
          "",
          "",
          "",
          "",
          "",
          "",
          "",
          "",
          "",
          -3.950522228582689,
          "",
          "",
          "",
          -0.015882832554766302,
          -1.084703119194299,
          "",
          -0.0407382274639605,
          -2.725866686455166,
          -0.6138569766393167,
          -2.3325518349322745,
          "",
          "",
          "",
          "",
          "",
          -0.5570829264141948,
          -2.005857044424172,
          -0.4529022845797488,
          -2.824951502673626,
          "",
          "",
          -0.33521029561357696,
          "",
          -0.31829396942618926,
          "",
          -0.9616201004165535,
          "",
          -1.5520970570460944,
          "",
          "",
          "",
          -0.984521254272063,
          -2.0386777752555836,
          "",
          "",
          "",
          -0.5068686610490436,
          -1.9003276764784633,
          "",
          -0.09167706822326085
         ],
         "yaxis": "y2"
        }
       ],
       "layout": {
        "hovermode": "x",
        "legend": {
         "bgcolor": "#F5F6F9",
         "font": {
          "color": "#4D5663"
         }
        },
        "paper_bgcolor": "#F5F6F9",
        "plot_bgcolor": "#F5F6F9",
        "template": {
         "data": {
          "bar": [
           {
            "error_x": {
             "color": "#2a3f5f"
            },
            "error_y": {
             "color": "#2a3f5f"
            },
            "marker": {
             "line": {
              "color": "#E5ECF6",
              "width": 0.5
             },
             "pattern": {
              "fillmode": "overlay",
              "size": 10,
              "solidity": 0.2
             }
            },
            "type": "bar"
           }
          ],
          "barpolar": [
           {
            "marker": {
             "line": {
              "color": "#E5ECF6",
              "width": 0.5
             },
             "pattern": {
              "fillmode": "overlay",
              "size": 10,
              "solidity": 0.2
             }
            },
            "type": "barpolar"
           }
          ],
          "carpet": [
           {
            "aaxis": {
             "endlinecolor": "#2a3f5f",
             "gridcolor": "white",
             "linecolor": "white",
             "minorgridcolor": "white",
             "startlinecolor": "#2a3f5f"
            },
            "baxis": {
             "endlinecolor": "#2a3f5f",
             "gridcolor": "white",
             "linecolor": "white",
             "minorgridcolor": "white",
             "startlinecolor": "#2a3f5f"
            },
            "type": "carpet"
           }
          ],
          "choropleth": [
           {
            "colorbar": {
             "outlinewidth": 0,
             "ticks": ""
            },
            "type": "choropleth"
           }
          ],
          "contour": [
           {
            "colorbar": {
             "outlinewidth": 0,
             "ticks": ""
            },
            "colorscale": [
             [
              0,
              "#0d0887"
             ],
             [
              0.1111111111111111,
              "#46039f"
             ],
             [
              0.2222222222222222,
              "#7201a8"
             ],
             [
              0.3333333333333333,
              "#9c179e"
             ],
             [
              0.4444444444444444,
              "#bd3786"
             ],
             [
              0.5555555555555556,
              "#d8576b"
             ],
             [
              0.6666666666666666,
              "#ed7953"
             ],
             [
              0.7777777777777778,
              "#fb9f3a"
             ],
             [
              0.8888888888888888,
              "#fdca26"
             ],
             [
              1,
              "#f0f921"
             ]
            ],
            "type": "contour"
           }
          ],
          "contourcarpet": [
           {
            "colorbar": {
             "outlinewidth": 0,
             "ticks": ""
            },
            "type": "contourcarpet"
           }
          ],
          "heatmap": [
           {
            "colorbar": {
             "outlinewidth": 0,
             "ticks": ""
            },
            "colorscale": [
             [
              0,
              "#0d0887"
             ],
             [
              0.1111111111111111,
              "#46039f"
             ],
             [
              0.2222222222222222,
              "#7201a8"
             ],
             [
              0.3333333333333333,
              "#9c179e"
             ],
             [
              0.4444444444444444,
              "#bd3786"
             ],
             [
              0.5555555555555556,
              "#d8576b"
             ],
             [
              0.6666666666666666,
              "#ed7953"
             ],
             [
              0.7777777777777778,
              "#fb9f3a"
             ],
             [
              0.8888888888888888,
              "#fdca26"
             ],
             [
              1,
              "#f0f921"
             ]
            ],
            "type": "heatmap"
           }
          ],
          "heatmapgl": [
           {
            "colorbar": {
             "outlinewidth": 0,
             "ticks": ""
            },
            "colorscale": [
             [
              0,
              "#0d0887"
             ],
             [
              0.1111111111111111,
              "#46039f"
             ],
             [
              0.2222222222222222,
              "#7201a8"
             ],
             [
              0.3333333333333333,
              "#9c179e"
             ],
             [
              0.4444444444444444,
              "#bd3786"
             ],
             [
              0.5555555555555556,
              "#d8576b"
             ],
             [
              0.6666666666666666,
              "#ed7953"
             ],
             [
              0.7777777777777778,
              "#fb9f3a"
             ],
             [
              0.8888888888888888,
              "#fdca26"
             ],
             [
              1,
              "#f0f921"
             ]
            ],
            "type": "heatmapgl"
           }
          ],
          "histogram": [
           {
            "marker": {
             "pattern": {
              "fillmode": "overlay",
              "size": 10,
              "solidity": 0.2
             }
            },
            "type": "histogram"
           }
          ],
          "histogram2d": [
           {
            "colorbar": {
             "outlinewidth": 0,
             "ticks": ""
            },
            "colorscale": [
             [
              0,
              "#0d0887"
             ],
             [
              0.1111111111111111,
              "#46039f"
             ],
             [
              0.2222222222222222,
              "#7201a8"
             ],
             [
              0.3333333333333333,
              "#9c179e"
             ],
             [
              0.4444444444444444,
              "#bd3786"
             ],
             [
              0.5555555555555556,
              "#d8576b"
             ],
             [
              0.6666666666666666,
              "#ed7953"
             ],
             [
              0.7777777777777778,
              "#fb9f3a"
             ],
             [
              0.8888888888888888,
              "#fdca26"
             ],
             [
              1,
              "#f0f921"
             ]
            ],
            "type": "histogram2d"
           }
          ],
          "histogram2dcontour": [
           {
            "colorbar": {
             "outlinewidth": 0,
             "ticks": ""
            },
            "colorscale": [
             [
              0,
              "#0d0887"
             ],
             [
              0.1111111111111111,
              "#46039f"
             ],
             [
              0.2222222222222222,
              "#7201a8"
             ],
             [
              0.3333333333333333,
              "#9c179e"
             ],
             [
              0.4444444444444444,
              "#bd3786"
             ],
             [
              0.5555555555555556,
              "#d8576b"
             ],
             [
              0.6666666666666666,
              "#ed7953"
             ],
             [
              0.7777777777777778,
              "#fb9f3a"
             ],
             [
              0.8888888888888888,
              "#fdca26"
             ],
             [
              1,
              "#f0f921"
             ]
            ],
            "type": "histogram2dcontour"
           }
          ],
          "mesh3d": [
           {
            "colorbar": {
             "outlinewidth": 0,
             "ticks": ""
            },
            "type": "mesh3d"
           }
          ],
          "parcoords": [
           {
            "line": {
             "colorbar": {
              "outlinewidth": 0,
              "ticks": ""
             }
            },
            "type": "parcoords"
           }
          ],
          "pie": [
           {
            "automargin": true,
            "type": "pie"
           }
          ],
          "scatter": [
           {
            "fillpattern": {
             "fillmode": "overlay",
             "size": 10,
             "solidity": 0.2
            },
            "type": "scatter"
           }
          ],
          "scatter3d": [
           {
            "line": {
             "colorbar": {
              "outlinewidth": 0,
              "ticks": ""
             }
            },
            "marker": {
             "colorbar": {
              "outlinewidth": 0,
              "ticks": ""
             }
            },
            "type": "scatter3d"
           }
          ],
          "scattercarpet": [
           {
            "marker": {
             "colorbar": {
              "outlinewidth": 0,
              "ticks": ""
             }
            },
            "type": "scattercarpet"
           }
          ],
          "scattergeo": [
           {
            "marker": {
             "colorbar": {
              "outlinewidth": 0,
              "ticks": ""
             }
            },
            "type": "scattergeo"
           }
          ],
          "scattergl": [
           {
            "marker": {
             "colorbar": {
              "outlinewidth": 0,
              "ticks": ""
             }
            },
            "type": "scattergl"
           }
          ],
          "scattermapbox": [
           {
            "marker": {
             "colorbar": {
              "outlinewidth": 0,
              "ticks": ""
             }
            },
            "type": "scattermapbox"
           }
          ],
          "scatterpolar": [
           {
            "marker": {
             "colorbar": {
              "outlinewidth": 0,
              "ticks": ""
             }
            },
            "type": "scatterpolar"
           }
          ],
          "scatterpolargl": [
           {
            "marker": {
             "colorbar": {
              "outlinewidth": 0,
              "ticks": ""
             }
            },
            "type": "scatterpolargl"
           }
          ],
          "scatterternary": [
           {
            "marker": {
             "colorbar": {
              "outlinewidth": 0,
              "ticks": ""
             }
            },
            "type": "scatterternary"
           }
          ],
          "surface": [
           {
            "colorbar": {
             "outlinewidth": 0,
             "ticks": ""
            },
            "colorscale": [
             [
              0,
              "#0d0887"
             ],
             [
              0.1111111111111111,
              "#46039f"
             ],
             [
              0.2222222222222222,
              "#7201a8"
             ],
             [
              0.3333333333333333,
              "#9c179e"
             ],
             [
              0.4444444444444444,
              "#bd3786"
             ],
             [
              0.5555555555555556,
              "#d8576b"
             ],
             [
              0.6666666666666666,
              "#ed7953"
             ],
             [
              0.7777777777777778,
              "#fb9f3a"
             ],
             [
              0.8888888888888888,
              "#fdca26"
             ],
             [
              1,
              "#f0f921"
             ]
            ],
            "type": "surface"
           }
          ],
          "table": [
           {
            "cells": {
             "fill": {
              "color": "#EBF0F8"
             },
             "line": {
              "color": "white"
             }
            },
            "header": {
             "fill": {
              "color": "#C8D4E3"
             },
             "line": {
              "color": "white"
             }
            },
            "type": "table"
           }
          ]
         },
         "layout": {
          "annotationdefaults": {
           "arrowcolor": "#2a3f5f",
           "arrowhead": 0,
           "arrowwidth": 1
          },
          "autotypenumbers": "strict",
          "coloraxis": {
           "colorbar": {
            "outlinewidth": 0,
            "ticks": ""
           }
          },
          "colorscale": {
           "diverging": [
            [
             0,
             "#8e0152"
            ],
            [
             0.1,
             "#c51b7d"
            ],
            [
             0.2,
             "#de77ae"
            ],
            [
             0.3,
             "#f1b6da"
            ],
            [
             0.4,
             "#fde0ef"
            ],
            [
             0.5,
             "#f7f7f7"
            ],
            [
             0.6,
             "#e6f5d0"
            ],
            [
             0.7,
             "#b8e186"
            ],
            [
             0.8,
             "#7fbc41"
            ],
            [
             0.9,
             "#4d9221"
            ],
            [
             1,
             "#276419"
            ]
           ],
           "sequential": [
            [
             0,
             "#0d0887"
            ],
            [
             0.1111111111111111,
             "#46039f"
            ],
            [
             0.2222222222222222,
             "#7201a8"
            ],
            [
             0.3333333333333333,
             "#9c179e"
            ],
            [
             0.4444444444444444,
             "#bd3786"
            ],
            [
             0.5555555555555556,
             "#d8576b"
            ],
            [
             0.6666666666666666,
             "#ed7953"
            ],
            [
             0.7777777777777778,
             "#fb9f3a"
            ],
            [
             0.8888888888888888,
             "#fdca26"
            ],
            [
             1,
             "#f0f921"
            ]
           ],
           "sequentialminus": [
            [
             0,
             "#0d0887"
            ],
            [
             0.1111111111111111,
             "#46039f"
            ],
            [
             0.2222222222222222,
             "#7201a8"
            ],
            [
             0.3333333333333333,
             "#9c179e"
            ],
            [
             0.4444444444444444,
             "#bd3786"
            ],
            [
             0.5555555555555556,
             "#d8576b"
            ],
            [
             0.6666666666666666,
             "#ed7953"
            ],
            [
             0.7777777777777778,
             "#fb9f3a"
            ],
            [
             0.8888888888888888,
             "#fdca26"
            ],
            [
             1,
             "#f0f921"
            ]
           ]
          },
          "colorway": [
           "#636efa",
           "#EF553B",
           "#00cc96",
           "#ab63fa",
           "#FFA15A",
           "#19d3f3",
           "#FF6692",
           "#B6E880",
           "#FF97FF",
           "#FECB52"
          ],
          "font": {
           "color": "#2a3f5f"
          },
          "geo": {
           "bgcolor": "white",
           "lakecolor": "white",
           "landcolor": "#E5ECF6",
           "showlakes": true,
           "showland": true,
           "subunitcolor": "white"
          },
          "hoverlabel": {
           "align": "left"
          },
          "hovermode": "closest",
          "mapbox": {
           "style": "light"
          },
          "paper_bgcolor": "white",
          "plot_bgcolor": "#E5ECF6",
          "polar": {
           "angularaxis": {
            "gridcolor": "white",
            "linecolor": "white",
            "ticks": ""
           },
           "bgcolor": "#E5ECF6",
           "radialaxis": {
            "gridcolor": "white",
            "linecolor": "white",
            "ticks": ""
           }
          },
          "scene": {
           "xaxis": {
            "backgroundcolor": "#E5ECF6",
            "gridcolor": "white",
            "gridwidth": 2,
            "linecolor": "white",
            "showbackground": true,
            "ticks": "",
            "zerolinecolor": "white"
           },
           "yaxis": {
            "backgroundcolor": "#E5ECF6",
            "gridcolor": "white",
            "gridwidth": 2,
            "linecolor": "white",
            "showbackground": true,
            "ticks": "",
            "zerolinecolor": "white"
           },
           "zaxis": {
            "backgroundcolor": "#E5ECF6",
            "gridcolor": "white",
            "gridwidth": 2,
            "linecolor": "white",
            "showbackground": true,
            "ticks": "",
            "zerolinecolor": "white"
           }
          },
          "shapedefaults": {
           "line": {
            "color": "#2a3f5f"
           }
          },
          "ternary": {
           "aaxis": {
            "gridcolor": "white",
            "linecolor": "white",
            "ticks": ""
           },
           "baxis": {
            "gridcolor": "white",
            "linecolor": "white",
            "ticks": ""
           },
           "bgcolor": "#E5ECF6",
           "caxis": {
            "gridcolor": "white",
            "linecolor": "white",
            "ticks": ""
           }
          },
          "title": {
           "x": 0.05
          },
          "xaxis": {
           "automargin": true,
           "gridcolor": "white",
           "linecolor": "white",
           "ticks": "",
           "title": {
            "standoff": 15
           },
           "zerolinecolor": "white",
           "zerolinewidth": 2
          },
          "yaxis": {
           "automargin": true,
           "gridcolor": "white",
           "linecolor": "white",
           "ticks": "",
           "title": {
            "standoff": 15
           },
           "zerolinecolor": "white",
           "zerolinewidth": 2
          }
         }
        },
        "title": {
         "font": {
          "color": "#4D5663"
         }
        },
        "xaxis": {
         "gridcolor": "#E1E5ED",
         "showgrid": true,
         "tickfont": {
          "color": "#4D5663"
         },
         "title": {
          "font": {
           "color": "#4D5663"
          },
          "text": ""
         },
         "zerolinecolor": "#E1E5ED"
        },
        "xaxis2": {
         "anchor": "y2",
         "gridcolor": "#E1E5ED",
         "showgrid": true,
         "showticklabels": false,
         "tickfont": {
          "color": "#4D5663"
         },
         "title": {
          "font": {
           "color": "#4D5663"
          },
          "text": ""
         },
         "zerolinecolor": "#E1E5ED"
        },
        "yaxis": {
         "domain": [
          0.3,
          1
         ],
         "gridcolor": "#E1E5ED",
         "showgrid": true,
         "tickfont": {
          "color": "#4D5663"
         },
         "title": {
          "font": {
           "color": "#4D5663"
          },
          "text": ""
         },
         "zerolinecolor": "#E1E5ED"
        },
        "yaxis2": {
         "domain": [
          0,
          0.25
         ],
         "gridcolor": "#E1E5ED",
         "showgrid": true,
         "tickfont": {
          "color": "#4D5663"
         },
         "title": {
          "font": {
           "color": "#4D5663"
          },
          "text": "Spread"
         },
         "zerolinecolor": "#E1E5ED"
        }
       }
      },
      "text/html": [
       "<div>                            <div id=\"643ce3e6-4c03-4e16-af61-d1a2367faad0\" class=\"plotly-graph-div\" style=\"height:525px; width:100%;\"></div>            <script type=\"text/javascript\">                require([\"plotly\"], function(Plotly) {                    window.PLOTLYENV=window.PLOTLYENV || {};\n",
       "                    window.PLOTLYENV.BASE_URL='https://plot.ly';                                    if (document.getElementById(\"643ce3e6-4c03-4e16-af61-d1a2367faad0\")) {                    Plotly.newPlot(                        \"643ce3e6-4c03-4e16-af61-d1a2367faad0\",                        [{\"line\":{\"color\":\"rgba(255, 153, 51, 1.0)\",\"dash\":\"solid\",\"shape\":\"linear\",\"width\":1.3},\"mode\":\"lines\",\"name\":\"A\",\"text\":\"\",\"x\":[0,1,2,3,4,5,6,7,8,9,10,11,12,13,14,15,16,17,18,19,20,21,22,23,24,25,26,27,28,29,30,31,32,33,34,35,36,37,38,39,40,41,42,43,44,45,46,47,48,49,50,51,52,53,54,55,56,57,58,59,60,61,62,63,64,65,66,67,68,69,70,71,72,73,74,75,76,77,78,79,80,81,82,83,84,85,86,87,88,89,90,91,92,93,94,95,96,97,98,99,100,101,102,103,104,105,106,107,108,109,110,111,112,113,114,115,116,117,118,119,120,121,122,123,124,125,126,127,128,129,130,131,132,133,134,135,136,137,138,139,140,141,142,143,144,145,146,147,148,149,150,151,152,153,154,155,156,157,158,159,160,161,162,163,164,165,166,167,168,169,170,171,172,173,174,175,176,177,178,179,180,181,182,183,184,185,186,187,188,189,190,191,192,193,194,195,196,197,198,199],\"y\":[-1.487606705268289,-1.3270966904104238,0.3604379283601886,-1.0755063445021371,0.3811337534773147,2.0641007329383485,-0.48203477848504866,-0.38832558174328935,1.7478672968117868,1.1158691106492418,0.2896935352623028,-0.3812217927690513,0.42123870859889845,1.8812870946781968,2.557404536964999,-0.7058476334484991,0.28569424203115323,0.24695939642219372,-0.6385715504663668,0.9026702831781179,2.298729565138558,0.11640944430966896,0.42767735280331637,0.33544870905998614,0.16811832161387877,-0.21121411331425205,0.5874308678366539,-1.1216357817595521,0.11255262014025855,1.1853522193052266,0.45797947718207993,0.06034425911595249,0.9711702720221174,-0.7824061933747677,0.6276524906327481,-1.0548261198142173,-1.0832514348502216,-0.36189322746518,0.643434169576394,0.4488595629144203,0.8061508090023473,-1.222979893598644,-0.6920946263116126,-1.2937441326912544,0.23876442953656232,-0.817684328749027,0.08369524837438268,0.13287413960379232,-0.2499943512909606,0.6636954943467446,-0.5280332499790815,-0.5398566815380538,-0.31918190307525746,2.254926925098105,-0.7632175571836918,-1.1048423421686462,1.1028289510008162,-1.2097544316232944,-1.1939998494256865,1.2253107286051743,0.031116092717685246,-0.7487543140223533,1.4274039877008702,-2.4152283125719656,0.8018374859983983,-0.652637162274179,-1.109773355409906,0.9421069223405514,0.9272547022786595,-2.0967011767857966,-0.9386686213866825,1.2712810659600504,0.6688989976815631,-1.538865098729885,0.7131115264494275,-0.6467904553989622,1.2822063664196233,-0.30066345972728864,0.5960304893962182,0.6082958314371802,-1.3267205129120214,0.8887344180865127,0.9487101456582948,1.208515049669603,-0.49564632045569046,-2.171379335945453,-0.5722068920663259,0.821728319864167,-0.4532924125120422,0.5176236846070436,1.074779233055591,-0.04980169881531574,-1.1325388535132843,-0.8340003699765887,0.4681608886840201,0.340074509311427,0.9532273672009145,-0.551300031728624,1.5019798360618883,2.0813328323766336,-1.8888588017436174,0.5527504926273384,-1.832394693910066,-0.1891939936596043,-0.1795525048751539,-0.41353587573206846,0.6119219622848441,0.3669411247956404,-1.656394643836909,0.6825827271960428,0.40978281154268725,-1.027348486216504,-0.8913232958653983,-2.176619637487184,1.6404497173622186,-1.1539800497331998,-2.6344933558902484,1.3269304883606206,-0.4686755309635699,0.15375555596251558,-0.003231518781125517,-2.5756810430242285,0.23191043239930428,-0.20325011510086552,-0.1262256677960052,-0.4306067892790383,2.223999933559132,-0.28481970484576097,0.041636347874112516,0.8363856899449069,-0.7190061049681735,-1.660586642755478,-0.8424461151634391,-1.3410654086417828,0.5173398539462267,-1.3712460727772473,-0.4467550562662734,0.9157433279770691,1.754416969372457,0.6747547564025815,0.6483259564379472,0.9589442722537845,-1.1404949913493048,-0.9607080724043362,-0.4758449423533752,-0.2995599393280748,-0.24888778174690462,0.15542907347123394,-1.2558919529016797,1.4884181758140078,-0.17569860858299177,1.225904563594473,1.1324490392969089,0.3835923409382287,1.9124939131151277,-0.47992141278970996,-0.17605511359007,0.2200553792256361,-0.45229522971198904,-1.8838923550993498,0.13315305673333974,-0.8266448326458588,1.2294707915972516,0.6778486167632689,-0.15856560330555253,1.0126681253705112,0.6806465776765602,-2.341158623582788,0.2755666236492162,-0.7172182469495813,0.7930105775209679,0.39568977405882394,1.528726412996672,0.24679536520261422,-0.46161608591743614,-0.41260788090652584,-0.9197333364273914,1.2672340572160545,-0.7680399463059111,0.20875650311460647,-0.8688520154587448,1.1871175195914496,0.4318475877039881,0.22291570222242593,1.912613011968483,-1.1895491534313078,-0.8601534520780754,-0.6884358071535207,1.6067100199942381,0.8869574010673043,2.2738448377759197,0.053238690773936066,-0.10165799243942343,-1.5322439587081917,1.4952390580885375,-0.3456678618511981,-0.09156509867611441,-1.7259238493479152,0.42627109535565494,0.13155584440661],\"type\":\"scatter\"},{\"line\":{\"color\":\"rgba(55, 128, 191, 1.0)\",\"dash\":\"solid\",\"shape\":\"linear\",\"width\":1.3},\"mode\":\"lines\",\"name\":\"B\",\"text\":\"\",\"x\":[0,1,2,3,4,5,6,7,8,9,10,11,12,13,14,15,16,17,18,19,20,21,22,23,24,25,26,27,28,29,30,31,32,33,34,35,36,37,38,39,40,41,42,43,44,45,46,47,48,49,50,51,52,53,54,55,56,57,58,59,60,61,62,63,64,65,66,67,68,69,70,71,72,73,74,75,76,77,78,79,80,81,82,83,84,85,86,87,88,89,90,91,92,93,94,95,96,97,98,99,100,101,102,103,104,105,106,107,108,109,110,111,112,113,114,115,116,117,118,119,120,121,122,123,124,125,126,127,128,129,130,131,132,133,134,135,136,137,138,139,140,141,142,143,144,145,146,147,148,149,150,151,152,153,154,155,156,157,158,159,160,161,162,163,164,165,166,167,168,169,170,171,172,173,174,175,176,177,178,179,180,181,182,183,184,185,186,187,188,189,190,191,192,193,194,195,196,197,198,199],\"y\":[1.4018747311698432,0.12305038788003114,-2.0621604828169295,0.6310971788406574,0.017478005933253684,0.6964587848925091,0.6692142639756167,1.030659741046712,0.9596758077035872,-0.9164290079884374,-0.6446851483938009,-0.6116667373572493,1.7260305025206517,-0.2759506642155176,-0.3188067675342285,0.9549478759656118,0.4002068068348017,0.3618786329647358,-2.232852501779732,0.2634002979548043,-0.23434598180308425,0.44521962838237017,-1.8927127354319755,-1.3297540297781392,-0.07764797635478797,1.702839909849972,-1.0460649622342382,-0.23597238404268153,-1.3174204369042208,0.5712385004026206,-0.9397730609282275,1.244707443354532,-0.5536989612126252,0.6402166179463994,0.22426803921109695,-0.21264092848600558,-0.10993557287781922,-0.9819230417166805,0.6079360463127345,-0.6057679799690354,-1.1119745914173358,-1.560293807992332,-1.1987638460095538,0.4858277742131986,2.350569384291055,0.6151746971191706,0.3847879036524305,-0.40025360862732406,-0.2827464088764763,0.7732213376383255,-0.42574944193944025,-0.0977566524060275,-1.0460108459597866,-0.41906615486287035,-0.828081174470112,-1.5777766072475146,-1.751258971395327,-0.4577098650787121,-0.48384052874521427,0.6370632780928125,0.6135858592175875,-1.0524005004526487,-0.18939000452678795,1.4832097967972961,-1.4478718403622282,-1.175823620507187,-1.348720049032188,-0.840154268876634,0.16179821554044488,0.4215991235352048,-0.09304837280981533,1.0229402146371382,-0.6777075034485878,2.363547662269973,0.17517567510440044,-1.0142764458464555,0.769643017358293,-0.559782604130007,-0.09826200135677465,-2.19532344141647,-0.9028689610271179,-0.5641688540688159,0.0069344933942429516,1.771818416056886,-0.7042878205436063,-1.141511977610186,1.104695798124243,0.05504535578585138,-0.903445628111115,-1.0751312204194619,0.5433315622422493,-0.4816293656408814,0.4315047393038972,-0.13705156305918187,0.3792927120427439,-0.11521231565490844,-1.2704729596598132,-1.3483168965194472,-1.671616523024985,-0.1521424450157583,0.5440995446011344,-0.3718765369382678,-1.3965083041927662,2.526942966641223,2.239723475005572,-1.4859105355107327,1.9818013383576558,0.802989460671471,1.0303651079399383,2.3335949332225114,-2.2910087524718072,-1.1537515922644148,-1.3750319900867725,-1.6326060100061293,0.6645823180882093,1.4740851265119306,-0.7666063770492628,-0.5548089730982696,1.408417243841149,-0.4820681914552715,1.4701297681558765,0.27907719634906686,0.7102972508579796,-1.5217772011708037,0.010862325434475873,-0.016880069539919544,0.7993093349399368,1.015635996790291,-0.4474593226688298,0.7621086015075268,0.8856847020812305,1.2102974267836348,-1.5386477932819997,0.03834324809398329,-0.22576792002145568,1.0537342040776074,-1.3138277848469238,0.07049054804272177,0.4018169670712659,-0.2801832887276961,-0.5690121191476055,0.35598993442828114,-0.004734667011751212,0.33230256805073644,1.962345783467431,-0.2940856894796608,-0.1283389011930353,0.6168331074300294,0.7662626610879297,-1.7383020615197815,-1.2929174451479046,-2.096026957868482,0.42565821552001964,-0.5002591085547238,-0.919531712491247,-1.2964648092634155,-0.6962169438232568,0.03230857859249144,-0.529635964552918,2.0666298734833393,-0.17675252627642735,-1.0095191628490185,-0.5861082273681731,0.6937314493180352,0.9261375158887465,-1.1213803593314928,0.7213848051405207,0.3847080628723777,0.8894236002885328,1.6153335879826933,-1.0259748146661083,0.028568303126833148,0.2334580037219608,-2.1501354617090467,-0.9422006481662677,0.1444750455076689,1.0861237079967807,1.7201363417958033,2.0569115563677145,-1.381679208771417,-1.0351911302661752,1.5223278152050266,-0.23231343649555608,0.5412096716486152,-0.9721564299191358,-0.22792905301475427,-1.2773274724256982,0.8636612498925738,-1.2166122317481987,0.3507319275056264,-1.3101065387849253,1.037759945045999,1.9370197828161602,-2.516970783487686,0.10533441465097182,-1.9508940804635506,0.41530356237292915,0.17440382713054814,-2.0687853329702146,0.22323291262987086],\"type\":\"scatter\"},{\"connectgaps\":false,\"fill\":\"tozeroy\",\"line\":{\"color\":\"green\",\"dash\":\"solid\",\"shape\":\"linear\",\"width\":0.5},\"mode\":\"lines\",\"name\":\"Spread\",\"showlegend\":false,\"x\":[0,1,2,3,4,5,6,7,8,9,10,11,12,13,14,15,16,17,18,19,20,21,22,23,24,25,26,27,28,29,30,31,32,33,34,35,36,37,38,39,40,41,42,43,44,45,46,47,48,49,50,51,52,53,54,55,56,57,58,59,60,61,62,63,64,65,66,67,68,69,70,71,72,73,74,75,76,77,78,79,80,81,82,83,84,85,86,87,88,89,90,91,92,93,94,95,96,97,98,99,100,101,102,103,104,105,106,107,108,109,110,111,112,113,114,115,116,117,118,119,120,121,122,123,124,125,126,127,128,129,130,131,132,133,134,135,136,137,138,139,140,141,142,143,144,145,146,147,148,149,150,151,152,153,154,155,156,157,158,159,160,161,162,163,164,165,166,167,168,169,170,171,172,173,174,175,176,177,178,179,180,181,182,183,184,185,186,187,188,189,190,191,192,193,194,195,196,197,198,199],\"xaxis\":\"x2\",\"y\":[\"\",\"\",2.422598411177118,\"\",0.36365574754406105,1.3676419480458395,\"\",\"\",0.7881914891081996,2.032298118637679,0.9343786836561037,0.23044494458819798,\"\",2.1572377588937144,2.8762113044992277,\"\",\"\",\"\",1.594280951313365,0.6392699852233137,2.5330755469416424,\"\",2.3203900882352917,1.6652027388381252,0.24576629796866672,\"\",1.633495830070892,\"\",1.4299730570444793,0.614113718902606,1.3977525381103075,\"\",1.5248692332347424,\"\",0.40338445142165114,\"\",\"\",0.6200298142515006,0.03549812326365953,1.0546275428834557,1.918125400419683,0.3373139143936881,0.5066692196979412,\"\",\"\",\"\",\"\",0.5331277482311164,0.03275205758551569,\"\",\"\",\"\",0.7268289428845291,2.6739930799609755,0.0648636172864202,0.4729342650788684,2.8540879223961433,\"\",\"\",0.5882474505123618,\"\",0.3036461864302954,1.6167939922276582,\"\",2.2497093263606267,0.523186458233008,0.23894669362228194,1.7822611912171853,0.7654564867382145,\"\",\"\",0.24834085132291217,1.346606501130151,\"\",0.5379358513450271,0.3674859904474933,0.5125633490613303,0.2591191444027184,0.6942924907529928,2.80361927285365,\"\",1.4529032721553286,0.9417756522640519,\"\",0.20864150008791582,\"\",\"\",0.7666829640783156,0.45015321559907273,1.5927549050265055,0.5314476708133417,0.4318276668255656,\"\",\"\",0.08886817664127622,0.45528682496633543,2.223700326860728,0.7970168647908232,3.1735963590868734,2.233475277392392,\"\",0.9246270295656063,\"\",\"\",\"\",1.0723746597786643,\"\",\"\",\"\",\"\",2.7007915640144944,0.12640310604791072,0.4837086942213742,\"\",0.9758673992740092,\"\",\"\",1.8817394614588903,\"\",0.6358237474177871,\"\",\"\",\"\",1.3185270860699383,\"\",\"\",1.4246905986191951,\"\",0.48909567054294234,0.07427708843738012,\"\",\"\",0.6962016781185606,\"\",0.7431077739676824,\"\",0.8670727285806503,0.8452527799343473,1.352600002301191,0.9549380451302776,1.2173380755855527,0.6029543378255033,\"\",\"\",\"\",\"\",\"\",\"\",\"\",3.2267202373337893,1.117218836564913,3.321931521462955,0.7067908237768892,0.8838514494929525,2.8320256256063745,0.8165433964737054,0.5201618302331869,0.18774680063314464,0.0773407348409289,\"\",0.3099055830097671,0.1828743302031598,1.8155790189654248,\"\",\"\",2.134048484702004,\"\",\"\",\"\",\"\",1.8189853921870762,0.36712147093199077,1.295268409274711,2.3969308269116607,0.48058456224883156,\"\",\"\",\"\",\"\",1.5904357118860233,0.16633911480743035,\"\",0.6641610241995441,\"\",2.884769441887619,\"\",0.41717402034762285,\"\",2.823322251742437,0.5362254735616778,3.583951376560845,\"\",\"\",0.9847268247794942,1.3899046434375657,1.6052262186123525,\"\",\"\",2.4950564283258694,\"\"],\"yaxis\":\"y2\",\"type\":\"scatter\"},{\"connectgaps\":false,\"fill\":\"tozeroy\",\"line\":{\"color\":\"red\",\"dash\":\"solid\",\"shape\":\"linear\",\"width\":0.5},\"mode\":\"lines\",\"name\":\"Spread\",\"showlegend\":false,\"x\":[0,1,2,3,4,5,6,7,8,9,10,11,12,13,14,15,16,17,18,19,20,21,22,23,24,25,26,27,28,29,30,31,32,33,34,35,36,37,38,39,40,41,42,43,44,45,46,47,48,49,50,51,52,53,54,55,56,57,58,59,60,61,62,63,64,65,66,67,68,69,70,71,72,73,74,75,76,77,78,79,80,81,82,83,84,85,86,87,88,89,90,91,92,93,94,95,96,97,98,99,100,101,102,103,104,105,106,107,108,109,110,111,112,113,114,115,116,117,118,119,120,121,122,123,124,125,126,127,128,129,130,131,132,133,134,135,136,137,138,139,140,141,142,143,144,145,146,147,148,149,150,151,152,153,154,155,156,157,158,159,160,161,162,163,164,165,166,167,168,169,170,171,172,173,174,175,176,177,178,179,180,181,182,183,184,185,186,187,188,189,190,191,192,193,194,195,196,197,198,199],\"xaxis\":\"x2\",\"y\":[-2.8894814364381323,-1.4501470782904549,\"\",-1.7066035233427945,\"\",\"\",-1.1512490424606654,-1.4189853227900013,\"\",\"\",\"\",\"\",-1.3047917939217533,\"\",\"\",-1.660795509414111,-0.11451256480364846,-0.1149192365425421,\"\",\"\",\"\",-0.32881018407270124,\"\",\"\",\"\",-1.914054023164224,\"\",-0.8856633977168706,\"\",\"\",\"\",-1.1843631842385796,\"\",-1.4226228113211672,\"\",-0.8421851913282117,-0.9733158619724024,\"\",\"\",\"\",\"\",\"\",\"\",-1.779571906904453,-2.1118049547544926,-1.4328590258681975,-0.3010926552780478,\"\",\"\",-0.10952584329158088,-0.10228380803964127,-0.4421000291320263,\"\",\"\",\"\",\"\",\"\",-0.7520445665445823,-0.7101593206804722,\"\",-0.5824697664999022,\"\",\"\",-3.8984381093692617,\"\",\"\",\"\",\"\",\"\",-2.5183003003210014,-0.8456202485768671,\"\",\"\",-3.9024127609998582,\"\",\"\",\"\",\"\",\"\",\"\",-0.42385155188490353,\"\",\"\",-0.5633033663872828,\"\",-1.029867358335267,-1.6769026901905688,\"\",\"\",\"\",\"\",\"\",-1.5640435928171814,-0.6969488069174068,\"\",\"\",\"\",\"\",\"\",\"\",-2.4329583463447517,\"\",-0.43588638971729976,-2.7161369603008274,-2.4192759798807257,\"\",-1.3698793760728116,-0.43604833587583064,-2.6867597517768473,-1.6510122060264685,\"\",\"\",\"\",-0.5440136274810548,\"\",-2.6280651762451304,-1.8678869788409855,\"\",-1.877092774804719,\"\",-1.473361286937002,-2.8547582393732953,-0.47838681845867526,\"\",-0.13708799323048107,-0.41372671973911873,\"\",-1.300455701636052,\"\",\"\",-1.604690807049404,-2.870884069539113,\"\",-1.3794086567357662,\"\",-2.4249802768548547,\"\",\"\",\"\",\"\",\"\",\"\",-1.1357603243375536,-1.2930106404550727,-2.438190725820806,-0.005474249848413992,-0.12054888055386934,-0.4614040339587955,-2.0221546139896094,\"\",\"\",\"\",\"\",\"\",\"\",\"\",\"\",\"\",\"\",-3.950522228582689,\"\",\"\",\"\",-0.015882832554766302,-1.084703119194299,\"\",-0.0407382274639605,-2.725866686455166,-0.6138569766393167,-2.3325518349322745,\"\",\"\",\"\",\"\",\"\",-0.5570829264141948,-2.005857044424172,-0.4529022845797488,-2.824951502673626,\"\",\"\",-0.33521029561357696,\"\",-0.31829396942618926,\"\",-0.9616201004165535,\"\",-1.5520970570460944,\"\",\"\",\"\",-0.984521254272063,-2.0386777752555836,\"\",\"\",\"\",-0.5068686610490436,-1.9003276764784633,\"\",-0.09167706822326085],\"yaxis\":\"y2\",\"type\":\"scatter\"}],                        {\"hovermode\":\"x\",\"legend\":{\"bgcolor\":\"#F5F6F9\",\"font\":{\"color\":\"#4D5663\"}},\"paper_bgcolor\":\"#F5F6F9\",\"plot_bgcolor\":\"#F5F6F9\",\"template\":{\"data\":{\"barpolar\":[{\"marker\":{\"line\":{\"color\":\"#E5ECF6\",\"width\":0.5},\"pattern\":{\"fillmode\":\"overlay\",\"size\":10,\"solidity\":0.2}},\"type\":\"barpolar\"}],\"bar\":[{\"error_x\":{\"color\":\"#2a3f5f\"},\"error_y\":{\"color\":\"#2a3f5f\"},\"marker\":{\"line\":{\"color\":\"#E5ECF6\",\"width\":0.5},\"pattern\":{\"fillmode\":\"overlay\",\"size\":10,\"solidity\":0.2}},\"type\":\"bar\"}],\"carpet\":[{\"aaxis\":{\"endlinecolor\":\"#2a3f5f\",\"gridcolor\":\"white\",\"linecolor\":\"white\",\"minorgridcolor\":\"white\",\"startlinecolor\":\"#2a3f5f\"},\"baxis\":{\"endlinecolor\":\"#2a3f5f\",\"gridcolor\":\"white\",\"linecolor\":\"white\",\"minorgridcolor\":\"white\",\"startlinecolor\":\"#2a3f5f\"},\"type\":\"carpet\"}],\"choropleth\":[{\"colorbar\":{\"outlinewidth\":0,\"ticks\":\"\"},\"type\":\"choropleth\"}],\"contourcarpet\":[{\"colorbar\":{\"outlinewidth\":0,\"ticks\":\"\"},\"type\":\"contourcarpet\"}],\"contour\":[{\"colorbar\":{\"outlinewidth\":0,\"ticks\":\"\"},\"colorscale\":[[0.0,\"#0d0887\"],[0.1111111111111111,\"#46039f\"],[0.2222222222222222,\"#7201a8\"],[0.3333333333333333,\"#9c179e\"],[0.4444444444444444,\"#bd3786\"],[0.5555555555555556,\"#d8576b\"],[0.6666666666666666,\"#ed7953\"],[0.7777777777777778,\"#fb9f3a\"],[0.8888888888888888,\"#fdca26\"],[1.0,\"#f0f921\"]],\"type\":\"contour\"}],\"heatmapgl\":[{\"colorbar\":{\"outlinewidth\":0,\"ticks\":\"\"},\"colorscale\":[[0.0,\"#0d0887\"],[0.1111111111111111,\"#46039f\"],[0.2222222222222222,\"#7201a8\"],[0.3333333333333333,\"#9c179e\"],[0.4444444444444444,\"#bd3786\"],[0.5555555555555556,\"#d8576b\"],[0.6666666666666666,\"#ed7953\"],[0.7777777777777778,\"#fb9f3a\"],[0.8888888888888888,\"#fdca26\"],[1.0,\"#f0f921\"]],\"type\":\"heatmapgl\"}],\"heatmap\":[{\"colorbar\":{\"outlinewidth\":0,\"ticks\":\"\"},\"colorscale\":[[0.0,\"#0d0887\"],[0.1111111111111111,\"#46039f\"],[0.2222222222222222,\"#7201a8\"],[0.3333333333333333,\"#9c179e\"],[0.4444444444444444,\"#bd3786\"],[0.5555555555555556,\"#d8576b\"],[0.6666666666666666,\"#ed7953\"],[0.7777777777777778,\"#fb9f3a\"],[0.8888888888888888,\"#fdca26\"],[1.0,\"#f0f921\"]],\"type\":\"heatmap\"}],\"histogram2dcontour\":[{\"colorbar\":{\"outlinewidth\":0,\"ticks\":\"\"},\"colorscale\":[[0.0,\"#0d0887\"],[0.1111111111111111,\"#46039f\"],[0.2222222222222222,\"#7201a8\"],[0.3333333333333333,\"#9c179e\"],[0.4444444444444444,\"#bd3786\"],[0.5555555555555556,\"#d8576b\"],[0.6666666666666666,\"#ed7953\"],[0.7777777777777778,\"#fb9f3a\"],[0.8888888888888888,\"#fdca26\"],[1.0,\"#f0f921\"]],\"type\":\"histogram2dcontour\"}],\"histogram2d\":[{\"colorbar\":{\"outlinewidth\":0,\"ticks\":\"\"},\"colorscale\":[[0.0,\"#0d0887\"],[0.1111111111111111,\"#46039f\"],[0.2222222222222222,\"#7201a8\"],[0.3333333333333333,\"#9c179e\"],[0.4444444444444444,\"#bd3786\"],[0.5555555555555556,\"#d8576b\"],[0.6666666666666666,\"#ed7953\"],[0.7777777777777778,\"#fb9f3a\"],[0.8888888888888888,\"#fdca26\"],[1.0,\"#f0f921\"]],\"type\":\"histogram2d\"}],\"histogram\":[{\"marker\":{\"pattern\":{\"fillmode\":\"overlay\",\"size\":10,\"solidity\":0.2}},\"type\":\"histogram\"}],\"mesh3d\":[{\"colorbar\":{\"outlinewidth\":0,\"ticks\":\"\"},\"type\":\"mesh3d\"}],\"parcoords\":[{\"line\":{\"colorbar\":{\"outlinewidth\":0,\"ticks\":\"\"}},\"type\":\"parcoords\"}],\"pie\":[{\"automargin\":true,\"type\":\"pie\"}],\"scatter3d\":[{\"line\":{\"colorbar\":{\"outlinewidth\":0,\"ticks\":\"\"}},\"marker\":{\"colorbar\":{\"outlinewidth\":0,\"ticks\":\"\"}},\"type\":\"scatter3d\"}],\"scattercarpet\":[{\"marker\":{\"colorbar\":{\"outlinewidth\":0,\"ticks\":\"\"}},\"type\":\"scattercarpet\"}],\"scattergeo\":[{\"marker\":{\"colorbar\":{\"outlinewidth\":0,\"ticks\":\"\"}},\"type\":\"scattergeo\"}],\"scattergl\":[{\"marker\":{\"colorbar\":{\"outlinewidth\":0,\"ticks\":\"\"}},\"type\":\"scattergl\"}],\"scattermapbox\":[{\"marker\":{\"colorbar\":{\"outlinewidth\":0,\"ticks\":\"\"}},\"type\":\"scattermapbox\"}],\"scatterpolargl\":[{\"marker\":{\"colorbar\":{\"outlinewidth\":0,\"ticks\":\"\"}},\"type\":\"scatterpolargl\"}],\"scatterpolar\":[{\"marker\":{\"colorbar\":{\"outlinewidth\":0,\"ticks\":\"\"}},\"type\":\"scatterpolar\"}],\"scatter\":[{\"fillpattern\":{\"fillmode\":\"overlay\",\"size\":10,\"solidity\":0.2},\"type\":\"scatter\"}],\"scatterternary\":[{\"marker\":{\"colorbar\":{\"outlinewidth\":0,\"ticks\":\"\"}},\"type\":\"scatterternary\"}],\"surface\":[{\"colorbar\":{\"outlinewidth\":0,\"ticks\":\"\"},\"colorscale\":[[0.0,\"#0d0887\"],[0.1111111111111111,\"#46039f\"],[0.2222222222222222,\"#7201a8\"],[0.3333333333333333,\"#9c179e\"],[0.4444444444444444,\"#bd3786\"],[0.5555555555555556,\"#d8576b\"],[0.6666666666666666,\"#ed7953\"],[0.7777777777777778,\"#fb9f3a\"],[0.8888888888888888,\"#fdca26\"],[1.0,\"#f0f921\"]],\"type\":\"surface\"}],\"table\":[{\"cells\":{\"fill\":{\"color\":\"#EBF0F8\"},\"line\":{\"color\":\"white\"}},\"header\":{\"fill\":{\"color\":\"#C8D4E3\"},\"line\":{\"color\":\"white\"}},\"type\":\"table\"}]},\"layout\":{\"annotationdefaults\":{\"arrowcolor\":\"#2a3f5f\",\"arrowhead\":0,\"arrowwidth\":1},\"autotypenumbers\":\"strict\",\"coloraxis\":{\"colorbar\":{\"outlinewidth\":0,\"ticks\":\"\"}},\"colorscale\":{\"diverging\":[[0,\"#8e0152\"],[0.1,\"#c51b7d\"],[0.2,\"#de77ae\"],[0.3,\"#f1b6da\"],[0.4,\"#fde0ef\"],[0.5,\"#f7f7f7\"],[0.6,\"#e6f5d0\"],[0.7,\"#b8e186\"],[0.8,\"#7fbc41\"],[0.9,\"#4d9221\"],[1,\"#276419\"]],\"sequential\":[[0.0,\"#0d0887\"],[0.1111111111111111,\"#46039f\"],[0.2222222222222222,\"#7201a8\"],[0.3333333333333333,\"#9c179e\"],[0.4444444444444444,\"#bd3786\"],[0.5555555555555556,\"#d8576b\"],[0.6666666666666666,\"#ed7953\"],[0.7777777777777778,\"#fb9f3a\"],[0.8888888888888888,\"#fdca26\"],[1.0,\"#f0f921\"]],\"sequentialminus\":[[0.0,\"#0d0887\"],[0.1111111111111111,\"#46039f\"],[0.2222222222222222,\"#7201a8\"],[0.3333333333333333,\"#9c179e\"],[0.4444444444444444,\"#bd3786\"],[0.5555555555555556,\"#d8576b\"],[0.6666666666666666,\"#ed7953\"],[0.7777777777777778,\"#fb9f3a\"],[0.8888888888888888,\"#fdca26\"],[1.0,\"#f0f921\"]]},\"colorway\":[\"#636efa\",\"#EF553B\",\"#00cc96\",\"#ab63fa\",\"#FFA15A\",\"#19d3f3\",\"#FF6692\",\"#B6E880\",\"#FF97FF\",\"#FECB52\"],\"font\":{\"color\":\"#2a3f5f\"},\"geo\":{\"bgcolor\":\"white\",\"lakecolor\":\"white\",\"landcolor\":\"#E5ECF6\",\"showlakes\":true,\"showland\":true,\"subunitcolor\":\"white\"},\"hoverlabel\":{\"align\":\"left\"},\"hovermode\":\"closest\",\"mapbox\":{\"style\":\"light\"},\"paper_bgcolor\":\"white\",\"plot_bgcolor\":\"#E5ECF6\",\"polar\":{\"angularaxis\":{\"gridcolor\":\"white\",\"linecolor\":\"white\",\"ticks\":\"\"},\"bgcolor\":\"#E5ECF6\",\"radialaxis\":{\"gridcolor\":\"white\",\"linecolor\":\"white\",\"ticks\":\"\"}},\"scene\":{\"xaxis\":{\"backgroundcolor\":\"#E5ECF6\",\"gridcolor\":\"white\",\"gridwidth\":2,\"linecolor\":\"white\",\"showbackground\":true,\"ticks\":\"\",\"zerolinecolor\":\"white\"},\"yaxis\":{\"backgroundcolor\":\"#E5ECF6\",\"gridcolor\":\"white\",\"gridwidth\":2,\"linecolor\":\"white\",\"showbackground\":true,\"ticks\":\"\",\"zerolinecolor\":\"white\"},\"zaxis\":{\"backgroundcolor\":\"#E5ECF6\",\"gridcolor\":\"white\",\"gridwidth\":2,\"linecolor\":\"white\",\"showbackground\":true,\"ticks\":\"\",\"zerolinecolor\":\"white\"}},\"shapedefaults\":{\"line\":{\"color\":\"#2a3f5f\"}},\"ternary\":{\"aaxis\":{\"gridcolor\":\"white\",\"linecolor\":\"white\",\"ticks\":\"\"},\"baxis\":{\"gridcolor\":\"white\",\"linecolor\":\"white\",\"ticks\":\"\"},\"bgcolor\":\"#E5ECF6\",\"caxis\":{\"gridcolor\":\"white\",\"linecolor\":\"white\",\"ticks\":\"\"}},\"title\":{\"x\":0.05},\"xaxis\":{\"automargin\":true,\"gridcolor\":\"white\",\"linecolor\":\"white\",\"ticks\":\"\",\"title\":{\"standoff\":15},\"zerolinecolor\":\"white\",\"zerolinewidth\":2},\"yaxis\":{\"automargin\":true,\"gridcolor\":\"white\",\"linecolor\":\"white\",\"ticks\":\"\",\"title\":{\"standoff\":15},\"zerolinecolor\":\"white\",\"zerolinewidth\":2}}},\"title\":{\"font\":{\"color\":\"#4D5663\"}},\"xaxis\":{\"gridcolor\":\"#E1E5ED\",\"showgrid\":true,\"tickfont\":{\"color\":\"#4D5663\"},\"title\":{\"font\":{\"color\":\"#4D5663\"},\"text\":\"\"},\"zerolinecolor\":\"#E1E5ED\"},\"yaxis\":{\"domain\":[0.3,1],\"gridcolor\":\"#E1E5ED\",\"showgrid\":true,\"tickfont\":{\"color\":\"#4D5663\"},\"title\":{\"font\":{\"color\":\"#4D5663\"},\"text\":\"\"},\"zerolinecolor\":\"#E1E5ED\"},\"yaxis2\":{\"domain\":[0,0.25],\"gridcolor\":\"#E1E5ED\",\"showgrid\":true,\"tickfont\":{\"color\":\"#4D5663\"},\"title\":{\"font\":{\"color\":\"#4D5663\"},\"text\":\"Spread\"},\"zerolinecolor\":\"#E1E5ED\"},\"xaxis2\":{\"anchor\":\"y2\",\"gridcolor\":\"#E1E5ED\",\"showgrid\":true,\"showticklabels\":false,\"tickfont\":{\"color\":\"#4D5663\"},\"title\":{\"font\":{\"color\":\"#4D5663\"},\"text\":\"\"},\"zerolinecolor\":\"#E1E5ED\"}},                        {\"showLink\": true, \"linkText\": \"Export to plot.ly\", \"plotlyServerURL\": \"https://plot.ly\", \"responsive\": true}                    ).then(function(){\n",
       "                            \n",
       "var gd = document.getElementById('643ce3e6-4c03-4e16-af61-d1a2367faad0');\n",
       "var x = new MutationObserver(function (mutations, observer) {{\n",
       "        var display = window.getComputedStyle(gd).display;\n",
       "        if (!display || display === 'none') {{\n",
       "            console.log([gd, 'removed!']);\n",
       "            Plotly.purge(gd);\n",
       "            observer.disconnect();\n",
       "        }}\n",
       "}});\n",
       "\n",
       "// Listen for the removal of the full notebook cells\n",
       "var notebookContainer = gd.closest('#notebook-container');\n",
       "if (notebookContainer) {{\n",
       "    x.observe(notebookContainer, {childList: true});\n",
       "}}\n",
       "\n",
       "// Listen for the clearing of the current output cell\n",
       "var outputEl = gd.closest('.output');\n",
       "if (outputEl) {{\n",
       "    x.observe(outputEl, {childList: true});\n",
       "}}\n",
       "\n",
       "                        })                };                });            </script>        </div>"
      ]
     },
     "metadata": {},
     "output_type": "display_data"
    }
   ],
   "source": [
    "# Spread type visualization\n",
    "# stocks type\n",
    "df[['A', 'B']].iplot(kind='spread')"
   ]
  },
  {
   "cell_type": "code",
   "execution_count": 23,
   "metadata": {},
   "outputs": [
    {
     "data": {
      "application/vnd.plotly.v1+json": {
       "config": {
        "linkText": "Export to plot.ly",
        "plotlyServerURL": "https://plot.ly",
        "showLink": true
       },
       "data": [
        {
         "marker": {
          "color": [
           "rgb(255, 153, 51)",
           "rgb(55, 128, 191)",
           "rgb(50, 171, 96)",
           "rgb(128, 0, 128)",
           "rgb(219, 64, 82)",
           "rgb(0, 128, 128)",
           "rgb(255, 255, 51)",
           "rgb(128, 128, 0)",
           "rgb(251, 128, 114)",
           "rgb(128, 177, 211)"
          ],
          "line": {
           "width": 1.3
          },
          "size": [
           36,
           29,
           95,
           68,
           92,
           60,
           53,
           59,
           80,
           78,
           55,
           74,
           53,
           57,
           74,
           77,
           67,
           46,
           92,
           55,
           86,
           39,
           55,
           63,
           101,
           41,
           57,
           54,
           44,
           22,
           70,
           88,
           90,
           41,
           62,
           52,
           82,
           87,
           88,
           71,
           67,
           45,
           72,
           59,
           49,
           52,
           57,
           90,
           111,
           14,
           65,
           39,
           73,
           45,
           74,
           61,
           110,
           50,
           49,
           52,
           91,
           74,
           98,
           65,
           52,
           55,
           37,
           27,
           36,
           73,
           76,
           49,
           46,
           60,
           103,
           37,
           50,
           49,
           77,
           84,
           53,
           87,
           48,
           82,
           92,
           72,
           54,
           79,
           51,
           96,
           92,
           63,
           39,
           55,
           54,
           85,
           89,
           12,
           32,
           60,
           40,
           60,
           75,
           63,
           32,
           57,
           81,
           65,
           97,
           99,
           34,
           99,
           46,
           74,
           41,
           34,
           78,
           82,
           39,
           35,
           79,
           49,
           46,
           42,
           61,
           92,
           76,
           62,
           65,
           71,
           73,
           72,
           97,
           68,
           30,
           66,
           95,
           75,
           64,
           41,
           47,
           93,
           53,
           94,
           44,
           108,
           81,
           89,
           81,
           92,
           76,
           70,
           95,
           66,
           87,
           89,
           69,
           112,
           61,
           64,
           24,
           88,
           96,
           92,
           48,
           96,
           64,
           47,
           76,
           48,
           51,
           56,
           43,
           70,
           74,
           111,
           70,
           90,
           94,
           60,
           64,
           41,
           39,
           81,
           40,
           49,
           69,
           72,
           34,
           61,
           77,
           65,
           45,
           61,
           38,
           72,
           68,
           65,
           77,
           38
          ],
          "symbol": "circle"
         },
         "mode": "markers",
         "text": "",
         "type": "scatter",
         "x": [
          -1.487606705268289,
          -1.3270966904104238,
          0.3604379283601886,
          -1.0755063445021371,
          0.3811337534773147,
          2.0641007329383485,
          -0.48203477848504866,
          -0.38832558174328935,
          1.7478672968117868,
          1.1158691106492418,
          0.2896935352623028,
          -0.3812217927690513,
          0.42123870859889845,
          1.8812870946781968,
          2.557404536964999,
          -0.7058476334484991,
          0.28569424203115323,
          0.24695939642219372,
          -0.6385715504663668,
          0.9026702831781179,
          2.298729565138558,
          0.11640944430966896,
          0.42767735280331637,
          0.33544870905998614,
          0.16811832161387877,
          -0.21121411331425205,
          0.5874308678366539,
          -1.1216357817595521,
          0.11255262014025855,
          1.1853522193052266,
          0.45797947718207993,
          0.06034425911595249,
          0.9711702720221174,
          -0.7824061933747677,
          0.6276524906327481,
          -1.0548261198142173,
          -1.0832514348502216,
          -0.36189322746518,
          0.643434169576394,
          0.4488595629144203,
          0.8061508090023473,
          -1.222979893598644,
          -0.6920946263116126,
          -1.2937441326912544,
          0.23876442953656232,
          -0.817684328749027,
          0.08369524837438268,
          0.13287413960379232,
          -0.2499943512909606,
          0.6636954943467446,
          -0.5280332499790815,
          -0.5398566815380538,
          -0.31918190307525746,
          2.254926925098105,
          -0.7632175571836918,
          -1.1048423421686462,
          1.1028289510008162,
          -1.2097544316232944,
          -1.1939998494256865,
          1.2253107286051743,
          0.031116092717685246,
          -0.7487543140223533,
          1.4274039877008702,
          -2.4152283125719656,
          0.8018374859983983,
          -0.652637162274179,
          -1.109773355409906,
          0.9421069223405514,
          0.9272547022786595,
          -2.0967011767857966,
          -0.9386686213866825,
          1.2712810659600504,
          0.6688989976815631,
          -1.538865098729885,
          0.7131115264494275,
          -0.6467904553989622,
          1.2822063664196233,
          -0.30066345972728864,
          0.5960304893962182,
          0.6082958314371802,
          -1.3267205129120214,
          0.8887344180865127,
          0.9487101456582948,
          1.208515049669603,
          -0.49564632045569046,
          -2.171379335945453,
          -0.5722068920663259,
          0.821728319864167,
          -0.4532924125120422,
          0.5176236846070436,
          1.074779233055591,
          -0.04980169881531574,
          -1.1325388535132843,
          -0.8340003699765887,
          0.4681608886840201,
          0.340074509311427,
          0.9532273672009145,
          -0.551300031728624,
          1.5019798360618883,
          2.0813328323766336,
          -1.8888588017436174,
          0.5527504926273384,
          -1.832394693910066,
          -0.1891939936596043,
          -0.1795525048751539,
          -0.41353587573206846,
          0.6119219622848441,
          0.3669411247956404,
          -1.656394643836909,
          0.6825827271960428,
          0.40978281154268725,
          -1.027348486216504,
          -0.8913232958653983,
          -2.176619637487184,
          1.6404497173622186,
          -1.1539800497331998,
          -2.6344933558902484,
          1.3269304883606206,
          -0.4686755309635699,
          0.15375555596251558,
          -0.003231518781125517,
          -2.5756810430242285,
          0.23191043239930428,
          -0.20325011510086552,
          -0.1262256677960052,
          -0.4306067892790383,
          2.223999933559132,
          -0.28481970484576097,
          0.041636347874112516,
          0.8363856899449069,
          -0.7190061049681735,
          -1.660586642755478,
          -0.8424461151634391,
          -1.3410654086417828,
          0.5173398539462267,
          -1.3712460727772473,
          -0.4467550562662734,
          0.9157433279770691,
          1.754416969372457,
          0.6747547564025815,
          0.6483259564379472,
          0.9589442722537845,
          -1.1404949913493048,
          -0.9607080724043362,
          -0.4758449423533752,
          -0.2995599393280748,
          -0.24888778174690462,
          0.15542907347123394,
          -1.2558919529016797,
          1.4884181758140078,
          -0.17569860858299177,
          1.225904563594473,
          1.1324490392969089,
          0.3835923409382287,
          1.9124939131151277,
          -0.47992141278970996,
          -0.17605511359007,
          0.2200553792256361,
          -0.45229522971198904,
          -1.8838923550993498,
          0.13315305673333974,
          -0.8266448326458588,
          1.2294707915972516,
          0.6778486167632689,
          -0.15856560330555253,
          1.0126681253705112,
          0.6806465776765602,
          -2.341158623582788,
          0.2755666236492162,
          -0.7172182469495813,
          0.7930105775209679,
          0.39568977405882394,
          1.528726412996672,
          0.24679536520261422,
          -0.46161608591743614,
          -0.41260788090652584,
          -0.9197333364273914,
          1.2672340572160545,
          -0.7680399463059111,
          0.20875650311460647,
          -0.8688520154587448,
          1.1871175195914496,
          0.4318475877039881,
          0.22291570222242593,
          1.912613011968483,
          -1.1895491534313078,
          -0.8601534520780754,
          -0.6884358071535207,
          1.6067100199942381,
          0.8869574010673043,
          2.2738448377759197,
          0.053238690773936066,
          -0.10165799243942343,
          -1.5322439587081917,
          1.4952390580885375,
          -0.3456678618511981,
          -0.09156509867611441,
          -1.7259238493479152,
          0.42627109535565494,
          0.13155584440661
         ],
         "y": [
          1.4018747311698432,
          0.12305038788003114,
          -2.0621604828169295,
          0.6310971788406574,
          0.017478005933253684,
          0.6964587848925091,
          0.6692142639756167,
          1.030659741046712,
          0.9596758077035872,
          -0.9164290079884374,
          -0.6446851483938009,
          -0.6116667373572493,
          1.7260305025206517,
          -0.2759506642155176,
          -0.3188067675342285,
          0.9549478759656118,
          0.4002068068348017,
          0.3618786329647358,
          -2.232852501779732,
          0.2634002979548043,
          -0.23434598180308425,
          0.44521962838237017,
          -1.8927127354319755,
          -1.3297540297781392,
          -0.07764797635478797,
          1.702839909849972,
          -1.0460649622342382,
          -0.23597238404268153,
          -1.3174204369042208,
          0.5712385004026206,
          -0.9397730609282275,
          1.244707443354532,
          -0.5536989612126252,
          0.6402166179463994,
          0.22426803921109695,
          -0.21264092848600558,
          -0.10993557287781922,
          -0.9819230417166805,
          0.6079360463127345,
          -0.6057679799690354,
          -1.1119745914173358,
          -1.560293807992332,
          -1.1987638460095538,
          0.4858277742131986,
          2.350569384291055,
          0.6151746971191706,
          0.3847879036524305,
          -0.40025360862732406,
          -0.2827464088764763,
          0.7732213376383255,
          -0.42574944193944025,
          -0.0977566524060275,
          -1.0460108459597866,
          -0.41906615486287035,
          -0.828081174470112,
          -1.5777766072475146,
          -1.751258971395327,
          -0.4577098650787121,
          -0.48384052874521427,
          0.6370632780928125,
          0.6135858592175875,
          -1.0524005004526487,
          -0.18939000452678795,
          1.4832097967972961,
          -1.4478718403622282,
          -1.175823620507187,
          -1.348720049032188,
          -0.840154268876634,
          0.16179821554044488,
          0.4215991235352048,
          -0.09304837280981533,
          1.0229402146371382,
          -0.6777075034485878,
          2.363547662269973,
          0.17517567510440044,
          -1.0142764458464555,
          0.769643017358293,
          -0.559782604130007,
          -0.09826200135677465,
          -2.19532344141647,
          -0.9028689610271179,
          -0.5641688540688159,
          0.0069344933942429516,
          1.771818416056886,
          -0.7042878205436063,
          -1.141511977610186,
          1.104695798124243,
          0.05504535578585138,
          -0.903445628111115,
          -1.0751312204194619,
          0.5433315622422493,
          -0.4816293656408814,
          0.4315047393038972,
          -0.13705156305918187,
          0.3792927120427439,
          -0.11521231565490844,
          -1.2704729596598132,
          -1.3483168965194472,
          -1.671616523024985,
          -0.1521424450157583,
          0.5440995446011344,
          -0.3718765369382678,
          -1.3965083041927662,
          2.526942966641223,
          2.239723475005572,
          -1.4859105355107327,
          1.9818013383576558,
          0.802989460671471,
          1.0303651079399383,
          2.3335949332225114,
          -2.2910087524718072,
          -1.1537515922644148,
          -1.3750319900867725,
          -1.6326060100061293,
          0.6645823180882093,
          1.4740851265119306,
          -0.7666063770492628,
          -0.5548089730982696,
          1.408417243841149,
          -0.4820681914552715,
          1.4701297681558765,
          0.27907719634906686,
          0.7102972508579796,
          -1.5217772011708037,
          0.010862325434475873,
          -0.016880069539919544,
          0.7993093349399368,
          1.015635996790291,
          -0.4474593226688298,
          0.7621086015075268,
          0.8856847020812305,
          1.2102974267836348,
          -1.5386477932819997,
          0.03834324809398329,
          -0.22576792002145568,
          1.0537342040776074,
          -1.3138277848469238,
          0.07049054804272177,
          0.4018169670712659,
          -0.2801832887276961,
          -0.5690121191476055,
          0.35598993442828114,
          -0.004734667011751212,
          0.33230256805073644,
          1.962345783467431,
          -0.2940856894796608,
          -0.1283389011930353,
          0.6168331074300294,
          0.7662626610879297,
          -1.7383020615197815,
          -1.2929174451479046,
          -2.096026957868482,
          0.42565821552001964,
          -0.5002591085547238,
          -0.919531712491247,
          -1.2964648092634155,
          -0.6962169438232568,
          0.03230857859249144,
          -0.529635964552918,
          2.0666298734833393,
          -0.17675252627642735,
          -1.0095191628490185,
          -0.5861082273681731,
          0.6937314493180352,
          0.9261375158887465,
          -1.1213803593314928,
          0.7213848051405207,
          0.3847080628723777,
          0.8894236002885328,
          1.6153335879826933,
          -1.0259748146661083,
          0.028568303126833148,
          0.2334580037219608,
          -2.1501354617090467,
          -0.9422006481662677,
          0.1444750455076689,
          1.0861237079967807,
          1.7201363417958033,
          2.0569115563677145,
          -1.381679208771417,
          -1.0351911302661752,
          1.5223278152050266,
          -0.23231343649555608,
          0.5412096716486152,
          -0.9721564299191358,
          -0.22792905301475427,
          -1.2773274724256982,
          0.8636612498925738,
          -1.2166122317481987,
          0.3507319275056264,
          -1.3101065387849253,
          1.037759945045999,
          1.9370197828161602,
          -2.516970783487686,
          0.10533441465097182,
          -1.9508940804635506,
          0.41530356237292915,
          0.17440382713054814,
          -2.0687853329702146,
          0.22323291262987086
         ]
        }
       ],
       "layout": {
        "legend": {
         "bgcolor": "#F5F6F9",
         "font": {
          "color": "#4D5663"
         }
        },
        "paper_bgcolor": "#F5F6F9",
        "plot_bgcolor": "#F5F6F9",
        "template": {
         "data": {
          "bar": [
           {
            "error_x": {
             "color": "#2a3f5f"
            },
            "error_y": {
             "color": "#2a3f5f"
            },
            "marker": {
             "line": {
              "color": "#E5ECF6",
              "width": 0.5
             },
             "pattern": {
              "fillmode": "overlay",
              "size": 10,
              "solidity": 0.2
             }
            },
            "type": "bar"
           }
          ],
          "barpolar": [
           {
            "marker": {
             "line": {
              "color": "#E5ECF6",
              "width": 0.5
             },
             "pattern": {
              "fillmode": "overlay",
              "size": 10,
              "solidity": 0.2
             }
            },
            "type": "barpolar"
           }
          ],
          "carpet": [
           {
            "aaxis": {
             "endlinecolor": "#2a3f5f",
             "gridcolor": "white",
             "linecolor": "white",
             "minorgridcolor": "white",
             "startlinecolor": "#2a3f5f"
            },
            "baxis": {
             "endlinecolor": "#2a3f5f",
             "gridcolor": "white",
             "linecolor": "white",
             "minorgridcolor": "white",
             "startlinecolor": "#2a3f5f"
            },
            "type": "carpet"
           }
          ],
          "choropleth": [
           {
            "colorbar": {
             "outlinewidth": 0,
             "ticks": ""
            },
            "type": "choropleth"
           }
          ],
          "contour": [
           {
            "colorbar": {
             "outlinewidth": 0,
             "ticks": ""
            },
            "colorscale": [
             [
              0,
              "#0d0887"
             ],
             [
              0.1111111111111111,
              "#46039f"
             ],
             [
              0.2222222222222222,
              "#7201a8"
             ],
             [
              0.3333333333333333,
              "#9c179e"
             ],
             [
              0.4444444444444444,
              "#bd3786"
             ],
             [
              0.5555555555555556,
              "#d8576b"
             ],
             [
              0.6666666666666666,
              "#ed7953"
             ],
             [
              0.7777777777777778,
              "#fb9f3a"
             ],
             [
              0.8888888888888888,
              "#fdca26"
             ],
             [
              1,
              "#f0f921"
             ]
            ],
            "type": "contour"
           }
          ],
          "contourcarpet": [
           {
            "colorbar": {
             "outlinewidth": 0,
             "ticks": ""
            },
            "type": "contourcarpet"
           }
          ],
          "heatmap": [
           {
            "colorbar": {
             "outlinewidth": 0,
             "ticks": ""
            },
            "colorscale": [
             [
              0,
              "#0d0887"
             ],
             [
              0.1111111111111111,
              "#46039f"
             ],
             [
              0.2222222222222222,
              "#7201a8"
             ],
             [
              0.3333333333333333,
              "#9c179e"
             ],
             [
              0.4444444444444444,
              "#bd3786"
             ],
             [
              0.5555555555555556,
              "#d8576b"
             ],
             [
              0.6666666666666666,
              "#ed7953"
             ],
             [
              0.7777777777777778,
              "#fb9f3a"
             ],
             [
              0.8888888888888888,
              "#fdca26"
             ],
             [
              1,
              "#f0f921"
             ]
            ],
            "type": "heatmap"
           }
          ],
          "heatmapgl": [
           {
            "colorbar": {
             "outlinewidth": 0,
             "ticks": ""
            },
            "colorscale": [
             [
              0,
              "#0d0887"
             ],
             [
              0.1111111111111111,
              "#46039f"
             ],
             [
              0.2222222222222222,
              "#7201a8"
             ],
             [
              0.3333333333333333,
              "#9c179e"
             ],
             [
              0.4444444444444444,
              "#bd3786"
             ],
             [
              0.5555555555555556,
              "#d8576b"
             ],
             [
              0.6666666666666666,
              "#ed7953"
             ],
             [
              0.7777777777777778,
              "#fb9f3a"
             ],
             [
              0.8888888888888888,
              "#fdca26"
             ],
             [
              1,
              "#f0f921"
             ]
            ],
            "type": "heatmapgl"
           }
          ],
          "histogram": [
           {
            "marker": {
             "pattern": {
              "fillmode": "overlay",
              "size": 10,
              "solidity": 0.2
             }
            },
            "type": "histogram"
           }
          ],
          "histogram2d": [
           {
            "colorbar": {
             "outlinewidth": 0,
             "ticks": ""
            },
            "colorscale": [
             [
              0,
              "#0d0887"
             ],
             [
              0.1111111111111111,
              "#46039f"
             ],
             [
              0.2222222222222222,
              "#7201a8"
             ],
             [
              0.3333333333333333,
              "#9c179e"
             ],
             [
              0.4444444444444444,
              "#bd3786"
             ],
             [
              0.5555555555555556,
              "#d8576b"
             ],
             [
              0.6666666666666666,
              "#ed7953"
             ],
             [
              0.7777777777777778,
              "#fb9f3a"
             ],
             [
              0.8888888888888888,
              "#fdca26"
             ],
             [
              1,
              "#f0f921"
             ]
            ],
            "type": "histogram2d"
           }
          ],
          "histogram2dcontour": [
           {
            "colorbar": {
             "outlinewidth": 0,
             "ticks": ""
            },
            "colorscale": [
             [
              0,
              "#0d0887"
             ],
             [
              0.1111111111111111,
              "#46039f"
             ],
             [
              0.2222222222222222,
              "#7201a8"
             ],
             [
              0.3333333333333333,
              "#9c179e"
             ],
             [
              0.4444444444444444,
              "#bd3786"
             ],
             [
              0.5555555555555556,
              "#d8576b"
             ],
             [
              0.6666666666666666,
              "#ed7953"
             ],
             [
              0.7777777777777778,
              "#fb9f3a"
             ],
             [
              0.8888888888888888,
              "#fdca26"
             ],
             [
              1,
              "#f0f921"
             ]
            ],
            "type": "histogram2dcontour"
           }
          ],
          "mesh3d": [
           {
            "colorbar": {
             "outlinewidth": 0,
             "ticks": ""
            },
            "type": "mesh3d"
           }
          ],
          "parcoords": [
           {
            "line": {
             "colorbar": {
              "outlinewidth": 0,
              "ticks": ""
             }
            },
            "type": "parcoords"
           }
          ],
          "pie": [
           {
            "automargin": true,
            "type": "pie"
           }
          ],
          "scatter": [
           {
            "fillpattern": {
             "fillmode": "overlay",
             "size": 10,
             "solidity": 0.2
            },
            "type": "scatter"
           }
          ],
          "scatter3d": [
           {
            "line": {
             "colorbar": {
              "outlinewidth": 0,
              "ticks": ""
             }
            },
            "marker": {
             "colorbar": {
              "outlinewidth": 0,
              "ticks": ""
             }
            },
            "type": "scatter3d"
           }
          ],
          "scattercarpet": [
           {
            "marker": {
             "colorbar": {
              "outlinewidth": 0,
              "ticks": ""
             }
            },
            "type": "scattercarpet"
           }
          ],
          "scattergeo": [
           {
            "marker": {
             "colorbar": {
              "outlinewidth": 0,
              "ticks": ""
             }
            },
            "type": "scattergeo"
           }
          ],
          "scattergl": [
           {
            "marker": {
             "colorbar": {
              "outlinewidth": 0,
              "ticks": ""
             }
            },
            "type": "scattergl"
           }
          ],
          "scattermapbox": [
           {
            "marker": {
             "colorbar": {
              "outlinewidth": 0,
              "ticks": ""
             }
            },
            "type": "scattermapbox"
           }
          ],
          "scatterpolar": [
           {
            "marker": {
             "colorbar": {
              "outlinewidth": 0,
              "ticks": ""
             }
            },
            "type": "scatterpolar"
           }
          ],
          "scatterpolargl": [
           {
            "marker": {
             "colorbar": {
              "outlinewidth": 0,
              "ticks": ""
             }
            },
            "type": "scatterpolargl"
           }
          ],
          "scatterternary": [
           {
            "marker": {
             "colorbar": {
              "outlinewidth": 0,
              "ticks": ""
             }
            },
            "type": "scatterternary"
           }
          ],
          "surface": [
           {
            "colorbar": {
             "outlinewidth": 0,
             "ticks": ""
            },
            "colorscale": [
             [
              0,
              "#0d0887"
             ],
             [
              0.1111111111111111,
              "#46039f"
             ],
             [
              0.2222222222222222,
              "#7201a8"
             ],
             [
              0.3333333333333333,
              "#9c179e"
             ],
             [
              0.4444444444444444,
              "#bd3786"
             ],
             [
              0.5555555555555556,
              "#d8576b"
             ],
             [
              0.6666666666666666,
              "#ed7953"
             ],
             [
              0.7777777777777778,
              "#fb9f3a"
             ],
             [
              0.8888888888888888,
              "#fdca26"
             ],
             [
              1,
              "#f0f921"
             ]
            ],
            "type": "surface"
           }
          ],
          "table": [
           {
            "cells": {
             "fill": {
              "color": "#EBF0F8"
             },
             "line": {
              "color": "white"
             }
            },
            "header": {
             "fill": {
              "color": "#C8D4E3"
             },
             "line": {
              "color": "white"
             }
            },
            "type": "table"
           }
          ]
         },
         "layout": {
          "annotationdefaults": {
           "arrowcolor": "#2a3f5f",
           "arrowhead": 0,
           "arrowwidth": 1
          },
          "autotypenumbers": "strict",
          "coloraxis": {
           "colorbar": {
            "outlinewidth": 0,
            "ticks": ""
           }
          },
          "colorscale": {
           "diverging": [
            [
             0,
             "#8e0152"
            ],
            [
             0.1,
             "#c51b7d"
            ],
            [
             0.2,
             "#de77ae"
            ],
            [
             0.3,
             "#f1b6da"
            ],
            [
             0.4,
             "#fde0ef"
            ],
            [
             0.5,
             "#f7f7f7"
            ],
            [
             0.6,
             "#e6f5d0"
            ],
            [
             0.7,
             "#b8e186"
            ],
            [
             0.8,
             "#7fbc41"
            ],
            [
             0.9,
             "#4d9221"
            ],
            [
             1,
             "#276419"
            ]
           ],
           "sequential": [
            [
             0,
             "#0d0887"
            ],
            [
             0.1111111111111111,
             "#46039f"
            ],
            [
             0.2222222222222222,
             "#7201a8"
            ],
            [
             0.3333333333333333,
             "#9c179e"
            ],
            [
             0.4444444444444444,
             "#bd3786"
            ],
            [
             0.5555555555555556,
             "#d8576b"
            ],
            [
             0.6666666666666666,
             "#ed7953"
            ],
            [
             0.7777777777777778,
             "#fb9f3a"
            ],
            [
             0.8888888888888888,
             "#fdca26"
            ],
            [
             1,
             "#f0f921"
            ]
           ],
           "sequentialminus": [
            [
             0,
             "#0d0887"
            ],
            [
             0.1111111111111111,
             "#46039f"
            ],
            [
             0.2222222222222222,
             "#7201a8"
            ],
            [
             0.3333333333333333,
             "#9c179e"
            ],
            [
             0.4444444444444444,
             "#bd3786"
            ],
            [
             0.5555555555555556,
             "#d8576b"
            ],
            [
             0.6666666666666666,
             "#ed7953"
            ],
            [
             0.7777777777777778,
             "#fb9f3a"
            ],
            [
             0.8888888888888888,
             "#fdca26"
            ],
            [
             1,
             "#f0f921"
            ]
           ]
          },
          "colorway": [
           "#636efa",
           "#EF553B",
           "#00cc96",
           "#ab63fa",
           "#FFA15A",
           "#19d3f3",
           "#FF6692",
           "#B6E880",
           "#FF97FF",
           "#FECB52"
          ],
          "font": {
           "color": "#2a3f5f"
          },
          "geo": {
           "bgcolor": "white",
           "lakecolor": "white",
           "landcolor": "#E5ECF6",
           "showlakes": true,
           "showland": true,
           "subunitcolor": "white"
          },
          "hoverlabel": {
           "align": "left"
          },
          "hovermode": "closest",
          "mapbox": {
           "style": "light"
          },
          "paper_bgcolor": "white",
          "plot_bgcolor": "#E5ECF6",
          "polar": {
           "angularaxis": {
            "gridcolor": "white",
            "linecolor": "white",
            "ticks": ""
           },
           "bgcolor": "#E5ECF6",
           "radialaxis": {
            "gridcolor": "white",
            "linecolor": "white",
            "ticks": ""
           }
          },
          "scene": {
           "xaxis": {
            "backgroundcolor": "#E5ECF6",
            "gridcolor": "white",
            "gridwidth": 2,
            "linecolor": "white",
            "showbackground": true,
            "ticks": "",
            "zerolinecolor": "white"
           },
           "yaxis": {
            "backgroundcolor": "#E5ECF6",
            "gridcolor": "white",
            "gridwidth": 2,
            "linecolor": "white",
            "showbackground": true,
            "ticks": "",
            "zerolinecolor": "white"
           },
           "zaxis": {
            "backgroundcolor": "#E5ECF6",
            "gridcolor": "white",
            "gridwidth": 2,
            "linecolor": "white",
            "showbackground": true,
            "ticks": "",
            "zerolinecolor": "white"
           }
          },
          "shapedefaults": {
           "line": {
            "color": "#2a3f5f"
           }
          },
          "ternary": {
           "aaxis": {
            "gridcolor": "white",
            "linecolor": "white",
            "ticks": ""
           },
           "baxis": {
            "gridcolor": "white",
            "linecolor": "white",
            "ticks": ""
           },
           "bgcolor": "#E5ECF6",
           "caxis": {
            "gridcolor": "white",
            "linecolor": "white",
            "ticks": ""
           }
          },
          "title": {
           "x": 0.05
          },
          "xaxis": {
           "automargin": true,
           "gridcolor": "white",
           "linecolor": "white",
           "ticks": "",
           "title": {
            "standoff": 15
           },
           "zerolinecolor": "white",
           "zerolinewidth": 2
          },
          "yaxis": {
           "automargin": true,
           "gridcolor": "white",
           "linecolor": "white",
           "ticks": "",
           "title": {
            "standoff": 15
           },
           "zerolinecolor": "white",
           "zerolinewidth": 2
          }
         }
        },
        "title": {
         "font": {
          "color": "#4D5663"
         }
        },
        "xaxis": {
         "gridcolor": "#E1E5ED",
         "showgrid": true,
         "tickfont": {
          "color": "#4D5663"
         },
         "title": {
          "font": {
           "color": "#4D5663"
          },
          "text": ""
         },
         "zerolinecolor": "#E1E5ED"
        },
        "yaxis": {
         "gridcolor": "#E1E5ED",
         "showgrid": true,
         "tickfont": {
          "color": "#4D5663"
         },
         "title": {
          "font": {
           "color": "#4D5663"
          },
          "text": ""
         },
         "zerolinecolor": "#E1E5ED"
        }
       }
      },
      "text/html": [
       "<div>                            <div id=\"382c473a-4edd-4bca-abf7-761e1234e3b1\" class=\"plotly-graph-div\" style=\"height:525px; width:100%;\"></div>            <script type=\"text/javascript\">                require([\"plotly\"], function(Plotly) {                    window.PLOTLYENV=window.PLOTLYENV || {};\n",
       "                    window.PLOTLYENV.BASE_URL='https://plot.ly';                                    if (document.getElementById(\"382c473a-4edd-4bca-abf7-761e1234e3b1\")) {                    Plotly.newPlot(                        \"382c473a-4edd-4bca-abf7-761e1234e3b1\",                        [{\"marker\":{\"color\":[\"rgb(255, 153, 51)\",\"rgb(55, 128, 191)\",\"rgb(50, 171, 96)\",\"rgb(128, 0, 128)\",\"rgb(219, 64, 82)\",\"rgb(0, 128, 128)\",\"rgb(255, 255, 51)\",\"rgb(128, 128, 0)\",\"rgb(251, 128, 114)\",\"rgb(128, 177, 211)\"],\"line\":{\"width\":1.3},\"size\":[36,29,95,68,92,60,53,59,80,78,55,74,53,57,74,77,67,46,92,55,86,39,55,63,101,41,57,54,44,22,70,88,90,41,62,52,82,87,88,71,67,45,72,59,49,52,57,90,111,14,65,39,73,45,74,61,110,50,49,52,91,74,98,65,52,55,37,27,36,73,76,49,46,60,103,37,50,49,77,84,53,87,48,82,92,72,54,79,51,96,92,63,39,55,54,85,89,12,32,60,40,60,75,63,32,57,81,65,97,99,34,99,46,74,41,34,78,82,39,35,79,49,46,42,61,92,76,62,65,71,73,72,97,68,30,66,95,75,64,41,47,93,53,94,44,108,81,89,81,92,76,70,95,66,87,89,69,112,61,64,24,88,96,92,48,96,64,47,76,48,51,56,43,70,74,111,70,90,94,60,64,41,39,81,40,49,69,72,34,61,77,65,45,61,38,72,68,65,77,38],\"symbol\":\"circle\"},\"mode\":\"markers\",\"text\":\"\",\"x\":[-1.487606705268289,-1.3270966904104238,0.3604379283601886,-1.0755063445021371,0.3811337534773147,2.0641007329383485,-0.48203477848504866,-0.38832558174328935,1.7478672968117868,1.1158691106492418,0.2896935352623028,-0.3812217927690513,0.42123870859889845,1.8812870946781968,2.557404536964999,-0.7058476334484991,0.28569424203115323,0.24695939642219372,-0.6385715504663668,0.9026702831781179,2.298729565138558,0.11640944430966896,0.42767735280331637,0.33544870905998614,0.16811832161387877,-0.21121411331425205,0.5874308678366539,-1.1216357817595521,0.11255262014025855,1.1853522193052266,0.45797947718207993,0.06034425911595249,0.9711702720221174,-0.7824061933747677,0.6276524906327481,-1.0548261198142173,-1.0832514348502216,-0.36189322746518,0.643434169576394,0.4488595629144203,0.8061508090023473,-1.222979893598644,-0.6920946263116126,-1.2937441326912544,0.23876442953656232,-0.817684328749027,0.08369524837438268,0.13287413960379232,-0.2499943512909606,0.6636954943467446,-0.5280332499790815,-0.5398566815380538,-0.31918190307525746,2.254926925098105,-0.7632175571836918,-1.1048423421686462,1.1028289510008162,-1.2097544316232944,-1.1939998494256865,1.2253107286051743,0.031116092717685246,-0.7487543140223533,1.4274039877008702,-2.4152283125719656,0.8018374859983983,-0.652637162274179,-1.109773355409906,0.9421069223405514,0.9272547022786595,-2.0967011767857966,-0.9386686213866825,1.2712810659600504,0.6688989976815631,-1.538865098729885,0.7131115264494275,-0.6467904553989622,1.2822063664196233,-0.30066345972728864,0.5960304893962182,0.6082958314371802,-1.3267205129120214,0.8887344180865127,0.9487101456582948,1.208515049669603,-0.49564632045569046,-2.171379335945453,-0.5722068920663259,0.821728319864167,-0.4532924125120422,0.5176236846070436,1.074779233055591,-0.04980169881531574,-1.1325388535132843,-0.8340003699765887,0.4681608886840201,0.340074509311427,0.9532273672009145,-0.551300031728624,1.5019798360618883,2.0813328323766336,-1.8888588017436174,0.5527504926273384,-1.832394693910066,-0.1891939936596043,-0.1795525048751539,-0.41353587573206846,0.6119219622848441,0.3669411247956404,-1.656394643836909,0.6825827271960428,0.40978281154268725,-1.027348486216504,-0.8913232958653983,-2.176619637487184,1.6404497173622186,-1.1539800497331998,-2.6344933558902484,1.3269304883606206,-0.4686755309635699,0.15375555596251558,-0.003231518781125517,-2.5756810430242285,0.23191043239930428,-0.20325011510086552,-0.1262256677960052,-0.4306067892790383,2.223999933559132,-0.28481970484576097,0.041636347874112516,0.8363856899449069,-0.7190061049681735,-1.660586642755478,-0.8424461151634391,-1.3410654086417828,0.5173398539462267,-1.3712460727772473,-0.4467550562662734,0.9157433279770691,1.754416969372457,0.6747547564025815,0.6483259564379472,0.9589442722537845,-1.1404949913493048,-0.9607080724043362,-0.4758449423533752,-0.2995599393280748,-0.24888778174690462,0.15542907347123394,-1.2558919529016797,1.4884181758140078,-0.17569860858299177,1.225904563594473,1.1324490392969089,0.3835923409382287,1.9124939131151277,-0.47992141278970996,-0.17605511359007,0.2200553792256361,-0.45229522971198904,-1.8838923550993498,0.13315305673333974,-0.8266448326458588,1.2294707915972516,0.6778486167632689,-0.15856560330555253,1.0126681253705112,0.6806465776765602,-2.341158623582788,0.2755666236492162,-0.7172182469495813,0.7930105775209679,0.39568977405882394,1.528726412996672,0.24679536520261422,-0.46161608591743614,-0.41260788090652584,-0.9197333364273914,1.2672340572160545,-0.7680399463059111,0.20875650311460647,-0.8688520154587448,1.1871175195914496,0.4318475877039881,0.22291570222242593,1.912613011968483,-1.1895491534313078,-0.8601534520780754,-0.6884358071535207,1.6067100199942381,0.8869574010673043,2.2738448377759197,0.053238690773936066,-0.10165799243942343,-1.5322439587081917,1.4952390580885375,-0.3456678618511981,-0.09156509867611441,-1.7259238493479152,0.42627109535565494,0.13155584440661],\"y\":[1.4018747311698432,0.12305038788003114,-2.0621604828169295,0.6310971788406574,0.017478005933253684,0.6964587848925091,0.6692142639756167,1.030659741046712,0.9596758077035872,-0.9164290079884374,-0.6446851483938009,-0.6116667373572493,1.7260305025206517,-0.2759506642155176,-0.3188067675342285,0.9549478759656118,0.4002068068348017,0.3618786329647358,-2.232852501779732,0.2634002979548043,-0.23434598180308425,0.44521962838237017,-1.8927127354319755,-1.3297540297781392,-0.07764797635478797,1.702839909849972,-1.0460649622342382,-0.23597238404268153,-1.3174204369042208,0.5712385004026206,-0.9397730609282275,1.244707443354532,-0.5536989612126252,0.6402166179463994,0.22426803921109695,-0.21264092848600558,-0.10993557287781922,-0.9819230417166805,0.6079360463127345,-0.6057679799690354,-1.1119745914173358,-1.560293807992332,-1.1987638460095538,0.4858277742131986,2.350569384291055,0.6151746971191706,0.3847879036524305,-0.40025360862732406,-0.2827464088764763,0.7732213376383255,-0.42574944193944025,-0.0977566524060275,-1.0460108459597866,-0.41906615486287035,-0.828081174470112,-1.5777766072475146,-1.751258971395327,-0.4577098650787121,-0.48384052874521427,0.6370632780928125,0.6135858592175875,-1.0524005004526487,-0.18939000452678795,1.4832097967972961,-1.4478718403622282,-1.175823620507187,-1.348720049032188,-0.840154268876634,0.16179821554044488,0.4215991235352048,-0.09304837280981533,1.0229402146371382,-0.6777075034485878,2.363547662269973,0.17517567510440044,-1.0142764458464555,0.769643017358293,-0.559782604130007,-0.09826200135677465,-2.19532344141647,-0.9028689610271179,-0.5641688540688159,0.0069344933942429516,1.771818416056886,-0.7042878205436063,-1.141511977610186,1.104695798124243,0.05504535578585138,-0.903445628111115,-1.0751312204194619,0.5433315622422493,-0.4816293656408814,0.4315047393038972,-0.13705156305918187,0.3792927120427439,-0.11521231565490844,-1.2704729596598132,-1.3483168965194472,-1.671616523024985,-0.1521424450157583,0.5440995446011344,-0.3718765369382678,-1.3965083041927662,2.526942966641223,2.239723475005572,-1.4859105355107327,1.9818013383576558,0.802989460671471,1.0303651079399383,2.3335949332225114,-2.2910087524718072,-1.1537515922644148,-1.3750319900867725,-1.6326060100061293,0.6645823180882093,1.4740851265119306,-0.7666063770492628,-0.5548089730982696,1.408417243841149,-0.4820681914552715,1.4701297681558765,0.27907719634906686,0.7102972508579796,-1.5217772011708037,0.010862325434475873,-0.016880069539919544,0.7993093349399368,1.015635996790291,-0.4474593226688298,0.7621086015075268,0.8856847020812305,1.2102974267836348,-1.5386477932819997,0.03834324809398329,-0.22576792002145568,1.0537342040776074,-1.3138277848469238,0.07049054804272177,0.4018169670712659,-0.2801832887276961,-0.5690121191476055,0.35598993442828114,-0.004734667011751212,0.33230256805073644,1.962345783467431,-0.2940856894796608,-0.1283389011930353,0.6168331074300294,0.7662626610879297,-1.7383020615197815,-1.2929174451479046,-2.096026957868482,0.42565821552001964,-0.5002591085547238,-0.919531712491247,-1.2964648092634155,-0.6962169438232568,0.03230857859249144,-0.529635964552918,2.0666298734833393,-0.17675252627642735,-1.0095191628490185,-0.5861082273681731,0.6937314493180352,0.9261375158887465,-1.1213803593314928,0.7213848051405207,0.3847080628723777,0.8894236002885328,1.6153335879826933,-1.0259748146661083,0.028568303126833148,0.2334580037219608,-2.1501354617090467,-0.9422006481662677,0.1444750455076689,1.0861237079967807,1.7201363417958033,2.0569115563677145,-1.381679208771417,-1.0351911302661752,1.5223278152050266,-0.23231343649555608,0.5412096716486152,-0.9721564299191358,-0.22792905301475427,-1.2773274724256982,0.8636612498925738,-1.2166122317481987,0.3507319275056264,-1.3101065387849253,1.037759945045999,1.9370197828161602,-2.516970783487686,0.10533441465097182,-1.9508940804635506,0.41530356237292915,0.17440382713054814,-2.0687853329702146,0.22323291262987086],\"type\":\"scatter\"}],                        {\"legend\":{\"bgcolor\":\"#F5F6F9\",\"font\":{\"color\":\"#4D5663\"}},\"paper_bgcolor\":\"#F5F6F9\",\"plot_bgcolor\":\"#F5F6F9\",\"template\":{\"data\":{\"barpolar\":[{\"marker\":{\"line\":{\"color\":\"#E5ECF6\",\"width\":0.5},\"pattern\":{\"fillmode\":\"overlay\",\"size\":10,\"solidity\":0.2}},\"type\":\"barpolar\"}],\"bar\":[{\"error_x\":{\"color\":\"#2a3f5f\"},\"error_y\":{\"color\":\"#2a3f5f\"},\"marker\":{\"line\":{\"color\":\"#E5ECF6\",\"width\":0.5},\"pattern\":{\"fillmode\":\"overlay\",\"size\":10,\"solidity\":0.2}},\"type\":\"bar\"}],\"carpet\":[{\"aaxis\":{\"endlinecolor\":\"#2a3f5f\",\"gridcolor\":\"white\",\"linecolor\":\"white\",\"minorgridcolor\":\"white\",\"startlinecolor\":\"#2a3f5f\"},\"baxis\":{\"endlinecolor\":\"#2a3f5f\",\"gridcolor\":\"white\",\"linecolor\":\"white\",\"minorgridcolor\":\"white\",\"startlinecolor\":\"#2a3f5f\"},\"type\":\"carpet\"}],\"choropleth\":[{\"colorbar\":{\"outlinewidth\":0,\"ticks\":\"\"},\"type\":\"choropleth\"}],\"contourcarpet\":[{\"colorbar\":{\"outlinewidth\":0,\"ticks\":\"\"},\"type\":\"contourcarpet\"}],\"contour\":[{\"colorbar\":{\"outlinewidth\":0,\"ticks\":\"\"},\"colorscale\":[[0.0,\"#0d0887\"],[0.1111111111111111,\"#46039f\"],[0.2222222222222222,\"#7201a8\"],[0.3333333333333333,\"#9c179e\"],[0.4444444444444444,\"#bd3786\"],[0.5555555555555556,\"#d8576b\"],[0.6666666666666666,\"#ed7953\"],[0.7777777777777778,\"#fb9f3a\"],[0.8888888888888888,\"#fdca26\"],[1.0,\"#f0f921\"]],\"type\":\"contour\"}],\"heatmapgl\":[{\"colorbar\":{\"outlinewidth\":0,\"ticks\":\"\"},\"colorscale\":[[0.0,\"#0d0887\"],[0.1111111111111111,\"#46039f\"],[0.2222222222222222,\"#7201a8\"],[0.3333333333333333,\"#9c179e\"],[0.4444444444444444,\"#bd3786\"],[0.5555555555555556,\"#d8576b\"],[0.6666666666666666,\"#ed7953\"],[0.7777777777777778,\"#fb9f3a\"],[0.8888888888888888,\"#fdca26\"],[1.0,\"#f0f921\"]],\"type\":\"heatmapgl\"}],\"heatmap\":[{\"colorbar\":{\"outlinewidth\":0,\"ticks\":\"\"},\"colorscale\":[[0.0,\"#0d0887\"],[0.1111111111111111,\"#46039f\"],[0.2222222222222222,\"#7201a8\"],[0.3333333333333333,\"#9c179e\"],[0.4444444444444444,\"#bd3786\"],[0.5555555555555556,\"#d8576b\"],[0.6666666666666666,\"#ed7953\"],[0.7777777777777778,\"#fb9f3a\"],[0.8888888888888888,\"#fdca26\"],[1.0,\"#f0f921\"]],\"type\":\"heatmap\"}],\"histogram2dcontour\":[{\"colorbar\":{\"outlinewidth\":0,\"ticks\":\"\"},\"colorscale\":[[0.0,\"#0d0887\"],[0.1111111111111111,\"#46039f\"],[0.2222222222222222,\"#7201a8\"],[0.3333333333333333,\"#9c179e\"],[0.4444444444444444,\"#bd3786\"],[0.5555555555555556,\"#d8576b\"],[0.6666666666666666,\"#ed7953\"],[0.7777777777777778,\"#fb9f3a\"],[0.8888888888888888,\"#fdca26\"],[1.0,\"#f0f921\"]],\"type\":\"histogram2dcontour\"}],\"histogram2d\":[{\"colorbar\":{\"outlinewidth\":0,\"ticks\":\"\"},\"colorscale\":[[0.0,\"#0d0887\"],[0.1111111111111111,\"#46039f\"],[0.2222222222222222,\"#7201a8\"],[0.3333333333333333,\"#9c179e\"],[0.4444444444444444,\"#bd3786\"],[0.5555555555555556,\"#d8576b\"],[0.6666666666666666,\"#ed7953\"],[0.7777777777777778,\"#fb9f3a\"],[0.8888888888888888,\"#fdca26\"],[1.0,\"#f0f921\"]],\"type\":\"histogram2d\"}],\"histogram\":[{\"marker\":{\"pattern\":{\"fillmode\":\"overlay\",\"size\":10,\"solidity\":0.2}},\"type\":\"histogram\"}],\"mesh3d\":[{\"colorbar\":{\"outlinewidth\":0,\"ticks\":\"\"},\"type\":\"mesh3d\"}],\"parcoords\":[{\"line\":{\"colorbar\":{\"outlinewidth\":0,\"ticks\":\"\"}},\"type\":\"parcoords\"}],\"pie\":[{\"automargin\":true,\"type\":\"pie\"}],\"scatter3d\":[{\"line\":{\"colorbar\":{\"outlinewidth\":0,\"ticks\":\"\"}},\"marker\":{\"colorbar\":{\"outlinewidth\":0,\"ticks\":\"\"}},\"type\":\"scatter3d\"}],\"scattercarpet\":[{\"marker\":{\"colorbar\":{\"outlinewidth\":0,\"ticks\":\"\"}},\"type\":\"scattercarpet\"}],\"scattergeo\":[{\"marker\":{\"colorbar\":{\"outlinewidth\":0,\"ticks\":\"\"}},\"type\":\"scattergeo\"}],\"scattergl\":[{\"marker\":{\"colorbar\":{\"outlinewidth\":0,\"ticks\":\"\"}},\"type\":\"scattergl\"}],\"scattermapbox\":[{\"marker\":{\"colorbar\":{\"outlinewidth\":0,\"ticks\":\"\"}},\"type\":\"scattermapbox\"}],\"scatterpolargl\":[{\"marker\":{\"colorbar\":{\"outlinewidth\":0,\"ticks\":\"\"}},\"type\":\"scatterpolargl\"}],\"scatterpolar\":[{\"marker\":{\"colorbar\":{\"outlinewidth\":0,\"ticks\":\"\"}},\"type\":\"scatterpolar\"}],\"scatter\":[{\"fillpattern\":{\"fillmode\":\"overlay\",\"size\":10,\"solidity\":0.2},\"type\":\"scatter\"}],\"scatterternary\":[{\"marker\":{\"colorbar\":{\"outlinewidth\":0,\"ticks\":\"\"}},\"type\":\"scatterternary\"}],\"surface\":[{\"colorbar\":{\"outlinewidth\":0,\"ticks\":\"\"},\"colorscale\":[[0.0,\"#0d0887\"],[0.1111111111111111,\"#46039f\"],[0.2222222222222222,\"#7201a8\"],[0.3333333333333333,\"#9c179e\"],[0.4444444444444444,\"#bd3786\"],[0.5555555555555556,\"#d8576b\"],[0.6666666666666666,\"#ed7953\"],[0.7777777777777778,\"#fb9f3a\"],[0.8888888888888888,\"#fdca26\"],[1.0,\"#f0f921\"]],\"type\":\"surface\"}],\"table\":[{\"cells\":{\"fill\":{\"color\":\"#EBF0F8\"},\"line\":{\"color\":\"white\"}},\"header\":{\"fill\":{\"color\":\"#C8D4E3\"},\"line\":{\"color\":\"white\"}},\"type\":\"table\"}]},\"layout\":{\"annotationdefaults\":{\"arrowcolor\":\"#2a3f5f\",\"arrowhead\":0,\"arrowwidth\":1},\"autotypenumbers\":\"strict\",\"coloraxis\":{\"colorbar\":{\"outlinewidth\":0,\"ticks\":\"\"}},\"colorscale\":{\"diverging\":[[0,\"#8e0152\"],[0.1,\"#c51b7d\"],[0.2,\"#de77ae\"],[0.3,\"#f1b6da\"],[0.4,\"#fde0ef\"],[0.5,\"#f7f7f7\"],[0.6,\"#e6f5d0\"],[0.7,\"#b8e186\"],[0.8,\"#7fbc41\"],[0.9,\"#4d9221\"],[1,\"#276419\"]],\"sequential\":[[0.0,\"#0d0887\"],[0.1111111111111111,\"#46039f\"],[0.2222222222222222,\"#7201a8\"],[0.3333333333333333,\"#9c179e\"],[0.4444444444444444,\"#bd3786\"],[0.5555555555555556,\"#d8576b\"],[0.6666666666666666,\"#ed7953\"],[0.7777777777777778,\"#fb9f3a\"],[0.8888888888888888,\"#fdca26\"],[1.0,\"#f0f921\"]],\"sequentialminus\":[[0.0,\"#0d0887\"],[0.1111111111111111,\"#46039f\"],[0.2222222222222222,\"#7201a8\"],[0.3333333333333333,\"#9c179e\"],[0.4444444444444444,\"#bd3786\"],[0.5555555555555556,\"#d8576b\"],[0.6666666666666666,\"#ed7953\"],[0.7777777777777778,\"#fb9f3a\"],[0.8888888888888888,\"#fdca26\"],[1.0,\"#f0f921\"]]},\"colorway\":[\"#636efa\",\"#EF553B\",\"#00cc96\",\"#ab63fa\",\"#FFA15A\",\"#19d3f3\",\"#FF6692\",\"#B6E880\",\"#FF97FF\",\"#FECB52\"],\"font\":{\"color\":\"#2a3f5f\"},\"geo\":{\"bgcolor\":\"white\",\"lakecolor\":\"white\",\"landcolor\":\"#E5ECF6\",\"showlakes\":true,\"showland\":true,\"subunitcolor\":\"white\"},\"hoverlabel\":{\"align\":\"left\"},\"hovermode\":\"closest\",\"mapbox\":{\"style\":\"light\"},\"paper_bgcolor\":\"white\",\"plot_bgcolor\":\"#E5ECF6\",\"polar\":{\"angularaxis\":{\"gridcolor\":\"white\",\"linecolor\":\"white\",\"ticks\":\"\"},\"bgcolor\":\"#E5ECF6\",\"radialaxis\":{\"gridcolor\":\"white\",\"linecolor\":\"white\",\"ticks\":\"\"}},\"scene\":{\"xaxis\":{\"backgroundcolor\":\"#E5ECF6\",\"gridcolor\":\"white\",\"gridwidth\":2,\"linecolor\":\"white\",\"showbackground\":true,\"ticks\":\"\",\"zerolinecolor\":\"white\"},\"yaxis\":{\"backgroundcolor\":\"#E5ECF6\",\"gridcolor\":\"white\",\"gridwidth\":2,\"linecolor\":\"white\",\"showbackground\":true,\"ticks\":\"\",\"zerolinecolor\":\"white\"},\"zaxis\":{\"backgroundcolor\":\"#E5ECF6\",\"gridcolor\":\"white\",\"gridwidth\":2,\"linecolor\":\"white\",\"showbackground\":true,\"ticks\":\"\",\"zerolinecolor\":\"white\"}},\"shapedefaults\":{\"line\":{\"color\":\"#2a3f5f\"}},\"ternary\":{\"aaxis\":{\"gridcolor\":\"white\",\"linecolor\":\"white\",\"ticks\":\"\"},\"baxis\":{\"gridcolor\":\"white\",\"linecolor\":\"white\",\"ticks\":\"\"},\"bgcolor\":\"#E5ECF6\",\"caxis\":{\"gridcolor\":\"white\",\"linecolor\":\"white\",\"ticks\":\"\"}},\"title\":{\"x\":0.05},\"xaxis\":{\"automargin\":true,\"gridcolor\":\"white\",\"linecolor\":\"white\",\"ticks\":\"\",\"title\":{\"standoff\":15},\"zerolinecolor\":\"white\",\"zerolinewidth\":2},\"yaxis\":{\"automargin\":true,\"gridcolor\":\"white\",\"linecolor\":\"white\",\"ticks\":\"\",\"title\":{\"standoff\":15},\"zerolinecolor\":\"white\",\"zerolinewidth\":2}}},\"title\":{\"font\":{\"color\":\"#4D5663\"}},\"xaxis\":{\"gridcolor\":\"#E1E5ED\",\"showgrid\":true,\"tickfont\":{\"color\":\"#4D5663\"},\"title\":{\"font\":{\"color\":\"#4D5663\"},\"text\":\"\"},\"zerolinecolor\":\"#E1E5ED\"},\"yaxis\":{\"gridcolor\":\"#E1E5ED\",\"showgrid\":true,\"tickfont\":{\"color\":\"#4D5663\"},\"title\":{\"font\":{\"color\":\"#4D5663\"},\"text\":\"\"},\"zerolinecolor\":\"#E1E5ED\"}},                        {\"showLink\": true, \"linkText\": \"Export to plot.ly\", \"plotlyServerURL\": \"https://plot.ly\", \"responsive\": true}                    ).then(function(){\n",
       "                            \n",
       "var gd = document.getElementById('382c473a-4edd-4bca-abf7-761e1234e3b1');\n",
       "var x = new MutationObserver(function (mutations, observer) {{\n",
       "        var display = window.getComputedStyle(gd).display;\n",
       "        if (!display || display === 'none') {{\n",
       "            console.log([gd, 'removed!']);\n",
       "            Plotly.purge(gd);\n",
       "            observer.disconnect();\n",
       "        }}\n",
       "}});\n",
       "\n",
       "// Listen for the removal of the full notebook cells\n",
       "var notebookContainer = gd.closest('#notebook-container');\n",
       "if (notebookContainer) {{\n",
       "    x.observe(notebookContainer, {childList: true});\n",
       "}}\n",
       "\n",
       "// Listen for the clearing of the current output cell\n",
       "var outputEl = gd.closest('.output');\n",
       "if (outputEl) {{\n",
       "    x.observe(outputEl, {childList: true});\n",
       "}}\n",
       "\n",
       "                        })                };                });            </script>        </div>"
      ]
     },
     "metadata": {},
     "output_type": "display_data"
    }
   ],
   "source": [
    "# Bubble plots\n",
    "# which is similar to scatter plot\n",
    "df.iplot(kind='bubble', x='A', y='B', size='C')"
   ]
  },
  {
   "cell_type": "code",
   "execution_count": 24,
   "metadata": {},
   "outputs": [],
   "source": [
    "# Scatter matrix plot\n",
    "# Which is similar to pairplots\n",
    "df.scatter_matrix()"
   ]
  }
 ],
 "metadata": {
  "kernelspec": {
   "display_name": "Python 3",
   "language": "python",
   "name": "python3"
  },
  "language_info": {
   "codemirror_mode": {
    "name": "ipython",
    "version": 3
   },
   "file_extension": ".py",
   "mimetype": "text/x-python",
   "name": "python",
   "nbconvert_exporter": "python",
   "pygments_lexer": "ipython3",
   "version": "3.8.8"
  },
  "orig_nbformat": 4
 },
 "nbformat": 4,
 "nbformat_minor": 2
}
