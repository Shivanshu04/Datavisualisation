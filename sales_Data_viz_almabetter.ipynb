{
 "cells": [
  {
   "cell_type": "code",
   "execution_count": 22,
   "id": "93dbe5e4",
   "metadata": {},
   "outputs": [],
   "source": [
    "#importing all the important libraries\n",
    "import numpy as np\n",
    "import pandas as pd\n",
    "import matplotlib.pyplot as plt\n",
    "import seaborn as sns\n",
    "%matplotlib inline"
   ]
  },
  {
   "cell_type": "code",
   "execution_count": 10,
   "id": "9ee547f5",
   "metadata": {},
   "outputs": [],
   "source": [
    "df=pd.read_csv(\"pp-2018_alma.csv\",\n",
    "              names =[\"TID\",\"Price\",\"sale Date\",\"Postcode\",\n",
    "                     \"Property Type\",\"New Build\",\"Tenure\",\"PAON\",\"SAON\"\n",
    "                     ,\"Street\",\"Locality\",\"Town/city\",\"District\",\"Country\",\"PPD Category\",\"Records Status\"],parse_dates=[\"sale Date\"])"
   ]
  },
  {
   "cell_type": "code",
   "execution_count": null,
   "id": "cb317fa9",
   "metadata": {},
   "outputs": [],
   "source": []
  },
  {
   "cell_type": "code",
   "execution_count": 9,
   "id": "40867960",
   "metadata": {},
   "outputs": [
    {
     "data": {
      "text/html": [
       "<div>\n",
       "<style scoped>\n",
       "    .dataframe tbody tr th:only-of-type {\n",
       "        vertical-align: middle;\n",
       "    }\n",
       "\n",
       "    .dataframe tbody tr th {\n",
       "        vertical-align: top;\n",
       "    }\n",
       "\n",
       "    .dataframe thead th {\n",
       "        text-align: right;\n",
       "    }\n",
       "</style>\n",
       "<table border=\"1\" class=\"dataframe\">\n",
       "  <thead>\n",
       "    <tr style=\"text-align: right;\">\n",
       "      <th></th>\n",
       "      <th>TID</th>\n",
       "      <th>Price</th>\n",
       "      <th>sale Date</th>\n",
       "      <th>Postcode</th>\n",
       "      <th>Property Type</th>\n",
       "      <th>New Build</th>\n",
       "      <th>Tenure</th>\n",
       "      <th>PAON</th>\n",
       "      <th>SAON</th>\n",
       "      <th>Street</th>\n",
       "      <th>Locality</th>\n",
       "      <th>Town/city</th>\n",
       "      <th>District</th>\n",
       "      <th>Country</th>\n",
       "      <th>PPD Category</th>\n",
       "      <th>Records Status</th>\n",
       "    </tr>\n",
       "  </thead>\n",
       "  <tbody>\n",
       "    <tr>\n",
       "      <th>0</th>\n",
       "      <td>{666758D7-43A9-3363-E053-6B04A8C0D74E}</td>\n",
       "      <td>405000</td>\n",
       "      <td>2018-01-25</td>\n",
       "      <td>WR15 8LH</td>\n",
       "      <td>D</td>\n",
       "      <td>N</td>\n",
       "      <td>F</td>\n",
       "      <td>RAMBLERS WAY</td>\n",
       "      <td>NaN</td>\n",
       "      <td>NaN</td>\n",
       "      <td>BORASTON</td>\n",
       "      <td>TENBURY WELLS</td>\n",
       "      <td>SHROPSHIRE</td>\n",
       "      <td>SHROPSHIRE</td>\n",
       "      <td>A</td>\n",
       "      <td>A</td>\n",
       "    </tr>\n",
       "    <tr>\n",
       "      <th>1</th>\n",
       "      <td>{666758D7-43AA-3363-E053-6B04A8C0D74E}</td>\n",
       "      <td>315000</td>\n",
       "      <td>2018-01-23</td>\n",
       "      <td>SY7 8QA</td>\n",
       "      <td>D</td>\n",
       "      <td>N</td>\n",
       "      <td>F</td>\n",
       "      <td>MONT CENISE</td>\n",
       "      <td>NaN</td>\n",
       "      <td>NaN</td>\n",
       "      <td>CLUN</td>\n",
       "      <td>CRAVEN ARMS</td>\n",
       "      <td>SHROPSHIRE</td>\n",
       "      <td>SHROPSHIRE</td>\n",
       "      <td>A</td>\n",
       "      <td>A</td>\n",
       "    </tr>\n",
       "  </tbody>\n",
       "</table>\n",
       "</div>"
      ],
      "text/plain": [
       "                                      TID   Price  sale Date  Postcode  \\\n",
       "0  {666758D7-43A9-3363-E053-6B04A8C0D74E}  405000 2018-01-25  WR15 8LH   \n",
       "1  {666758D7-43AA-3363-E053-6B04A8C0D74E}  315000 2018-01-23   SY7 8QA   \n",
       "\n",
       "  Property Type New Build Tenure          PAON SAON Street  Locality  \\\n",
       "0             D         N      F  RAMBLERS WAY  NaN    NaN  BORASTON   \n",
       "1             D         N      F   MONT CENISE  NaN    NaN      CLUN   \n",
       "\n",
       "       Town/city    District     Country PPD Category Records Status  \n",
       "0  TENBURY WELLS  SHROPSHIRE  SHROPSHIRE            A              A  \n",
       "1    CRAVEN ARMS  SHROPSHIRE  SHROPSHIRE            A              A  "
      ]
     },
     "execution_count": 9,
     "metadata": {},
     "output_type": "execute_result"
    }
   ],
   "source": [
    "df.head(2)"
   ]
  },
  {
   "cell_type": "code",
   "execution_count": 12,
   "id": "80d88eb8",
   "metadata": {},
   "outputs": [
    {
     "data": {
      "text/plain": [
       "Index(['TID', 'Price', 'sale Date', 'Postcode', 'Property Type', 'New Build',\n",
       "       'Tenure', 'PAON', 'SAON', 'Street', 'Locality', 'Town/city', 'District',\n",
       "       'Country', 'PPD Category', 'Records Status'],\n",
       "      dtype='object')"
      ]
     },
     "execution_count": 12,
     "metadata": {},
     "output_type": "execute_result"
    }
   ],
   "source": [
    "df.columns"
   ]
  },
  {
   "cell_type": "code",
   "execution_count": 11,
   "id": "7875c6af",
   "metadata": {},
   "outputs": [
    {
     "data": {
      "text/plain": [
       "(1024432, 16)"
      ]
     },
     "execution_count": 11,
     "metadata": {},
     "output_type": "execute_result"
    }
   ],
   "source": [
    "df.shape"
   ]
  },
  {
   "cell_type": "code",
   "execution_count": 15,
   "id": "d4b5311b",
   "metadata": {},
   "outputs": [],
   "source": [
    "# now qw will filter the data to get all the transcations for a particular  year and  month \n",
    "#select only record type A and propert type not \"O\"\n",
    "df=df.loc[df['Records Status']==\"A\"]\n",
    "df=df.loc[df['Property Type']!=\"O\"]"
   ]
  },
  {
   "cell_type": "code",
   "execution_count": 17,
   "id": "4a422308",
   "metadata": {},
   "outputs": [],
   "source": [
    "#select transcation for 2018\n",
    "df=df[(df['sale Date'].dt.year==2018)]"
   ]
  },
  {
   "cell_type": "code",
   "execution_count": 18,
   "id": "6983bb3e",
   "metadata": {},
   "outputs": [
    {
     "data": {
      "text/plain": [
       "(959003, 16)"
      ]
     },
     "execution_count": 18,
     "metadata": {},
     "output_type": "execute_result"
    }
   ],
   "source": [
    "df.shape"
   ]
  },
  {
   "cell_type": "code",
   "execution_count": 19,
   "id": "951ec793",
   "metadata": {},
   "outputs": [
    {
     "data": {
      "application/json": {
       "cell": {
        "!": "OSMagics",
        "HTML": "Other",
        "SVG": "Other",
        "bash": "Other",
        "capture": "ExecutionMagics",
        "cmd": "Other",
        "debug": "ExecutionMagics",
        "file": "Other",
        "html": "DisplayMagics",
        "javascript": "DisplayMagics",
        "js": "DisplayMagics",
        "latex": "DisplayMagics",
        "markdown": "DisplayMagics",
        "perl": "Other",
        "prun": "ExecutionMagics",
        "pypy": "Other",
        "python": "Other",
        "python2": "Other",
        "python3": "Other",
        "ruby": "Other",
        "script": "ScriptMagics",
        "sh": "Other",
        "svg": "DisplayMagics",
        "sx": "OSMagics",
        "system": "OSMagics",
        "time": "ExecutionMagics",
        "timeit": "ExecutionMagics",
        "writefile": "OSMagics"
       },
       "line": {
        "alias": "OSMagics",
        "alias_magic": "BasicMagics",
        "autoawait": "AsyncMagics",
        "autocall": "AutoMagics",
        "automagic": "AutoMagics",
        "autosave": "KernelMagics",
        "bookmark": "OSMagics",
        "cd": "OSMagics",
        "clear": "KernelMagics",
        "cls": "KernelMagics",
        "colors": "BasicMagics",
        "conda": "PackagingMagics",
        "config": "ConfigMagics",
        "connect_info": "KernelMagics",
        "copy": "Other",
        "ddir": "Other",
        "debug": "ExecutionMagics",
        "dhist": "OSMagics",
        "dirs": "OSMagics",
        "doctest_mode": "BasicMagics",
        "echo": "Other",
        "ed": "Other",
        "edit": "KernelMagics",
        "env": "OSMagics",
        "gui": "BasicMagics",
        "hist": "Other",
        "history": "HistoryMagics",
        "killbgscripts": "ScriptMagics",
        "ldir": "Other",
        "less": "KernelMagics",
        "load": "CodeMagics",
        "load_ext": "ExtensionMagics",
        "loadpy": "CodeMagics",
        "logoff": "LoggingMagics",
        "logon": "LoggingMagics",
        "logstart": "LoggingMagics",
        "logstate": "LoggingMagics",
        "logstop": "LoggingMagics",
        "ls": "Other",
        "lsmagic": "BasicMagics",
        "macro": "ExecutionMagics",
        "magic": "BasicMagics",
        "matplotlib": "PylabMagics",
        "mkdir": "Other",
        "more": "KernelMagics",
        "notebook": "BasicMagics",
        "page": "BasicMagics",
        "pastebin": "CodeMagics",
        "pdb": "ExecutionMagics",
        "pdef": "NamespaceMagics",
        "pdoc": "NamespaceMagics",
        "pfile": "NamespaceMagics",
        "pinfo": "NamespaceMagics",
        "pinfo2": "NamespaceMagics",
        "pip": "PackagingMagics",
        "popd": "OSMagics",
        "pprint": "BasicMagics",
        "precision": "BasicMagics",
        "prun": "ExecutionMagics",
        "psearch": "NamespaceMagics",
        "psource": "NamespaceMagics",
        "pushd": "OSMagics",
        "pwd": "OSMagics",
        "pycat": "OSMagics",
        "pylab": "PylabMagics",
        "qtconsole": "KernelMagics",
        "quickref": "BasicMagics",
        "recall": "HistoryMagics",
        "rehashx": "OSMagics",
        "reload_ext": "ExtensionMagics",
        "ren": "Other",
        "rep": "Other",
        "rerun": "HistoryMagics",
        "reset": "NamespaceMagics",
        "reset_selective": "NamespaceMagics",
        "rmdir": "Other",
        "run": "ExecutionMagics",
        "save": "CodeMagics",
        "sc": "OSMagics",
        "set_env": "OSMagics",
        "store": "StoreMagics",
        "sx": "OSMagics",
        "system": "OSMagics",
        "tb": "ExecutionMagics",
        "time": "ExecutionMagics",
        "timeit": "ExecutionMagics",
        "unalias": "OSMagics",
        "unload_ext": "ExtensionMagics",
        "who": "NamespaceMagics",
        "who_ls": "NamespaceMagics",
        "whos": "NamespaceMagics",
        "xdel": "NamespaceMagics",
        "xmode": "BasicMagics"
       }
      },
      "text/plain": [
       "Available line magics:\n",
       "%alias  %alias_magic  %autoawait  %autocall  %automagic  %autosave  %bookmark  %cd  %clear  %cls  %colors  %conda  %config  %connect_info  %copy  %ddir  %debug  %dhist  %dirs  %doctest_mode  %echo  %ed  %edit  %env  %gui  %hist  %history  %killbgscripts  %ldir  %less  %load  %load_ext  %loadpy  %logoff  %logon  %logstart  %logstate  %logstop  %ls  %lsmagic  %macro  %magic  %matplotlib  %mkdir  %more  %notebook  %page  %pastebin  %pdb  %pdef  %pdoc  %pfile  %pinfo  %pinfo2  %pip  %popd  %pprint  %precision  %prun  %psearch  %psource  %pushd  %pwd  %pycat  %pylab  %qtconsole  %quickref  %recall  %rehashx  %reload_ext  %ren  %rep  %rerun  %reset  %reset_selective  %rmdir  %run  %save  %sc  %set_env  %store  %sx  %system  %tb  %time  %timeit  %unalias  %unload_ext  %who  %who_ls  %whos  %xdel  %xmode\n",
       "\n",
       "Available cell magics:\n",
       "%%!  %%HTML  %%SVG  %%bash  %%capture  %%cmd  %%debug  %%file  %%html  %%javascript  %%js  %%latex  %%markdown  %%perl  %%prun  %%pypy  %%python  %%python2  %%python3  %%ruby  %%script  %%sh  %%svg  %%sx  %%system  %%time  %%timeit  %%writefile\n",
       "\n",
       "Automagic is ON, % prefix IS NOT needed for line magics."
      ]
     },
     "execution_count": 19,
     "metadata": {},
     "output_type": "execute_result"
    }
   ],
   "source": [
    "%lsmagic"
   ]
  },
  {
   "cell_type": "code",
   "execution_count": 23,
   "id": "f88eab50",
   "metadata": {},
   "outputs": [],
   "source": [
    "#first objective :obtain the trend  of sales vloume across months\n",
    "from datetime import datetime"
   ]
  },
  {
   "cell_type": "code",
   "execution_count": 24,
   "id": "caf29cd1",
   "metadata": {},
   "outputs": [
    {
     "data": {
      "text/plain": [
       "'2018-01'"
      ]
     },
     "execution_count": 24,
     "metadata": {},
     "output_type": "execute_result"
    }
   ],
   "source": [
    "\"2018-01-25\"[:7]"
   ]
  },
  {
   "cell_type": "code",
   "execution_count": 25,
   "id": "80a7ff08",
   "metadata": {},
   "outputs": [],
   "source": [
    "# create a variable month to denote the transcation month\n",
    "df['month']=df['sale Date'].apply(lambda x: x.strftime(\"%Y_%m_%d\")[:7])"
   ]
  },
  {
   "cell_type": "code",
   "execution_count": 27,
   "id": "74ed2f18",
   "metadata": {},
   "outputs": [
    {
     "data": {
      "text/html": [
       "<div>\n",
       "<style scoped>\n",
       "    .dataframe tbody tr th:only-of-type {\n",
       "        vertical-align: middle;\n",
       "    }\n",
       "\n",
       "    .dataframe tbody tr th {\n",
       "        vertical-align: top;\n",
       "    }\n",
       "\n",
       "    .dataframe thead th {\n",
       "        text-align: right;\n",
       "    }\n",
       "</style>\n",
       "<table border=\"1\" class=\"dataframe\">\n",
       "  <thead>\n",
       "    <tr style=\"text-align: right;\">\n",
       "      <th></th>\n",
       "      <th>TID</th>\n",
       "      <th>Price</th>\n",
       "      <th>sale Date</th>\n",
       "      <th>Postcode</th>\n",
       "      <th>Property Type</th>\n",
       "      <th>New Build</th>\n",
       "      <th>Tenure</th>\n",
       "      <th>PAON</th>\n",
       "      <th>SAON</th>\n",
       "      <th>Street</th>\n",
       "      <th>Locality</th>\n",
       "      <th>Town/city</th>\n",
       "      <th>District</th>\n",
       "      <th>Country</th>\n",
       "      <th>PPD Category</th>\n",
       "      <th>Records Status</th>\n",
       "      <th>month</th>\n",
       "    </tr>\n",
       "  </thead>\n",
       "  <tbody>\n",
       "    <tr>\n",
       "      <th>0</th>\n",
       "      <td>{666758D7-43A9-3363-E053-6B04A8C0D74E}</td>\n",
       "      <td>405000</td>\n",
       "      <td>2018-01-25</td>\n",
       "      <td>WR15 8LH</td>\n",
       "      <td>D</td>\n",
       "      <td>N</td>\n",
       "      <td>F</td>\n",
       "      <td>RAMBLERS WAY</td>\n",
       "      <td>NaN</td>\n",
       "      <td>NaN</td>\n",
       "      <td>BORASTON</td>\n",
       "      <td>TENBURY WELLS</td>\n",
       "      <td>SHROPSHIRE</td>\n",
       "      <td>SHROPSHIRE</td>\n",
       "      <td>A</td>\n",
       "      <td>A</td>\n",
       "      <td>2018_01</td>\n",
       "    </tr>\n",
       "    <tr>\n",
       "      <th>1</th>\n",
       "      <td>{666758D7-43AA-3363-E053-6B04A8C0D74E}</td>\n",
       "      <td>315000</td>\n",
       "      <td>2018-01-23</td>\n",
       "      <td>SY7 8QA</td>\n",
       "      <td>D</td>\n",
       "      <td>N</td>\n",
       "      <td>F</td>\n",
       "      <td>MONT CENISE</td>\n",
       "      <td>NaN</td>\n",
       "      <td>NaN</td>\n",
       "      <td>CLUN</td>\n",
       "      <td>CRAVEN ARMS</td>\n",
       "      <td>SHROPSHIRE</td>\n",
       "      <td>SHROPSHIRE</td>\n",
       "      <td>A</td>\n",
       "      <td>A</td>\n",
       "      <td>2018_01</td>\n",
       "    </tr>\n",
       "    <tr>\n",
       "      <th>2</th>\n",
       "      <td>{666758D7-43AD-3363-E053-6B04A8C0D74E}</td>\n",
       "      <td>165000</td>\n",
       "      <td>2018-01-19</td>\n",
       "      <td>SY1 2BF</td>\n",
       "      <td>T</td>\n",
       "      <td>Y</td>\n",
       "      <td>F</td>\n",
       "      <td>42</td>\n",
       "      <td>NaN</td>\n",
       "      <td>PENSON WAY</td>\n",
       "      <td>NaN</td>\n",
       "      <td>SHREWSBURY</td>\n",
       "      <td>SHROPSHIRE</td>\n",
       "      <td>SHROPSHIRE</td>\n",
       "      <td>A</td>\n",
       "      <td>A</td>\n",
       "      <td>2018_01</td>\n",
       "    </tr>\n",
       "  </tbody>\n",
       "</table>\n",
       "</div>"
      ],
      "text/plain": [
       "                                      TID   Price  sale Date  Postcode  \\\n",
       "0  {666758D7-43A9-3363-E053-6B04A8C0D74E}  405000 2018-01-25  WR15 8LH   \n",
       "1  {666758D7-43AA-3363-E053-6B04A8C0D74E}  315000 2018-01-23   SY7 8QA   \n",
       "2  {666758D7-43AD-3363-E053-6B04A8C0D74E}  165000 2018-01-19   SY1 2BF   \n",
       "\n",
       "  Property Type New Build Tenure          PAON SAON      Street  Locality  \\\n",
       "0             D         N      F  RAMBLERS WAY  NaN         NaN  BORASTON   \n",
       "1             D         N      F   MONT CENISE  NaN         NaN      CLUN   \n",
       "2             T         Y      F            42  NaN  PENSON WAY       NaN   \n",
       "\n",
       "       Town/city    District     Country PPD Category Records Status    month  \n",
       "0  TENBURY WELLS  SHROPSHIRE  SHROPSHIRE            A              A  2018_01  \n",
       "1    CRAVEN ARMS  SHROPSHIRE  SHROPSHIRE            A              A  2018_01  \n",
       "2     SHREWSBURY  SHROPSHIRE  SHROPSHIRE            A              A  2018_01  "
      ]
     },
     "execution_count": 27,
     "metadata": {},
     "output_type": "execute_result"
    }
   ],
   "source": [
    "df.head(3 )"
   ]
  },
  {
   "cell_type": "code",
   "execution_count": 30,
   "id": "7dda2b5f",
   "metadata": {},
   "outputs": [],
   "source": [
    "mon_sal =df[\"month\"].value_counts()"
   ]
  },
  {
   "cell_type": "code",
   "execution_count": 31,
   "id": "588a23b7",
   "metadata": {},
   "outputs": [
    {
     "name": "stdout",
     "output_type": "stream",
     "text": [
      "2018_08    95382\n",
      "2018_11    92427\n",
      "2018_06    90178\n",
      "2018_10    86892\n",
      "2018_07    83082\n",
      "2018_12    79754\n",
      "2018_03    78070\n",
      "2018_09    77836\n",
      "2018_05    76325\n",
      "2018_04    67094\n",
      "2018_02    66959\n",
      "2018_01    65004\n",
      "Name: month, dtype: int64\n"
     ]
    }
   ],
   "source": [
    "print(mon_sal)"
   ]
  },
  {
   "cell_type": "code",
   "execution_count": 32,
   "id": "bfb14f3c",
   "metadata": {},
   "outputs": [
    {
     "data": {
      "text/plain": [
       "pandas.core.series.Series"
      ]
     },
     "execution_count": 32,
     "metadata": {},
     "output_type": "execute_result"
    }
   ],
   "source": [
    "type(mon_sal)"
   ]
  },
  {
   "cell_type": "code",
   "execution_count": 33,
   "id": "38d4cb89",
   "metadata": {},
   "outputs": [],
   "source": [
    "mon_sal.sort_index(inplace=True) "
   ]
  },
  {
   "cell_type": "code",
   "execution_count": 34,
   "id": "2ba1c0dd",
   "metadata": {},
   "outputs": [
    {
     "data": {
      "text/plain": [
       "2018_01    65004\n",
       "2018_02    66959\n",
       "2018_03    78070\n",
       "2018_04    67094\n",
       "2018_05    76325\n",
       "2018_06    90178\n",
       "2018_07    83082\n",
       "2018_08    95382\n",
       "2018_09    77836\n",
       "2018_10    86892\n",
       "2018_11    92427\n",
       "2018_12    79754\n",
       "Name: month, dtype: int64"
      ]
     },
     "execution_count": 34,
     "metadata": {},
     "output_type": "execute_result"
    }
   ],
   "source": [
    "mon_sal"
   ]
  },
  {
   "cell_type": "code",
   "execution_count": 42,
   "id": "3bc4c8a7",
   "metadata": {},
   "outputs": [
    {
     "data": {
      "text/plain": [
       "Text(0.5, 1.0, 'Monthly sales in 2018')"
      ]
     },
     "execution_count": 42,
     "metadata": {},
     "output_type": "execute_result"
    },
    {
     "data": {
      "image/png": "[encoded data removed]",
      "text/plain": [
       "<Figure size 720x360 with 1 Axes>"
      ]
     },
     "metadata": {
      "needs_background": "light"
     },
     "output_type": "display_data"
    }
   ],
   "source": [
    "plt.rcParams['figure.figsize']=(10,5)\n",
    "#create the object to plot\n",
    "plt.plot(mon_sal)\n",
    "plt.xlabel(\"Month\")\n",
    "plt.ylabel(\"Total Number of sales\")\n",
    "plt.title(\"Monthly sales in 2018\")"
   ]
  },
  {
   "cell_type": "code",
   "execution_count": 43,
   "id": "9171672b",
   "metadata": {},
   "outputs": [],
   "source": [
    "#objective @: observe the daily sales volume in the month of july\n",
    "# daily sales volume for july 2018\n",
    "df =df[df[\"sale Date\"].dt.month==7]\n",
    "total_sales =df[\"sale Date\"].value_counts()"
   ]
  },
  {
   "cell_type": "code",
   "execution_count": 44,
   "id": "a00d68e9",
   "metadata": {},
   "outputs": [
    {
     "data": {
      "text/plain": [
       "2018-07-27    11145\n",
       "2018-07-20     8802\n",
       "2018-07-06     8400\n",
       "2018-07-13     6561\n",
       "2018-07-31     5047\n",
       "2018-07-12     3568\n",
       "2018-07-30     3429\n",
       "2018-07-26     2965\n",
       "2018-07-02     2931\n",
       "2018-07-16     2883\n",
       "2018-07-23     2742\n",
       "2018-07-25     2710\n",
       "2018-07-19     2571\n",
       "2018-07-18     2438\n",
       "2018-07-05     2358\n",
       "2018-07-09     2259\n",
       "2018-07-11     2165\n",
       "2018-07-24     2116\n",
       "2018-07-04     2064\n",
       "2018-07-10     1985\n",
       "2018-07-17     1933\n",
       "2018-07-03     1828\n",
       "2018-07-28       31\n",
       "2018-07-14       25\n",
       "2018-07-29       25\n",
       "2018-07-21       21\n",
       "2018-07-15       20\n",
       "2018-07-07       18\n",
       "2018-07-01       18\n",
       "2018-07-22       13\n",
       "2018-07-08       11\n",
       "Name: sale Date, dtype: int64"
      ]
     },
     "execution_count": 44,
     "metadata": {},
     "output_type": "execute_result"
    }
   ],
   "source": [
    "total_sales"
   ]
  },
  {
   "cell_type": "code",
   "execution_count": 47,
   "id": "539d6c9f",
   "metadata": {},
   "outputs": [],
   "source": [
    "total_sales.sort_index(inplace=True) "
   ]
  },
  {
   "cell_type": "code",
   "execution_count": 55,
   "id": "ec8e312e",
   "metadata": {},
   "outputs": [
    {
     "data": {
      "text/plain": [
       "Text(0.5, 1.0, 'sales of month of july in 2018')"
      ]
     },
     "execution_count": 55,
     "metadata": {},
     "output_type": "execute_result"
    },
    {
     "data": {
      "image/png": "[encoded data removed]",
      "text/plain": [
       "<Figure size 720x360 with 1 Axes>"
      ]
     },
     "metadata": {
      "needs_background": "light"
     },
     "output_type": "display_data"
    }
   ],
   "source": [
    "plt.rcParams['figure.figsize']=(10,5)\n",
    "#create the object to plot\n",
    "plt.plot(total_sales)\n",
    "plt.xlabel(\"Date\")\n",
    "plt.ylabel(\"Total Number of sales\")\n",
    "plt.title(\"sales of month of july in 2018\")"
   ]
  },
  {
   "cell_type": "code",
   "execution_count": 51,
   "id": "0a3cbced",
   "metadata": {},
   "outputs": [],
   "source": [
    "df.unstack?"
   ]
  },
  {
   "cell_type": "code",
   "execution_count": 56,
   "id": "259587ec",
   "metadata": {},
   "outputs": [],
   "source": [
    "daily_price = df.groupby(['sale Date','Property Type'])['sale Date'].count().unstack()"
   ]
  },
  {
   "cell_type": "code",
   "execution_count": 57,
   "id": "edc30e15",
   "metadata": {},
   "outputs": [
    {
     "data": {
      "text/html": [
       "<div>\n",
       "<style scoped>\n",
       "    .dataframe tbody tr th:only-of-type {\n",
       "        vertical-align: middle;\n",
       "    }\n",
       "\n",
       "    .dataframe tbody tr th {\n",
       "        vertical-align: top;\n",
       "    }\n",
       "\n",
       "    .dataframe thead th {\n",
       "        text-align: right;\n",
       "    }\n",
       "</style>\n",
       "<table border=\"1\" class=\"dataframe\">\n",
       "  <thead>\n",
       "    <tr style=\"text-align: right;\">\n",
       "      <th>Property Type</th>\n",
       "      <th>D</th>\n",
       "      <th>F</th>\n",
       "      <th>S</th>\n",
       "      <th>T</th>\n",
       "    </tr>\n",
       "    <tr>\n",
       "      <th>sale Date</th>\n",
       "      <th></th>\n",
       "      <th></th>\n",
       "      <th></th>\n",
       "      <th></th>\n",
       "    </tr>\n",
       "  </thead>\n",
       "  <tbody>\n",
       "    <tr>\n",
       "      <th>2018-07-01</th>\n",
       "      <td>4</td>\n",
       "      <td>2</td>\n",
       "      <td>7</td>\n",
       "      <td>5</td>\n",
       "    </tr>\n",
       "    <tr>\n",
       "      <th>2018-07-02</th>\n",
       "      <td>705</td>\n",
       "      <td>564</td>\n",
       "      <td>782</td>\n",
       "      <td>880</td>\n",
       "    </tr>\n",
       "    <tr>\n",
       "      <th>2018-07-03</th>\n",
       "      <td>443</td>\n",
       "      <td>426</td>\n",
       "      <td>436</td>\n",
       "      <td>523</td>\n",
       "    </tr>\n",
       "    <tr>\n",
       "      <th>2018-07-04</th>\n",
       "      <td>529</td>\n",
       "      <td>401</td>\n",
       "      <td>528</td>\n",
       "      <td>606</td>\n",
       "    </tr>\n",
       "    <tr>\n",
       "      <th>2018-07-05</th>\n",
       "      <td>623</td>\n",
       "      <td>453</td>\n",
       "      <td>614</td>\n",
       "      <td>668</td>\n",
       "    </tr>\n",
       "    <tr>\n",
       "      <th>2018-07-06</th>\n",
       "      <td>1955</td>\n",
       "      <td>1662</td>\n",
       "      <td>2422</td>\n",
       "      <td>2361</td>\n",
       "    </tr>\n",
       "    <tr>\n",
       "      <th>2018-07-07</th>\n",
       "      <td>7</td>\n",
       "      <td>6</td>\n",
       "      <td>2</td>\n",
       "      <td>3</td>\n",
       "    </tr>\n",
       "    <tr>\n",
       "      <th>2018-07-08</th>\n",
       "      <td>2</td>\n",
       "      <td>4</td>\n",
       "      <td>1</td>\n",
       "      <td>4</td>\n",
       "    </tr>\n",
       "    <tr>\n",
       "      <th>2018-07-09</th>\n",
       "      <td>498</td>\n",
       "      <td>447</td>\n",
       "      <td>638</td>\n",
       "      <td>676</td>\n",
       "    </tr>\n",
       "    <tr>\n",
       "      <th>2018-07-10</th>\n",
       "      <td>539</td>\n",
       "      <td>405</td>\n",
       "      <td>498</td>\n",
       "      <td>543</td>\n",
       "    </tr>\n",
       "    <tr>\n",
       "      <th>2018-07-11</th>\n",
       "      <td>544</td>\n",
       "      <td>416</td>\n",
       "      <td>633</td>\n",
       "      <td>572</td>\n",
       "    </tr>\n",
       "    <tr>\n",
       "      <th>2018-07-12</th>\n",
       "      <td>916</td>\n",
       "      <td>641</td>\n",
       "      <td>1000</td>\n",
       "      <td>1011</td>\n",
       "    </tr>\n",
       "    <tr>\n",
       "      <th>2018-07-13</th>\n",
       "      <td>1489</td>\n",
       "      <td>1211</td>\n",
       "      <td>1904</td>\n",
       "      <td>1957</td>\n",
       "    </tr>\n",
       "    <tr>\n",
       "      <th>2018-07-14</th>\n",
       "      <td>4</td>\n",
       "      <td>6</td>\n",
       "      <td>9</td>\n",
       "      <td>6</td>\n",
       "    </tr>\n",
       "    <tr>\n",
       "      <th>2018-07-15</th>\n",
       "      <td>4</td>\n",
       "      <td>3</td>\n",
       "      <td>5</td>\n",
       "      <td>8</td>\n",
       "    </tr>\n",
       "    <tr>\n",
       "      <th>2018-07-16</th>\n",
       "      <td>676</td>\n",
       "      <td>582</td>\n",
       "      <td>828</td>\n",
       "      <td>797</td>\n",
       "    </tr>\n",
       "    <tr>\n",
       "      <th>2018-07-17</th>\n",
       "      <td>526</td>\n",
       "      <td>379</td>\n",
       "      <td>499</td>\n",
       "      <td>529</td>\n",
       "    </tr>\n",
       "    <tr>\n",
       "      <th>2018-07-18</th>\n",
       "      <td>602</td>\n",
       "      <td>537</td>\n",
       "      <td>662</td>\n",
       "      <td>637</td>\n",
       "    </tr>\n",
       "    <tr>\n",
       "      <th>2018-07-19</th>\n",
       "      <td>717</td>\n",
       "      <td>462</td>\n",
       "      <td>699</td>\n",
       "      <td>693</td>\n",
       "    </tr>\n",
       "    <tr>\n",
       "      <th>2018-07-20</th>\n",
       "      <td>2017</td>\n",
       "      <td>1476</td>\n",
       "      <td>2626</td>\n",
       "      <td>2683</td>\n",
       "    </tr>\n",
       "    <tr>\n",
       "      <th>2018-07-21</th>\n",
       "      <td>3</td>\n",
       "      <td>7</td>\n",
       "      <td>8</td>\n",
       "      <td>3</td>\n",
       "    </tr>\n",
       "    <tr>\n",
       "      <th>2018-07-22</th>\n",
       "      <td>3</td>\n",
       "      <td>2</td>\n",
       "      <td>1</td>\n",
       "      <td>7</td>\n",
       "    </tr>\n",
       "    <tr>\n",
       "      <th>2018-07-23</th>\n",
       "      <td>631</td>\n",
       "      <td>516</td>\n",
       "      <td>788</td>\n",
       "      <td>807</td>\n",
       "    </tr>\n",
       "    <tr>\n",
       "      <th>2018-07-24</th>\n",
       "      <td>563</td>\n",
       "      <td>385</td>\n",
       "      <td>574</td>\n",
       "      <td>594</td>\n",
       "    </tr>\n",
       "    <tr>\n",
       "      <th>2018-07-25</th>\n",
       "      <td>646</td>\n",
       "      <td>542</td>\n",
       "      <td>732</td>\n",
       "      <td>790</td>\n",
       "    </tr>\n",
       "    <tr>\n",
       "      <th>2018-07-26</th>\n",
       "      <td>791</td>\n",
       "      <td>552</td>\n",
       "      <td>836</td>\n",
       "      <td>786</td>\n",
       "    </tr>\n",
       "    <tr>\n",
       "      <th>2018-07-27</th>\n",
       "      <td>2806</td>\n",
       "      <td>1825</td>\n",
       "      <td>3389</td>\n",
       "      <td>3125</td>\n",
       "    </tr>\n",
       "    <tr>\n",
       "      <th>2018-07-28</th>\n",
       "      <td>10</td>\n",
       "      <td>7</td>\n",
       "      <td>6</td>\n",
       "      <td>8</td>\n",
       "    </tr>\n",
       "    <tr>\n",
       "      <th>2018-07-29</th>\n",
       "      <td>6</td>\n",
       "      <td>7</td>\n",
       "      <td>4</td>\n",
       "      <td>8</td>\n",
       "    </tr>\n",
       "    <tr>\n",
       "      <th>2018-07-30</th>\n",
       "      <td>831</td>\n",
       "      <td>605</td>\n",
       "      <td>1017</td>\n",
       "      <td>976</td>\n",
       "    </tr>\n",
       "    <tr>\n",
       "      <th>2018-07-31</th>\n",
       "      <td>1316</td>\n",
       "      <td>1014</td>\n",
       "      <td>1353</td>\n",
       "      <td>1364</td>\n",
       "    </tr>\n",
       "  </tbody>\n",
       "</table>\n",
       "</div>"
      ],
      "text/plain": [
       "Property Type     D     F     S     T\n",
       "sale Date                            \n",
       "2018-07-01        4     2     7     5\n",
       "2018-07-02      705   564   782   880\n",
       "2018-07-03      443   426   436   523\n",
       "2018-07-04      529   401   528   606\n",
       "2018-07-05      623   453   614   668\n",
       "2018-07-06     1955  1662  2422  2361\n",
       "2018-07-07        7     6     2     3\n",
       "2018-07-08        2     4     1     4\n",
       "2018-07-09      498   447   638   676\n",
       "2018-07-10      539   405   498   543\n",
       "2018-07-11      544   416   633   572\n",
       "2018-07-12      916   641  1000  1011\n",
       "2018-07-13     1489  1211  1904  1957\n",
       "2018-07-14        4     6     9     6\n",
       "2018-07-15        4     3     5     8\n",
       "2018-07-16      676   582   828   797\n",
       "2018-07-17      526   379   499   529\n",
       "2018-07-18      602   537   662   637\n",
       "2018-07-19      717   462   699   693\n",
       "2018-07-20     2017  1476  2626  2683\n",
       "2018-07-21        3     7     8     3\n",
       "2018-07-22        3     2     1     7\n",
       "2018-07-23      631   516   788   807\n",
       "2018-07-24      563   385   574   594\n",
       "2018-07-25      646   542   732   790\n",
       "2018-07-26      791   552   836   786\n",
       "2018-07-27     2806  1825  3389  3125\n",
       "2018-07-28       10     7     6     8\n",
       "2018-07-29        6     7     4     8\n",
       "2018-07-30      831   605  1017   976\n",
       "2018-07-31     1316  1014  1353  1364"
      ]
     },
     "execution_count": 57,
     "metadata": {},
     "output_type": "execute_result"
    }
   ],
   "source": [
    "daily_price"
   ]
  },
  {
   "cell_type": "code",
   "execution_count": 60,
   "id": "302a4bb2",
   "metadata": {},
   "outputs": [
    {
     "data": {
      "text/plain": [
       "Text(0.5, 1.0, 'Average Daily sales of different property types in the month of july  2018')"
      ]
     },
     "execution_count": 60,
     "metadata": {},
     "output_type": "execute_result"
    },
    {
     "data": {
      "image/png": "[encoded data removed]",
      "text/plain": [
       "<Figure size 720x360 with 1 Axes>"
      ]
     },
     "metadata": {
      "needs_background": "light"
     },
     "output_type": "display_data"
    }
   ],
   "source": [
    "plt.plot(daily_price)\n",
    "plt.xlabel(\"Date\")\n",
    "plt.ylabel(\n",
    "    \"Number of sales\")\n",
    "plt.title(\"Average Daily sales of different property types in the month of july  2018\")"
   ]
  },
  {
   "cell_type": "code",
   "execution_count": 62,
   "id": "b9016462",
   "metadata": {},
   "outputs": [],
   "source": [
    "# creating a bar chart\n",
    "#number of residental property transactions in Aug 2018 by propert type\n",
    "sales_by_type =df[\"Property Type\"].value_counts()"
   ]
  },
  {
   "cell_type": "code",
   "execution_count": 63,
   "id": "f8da035f",
   "metadata": {},
   "outputs": [
    {
     "data": {
      "text/plain": [
       "T    23630\n",
       "S    23501\n",
       "D    20406\n",
       "F    15545\n",
       "Name: Property Type, dtype: int64"
      ]
     },
     "execution_count": 63,
     "metadata": {},
     "output_type": "execute_result"
    }
   ],
   "source": [
    "sales_by_type\n"
   ]
  },
  {
   "cell_type": "code",
   "execution_count": 67,
   "id": "4ec1b8e8",
   "metadata": {},
   "outputs": [
    {
     "data": {
      "text/plain": [
       "Text(0.5, 1.0, 'A sales of different property types   2018')"
      ]
     },
     "execution_count": 67,
     "metadata": {},
     "output_type": "execute_result"
    },
    {
     "data": {
      "image/png": "[encoded data removed]",
      "text/plain": [
       "<Figure size 720x360 with 1 Axes>"
      ]
     },
     "metadata": {
      "needs_background": "light"
     },
     "output_type": "display_data"
    }
   ],
   "source": [
    "sales_by_type.plot(kind=\"bar\")\n",
    "plt.xlabel(\"proprty type\")\n",
    "plt.ylabel(\n",
    "    \"Number of sales\")\n",
    "plt.title(\"A sales of different property types   2018\")"
   ]
  },
  {
   "cell_type": "code",
   "execution_count": null,
   "id": "92c7fb78",
   "metadata": {},
   "outputs": [],
   "source": [
    "# fourth observation\n"
   ]
  },
  {
   "cell_type": "code",
   "execution_count": 68,
   "id": "fb06be79",
   "metadata": {},
   "outputs": [],
   "source": [
    "#average house price for different property types in july\n",
    "avg_price = df.groupby(['Property Type'])['Price'].mean()"
   ]
  },
  {
   "cell_type": "code",
   "execution_count": 69,
   "id": "e160224d",
   "metadata": {},
   "outputs": [
    {
     "data": {
      "text/plain": [
       "Property Type\n",
       "D    420870.312359\n",
       "F    306578.147507\n",
       "S    260353.586613\n",
       "T    248855.367203\n",
       "Name: Price, dtype: float64"
      ]
     },
     "execution_count": 69,
     "metadata": {},
     "output_type": "execute_result"
    }
   ],
   "source": [
    "avg_price"
   ]
  },
  {
   "cell_type": "code",
   "execution_count": 70,
   "id": "b3ae46b5",
   "metadata": {},
   "outputs": [
    {
     "data": {
      "image/png": "[encoded data removed]",
      "text/plain": [
       "<Figure size 720x360 with 1 Axes>"
      ]
     },
     "metadata": {
      "needs_background": "light"
     },
     "output_type": "display_data"
    }
   ],
   "source": [
    "ax=avg_price.plot.bar(figsize=(10,5),fontsize=14)"
   ]
  },
  {
   "cell_type": "code",
   "execution_count": 72,
   "id": "8e9b95d5",
   "metadata": {},
   "outputs": [
    {
     "data": {
      "text/html": [
       "<div>\n",
       "<style scoped>\n",
       "    .dataframe tbody tr th:only-of-type {\n",
       "        vertical-align: middle;\n",
       "    }\n",
       "\n",
       "    .dataframe tbody tr th {\n",
       "        vertical-align: top;\n",
       "    }\n",
       "\n",
       "    .dataframe thead th {\n",
       "        text-align: right;\n",
       "    }\n",
       "</style>\n",
       "<table border=\"1\" class=\"dataframe\">\n",
       "  <thead>\n",
       "    <tr style=\"text-align: right;\">\n",
       "      <th></th>\n",
       "      <th>Price</th>\n",
       "    </tr>\n",
       "  </thead>\n",
       "  <tbody>\n",
       "    <tr>\n",
       "      <th>count</th>\n",
       "      <td>8.308200e+04</td>\n",
       "    </tr>\n",
       "    <tr>\n",
       "      <th>mean</th>\n",
       "      <td>3.051571e+05</td>\n",
       "    </tr>\n",
       "    <tr>\n",
       "      <th>std</th>\n",
       "      <td>3.309047e+05</td>\n",
       "    </tr>\n",
       "    <tr>\n",
       "      <th>min</th>\n",
       "      <td>1.000000e+00</td>\n",
       "    </tr>\n",
       "    <tr>\n",
       "      <th>25%</th>\n",
       "      <td>1.520000e+05</td>\n",
       "    </tr>\n",
       "    <tr>\n",
       "      <th>50%</th>\n",
       "      <td>2.350000e+05</td>\n",
       "    </tr>\n",
       "    <tr>\n",
       "      <th>75%</th>\n",
       "      <td>3.630000e+05</td>\n",
       "    </tr>\n",
       "    <tr>\n",
       "      <th>max</th>\n",
       "      <td>2.121000e+07</td>\n",
       "    </tr>\n",
       "  </tbody>\n",
       "</table>\n",
       "</div>"
      ],
      "text/plain": [
       "              Price\n",
       "count  8.308200e+04\n",
       "mean   3.051571e+05\n",
       "std    3.309047e+05\n",
       "min    1.000000e+00\n",
       "25%    1.520000e+05\n",
       "50%    2.350000e+05\n",
       "75%    3.630000e+05\n",
       "max    2.121000e+07"
      ]
     },
     "execution_count": 72,
     "metadata": {},
     "output_type": "execute_result"
    }
   ],
   "source": [
    "df.describe()"
   ]
  },
  {
   "cell_type": "code",
   "execution_count": 73,
   "id": "adba773c",
   "metadata": {},
   "outputs": [],
   "source": [
    "#box plot\n",
    "df_box=df.groupby(['sale Date','Property Type'])['sale Date'].count().unstack()"
   ]
  },
  {
   "cell_type": "code",
   "execution_count": 75,
   "id": "4a0c35a0",
   "metadata": {},
   "outputs": [
    {
     "data": {
      "text/plain": [
       "Text(0.5, 0, 'Property Type')"
      ]
     },
     "execution_count": 75,
     "metadata": {},
     "output_type": "execute_result"
    },
    {
     "data": {
      "image/png": "[encoded data removed]",
      "text/plain": [
       "<Figure size 720x360 with 1 Axes>"
      ]
     },
     "metadata": {
      "needs_background": "light"
     },
     "output_type": "display_data"
    }
   ],
   "source": [
    "df_box.plot(kind=\"box\")\n",
    "plt.title('House Price distribution by property Type')\n",
    "plt.ylabel('Daily average Prices')\n",
    "plt.xlabel('Property Type')"
   ]
  },
  {
   "cell_type": "code",
   "execution_count": null,
   "id": "cd76dd6b",
   "metadata": {},
   "outputs": [],
   "source": []
  }
 ],
 "metadata": {
  "kernelspec": {
   "display_name": "Python 3",
   "language": "python",
   "name": "python3"
  },
  "language_info": {
   "codemirror_mode": {
    "name": "ipython",
    "version": 3
   },
   "file_extension": ".py",
   "mimetype": "text/x-python",
   "name": "python",
   "nbconvert_exporter": "python",
   "pygments_lexer": "ipython3",
   "version": "3.8.8"
  }
 },
 "nbformat": 4,
 "nbformat_minor": 5
}
