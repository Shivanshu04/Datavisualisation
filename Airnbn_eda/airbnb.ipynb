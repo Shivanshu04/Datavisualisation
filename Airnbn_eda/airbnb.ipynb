{
 "cells": [
  {
   "cell_type": "code",
   "execution_count": 33,
   "metadata": {},
   "outputs": [],
   "source": [
    "#importing the all important libraries\n",
    "import numpy as np \n",
    "import pandas as pd \n",
    "import matplotlib.pyplot as plt \n",
    "%matplotlib inline\n",
    "import seaborn as sns"
   ]
  },
  {
   "cell_type": "code",
   "execution_count": 34,
   "metadata": {},
   "outputs": [],
   "source": [
    "#import the dataset\n",
    "df = pd.read_csv(\"E:\\Datavisualisation\\Datavisualisation\\Airnbn_eda\\Airbnb NYC 2019.csv\")"
   ]
  },
  {
   "cell_type": "code",
   "execution_count": 35,
   "metadata": {},
   "outputs": [],
   "source": [
    "#load the dataset\n",
    "# df"
   ]
  },
  {
   "cell_type": "code",
   "execution_count": 36,
   "metadata": {},
   "outputs": [
    {
     "data": {
      "text/html": [
       "<div>\n",
       "<style scoped>\n",
       "    .dataframe tbody tr th:only-of-type {\n",
       "        vertical-align: middle;\n",
       "    }\n",
       "\n",
       "    .dataframe tbody tr th {\n",
       "        vertical-align: top;\n",
       "    }\n",
       "\n",
       "    .dataframe thead th {\n",
       "        text-align: right;\n",
       "    }\n",
       "</style>\n",
       "<table border=\"1\" class=\"dataframe\">\n",
       "  <thead>\n",
       "    <tr style=\"text-align: right;\">\n",
       "      <th></th>\n",
       "      <th>id</th>\n",
       "      <th>name</th>\n",
       "      <th>host_id</th>\n",
       "      <th>host_name</th>\n",
       "      <th>neighbourhood_group</th>\n",
       "      <th>neighbourhood</th>\n",
       "      <th>latitude</th>\n",
       "      <th>longitude</th>\n",
       "      <th>room_type</th>\n",
       "      <th>price</th>\n",
       "      <th>minimum_nights</th>\n",
       "      <th>number_of_reviews</th>\n",
       "      <th>last_review</th>\n",
       "      <th>reviews_per_month</th>\n",
       "      <th>calculated_host_listings_count</th>\n",
       "      <th>availability_365</th>\n",
       "    </tr>\n",
       "  </thead>\n",
       "  <tbody>\n",
       "    <tr>\n",
       "      <th>0</th>\n",
       "      <td>2539</td>\n",
       "      <td>Clean &amp; quiet apt home by the park</td>\n",
       "      <td>2787</td>\n",
       "      <td>John</td>\n",
       "      <td>Brooklyn</td>\n",
       "      <td>Kensington</td>\n",
       "      <td>40.64749</td>\n",
       "      <td>-73.97237</td>\n",
       "      <td>Private room</td>\n",
       "      <td>149</td>\n",
       "      <td>1</td>\n",
       "      <td>9</td>\n",
       "      <td>2018-10-19</td>\n",
       "      <td>0.21</td>\n",
       "      <td>6</td>\n",
       "      <td>365</td>\n",
       "    </tr>\n",
       "    <tr>\n",
       "      <th>1</th>\n",
       "      <td>2595</td>\n",
       "      <td>Skylit Midtown Castle</td>\n",
       "      <td>2845</td>\n",
       "      <td>Jennifer</td>\n",
       "      <td>Manhattan</td>\n",
       "      <td>Midtown</td>\n",
       "      <td>40.75362</td>\n",
       "      <td>-73.98377</td>\n",
       "      <td>Entire home/apt</td>\n",
       "      <td>225</td>\n",
       "      <td>1</td>\n",
       "      <td>45</td>\n",
       "      <td>2019-05-21</td>\n",
       "      <td>0.38</td>\n",
       "      <td>2</td>\n",
       "      <td>355</td>\n",
       "    </tr>\n",
       "  </tbody>\n",
       "</table>\n",
       "</div>"
      ],
      "text/plain": [
       "     id                                name  host_id host_name  \\\n",
       "0  2539  Clean & quiet apt home by the park     2787      John   \n",
       "1  2595               Skylit Midtown Castle     2845  Jennifer   \n",
       "\n",
       "  neighbourhood_group neighbourhood  latitude  longitude        room_type  \\\n",
       "0            Brooklyn    Kensington  40.64749  -73.97237     Private room   \n",
       "1           Manhattan       Midtown  40.75362  -73.98377  Entire home/apt   \n",
       "\n",
       "   price  minimum_nights  number_of_reviews last_review  reviews_per_month  \\\n",
       "0    149               1                  9  2018-10-19               0.21   \n",
       "1    225               1                 45  2019-05-21               0.38   \n",
       "\n",
       "   calculated_host_listings_count  availability_365  \n",
       "0                               6               365  \n",
       "1                               2               355  "
      ]
     },
     "execution_count": 36,
     "metadata": {},
     "output_type": "execute_result"
    }
   ],
   "source": [
    "# print the 2 rows of data by using the head function\n",
    "df.head(2)"
   ]
  },
  {
   "cell_type": "code",
   "execution_count": 37,
   "metadata": {},
   "outputs": [
    {
     "data": {
      "text/plain": [
       "(48895, 16)"
      ]
     },
     "execution_count": 37,
     "metadata": {},
     "output_type": "execute_result"
    }
   ],
   "source": [
    "#to calculate the shape of the data fra\n",
    "df.shape"
   ]
  },
  {
   "cell_type": "code",
   "execution_count": 38,
   "metadata": {},
   "outputs": [
    {
     "name": "stdout",
     "output_type": "stream",
     "text": [
      "\u001b[1;31mSignature:\u001b[0m\n",
      "\u001b[0mdf\u001b[0m\u001b[1;33m.\u001b[0m\u001b[0minfo\u001b[0m\u001b[1;33m(\u001b[0m\u001b[1;33m\n",
      "\u001b[0m    \u001b[0mverbose\u001b[0m\u001b[1;33m:\u001b[0m \u001b[1;34m'Optional[bool]'\u001b[0m \u001b[1;33m=\u001b[0m \u001b[1;32mNone\u001b[0m\u001b[1;33m,\u001b[0m\u001b[1;33m\n",
      "\u001b[0m    \u001b[0mbuf\u001b[0m\u001b[1;33m:\u001b[0m \u001b[1;34m'Optional[IO[str]]'\u001b[0m \u001b[1;33m=\u001b[0m \u001b[1;32mNone\u001b[0m\u001b[1;33m,\u001b[0m\u001b[1;33m\n",
      "\u001b[0m    \u001b[0mmax_cols\u001b[0m\u001b[1;33m:\u001b[0m \u001b[1;34m'Optional[int]'\u001b[0m \u001b[1;33m=\u001b[0m \u001b[1;32mNone\u001b[0m\u001b[1;33m,\u001b[0m\u001b[1;33m\n",
      "\u001b[0m    \u001b[0mmemory_usage\u001b[0m\u001b[1;33m:\u001b[0m \u001b[1;34m'Optional[Union[bool, str]]'\u001b[0m \u001b[1;33m=\u001b[0m \u001b[1;32mNone\u001b[0m\u001b[1;33m,\u001b[0m\u001b[1;33m\n",
      "\u001b[0m    \u001b[0mshow_counts\u001b[0m\u001b[1;33m:\u001b[0m \u001b[1;34m'Optional[bool]'\u001b[0m \u001b[1;33m=\u001b[0m \u001b[1;32mNone\u001b[0m\u001b[1;33m,\u001b[0m\u001b[1;33m\n",
      "\u001b[0m    \u001b[0mnull_counts\u001b[0m\u001b[1;33m:\u001b[0m \u001b[1;34m'Optional[bool]'\u001b[0m \u001b[1;33m=\u001b[0m \u001b[1;32mNone\u001b[0m\u001b[1;33m,\u001b[0m\u001b[1;33m\n",
      "\u001b[0m\u001b[1;33m)\u001b[0m \u001b[1;33m->\u001b[0m \u001b[1;34m'None'\u001b[0m\u001b[1;33m\u001b[0m\u001b[1;33m\u001b[0m\u001b[0m\n",
      "\u001b[1;31mDocstring:\u001b[0m\n",
      "Print a concise summary of a DataFrame.\n",
      "\n",
      "This method prints information about a DataFrame including\n",
      "the index dtype and columns, non-null values and memory usage.\n",
      "\n",
      "Parameters\n",
      "----------\n",
      "data : DataFrame\n",
      "    DataFrame to print information about.\n",
      "verbose : bool, optional\n",
      "    Whether to print the full summary. By default, the setting in\n",
      "    ``pandas.options.display.max_info_columns`` is followed.\n",
      "buf : writable buffer, defaults to sys.stdout\n",
      "    Where to send the output. By default, the output is printed to\n",
      "    sys.stdout. Pass a writable buffer if you need to further process\n",
      "    the output.\n",
      "max_cols : int, optional\n",
      "    When to switch from the verbose to the truncated output. If the\n",
      "    DataFrame has more than `max_cols` columns, the truncated output\n",
      "    is used. By default, the setting in\n",
      "    ``pandas.options.display.max_info_columns`` is used.\n",
      "memory_usage : bool, str, optional\n",
      "    Specifies whether total memory usage of the DataFrame\n",
      "    elements (including the index) should be displayed. By default,\n",
      "    this follows the ``pandas.options.display.memory_usage`` setting.\n",
      "\n",
      "    True always show memory usage. False never shows memory usage.\n",
      "    A value of 'deep' is equivalent to \"True with deep introspection\".\n",
      "    Memory usage is shown in human-readable units (base-2\n",
      "    representation). Without deep introspection a memory estimation is\n",
      "    made based in column dtype and number of rows assuming values\n",
      "    consume the same memory amount for corresponding dtypes. With deep\n",
      "    memory introspection, a real memory usage calculation is performed\n",
      "    at the cost of computational resources.\n",
      "show_counts : bool, optional\n",
      "    Whether to show the non-null counts. By default, this is shown\n",
      "    only if the DataFrame is smaller than\n",
      "    ``pandas.options.display.max_info_rows`` and\n",
      "    ``pandas.options.display.max_info_columns``. A value of True always\n",
      "    shows the counts, and False never shows the counts.\n",
      "null_counts : bool, optional\n",
      "    .. deprecated:: 1.2.0\n",
      "        Use show_counts instead.\n",
      "\n",
      "Returns\n",
      "-------\n",
      "None\n",
      "    This method prints a summary of a DataFrame and returns None.\n",
      "\n",
      "See Also\n",
      "--------\n",
      "DataFrame.describe: Generate descriptive statistics of DataFrame\n",
      "    columns.\n",
      "DataFrame.memory_usage: Memory usage of DataFrame columns.\n",
      "\n",
      "Examples\n",
      "--------\n",
      ">>> int_values = [1, 2, 3, 4, 5]\n",
      ">>> text_values = ['alpha', 'beta', 'gamma', 'delta', 'epsilon']\n",
      ">>> float_values = [0.0, 0.25, 0.5, 0.75, 1.0]\n",
      ">>> df = pd.DataFrame({\"int_col\": int_values, \"text_col\": text_values,\n",
      "...                   \"float_col\": float_values})\n",
      ">>> df\n",
      "    int_col text_col  float_col\n",
      "0        1    alpha       0.00\n",
      "1        2     beta       0.25\n",
      "2        3    gamma       0.50\n",
      "3        4    delta       0.75\n",
      "4        5  epsilon       1.00\n",
      "\n",
      "Prints information of all columns:\n",
      "\n",
      ">>> df.info(verbose=True)\n",
      "<class 'pandas.core.frame.DataFrame'>\n",
      "RangeIndex: 5 entries, 0 to 4\n",
      "Data columns (total 3 columns):\n",
      " #   Column     Non-Null Count  Dtype\n",
      "---  ------     --------------  -----\n",
      " 0   int_col    5 non-null      int64\n",
      " 1   text_col   5 non-null      object\n",
      " 2   float_col  5 non-null      float64\n",
      "dtypes: float64(1), int64(1), object(1)\n",
      "memory usage: 248.0+ bytes\n",
      "\n",
      "Prints a summary of columns count and its dtypes but not per column\n",
      "information:\n",
      "\n",
      ">>> df.info(verbose=False)\n",
      "<class 'pandas.core.frame.DataFrame'>\n",
      "RangeIndex: 5 entries, 0 to 4\n",
      "Columns: 3 entries, int_col to float_col\n",
      "dtypes: float64(1), int64(1), object(1)\n",
      "memory usage: 248.0+ bytes\n",
      "\n",
      "Pipe output of DataFrame.info to buffer instead of sys.stdout, get\n",
      "buffer content and writes to a text file:\n",
      "\n",
      ">>> import io\n",
      ">>> buffer = io.StringIO()\n",
      ">>> df.info(buf=buffer)\n",
      ">>> s = buffer.getvalue()\n",
      ">>> with open(\"df_info.txt\", \"w\",\n",
      "...           encoding=\"utf-8\") as f:  # doctest: +SKIP\n",
      "...     f.write(s)\n",
      "260\n",
      "\n",
      "The `memory_usage` parameter allows deep introspection mode, specially\n",
      "useful for big DataFrames and fine-tune memory optimization:\n",
      "\n",
      ">>> random_strings_array = np.random.choice(['a', 'b', 'c'], 10 ** 6)\n",
      ">>> df = pd.DataFrame({\n",
      "...     'column_1': np.random.choice(['a', 'b', 'c'], 10 ** 6),\n",
      "...     'column_2': np.random.choice(['a', 'b', 'c'], 10 ** 6),\n",
      "...     'column_3': np.random.choice(['a', 'b', 'c'], 10 ** 6)\n",
      "... })\n",
      ">>> df.info()\n",
      "<class 'pandas.core.frame.DataFrame'>\n",
      "RangeIndex: 1000000 entries, 0 to 999999\n",
      "Data columns (total 3 columns):\n",
      " #   Column    Non-Null Count    Dtype\n",
      "---  ------    --------------    -----\n",
      " 0   column_1  1000000 non-null  object\n",
      " 1   column_2  1000000 non-null  object\n",
      " 2   column_3  1000000 non-null  object\n",
      "dtypes: object(3)\n",
      "memory usage: 22.9+ MB\n",
      "\n",
      ">>> df.info(memory_usage='deep')\n",
      "<class 'pandas.core.frame.DataFrame'>\n",
      "RangeIndex: 1000000 entries, 0 to 999999\n",
      "Data columns (total 3 columns):\n",
      " #   Column    Non-Null Count    Dtype\n",
      "---  ------    --------------    -----\n",
      " 0   column_1  1000000 non-null  object\n",
      " 1   column_2  1000000 non-null  object\n",
      " 2   column_3  1000000 non-null  object\n",
      "dtypes: object(3)\n",
      "memory usage: 165.9 MB\n",
      "\u001b[1;31mFile:\u001b[0m      e:\\anaconda\\lib\\site-packages\\pandas\\core\\frame.py\n",
      "\u001b[1;31mType:\u001b[0m      method\n"
     ]
    }
   ],
   "source": [
    "df.info?"
   ]
  },
  {
   "cell_type": "code",
   "execution_count": 39,
   "metadata": {},
   "outputs": [
    {
     "name": "stdout",
     "output_type": "stream",
     "text": [
      "<class 'pandas.core.frame.DataFrame'>\n",
      "RangeIndex: 48895 entries, 0 to 48894\n",
      "Data columns (total 16 columns):\n",
      " #   Column                          Non-Null Count  Dtype  \n",
      "---  ------                          --------------  -----  \n",
      " 0   id                              48895 non-null  int64  \n",
      " 1   name                            48879 non-null  object \n",
      " 2   host_id                         48895 non-null  int64  \n",
      " 3   host_name                       48874 non-null  object \n",
      " 4   neighbourhood_group             48895 non-null  object \n",
      " 5   neighbourhood                   48895 non-null  object \n",
      " 6   latitude                        48895 non-null  float64\n",
      " 7   longitude                       48895 non-null  float64\n",
      " 8   room_type                       48895 non-null  object \n",
      " 9   price                           48895 non-null  int64  \n",
      " 10  minimum_nights                  48895 non-null  int64  \n",
      " 11  number_of_reviews               48895 non-null  int64  \n",
      " 12  last_review                     38843 non-null  object \n",
      " 13  reviews_per_month               38843 non-null  float64\n",
      " 14  calculated_host_listings_count  48895 non-null  int64  \n",
      " 15  availability_365                48895 non-null  int64  \n",
      "dtypes: float64(3), int64(7), object(6)\n",
      "memory usage: 6.0+ MB\n"
     ]
    }
   ],
   "source": [
    "df.info(\"float\")"
   ]
  },
  {
   "cell_type": "code",
   "execution_count": 40,
   "metadata": {},
   "outputs": [
    {
     "data": {
      "text/html": [
       "<div>\n",
       "<style scoped>\n",
       "    .dataframe tbody tr th:only-of-type {\n",
       "        vertical-align: middle;\n",
       "    }\n",
       "\n",
       "    .dataframe tbody tr th {\n",
       "        vertical-align: top;\n",
       "    }\n",
       "\n",
       "    .dataframe thead th {\n",
       "        text-align: right;\n",
       "    }\n",
       "</style>\n",
       "<table border=\"1\" class=\"dataframe\">\n",
       "  <thead>\n",
       "    <tr style=\"text-align: right;\">\n",
       "      <th></th>\n",
       "      <th>id</th>\n",
       "      <th>host_id</th>\n",
       "      <th>latitude</th>\n",
       "      <th>longitude</th>\n",
       "      <th>price</th>\n",
       "      <th>minimum_nights</th>\n",
       "      <th>number_of_reviews</th>\n",
       "      <th>reviews_per_month</th>\n",
       "      <th>calculated_host_listings_count</th>\n",
       "      <th>availability_365</th>\n",
       "    </tr>\n",
       "  </thead>\n",
       "  <tbody>\n",
       "    <tr>\n",
       "      <th>count</th>\n",
       "      <td>4.889500e+04</td>\n",
       "      <td>4.889500e+04</td>\n",
       "      <td>48895.000000</td>\n",
       "      <td>48895.000000</td>\n",
       "      <td>48895.000000</td>\n",
       "      <td>48895.000000</td>\n",
       "      <td>48895.000000</td>\n",
       "      <td>38843.000000</td>\n",
       "      <td>48895.000000</td>\n",
       "      <td>48895.000000</td>\n",
       "    </tr>\n",
       "    <tr>\n",
       "      <th>mean</th>\n",
       "      <td>1.901714e+07</td>\n",
       "      <td>6.762001e+07</td>\n",
       "      <td>40.728949</td>\n",
       "      <td>-73.952170</td>\n",
       "      <td>152.720687</td>\n",
       "      <td>7.029962</td>\n",
       "      <td>23.274466</td>\n",
       "      <td>1.373221</td>\n",
       "      <td>7.143982</td>\n",
       "      <td>112.781327</td>\n",
       "    </tr>\n",
       "    <tr>\n",
       "      <th>std</th>\n",
       "      <td>1.098311e+07</td>\n",
       "      <td>7.861097e+07</td>\n",
       "      <td>0.054530</td>\n",
       "      <td>0.046157</td>\n",
       "      <td>240.154170</td>\n",
       "      <td>20.510550</td>\n",
       "      <td>44.550582</td>\n",
       "      <td>1.680442</td>\n",
       "      <td>32.952519</td>\n",
       "      <td>131.622289</td>\n",
       "    </tr>\n",
       "    <tr>\n",
       "      <th>min</th>\n",
       "      <td>2.539000e+03</td>\n",
       "      <td>2.438000e+03</td>\n",
       "      <td>40.499790</td>\n",
       "      <td>-74.244420</td>\n",
       "      <td>0.000000</td>\n",
       "      <td>1.000000</td>\n",
       "      <td>0.000000</td>\n",
       "      <td>0.010000</td>\n",
       "      <td>1.000000</td>\n",
       "      <td>0.000000</td>\n",
       "    </tr>\n",
       "    <tr>\n",
       "      <th>25%</th>\n",
       "      <td>9.471945e+06</td>\n",
       "      <td>7.822033e+06</td>\n",
       "      <td>40.690100</td>\n",
       "      <td>-73.983070</td>\n",
       "      <td>69.000000</td>\n",
       "      <td>1.000000</td>\n",
       "      <td>1.000000</td>\n",
       "      <td>0.190000</td>\n",
       "      <td>1.000000</td>\n",
       "      <td>0.000000</td>\n",
       "    </tr>\n",
       "    <tr>\n",
       "      <th>50%</th>\n",
       "      <td>1.967728e+07</td>\n",
       "      <td>3.079382e+07</td>\n",
       "      <td>40.723070</td>\n",
       "      <td>-73.955680</td>\n",
       "      <td>106.000000</td>\n",
       "      <td>3.000000</td>\n",
       "      <td>5.000000</td>\n",
       "      <td>0.720000</td>\n",
       "      <td>1.000000</td>\n",
       "      <td>45.000000</td>\n",
       "    </tr>\n",
       "    <tr>\n",
       "      <th>75%</th>\n",
       "      <td>2.915218e+07</td>\n",
       "      <td>1.074344e+08</td>\n",
       "      <td>40.763115</td>\n",
       "      <td>-73.936275</td>\n",
       "      <td>175.000000</td>\n",
       "      <td>5.000000</td>\n",
       "      <td>24.000000</td>\n",
       "      <td>2.020000</td>\n",
       "      <td>2.000000</td>\n",
       "      <td>227.000000</td>\n",
       "    </tr>\n",
       "    <tr>\n",
       "      <th>max</th>\n",
       "      <td>3.648724e+07</td>\n",
       "      <td>2.743213e+08</td>\n",
       "      <td>40.913060</td>\n",
       "      <td>-73.712990</td>\n",
       "      <td>10000.000000</td>\n",
       "      <td>1250.000000</td>\n",
       "      <td>629.000000</td>\n",
       "      <td>58.500000</td>\n",
       "      <td>327.000000</td>\n",
       "      <td>365.000000</td>\n",
       "    </tr>\n",
       "  </tbody>\n",
       "</table>\n",
       "</div>"
      ],
      "text/plain": [
       "                 id       host_id      latitude     longitude         price  \\\n",
       "count  4.889500e+04  4.889500e+04  48895.000000  48895.000000  48895.000000   \n",
       "mean   1.901714e+07  6.762001e+07     40.728949    -73.952170    152.720687   \n",
       "std    1.098311e+07  7.861097e+07      0.054530      0.046157    240.154170   \n",
       "min    2.539000e+03  2.438000e+03     40.499790    -74.244420      0.000000   \n",
       "25%    9.471945e+06  7.822033e+06     40.690100    -73.983070     69.000000   \n",
       "50%    1.967728e+07  3.079382e+07     40.723070    -73.955680    106.000000   \n",
       "75%    2.915218e+07  1.074344e+08     40.763115    -73.936275    175.000000   \n",
       "max    3.648724e+07  2.743213e+08     40.913060    -73.712990  10000.000000   \n",
       "\n",
       "       minimum_nights  number_of_reviews  reviews_per_month  \\\n",
       "count    48895.000000       48895.000000       38843.000000   \n",
       "mean         7.029962          23.274466           1.373221   \n",
       "std         20.510550          44.550582           1.680442   \n",
       "min          1.000000           0.000000           0.010000   \n",
       "25%          1.000000           1.000000           0.190000   \n",
       "50%          3.000000           5.000000           0.720000   \n",
       "75%          5.000000          24.000000           2.020000   \n",
       "max       1250.000000         629.000000          58.500000   \n",
       "\n",
       "       calculated_host_listings_count  availability_365  \n",
       "count                    48895.000000      48895.000000  \n",
       "mean                         7.143982        112.781327  \n",
       "std                         32.952519        131.622289  \n",
       "min                          1.000000          0.000000  \n",
       "25%                          1.000000          0.000000  \n",
       "50%                          1.000000         45.000000  \n",
       "75%                          2.000000        227.000000  \n",
       "max                        327.000000        365.000000  "
      ]
     },
     "execution_count": 40,
     "metadata": {},
     "output_type": "execute_result"
    }
   ],
   "source": [
    "df.describe()"
   ]
  },
  {
   "cell_type": "code",
   "execution_count": 41,
   "metadata": {},
   "outputs": [
    {
     "data": {
      "text/plain": [
       "48895"
      ]
     },
     "execution_count": 41,
     "metadata": {},
     "output_type": "execute_result"
    }
   ],
   "source": [
    "#checking the amount of rows in given data set to understand the size wea are working with\n",
    "len(df)"
   ]
  },
  {
   "cell_type": "code",
   "execution_count": 42,
   "metadata": {},
   "outputs": [
    {
     "data": {
      "text/plain": [
       "id                                  int64\n",
       "name                               object\n",
       "host_id                             int64\n",
       "host_name                          object\n",
       "neighbourhood_group                object\n",
       "neighbourhood                      object\n",
       "latitude                          float64\n",
       "longitude                         float64\n",
       "room_type                          object\n",
       "price                               int64\n",
       "minimum_nights                      int64\n",
       "number_of_reviews                   int64\n",
       "last_review                        object\n",
       "reviews_per_month                 float64\n",
       "calculated_host_listings_count      int64\n",
       "availability_365                    int64\n",
       "dtype: object"
      ]
     },
     "execution_count": 42,
     "metadata": {},
     "output_type": "execute_result"
    }
   ],
   "source": [
    "#check the type of every column in the dataset\n",
    "df.dtypes"
   ]
  },
  {
   "attachments": {},
   "cell_type": "markdown",
   "metadata": {},
   "source": [
    "After loading the dataset in and from the head of AB_2019_NYC dataset we can see a number of things. These 16 columns provide a very rich amount of information for deep data exploration we can do on this dataset. We do already see some missing values, which will require cleaning and handling of NaN values. Later, we may need to continue with mapping certain values to ones and zeros for predictive analytics."
   ]
  },
  {
   "attachments": {},
   "cell_type": "markdown",
   "metadata": {},
   "source": [
    "Understadning, Wrangling and Cleaning Data\n",
    "Presenting the code and methods for acquiring the data. Loading the data into appropriate format for analysis. Explaining the process and results"
   ]
  },
  {
   "cell_type": "code",
   "execution_count": 43,
   "metadata": {},
   "outputs": [
    {
     "data": {
      "text/plain": [
       "id                                    0\n",
       "name                                 16\n",
       "host_id                               0\n",
       "host_name                            21\n",
       "neighbourhood_group                   0\n",
       "neighbourhood                         0\n",
       "latitude                              0\n",
       "longitude                             0\n",
       "room_type                             0\n",
       "price                                 0\n",
       "minimum_nights                        0\n",
       "number_of_reviews                     0\n",
       "last_review                       10052\n",
       "reviews_per_month                 10052\n",
       "calculated_host_listings_count        0\n",
       "availability_365                      0\n",
       "dtype: int64"
      ]
     },
     "execution_count": 43,
     "metadata": {},
     "output_type": "execute_result"
    }
   ],
   "source": [
    "#after looking at the head of the dataset we already were able to notice some NaN values, therefore need to examine missing values further before continuing with analysis\n",
    "\n",
    "#looking to find out first what columns have null values\n",
    "#using 'sum' function will show us how many nulls are found in each column in dataset\n",
    "df.isnull().sum()"
   ]
  },
  {
   "cell_type": "code",
   "execution_count": 44,
   "metadata": {},
   "outputs": [],
   "source": [
    "# In our case, missing data that is observed does not need too much special treatment. \n",
    "# Looking into the nature of our dataset we can state further things: columns \"name\" and \"host_name\" are irrelevant and insignificant to our data analysis, columns \"last_review\" and \"review_per_month\" need very simple handling. To elaborate, \"last_review\" is date; if there were no reviews for the listing - date simply will not exist. \n",
    "# In our case, this column is irrelevant and insignificant therefore appending those values is not needed. For \"review_per_month\" column we can simply append it with 0.0 for missing values; we can see that in \"number_of_review\" that column will have a 0, therefore following this logic with 0 total reviews there will be 0.0 rate of reviews per month. \n",
    "# Therefore, let's proceed with removing columns that are not important and handling of missing data."
   ]
  },
  {
   "cell_type": "code",
   "execution_count": 45,
   "metadata": {},
   "outputs": [
    {
     "data": {
      "text/html": [
       "<div>\n",
       "<style scoped>\n",
       "    .dataframe tbody tr th:only-of-type {\n",
       "        vertical-align: middle;\n",
       "    }\n",
       "\n",
       "    .dataframe tbody tr th {\n",
       "        vertical-align: top;\n",
       "    }\n",
       "\n",
       "    .dataframe thead th {\n",
       "        text-align: right;\n",
       "    }\n",
       "</style>\n",
       "<table border=\"1\" class=\"dataframe\">\n",
       "  <thead>\n",
       "    <tr style=\"text-align: right;\">\n",
       "      <th></th>\n",
       "      <th>name</th>\n",
       "      <th>host_id</th>\n",
       "      <th>neighbourhood_group</th>\n",
       "      <th>neighbourhood</th>\n",
       "      <th>latitude</th>\n",
       "      <th>longitude</th>\n",
       "      <th>room_type</th>\n",
       "      <th>price</th>\n",
       "      <th>minimum_nights</th>\n",
       "      <th>number_of_reviews</th>\n",
       "      <th>reviews_per_month</th>\n",
       "      <th>calculated_host_listings_count</th>\n",
       "      <th>availability_365</th>\n",
       "    </tr>\n",
       "  </thead>\n",
       "  <tbody>\n",
       "    <tr>\n",
       "      <th>0</th>\n",
       "      <td>Clean &amp; quiet apt home by the park</td>\n",
       "      <td>2787</td>\n",
       "      <td>Brooklyn</td>\n",
       "      <td>Kensington</td>\n",
       "      <td>40.64749</td>\n",
       "      <td>-73.97237</td>\n",
       "      <td>Private room</td>\n",
       "      <td>149</td>\n",
       "      <td>1</td>\n",
       "      <td>9</td>\n",
       "      <td>0.21</td>\n",
       "      <td>6</td>\n",
       "      <td>365</td>\n",
       "    </tr>\n",
       "    <tr>\n",
       "      <th>1</th>\n",
       "      <td>Skylit Midtown Castle</td>\n",
       "      <td>2845</td>\n",
       "      <td>Manhattan</td>\n",
       "      <td>Midtown</td>\n",
       "      <td>40.75362</td>\n",
       "      <td>-73.98377</td>\n",
       "      <td>Entire home/apt</td>\n",
       "      <td>225</td>\n",
       "      <td>1</td>\n",
       "      <td>45</td>\n",
       "      <td>0.38</td>\n",
       "      <td>2</td>\n",
       "      <td>355</td>\n",
       "    </tr>\n",
       "    <tr>\n",
       "      <th>2</th>\n",
       "      <td>THE VILLAGE OF HARLEM....NEW YORK !</td>\n",
       "      <td>4632</td>\n",
       "      <td>Manhattan</td>\n",
       "      <td>Harlem</td>\n",
       "      <td>40.80902</td>\n",
       "      <td>-73.94190</td>\n",
       "      <td>Private room</td>\n",
       "      <td>150</td>\n",
       "      <td>3</td>\n",
       "      <td>0</td>\n",
       "      <td>NaN</td>\n",
       "      <td>1</td>\n",
       "      <td>365</td>\n",
       "    </tr>\n",
       "    <tr>\n",
       "      <th>3</th>\n",
       "      <td>Cozy Entire Floor of Brownstone</td>\n",
       "      <td>4869</td>\n",
       "      <td>Brooklyn</td>\n",
       "      <td>Clinton Hill</td>\n",
       "      <td>40.68514</td>\n",
       "      <td>-73.95976</td>\n",
       "      <td>Entire home/apt</td>\n",
       "      <td>89</td>\n",
       "      <td>1</td>\n",
       "      <td>270</td>\n",
       "      <td>4.64</td>\n",
       "      <td>1</td>\n",
       "      <td>194</td>\n",
       "    </tr>\n",
       "    <tr>\n",
       "      <th>4</th>\n",
       "      <td>Entire Apt: Spacious Studio/Loft by central park</td>\n",
       "      <td>7192</td>\n",
       "      <td>Manhattan</td>\n",
       "      <td>East Harlem</td>\n",
       "      <td>40.79851</td>\n",
       "      <td>-73.94399</td>\n",
       "      <td>Entire home/apt</td>\n",
       "      <td>80</td>\n",
       "      <td>10</td>\n",
       "      <td>9</td>\n",
       "      <td>0.10</td>\n",
       "      <td>1</td>\n",
       "      <td>0</td>\n",
       "    </tr>\n",
       "  </tbody>\n",
       "</table>\n",
       "</div>"
      ],
      "text/plain": [
       "                                               name  host_id  \\\n",
       "0                Clean & quiet apt home by the park     2787   \n",
       "1                             Skylit Midtown Castle     2845   \n",
       "2               THE VILLAGE OF HARLEM....NEW YORK !     4632   \n",
       "3                   Cozy Entire Floor of Brownstone     4869   \n",
       "4  Entire Apt: Spacious Studio/Loft by central park     7192   \n",
       "\n",
       "  neighbourhood_group neighbourhood  latitude  longitude        room_type  \\\n",
       "0            Brooklyn    Kensington  40.64749  -73.97237     Private room   \n",
       "1           Manhattan       Midtown  40.75362  -73.98377  Entire home/apt   \n",
       "2           Manhattan        Harlem  40.80902  -73.94190     Private room   \n",
       "3            Brooklyn  Clinton Hill  40.68514  -73.95976  Entire home/apt   \n",
       "4           Manhattan   East Harlem  40.79851  -73.94399  Entire home/apt   \n",
       "\n",
       "   price  minimum_nights  number_of_reviews  reviews_per_month  \\\n",
       "0    149               1                  9               0.21   \n",
       "1    225               1                 45               0.38   \n",
       "2    150               3                  0                NaN   \n",
       "3     89               1                270               4.64   \n",
       "4     80              10                  9               0.10   \n",
       "\n",
       "   calculated_host_listings_count  availability_365  \n",
       "0                               6               365  \n",
       "1                               2               355  \n",
       "2                               1               365  \n",
       "3                               1               194  \n",
       "4                               1                 0  "
      ]
     },
     "execution_count": 45,
     "metadata": {},
     "output_type": "execute_result"
    }
   ],
   "source": [
    "#dropping columns that are not significant or could be unethical to use for our future data exploration and predictions\n",
    "df.drop(['id','host_name','last_review'], axis=1, inplace=True)\n",
    "#examing the changes\n",
    "df.head()"
   ]
  },
  {
   "attachments": {},
   "cell_type": "markdown",
   "metadata": {},
   "source": [
    "Please note that we are dropping'host_name' not only because it is insignificant but also for ethical reasons. There should be no reasoning to continue data exploration and model training (which we will be doing later) towards specific individuals based on their names. Why is that? Those names are assigned to actual humans, also they present no security threat or military/governmental interest based on the nature of the dataset, therefore names are unimportant to us."
   ]
  },
  {
   "cell_type": "code",
   "execution_count": 46,
   "metadata": {},
   "outputs": [
    {
     "data": {
      "text/plain": [
       "0"
      ]
     },
     "execution_count": 46,
     "metadata": {},
     "output_type": "execute_result"
    }
   ],
   "source": [
    "df.fillna({'reviews_per_month':0},inplace=True)\n",
    "df.reviews_per_month.isnull().sum()"
   ]
  },
  {
   "cell_type": "code",
   "execution_count": 47,
   "metadata": {},
   "outputs": [
    {
     "data": {
      "text/plain": [
       "name                              16\n",
       "host_id                            0\n",
       "neighbourhood_group                0\n",
       "neighbourhood                      0\n",
       "latitude                           0\n",
       "longitude                          0\n",
       "room_type                          0\n",
       "price                              0\n",
       "minimum_nights                     0\n",
       "number_of_reviews                  0\n",
       "reviews_per_month                  0\n",
       "calculated_host_listings_count     0\n",
       "availability_365                   0\n",
       "dtype: int64"
      ]
     },
     "execution_count": 47,
     "metadata": {},
     "output_type": "execute_result"
    }
   ],
   "source": [
    "df.isnull().sum()"
   ]
  },
  {
   "cell_type": "code",
   "execution_count": 48,
   "metadata": {},
   "outputs": [
    {
     "data": {
      "text/plain": [
       "array(['Brooklyn', 'Manhattan', 'Queens', 'Staten Island', 'Bronx'],\n",
       "      dtype=object)"
      ]
     },
     "execution_count": 48,
     "metadata": {},
     "output_type": "execute_result"
    }
   ],
   "source": [
    "#let's proceed with examing some interesting categorical unique values\n",
    "\n",
    "#examining the unique values of n_group as this column will appear very handy for later analysis\n",
    "df.neighbourhood_group.unique()"
   ]
  },
  {
   "cell_type": "code",
   "execution_count": 49,
   "metadata": {},
   "outputs": [
    {
     "data": {
      "text/plain": [
       "Manhattan        21661\n",
       "Brooklyn         20104\n",
       "Queens            5666\n",
       "Bronx             1091\n",
       "Staten Island      373\n",
       "Name: neighbourhood_group, dtype: int64"
      ]
     },
     "execution_count": 49,
     "metadata": {},
     "output_type": "execute_result"
    }
   ],
   "source": [
    "df.neighbourhood_group.value_counts()"
   ]
  },
  {
   "cell_type": "code",
   "execution_count": 50,
   "metadata": {},
   "outputs": [
    {
     "name": "stderr",
     "output_type": "stream",
     "text": [
      "e:\\Anaconda\\lib\\site-packages\\seaborn\\_decorators.py:36: FutureWarning: Pass the following variable as a keyword arg: x. From version 0.12, the only valid positional argument will be `data`, and passing other arguments without an explicit keyword will result in an error or misinterpretation.\n",
      "  warnings.warn(\n"
     ]
    },
    {
     "data": {
      "text/plain": [
       "<AxesSubplot:xlabel='neighbourhood_group', ylabel='count'>"
      ]
     },
     "execution_count": 50,
     "metadata": {},
     "output_type": "execute_result"
    },
    {
     "data": {
      "image/png": "[encoded data removed]",
      "text/plain": [
       "<Figure size 432x288 with 1 Axes>"
      ]
     },
     "metadata": {
      "needs_background": "light"
     },
     "output_type": "display_data"
    }
   ],
   "source": [
    "sns.countplot(df.neighbourhood_group)"
   ]
  },
  {
   "cell_type": "code",
   "execution_count": 51,
   "metadata": {},
   "outputs": [
    {
     "data": {
      "text/plain": [
       "221"
      ]
     },
     "execution_count": 51,
     "metadata": {},
     "output_type": "execute_result"
    }
   ],
   "source": [
    "#examining the unique values of neighbourhood as this column will appear very handy for later analysis\n",
    "len(df.neighbourhood.unique())"
   ]
  },
  {
   "cell_type": "code",
   "execution_count": 53,
   "metadata": {},
   "outputs": [
    {
     "data": {
      "text/plain": [
       "array(['Private room', 'Entire home/apt', 'Shared room'], dtype=object)"
      ]
     },
     "execution_count": 53,
     "metadata": {},
     "output_type": "execute_result"
    }
   ],
   "source": [
    "#examining the unique values of room_type as this column will appear very handy for later analysis\n",
    "df.room_type.unique()"
   ]
  },
  {
   "cell_type": "code",
   "execution_count": 54,
   "metadata": {},
   "outputs": [
    {
     "data": {
      "text/plain": [
       "<AxesSubplot:>"
      ]
     },
     "execution_count": 54,
     "metadata": {},
     "output_type": "execute_result"
    },
    {
     "data": {
      "image/png": "[encoded data removed]",
      "text/plain": [
       "<Figure size 432x288 with 1 Axes>"
      ]
     },
     "metadata": {
      "needs_background": "light"
     },
     "output_type": "display_data"
    }
   ],
   "source": [
    "pd.value_counts(df['room_type']).plot(kind=\"bar\")"
   ]
  },
  {
   "cell_type": "code",
   "execution_count": 55,
   "metadata": {},
   "outputs": [
    {
     "name": "stderr",
     "output_type": "stream",
     "text": [
      "e:\\Anaconda\\lib\\site-packages\\seaborn\\_decorators.py:36: FutureWarning: Pass the following variable as a keyword arg: x. From version 0.12, the only valid positional argument will be `data`, and passing other arguments without an explicit keyword will result in an error or misinterpretation.\n",
      "  warnings.warn(\n"
     ]
    },
    {
     "data": {
      "text/plain": [
       "<AxesSubplot:xlabel='room_type', ylabel='count'>"
      ]
     },
     "execution_count": 55,
     "metadata": {},
     "output_type": "execute_result"
    },
    {
     "data": {
      "image/png": "[encoded data removed]",
      "text/plain": [
       "<Figure size 432x288 with 1 Axes>"
      ]
     },
     "metadata": {
      "needs_background": "light"
     },
     "output_type": "display_data"
    }
   ],
   "source": [
    "sns.countplot(df.room_type)"
   ]
  },
  {
   "attachments": {},
   "cell_type": "markdown",
   "metadata": {},
   "source": [
    "Understanding unique values and categorical data that we have in our dataset was the last step we had to do. It looks like for those columns' values we will be doing some mapping to prepare the dataset for predictive analysis\n",
    "\n",
    "\n",
    "Exploring and Visualizing Data\n",
    "\n",
    "\n",
    "Exploring the data by analyzing its statistics and visualizing the values of features and correlations between different features. Explaining the process and the results\n",
    "Now that we are ready for an exploration of our data, we can make a rule that we are going to be working from left to right. The reason some may prefer to do this is due to its set approach - some datasets have a big number of attributes, plus this way we will remember to explore each column individually to make sure we learn as much as we can about our dataset."
   ]
  },
  {
   "cell_type": "code",
   "execution_count": 56,
   "metadata": {},
   "outputs": [
    {
     "data": {
      "text/plain": [
       "219517861    327\n",
       "107434423    232\n",
       "30283594     121\n",
       "137358866    103\n",
       "16098958      96\n",
       "12243051      96\n",
       "61391963      91\n",
       "22541573      87\n",
       "200380610     65\n",
       "7503643       52\n",
       "Name: host_id, dtype: int64"
      ]
     },
     "execution_count": 56,
     "metadata": {},
     "output_type": "execute_result"
    }
   ],
   "source": [
    "#we will skip first column for now and begin from host_id\n",
    "\n",
    "#let's see what hosts (IDs) have the most listings on Airbnb platform and taking advantage of this service\n",
    "top_host=df.host_id.value_counts().head(10)\n",
    "top_host"
   ]
  },
  {
   "cell_type": "code",
   "execution_count": 57,
   "metadata": {},
   "outputs": [
    {
     "data": {
      "text/plain": [
       "0        6\n",
       "1        2\n",
       "2        1\n",
       "3        1\n",
       "4        1\n",
       "        ..\n",
       "48890    2\n",
       "48891    2\n",
       "48892    1\n",
       "48893    6\n",
       "48894    1\n",
       "Name: calculated_host_listings_count, Length: 48895, dtype: int64"
      ]
     },
     "execution_count": 57,
     "metadata": {},
     "output_type": "execute_result"
    }
   ],
   "source": [
    "df.calculated_host_listings_count"
   ]
  },
  {
   "cell_type": "code",
   "execution_count": 58,
   "metadata": {},
   "outputs": [
    {
     "data": {
      "text/plain": [
       "327"
      ]
     },
     "execution_count": 58,
     "metadata": {},
     "output_type": "execute_result"
    }
   ],
   "source": [
    "#coming back to our dataset we can confirm our fidnings with already existing column called 'calculated_host_listings_count'\n",
    "top_host_check=df.calculated_host_listings_count.max()\n",
    "top_host_check"
   ]
  },
  {
   "cell_type": "code",
   "execution_count": 59,
   "metadata": {},
   "outputs": [],
   "source": [
    "#setting figure size for future visualizations\n",
    "sns.set(rc={'figure.figsize':(10,8)})\n",
    "sns.set_style('white')"
   ]
  },
  {
   "cell_type": "code",
   "execution_count": 60,
   "metadata": {},
   "outputs": [
    {
     "data": {
      "text/html": [
       "<div>\n",
       "<style scoped>\n",
       "    .dataframe tbody tr th:only-of-type {\n",
       "        vertical-align: middle;\n",
       "    }\n",
       "\n",
       "    .dataframe tbody tr th {\n",
       "        vertical-align: top;\n",
       "    }\n",
       "\n",
       "    .dataframe thead th {\n",
       "        text-align: right;\n",
       "    }\n",
       "</style>\n",
       "<table border=\"1\" class=\"dataframe\">\n",
       "  <thead>\n",
       "    <tr style=\"text-align: right;\">\n",
       "      <th></th>\n",
       "      <th>Host_ID</th>\n",
       "      <th>P_Count</th>\n",
       "    </tr>\n",
       "  </thead>\n",
       "  <tbody>\n",
       "    <tr>\n",
       "      <th>0</th>\n",
       "      <td>219517861</td>\n",
       "      <td>327</td>\n",
       "    </tr>\n",
       "    <tr>\n",
       "      <th>1</th>\n",
       "      <td>107434423</td>\n",
       "      <td>232</td>\n",
       "    </tr>\n",
       "    <tr>\n",
       "      <th>2</th>\n",
       "      <td>30283594</td>\n",
       "      <td>121</td>\n",
       "    </tr>\n",
       "    <tr>\n",
       "      <th>3</th>\n",
       "      <td>137358866</td>\n",
       "      <td>103</td>\n",
       "    </tr>\n",
       "    <tr>\n",
       "      <th>4</th>\n",
       "      <td>16098958</td>\n",
       "      <td>96</td>\n",
       "    </tr>\n",
       "    <tr>\n",
       "      <th>5</th>\n",
       "      <td>12243051</td>\n",
       "      <td>96</td>\n",
       "    </tr>\n",
       "    <tr>\n",
       "      <th>6</th>\n",
       "      <td>61391963</td>\n",
       "      <td>91</td>\n",
       "    </tr>\n",
       "    <tr>\n",
       "      <th>7</th>\n",
       "      <td>22541573</td>\n",
       "      <td>87</td>\n",
       "    </tr>\n",
       "    <tr>\n",
       "      <th>8</th>\n",
       "      <td>200380610</td>\n",
       "      <td>65</td>\n",
       "    </tr>\n",
       "    <tr>\n",
       "      <th>9</th>\n",
       "      <td>7503643</td>\n",
       "      <td>52</td>\n",
       "    </tr>\n",
       "  </tbody>\n",
       "</table>\n",
       "</div>"
      ],
      "text/plain": [
       "     Host_ID  P_Count\n",
       "0  219517861      327\n",
       "1  107434423      232\n",
       "2   30283594      121\n",
       "3  137358866      103\n",
       "4   16098958       96\n",
       "5   12243051       96\n",
       "6   61391963       91\n",
       "7   22541573       87\n",
       "8  200380610       65\n",
       "9    7503643       52"
      ]
     },
     "execution_count": 60,
     "metadata": {},
     "output_type": "execute_result"
    }
   ],
   "source": [
    "top_host_df=pd.DataFrame(top_host)\n",
    "top_host_df.reset_index(inplace=True)\n",
    "top_host_df.rename(columns={'index':'Host_ID', 'host_id':'P_Count'}, inplace=True)\n",
    "top_host_df"
   ]
  },
  {
   "cell_type": "code",
   "execution_count": 61,
   "metadata": {},
   "outputs": [
    {
     "data": {
      "text/plain": [
       "[Text(0, 0, '7503643'),\n",
       " Text(1, 0, '12243051'),\n",
       " Text(2, 0, '16098958'),\n",
       " Text(3, 0, '22541573'),\n",
       " Text(4, 0, '30283594'),\n",
       " Text(5, 0, '61391963'),\n",
       " Text(6, 0, '107434423'),\n",
       " Text(7, 0, '137358866'),\n",
       " Text(8, 0, '200380610'),\n",
       " Text(9, 0, '219517861')]"
      ]
     },
     "execution_count": 61,
     "metadata": {},
     "output_type": "execute_result"
    },
    {
     "data": {
      "image/png": "[encoded data removed]",
      "text/plain": [
       "<Figure size 720x576 with 1 Axes>"
      ]
     },
     "metadata": {},
     "output_type": "display_data"
    }
   ],
   "source": [
    "viz_1=sns.barplot(x=\"Host_ID\", y=\"P_Count\", data=top_host_df,\n",
    "                 palette='Blues_d')\n",
    "viz_1.set_title('Hosts with the most listings in NYC')\n",
    "viz_1.set_ylabel('Count of listings')\n",
    "viz_1.set_xlabel('Host IDs')\n",
    "viz_1.set_xticklabels(viz_1.get_xticklabels(), rotation=45)"
   ]
  },
  {
   "attachments": {},
   "cell_type": "markdown",
   "metadata": {},
   "source": [
    "Interesting, we can see that there is a good distribution between top 10 hosts with the most listings. First host has more than 300+ listings."
   ]
  },
  {
   "cell_type": "code",
   "execution_count": 63,
   "metadata": {},
   "outputs": [],
   "source": [
    "#let's find out more about our neiberhoods presented 'Brooklyn', 'Manhattan', 'Queens', 'Staten Island', and 'Bronx'\n",
    "\n",
    "#Brooklyn\n",
    "sub_1=df.loc[df['neighbourhood_group'] == 'Brooklyn']\n",
    "price_sub1=sub_1[['price']]\n",
    "#Manhattan\n",
    "sub_2=df.loc[df['neighbourhood_group'] == 'Manhattan']\n",
    "price_sub2=sub_2[['price']]\n",
    "#Queens\n",
    "sub_3=df.loc[df['neighbourhood_group'] == 'Queens']\n",
    "price_sub3=sub_3[['price']]\n",
    "#Staten Island\n",
    "sub_4=df.loc[df['neighbourhood_group'] == 'Staten Island']\n",
    "price_sub4=sub_4[['price']]\n",
    "#Bronx\n",
    "sub_5=df.loc[df['neighbourhood_group'] == 'Bronx']\n",
    "price_sub5=sub_5[['price']]\n",
    "#putting all the prices' dfs in the list\n",
    "price_list_by_n=[price_sub1, price_sub2, price_sub3, price_sub4, price_sub5]"
   ]
  },
  {
   "cell_type": "code",
   "execution_count": 64,
   "metadata": {},
   "outputs": [
    {
     "data": {
      "text/html": [
       "<div>\n",
       "<style scoped>\n",
       "    .dataframe tbody tr th:only-of-type {\n",
       "        vertical-align: middle;\n",
       "    }\n",
       "\n",
       "    .dataframe tbody tr th {\n",
       "        vertical-align: top;\n",
       "    }\n",
       "\n",
       "    .dataframe thead th {\n",
       "        text-align: right;\n",
       "    }\n",
       "</style>\n",
       "<table border=\"1\" class=\"dataframe\">\n",
       "  <thead>\n",
       "    <tr style=\"text-align: right;\">\n",
       "      <th></th>\n",
       "      <th>Brooklyn</th>\n",
       "      <th>Manhattan</th>\n",
       "      <th>Queens</th>\n",
       "      <th>Staten Island</th>\n",
       "      <th>Bronx</th>\n",
       "    </tr>\n",
       "    <tr>\n",
       "      <th>Stats</th>\n",
       "      <th></th>\n",
       "      <th></th>\n",
       "      <th></th>\n",
       "      <th></th>\n",
       "      <th></th>\n",
       "    </tr>\n",
       "  </thead>\n",
       "  <tbody>\n",
       "    <tr>\n",
       "      <th>min</th>\n",
       "      <td>0.0</td>\n",
       "      <td>0.0</td>\n",
       "      <td>10.0</td>\n",
       "      <td>13.0</td>\n",
       "      <td>0.0</td>\n",
       "    </tr>\n",
       "    <tr>\n",
       "      <th>25%</th>\n",
       "      <td>60.0</td>\n",
       "      <td>95.0</td>\n",
       "      <td>50.0</td>\n",
       "      <td>50.0</td>\n",
       "      <td>45.0</td>\n",
       "    </tr>\n",
       "    <tr>\n",
       "      <th>50%</th>\n",
       "      <td>90.0</td>\n",
       "      <td>150.0</td>\n",
       "      <td>75.0</td>\n",
       "      <td>75.0</td>\n",
       "      <td>65.0</td>\n",
       "    </tr>\n",
       "    <tr>\n",
       "      <th>75%</th>\n",
       "      <td>150.0</td>\n",
       "      <td>220.0</td>\n",
       "      <td>110.0</td>\n",
       "      <td>110.0</td>\n",
       "      <td>99.0</td>\n",
       "    </tr>\n",
       "    <tr>\n",
       "      <th>max</th>\n",
       "      <td>10000.0</td>\n",
       "      <td>10000.0</td>\n",
       "      <td>10000.0</td>\n",
       "      <td>5000.0</td>\n",
       "      <td>2500.0</td>\n",
       "    </tr>\n",
       "  </tbody>\n",
       "</table>\n",
       "</div>"
      ],
      "text/plain": [
       "       Brooklyn  Manhattan   Queens  Staten Island   Bronx\n",
       "Stats                                                     \n",
       "min         0.0        0.0     10.0           13.0     0.0\n",
       "25%        60.0       95.0     50.0           50.0    45.0\n",
       "50%        90.0      150.0     75.0           75.0    65.0\n",
       "75%       150.0      220.0    110.0          110.0    99.0\n",
       "max     10000.0    10000.0  10000.0         5000.0  2500.0"
      ]
     },
     "execution_count": 64,
     "metadata": {},
     "output_type": "execute_result"
    }
   ],
   "source": [
    "#creating an empty list that we will append later with price distributions for each neighbourhood_group\n",
    "p_l_b_n_2=[]\n",
    "#creating list with known values in neighbourhood_group column\n",
    "nei_list=['Brooklyn', 'Manhattan', 'Queens', 'Staten Island', 'Bronx']\n",
    "#creating a for loop to get statistics for price ranges and append it to our empty list\n",
    "for x in price_list_by_n:\n",
    "    i=x.describe(percentiles=[.25, .50, .75])\n",
    "    i=i.iloc[3:]\n",
    "    i.reset_index(inplace=True)\n",
    "    i.rename(columns={'index':'Stats'}, inplace=True)\n",
    "    p_l_b_n_2.append(i)\n",
    "#changing names of the price column to the area name for easier reading of the table    \n",
    "p_l_b_n_2[0].rename(columns={'price':nei_list[0]}, inplace=True)\n",
    "p_l_b_n_2[1].rename(columns={'price':nei_list[1]}, inplace=True)\n",
    "p_l_b_n_2[2].rename(columns={'price':nei_list[2]}, inplace=True)\n",
    "p_l_b_n_2[3].rename(columns={'price':nei_list[3]}, inplace=True)\n",
    "p_l_b_n_2[4].rename(columns={'price':nei_list[4]}, inplace=True)\n",
    "#finilizing our dataframe for final view    \n",
    "stat_df=p_l_b_n_2\n",
    "stat_df=[df.set_index('Stats') for df in stat_df]\n",
    "stat_df=stat_df[0].join(stat_df[1:])\n",
    "stat_df"
   ]
  },
  {
   "cell_type": "code",
   "execution_count": 65,
   "metadata": {},
   "outputs": [
    {
     "data": {
      "text/plain": [
       "Text(0.5, 1.0, 'Density and distribution of prices for each neighberhood_group')"
      ]
     },
     "execution_count": 65,
     "metadata": {},
     "output_type": "execute_result"
    },
    {
     "data": {
      "image/png": "[encoded data removed]",
      "text/plain": [
       "<Figure size 720x576 with 1 Axes>"
      ]
     },
     "metadata": {},
     "output_type": "display_data"
    }
   ],
   "source": [
    "#we can see from our statistical table that we have some extreme values, \n",
    "# therefore we need to remove them for the sake of a better visualization\n",
    "\n",
    "#creating a sub-dataframe with no extreme values / less than 500\n",
    "sub_6=df[df.price < 500]\n",
    "#using violinplot to showcase density and distribtuion of prices \n",
    "viz_2=sns.violinplot(data=sub_6, x='neighbourhood_group', y='price')\n",
    "viz_2.set_title('Density and distribution of prices for each neighberhood_group')"
   ]
  },
  {
   "attachments": {},
   "cell_type": "markdown",
   "metadata": {},
   "source": [
    "Great, with a statistical table and a violin plot we can definitely observe a couple of things about distribution of prices for Airbnb in NYC boroughs. First, we can state that Manhattan has the highest range of prices for the listings with \\\\$150 price as average observation, followed by Brooklyn with \\\\$90 per night. Queens and Staten Island appear to have very similar distributions, Bronx is the cheapest of them all. This distribution and density of prices were completely expected; for example, as it is no secret that Manhattan is one of the most expensive places in the world to live in, where Bronx on other hand appears to have lower standards of living."
   ]
  },
  {
   "cell_type": "code",
   "execution_count": 66,
   "metadata": {},
   "outputs": [
    {
     "data": {
      "image/png": "[encoded data removed]",
      "text/plain": [
       "<Figure size 1205.8x360 with 3 Axes>"
      ]
     },
     "metadata": {},
     "output_type": "display_data"
    }
   ],
   "source": [
    "#let's now combine this with our boroughs and room type for a rich visualization we can make\n",
    "\n",
    "#grabbing top 10 neighbourhoods for sub-dataframe\n",
    "sub_7=df.loc[df['neighbourhood'].isin(['Williamsburg','Bedford-Stuyvesant','Harlem','Bushwick',\n",
    "                 'Upper West Side','Hell\\'s Kitchen','East Village','Upper East Side','Crown Heights','Midtown'])]\n",
    "#using catplot to represent multiple interesting attributes together and a count\n",
    "viz_3=sns.catplot(x='neighbourhood', hue='neighbourhood_group', col='room_type', data=sub_7, kind='count')"
   ]
  },
  {
   "attachments": {},
   "cell_type": "markdown",
   "metadata": {},
   "source": [
    "Amazing, but let' breakdown on what we can see from this plot. First, we can see that our plot consists of 3 subplots - that is the power of using catplot; with such output, we can easily proceed with comparing distributions among interesting attributes. Y and X axes stay exactly the same for each subplot, Y-axis represents a count of observations and X-axis observations we want to count. However, there are 2 more important elements: column and hue; those 2 differentiate subplots. After we specify the column and determined hue we are able to observe and compare our Y and X axes among specified column as well as color-coded. So, what do we learn from this? The observation that is definitely contrasted the most is that 'Shared room' type Airbnb listing is barely available among 10 most listing-populated neighborhoods. Then, we can see that for these 10 neighborhoods only 2 boroughs are represented: Manhattan and Brooklyn; that was somewhat expected as Manhattan and Brooklyn are one of the most traveled destinations, therefore would have the most listing availability. We can also observe that Bedford-Stuyvesant and Williamsburg are the most popular for Manhattan borough, and Harlem for Brooklyn."
   ]
  },
  {
   "cell_type": "code",
   "execution_count": 68,
   "metadata": {},
   "outputs": [],
   "source": [
    "#let's comeback now to the 'name' column as it will require litte bit more coding and continue to analyze it!\n",
    "\n",
    "#initializing empty list where we are going to put our name strings\n",
    "_names_=[]\n",
    "#getting name strings from the column and appending it to the list\n",
    "for name in df.name:\n",
    "    _names_.append(name)\n",
    "#setting a function that will split those name strings into separate words   \n",
    "def split_name(name):\n",
    "    spl=str(name).split()\n",
    "    return spl\n",
    "#initializing empty list where we are going to have words counted\n",
    "_names_for_count_=[]\n",
    "#getting name string from our list and using split function, later appending to list above\n",
    "for x in _names_:\n",
    "    for word in split_name(x):\n",
    "        word=word.lower()\n",
    "        _names_for_count_.append(word)"
   ]
  },
  {
   "cell_type": "code",
   "execution_count": 69,
   "metadata": {},
   "outputs": [],
   "source": [
    "#we are going to use counter\n",
    "from collections import Counter\n",
    "#let's see top 25 used words by host to name their listing\n",
    "_top_25_w=Counter(_names_for_count_).most_common()\n",
    "_top_25_w=_top_25_w[0:25]"
   ]
  },
  {
   "cell_type": "code",
   "execution_count": 70,
   "metadata": {},
   "outputs": [],
   "source": [
    "#now let's put our findings in dataframe for further visualizations\n",
    "sub_w=pd.DataFrame(_top_25_w)\n",
    "sub_w.rename(columns={0:'Words', 1:'Count'}, inplace=True)"
   ]
  },
  {
   "cell_type": "code",
   "execution_count": 71,
   "metadata": {},
   "outputs": [
    {
     "data": {
      "text/plain": [
       "[Text(0, 0, 'in'),\n",
       " Text(1, 0, 'room'),\n",
       " Text(2, 0, 'bedroom'),\n",
       " Text(3, 0, 'private'),\n",
       " Text(4, 0, 'apartment'),\n",
       " Text(5, 0, 'cozy'),\n",
       " Text(6, 0, 'the'),\n",
       " Text(7, 0, 'to'),\n",
       " Text(8, 0, 'studio'),\n",
       " Text(9, 0, 'brooklyn'),\n",
       " Text(10, 0, 'apt'),\n",
       " Text(11, 0, 'spacious'),\n",
       " Text(12, 0, '1'),\n",
       " Text(13, 0, 'with'),\n",
       " Text(14, 0, '2'),\n",
       " Text(15, 0, 'of'),\n",
       " Text(16, 0, 'east'),\n",
       " Text(17, 0, 'and'),\n",
       " Text(18, 0, 'manhattan'),\n",
       " Text(19, 0, '&'),\n",
       " Text(20, 0, 'park'),\n",
       " Text(21, 0, 'sunny'),\n",
       " Text(22, 0, 'beautiful'),\n",
       " Text(23, 0, 'near'),\n",
       " Text(24, 0, 'williamsburg')]"
      ]
     },
     "execution_count": 71,
     "metadata": {},
     "output_type": "execute_result"
    },
    {
     "data": {
      "image/png": "[encoded data removed]",
      "text/plain": [
       "<Figure size 720x576 with 1 Axes>"
      ]
     },
     "metadata": {},
     "output_type": "display_data"
    }
   ],
   "source": [
    "#we are going to use barplot for this visualization\n",
    "viz_5=sns.barplot(x='Words', y='Count', data=sub_w)\n",
    "viz_5.set_title('Counts of the top 25 used words for listing names')\n",
    "viz_5.set_ylabel('Count of words')\n",
    "viz_5.set_xlabel('Words')\n",
    "viz_5.set_xticklabels(viz_5.get_xticklabels(), rotation=80)"
   ]
  },
  {
   "attachments": {},
   "cell_type": "markdown",
   "metadata": {},
   "source": [
    "We can observe that finding out and going over top 25 used listings' name words - we are able to see one clear trend. It shows that hosts are simply describing their listing in a short form with very specific terms for easier search by a potential traveler. Such words are 'room', 'bedroom', 'private', 'apartment', 'studio'. This shows that there are no catchphrases or 'popular/trending' terms that are used for names; hosts use very simple terms describing the space and the area where the listing is. This technique was somewhat expected as dealing with multilingual customers can be tricky and you definitely want to describe your space in a concise and understood form as much as possible."
   ]
  }
 ],
 "metadata": {
  "kernelspec": {
   "display_name": "Python 3",
   "language": "python",
   "name": "python3"
  },
  "language_info": {
   "codemirror_mode": {
    "name": "ipython",
    "version": 3
   },
   "file_extension": ".py",
   "mimetype": "text/x-python",
   "name": "python",
   "nbconvert_exporter": "python",
   "pygments_lexer": "ipython3",
   "version": "3.8.8"
  },
  "orig_nbformat": 4
 },
 "nbformat": 4,
 "nbformat_minor": 2
}
